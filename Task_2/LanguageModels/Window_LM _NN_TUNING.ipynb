{
 "cells": [
  {
   "cell_type": "markdown",
   "metadata": {},
   "source": [
    "# Task 2 (Detecting depressed subjects)\n",
    "### Using contextualized language models"
   ]
  },
  {
   "cell_type": "code",
   "execution_count": 1,
   "metadata": {},
   "outputs": [],
   "source": [
    "P_FILE = \"../posts.csv\"\n",
    "TRAIN_TOKEN=\"../train_df.csv\"\n",
    "TEST_TOKEN=\"../test_df.csv\"\n",
    "GENERAL_MODELS=\"../Models\"\n",
    "ROLLING_WINDOW_SIZE=10\n",
    "LM_MODEL=\"all-mpnet-base-v2\"#'all-MiniLM-L6-v2'\n",
    "CONVERTED=True\n",
    "max_lengths={1:64,3:128,5:256,10:512}\n",
    "MODEL_PATH =f\"{GENERAL_MODELS}/LM/NN_win_{ROLLING_WINDOW_SIZE}\" \n",
    "\n"
   ]
  },
  {
   "cell_type": "code",
   "execution_count": 2,
   "metadata": {},
   "outputs": [],
   "source": [
    "from pathlib import Path\n",
    "Path(MODEL_PATH).mkdir(parents=True, exist_ok=True)"
   ]
  },
  {
   "cell_type": "markdown",
   "metadata": {},
   "source": [
    "### opening resulting dataset with pandas"
   ]
  },
  {
   "cell_type": "code",
   "execution_count": 3,
   "metadata": {},
   "outputs": [
    {
     "data": {
      "text/html": [
       "<div>\n",
       "<style scoped>\n",
       "    .dataframe tbody tr th:only-of-type {\n",
       "        vertical-align: middle;\n",
       "    }\n",
       "\n",
       "    .dataframe tbody tr th {\n",
       "        vertical-align: top;\n",
       "    }\n",
       "\n",
       "    .dataframe thead th {\n",
       "        text-align: right;\n",
       "    }\n",
       "</style>\n",
       "<table border=\"1\" class=\"dataframe\">\n",
       "  <thead>\n",
       "    <tr style=\"text-align: right;\">\n",
       "      <th></th>\n",
       "      <th>User</th>\n",
       "      <th>Window_id</th>\n",
       "      <th>Text</th>\n",
       "      <th>Label</th>\n",
       "      <th>polarity</th>\n",
       "      <th>subjectivity</th>\n",
       "      <th>negativity</th>\n",
       "      <th>positivity</th>\n",
       "      <th>neutrality</th>\n",
       "      <th>compound</th>\n",
       "    </tr>\n",
       "  </thead>\n",
       "  <tbody>\n",
       "    <tr>\n",
       "      <th>0</th>\n",
       "      <td>test_subject1345</td>\n",
       "      <td>0</td>\n",
       "      <td>so many unwanted smith fadeaways. mid range j...</td>\n",
       "      <td>1</td>\n",
       "      <td>0.663051</td>\n",
       "      <td>0.516980</td>\n",
       "      <td>0.053</td>\n",
       "      <td>0.145</td>\n",
       "      <td>0.802</td>\n",
       "      <td>0.98315</td>\n",
       "    </tr>\n",
       "    <tr>\n",
       "      <th>1</th>\n",
       "      <td>test_subject1345</td>\n",
       "      <td>1</td>\n",
       "      <td>mid range jumpers hey guys, celtics fan here p...</td>\n",
       "      <td>1</td>\n",
       "      <td>0.650092</td>\n",
       "      <td>0.517633</td>\n",
       "      <td>0.048</td>\n",
       "      <td>0.147</td>\n",
       "      <td>0.805</td>\n",
       "      <td>0.98440</td>\n",
       "    </tr>\n",
       "    <tr>\n",
       "      <th>2</th>\n",
       "      <td>test_subject1345</td>\n",
       "      <td>2</td>\n",
       "      <td>well he got number tonight so maybe he will b...</td>\n",
       "      <td>1</td>\n",
       "      <td>0.588214</td>\n",
       "      <td>0.594881</td>\n",
       "      <td>0.082</td>\n",
       "      <td>0.121</td>\n",
       "      <td>0.797</td>\n",
       "      <td>0.75595</td>\n",
       "    </tr>\n",
       "    <tr>\n",
       "      <th>3</th>\n",
       "      <td>test_subject1345</td>\n",
       "      <td>3</td>\n",
       "      <td>i mean he will get pinch hits and an occasion...</td>\n",
       "      <td>1</td>\n",
       "      <td>0.573929</td>\n",
       "      <td>0.588929</td>\n",
       "      <td>0.088</td>\n",
       "      <td>0.107</td>\n",
       "      <td>0.805</td>\n",
       "      <td>0.60815</td>\n",
       "    </tr>\n",
       "    <tr>\n",
       "      <th>4</th>\n",
       "      <td>test_subject1345</td>\n",
       "      <td>4</td>\n",
       "      <td>yeah you are probably right. oh well.  i gues...</td>\n",
       "      <td>1</td>\n",
       "      <td>0.626531</td>\n",
       "      <td>0.626531</td>\n",
       "      <td>0.091</td>\n",
       "      <td>0.118</td>\n",
       "      <td>0.792</td>\n",
       "      <td>0.63660</td>\n",
       "    </tr>\n",
       "    <tr>\n",
       "      <th>...</th>\n",
       "      <td>...</td>\n",
       "      <td>...</td>\n",
       "      <td>...</td>\n",
       "      <td>...</td>\n",
       "      <td>...</td>\n",
       "      <td>...</td>\n",
       "      <td>...</td>\n",
       "      <td>...</td>\n",
       "      <td>...</td>\n",
       "      <td>...</td>\n",
       "    </tr>\n",
       "    <tr>\n",
       "      <th>174168</th>\n",
       "      <td>subject9959</td>\n",
       "      <td>627</td>\n",
       "      <td>nothing like that clean house feeling  there i...</td>\n",
       "      <td>0</td>\n",
       "      <td>0.834343</td>\n",
       "      <td>0.551515</td>\n",
       "      <td>0.097</td>\n",
       "      <td>0.033</td>\n",
       "      <td>0.869</td>\n",
       "      <td>0.28280</td>\n",
       "    </tr>\n",
       "    <tr>\n",
       "      <th>174169</th>\n",
       "      <td>subject9959</td>\n",
       "      <td>628</td>\n",
       "      <td>there is always that one coworker...  there is...</td>\n",
       "      <td>0</td>\n",
       "      <td>0.818182</td>\n",
       "      <td>0.477273</td>\n",
       "      <td>0.000</td>\n",
       "      <td>0.000</td>\n",
       "      <td>1.000</td>\n",
       "      <td>0.50000</td>\n",
       "    </tr>\n",
       "    <tr>\n",
       "      <th>174170</th>\n",
       "      <td>subject9959</td>\n",
       "      <td>629</td>\n",
       "      <td>there is always that one coworker you just can...</td>\n",
       "      <td>0</td>\n",
       "      <td>0.818182</td>\n",
       "      <td>0.477273</td>\n",
       "      <td>0.000</td>\n",
       "      <td>0.000</td>\n",
       "      <td>1.000</td>\n",
       "      <td>0.50000</td>\n",
       "    </tr>\n",
       "    <tr>\n",
       "      <th>174171</th>\n",
       "      <td>subject9959</td>\n",
       "      <td>630</td>\n",
       "      <td>that moment when you realize you need a new jo...</td>\n",
       "      <td>0</td>\n",
       "      <td>0.818182</td>\n",
       "      <td>0.477273</td>\n",
       "      <td>0.000</td>\n",
       "      <td>0.000</td>\n",
       "      <td>1.000</td>\n",
       "      <td>0.50000</td>\n",
       "    </tr>\n",
       "    <tr>\n",
       "      <th>174172</th>\n",
       "      <td>subject9959</td>\n",
       "      <td>631</td>\n",
       "      <td>as an artist, this speaks to me on so many lev...</td>\n",
       "      <td>0</td>\n",
       "      <td>1.000000</td>\n",
       "      <td>0.500000</td>\n",
       "      <td>0.000</td>\n",
       "      <td>0.000</td>\n",
       "      <td>1.000</td>\n",
       "      <td>0.50000</td>\n",
       "    </tr>\n",
       "  </tbody>\n",
       "</table>\n",
       "<p>174173 rows × 10 columns</p>\n",
       "</div>"
      ],
      "text/plain": [
       "                    User  Window_id  \\\n",
       "0       test_subject1345          0   \n",
       "1       test_subject1345          1   \n",
       "2       test_subject1345          2   \n",
       "3       test_subject1345          3   \n",
       "4       test_subject1345          4   \n",
       "...                  ...        ...   \n",
       "174168       subject9959        627   \n",
       "174169       subject9959        628   \n",
       "174170       subject9959        629   \n",
       "174171       subject9959        630   \n",
       "174172       subject9959        631   \n",
       "\n",
       "                                                     Text  Label  polarity  \\\n",
       "0        so many unwanted smith fadeaways. mid range j...      1  0.663051   \n",
       "1       mid range jumpers hey guys, celtics fan here p...      1  0.650092   \n",
       "2        well he got number tonight so maybe he will b...      1  0.588214   \n",
       "3        i mean he will get pinch hits and an occasion...      1  0.573929   \n",
       "4        yeah you are probably right. oh well.  i gues...      1  0.626531   \n",
       "...                                                   ...    ...       ...   \n",
       "174168  nothing like that clean house feeling  there i...      0  0.834343   \n",
       "174169  there is always that one coworker...  there is...      0  0.818182   \n",
       "174170  there is always that one coworker you just can...      0  0.818182   \n",
       "174171  that moment when you realize you need a new jo...      0  0.818182   \n",
       "174172  as an artist, this speaks to me on so many lev...      0  1.000000   \n",
       "\n",
       "        subjectivity  negativity  positivity  neutrality  compound  \n",
       "0           0.516980       0.053       0.145       0.802   0.98315  \n",
       "1           0.517633       0.048       0.147       0.805   0.98440  \n",
       "2           0.594881       0.082       0.121       0.797   0.75595  \n",
       "3           0.588929       0.088       0.107       0.805   0.60815  \n",
       "4           0.626531       0.091       0.118       0.792   0.63660  \n",
       "...              ...         ...         ...         ...       ...  \n",
       "174168      0.551515       0.097       0.033       0.869   0.28280  \n",
       "174169      0.477273       0.000       0.000       1.000   0.50000  \n",
       "174170      0.477273       0.000       0.000       1.000   0.50000  \n",
       "174171      0.477273       0.000       0.000       1.000   0.50000  \n",
       "174172      0.500000       0.000       0.000       1.000   0.50000  \n",
       "\n",
       "[174173 rows x 10 columns]"
      ]
     },
     "execution_count": 3,
     "metadata": {},
     "output_type": "execute_result"
    }
   ],
   "source": [
    "import pandas as pd\n",
    "import numpy as np\n",
    "import os\n",
    "seed=23\n",
    "np.random.seed(seed)\n",
    "\n",
    "train_df = pd.read_pickle(f\"train_df_{ROLLING_WINDOW_SIZE}_sent.pkl\")\n",
    "test_df = pd.read_pickle(f\"test_df_{ROLLING_WINDOW_SIZE}_sent.pkl\")\n",
    "train_df"
   ]
  },
  {
   "cell_type": "code",
   "execution_count": 4,
   "metadata": {},
   "outputs": [],
   "source": [
    "import pickle\n",
    "#Store sentences & embeddings on disc\n",
    "def save_embeddings(filepath, embeddings):\n",
    "    with open(filepath, \"wb\") as fOut:\n",
    "        pickle.dump({ 'embeddings': embeddings}, fOut, protocol=pickle.HIGHEST_PROTOCOL)\n",
    "\n",
    "#Load sentences & embeddings from disc\n",
    "def load_embeddings(filepath):\n",
    "    with open(filepath, \"rb\") as fIn:\n",
    "        stored_data = pickle.load(fIn)\n",
    "        stored_embeddings = stored_data['embeddings']\n",
    "    return stored_embeddings   "
   ]
  },
  {
   "cell_type": "code",
   "execution_count": 5,
   "metadata": {},
   "outputs": [],
   "source": [
    "\n",
    "if not CONVERTED:\n",
    "    from sentence_transformers import SentenceTransformer\n",
    "    model = SentenceTransformer(LM_MODEL)\n",
    "\n",
    "    model.max_seq_length = max_lengths[ROLLING_WINDOW_SIZE]\n",
    "    train_sentence_embeddings = model.encode(train_df['Text'],show_progress_bar=True,\\\n",
    "                output_value='sentence_embedding', batch_size=64,convert_to_numpy=True)\n",
    "\n",
    "    val_sentence_embeddings = model.encode(test_df['Text'],show_progress_bar=True,\\\n",
    "                output_value='sentence_embedding', batch_size=64,convert_to_numpy=True)\n",
    "\n",
    "    save_embeddings(f\"./train_sentence_embeddings_{LM_MODEL}_{ROLLING_WINDOW_SIZE}.pkl\",train_sentence_embeddings)\n",
    "    save_embeddings(f\"./val_sentence_embeddings_{LM_MODEL}_{ROLLING_WINDOW_SIZE}.pkl\",val_sentence_embeddings)\n",
    "else:\n",
    "    train_sentence_embeddings = load_embeddings(f\"./train_sentence_embeddings_{LM_MODEL}_{ROLLING_WINDOW_SIZE}.pkl\")\n",
    "    val_sentence_embeddings = load_embeddings(f\"./val_sentence_embeddings_{LM_MODEL}_{ROLLING_WINDOW_SIZE}.pkl\")\n",
    "   \n",
    "test_df['Vector'] = pd.DataFrame(data=val_sentence_embeddings).values.tolist()\n",
    "train_df['Vector'] = pd.DataFrame(data=train_sentence_embeddings).values.tolist()"
   ]
  },
  {
   "cell_type": "code",
   "execution_count": 6,
   "metadata": {},
   "outputs": [
    {
     "data": {
      "text/html": [
       "<div>\n",
       "<style scoped>\n",
       "    .dataframe tbody tr th:only-of-type {\n",
       "        vertical-align: middle;\n",
       "    }\n",
       "\n",
       "    .dataframe tbody tr th {\n",
       "        vertical-align: top;\n",
       "    }\n",
       "\n",
       "    .dataframe thead th {\n",
       "        text-align: right;\n",
       "    }\n",
       "</style>\n",
       "<table border=\"1\" class=\"dataframe\">\n",
       "  <thead>\n",
       "    <tr style=\"text-align: right;\">\n",
       "      <th></th>\n",
       "      <th>User</th>\n",
       "      <th>Window_id</th>\n",
       "      <th>Text</th>\n",
       "      <th>Label</th>\n",
       "      <th>polarity</th>\n",
       "      <th>subjectivity</th>\n",
       "      <th>negativity</th>\n",
       "      <th>positivity</th>\n",
       "      <th>neutrality</th>\n",
       "      <th>compound</th>\n",
       "      <th>Vector</th>\n",
       "    </tr>\n",
       "  </thead>\n",
       "  <tbody>\n",
       "    <tr>\n",
       "      <th>0</th>\n",
       "      <td>test_subject1345</td>\n",
       "      <td>0</td>\n",
       "      <td>so many unwanted smith fadeaways. mid range j...</td>\n",
       "      <td>1</td>\n",
       "      <td>0.663051</td>\n",
       "      <td>0.516980</td>\n",
       "      <td>0.053</td>\n",
       "      <td>0.145</td>\n",
       "      <td>0.802</td>\n",
       "      <td>0.98315</td>\n",
       "      <td>[-0.054277509450912476, 0.0824999287724495, 0....</td>\n",
       "    </tr>\n",
       "    <tr>\n",
       "      <th>1</th>\n",
       "      <td>test_subject1345</td>\n",
       "      <td>1</td>\n",
       "      <td>mid range jumpers hey guys, celtics fan here p...</td>\n",
       "      <td>1</td>\n",
       "      <td>0.650092</td>\n",
       "      <td>0.517633</td>\n",
       "      <td>0.048</td>\n",
       "      <td>0.147</td>\n",
       "      <td>0.805</td>\n",
       "      <td>0.98440</td>\n",
       "      <td>[-0.054094888269901276, 0.06312193721532822, 0...</td>\n",
       "    </tr>\n",
       "    <tr>\n",
       "      <th>2</th>\n",
       "      <td>test_subject1345</td>\n",
       "      <td>2</td>\n",
       "      <td>well he got number tonight so maybe he will b...</td>\n",
       "      <td>1</td>\n",
       "      <td>0.588214</td>\n",
       "      <td>0.594881</td>\n",
       "      <td>0.082</td>\n",
       "      <td>0.121</td>\n",
       "      <td>0.797</td>\n",
       "      <td>0.75595</td>\n",
       "      <td>[-0.047845326364040375, 0.0940595269203186, -0...</td>\n",
       "    </tr>\n",
       "    <tr>\n",
       "      <th>3</th>\n",
       "      <td>test_subject1345</td>\n",
       "      <td>3</td>\n",
       "      <td>i mean he will get pinch hits and an occasion...</td>\n",
       "      <td>1</td>\n",
       "      <td>0.573929</td>\n",
       "      <td>0.588929</td>\n",
       "      <td>0.088</td>\n",
       "      <td>0.107</td>\n",
       "      <td>0.805</td>\n",
       "      <td>0.60815</td>\n",
       "      <td>[-0.04452856630086899, 0.09207145869731903, -0...</td>\n",
       "    </tr>\n",
       "    <tr>\n",
       "      <th>4</th>\n",
       "      <td>test_subject1345</td>\n",
       "      <td>4</td>\n",
       "      <td>yeah you are probably right. oh well.  i gues...</td>\n",
       "      <td>1</td>\n",
       "      <td>0.626531</td>\n",
       "      <td>0.626531</td>\n",
       "      <td>0.091</td>\n",
       "      <td>0.118</td>\n",
       "      <td>0.792</td>\n",
       "      <td>0.63660</td>\n",
       "      <td>[-0.03719930350780487, 0.08828624337911606, -0...</td>\n",
       "    </tr>\n",
       "    <tr>\n",
       "      <th>...</th>\n",
       "      <td>...</td>\n",
       "      <td>...</td>\n",
       "      <td>...</td>\n",
       "      <td>...</td>\n",
       "      <td>...</td>\n",
       "      <td>...</td>\n",
       "      <td>...</td>\n",
       "      <td>...</td>\n",
       "      <td>...</td>\n",
       "      <td>...</td>\n",
       "      <td>...</td>\n",
       "    </tr>\n",
       "    <tr>\n",
       "      <th>174168</th>\n",
       "      <td>subject9959</td>\n",
       "      <td>627</td>\n",
       "      <td>nothing like that clean house feeling  there i...</td>\n",
       "      <td>0</td>\n",
       "      <td>0.834343</td>\n",
       "      <td>0.551515</td>\n",
       "      <td>0.097</td>\n",
       "      <td>0.033</td>\n",
       "      <td>0.869</td>\n",
       "      <td>0.28280</td>\n",
       "      <td>[-0.014173840172588825, 0.08119028061628342, 0...</td>\n",
       "    </tr>\n",
       "    <tr>\n",
       "      <th>174169</th>\n",
       "      <td>subject9959</td>\n",
       "      <td>628</td>\n",
       "      <td>there is always that one coworker...  there is...</td>\n",
       "      <td>0</td>\n",
       "      <td>0.818182</td>\n",
       "      <td>0.477273</td>\n",
       "      <td>0.000</td>\n",
       "      <td>0.000</td>\n",
       "      <td>1.000</td>\n",
       "      <td>0.50000</td>\n",
       "      <td>[0.006969124544411898, 0.08165775239467621, -0...</td>\n",
       "    </tr>\n",
       "    <tr>\n",
       "      <th>174170</th>\n",
       "      <td>subject9959</td>\n",
       "      <td>629</td>\n",
       "      <td>there is always that one coworker you just can...</td>\n",
       "      <td>0</td>\n",
       "      <td>0.818182</td>\n",
       "      <td>0.477273</td>\n",
       "      <td>0.000</td>\n",
       "      <td>0.000</td>\n",
       "      <td>1.000</td>\n",
       "      <td>0.50000</td>\n",
       "      <td>[-0.014388704672455788, 0.09135324507951736, -...</td>\n",
       "    </tr>\n",
       "    <tr>\n",
       "      <th>174171</th>\n",
       "      <td>subject9959</td>\n",
       "      <td>630</td>\n",
       "      <td>that moment when you realize you need a new jo...</td>\n",
       "      <td>0</td>\n",
       "      <td>0.818182</td>\n",
       "      <td>0.477273</td>\n",
       "      <td>0.000</td>\n",
       "      <td>0.000</td>\n",
       "      <td>1.000</td>\n",
       "      <td>0.50000</td>\n",
       "      <td>[-0.0011959681287407875, 0.09174152463674545, ...</td>\n",
       "    </tr>\n",
       "    <tr>\n",
       "      <th>174172</th>\n",
       "      <td>subject9959</td>\n",
       "      <td>631</td>\n",
       "      <td>as an artist, this speaks to me on so many lev...</td>\n",
       "      <td>0</td>\n",
       "      <td>1.000000</td>\n",
       "      <td>0.500000</td>\n",
       "      <td>0.000</td>\n",
       "      <td>0.000</td>\n",
       "      <td>1.000</td>\n",
       "      <td>0.50000</td>\n",
       "      <td>[-0.006361072417348623, 0.08570518344640732, -...</td>\n",
       "    </tr>\n",
       "  </tbody>\n",
       "</table>\n",
       "<p>174173 rows × 11 columns</p>\n",
       "</div>"
      ],
      "text/plain": [
       "                    User  Window_id  \\\n",
       "0       test_subject1345          0   \n",
       "1       test_subject1345          1   \n",
       "2       test_subject1345          2   \n",
       "3       test_subject1345          3   \n",
       "4       test_subject1345          4   \n",
       "...                  ...        ...   \n",
       "174168       subject9959        627   \n",
       "174169       subject9959        628   \n",
       "174170       subject9959        629   \n",
       "174171       subject9959        630   \n",
       "174172       subject9959        631   \n",
       "\n",
       "                                                     Text  Label  polarity  \\\n",
       "0        so many unwanted smith fadeaways. mid range j...      1  0.663051   \n",
       "1       mid range jumpers hey guys, celtics fan here p...      1  0.650092   \n",
       "2        well he got number tonight so maybe he will b...      1  0.588214   \n",
       "3        i mean he will get pinch hits and an occasion...      1  0.573929   \n",
       "4        yeah you are probably right. oh well.  i gues...      1  0.626531   \n",
       "...                                                   ...    ...       ...   \n",
       "174168  nothing like that clean house feeling  there i...      0  0.834343   \n",
       "174169  there is always that one coworker...  there is...      0  0.818182   \n",
       "174170  there is always that one coworker you just can...      0  0.818182   \n",
       "174171  that moment when you realize you need a new jo...      0  0.818182   \n",
       "174172  as an artist, this speaks to me on so many lev...      0  1.000000   \n",
       "\n",
       "        subjectivity  negativity  positivity  neutrality  compound  \\\n",
       "0           0.516980       0.053       0.145       0.802   0.98315   \n",
       "1           0.517633       0.048       0.147       0.805   0.98440   \n",
       "2           0.594881       0.082       0.121       0.797   0.75595   \n",
       "3           0.588929       0.088       0.107       0.805   0.60815   \n",
       "4           0.626531       0.091       0.118       0.792   0.63660   \n",
       "...              ...         ...         ...         ...       ...   \n",
       "174168      0.551515       0.097       0.033       0.869   0.28280   \n",
       "174169      0.477273       0.000       0.000       1.000   0.50000   \n",
       "174170      0.477273       0.000       0.000       1.000   0.50000   \n",
       "174171      0.477273       0.000       0.000       1.000   0.50000   \n",
       "174172      0.500000       0.000       0.000       1.000   0.50000   \n",
       "\n",
       "                                                   Vector  \n",
       "0       [-0.054277509450912476, 0.0824999287724495, 0....  \n",
       "1       [-0.054094888269901276, 0.06312193721532822, 0...  \n",
       "2       [-0.047845326364040375, 0.0940595269203186, -0...  \n",
       "3       [-0.04452856630086899, 0.09207145869731903, -0...  \n",
       "4       [-0.03719930350780487, 0.08828624337911606, -0...  \n",
       "...                                                   ...  \n",
       "174168  [-0.014173840172588825, 0.08119028061628342, 0...  \n",
       "174169  [0.006969124544411898, 0.08165775239467621, -0...  \n",
       "174170  [-0.014388704672455788, 0.09135324507951736, -...  \n",
       "174171  [-0.0011959681287407875, 0.09174152463674545, ...  \n",
       "174172  [-0.006361072417348623, 0.08570518344640732, -...  \n",
       "\n",
       "[174173 rows x 11 columns]"
      ]
     },
     "execution_count": 6,
     "metadata": {},
     "output_type": "execute_result"
    }
   ],
   "source": [
    "train_df"
   ]
  },
  {
   "cell_type": "code",
   "execution_count": 7,
   "metadata": {},
   "outputs": [
    {
     "data": {
      "text/html": [
       "<div>\n",
       "<style scoped>\n",
       "    .dataframe tbody tr th:only-of-type {\n",
       "        vertical-align: middle;\n",
       "    }\n",
       "\n",
       "    .dataframe tbody tr th {\n",
       "        vertical-align: top;\n",
       "    }\n",
       "\n",
       "    .dataframe thead th {\n",
       "        text-align: right;\n",
       "    }\n",
       "</style>\n",
       "<table border=\"1\" class=\"dataframe\">\n",
       "  <thead>\n",
       "    <tr style=\"text-align: right;\">\n",
       "      <th></th>\n",
       "      <th>User</th>\n",
       "      <th>Window_id</th>\n",
       "      <th>Text</th>\n",
       "      <th>Label</th>\n",
       "      <th>polarity</th>\n",
       "      <th>subjectivity</th>\n",
       "      <th>negativity</th>\n",
       "      <th>positivity</th>\n",
       "      <th>neutrality</th>\n",
       "      <th>compound</th>\n",
       "      <th>Vector</th>\n",
       "    </tr>\n",
       "  </thead>\n",
       "  <tbody>\n",
       "    <tr>\n",
       "      <th>0</th>\n",
       "      <td>test_subject1445</td>\n",
       "      <td>0</td>\n",
       "      <td>yeah he moved across the country, essentially...</td>\n",
       "      <td>1</td>\n",
       "      <td>0.631926</td>\n",
       "      <td>0.474791</td>\n",
       "      <td>0.110</td>\n",
       "      <td>0.170</td>\n",
       "      <td>0.720</td>\n",
       "      <td>0.99700</td>\n",
       "      <td>[0.05043364316225052, 0.018346525728702545, 0....</td>\n",
       "    </tr>\n",
       "    <tr>\n",
       "      <th>1</th>\n",
       "      <td>test_subject1445</td>\n",
       "      <td>1</td>\n",
       "      <td>that is true, i never really thought about it...</td>\n",
       "      <td>1</td>\n",
       "      <td>0.648210</td>\n",
       "      <td>0.466057</td>\n",
       "      <td>0.117</td>\n",
       "      <td>0.171</td>\n",
       "      <td>0.712</td>\n",
       "      <td>0.99620</td>\n",
       "      <td>[0.06412471830844879, 0.048445411026477814, 0....</td>\n",
       "    </tr>\n",
       "    <tr>\n",
       "      <th>2</th>\n",
       "      <td>test_subject1445</td>\n",
       "      <td>2</td>\n",
       "      <td>i agree about the relationships evolving part...</td>\n",
       "      <td>1</td>\n",
       "      <td>0.642313</td>\n",
       "      <td>0.494077</td>\n",
       "      <td>0.141</td>\n",
       "      <td>0.159</td>\n",
       "      <td>0.700</td>\n",
       "      <td>0.96320</td>\n",
       "      <td>[0.07285874336957932, 0.06897232681512833, 0.0...</td>\n",
       "    </tr>\n",
       "    <tr>\n",
       "      <th>3</th>\n",
       "      <td>test_subject1445</td>\n",
       "      <td>3</td>\n",
       "      <td>good point. i just feel like i have screwed u...</td>\n",
       "      <td>1</td>\n",
       "      <td>0.635698</td>\n",
       "      <td>0.517881</td>\n",
       "      <td>0.137</td>\n",
       "      <td>0.196</td>\n",
       "      <td>0.667</td>\n",
       "      <td>0.99485</td>\n",
       "      <td>[0.04998762533068657, 0.058237671852111816, -0...</td>\n",
       "    </tr>\n",
       "    <tr>\n",
       "      <th>4</th>\n",
       "      <td>test_subject1445</td>\n",
       "      <td>4</td>\n",
       "      <td>technically, not loving him. but i have been ...</td>\n",
       "      <td>1</td>\n",
       "      <td>0.624213</td>\n",
       "      <td>0.513609</td>\n",
       "      <td>0.132</td>\n",
       "      <td>0.198</td>\n",
       "      <td>0.670</td>\n",
       "      <td>0.99595</td>\n",
       "      <td>[0.05251241847872734, 0.03347595036029816, 0.0...</td>\n",
       "    </tr>\n",
       "    <tr>\n",
       "      <th>...</th>\n",
       "      <td>...</td>\n",
       "      <td>...</td>\n",
       "      <td>...</td>\n",
       "      <td>...</td>\n",
       "      <td>...</td>\n",
       "      <td>...</td>\n",
       "      <td>...</td>\n",
       "      <td>...</td>\n",
       "      <td>...</td>\n",
       "      <td>...</td>\n",
       "      <td>...</td>\n",
       "    </tr>\n",
       "    <tr>\n",
       "      <th>36749</th>\n",
       "      <td>subject9832</td>\n",
       "      <td>995</td>\n",
       "      <td>exactly scumbag christian girl..  i find myse...</td>\n",
       "      <td>0</td>\n",
       "      <td>0.625000</td>\n",
       "      <td>0.125000</td>\n",
       "      <td>0.144</td>\n",
       "      <td>0.000</td>\n",
       "      <td>0.856</td>\n",
       "      <td>0.18155</td>\n",
       "      <td>[-0.04433127120137215, 0.10247306525707245, -0...</td>\n",
       "    </tr>\n",
       "    <tr>\n",
       "      <th>36750</th>\n",
       "      <td>subject9832</td>\n",
       "      <td>996</td>\n",
       "      <td>scumbag christian girl..  i find myself doing ...</td>\n",
       "      <td>0</td>\n",
       "      <td>0.500000</td>\n",
       "      <td>0.000000</td>\n",
       "      <td>0.149</td>\n",
       "      <td>0.000</td>\n",
       "      <td>0.851</td>\n",
       "      <td>0.18155</td>\n",
       "      <td>[-0.02481621876358986, 0.09474856406450272, 0....</td>\n",
       "    </tr>\n",
       "    <tr>\n",
       "      <th>36751</th>\n",
       "      <td>subject9832</td>\n",
       "      <td>997</td>\n",
       "      <td>i find myself doing this everytime i walk thou...</td>\n",
       "      <td>0</td>\n",
       "      <td>0.500000</td>\n",
       "      <td>0.000000</td>\n",
       "      <td>0.000</td>\n",
       "      <td>0.000</td>\n",
       "      <td>1.000</td>\n",
       "      <td>0.50000</td>\n",
       "      <td>[-0.008946556597948074, 0.07886570692062378, -...</td>\n",
       "    </tr>\n",
       "    <tr>\n",
       "      <th>36752</th>\n",
       "      <td>subject9832</td>\n",
       "      <td>998</td>\n",
       "      <td>...snow days keep your children from school.....</td>\n",
       "      <td>0</td>\n",
       "      <td>0.500000</td>\n",
       "      <td>0.000000</td>\n",
       "      <td>0.000</td>\n",
       "      <td>0.000</td>\n",
       "      <td>1.000</td>\n",
       "      <td>0.50000</td>\n",
       "      <td>[-0.010781817138195038, 0.144556924700737, -0....</td>\n",
       "    </tr>\n",
       "    <tr>\n",
       "      <th>36753</th>\n",
       "      <td>subject9832</td>\n",
       "      <td>999</td>\n",
       "      <td>why i do not donate to charity...</td>\n",
       "      <td>0</td>\n",
       "      <td>0.500000</td>\n",
       "      <td>0.000000</td>\n",
       "      <td>0.000</td>\n",
       "      <td>0.000</td>\n",
       "      <td>1.000</td>\n",
       "      <td>0.50000</td>\n",
       "      <td>[0.0166674442589283, 0.11807882785797119, 0.01...</td>\n",
       "    </tr>\n",
       "  </tbody>\n",
       "</table>\n",
       "<p>36754 rows × 11 columns</p>\n",
       "</div>"
      ],
      "text/plain": [
       "                   User  Window_id  \\\n",
       "0      test_subject1445          0   \n",
       "1      test_subject1445          1   \n",
       "2      test_subject1445          2   \n",
       "3      test_subject1445          3   \n",
       "4      test_subject1445          4   \n",
       "...                 ...        ...   \n",
       "36749       subject9832        995   \n",
       "36750       subject9832        996   \n",
       "36751       subject9832        997   \n",
       "36752       subject9832        998   \n",
       "36753       subject9832        999   \n",
       "\n",
       "                                                    Text  Label  polarity  \\\n",
       "0       yeah he moved across the country, essentially...      1  0.631926   \n",
       "1       that is true, i never really thought about it...      1  0.648210   \n",
       "2       i agree about the relationships evolving part...      1  0.642313   \n",
       "3       good point. i just feel like i have screwed u...      1  0.635698   \n",
       "4       technically, not loving him. but i have been ...      1  0.624213   \n",
       "...                                                  ...    ...       ...   \n",
       "36749   exactly scumbag christian girl..  i find myse...      0  0.625000   \n",
       "36750  scumbag christian girl..  i find myself doing ...      0  0.500000   \n",
       "36751  i find myself doing this everytime i walk thou...      0  0.500000   \n",
       "36752   ...snow days keep your children from school.....      0  0.500000   \n",
       "36753                 why i do not donate to charity...       0  0.500000   \n",
       "\n",
       "       subjectivity  negativity  positivity  neutrality  compound  \\\n",
       "0          0.474791       0.110       0.170       0.720   0.99700   \n",
       "1          0.466057       0.117       0.171       0.712   0.99620   \n",
       "2          0.494077       0.141       0.159       0.700   0.96320   \n",
       "3          0.517881       0.137       0.196       0.667   0.99485   \n",
       "4          0.513609       0.132       0.198       0.670   0.99595   \n",
       "...             ...         ...         ...         ...       ...   \n",
       "36749      0.125000       0.144       0.000       0.856   0.18155   \n",
       "36750      0.000000       0.149       0.000       0.851   0.18155   \n",
       "36751      0.000000       0.000       0.000       1.000   0.50000   \n",
       "36752      0.000000       0.000       0.000       1.000   0.50000   \n",
       "36753      0.000000       0.000       0.000       1.000   0.50000   \n",
       "\n",
       "                                                  Vector  \n",
       "0      [0.05043364316225052, 0.018346525728702545, 0....  \n",
       "1      [0.06412471830844879, 0.048445411026477814, 0....  \n",
       "2      [0.07285874336957932, 0.06897232681512833, 0.0...  \n",
       "3      [0.04998762533068657, 0.058237671852111816, -0...  \n",
       "4      [0.05251241847872734, 0.03347595036029816, 0.0...  \n",
       "...                                                  ...  \n",
       "36749  [-0.04433127120137215, 0.10247306525707245, -0...  \n",
       "36750  [-0.02481621876358986, 0.09474856406450272, 0....  \n",
       "36751  [-0.008946556597948074, 0.07886570692062378, -...  \n",
       "36752  [-0.010781817138195038, 0.144556924700737, -0....  \n",
       "36753  [0.0166674442589283, 0.11807882785797119, 0.01...  \n",
       "\n",
       "[36754 rows x 11 columns]"
      ]
     },
     "execution_count": 7,
     "metadata": {},
     "output_type": "execute_result"
    }
   ],
   "source": [
    "test_df"
   ]
  },
  {
   "cell_type": "code",
   "execution_count": null,
   "metadata": {},
   "outputs": [],
   "source": []
  },
  {
   "cell_type": "code",
   "execution_count": null,
   "metadata": {},
   "outputs": [],
   "source": []
  },
  {
   "cell_type": "code",
   "execution_count": null,
   "metadata": {},
   "outputs": [],
   "source": []
  },
  {
   "cell_type": "code",
   "execution_count": null,
   "metadata": {},
   "outputs": [],
   "source": []
  },
  {
   "cell_type": "code",
   "execution_count": null,
   "metadata": {},
   "outputs": [],
   "source": []
  },
  {
   "cell_type": "code",
   "execution_count": null,
   "metadata": {},
   "outputs": [],
   "source": []
  },
  {
   "cell_type": "code",
   "execution_count": null,
   "metadata": {},
   "outputs": [],
   "source": []
  },
  {
   "cell_type": "markdown",
   "metadata": {},
   "source": [
    "## Model part"
   ]
  },
  {
   "cell_type": "code",
   "execution_count": 8,
   "metadata": {},
   "outputs": [],
   "source": [
    "import torch\n",
    "import torch.nn as nn\n",
    "from torch.utils.data import Dataset, DataLoader\n",
    "#from transformers import AutoTokenizer\n",
    "\n",
    "torch.manual_seed(seed)\n",
    "\n",
    "#tokenizer = AutoTokenizer.from_pretrained('sentence-transformers/all-MiniLM-L6-v2')\n",
    "\n",
    "class WritingWindowDataset(Dataset):\n",
    "    def __init__(self, vectors, labels):\n",
    "\n",
    "        self.labels = [label for label in labels]\n",
    "        self.vectors = [vector for vector in vectors]\n",
    "    def classes(self):\n",
    "        return self.labels\n",
    "\n",
    "    def __len__(self):\n",
    "        return len(self.labels)\n",
    "\n",
    "    def get_batch_labels(self, idx):\n",
    "        # Fetch a batch of labels\n",
    "        return np.array(self.labels[idx])\n",
    "\n",
    "    def get_batch_vectors(self, idx):\n",
    "        # Fetch a batch of inputs\n",
    "        return self.vectors[idx]\n",
    "\n",
    "    def __getitem__(self, idx):\n",
    "\n",
    "        batch_vectors = self.get_batch_vectors(idx)\n",
    "        batch_y = self.get_batch_labels(idx)\n",
    "        \n",
    "\n",
    "        return batch_vectors, batch_y"
   ]
  },
  {
   "cell_type": "code",
   "execution_count": 9,
   "metadata": {},
   "outputs": [],
   "source": [
    "#train_ds = WritingWindowDataset(train_sentence_embeddings, train_df['Label'])\n",
    "#val_ds = WritingWindowDataset(val_sentence_embeddings, test_df['Label'])\n",
    "full_ds = WritingWindowDataset(np.concatenate((train_sentence_embeddings, val_sentence_embeddings), axis=0), pd.concat([train_df['Label'], test_df['Label']]))\n",
    "#torch.save(train_ds, \"nn_train_dataset.pkl\")\n",
    "#torch.save(val_ds, \"nn_val_dataset.pkl\")\n",
    "\n"
   ]
  },
  {
   "cell_type": "code",
   "execution_count": null,
   "metadata": {},
   "outputs": [],
   "source": []
  },
  {
   "cell_type": "code",
   "execution_count": null,
   "metadata": {},
   "outputs": [],
   "source": []
  },
  {
   "cell_type": "code",
   "execution_count": null,
   "metadata": {},
   "outputs": [],
   "source": []
  },
  {
   "cell_type": "code",
   "execution_count": 10,
   "metadata": {},
   "outputs": [],
   "source": [
    "class LmNeuralNetwork(nn.Module):\n",
    "    def __init__(self, trial):\n",
    "        super(LmNeuralNetwork, self).__init__()\n",
    "        #self.Lm = AutoModel.from_pretrained('sentence-transformers/all-MiniLM-L6-v2')\n",
    "        #for param in self.Lm.parameters():\n",
    "        #    param.requires_grad = False\n",
    "        self.layers=[]\n",
    "        n_layers = trial.suggest_int(\"n_layers\", 1, 3)\n",
    "\n",
    "        in_features = 768\n",
    "        for i in range(n_layers):\n",
    "            out_features = trial.suggest_int(\"n_units_l{}\".format(i), 4, min(in_features,128))\n",
    "            self.layers.append(nn.Linear(in_features, out_features))\n",
    "            self.layers.append(nn.ReLU())\n",
    "            p = trial.suggest_float(\"dropout_l{}\".format(i), 0.2, 0.5, step=0.05)\n",
    "            self.layers.append(nn.Dropout(p))\n",
    "\n",
    "            in_features = out_features\n",
    "        self.layers.append(nn.Linear(in_features, 1))\n",
    "        #self.classifier = nn.Sequential(*self.layers)\n",
    "        self.cls_layers = torch.nn.ModuleList(self.layers)\n",
    "    #def forward(self, input_id, mask):\n",
    "    def forward(self, x):\n",
    "\n",
    "        #_, output = self.Lm(input_ids= input_id, attention_mask=mask,return_dict=False)\n",
    "        for layer in self.cls_layers:\n",
    "            x = layer(x)\n",
    "        #output=self.cls_layers(features)\n",
    "        return torch.sigmoid(x)\n",
    "\n",
    "#model = LmNeuralNetwork()"
   ]
  },
  {
   "cell_type": "code",
   "execution_count": 11,
   "metadata": {},
   "outputs": [],
   "source": [
    "from sklearn.model_selection import StratifiedKFold\n",
    "n_folds=5\n",
    "skf = StratifiedKFold(n_splits=n_folds)\n",
    "def objective(trial):\n",
    "    \n",
    "    user_label_df =train_df.drop_duplicates('User')\n",
    "    users = user_label_df['User'].to_numpy()\n",
    "    labels = user_label_df['Label'].to_numpy()\n",
    "\n",
    "    #score = objective( trial, trainloader, valloader)\n",
    "    params = {'learning_rate': trial.suggest_loguniform('learning_rate', 1e-5, 1e-2)}\n",
    "    score=[]\n",
    "    for fold, (user_train_ids, user_val_ids) in enumerate(skf.split(users,labels)):\n",
    "        model= LmNeuralNetwork(trial)\n",
    "        train_users = [users[f] for f in user_train_ids]\n",
    "        val_users = [users[f] for f in user_val_ids]\n",
    "        train_ids = train_df.index[train_df['User'].isin(train_users)].to_list()\n",
    "        val_ids = train_df.index[train_df['User'].isin(val_users)].to_list()\n",
    "\n",
    "        #train_subsampler = torch.utils.data.SubsetRandomSampler(train_ids)\n",
    "        #test_subsampler = torch.utils.data.SubsetRandomSampler(test_ids)\n",
    "        train_data = torch.utils.data.Subset(full_ds, train_ids)\n",
    "        val_data = torch.utils.data.Subset(full_ds, val_ids)\n",
    "\n",
    "        trainloader = torch.utils.data.DataLoader(\n",
    "                        train_data, \n",
    "                        batch_size=32, \n",
    "                        shuffle=True)\n",
    "        valloader = torch.utils.data.DataLoader(\n",
    "                        val_data,\n",
    "                        batch_size=32,\n",
    "                        shuffle=True)#, sampler=test_subsampler)\n",
    "        print(f\"Fold {fold}\")\n",
    "        res = train_eval(trial,model,params,10,trainloader,valloader)\n",
    "        score.append(res)\n",
    "    return np.mean(score)\n",
    "       "
   ]
  },
  {
   "cell_type": "code",
   "execution_count": 12,
   "metadata": {},
   "outputs": [],
   "source": [
    "from torch.optim import AdamW\n",
    "from tqdm import tqdm\n",
    "from sklearn.metrics import f1_score\n",
    "#from torchmetrics.functional import f1_score\n",
    "BATCH_SIZE = 32\n",
    "\n",
    "def train_eval(trial,model, params, epochs, train_dataloader, val_dataloader):\n",
    "\n",
    "    #train, val = WritingWindowDataset(train_data), WritingWindowDataset(val_data)\n",
    "\n",
    "    #train_dataloader = torch.utils.data.DataLoader(train_ds, batch_size=BATCH_SIZE, shuffle=True)\n",
    "    #val_dataloader = torch.utils.data.DataLoader(val_ds, batch_size=BATCH_SIZE)\n",
    "   \n",
    "    model = model.cuda()\n",
    "    optimizer = AdamW(model.parameters(), lr=params['learning_rate'])#, lr= learning_rate)\n",
    "\n",
    "    use_cuda = torch.cuda.is_available()\n",
    "    device = torch.device(\"cuda\" if use_cuda else \"cpu\")\n",
    "\n",
    "    criterion = nn.BCELoss()\n",
    "    \n",
    "            \n",
    "\n",
    "    for epoch_num in range(epochs):\n",
    "       \n",
    "        total_loss_train = 0\n",
    "        #train_preds = torch.tensor([], requires_grad=False).to(device)\n",
    "        #train_targets = torch.tensor([], requires_grad=False).to(device)\n",
    "        train_preds = np.array([])\n",
    "        train_targets = np.array([])\n",
    "        model.train()\n",
    "        for train_input, train_label in tqdm(train_dataloader):\n",
    "\n",
    "            train_label = train_label.to(device)\n",
    "            train_label = train_label.float()\n",
    "            train_label = train_label.unsqueeze(1)\n",
    "            features = train_input.to(device)\n",
    "            \n",
    "\n",
    "            output = model(features)\n",
    "            batch_loss = criterion(output, train_label)\n",
    "            total_loss_train += float(batch_loss.item())\n",
    "            \n",
    "            #train_preds = torch.cat((train_preds,torch.round(output).detach()),0)\n",
    "            #train_targets=torch.cat((train_targets,train_label.detach()),0)\n",
    "            train_preds = np.concatenate((train_preds,torch.round(output).detach().cpu().numpy().flatten()),axis=0)\n",
    "            train_targets = np.concatenate((train_targets,train_label.detach().cpu().numpy().flatten()),axis=0)\n",
    "\n",
    "            \n",
    "            #acc = (train_y_pred_tag == train_label).sum().item()\n",
    "            #total_acc_train += float(acc)\n",
    "            #seen_train+=len(train_preds)\n",
    "            model.zero_grad()\n",
    "            batch_loss.backward()\n",
    "            optimizer.step()\n",
    "        train_loss=total_loss_train/len(train_preds)\n",
    "        train_f1 = f1_score(train_targets,train_preds)\n",
    "\n",
    "        total_loss_val = 0\n",
    "        val_preds = np.array([])\n",
    "        val_targets = np.array([])\n",
    "        model.eval()\n",
    "        with torch.no_grad():\n",
    "\n",
    "            for val_input, val_label in val_dataloader:\n",
    "\n",
    "                val_label = val_label.to(device)\n",
    "                val_label = val_label.float()\n",
    "                val_label = val_label.unsqueeze(1)\n",
    "\n",
    "                #mask = val_input['attention_mask'].to(device)\n",
    "                #input_id = val_input['input_ids'].squeeze(1).to(device)\n",
    "                features = val_input.to(device)\n",
    "\n",
    "                output = model(features)\n",
    "\n",
    "                batch_loss = criterion(output, val_label)\n",
    "                total_loss_val += float(batch_loss.item())\n",
    "                val_preds = np.concatenate((val_preds,torch.round(output).detach().cpu().numpy().flatten()),axis=0)\n",
    "                val_targets = np.concatenate((val_targets,val_label.detach().cpu().numpy().flatten()),axis=0)\n",
    "\n",
    "                \n",
    "        val_f1 = f1_score(val_targets,val_preds)\n",
    "        val_loss=total_loss_val/len(val_preds)\n",
    "        \n",
    "        if epoch_num in [0,4,9]:\n",
    "            print(\n",
    "                    f'Epochs: {epoch_num + 1 } | Train Loss: {train_loss: .4f} \\\n",
    "                    | Train F1: {train_f1: .4f} \\\n",
    "                    | Val Loss: {val_loss: .4f} \\\n",
    "                    | Val F1: {val_f1: .4f}')\n",
    "\n",
    "        #trial.report(val_f1, epoch_num)\n",
    "\n",
    "        #if trial.should_prune():\n",
    "        #    raise optuna.exceptions.TrialPruned()\n",
    "\n",
    "    return val_f1\n"
   ]
  },
  {
   "cell_type": "code",
   "execution_count": 13,
   "metadata": {},
   "outputs": [
    {
     "name": "stderr",
     "output_type": "stream",
     "text": [
      "\u001b[32m[I 2022-07-15 07:25:37,358]\u001b[0m A new study created in memory with name: LM_NN_Tuning_10_all-mpnet-base-v2\u001b[0m\n"
     ]
    },
    {
     "name": "stdout",
     "output_type": "stream",
     "text": [
      "trial 0\n",
      "Fold 0\n"
     ]
    },
    {
     "name": "stderr",
     "output_type": "stream",
     "text": [
      "100%|██████████| 4429/4429 [00:44<00:00, 99.95it/s] \n"
     ]
    },
    {
     "name": "stdout",
     "output_type": "stream",
     "text": [
      "Epochs: 1 | Train Loss:  0.0160                     | Train F1:  0.6773                     | Val Loss:  0.0153                     | Val F1:  0.7051\n"
     ]
    },
    {
     "name": "stderr",
     "output_type": "stream",
     "text": [
      "100%|██████████| 4429/4429 [00:12<00:00, 343.14it/s]\n",
      "100%|██████████| 4429/4429 [00:12<00:00, 351.04it/s]\n",
      "100%|██████████| 4429/4429 [00:12<00:00, 350.52it/s]\n",
      "100%|██████████| 4429/4429 [00:12<00:00, 350.45it/s]\n"
     ]
    },
    {
     "name": "stdout",
     "output_type": "stream",
     "text": [
      "Epochs: 5 | Train Loss:  0.0125                     | Train F1:  0.7818                     | Val Loss:  0.0157                     | Val F1:  0.7064\n"
     ]
    },
    {
     "name": "stderr",
     "output_type": "stream",
     "text": [
      "100%|██████████| 4429/4429 [00:12<00:00, 351.89it/s]\n",
      "100%|██████████| 4429/4429 [00:12<00:00, 349.74it/s]\n",
      "100%|██████████| 4429/4429 [00:12<00:00, 352.19it/s]\n",
      "100%|██████████| 4429/4429 [00:12<00:00, 352.02it/s]\n",
      "100%|██████████| 4429/4429 [00:12<00:00, 351.88it/s]\n"
     ]
    },
    {
     "name": "stdout",
     "output_type": "stream",
     "text": [
      "Epochs: 10 | Train Loss:  0.0117                     | Train F1:  0.8001                     | Val Loss:  0.0163                     | Val F1:  0.6933\n",
      "Fold 1\n"
     ]
    },
    {
     "name": "stderr",
     "output_type": "stream",
     "text": [
      "100%|██████████| 4360/4360 [00:12<00:00, 354.26it/s]\n"
     ]
    },
    {
     "name": "stdout",
     "output_type": "stream",
     "text": [
      "Epochs: 1 | Train Loss:  0.0167                     | Train F1:  0.7031                     | Val Loss:  0.0131                     | Val F1:  0.7436\n"
     ]
    },
    {
     "name": "stderr",
     "output_type": "stream",
     "text": [
      "100%|██████████| 4360/4360 [00:12<00:00, 347.45it/s]\n",
      "100%|██████████| 4360/4360 [00:12<00:00, 351.33it/s]\n",
      "100%|██████████| 4360/4360 [00:12<00:00, 352.70it/s]\n",
      "100%|██████████| 4360/4360 [00:12<00:00, 351.94it/s]\n"
     ]
    },
    {
     "name": "stdout",
     "output_type": "stream",
     "text": [
      "Epochs: 5 | Train Loss:  0.0133                     | Train F1:  0.7694                     | Val Loss:  0.0134                     | Val F1:  0.7167\n"
     ]
    },
    {
     "name": "stderr",
     "output_type": "stream",
     "text": [
      "100%|██████████| 4360/4360 [00:12<00:00, 350.73it/s]\n",
      "100%|██████████| 4360/4360 [00:12<00:00, 355.72it/s]\n",
      "100%|██████████| 4360/4360 [00:12<00:00, 355.84it/s]\n",
      "100%|██████████| 4360/4360 [00:12<00:00, 355.57it/s]\n",
      "100%|██████████| 4360/4360 [00:12<00:00, 356.04it/s]\n"
     ]
    },
    {
     "name": "stdout",
     "output_type": "stream",
     "text": [
      "Epochs: 10 | Train Loss:  0.0125                     | Train F1:  0.7859                     | Val Loss:  0.0135                     | Val F1:  0.7113\n",
      "Fold 2\n"
     ]
    },
    {
     "name": "stderr",
     "output_type": "stream",
     "text": [
      "100%|██████████| 4444/4444 [00:12<00:00, 355.76it/s]\n"
     ]
    },
    {
     "name": "stdout",
     "output_type": "stream",
     "text": [
      "Epochs: 1 | Train Loss:  0.0164                     | Train F1:  0.7135                     | Val Loss:  0.0145                     | Val F1:  0.6922\n"
     ]
    },
    {
     "name": "stderr",
     "output_type": "stream",
     "text": [
      "100%|██████████| 4444/4444 [00:12<00:00, 354.66it/s]\n",
      "100%|██████████| 4444/4444 [00:12<00:00, 357.07it/s]\n",
      "100%|██████████| 4444/4444 [00:12<00:00, 353.07it/s]\n",
      "100%|██████████| 4444/4444 [00:12<00:00, 352.72it/s]\n"
     ]
    },
    {
     "name": "stdout",
     "output_type": "stream",
     "text": [
      "Epochs: 5 | Train Loss:  0.0129                     | Train F1:  0.7758                     | Val Loss:  0.0152                     | Val F1:  0.6914\n"
     ]
    },
    {
     "name": "stderr",
     "output_type": "stream",
     "text": [
      "100%|██████████| 4444/4444 [00:12<00:00, 354.75it/s]\n",
      "100%|██████████| 4444/4444 [00:12<00:00, 351.39it/s]\n",
      "100%|██████████| 4444/4444 [00:12<00:00, 354.51it/s]\n",
      "100%|██████████| 4444/4444 [00:12<00:00, 354.35it/s]\n",
      "100%|██████████| 4444/4444 [00:12<00:00, 353.47it/s]\n"
     ]
    },
    {
     "name": "stdout",
     "output_type": "stream",
     "text": [
      "Epochs: 10 | Train Loss:  0.0121                     | Train F1:  0.7905                     | Val Loss:  0.0158                     | Val F1:  0.6894\n",
      "Fold 3\n"
     ]
    },
    {
     "name": "stderr",
     "output_type": "stream",
     "text": [
      "100%|██████████| 4250/4250 [00:11<00:00, 356.74it/s]\n"
     ]
    },
    {
     "name": "stdout",
     "output_type": "stream",
     "text": [
      "Epochs: 1 | Train Loss:  0.0163                     | Train F1:  0.6954                     | Val Loss:  0.0151                     | Val F1:  0.6942\n"
     ]
    },
    {
     "name": "stderr",
     "output_type": "stream",
     "text": [
      "100%|██████████| 4250/4250 [00:11<00:00, 356.21it/s]\n",
      "100%|██████████| 4250/4250 [00:11<00:00, 355.88it/s]\n",
      "100%|██████████| 4250/4250 [00:11<00:00, 357.65it/s]\n",
      "100%|██████████| 4250/4250 [00:11<00:00, 357.61it/s]\n"
     ]
    },
    {
     "name": "stdout",
     "output_type": "stream",
     "text": [
      "Epochs: 5 | Train Loss:  0.0128                     | Train F1:  0.7781                     | Val Loss:  0.0153                     | Val F1:  0.7005\n"
     ]
    },
    {
     "name": "stderr",
     "output_type": "stream",
     "text": [
      "100%|██████████| 4250/4250 [00:11<00:00, 359.30it/s]\n",
      "100%|██████████| 4250/4250 [00:11<00:00, 358.20it/s]\n",
      "100%|██████████| 4250/4250 [00:11<00:00, 358.70it/s]\n",
      "100%|██████████| 4250/4250 [00:11<00:00, 358.07it/s]\n",
      "100%|██████████| 4250/4250 [00:11<00:00, 359.05it/s]\n"
     ]
    },
    {
     "name": "stdout",
     "output_type": "stream",
     "text": [
      "Epochs: 10 | Train Loss:  0.0120                     | Train F1:  0.7929                     | Val Loss:  0.0157                     | Val F1:  0.6962\n",
      "Fold 4\n"
     ]
    },
    {
     "name": "stderr",
     "output_type": "stream",
     "text": [
      "100%|██████████| 4291/4291 [00:11<00:00, 358.51it/s]\n"
     ]
    },
    {
     "name": "stdout",
     "output_type": "stream",
     "text": [
      "Epochs: 1 | Train Loss:  0.0150                     | Train F1:  0.6867                     | Val Loss:  0.0211                     | Val F1:  0.5992\n"
     ]
    },
    {
     "name": "stderr",
     "output_type": "stream",
     "text": [
      "100%|██████████| 4291/4291 [00:11<00:00, 357.91it/s]\n",
      "100%|██████████| 4291/4291 [00:11<00:00, 358.51it/s]\n",
      "100%|██████████| 4291/4291 [00:12<00:00, 357.11it/s]\n",
      "100%|██████████| 4291/4291 [00:12<00:00, 352.11it/s]\n"
     ]
    },
    {
     "name": "stdout",
     "output_type": "stream",
     "text": [
      "Epochs: 5 | Train Loss:  0.0113                     | Train F1:  0.7922                     | Val Loss:  0.0230                     | Val F1:  0.6038\n"
     ]
    },
    {
     "name": "stderr",
     "output_type": "stream",
     "text": [
      "100%|██████████| 4291/4291 [00:11<00:00, 357.61it/s]\n",
      "100%|██████████| 4291/4291 [00:11<00:00, 357.71it/s]\n",
      "100%|██████████| 4291/4291 [00:11<00:00, 358.39it/s]\n",
      "100%|██████████| 4291/4291 [00:12<00:00, 356.31it/s]\n",
      "100%|██████████| 4291/4291 [00:11<00:00, 357.72it/s]\n",
      "\u001b[32m[I 2022-07-15 07:38:23,975]\u001b[0m Trial 0 finished with value: 0.6809469824704055 and parameters: {'learning_rate': 4.4448181711023864e-05, 'n_layers': 1, 'n_units_l0': 81, 'dropout_l0': 0.35000000000000003}. Best is trial 0 with value: 0.6809469824704055.\u001b[0m\n"
     ]
    },
    {
     "name": "stdout",
     "output_type": "stream",
     "text": [
      "Epochs: 10 | Train Loss:  0.0105                     | Train F1:  0.8064                     | Val Loss:  0.0237                     | Val F1:  0.6144\n",
      "trial 1\n",
      "Fold 0\n"
     ]
    },
    {
     "name": "stderr",
     "output_type": "stream",
     "text": [
      "100%|██████████| 4429/4429 [00:33<00:00, 134.09it/s]\n"
     ]
    },
    {
     "name": "stdout",
     "output_type": "stream",
     "text": [
      "Epochs: 1 | Train Loss:  0.0102                     | Train F1:  0.8282                     | Val Loss:  0.0198                     | Val F1:  0.6717\n"
     ]
    },
    {
     "name": "stderr",
     "output_type": "stream",
     "text": [
      "100%|██████████| 4429/4429 [00:12<00:00, 341.53it/s]\n",
      "100%|██████████| 4429/4429 [00:11<00:00, 372.02it/s]\n",
      "100%|██████████| 4429/4429 [00:11<00:00, 375.59it/s]\n",
      "100%|██████████| 4429/4429 [00:11<00:00, 376.32it/s]\n"
     ]
    },
    {
     "name": "stdout",
     "output_type": "stream",
     "text": [
      "Epochs: 5 | Train Loss:  0.0053                     | Train F1:  0.9175                     | Val Loss:  0.0234                     | Val F1:  0.6882\n"
     ]
    },
    {
     "name": "stderr",
     "output_type": "stream",
     "text": [
      "100%|██████████| 4429/4429 [00:11<00:00, 376.49it/s]\n",
      "100%|██████████| 4429/4429 [00:11<00:00, 378.29it/s]\n",
      "100%|██████████| 4429/4429 [00:11<00:00, 374.29it/s]\n",
      "100%|██████████| 4429/4429 [00:11<00:00, 377.78it/s]\n",
      "100%|██████████| 4429/4429 [00:11<00:00, 377.81it/s]\n"
     ]
    },
    {
     "name": "stdout",
     "output_type": "stream",
     "text": [
      "Epochs: 10 | Train Loss:  0.0045                     | Train F1:  0.9304                     | Val Loss:  0.0255                     | Val F1:  0.6867\n",
      "Fold 1\n"
     ]
    },
    {
     "name": "stderr",
     "output_type": "stream",
     "text": [
      "100%|██████████| 4360/4360 [00:11<00:00, 380.74it/s]\n"
     ]
    },
    {
     "name": "stdout",
     "output_type": "stream",
     "text": [
      "Epochs: 1 | Train Loss:  0.0110                     | Train F1:  0.8164                     | Val Loss:  0.0138                     | Val F1:  0.7322\n"
     ]
    },
    {
     "name": "stderr",
     "output_type": "stream",
     "text": [
      "100%|██████████| 4360/4360 [00:11<00:00, 380.52it/s]\n",
      "100%|██████████| 4360/4360 [00:11<00:00, 380.60it/s]\n",
      "100%|██████████| 4360/4360 [00:11<00:00, 379.18it/s]\n",
      "100%|██████████| 4360/4360 [00:11<00:00, 375.25it/s]\n"
     ]
    },
    {
     "name": "stdout",
     "output_type": "stream",
     "text": [
      "Epochs: 5 | Train Loss:  0.0058                     | Train F1:  0.9122                     | Val Loss:  0.0162                     | Val F1:  0.6917\n"
     ]
    },
    {
     "name": "stderr",
     "output_type": "stream",
     "text": [
      "100%|██████████| 4360/4360 [00:11<00:00, 379.71it/s]\n",
      "100%|██████████| 4360/4360 [00:11<00:00, 377.46it/s]\n",
      "100%|██████████| 4360/4360 [00:11<00:00, 380.75it/s]\n",
      "100%|██████████| 4360/4360 [00:11<00:00, 382.77it/s]\n",
      "100%|██████████| 4360/4360 [00:11<00:00, 378.36it/s]\n"
     ]
    },
    {
     "name": "stdout",
     "output_type": "stream",
     "text": [
      "Epochs: 10 | Train Loss:  0.0049                     | Train F1:  0.9259                     | Val Loss:  0.0173                     | Val F1:  0.7106\n",
      "Fold 2\n"
     ]
    },
    {
     "name": "stderr",
     "output_type": "stream",
     "text": [
      "100%|██████████| 4444/4444 [00:11<00:00, 375.40it/s]\n"
     ]
    },
    {
     "name": "stdout",
     "output_type": "stream",
     "text": [
      "Epochs: 1 | Train Loss:  0.0106                     | Train F1:  0.8206                     | Val Loss:  0.0206                     | Val F1:  0.6864\n"
     ]
    },
    {
     "name": "stderr",
     "output_type": "stream",
     "text": [
      "100%|██████████| 4444/4444 [00:11<00:00, 376.86it/s]\n",
      "100%|██████████| 4444/4444 [00:11<00:00, 374.19it/s]\n",
      "100%|██████████| 4444/4444 [00:11<00:00, 375.85it/s]\n",
      "100%|██████████| 4444/4444 [00:11<00:00, 375.38it/s]\n"
     ]
    },
    {
     "name": "stdout",
     "output_type": "stream",
     "text": [
      "Epochs: 5 | Train Loss:  0.0056                     | Train F1:  0.9142                     | Val Loss:  0.0296                     | Val F1:  0.6687\n"
     ]
    },
    {
     "name": "stderr",
     "output_type": "stream",
     "text": [
      "100%|██████████| 4444/4444 [00:11<00:00, 379.98it/s]\n",
      "100%|██████████| 4444/4444 [00:11<00:00, 376.22it/s]\n",
      "100%|██████████| 4444/4444 [00:11<00:00, 377.78it/s]\n",
      "100%|██████████| 4444/4444 [00:11<00:00, 376.03it/s]\n",
      "100%|██████████| 4444/4444 [00:11<00:00, 377.97it/s]\n"
     ]
    },
    {
     "name": "stdout",
     "output_type": "stream",
     "text": [
      "Epochs: 10 | Train Loss:  0.0048                     | Train F1:  0.9268                     | Val Loss:  0.0282                     | Val F1:  0.6724\n",
      "Fold 3\n"
     ]
    },
    {
     "name": "stderr",
     "output_type": "stream",
     "text": [
      "100%|██████████| 4250/4250 [00:11<00:00, 384.63it/s]\n"
     ]
    },
    {
     "name": "stdout",
     "output_type": "stream",
     "text": [
      "Epochs: 1 | Train Loss:  0.0105                     | Train F1:  0.8227                     | Val Loss:  0.0185                     | Val F1:  0.6880\n"
     ]
    },
    {
     "name": "stderr",
     "output_type": "stream",
     "text": [
      "100%|██████████| 4250/4250 [00:11<00:00, 381.37it/s]\n",
      "100%|██████████| 4250/4250 [00:11<00:00, 382.25it/s]\n",
      "100%|██████████| 4250/4250 [00:12<00:00, 345.91it/s]\n",
      "100%|██████████| 4250/4250 [00:11<00:00, 385.42it/s]\n"
     ]
    },
    {
     "name": "stdout",
     "output_type": "stream",
     "text": [
      "Epochs: 5 | Train Loss:  0.0055                     | Train F1:  0.9169                     | Val Loss:  0.0230                     | Val F1:  0.6767\n"
     ]
    },
    {
     "name": "stderr",
     "output_type": "stream",
     "text": [
      "100%|██████████| 4250/4250 [00:10<00:00, 402.25it/s]\n",
      "100%|██████████| 4250/4250 [00:11<00:00, 384.81it/s]\n",
      "100%|██████████| 4250/4250 [00:10<00:00, 402.73it/s]\n",
      "100%|██████████| 4250/4250 [00:10<00:00, 387.76it/s]\n",
      "100%|██████████| 4250/4250 [00:10<00:00, 403.38it/s]\n"
     ]
    },
    {
     "name": "stdout",
     "output_type": "stream",
     "text": [
      "Epochs: 10 | Train Loss:  0.0046                     | Train F1:  0.9306                     | Val Loss:  0.0221                     | Val F1:  0.6931\n",
      "Fold 4\n"
     ]
    },
    {
     "name": "stderr",
     "output_type": "stream",
     "text": [
      "100%|██████████| 4291/4291 [00:11<00:00, 384.30it/s]\n"
     ]
    },
    {
     "name": "stdout",
     "output_type": "stream",
     "text": [
      "Epochs: 1 | Train Loss:  0.0094                     | Train F1:  0.8321                     | Val Loss:  0.0296                     | Val F1:  0.5880\n"
     ]
    },
    {
     "name": "stderr",
     "output_type": "stream",
     "text": [
      "100%|██████████| 4291/4291 [00:12<00:00, 346.81it/s]\n",
      "100%|██████████| 4291/4291 [00:11<00:00, 379.47it/s]\n",
      "100%|██████████| 4291/4291 [00:11<00:00, 379.44it/s]\n",
      "100%|██████████| 4291/4291 [00:11<00:00, 379.36it/s]\n"
     ]
    },
    {
     "name": "stdout",
     "output_type": "stream",
     "text": [
      "Epochs: 5 | Train Loss:  0.0047                     | Train F1:  0.9230                     | Val Loss:  0.0357                     | Val F1:  0.6263\n"
     ]
    },
    {
     "name": "stderr",
     "output_type": "stream",
     "text": [
      "100%|██████████| 4291/4291 [00:11<00:00, 376.86it/s]\n",
      "100%|██████████| 4291/4291 [00:11<00:00, 375.24it/s]\n",
      "100%|██████████| 4291/4291 [00:11<00:00, 375.22it/s]\n",
      "100%|██████████| 4291/4291 [00:11<00:00, 378.60it/s]\n",
      "100%|██████████| 4291/4291 [00:11<00:00, 375.82it/s]\n",
      "\u001b[32m[I 2022-07-15 07:50:37,771]\u001b[0m Trial 1 finished with value: 0.6769045134186408 and parameters: {'learning_rate': 0.0037603962358064803, 'n_layers': 1, 'n_units_l0': 113, 'dropout_l0': 0.4}. Best is trial 0 with value: 0.6809469824704055.\u001b[0m\n"
     ]
    },
    {
     "name": "stdout",
     "output_type": "stream",
     "text": [
      "Epochs: 10 | Train Loss:  0.0039                     | Train F1:  0.9361                     | Val Loss:  0.0388                     | Val F1:  0.6217\n",
      "trial 2\n",
      "Fold 0\n"
     ]
    },
    {
     "name": "stderr",
     "output_type": "stream",
     "text": [
      "100%|██████████| 4429/4429 [00:28<00:00, 156.48it/s]\n"
     ]
    },
    {
     "name": "stdout",
     "output_type": "stream",
     "text": [
      "Epochs: 1 | Train Loss:  0.0217                     | Train F1:  0.5667                     | Val Loss:  0.0205                     | Val F1:  0.5833\n"
     ]
    },
    {
     "name": "stderr",
     "output_type": "stream",
     "text": [
      "100%|██████████| 4429/4429 [00:14<00:00, 300.84it/s]\n",
      "100%|██████████| 4429/4429 [00:14<00:00, 301.24it/s]\n",
      "100%|██████████| 4429/4429 [00:14<00:00, 300.72it/s]\n",
      "100%|██████████| 4429/4429 [00:15<00:00, 294.55it/s]\n"
     ]
    },
    {
     "name": "stdout",
     "output_type": "stream",
     "text": [
      "Epochs: 5 | Train Loss:  0.0177                     | Train F1:  0.6426                     | Val Loss:  0.0166                     | Val F1:  0.7065\n"
     ]
    },
    {
     "name": "stderr",
     "output_type": "stream",
     "text": [
      "100%|██████████| 4429/4429 [00:14<00:00, 299.39it/s]\n",
      "100%|██████████| 4429/4429 [00:14<00:00, 300.66it/s]\n",
      "100%|██████████| 4429/4429 [00:14<00:00, 299.68it/s]\n",
      "100%|██████████| 4429/4429 [00:14<00:00, 300.55it/s]\n",
      "100%|██████████| 4429/4429 [00:14<00:00, 300.42it/s]\n"
     ]
    },
    {
     "name": "stdout",
     "output_type": "stream",
     "text": [
      "Epochs: 10 | Train Loss:  0.0166                     | Train F1:  0.6727                     | Val Loss:  0.0160                     | Val F1:  0.7045\n",
      "Fold 1\n"
     ]
    },
    {
     "name": "stderr",
     "output_type": "stream",
     "text": [
      "100%|██████████| 4360/4360 [00:14<00:00, 300.59it/s]\n"
     ]
    },
    {
     "name": "stdout",
     "output_type": "stream",
     "text": [
      "Epochs: 1 | Train Loss:  0.0222                     | Train F1:  0.6069                     | Val Loss:  0.0215                     | Val F1:  0.5978\n"
     ]
    },
    {
     "name": "stderr",
     "output_type": "stream",
     "text": [
      "100%|██████████| 4360/4360 [00:14<00:00, 301.35it/s]\n",
      "100%|██████████| 4360/4360 [00:14<00:00, 302.56it/s]\n",
      "100%|██████████| 4360/4360 [00:14<00:00, 302.25it/s]\n",
      "100%|██████████| 4360/4360 [00:14<00:00, 302.01it/s]\n"
     ]
    },
    {
     "name": "stdout",
     "output_type": "stream",
     "text": [
      "Epochs: 5 | Train Loss:  0.0178                     | Train F1:  0.5953                     | Val Loss:  0.0144                     | Val F1:  0.7419\n"
     ]
    },
    {
     "name": "stderr",
     "output_type": "stream",
     "text": [
      "100%|██████████| 4360/4360 [00:14<00:00, 302.35it/s]\n",
      "100%|██████████| 4360/4360 [00:14<00:00, 302.59it/s]\n",
      "100%|██████████| 4360/4360 [00:14<00:00, 303.10it/s]\n",
      "100%|██████████| 4360/4360 [00:14<00:00, 301.27it/s]\n",
      "100%|██████████| 4360/4360 [00:14<00:00, 303.17it/s]\n"
     ]
    },
    {
     "name": "stdout",
     "output_type": "stream",
     "text": [
      "Epochs: 10 | Train Loss:  0.0171                     | Train F1:  0.6184                     | Val Loss:  0.0138                     | Val F1:  0.7301\n",
      "Fold 2\n"
     ]
    },
    {
     "name": "stderr",
     "output_type": "stream",
     "text": [
      "100%|██████████| 4444/4444 [00:14<00:00, 300.67it/s]\n"
     ]
    },
    {
     "name": "stdout",
     "output_type": "stream",
     "text": [
      "Epochs: 1 | Train Loss:  0.0211                     | Train F1:  0.0663                     | Val Loss:  0.0196                     | Val F1:  0.0000\n"
     ]
    },
    {
     "name": "stderr",
     "output_type": "stream",
     "text": [
      "100%|██████████| 4444/4444 [00:14<00:00, 300.61it/s]\n",
      "100%|██████████| 4444/4444 [00:14<00:00, 300.88it/s]\n",
      "100%|██████████| 4444/4444 [00:14<00:00, 300.15it/s]\n",
      "100%|██████████| 4444/4444 [00:14<00:00, 300.42it/s]\n"
     ]
    },
    {
     "name": "stdout",
     "output_type": "stream",
     "text": [
      "Epochs: 5 | Train Loss:  0.0176                     | Train F1:  0.6246                     | Val Loss:  0.0153                     | Val F1:  0.6948\n"
     ]
    },
    {
     "name": "stderr",
     "output_type": "stream",
     "text": [
      "100%|██████████| 4444/4444 [00:14<00:00, 300.26it/s]\n",
      "100%|██████████| 4444/4444 [00:14<00:00, 301.53it/s]\n",
      "100%|██████████| 4444/4444 [00:14<00:00, 300.44it/s]\n",
      "100%|██████████| 4444/4444 [00:14<00:00, 299.68it/s]\n",
      "100%|██████████| 4444/4444 [00:14<00:00, 300.32it/s]\n"
     ]
    },
    {
     "name": "stdout",
     "output_type": "stream",
     "text": [
      "Epochs: 10 | Train Loss:  0.0168                     | Train F1:  0.6368                     | Val Loss:  0.0150                     | Val F1:  0.6807\n",
      "Fold 3\n"
     ]
    },
    {
     "name": "stderr",
     "output_type": "stream",
     "text": [
      "100%|██████████| 4250/4250 [00:14<00:00, 302.64it/s]\n"
     ]
    },
    {
     "name": "stdout",
     "output_type": "stream",
     "text": [
      "Epochs: 1 | Train Loss:  0.0215                     | Train F1:  0.4709                     | Val Loss:  0.0207                     | Val F1:  0.0000\n"
     ]
    },
    {
     "name": "stderr",
     "output_type": "stream",
     "text": [
      "100%|██████████| 4250/4250 [00:14<00:00, 303.02it/s]\n",
      "100%|██████████| 4250/4250 [00:14<00:00, 303.34it/s]\n",
      "100%|██████████| 4250/4250 [00:14<00:00, 302.80it/s]\n",
      "100%|██████████| 4250/4250 [00:14<00:00, 303.05it/s]\n"
     ]
    },
    {
     "name": "stdout",
     "output_type": "stream",
     "text": [
      "Epochs: 5 | Train Loss:  0.0181                     | Train F1:  0.5786                     | Val Loss:  0.0162                     | Val F1:  0.7078\n"
     ]
    },
    {
     "name": "stderr",
     "output_type": "stream",
     "text": [
      "100%|██████████| 4250/4250 [00:13<00:00, 303.84it/s]\n",
      "100%|██████████| 4250/4250 [00:14<00:00, 303.13it/s]\n",
      "100%|██████████| 4250/4250 [00:13<00:00, 304.01it/s]\n",
      "100%|██████████| 4250/4250 [00:14<00:00, 301.22it/s]\n",
      "100%|██████████| 4250/4250 [00:14<00:00, 302.55it/s]\n"
     ]
    },
    {
     "name": "stdout",
     "output_type": "stream",
     "text": [
      "Epochs: 10 | Train Loss:  0.0175                     | Train F1:  0.6253                     | Val Loss:  0.0157                     | Val F1:  0.7054\n",
      "Fold 4\n"
     ]
    },
    {
     "name": "stderr",
     "output_type": "stream",
     "text": [
      "100%|██████████| 4291/4291 [00:14<00:00, 302.82it/s]\n"
     ]
    },
    {
     "name": "stdout",
     "output_type": "stream",
     "text": [
      "Epochs: 1 | Train Loss:  0.0206                     | Train F1:  0.4156                     | Val Loss:  0.0211                     | Val F1:  0.0000\n"
     ]
    },
    {
     "name": "stderr",
     "output_type": "stream",
     "text": [
      "100%|██████████| 4291/4291 [00:14<00:00, 303.05it/s]\n",
      "100%|██████████| 4291/4291 [00:14<00:00, 302.99it/s]\n",
      "100%|██████████| 4291/4291 [00:14<00:00, 303.36it/s]\n",
      "100%|██████████| 4291/4291 [00:14<00:00, 303.55it/s]\n"
     ]
    },
    {
     "name": "stdout",
     "output_type": "stream",
     "text": [
      "Epochs: 5 | Train Loss:  0.0168                     | Train F1:  0.7001                     | Val Loss:  0.0202                     | Val F1:  0.6573\n"
     ]
    },
    {
     "name": "stderr",
     "output_type": "stream",
     "text": [
      "100%|██████████| 4291/4291 [00:14<00:00, 301.93it/s]\n",
      "100%|██████████| 4291/4291 [00:14<00:00, 303.06it/s]\n",
      "100%|██████████| 4291/4291 [00:14<00:00, 301.57it/s]\n",
      "100%|██████████| 4291/4291 [00:14<00:00, 302.03it/s]\n",
      "100%|██████████| 4291/4291 [00:14<00:00, 302.14it/s]\n",
      "\u001b[32m[I 2022-07-15 08:05:05,146]\u001b[0m Trial 2 finished with value: 0.6940657012575293 and parameters: {'learning_rate': 4.982872361890929e-05, 'n_layers': 3, 'n_units_l0': 6, 'dropout_l0': 0.5, 'n_units_l1': 6, 'dropout_l1': 0.30000000000000004, 'n_units_l2': 5, 'dropout_l2': 0.5}. Best is trial 2 with value: 0.6940657012575293.\u001b[0m\n"
     ]
    },
    {
     "name": "stdout",
     "output_type": "stream",
     "text": [
      "Epochs: 10 | Train Loss:  0.0160                     | Train F1:  0.7258                     | Val Loss:  0.0208                     | Val F1:  0.6496\n",
      "trial 3\n",
      "Fold 0\n"
     ]
    },
    {
     "name": "stderr",
     "output_type": "stream",
     "text": [
      "100%|██████████| 4429/4429 [00:46<00:00, 95.01it/s] \n"
     ]
    },
    {
     "name": "stdout",
     "output_type": "stream",
     "text": [
      "Epochs: 1 | Train Loss:  0.0144                     | Train F1:  0.7488                     | Val Loss:  0.0164                     | Val F1:  0.6905\n"
     ]
    },
    {
     "name": "stderr",
     "output_type": "stream",
     "text": [
      "100%|██████████| 4429/4429 [00:15<00:00, 292.88it/s]\n",
      "100%|██████████| 4429/4429 [00:15<00:00, 280.27it/s]\n",
      "100%|██████████| 4429/4429 [00:15<00:00, 294.89it/s]\n",
      "100%|██████████| 4429/4429 [00:15<00:00, 294.85it/s]\n"
     ]
    },
    {
     "name": "stdout",
     "output_type": "stream",
     "text": [
      "Epochs: 5 | Train Loss:  0.0094                     | Train F1:  0.8601                     | Val Loss:  0.0196                     | Val F1:  0.6783\n"
     ]
    },
    {
     "name": "stderr",
     "output_type": "stream",
     "text": [
      "100%|██████████| 4429/4429 [00:15<00:00, 293.65it/s]\n",
      "100%|██████████| 4429/4429 [00:15<00:00, 291.94it/s]\n",
      "100%|██████████| 4429/4429 [00:15<00:00, 294.29it/s]\n",
      "100%|██████████| 4429/4429 [00:14<00:00, 295.30it/s]\n",
      "100%|██████████| 4429/4429 [00:15<00:00, 293.47it/s]\n"
     ]
    },
    {
     "name": "stdout",
     "output_type": "stream",
     "text": [
      "Epochs: 10 | Train Loss:  0.0078                     | Train F1:  0.8846                     | Val Loss:  0.0229                     | Val F1:  0.6751\n",
      "Fold 1\n"
     ]
    },
    {
     "name": "stderr",
     "output_type": "stream",
     "text": [
      "100%|██████████| 4360/4360 [00:14<00:00, 295.55it/s]\n"
     ]
    },
    {
     "name": "stdout",
     "output_type": "stream",
     "text": [
      "Epochs: 1 | Train Loss:  0.0150                     | Train F1:  0.7466                     | Val Loss:  0.0132                     | Val F1:  0.7096\n"
     ]
    },
    {
     "name": "stderr",
     "output_type": "stream",
     "text": [
      "100%|██████████| 4360/4360 [00:14<00:00, 296.31it/s]\n",
      "100%|██████████| 4360/4360 [00:14<00:00, 297.11it/s]\n",
      "100%|██████████| 4360/4360 [00:14<00:00, 296.59it/s]\n",
      "100%|██████████| 4360/4360 [00:14<00:00, 296.25it/s]\n"
     ]
    },
    {
     "name": "stdout",
     "output_type": "stream",
     "text": [
      "Epochs: 5 | Train Loss:  0.0097                     | Train F1:  0.8558                     | Val Loss:  0.0146                     | Val F1:  0.7157\n"
     ]
    },
    {
     "name": "stderr",
     "output_type": "stream",
     "text": [
      "100%|██████████| 4360/4360 [00:14<00:00, 296.40it/s]\n",
      "100%|██████████| 4360/4360 [00:14<00:00, 296.22it/s]\n",
      "100%|██████████| 4360/4360 [00:14<00:00, 296.60it/s]\n",
      "100%|██████████| 4360/4360 [00:14<00:00, 296.75it/s]\n",
      "100%|██████████| 4360/4360 [00:14<00:00, 294.16it/s]\n"
     ]
    },
    {
     "name": "stdout",
     "output_type": "stream",
     "text": [
      "Epochs: 10 | Train Loss:  0.0081                     | Train F1:  0.8812                     | Val Loss:  0.0161                     | Val F1:  0.7026\n",
      "Fold 2\n"
     ]
    },
    {
     "name": "stderr",
     "output_type": "stream",
     "text": [
      "100%|██████████| 4444/4444 [00:14<00:00, 296.53it/s]\n"
     ]
    },
    {
     "name": "stdout",
     "output_type": "stream",
     "text": [
      "Epochs: 1 | Train Loss:  0.0150                     | Train F1:  0.7565                     | Val Loss:  0.0155                     | Val F1:  0.6984\n"
     ]
    },
    {
     "name": "stderr",
     "output_type": "stream",
     "text": [
      "100%|██████████| 4444/4444 [00:14<00:00, 297.59it/s]\n",
      "100%|██████████| 4444/4444 [00:15<00:00, 290.79it/s]\n",
      "100%|██████████| 4444/4444 [00:15<00:00, 295.19it/s]\n",
      "100%|██████████| 4444/4444 [00:14<00:00, 296.49it/s]\n"
     ]
    },
    {
     "name": "stdout",
     "output_type": "stream",
     "text": [
      "Epochs: 5 | Train Loss:  0.0097                     | Train F1:  0.8554                     | Val Loss:  0.0196                     | Val F1:  0.6827\n"
     ]
    },
    {
     "name": "stderr",
     "output_type": "stream",
     "text": [
      "100%|██████████| 4444/4444 [00:14<00:00, 296.35it/s]\n",
      "100%|██████████| 4444/4444 [00:14<00:00, 297.32it/s]\n",
      "100%|██████████| 4444/4444 [00:15<00:00, 296.13it/s]\n",
      "100%|██████████| 4444/4444 [00:15<00:00, 294.89it/s]\n",
      "100%|██████████| 4444/4444 [00:15<00:00, 295.24it/s]\n"
     ]
    },
    {
     "name": "stdout",
     "output_type": "stream",
     "text": [
      "Epochs: 10 | Train Loss:  0.0080                     | Train F1:  0.8832                     | Val Loss:  0.0234                     | Val F1:  0.6741\n",
      "Fold 3\n"
     ]
    },
    {
     "name": "stderr",
     "output_type": "stream",
     "text": [
      "100%|██████████| 4250/4250 [00:14<00:00, 296.49it/s]\n"
     ]
    },
    {
     "name": "stdout",
     "output_type": "stream",
     "text": [
      "Epochs: 1 | Train Loss:  0.0144                     | Train F1:  0.7445                     | Val Loss:  0.0162                     | Val F1:  0.7011\n"
     ]
    },
    {
     "name": "stderr",
     "output_type": "stream",
     "text": [
      "100%|██████████| 4250/4250 [00:14<00:00, 296.45it/s]\n",
      "100%|██████████| 4250/4250 [00:14<00:00, 296.37it/s]\n",
      "100%|██████████| 4250/4250 [00:14<00:00, 290.33it/s]\n",
      "100%|██████████| 4250/4250 [00:14<00:00, 296.37it/s]\n"
     ]
    },
    {
     "name": "stdout",
     "output_type": "stream",
     "text": [
      "Epochs: 5 | Train Loss:  0.0093                     | Train F1:  0.8590                     | Val Loss:  0.0200                     | Val F1:  0.6762\n"
     ]
    },
    {
     "name": "stderr",
     "output_type": "stream",
     "text": [
      "100%|██████████| 4250/4250 [00:14<00:00, 296.80it/s]\n",
      "100%|██████████| 4250/4250 [00:14<00:00, 296.30it/s]\n",
      "100%|██████████| 4250/4250 [00:14<00:00, 298.45it/s]\n",
      "100%|██████████| 4250/4250 [00:14<00:00, 297.46it/s]\n",
      "100%|██████████| 4250/4250 [00:14<00:00, 297.35it/s]\n"
     ]
    },
    {
     "name": "stdout",
     "output_type": "stream",
     "text": [
      "Epochs: 10 | Train Loss:  0.0078                     | Train F1:  0.8820                     | Val Loss:  0.0216                     | Val F1:  0.6834\n",
      "Fold 4\n"
     ]
    },
    {
     "name": "stderr",
     "output_type": "stream",
     "text": [
      "100%|██████████| 4291/4291 [00:14<00:00, 296.79it/s]\n"
     ]
    },
    {
     "name": "stdout",
     "output_type": "stream",
     "text": [
      "Epochs: 1 | Train Loss:  0.0133                     | Train F1:  0.7364                     | Val Loss:  0.0235                     | Val F1:  0.5884\n"
     ]
    },
    {
     "name": "stderr",
     "output_type": "stream",
     "text": [
      "100%|██████████| 4291/4291 [00:14<00:00, 296.55it/s]\n",
      "100%|██████████| 4291/4291 [00:14<00:00, 298.92it/s]\n",
      "100%|██████████| 4291/4291 [00:14<00:00, 297.61it/s]\n",
      "100%|██████████| 4291/4291 [00:14<00:00, 298.22it/s]\n"
     ]
    },
    {
     "name": "stdout",
     "output_type": "stream",
     "text": [
      "Epochs: 5 | Train Loss:  0.0085                     | Train F1:  0.8687                     | Val Loss:  0.0289                     | Val F1:  0.6119\n"
     ]
    },
    {
     "name": "stderr",
     "output_type": "stream",
     "text": [
      "100%|██████████| 4291/4291 [00:14<00:00, 293.45it/s]\n",
      "100%|██████████| 4291/4291 [00:14<00:00, 297.61it/s]\n",
      "100%|██████████| 4291/4291 [00:14<00:00, 291.38it/s]\n",
      "100%|██████████| 4291/4291 [00:14<00:00, 297.26it/s]\n",
      "100%|██████████| 4291/4291 [00:14<00:00, 295.20it/s]\n",
      "\u001b[32m[I 2022-07-15 08:20:15,760]\u001b[0m Trial 3 finished with value: 0.6699836215757257 and parameters: {'learning_rate': 0.000247904104731247, 'n_layers': 3, 'n_units_l0': 42, 'dropout_l0': 0.4, 'n_units_l1': 33, 'dropout_l1': 0.4, 'n_units_l2': 10, 'dropout_l2': 0.35000000000000003}. Best is trial 2 with value: 0.6940657012575293.\u001b[0m\n"
     ]
    },
    {
     "name": "stdout",
     "output_type": "stream",
     "text": [
      "Epochs: 10 | Train Loss:  0.0069                     | Train F1:  0.8959                     | Val Loss:  0.0333                     | Val F1:  0.6147\n",
      "trial 4\n",
      "Fold 0\n"
     ]
    },
    {
     "name": "stderr",
     "output_type": "stream",
     "text": [
      "100%|██████████| 4429/4429 [00:21<00:00, 206.64it/s]\n"
     ]
    },
    {
     "name": "stdout",
     "output_type": "stream",
     "text": [
      "Epochs: 1 | Train Loss:  0.0194                     | Train F1:  0.6333                     | Val Loss:  0.0164                     | Val F1:  0.7098\n"
     ]
    },
    {
     "name": "stderr",
     "output_type": "stream",
     "text": [
      "100%|██████████| 4429/4429 [00:14<00:00, 298.22it/s]\n",
      "100%|██████████| 4429/4429 [00:14<00:00, 299.43it/s]\n",
      "100%|██████████| 4429/4429 [00:14<00:00, 300.09it/s]\n",
      "100%|██████████| 4429/4429 [00:14<00:00, 302.25it/s]\n"
     ]
    },
    {
     "name": "stdout",
     "output_type": "stream",
     "text": [
      "Epochs: 5 | Train Loss:  0.0144                     | Train F1:  0.7569                     | Val Loss:  0.0161                     | Val F1:  0.7054\n"
     ]
    },
    {
     "name": "stderr",
     "output_type": "stream",
     "text": [
      "100%|██████████| 4429/4429 [00:14<00:00, 300.81it/s]\n",
      "100%|██████████| 4429/4429 [00:14<00:00, 301.22it/s]\n",
      "100%|██████████| 4429/4429 [00:14<00:00, 298.14it/s]\n",
      "100%|██████████| 4429/4429 [00:14<00:00, 299.99it/s]\n",
      "100%|██████████| 4429/4429 [00:14<00:00, 301.39it/s]\n"
     ]
    },
    {
     "name": "stdout",
     "output_type": "stream",
     "text": [
      "Epochs: 10 | Train Loss:  0.0135                     | Train F1:  0.7716                     | Val Loss:  0.0163                     | Val F1:  0.7061\n",
      "Fold 1\n"
     ]
    },
    {
     "name": "stderr",
     "output_type": "stream",
     "text": [
      "100%|██████████| 4360/4360 [00:14<00:00, 301.56it/s]\n"
     ]
    },
    {
     "name": "stdout",
     "output_type": "stream",
     "text": [
      "Epochs: 1 | Train Loss:  0.0199                     | Train F1:  0.5466                     | Val Loss:  0.0145                     | Val F1:  0.7546\n"
     ]
    },
    {
     "name": "stderr",
     "output_type": "stream",
     "text": [
      "100%|██████████| 4360/4360 [00:14<00:00, 301.65it/s]\n",
      "100%|██████████| 4360/4360 [00:14<00:00, 301.08it/s]\n",
      "100%|██████████| 4360/4360 [00:14<00:00, 301.10it/s]\n",
      "100%|██████████| 4360/4360 [00:14<00:00, 302.06it/s]\n"
     ]
    },
    {
     "name": "stdout",
     "output_type": "stream",
     "text": [
      "Epochs: 5 | Train Loss:  0.0149                     | Train F1:  0.7389                     | Val Loss:  0.0131                     | Val F1:  0.7167\n"
     ]
    },
    {
     "name": "stderr",
     "output_type": "stream",
     "text": [
      "100%|██████████| 4360/4360 [00:14<00:00, 301.24it/s]\n",
      "100%|██████████| 4360/4360 [00:14<00:00, 301.80it/s]\n",
      "100%|██████████| 4360/4360 [00:14<00:00, 298.74it/s]\n",
      "100%|██████████| 4360/4360 [00:14<00:00, 299.85it/s]\n",
      "100%|██████████| 4360/4360 [00:14<00:00, 302.50it/s]\n"
     ]
    },
    {
     "name": "stdout",
     "output_type": "stream",
     "text": [
      "Epochs: 10 | Train Loss:  0.0140                     | Train F1:  0.7586                     | Val Loss:  0.0136                     | Val F1:  0.7017\n",
      "Fold 2\n"
     ]
    },
    {
     "name": "stderr",
     "output_type": "stream",
     "text": [
      "100%|██████████| 4444/4444 [00:14<00:00, 301.48it/s]\n"
     ]
    },
    {
     "name": "stdout",
     "output_type": "stream",
     "text": [
      "Epochs: 1 | Train Loss:  0.0194                     | Train F1:  0.6083                     | Val Loss:  0.0158                     | Val F1:  0.6961\n"
     ]
    },
    {
     "name": "stderr",
     "output_type": "stream",
     "text": [
      "100%|██████████| 4444/4444 [00:14<00:00, 300.57it/s]\n",
      "100%|██████████| 4444/4444 [00:14<00:00, 300.21it/s]\n",
      "100%|██████████| 4444/4444 [00:14<00:00, 300.24it/s]\n",
      "100%|██████████| 4444/4444 [00:14<00:00, 300.77it/s]\n"
     ]
    },
    {
     "name": "stdout",
     "output_type": "stream",
     "text": [
      "Epochs: 5 | Train Loss:  0.0159                     | Train F1:  0.7521                     | Val Loss:  0.0154                     | Val F1:  0.7039\n"
     ]
    },
    {
     "name": "stderr",
     "output_type": "stream",
     "text": [
      "100%|██████████| 4444/4444 [00:14<00:00, 301.06it/s]\n",
      "100%|██████████| 4444/4444 [00:14<00:00, 300.63it/s]\n",
      "100%|██████████| 4444/4444 [00:14<00:00, 300.82it/s]\n",
      "100%|██████████| 4444/4444 [00:14<00:00, 299.29it/s]\n",
      "100%|██████████| 4444/4444 [00:14<00:00, 299.87it/s]\n"
     ]
    },
    {
     "name": "stdout",
     "output_type": "stream",
     "text": [
      "Epochs: 10 | Train Loss:  0.0147                     | Train F1:  0.7727                     | Val Loss:  0.0164                     | Val F1:  0.6932\n",
      "Fold 3\n"
     ]
    },
    {
     "name": "stderr",
     "output_type": "stream",
     "text": [
      "100%|██████████| 4250/4250 [00:14<00:00, 302.45it/s]\n"
     ]
    },
    {
     "name": "stdout",
     "output_type": "stream",
     "text": [
      "Epochs: 1 | Train Loss:  0.0194                     | Train F1:  0.5384                     | Val Loss:  0.0161                     | Val F1:  0.7028\n"
     ]
    },
    {
     "name": "stderr",
     "output_type": "stream",
     "text": [
      "100%|██████████| 4250/4250 [00:14<00:00, 301.98it/s]\n",
      "100%|██████████| 4250/4250 [00:14<00:00, 302.04it/s]\n",
      "100%|██████████| 4250/4250 [00:14<00:00, 301.64it/s]\n",
      "100%|██████████| 4250/4250 [00:14<00:00, 302.17it/s]\n"
     ]
    },
    {
     "name": "stdout",
     "output_type": "stream",
     "text": [
      "Epochs: 5 | Train Loss:  0.0147                     | Train F1:  0.7300                     | Val Loss:  0.0154                     | Val F1:  0.6960\n"
     ]
    },
    {
     "name": "stderr",
     "output_type": "stream",
     "text": [
      "100%|██████████| 4250/4250 [00:14<00:00, 302.05it/s]\n",
      "100%|██████████| 4250/4250 [00:14<00:00, 301.41it/s]\n",
      "100%|██████████| 4250/4250 [00:14<00:00, 302.76it/s]\n",
      "100%|██████████| 4250/4250 [00:14<00:00, 301.00it/s]\n",
      "100%|██████████| 4250/4250 [00:14<00:00, 302.69it/s]\n"
     ]
    },
    {
     "name": "stdout",
     "output_type": "stream",
     "text": [
      "Epochs: 10 | Train Loss:  0.0141                     | Train F1:  0.7404                     | Val Loss:  0.0159                     | Val F1:  0.6883\n",
      "Fold 4\n"
     ]
    },
    {
     "name": "stderr",
     "output_type": "stream",
     "text": [
      "100%|██████████| 4291/4291 [00:14<00:00, 303.12it/s]\n"
     ]
    },
    {
     "name": "stdout",
     "output_type": "stream",
     "text": [
      "Epochs: 1 | Train Loss:  0.0179                     | Train F1:  0.5353                     | Val Loss:  0.0206                     | Val F1:  0.6103\n"
     ]
    },
    {
     "name": "stderr",
     "output_type": "stream",
     "text": [
      "100%|██████████| 4291/4291 [00:14<00:00, 302.52it/s]\n",
      "100%|██████████| 4291/4291 [00:14<00:00, 302.24it/s]\n",
      "100%|██████████| 4291/4291 [00:14<00:00, 301.20it/s]\n",
      "100%|██████████| 4291/4291 [00:14<00:00, 301.45it/s]\n"
     ]
    },
    {
     "name": "stdout",
     "output_type": "stream",
     "text": [
      "Epochs: 5 | Train Loss:  0.0132                     | Train F1:  0.7455                     | Val Loss:  0.0223                     | Val F1:  0.6188\n"
     ]
    },
    {
     "name": "stderr",
     "output_type": "stream",
     "text": [
      "100%|██████████| 4291/4291 [00:14<00:00, 302.13it/s]\n",
      "100%|██████████| 4291/4291 [00:14<00:00, 302.18it/s]\n",
      "100%|██████████| 4291/4291 [00:14<00:00, 301.85it/s]\n",
      "100%|██████████| 4291/4291 [00:14<00:00, 302.15it/s]\n",
      "100%|██████████| 4291/4291 [00:14<00:00, 301.43it/s]\n",
      "\u001b[32m[I 2022-07-15 08:34:41,911]\u001b[0m Trial 4 finished with value: 0.6811727476173306 and parameters: {'learning_rate': 0.00011086866392496992, 'n_layers': 3, 'n_units_l0': 9, 'dropout_l0': 0.4, 'n_units_l1': 7, 'dropout_l1': 0.4, 'n_units_l2': 5, 'dropout_l2': 0.25}. Best is trial 2 with value: 0.6940657012575293.\u001b[0m\n"
     ]
    },
    {
     "name": "stdout",
     "output_type": "stream",
     "text": [
      "Epochs: 10 | Train Loss:  0.0124                     | Train F1:  0.7648                     | Val Loss:  0.0237                     | Val F1:  0.6167\n",
      "trial 5\n",
      "Fold 0\n"
     ]
    },
    {
     "name": "stderr",
     "output_type": "stream",
     "text": [
      "100%|██████████| 4429/4429 [00:30<00:00, 146.70it/s]\n"
     ]
    },
    {
     "name": "stdout",
     "output_type": "stream",
     "text": [
      "Epochs: 1 | Train Loss:  0.0221                     | Train F1:  0.6010                     | Val Loss:  0.0200                     | Val F1:  0.7142\n"
     ]
    },
    {
     "name": "stderr",
     "output_type": "stream",
     "text": [
      "100%|██████████| 4429/4429 [00:15<00:00, 289.35it/s]\n",
      "100%|██████████| 4429/4429 [00:15<00:00, 288.50it/s]\n",
      "100%|██████████| 4429/4429 [00:15<00:00, 292.18it/s]\n",
      "100%|██████████| 4429/4429 [00:15<00:00, 292.94it/s]\n"
     ]
    },
    {
     "name": "stdout",
     "output_type": "stream",
     "text": [
      "Epochs: 5 | Train Loss:  0.0164                     | Train F1:  0.6799                     | Val Loss:  0.0159                     | Val F1:  0.7041\n"
     ]
    },
    {
     "name": "stderr",
     "output_type": "stream",
     "text": [
      "100%|██████████| 4429/4429 [00:15<00:00, 290.68it/s]\n",
      "100%|██████████| 4429/4429 [00:15<00:00, 291.62it/s]\n",
      "100%|██████████| 4429/4429 [00:15<00:00, 292.18it/s]\n",
      "100%|██████████| 4429/4429 [00:15<00:00, 288.77it/s]\n",
      "100%|██████████| 4429/4429 [00:15<00:00, 292.16it/s]\n"
     ]
    },
    {
     "name": "stdout",
     "output_type": "stream",
     "text": [
      "Epochs: 10 | Train Loss:  0.0155                     | Train F1:  0.6949                     | Val Loss:  0.0160                     | Val F1:  0.6847\n",
      "Fold 1\n"
     ]
    },
    {
     "name": "stderr",
     "output_type": "stream",
     "text": [
      "100%|██████████| 4360/4360 [00:14<00:00, 291.71it/s]\n"
     ]
    },
    {
     "name": "stdout",
     "output_type": "stream",
     "text": [
      "Epochs: 1 | Train Loss:  0.0200                     | Train F1:  0.0000                     | Val Loss:  0.0160                     | Val F1:  0.0000\n"
     ]
    },
    {
     "name": "stderr",
     "output_type": "stream",
     "text": [
      "100%|██████████| 4360/4360 [00:14<00:00, 291.87it/s]\n",
      "100%|██████████| 4360/4360 [00:14<00:00, 291.87it/s]\n",
      "100%|██████████| 4360/4360 [00:14<00:00, 291.29it/s]\n",
      "100%|██████████| 4360/4360 [00:14<00:00, 291.69it/s]\n"
     ]
    },
    {
     "name": "stdout",
     "output_type": "stream",
     "text": [
      "Epochs: 5 | Train Loss:  0.0161                     | Train F1:  0.7640                     | Val Loss:  0.0140                     | Val F1:  0.7401\n"
     ]
    },
    {
     "name": "stderr",
     "output_type": "stream",
     "text": [
      "100%|██████████| 4360/4360 [00:14<00:00, 291.81it/s]\n",
      "100%|██████████| 4360/4360 [00:14<00:00, 290.88it/s]\n",
      "100%|██████████| 4360/4360 [00:14<00:00, 291.17it/s]\n",
      "100%|██████████| 4360/4360 [00:14<00:00, 291.75it/s]\n",
      "100%|██████████| 4360/4360 [00:14<00:00, 291.94it/s]\n"
     ]
    },
    {
     "name": "stdout",
     "output_type": "stream",
     "text": [
      "Epochs: 10 | Train Loss:  0.0149                     | Train F1:  0.7779                     | Val Loss:  0.0134                     | Val F1:  0.7360\n",
      "Fold 2\n"
     ]
    },
    {
     "name": "stderr",
     "output_type": "stream",
     "text": [
      "100%|██████████| 4444/4444 [00:15<00:00, 290.78it/s]\n"
     ]
    },
    {
     "name": "stdout",
     "output_type": "stream",
     "text": [
      "Epochs: 1 | Train Loss:  0.0194                     | Train F1:  0.5936                     | Val Loss:  0.0156                     | Val F1:  0.6904\n"
     ]
    },
    {
     "name": "stderr",
     "output_type": "stream",
     "text": [
      "100%|██████████| 4444/4444 [00:15<00:00, 290.36it/s]\n",
      "100%|██████████| 4444/4444 [00:15<00:00, 291.53it/s]\n",
      "100%|██████████| 4444/4444 [00:15<00:00, 290.93it/s]\n",
      "100%|██████████| 4444/4444 [00:15<00:00, 288.80it/s]\n"
     ]
    },
    {
     "name": "stdout",
     "output_type": "stream",
     "text": [
      "Epochs: 5 | Train Loss:  0.0151                     | Train F1:  0.7403                     | Val Loss:  0.0148                     | Val F1:  0.6999\n"
     ]
    },
    {
     "name": "stderr",
     "output_type": "stream",
     "text": [
      "100%|██████████| 4444/4444 [00:15<00:00, 288.92it/s]\n",
      "100%|██████████| 4444/4444 [00:15<00:00, 291.52it/s]\n",
      "100%|██████████| 4444/4444 [00:15<00:00, 290.84it/s]\n",
      "100%|██████████| 4444/4444 [00:15<00:00, 290.23it/s]\n",
      "100%|██████████| 4444/4444 [00:15<00:00, 290.31it/s]\n"
     ]
    },
    {
     "name": "stdout",
     "output_type": "stream",
     "text": [
      "Epochs: 10 | Train Loss:  0.0141                     | Train F1:  0.7613                     | Val Loss:  0.0156                     | Val F1:  0.6931\n",
      "Fold 3\n"
     ]
    },
    {
     "name": "stderr",
     "output_type": "stream",
     "text": [
      "100%|██████████| 4250/4250 [00:14<00:00, 292.67it/s]\n"
     ]
    },
    {
     "name": "stdout",
     "output_type": "stream",
     "text": [
      "Epochs: 1 | Train Loss:  0.0198                     | Train F1:  0.3467                     | Val Loss:  0.0167                     | Val F1:  0.6867\n"
     ]
    },
    {
     "name": "stderr",
     "output_type": "stream",
     "text": [
      "100%|██████████| 4250/4250 [00:14<00:00, 292.97it/s]\n",
      "100%|██████████| 4250/4250 [00:14<00:00, 292.09it/s]\n",
      "100%|██████████| 4250/4250 [00:14<00:00, 293.22it/s]\n",
      "100%|██████████| 4250/4250 [00:14<00:00, 292.51it/s]\n"
     ]
    },
    {
     "name": "stdout",
     "output_type": "stream",
     "text": [
      "Epochs: 5 | Train Loss:  0.0157                     | Train F1:  0.6823                     | Val Loss:  0.0151                     | Val F1:  0.7073\n"
     ]
    },
    {
     "name": "stderr",
     "output_type": "stream",
     "text": [
      "100%|██████████| 4250/4250 [00:14<00:00, 293.31it/s]\n",
      "100%|██████████| 4250/4250 [00:14<00:00, 292.18it/s]\n",
      "100%|██████████| 4250/4250 [00:14<00:00, 293.99it/s]\n",
      "100%|██████████| 4250/4250 [00:14<00:00, 293.89it/s]\n",
      "100%|██████████| 4250/4250 [00:14<00:00, 294.73it/s]\n"
     ]
    },
    {
     "name": "stdout",
     "output_type": "stream",
     "text": [
      "Epochs: 10 | Train Loss:  0.0146                     | Train F1:  0.7363                     | Val Loss:  0.0156                     | Val F1:  0.6949\n",
      "Fold 4\n"
     ]
    },
    {
     "name": "stderr",
     "output_type": "stream",
     "text": [
      "100%|██████████| 4291/4291 [00:14<00:00, 291.83it/s]\n"
     ]
    },
    {
     "name": "stdout",
     "output_type": "stream",
     "text": [
      "Epochs: 1 | Train Loss:  0.0198                     | Train F1:  0.1972                     | Val Loss:  0.0207                     | Val F1:  0.4512\n"
     ]
    },
    {
     "name": "stderr",
     "output_type": "stream",
     "text": [
      "100%|██████████| 4291/4291 [00:15<00:00, 284.69it/s]\n",
      "100%|██████████| 4291/4291 [00:14<00:00, 291.49it/s]\n",
      "100%|██████████| 4291/4291 [00:14<00:00, 292.09it/s]\n",
      "100%|██████████| 4291/4291 [00:14<00:00, 291.54it/s]\n"
     ]
    },
    {
     "name": "stdout",
     "output_type": "stream",
     "text": [
      "Epochs: 5 | Train Loss:  0.0154                     | Train F1:  0.6720                     | Val Loss:  0.0206                     | Val F1:  0.6176\n"
     ]
    },
    {
     "name": "stderr",
     "output_type": "stream",
     "text": [
      "100%|██████████| 4291/4291 [00:14<00:00, 291.60it/s]\n",
      "100%|██████████| 4291/4291 [00:14<00:00, 293.11it/s]\n",
      "100%|██████████| 4291/4291 [00:14<00:00, 292.58it/s]\n",
      "100%|██████████| 4291/4291 [00:14<00:00, 293.38it/s]\n",
      "100%|██████████| 4291/4291 [00:14<00:00, 292.32it/s]\n",
      "\u001b[32m[I 2022-07-15 08:49:51,966]\u001b[0m Trial 5 finished with value: 0.6816895622026544 and parameters: {'learning_rate': 5.0922458219930706e-05, 'n_layers': 3, 'n_units_l0': 33, 'dropout_l0': 0.5, 'n_units_l1': 8, 'dropout_l1': 0.25, 'n_units_l2': 5, 'dropout_l2': 0.45}. Best is trial 2 with value: 0.6940657012575293.\u001b[0m\n"
     ]
    },
    {
     "name": "stdout",
     "output_type": "stream",
     "text": [
      "Epochs: 10 | Train Loss:  0.0146                     | Train F1:  0.6886                     | Val Loss:  0.0213                     | Val F1:  0.5998\n",
      "trial 6\n",
      "Fold 0\n"
     ]
    },
    {
     "name": "stderr",
     "output_type": "stream",
     "text": [
      "100%|██████████| 4429/4429 [00:40<00:00, 109.08it/s]\n"
     ]
    },
    {
     "name": "stdout",
     "output_type": "stream",
     "text": [
      "Epochs: 1 | Train Loss:  0.0145                     | Train F1:  0.7336                     | Val Loss:  0.0157                     | Val F1:  0.7022\n"
     ]
    },
    {
     "name": "stderr",
     "output_type": "stream",
     "text": [
      "100%|██████████| 4429/4429 [00:12<00:00, 358.30it/s]\n",
      "100%|██████████| 4429/4429 [00:12<00:00, 359.16it/s]\n",
      "100%|██████████| 4429/4429 [00:12<00:00, 357.52it/s]\n",
      "100%|██████████| 4429/4429 [00:12<00:00, 360.22it/s]\n"
     ]
    },
    {
     "name": "stdout",
     "output_type": "stream",
     "text": [
      "Epochs: 5 | Train Loss:  0.0122                     | Train F1:  0.7813                     | Val Loss:  0.0166                     | Val F1:  0.6875\n"
     ]
    },
    {
     "name": "stderr",
     "output_type": "stream",
     "text": [
      "100%|██████████| 4429/4429 [00:12<00:00, 360.35it/s]\n",
      "100%|██████████| 4429/4429 [00:12<00:00, 361.40it/s]\n",
      "100%|██████████| 4429/4429 [00:12<00:00, 364.81it/s]\n",
      "100%|██████████| 4429/4429 [00:12<00:00, 363.82it/s]\n",
      "100%|██████████| 4429/4429 [00:12<00:00, 362.72it/s]\n"
     ]
    },
    {
     "name": "stdout",
     "output_type": "stream",
     "text": [
      "Epochs: 10 | Train Loss:  0.0117                     | Train F1:  0.7892                     | Val Loss:  0.0166                     | Val F1:  0.6823\n",
      "Fold 1\n"
     ]
    },
    {
     "name": "stderr",
     "output_type": "stream",
     "text": [
      "100%|██████████| 4360/4360 [00:11<00:00, 365.28it/s]\n"
     ]
    },
    {
     "name": "stdout",
     "output_type": "stream",
     "text": [
      "Epochs: 1 | Train Loss:  0.0153                     | Train F1:  0.7278                     | Val Loss:  0.0131                     | Val F1:  0.7355\n"
     ]
    },
    {
     "name": "stderr",
     "output_type": "stream",
     "text": [
      "100%|██████████| 4360/4360 [00:11<00:00, 366.15it/s]\n",
      "100%|██████████| 4360/4360 [00:11<00:00, 366.98it/s]\n",
      "100%|██████████| 4360/4360 [00:12<00:00, 362.89it/s]\n",
      "100%|██████████| 4360/4360 [00:11<00:00, 364.52it/s]\n"
     ]
    },
    {
     "name": "stdout",
     "output_type": "stream",
     "text": [
      "Epochs: 5 | Train Loss:  0.0129                     | Train F1:  0.7945                     | Val Loss:  0.0134                     | Val F1:  0.7142\n"
     ]
    },
    {
     "name": "stderr",
     "output_type": "stream",
     "text": [
      "100%|██████████| 4360/4360 [00:11<00:00, 363.37it/s]\n",
      "100%|██████████| 4360/4360 [00:11<00:00, 364.96it/s]\n",
      "100%|██████████| 4360/4360 [00:11<00:00, 365.38it/s]\n",
      "100%|██████████| 4360/4360 [00:11<00:00, 364.22it/s]\n",
      "100%|██████████| 4360/4360 [00:11<00:00, 365.81it/s]\n"
     ]
    },
    {
     "name": "stdout",
     "output_type": "stream",
     "text": [
      "Epochs: 10 | Train Loss:  0.0123                     | Train F1:  0.8051                     | Val Loss:  0.0133                     | Val F1:  0.7264\n",
      "Fold 2\n"
     ]
    },
    {
     "name": "stderr",
     "output_type": "stream",
     "text": [
      "100%|██████████| 4444/4444 [00:12<00:00, 364.12it/s]\n"
     ]
    },
    {
     "name": "stdout",
     "output_type": "stream",
     "text": [
      "Epochs: 1 | Train Loss:  0.0148                     | Train F1:  0.7378                     | Val Loss:  0.0152                     | Val F1:  0.6715\n"
     ]
    },
    {
     "name": "stderr",
     "output_type": "stream",
     "text": [
      "100%|██████████| 4444/4444 [00:12<00:00, 364.82it/s]\n",
      "100%|██████████| 4444/4444 [00:12<00:00, 365.01it/s]\n",
      "100%|██████████| 4444/4444 [00:12<00:00, 364.46it/s]\n",
      "100%|██████████| 4444/4444 [00:12<00:00, 364.79it/s]\n"
     ]
    },
    {
     "name": "stdout",
     "output_type": "stream",
     "text": [
      "Epochs: 5 | Train Loss:  0.0124                     | Train F1:  0.7744                     | Val Loss:  0.0172                     | Val F1:  0.6694\n"
     ]
    },
    {
     "name": "stderr",
     "output_type": "stream",
     "text": [
      "100%|██████████| 4444/4444 [00:12<00:00, 364.62it/s]\n",
      "100%|██████████| 4444/4444 [00:12<00:00, 364.20it/s]\n",
      "100%|██████████| 4444/4444 [00:12<00:00, 363.47it/s]\n",
      "100%|██████████| 4444/4444 [00:12<00:00, 365.19it/s]\n",
      "100%|██████████| 4444/4444 [00:12<00:00, 363.98it/s]\n"
     ]
    },
    {
     "name": "stdout",
     "output_type": "stream",
     "text": [
      "Epochs: 10 | Train Loss:  0.0119                     | Train F1:  0.7826                     | Val Loss:  0.0174                     | Val F1:  0.6679\n",
      "Fold 3\n"
     ]
    },
    {
     "name": "stderr",
     "output_type": "stream",
     "text": [
      "100%|██████████| 4250/4250 [00:11<00:00, 367.56it/s]\n"
     ]
    },
    {
     "name": "stdout",
     "output_type": "stream",
     "text": [
      "Epochs: 1 | Train Loss:  0.0149                     | Train F1:  0.7169                     | Val Loss:  0.0157                     | Val F1:  0.7051\n"
     ]
    },
    {
     "name": "stderr",
     "output_type": "stream",
     "text": [
      "100%|██████████| 4250/4250 [00:11<00:00, 366.92it/s]\n",
      "100%|██████████| 4250/4250 [00:11<00:00, 365.50it/s]\n",
      "100%|██████████| 4250/4250 [00:11<00:00, 364.59it/s]\n",
      "100%|██████████| 4250/4250 [00:11<00:00, 366.31it/s]\n"
     ]
    },
    {
     "name": "stdout",
     "output_type": "stream",
     "text": [
      "Epochs: 5 | Train Loss:  0.0124                     | Train F1:  0.8017                     | Val Loss:  0.0162                     | Val F1:  0.7093\n"
     ]
    },
    {
     "name": "stderr",
     "output_type": "stream",
     "text": [
      "100%|██████████| 4250/4250 [00:11<00:00, 368.03it/s]\n",
      "100%|██████████| 4250/4250 [00:11<00:00, 364.32it/s]\n",
      "100%|██████████| 4250/4250 [00:11<00:00, 364.13it/s]\n",
      "100%|██████████| 4250/4250 [00:11<00:00, 365.79it/s]\n",
      "100%|██████████| 4250/4250 [00:11<00:00, 365.89it/s]\n"
     ]
    },
    {
     "name": "stdout",
     "output_type": "stream",
     "text": [
      "Epochs: 10 | Train Loss:  0.0118                     | Train F1:  0.8134                     | Val Loss:  0.0164                     | Val F1:  0.7099\n",
      "Fold 4\n"
     ]
    },
    {
     "name": "stderr",
     "output_type": "stream",
     "text": [
      "100%|██████████| 4291/4291 [00:11<00:00, 365.87it/s]\n"
     ]
    },
    {
     "name": "stdout",
     "output_type": "stream",
     "text": [
      "Epochs: 1 | Train Loss:  0.0136                     | Train F1:  0.7096                     | Val Loss:  0.0222                     | Val F1:  0.6130\n"
     ]
    },
    {
     "name": "stderr",
     "output_type": "stream",
     "text": [
      "100%|██████████| 4291/4291 [00:11<00:00, 366.95it/s]\n",
      "100%|██████████| 4291/4291 [00:11<00:00, 367.24it/s]\n",
      "100%|██████████| 4291/4291 [00:11<00:00, 366.05it/s]\n",
      "100%|██████████| 4291/4291 [00:11<00:00, 366.62it/s]\n"
     ]
    },
    {
     "name": "stdout",
     "output_type": "stream",
     "text": [
      "Epochs: 5 | Train Loss:  0.0112                     | Train F1:  0.8092                     | Val Loss:  0.0235                     | Val F1:  0.6359\n"
     ]
    },
    {
     "name": "stderr",
     "output_type": "stream",
     "text": [
      "100%|██████████| 4291/4291 [00:11<00:00, 365.79it/s]\n",
      "100%|██████████| 4291/4291 [00:11<00:00, 357.78it/s]\n",
      "100%|██████████| 4291/4291 [00:11<00:00, 366.07it/s]\n",
      "100%|██████████| 4291/4291 [00:11<00:00, 361.79it/s]\n",
      "100%|██████████| 4291/4291 [00:12<00:00, 350.33it/s]\n",
      "\u001b[32m[I 2022-07-15 09:02:51,862]\u001b[0m Trial 6 finished with value: 0.6844227738947384 and parameters: {'learning_rate': 0.0007759526997127329, 'n_layers': 1, 'n_units_l0': 5, 'dropout_l0': 0.30000000000000004}. Best is trial 2 with value: 0.6940657012575293.\u001b[0m\n"
     ]
    },
    {
     "name": "stdout",
     "output_type": "stream",
     "text": [
      "Epochs: 10 | Train Loss:  0.0106                     | Train F1:  0.8197                     | Val Loss:  0.0245                     | Val F1:  0.6356\n",
      "trial 7\n",
      "Fold 0\n"
     ]
    },
    {
     "name": "stderr",
     "output_type": "stream",
     "text": [
      "100%|██████████| 4429/4429 [00:26<00:00, 168.79it/s]\n"
     ]
    },
    {
     "name": "stdout",
     "output_type": "stream",
     "text": [
      "Epochs: 1 | Train Loss:  0.0165                     | Train F1:  0.6544                     | Val Loss:  0.0154                     | Val F1:  0.7117\n"
     ]
    },
    {
     "name": "stderr",
     "output_type": "stream",
     "text": [
      "100%|██████████| 4429/4429 [00:13<00:00, 317.55it/s]\n",
      "100%|██████████| 4429/4429 [00:14<00:00, 304.03it/s]\n",
      "100%|██████████| 4429/4429 [00:14<00:00, 312.19it/s]\n",
      "100%|██████████| 4429/4429 [00:14<00:00, 310.18it/s]\n"
     ]
    },
    {
     "name": "stdout",
     "output_type": "stream",
     "text": [
      "Epochs: 5 | Train Loss:  0.0124                     | Train F1:  0.7917                     | Val Loss:  0.0164                     | Val F1:  0.6908\n"
     ]
    },
    {
     "name": "stderr",
     "output_type": "stream",
     "text": [
      "100%|██████████| 4429/4429 [00:14<00:00, 299.66it/s]\n",
      "100%|██████████| 4429/4429 [00:14<00:00, 313.55it/s]\n",
      "100%|██████████| 4429/4429 [00:14<00:00, 312.52it/s]\n",
      "100%|██████████| 4429/4429 [00:14<00:00, 313.84it/s]\n",
      "100%|██████████| 4429/4429 [00:14<00:00, 314.80it/s]\n"
     ]
    },
    {
     "name": "stdout",
     "output_type": "stream",
     "text": [
      "Epochs: 10 | Train Loss:  0.0110                     | Train F1:  0.8240                     | Val Loss:  0.0174                     | Val F1:  0.6857\n",
      "Fold 1\n"
     ]
    },
    {
     "name": "stderr",
     "output_type": "stream",
     "text": [
      "100%|██████████| 4360/4360 [00:13<00:00, 312.74it/s]\n"
     ]
    },
    {
     "name": "stdout",
     "output_type": "stream",
     "text": [
      "Epochs: 1 | Train Loss:  0.0168                     | Train F1:  0.6497                     | Val Loss:  0.0129                     | Val F1:  0.7437\n"
     ]
    },
    {
     "name": "stderr",
     "output_type": "stream",
     "text": [
      "100%|██████████| 4360/4360 [00:13<00:00, 314.86it/s]\n",
      "100%|██████████| 4360/4360 [00:13<00:00, 313.42it/s]\n",
      "100%|██████████| 4360/4360 [00:13<00:00, 313.86it/s]\n",
      "100%|██████████| 4360/4360 [00:13<00:00, 312.81it/s]\n"
     ]
    },
    {
     "name": "stdout",
     "output_type": "stream",
     "text": [
      "Epochs: 5 | Train Loss:  0.0131                     | Train F1:  0.7809                     | Val Loss:  0.0132                     | Val F1:  0.7063\n"
     ]
    },
    {
     "name": "stderr",
     "output_type": "stream",
     "text": [
      "100%|██████████| 4360/4360 [00:13<00:00, 312.60it/s]\n",
      "100%|██████████| 4360/4360 [00:13<00:00, 313.16it/s]\n",
      "100%|██████████| 4360/4360 [00:14<00:00, 311.04it/s]\n",
      "100%|██████████| 4360/4360 [00:13<00:00, 314.70it/s]\n",
      "100%|██████████| 4360/4360 [00:14<00:00, 307.67it/s]\n"
     ]
    },
    {
     "name": "stdout",
     "output_type": "stream",
     "text": [
      "Epochs: 10 | Train Loss:  0.0115                     | Train F1:  0.8174                     | Val Loss:  0.0134                     | Val F1:  0.7199\n",
      "Fold 2\n"
     ]
    },
    {
     "name": "stderr",
     "output_type": "stream",
     "text": [
      "100%|██████████| 4444/4444 [00:14<00:00, 312.33it/s]\n"
     ]
    },
    {
     "name": "stdout",
     "output_type": "stream",
     "text": [
      "Epochs: 1 | Train Loss:  0.0168                     | Train F1:  0.6846                     | Val Loss:  0.0146                     | Val F1:  0.6946\n"
     ]
    },
    {
     "name": "stderr",
     "output_type": "stream",
     "text": [
      "100%|██████████| 4444/4444 [00:14<00:00, 308.49it/s]\n",
      "100%|██████████| 4444/4444 [00:14<00:00, 309.30it/s]\n",
      "100%|██████████| 4444/4444 [00:14<00:00, 313.72it/s]\n",
      "100%|██████████| 4444/4444 [00:14<00:00, 314.41it/s]\n"
     ]
    },
    {
     "name": "stdout",
     "output_type": "stream",
     "text": [
      "Epochs: 5 | Train Loss:  0.0128                     | Train F1:  0.7877                     | Val Loss:  0.0163                     | Val F1:  0.6891\n"
     ]
    },
    {
     "name": "stderr",
     "output_type": "stream",
     "text": [
      "100%|██████████| 4444/4444 [00:14<00:00, 314.56it/s]\n",
      "100%|██████████| 4444/4444 [00:14<00:00, 313.90it/s]\n",
      "100%|██████████| 4444/4444 [00:14<00:00, 314.62it/s]\n",
      "100%|██████████| 4444/4444 [00:14<00:00, 312.64it/s]\n",
      "100%|██████████| 4444/4444 [00:14<00:00, 307.22it/s]\n"
     ]
    },
    {
     "name": "stdout",
     "output_type": "stream",
     "text": [
      "Epochs: 10 | Train Loss:  0.0112                     | Train F1:  0.8226                     | Val Loss:  0.0179                     | Val F1:  0.6991\n",
      "Fold 3\n"
     ]
    },
    {
     "name": "stderr",
     "output_type": "stream",
     "text": [
      "100%|██████████| 4250/4250 [00:13<00:00, 312.86it/s]\n"
     ]
    },
    {
     "name": "stdout",
     "output_type": "stream",
     "text": [
      "Epochs: 1 | Train Loss:  0.0167                     | Train F1:  0.7078                     | Val Loss:  0.0152                     | Val F1:  0.7068\n"
     ]
    },
    {
     "name": "stderr",
     "output_type": "stream",
     "text": [
      "100%|██████████| 4250/4250 [00:14<00:00, 303.15it/s]\n",
      "100%|██████████| 4250/4250 [00:13<00:00, 305.74it/s]\n",
      "100%|██████████| 4250/4250 [00:13<00:00, 321.58it/s]\n",
      "100%|██████████| 4250/4250 [00:13<00:00, 320.39it/s]\n"
     ]
    },
    {
     "name": "stdout",
     "output_type": "stream",
     "text": [
      "Epochs: 5 | Train Loss:  0.0127                     | Train F1:  0.7878                     | Val Loss:  0.0159                     | Val F1:  0.6961\n"
     ]
    },
    {
     "name": "stderr",
     "output_type": "stream",
     "text": [
      "100%|██████████| 4250/4250 [00:13<00:00, 320.99it/s]\n",
      "100%|██████████| 4250/4250 [00:13<00:00, 321.70it/s]\n",
      "100%|██████████| 4250/4250 [00:13<00:00, 320.73it/s]\n",
      "100%|██████████| 4250/4250 [00:13<00:00, 319.43it/s]\n",
      "100%|██████████| 4250/4250 [00:13<00:00, 317.38it/s]\n"
     ]
    },
    {
     "name": "stdout",
     "output_type": "stream",
     "text": [
      "Epochs: 10 | Train Loss:  0.0113                     | Train F1:  0.8192                     | Val Loss:  0.0165                     | Val F1:  0.6897\n",
      "Fold 4\n"
     ]
    },
    {
     "name": "stderr",
     "output_type": "stream",
     "text": [
      "100%|██████████| 4291/4291 [00:13<00:00, 318.97it/s]\n"
     ]
    },
    {
     "name": "stdout",
     "output_type": "stream",
     "text": [
      "Epochs: 1 | Train Loss:  0.0155                     | Train F1:  0.7080                     | Val Loss:  0.0211                     | Val F1:  0.6227\n"
     ]
    },
    {
     "name": "stderr",
     "output_type": "stream",
     "text": [
      "100%|██████████| 4291/4291 [00:13<00:00, 320.56it/s]\n",
      "100%|██████████| 4291/4291 [00:13<00:00, 321.41it/s]\n",
      "100%|██████████| 4291/4291 [00:13<00:00, 318.75it/s]\n",
      "100%|██████████| 4291/4291 [00:13<00:00, 319.36it/s]\n"
     ]
    },
    {
     "name": "stdout",
     "output_type": "stream",
     "text": [
      "Epochs: 5 | Train Loss:  0.0111                     | Train F1:  0.8056                     | Val Loss:  0.0235                     | Val F1:  0.6094\n"
     ]
    },
    {
     "name": "stderr",
     "output_type": "stream",
     "text": [
      "100%|██████████| 4291/4291 [00:13<00:00, 319.50it/s]\n",
      "100%|██████████| 4291/4291 [00:13<00:00, 318.85it/s]\n",
      "100%|██████████| 4291/4291 [00:13<00:00, 318.28it/s]\n",
      "100%|██████████| 4291/4291 [00:13<00:00, 313.81it/s]\n",
      "100%|██████████| 4291/4291 [00:13<00:00, 318.95it/s]\n",
      "\u001b[32m[I 2022-07-15 09:17:28,079]\u001b[0m Trial 7 finished with value: 0.6817998930446931 and parameters: {'learning_rate': 6.328503745670296e-05, 'n_layers': 2, 'n_units_l0': 55, 'dropout_l0': 0.5, 'n_units_l1': 18, 'dropout_l1': 0.45}. Best is trial 2 with value: 0.6940657012575293.\u001b[0m\n"
     ]
    },
    {
     "name": "stdout",
     "output_type": "stream",
     "text": [
      "Epochs: 10 | Train Loss:  0.0098                     | Train F1:  0.8346                     | Val Loss:  0.0251                     | Val F1:  0.6147\n",
      "trial 8\n",
      "Fold 0\n"
     ]
    },
    {
     "name": "stderr",
     "output_type": "stream",
     "text": [
      "100%|██████████| 4429/4429 [00:29<00:00, 149.27it/s]\n"
     ]
    },
    {
     "name": "stdout",
     "output_type": "stream",
     "text": [
      "Epochs: 1 | Train Loss:  0.0176                     | Train F1:  0.6361                     | Val Loss:  0.0158                     | Val F1:  0.6922\n"
     ]
    },
    {
     "name": "stderr",
     "output_type": "stream",
     "text": [
      "100%|██████████| 4429/4429 [00:12<00:00, 354.94it/s]\n",
      "100%|██████████| 4429/4429 [00:12<00:00, 359.11it/s]\n",
      "100%|██████████| 4429/4429 [00:12<00:00, 358.19it/s]\n",
      "100%|██████████| 4429/4429 [00:12<00:00, 353.79it/s]\n"
     ]
    },
    {
     "name": "stdout",
     "output_type": "stream",
     "text": [
      "Epochs: 5 | Train Loss:  0.0132                     | Train F1:  0.7656                     | Val Loss:  0.0153                     | Val F1:  0.7053\n"
     ]
    },
    {
     "name": "stderr",
     "output_type": "stream",
     "text": [
      "100%|██████████| 4429/4429 [00:12<00:00, 358.62it/s]\n",
      "100%|██████████| 4429/4429 [00:12<00:00, 359.31it/s]\n",
      "100%|██████████| 4429/4429 [00:12<00:00, 357.05it/s]\n",
      "100%|██████████| 4429/4429 [00:12<00:00, 359.04it/s]\n",
      "100%|██████████| 4429/4429 [00:12<00:00, 360.57it/s]\n"
     ]
    },
    {
     "name": "stdout",
     "output_type": "stream",
     "text": [
      "Epochs: 10 | Train Loss:  0.0125                     | Train F1:  0.7838                     | Val Loss:  0.0157                     | Val F1:  0.7044\n",
      "Fold 1\n"
     ]
    },
    {
     "name": "stderr",
     "output_type": "stream",
     "text": [
      "100%|██████████| 4360/4360 [00:12<00:00, 358.91it/s]\n"
     ]
    },
    {
     "name": "stdout",
     "output_type": "stream",
     "text": [
      "Epochs: 1 | Train Loss:  0.0181                     | Train F1:  0.6777                     | Val Loss:  0.0139                     | Val F1:  0.7480\n"
     ]
    },
    {
     "name": "stderr",
     "output_type": "stream",
     "text": [
      "100%|██████████| 4360/4360 [00:12<00:00, 359.62it/s]\n",
      "100%|██████████| 4360/4360 [00:11<00:00, 364.12it/s]\n",
      "100%|██████████| 4360/4360 [00:12<00:00, 362.55it/s]\n",
      "100%|██████████| 4360/4360 [00:12<00:00, 357.52it/s]\n"
     ]
    },
    {
     "name": "stdout",
     "output_type": "stream",
     "text": [
      "Epochs: 5 | Train Loss:  0.0138                     | Train F1:  0.7581                     | Val Loss:  0.0132                     | Val F1:  0.7236\n"
     ]
    },
    {
     "name": "stderr",
     "output_type": "stream",
     "text": [
      "100%|██████████| 4360/4360 [00:12<00:00, 357.63it/s]\n",
      "100%|██████████| 4360/4360 [00:12<00:00, 361.79it/s]\n",
      "100%|██████████| 4360/4360 [00:12<00:00, 363.19it/s]\n",
      "100%|██████████| 4360/4360 [00:12<00:00, 354.29it/s]\n",
      "100%|██████████| 4360/4360 [00:12<00:00, 358.06it/s]\n"
     ]
    },
    {
     "name": "stdout",
     "output_type": "stream",
     "text": [
      "Epochs: 10 | Train Loss:  0.0132                     | Train F1:  0.7726                     | Val Loss:  0.0133                     | Val F1:  0.7149\n",
      "Fold 2\n"
     ]
    },
    {
     "name": "stderr",
     "output_type": "stream",
     "text": [
      "100%|██████████| 4444/4444 [00:12<00:00, 362.71it/s]\n"
     ]
    },
    {
     "name": "stdout",
     "output_type": "stream",
     "text": [
      "Epochs: 1 | Train Loss:  0.0178                     | Train F1:  0.6701                     | Val Loss:  0.0148                     | Val F1:  0.6914\n"
     ]
    },
    {
     "name": "stderr",
     "output_type": "stream",
     "text": [
      "100%|██████████| 4444/4444 [00:12<00:00, 361.98it/s]\n",
      "100%|██████████| 4444/4444 [00:12<00:00, 358.38it/s]\n",
      "100%|██████████| 4444/4444 [00:12<00:00, 359.07it/s]\n",
      "100%|██████████| 4444/4444 [00:12<00:00, 361.41it/s]\n"
     ]
    },
    {
     "name": "stdout",
     "output_type": "stream",
     "text": [
      "Epochs: 5 | Train Loss:  0.0135                     | Train F1:  0.7644                     | Val Loss:  0.0148                     | Val F1:  0.6911\n"
     ]
    },
    {
     "name": "stderr",
     "output_type": "stream",
     "text": [
      "100%|██████████| 4444/4444 [00:12<00:00, 360.68it/s]\n",
      "100%|██████████| 4444/4444 [00:12<00:00, 359.16it/s]\n",
      "100%|██████████| 4444/4444 [00:12<00:00, 359.15it/s]\n",
      "100%|██████████| 4444/4444 [00:12<00:00, 362.52it/s]\n",
      "100%|██████████| 4444/4444 [00:12<00:00, 359.80it/s]\n"
     ]
    },
    {
     "name": "stdout",
     "output_type": "stream",
     "text": [
      "Epochs: 10 | Train Loss:  0.0128                     | Train F1:  0.7787                     | Val Loss:  0.0152                     | Val F1:  0.6915\n",
      "Fold 3\n"
     ]
    },
    {
     "name": "stderr",
     "output_type": "stream",
     "text": [
      "100%|██████████| 4250/4250 [00:11<00:00, 363.23it/s]\n"
     ]
    },
    {
     "name": "stdout",
     "output_type": "stream",
     "text": [
      "Epochs: 1 | Train Loss:  0.0178                     | Train F1:  0.6422                     | Val Loss:  0.0157                     | Val F1:  0.6837\n"
     ]
    },
    {
     "name": "stderr",
     "output_type": "stream",
     "text": [
      "100%|██████████| 4250/4250 [00:11<00:00, 363.68it/s]\n",
      "100%|██████████| 4250/4250 [00:11<00:00, 362.19it/s]\n",
      "100%|██████████| 4250/4250 [00:11<00:00, 365.70it/s]\n",
      "100%|██████████| 4250/4250 [00:11<00:00, 362.91it/s]\n"
     ]
    },
    {
     "name": "stdout",
     "output_type": "stream",
     "text": [
      "Epochs: 5 | Train Loss:  0.0134                     | Train F1:  0.7633                     | Val Loss:  0.0151                     | Val F1:  0.7017\n"
     ]
    },
    {
     "name": "stderr",
     "output_type": "stream",
     "text": [
      "100%|██████████| 4250/4250 [00:11<00:00, 363.27it/s]\n",
      "100%|██████████| 4250/4250 [00:11<00:00, 363.46it/s]\n",
      "100%|██████████| 4250/4250 [00:11<00:00, 367.30it/s]\n",
      "100%|██████████| 4250/4250 [00:11<00:00, 361.91it/s]\n",
      "100%|██████████| 4250/4250 [00:11<00:00, 362.11it/s]\n"
     ]
    },
    {
     "name": "stdout",
     "output_type": "stream",
     "text": [
      "Epochs: 10 | Train Loss:  0.0127                     | Train F1:  0.7811                     | Val Loss:  0.0153                     | Val F1:  0.7003\n",
      "Fold 4\n"
     ]
    },
    {
     "name": "stderr",
     "output_type": "stream",
     "text": [
      "100%|██████████| 4291/4291 [00:11<00:00, 364.87it/s]\n"
     ]
    },
    {
     "name": "stdout",
     "output_type": "stream",
     "text": [
      "Epochs: 1 | Train Loss:  0.0167                     | Train F1:  0.6186                     | Val Loss:  0.0202                     | Val F1:  0.5785\n"
     ]
    },
    {
     "name": "stderr",
     "output_type": "stream",
     "text": [
      "100%|██████████| 4291/4291 [00:11<00:00, 365.94it/s]\n",
      "100%|██████████| 4291/4291 [00:11<00:00, 362.58it/s]\n",
      "100%|██████████| 4291/4291 [00:11<00:00, 359.37it/s]\n",
      "100%|██████████| 4291/4291 [00:11<00:00, 362.34it/s]\n"
     ]
    },
    {
     "name": "stdout",
     "output_type": "stream",
     "text": [
      "Epochs: 5 | Train Loss:  0.0118                     | Train F1:  0.7782                     | Val Loss:  0.0223                     | Val F1:  0.6073\n"
     ]
    },
    {
     "name": "stderr",
     "output_type": "stream",
     "text": [
      "100%|██████████| 4291/4291 [00:11<00:00, 365.55it/s]\n",
      "100%|██████████| 4291/4291 [00:11<00:00, 362.08it/s]\n",
      "100%|██████████| 4291/4291 [00:11<00:00, 361.01it/s]\n",
      "100%|██████████| 4291/4291 [00:11<00:00, 364.99it/s]\n",
      "100%|██████████| 4291/4291 [00:11<00:00, 365.31it/s]\n",
      "\u001b[32m[I 2022-07-15 09:30:03,843]\u001b[0m Trial 8 finished with value: 0.6847509623790526 and parameters: {'learning_rate': 2.5536589352015626e-05, 'n_layers': 1, 'n_units_l0': 66, 'dropout_l0': 0.30000000000000004}. Best is trial 2 with value: 0.6940657012575293.\u001b[0m\n"
     ]
    },
    {
     "name": "stdout",
     "output_type": "stream",
     "text": [
      "Epochs: 10 | Train Loss:  0.0112                     | Train F1:  0.7936                     | Val Loss:  0.0230                     | Val F1:  0.6127\n",
      "trial 9\n",
      "Fold 0\n"
     ]
    },
    {
     "name": "stderr",
     "output_type": "stream",
     "text": [
      "100%|██████████| 4429/4429 [00:29<00:00, 149.40it/s]\n"
     ]
    },
    {
     "name": "stdout",
     "output_type": "stream",
     "text": [
      "Epochs: 1 | Train Loss:  0.0174                     | Train F1:  0.6017                     | Val Loss:  0.0157                     | Val F1:  0.6954\n"
     ]
    },
    {
     "name": "stderr",
     "output_type": "stream",
     "text": [
      "100%|██████████| 4429/4429 [00:12<00:00, 349.70it/s]\n",
      "100%|██████████| 4429/4429 [00:12<00:00, 349.18it/s]\n",
      "100%|██████████| 4429/4429 [00:12<00:00, 349.35it/s]\n",
      "100%|██████████| 4429/4429 [00:12<00:00, 349.32it/s]\n"
     ]
    },
    {
     "name": "stdout",
     "output_type": "stream",
     "text": [
      "Epochs: 5 | Train Loss:  0.0130                     | Train F1:  0.7697                     | Val Loss:  0.0154                     | Val F1:  0.7066\n"
     ]
    },
    {
     "name": "stderr",
     "output_type": "stream",
     "text": [
      "100%|██████████| 4429/4429 [00:12<00:00, 349.12it/s]\n",
      "100%|██████████| 4429/4429 [00:12<00:00, 349.98it/s]\n",
      "100%|██████████| 4429/4429 [00:12<00:00, 347.38it/s]\n",
      "100%|██████████| 4429/4429 [00:12<00:00, 350.09it/s]\n",
      "100%|██████████| 4429/4429 [00:12<00:00, 350.12it/s]\n"
     ]
    },
    {
     "name": "stdout",
     "output_type": "stream",
     "text": [
      "Epochs: 10 | Train Loss:  0.0123                     | Train F1:  0.7867                     | Val Loss:  0.0158                     | Val F1:  0.7050\n",
      "Fold 1\n"
     ]
    },
    {
     "name": "stderr",
     "output_type": "stream",
     "text": [
      "100%|██████████| 4360/4360 [00:12<00:00, 350.21it/s]\n"
     ]
    },
    {
     "name": "stdout",
     "output_type": "stream",
     "text": [
      "Epochs: 1 | Train Loss:  0.0179                     | Train F1:  0.5990                     | Val Loss:  0.0136                     | Val F1:  0.7516\n"
     ]
    },
    {
     "name": "stderr",
     "output_type": "stream",
     "text": [
      "100%|██████████| 4360/4360 [00:12<00:00, 351.19it/s]\n",
      "100%|██████████| 4360/4360 [00:12<00:00, 349.36it/s]\n",
      "100%|██████████| 4360/4360 [00:12<00:00, 348.51it/s]\n",
      "100%|██████████| 4360/4360 [00:12<00:00, 350.01it/s]\n"
     ]
    },
    {
     "name": "stdout",
     "output_type": "stream",
     "text": [
      "Epochs: 5 | Train Loss:  0.0137                     | Train F1:  0.7609                     | Val Loss:  0.0131                     | Val F1:  0.7212\n"
     ]
    },
    {
     "name": "stderr",
     "output_type": "stream",
     "text": [
      "100%|██████████| 4360/4360 [00:12<00:00, 349.83it/s]\n",
      "100%|██████████| 4360/4360 [00:12<00:00, 347.96it/s]\n",
      "100%|██████████| 4360/4360 [00:12<00:00, 363.33it/s]\n",
      "100%|██████████| 4360/4360 [00:12<00:00, 349.59it/s]\n",
      "100%|██████████| 4360/4360 [00:11<00:00, 363.58it/s]\n"
     ]
    },
    {
     "name": "stdout",
     "output_type": "stream",
     "text": [
      "Epochs: 10 | Train Loss:  0.0130                     | Train F1:  0.7744                     | Val Loss:  0.0133                     | Val F1:  0.7142\n",
      "Fold 2\n"
     ]
    },
    {
     "name": "stderr",
     "output_type": "stream",
     "text": [
      "100%|██████████| 4444/4444 [00:12<00:00, 348.73it/s]\n"
     ]
    },
    {
     "name": "stdout",
     "output_type": "stream",
     "text": [
      "Epochs: 1 | Train Loss:  0.0178                     | Train F1:  0.6959                     | Val Loss:  0.0147                     | Val F1:  0.6902\n"
     ]
    },
    {
     "name": "stderr",
     "output_type": "stream",
     "text": [
      "100%|██████████| 4444/4444 [00:12<00:00, 348.85it/s]\n",
      "100%|██████████| 4444/4444 [00:12<00:00, 347.86it/s]\n",
      "100%|██████████| 4444/4444 [00:12<00:00, 348.00it/s]\n",
      "100%|██████████| 4444/4444 [00:12<00:00, 344.46it/s]\n"
     ]
    },
    {
     "name": "stdout",
     "output_type": "stream",
     "text": [
      "Epochs: 5 | Train Loss:  0.0134                     | Train F1:  0.7649                     | Val Loss:  0.0150                     | Val F1:  0.6913\n"
     ]
    },
    {
     "name": "stderr",
     "output_type": "stream",
     "text": [
      "100%|██████████| 4444/4444 [00:12<00:00, 347.64it/s]\n",
      "100%|██████████| 4444/4444 [00:12<00:00, 347.44it/s]\n",
      "100%|██████████| 4444/4444 [00:12<00:00, 348.13it/s]\n",
      "100%|██████████| 4444/4444 [00:12<00:00, 347.36it/s]\n",
      "100%|██████████| 4444/4444 [00:12<00:00, 348.67it/s]\n"
     ]
    },
    {
     "name": "stdout",
     "output_type": "stream",
     "text": [
      "Epochs: 10 | Train Loss:  0.0127                     | Train F1:  0.7798                     | Val Loss:  0.0153                     | Val F1:  0.6903\n",
      "Fold 3\n"
     ]
    },
    {
     "name": "stderr",
     "output_type": "stream",
     "text": [
      "100%|██████████| 4250/4250 [00:12<00:00, 352.89it/s]\n"
     ]
    },
    {
     "name": "stdout",
     "output_type": "stream",
     "text": [
      "Epochs: 1 | Train Loss:  0.0177                     | Train F1:  0.6392                     | Val Loss:  0.0155                     | Val F1:  0.6819\n"
     ]
    },
    {
     "name": "stderr",
     "output_type": "stream",
     "text": [
      "100%|██████████| 4250/4250 [00:12<00:00, 352.96it/s]\n",
      "100%|██████████| 4250/4250 [00:12<00:00, 351.21it/s]\n",
      "100%|██████████| 4250/4250 [00:12<00:00, 349.97it/s]\n",
      "100%|██████████| 4250/4250 [00:12<00:00, 352.38it/s]\n"
     ]
    },
    {
     "name": "stdout",
     "output_type": "stream",
     "text": [
      "Epochs: 5 | Train Loss:  0.0133                     | Train F1:  0.7662                     | Val Loss:  0.0151                     | Val F1:  0.7036\n"
     ]
    },
    {
     "name": "stderr",
     "output_type": "stream",
     "text": [
      "100%|██████████| 4250/4250 [00:12<00:00, 350.90it/s]\n",
      "100%|██████████| 4250/4250 [00:12<00:00, 351.63it/s]\n",
      "100%|██████████| 4250/4250 [00:12<00:00, 353.21it/s]\n",
      "100%|██████████| 4250/4250 [00:12<00:00, 346.69it/s]\n",
      "100%|██████████| 4250/4250 [00:12<00:00, 351.72it/s]\n"
     ]
    },
    {
     "name": "stdout",
     "output_type": "stream",
     "text": [
      "Epochs: 10 | Train Loss:  0.0126                     | Train F1:  0.7824                     | Val Loss:  0.0154                     | Val F1:  0.7000\n",
      "Fold 4\n"
     ]
    },
    {
     "name": "stderr",
     "output_type": "stream",
     "text": [
      "100%|██████████| 4291/4291 [00:12<00:00, 349.52it/s]\n"
     ]
    },
    {
     "name": "stdout",
     "output_type": "stream",
     "text": [
      "Epochs: 1 | Train Loss:  0.0167                     | Train F1:  0.6853                     | Val Loss:  0.0203                     | Val F1:  0.5854\n"
     ]
    },
    {
     "name": "stderr",
     "output_type": "stream",
     "text": [
      "100%|██████████| 4291/4291 [00:12<00:00, 352.29it/s]\n",
      "100%|██████████| 4291/4291 [00:12<00:00, 351.07it/s]\n",
      "100%|██████████| 4291/4291 [00:12<00:00, 351.53it/s]\n",
      "100%|██████████| 4291/4291 [00:11<00:00, 363.05it/s]\n"
     ]
    },
    {
     "name": "stdout",
     "output_type": "stream",
     "text": [
      "Epochs: 5 | Train Loss:  0.0117                     | Train F1:  0.7810                     | Val Loss:  0.0225                     | Val F1:  0.6031\n"
     ]
    },
    {
     "name": "stderr",
     "output_type": "stream",
     "text": [
      "100%|██████████| 4291/4291 [00:12<00:00, 351.24it/s]\n",
      "100%|██████████| 4291/4291 [00:12<00:00, 351.32it/s]\n",
      "100%|██████████| 4291/4291 [00:12<00:00, 350.07it/s]\n",
      "100%|██████████| 4291/4291 [00:12<00:00, 348.27it/s]\n",
      "100%|██████████| 4291/4291 [00:12<00:00, 350.71it/s]\n",
      "\u001b[32m[I 2022-07-15 09:43:03,667]\u001b[0m Trial 9 finished with value: 0.6841536143451867 and parameters: {'learning_rate': 2.1389704159732027e-05, 'n_layers': 1, 'n_units_l0': 102, 'dropout_l0': 0.25}. Best is trial 2 with value: 0.6940657012575293.\u001b[0m\n"
     ]
    },
    {
     "name": "stdout",
     "output_type": "stream",
     "text": [
      "Epochs: 10 | Train Loss:  0.0111                     | Train F1:  0.7956                     | Val Loss:  0.0232                     | Val F1:  0.6113\n",
      "trial 10\n",
      "Fold 0\n"
     ]
    },
    {
     "name": "stderr",
     "output_type": "stream",
     "text": [
      "100%|██████████| 4429/4429 [00:31<00:00, 140.76it/s]\n"
     ]
    },
    {
     "name": "stdout",
     "output_type": "stream",
     "text": [
      "Epochs: 1 | Train Loss:  0.0217                     | Train F1:  0.6091                     | Val Loss:  0.0210                     | Val F1:  0.7114\n"
     ]
    },
    {
     "name": "stderr",
     "output_type": "stream",
     "text": [
      "100%|██████████| 4429/4429 [00:13<00:00, 321.47it/s]\n",
      "100%|██████████| 4429/4429 [00:13<00:00, 322.26it/s]\n",
      "100%|██████████| 4429/4429 [00:13<00:00, 322.90it/s]\n",
      "100%|██████████| 4429/4429 [00:13<00:00, 321.94it/s]\n"
     ]
    },
    {
     "name": "stdout",
     "output_type": "stream",
     "text": [
      "Epochs: 5 | Train Loss:  0.0150                     | Train F1:  0.7304                     | Val Loss:  0.0156                     | Val F1:  0.6997\n"
     ]
    },
    {
     "name": "stderr",
     "output_type": "stream",
     "text": [
      "100%|██████████| 4429/4429 [00:13<00:00, 322.79it/s]\n",
      "100%|██████████| 4429/4429 [00:13<00:00, 321.90it/s]\n",
      "100%|██████████| 4429/4429 [00:13<00:00, 321.50it/s]\n",
      "100%|██████████| 4429/4429 [00:13<00:00, 323.34it/s]\n",
      "100%|██████████| 4429/4429 [00:13<00:00, 323.13it/s]\n"
     ]
    },
    {
     "name": "stdout",
     "output_type": "stream",
     "text": [
      "Epochs: 10 | Train Loss:  0.0139                     | Train F1:  0.7590                     | Val Loss:  0.0154                     | Val F1:  0.7093\n",
      "Fold 1\n"
     ]
    },
    {
     "name": "stderr",
     "output_type": "stream",
     "text": [
      "100%|██████████| 4360/4360 [00:13<00:00, 325.22it/s]\n"
     ]
    },
    {
     "name": "stdout",
     "output_type": "stream",
     "text": [
      "Epochs: 1 | Train Loss:  0.0214                     | Train F1:  0.6318                     | Val Loss:  0.0203                     | Val F1:  0.7114\n"
     ]
    },
    {
     "name": "stderr",
     "output_type": "stream",
     "text": [
      "100%|██████████| 4360/4360 [00:13<00:00, 324.67it/s]\n",
      "100%|██████████| 4360/4360 [00:13<00:00, 324.29it/s]\n",
      "100%|██████████| 4360/4360 [00:13<00:00, 324.99it/s]\n",
      "100%|██████████| 4360/4360 [00:13<00:00, 316.55it/s]\n"
     ]
    },
    {
     "name": "stdout",
     "output_type": "stream",
     "text": [
      "Epochs: 5 | Train Loss:  0.0154                     | Train F1:  0.7281                     | Val Loss:  0.0131                     | Val F1:  0.7458\n"
     ]
    },
    {
     "name": "stderr",
     "output_type": "stream",
     "text": [
      "100%|██████████| 4360/4360 [00:13<00:00, 322.83it/s]\n",
      "100%|██████████| 4360/4360 [00:13<00:00, 324.07it/s]\n",
      "100%|██████████| 4360/4360 [00:13<00:00, 322.56it/s]\n",
      "100%|██████████| 4360/4360 [00:13<00:00, 324.91it/s]\n",
      "100%|██████████| 4360/4360 [00:13<00:00, 324.50it/s]\n"
     ]
    },
    {
     "name": "stdout",
     "output_type": "stream",
     "text": [
      "Epochs: 10 | Train Loss:  0.0144                     | Train F1:  0.7531                     | Val Loss:  0.0130                     | Val F1:  0.7313\n",
      "Fold 2\n"
     ]
    },
    {
     "name": "stderr",
     "output_type": "stream",
     "text": [
      "100%|██████████| 4444/4444 [00:13<00:00, 322.07it/s]\n"
     ]
    },
    {
     "name": "stdout",
     "output_type": "stream",
     "text": [
      "Epochs: 1 | Train Loss:  0.0209                     | Train F1:  0.2146                     | Val Loss:  0.0196                     | Val F1:  0.5153\n"
     ]
    },
    {
     "name": "stderr",
     "output_type": "stream",
     "text": [
      "100%|██████████| 4444/4444 [00:13<00:00, 321.64it/s]\n",
      "100%|██████████| 4444/4444 [00:13<00:00, 323.02it/s]\n",
      "100%|██████████| 4444/4444 [00:13<00:00, 322.51it/s]\n",
      "100%|██████████| 4444/4444 [00:13<00:00, 323.00it/s]\n"
     ]
    },
    {
     "name": "stdout",
     "output_type": "stream",
     "text": [
      "Epochs: 5 | Train Loss:  0.0149                     | Train F1:  0.7423                     | Val Loss:  0.0145                     | Val F1:  0.6954\n"
     ]
    },
    {
     "name": "stderr",
     "output_type": "stream",
     "text": [
      "100%|██████████| 4444/4444 [00:13<00:00, 320.96it/s]\n",
      "100%|██████████| 4444/4444 [00:13<00:00, 322.70it/s]\n",
      "100%|██████████| 4444/4444 [00:13<00:00, 321.93it/s]\n",
      "100%|██████████| 4444/4444 [00:13<00:00, 323.02it/s]\n",
      "100%|██████████| 4444/4444 [00:13<00:00, 320.96it/s]\n"
     ]
    },
    {
     "name": "stdout",
     "output_type": "stream",
     "text": [
      "Epochs: 10 | Train Loss:  0.0140                     | Train F1:  0.7616                     | Val Loss:  0.0146                     | Val F1:  0.6973\n",
      "Fold 3\n"
     ]
    },
    {
     "name": "stderr",
     "output_type": "stream",
     "text": [
      "100%|██████████| 4250/4250 [00:13<00:00, 323.93it/s]\n"
     ]
    },
    {
     "name": "stdout",
     "output_type": "stream",
     "text": [
      "Epochs: 1 | Train Loss:  0.0213                     | Train F1:  0.4841                     | Val Loss:  0.0209                     | Val F1:  0.6108\n"
     ]
    },
    {
     "name": "stderr",
     "output_type": "stream",
     "text": [
      "100%|██████████| 4250/4250 [00:13<00:00, 324.66it/s]\n",
      "100%|██████████| 4250/4250 [00:13<00:00, 323.42it/s]\n",
      "100%|██████████| 4250/4250 [00:13<00:00, 326.18it/s]\n",
      "100%|██████████| 4250/4250 [00:13<00:00, 324.52it/s]\n"
     ]
    },
    {
     "name": "stdout",
     "output_type": "stream",
     "text": [
      "Epochs: 5 | Train Loss:  0.0153                     | Train F1:  0.7316                     | Val Loss:  0.0154                     | Val F1:  0.6893\n"
     ]
    },
    {
     "name": "stderr",
     "output_type": "stream",
     "text": [
      "100%|██████████| 4250/4250 [00:13<00:00, 325.78it/s]\n",
      "100%|██████████| 4250/4250 [00:13<00:00, 322.95it/s]\n",
      "100%|██████████| 4250/4250 [00:13<00:00, 326.49it/s]\n",
      "100%|██████████| 4250/4250 [00:13<00:00, 325.25it/s]\n",
      "100%|██████████| 4250/4250 [00:13<00:00, 323.75it/s]\n"
     ]
    },
    {
     "name": "stdout",
     "output_type": "stream",
     "text": [
      "Epochs: 10 | Train Loss:  0.0142                     | Train F1:  0.7558                     | Val Loss:  0.0151                     | Val F1:  0.7023\n",
      "Fold 4\n"
     ]
    },
    {
     "name": "stderr",
     "output_type": "stream",
     "text": [
      "100%|██████████| 4291/4291 [00:13<00:00, 324.07it/s]\n"
     ]
    },
    {
     "name": "stdout",
     "output_type": "stream",
     "text": [
      "Epochs: 1 | Train Loss:  0.0207                     | Train F1:  0.0077                     | Val Loss:  0.0216                     | Val F1:  0.0000\n"
     ]
    },
    {
     "name": "stderr",
     "output_type": "stream",
     "text": [
      "100%|██████████| 4291/4291 [00:13<00:00, 323.72it/s]\n",
      "100%|██████████| 4291/4291 [00:13<00:00, 322.36it/s]\n",
      "100%|██████████| 4291/4291 [00:13<00:00, 321.57it/s]\n",
      "100%|██████████| 4291/4291 [00:13<00:00, 324.22it/s]\n"
     ]
    },
    {
     "name": "stdout",
     "output_type": "stream",
     "text": [
      "Epochs: 5 | Train Loss:  0.0135                     | Train F1:  0.7427                     | Val Loss:  0.0209                     | Val F1:  0.6008\n"
     ]
    },
    {
     "name": "stderr",
     "output_type": "stream",
     "text": [
      "100%|██████████| 4291/4291 [00:13<00:00, 325.11it/s]\n",
      "100%|██████████| 4291/4291 [00:13<00:00, 324.17it/s]\n",
      "100%|██████████| 4291/4291 [00:13<00:00, 323.02it/s]\n",
      "100%|██████████| 4291/4291 [00:13<00:00, 324.49it/s]\n",
      "100%|██████████| 4291/4291 [00:13<00:00, 325.00it/s]\n",
      "\u001b[32m[I 2022-07-15 09:57:07,290]\u001b[0m Trial 10 finished with value: 0.6904541147742143 and parameters: {'learning_rate': 1.0197636481062527e-05, 'n_layers': 2, 'n_units_l0': 28, 'dropout_l0': 0.2, 'n_units_l1': 15, 'dropout_l1': 0.25}. Best is trial 2 with value: 0.6940657012575293.\u001b[0m\n"
     ]
    },
    {
     "name": "stdout",
     "output_type": "stream",
     "text": [
      "Epochs: 10 | Train Loss:  0.0125                     | Train F1:  0.7695                     | Val Loss:  0.0219                     | Val F1:  0.6120\n",
      "trial 11\n",
      "Fold 0\n"
     ]
    },
    {
     "name": "stderr",
     "output_type": "stream",
     "text": [
      "100%|██████████| 4429/4429 [00:31<00:00, 140.52it/s]\n"
     ]
    },
    {
     "name": "stdout",
     "output_type": "stream",
     "text": [
      "Epochs: 1 | Train Loss:  0.0209                     | Train F1:  0.2254                     | Val Loss:  0.0201                     | Val F1:  0.5225\n"
     ]
    },
    {
     "name": "stderr",
     "output_type": "stream",
     "text": [
      "100%|██████████| 4429/4429 [00:13<00:00, 320.80it/s]\n",
      "100%|██████████| 4429/4429 [00:13<00:00, 323.34it/s]\n",
      "100%|██████████| 4429/4429 [00:13<00:00, 324.45it/s]\n",
      "100%|██████████| 4429/4429 [00:13<00:00, 324.60it/s]\n"
     ]
    },
    {
     "name": "stdout",
     "output_type": "stream",
     "text": [
      "Epochs: 5 | Train Loss:  0.0146                     | Train F1:  0.7396                     | Val Loss:  0.0155                     | Val F1:  0.7068\n"
     ]
    },
    {
     "name": "stderr",
     "output_type": "stream",
     "text": [
      "100%|██████████| 4429/4429 [00:13<00:00, 324.65it/s]\n",
      "100%|██████████| 4429/4429 [00:13<00:00, 323.55it/s]\n",
      "100%|██████████| 4429/4429 [00:13<00:00, 323.04it/s]\n",
      "100%|██████████| 4429/4429 [00:13<00:00, 322.98it/s]\n",
      "100%|██████████| 4429/4429 [00:13<00:00, 323.15it/s]\n"
     ]
    },
    {
     "name": "stdout",
     "output_type": "stream",
     "text": [
      "Epochs: 10 | Train Loss:  0.0137                     | Train F1:  0.7647                     | Val Loss:  0.0155                     | Val F1:  0.7108\n",
      "Fold 1\n"
     ]
    },
    {
     "name": "stderr",
     "output_type": "stream",
     "text": [
      "100%|██████████| 4360/4360 [00:13<00:00, 324.89it/s]\n"
     ]
    },
    {
     "name": "stdout",
     "output_type": "stream",
     "text": [
      "Epochs: 1 | Train Loss:  0.0213                     | Train F1:  0.6423                     | Val Loss:  0.0199                     | Val F1:  0.7095\n"
     ]
    },
    {
     "name": "stderr",
     "output_type": "stream",
     "text": [
      "100%|██████████| 4360/4360 [00:13<00:00, 324.28it/s]\n",
      "100%|██████████| 4360/4360 [00:13<00:00, 326.20it/s]\n",
      "100%|██████████| 4360/4360 [00:13<00:00, 325.62it/s]\n",
      "100%|██████████| 4360/4360 [00:13<00:00, 324.44it/s]\n"
     ]
    },
    {
     "name": "stdout",
     "output_type": "stream",
     "text": [
      "Epochs: 5 | Train Loss:  0.0152                     | Train F1:  0.7328                     | Val Loss:  0.0130                     | Val F1:  0.7439\n"
     ]
    },
    {
     "name": "stderr",
     "output_type": "stream",
     "text": [
      "100%|██████████| 4360/4360 [00:13<00:00, 323.92it/s]\n",
      "100%|██████████| 4360/4360 [00:13<00:00, 324.09it/s]\n",
      "100%|██████████| 4360/4360 [00:13<00:00, 324.75it/s]\n",
      "100%|██████████| 4360/4360 [00:13<00:00, 323.63it/s]\n",
      "100%|██████████| 4360/4360 [00:13<00:00, 324.32it/s]\n"
     ]
    },
    {
     "name": "stdout",
     "output_type": "stream",
     "text": [
      "Epochs: 10 | Train Loss:  0.0143                     | Train F1:  0.7556                     | Val Loss:  0.0130                     | Val F1:  0.7308\n",
      "Fold 2\n"
     ]
    },
    {
     "name": "stderr",
     "output_type": "stream",
     "text": [
      "100%|██████████| 4444/4444 [00:13<00:00, 322.21it/s]\n"
     ]
    },
    {
     "name": "stdout",
     "output_type": "stream",
     "text": [
      "Epochs: 1 | Train Loss:  0.0210                     | Train F1:  0.2151                     | Val Loss:  0.0197                     | Val F1:  0.5574\n"
     ]
    },
    {
     "name": "stderr",
     "output_type": "stream",
     "text": [
      "100%|██████████| 4444/4444 [00:13<00:00, 321.48it/s]\n",
      "100%|██████████| 4444/4444 [00:13<00:00, 322.44it/s]\n",
      "100%|██████████| 4444/4444 [00:13<00:00, 321.66it/s]\n",
      "100%|██████████| 4444/4444 [00:13<00:00, 321.98it/s]\n"
     ]
    },
    {
     "name": "stdout",
     "output_type": "stream",
     "text": [
      "Epochs: 5 | Train Loss:  0.0150                     | Train F1:  0.7391                     | Val Loss:  0.0146                     | Val F1:  0.6935\n"
     ]
    },
    {
     "name": "stderr",
     "output_type": "stream",
     "text": [
      "100%|██████████| 4444/4444 [00:13<00:00, 321.70it/s]\n",
      "100%|██████████| 4444/4444 [00:13<00:00, 323.64it/s]\n",
      "100%|██████████| 4444/4444 [00:13<00:00, 323.74it/s]\n",
      "100%|██████████| 4444/4444 [00:13<00:00, 322.53it/s]\n",
      "100%|██████████| 4444/4444 [00:13<00:00, 321.68it/s]\n"
     ]
    },
    {
     "name": "stdout",
     "output_type": "stream",
     "text": [
      "Epochs: 10 | Train Loss:  0.0140                     | Train F1:  0.7596                     | Val Loss:  0.0147                     | Val F1:  0.6917\n",
      "Fold 3\n"
     ]
    },
    {
     "name": "stderr",
     "output_type": "stream",
     "text": [
      "100%|██████████| 4250/4250 [00:13<00:00, 326.37it/s]\n"
     ]
    },
    {
     "name": "stdout",
     "output_type": "stream",
     "text": [
      "Epochs: 1 | Train Loss:  0.0210                     | Train F1:  0.0654                     | Val Loss:  0.0202                     | Val F1:  0.3988\n"
     ]
    },
    {
     "name": "stderr",
     "output_type": "stream",
     "text": [
      "100%|██████████| 4250/4250 [00:13<00:00, 324.84it/s]\n",
      "100%|██████████| 4250/4250 [00:13<00:00, 326.01it/s]\n",
      "100%|██████████| 4250/4250 [00:13<00:00, 325.44it/s]\n",
      "100%|██████████| 4250/4250 [00:13<00:00, 325.77it/s]\n"
     ]
    },
    {
     "name": "stdout",
     "output_type": "stream",
     "text": [
      "Epochs: 5 | Train Loss:  0.0151                     | Train F1:  0.7410                     | Val Loss:  0.0155                     | Val F1:  0.6992\n"
     ]
    },
    {
     "name": "stderr",
     "output_type": "stream",
     "text": [
      "100%|██████████| 4250/4250 [00:13<00:00, 325.73it/s]\n",
      "100%|██████████| 4250/4250 [00:13<00:00, 324.58it/s]\n",
      "100%|██████████| 4250/4250 [00:13<00:00, 323.64it/s]\n",
      "100%|██████████| 4250/4250 [00:13<00:00, 326.17it/s]\n",
      "100%|██████████| 4250/4250 [00:13<00:00, 325.14it/s]\n"
     ]
    },
    {
     "name": "stdout",
     "output_type": "stream",
     "text": [
      "Epochs: 10 | Train Loss:  0.0140                     | Train F1:  0.7629                     | Val Loss:  0.0153                     | Val F1:  0.7079\n",
      "Fold 4\n"
     ]
    },
    {
     "name": "stderr",
     "output_type": "stream",
     "text": [
      "100%|██████████| 4291/4291 [00:13<00:00, 326.19it/s]\n"
     ]
    },
    {
     "name": "stdout",
     "output_type": "stream",
     "text": [
      "Epochs: 1 | Train Loss:  0.0204                     | Train F1:  0.0109                     | Val Loss:  0.0215                     | Val F1:  0.0101\n"
     ]
    },
    {
     "name": "stderr",
     "output_type": "stream",
     "text": [
      "100%|██████████| 4291/4291 [00:13<00:00, 326.64it/s]\n",
      "100%|██████████| 4291/4291 [00:13<00:00, 325.41it/s]\n",
      "100%|██████████| 4291/4291 [00:13<00:00, 324.53it/s]\n",
      "100%|██████████| 4291/4291 [00:13<00:00, 323.53it/s]\n"
     ]
    },
    {
     "name": "stdout",
     "output_type": "stream",
     "text": [
      "Epochs: 5 | Train Loss:  0.0133                     | Train F1:  0.7514                     | Val Loss:  0.0211                     | Val F1:  0.6056\n"
     ]
    },
    {
     "name": "stderr",
     "output_type": "stream",
     "text": [
      "100%|██████████| 4291/4291 [00:13<00:00, 322.91it/s]\n",
      "100%|██████████| 4291/4291 [00:13<00:00, 324.64it/s]\n",
      "100%|██████████| 4291/4291 [00:13<00:00, 321.87it/s]\n",
      "100%|██████████| 4291/4291 [00:13<00:00, 324.45it/s]\n",
      "100%|██████████| 4291/4291 [00:13<00:00, 324.72it/s]\n",
      "\u001b[32m[I 2022-07-15 10:11:10,080]\u001b[0m Trial 11 finished with value: 0.6898635355766481 and parameters: {'learning_rate': 1.0371547415126522e-05, 'n_layers': 2, 'n_units_l0': 29, 'dropout_l0': 0.25, 'n_units_l1': 18, 'dropout_l1': 0.25}. Best is trial 2 with value: 0.6940657012575293.\u001b[0m\n"
     ]
    },
    {
     "name": "stdout",
     "output_type": "stream",
     "text": [
      "Epochs: 10 | Train Loss:  0.0124                     | Train F1:  0.7732                     | Val Loss:  0.0221                     | Val F1:  0.6080\n",
      "trial 12\n",
      "Fold 0\n"
     ]
    },
    {
     "name": "stderr",
     "output_type": "stream",
     "text": [
      "100%|██████████| 4429/4429 [00:32<00:00, 136.94it/s]\n"
     ]
    },
    {
     "name": "stdout",
     "output_type": "stream",
     "text": [
      "Epochs: 1 | Train Loss:  0.0211                     | Train F1:  0.5841                     | Val Loss:  0.0203                     | Val F1:  0.5715\n"
     ]
    },
    {
     "name": "stderr",
     "output_type": "stream",
     "text": [
      "100%|██████████| 4429/4429 [00:13<00:00, 326.39it/s]\n",
      "100%|██████████| 4429/4429 [00:13<00:00, 327.30it/s]\n",
      "100%|██████████| 4429/4429 [00:13<00:00, 327.21it/s]\n",
      "100%|██████████| 4429/4429 [00:13<00:00, 328.22it/s]\n"
     ]
    },
    {
     "name": "stdout",
     "output_type": "stream",
     "text": [
      "Epochs: 5 | Train Loss:  0.0152                     | Train F1:  0.7308                     | Val Loss:  0.0156                     | Val F1:  0.7030\n"
     ]
    },
    {
     "name": "stderr",
     "output_type": "stream",
     "text": [
      "100%|██████████| 4429/4429 [00:13<00:00, 326.61it/s]\n",
      "100%|██████████| 4429/4429 [00:13<00:00, 326.37it/s]\n",
      "100%|██████████| 4429/4429 [00:13<00:00, 326.94it/s]\n",
      "100%|██████████| 4429/4429 [00:13<00:00, 327.73it/s]\n",
      "100%|██████████| 4429/4429 [00:13<00:00, 328.19it/s]\n"
     ]
    },
    {
     "name": "stdout",
     "output_type": "stream",
     "text": [
      "Epochs: 10 | Train Loss:  0.0141                     | Train F1:  0.7592                     | Val Loss:  0.0155                     | Val F1:  0.7130\n",
      "Fold 1\n"
     ]
    },
    {
     "name": "stderr",
     "output_type": "stream",
     "text": [
      "100%|██████████| 4360/4360 [00:13<00:00, 325.23it/s]\n"
     ]
    },
    {
     "name": "stdout",
     "output_type": "stream",
     "text": [
      "Epochs: 1 | Train Loss:  0.0212                     | Train F1:  0.0634                     | Val Loss:  0.0203                     | Val F1:  0.3166\n"
     ]
    },
    {
     "name": "stderr",
     "output_type": "stream",
     "text": [
      "100%|██████████| 4360/4360 [00:13<00:00, 326.81it/s]\n",
      "100%|██████████| 4360/4360 [00:13<00:00, 327.03it/s]\n",
      "100%|██████████| 4360/4360 [00:13<00:00, 327.51it/s]\n",
      "100%|██████████| 4360/4360 [00:13<00:00, 328.09it/s]\n"
     ]
    },
    {
     "name": "stdout",
     "output_type": "stream",
     "text": [
      "Epochs: 5 | Train Loss:  0.0167                     | Train F1:  0.7128                     | Val Loss:  0.0145                     | Val F1:  0.7477\n"
     ]
    },
    {
     "name": "stderr",
     "output_type": "stream",
     "text": [
      "100%|██████████| 4360/4360 [00:13<00:00, 327.44it/s]\n",
      "100%|██████████| 4360/4360 [00:13<00:00, 329.23it/s]\n",
      "100%|██████████| 4360/4360 [00:13<00:00, 328.34it/s]\n",
      "100%|██████████| 4360/4360 [00:13<00:00, 328.75it/s]\n",
      "100%|██████████| 4360/4360 [00:13<00:00, 327.78it/s]\n"
     ]
    },
    {
     "name": "stdout",
     "output_type": "stream",
     "text": [
      "Epochs: 10 | Train Loss:  0.0151                     | Train F1:  0.7406                     | Val Loss:  0.0132                     | Val F1:  0.7339\n",
      "Fold 2\n"
     ]
    },
    {
     "name": "stderr",
     "output_type": "stream",
     "text": [
      "100%|██████████| 4444/4444 [00:13<00:00, 325.03it/s]\n"
     ]
    },
    {
     "name": "stdout",
     "output_type": "stream",
     "text": [
      "Epochs: 1 | Train Loss:  0.0209                     | Train F1:  0.0869                     | Val Loss:  0.0196                     | Val F1:  0.3953\n"
     ]
    },
    {
     "name": "stderr",
     "output_type": "stream",
     "text": [
      "100%|██████████| 4444/4444 [00:13<00:00, 326.62it/s]\n",
      "100%|██████████| 4444/4444 [00:13<00:00, 326.57it/s]\n",
      "100%|██████████| 4444/4444 [00:13<00:00, 326.62it/s]\n",
      "100%|██████████| 4444/4444 [00:13<00:00, 326.24it/s]\n"
     ]
    },
    {
     "name": "stdout",
     "output_type": "stream",
     "text": [
      "Epochs: 5 | Train Loss:  0.0152                     | Train F1:  0.7356                     | Val Loss:  0.0146                     | Val F1:  0.6943\n"
     ]
    },
    {
     "name": "stderr",
     "output_type": "stream",
     "text": [
      "100%|██████████| 4444/4444 [00:13<00:00, 326.47it/s]\n",
      "100%|██████████| 4444/4444 [00:13<00:00, 325.07it/s]\n",
      "100%|██████████| 4444/4444 [00:13<00:00, 325.53it/s]\n",
      "100%|██████████| 4444/4444 [00:13<00:00, 326.20it/s]\n",
      "100%|██████████| 4444/4444 [00:13<00:00, 324.34it/s]\n"
     ]
    },
    {
     "name": "stdout",
     "output_type": "stream",
     "text": [
      "Epochs: 10 | Train Loss:  0.0142                     | Train F1:  0.7572                     | Val Loss:  0.0146                     | Val F1:  0.6938\n",
      "Fold 3\n"
     ]
    },
    {
     "name": "stderr",
     "output_type": "stream",
     "text": [
      "100%|██████████| 4250/4250 [00:12<00:00, 328.80it/s]\n"
     ]
    },
    {
     "name": "stdout",
     "output_type": "stream",
     "text": [
      "Epochs: 1 | Train Loss:  0.0210                     | Train F1:  0.5680                     | Val Loss:  0.0199                     | Val F1:  0.6494\n"
     ]
    },
    {
     "name": "stderr",
     "output_type": "stream",
     "text": [
      "100%|██████████| 4250/4250 [00:12<00:00, 328.91it/s]\n",
      "100%|██████████| 4250/4250 [00:12<00:00, 329.60it/s]\n",
      "100%|██████████| 4250/4250 [00:12<00:00, 329.68it/s]\n",
      "100%|██████████| 4250/4250 [00:12<00:00, 328.60it/s]\n"
     ]
    },
    {
     "name": "stdout",
     "output_type": "stream",
     "text": [
      "Epochs: 5 | Train Loss:  0.0152                     | Train F1:  0.7379                     | Val Loss:  0.0153                     | Val F1:  0.6965\n"
     ]
    },
    {
     "name": "stderr",
     "output_type": "stream",
     "text": [
      "100%|██████████| 4250/4250 [00:12<00:00, 327.96it/s]\n",
      "100%|██████████| 4250/4250 [00:12<00:00, 330.28it/s]\n",
      "100%|██████████| 4250/4250 [00:12<00:00, 328.25it/s]\n",
      "100%|██████████| 4250/4250 [00:12<00:00, 328.04it/s]\n",
      "100%|██████████| 4250/4250 [00:12<00:00, 328.50it/s]\n"
     ]
    },
    {
     "name": "stdout",
     "output_type": "stream",
     "text": [
      "Epochs: 10 | Train Loss:  0.0142                     | Train F1:  0.7588                     | Val Loss:  0.0150                     | Val F1:  0.7063\n",
      "Fold 4\n"
     ]
    },
    {
     "name": "stderr",
     "output_type": "stream",
     "text": [
      "100%|██████████| 4291/4291 [00:13<00:00, 329.22it/s]\n"
     ]
    },
    {
     "name": "stdout",
     "output_type": "stream",
     "text": [
      "Epochs: 1 | Train Loss:  0.0211                     | Train F1:  0.5761                     | Val Loss:  0.0212                     | Val F1:  0.4420\n"
     ]
    },
    {
     "name": "stderr",
     "output_type": "stream",
     "text": [
      "100%|██████████| 4291/4291 [00:13<00:00, 328.19it/s]\n",
      "100%|██████████| 4291/4291 [00:13<00:00, 324.71it/s]\n",
      "100%|██████████| 4291/4291 [00:14<00:00, 298.21it/s]\n",
      "100%|██████████| 4291/4291 [00:14<00:00, 297.48it/s]\n"
     ]
    },
    {
     "name": "stdout",
     "output_type": "stream",
     "text": [
      "Epochs: 5 | Train Loss:  0.0142                     | Train F1:  0.7382                     | Val Loss:  0.0208                     | Val F1:  0.5942\n"
     ]
    },
    {
     "name": "stderr",
     "output_type": "stream",
     "text": [
      "100%|██████████| 4291/4291 [00:13<00:00, 311.55it/s]\n",
      "100%|██████████| 4291/4291 [00:13<00:00, 307.03it/s]\n",
      "100%|██████████| 4291/4291 [00:13<00:00, 307.86it/s]\n",
      "100%|██████████| 4291/4291 [00:13<00:00, 312.26it/s]\n",
      "100%|██████████| 4291/4291 [00:13<00:00, 316.62it/s]\n",
      "\u001b[32m[I 2022-07-15 10:25:14,156]\u001b[0m Trial 12 finished with value: 0.690757981862892 and parameters: {'learning_rate': 1.1193641306604468e-05, 'n_layers': 2, 'n_units_l0': 21, 'dropout_l0': 0.2, 'n_units_l1': 14, 'dropout_l1': 0.30000000000000004}. Best is trial 2 with value: 0.6940657012575293.\u001b[0m\n"
     ]
    },
    {
     "name": "stdout",
     "output_type": "stream",
     "text": [
      "Epochs: 10 | Train Loss:  0.0130                     | Train F1:  0.7639                     | Val Loss:  0.0217                     | Val F1:  0.6068\n",
      "trial 13\n",
      "Fold 0\n"
     ]
    },
    {
     "name": "stderr",
     "output_type": "stream",
     "text": [
      "100%|██████████| 4429/4429 [00:36<00:00, 119.81it/s]\n"
     ]
    },
    {
     "name": "stdout",
     "output_type": "stream",
     "text": [
      "Epochs: 1 | Train Loss:  0.0187                     | Train F1:  0.5469                     | Val Loss:  0.0163                     | Val F1:  0.6924\n"
     ]
    },
    {
     "name": "stderr",
     "output_type": "stream",
     "text": [
      "100%|██████████| 4429/4429 [00:14<00:00, 296.58it/s]\n",
      "100%|██████████| 4429/4429 [00:14<00:00, 297.81it/s]\n",
      "100%|██████████| 4429/4429 [00:14<00:00, 297.03it/s]\n",
      "100%|██████████| 4429/4429 [00:14<00:00, 297.95it/s]\n"
     ]
    },
    {
     "name": "stdout",
     "output_type": "stream",
     "text": [
      "Epochs: 5 | Train Loss:  0.0154                     | Train F1:  0.6987                     | Val Loss:  0.0162                     | Val F1:  0.6808\n"
     ]
    },
    {
     "name": "stderr",
     "output_type": "stream",
     "text": [
      "100%|██████████| 4429/4429 [00:14<00:00, 297.10it/s]\n",
      "100%|██████████| 4429/4429 [00:14<00:00, 298.02it/s]\n",
      "100%|██████████| 4429/4429 [00:14<00:00, 297.85it/s]\n",
      "100%|██████████| 4429/4429 [00:14<00:00, 296.68it/s]\n",
      "100%|██████████| 4429/4429 [00:14<00:00, 297.18it/s]\n"
     ]
    },
    {
     "name": "stdout",
     "output_type": "stream",
     "text": [
      "Epochs: 10 | Train Loss:  0.0146                     | Train F1:  0.7166                     | Val Loss:  0.0166                     | Val F1:  0.6655\n",
      "Fold 1\n"
     ]
    },
    {
     "name": "stderr",
     "output_type": "stream",
     "text": [
      "100%|██████████| 4360/4360 [00:14<00:00, 299.96it/s]\n"
     ]
    },
    {
     "name": "stdout",
     "output_type": "stream",
     "text": [
      "Epochs: 1 | Train Loss:  0.0201                     | Train F1:  0.5789                     | Val Loss:  0.0172                     | Val F1:  0.7014\n"
     ]
    },
    {
     "name": "stderr",
     "output_type": "stream",
     "text": [
      "100%|██████████| 4360/4360 [00:14<00:00, 298.52it/s]\n",
      "100%|██████████| 4360/4360 [00:14<00:00, 299.61it/s]\n",
      "100%|██████████| 4360/4360 [00:14<00:00, 299.00it/s]\n",
      "100%|██████████| 4360/4360 [00:14<00:00, 299.94it/s]\n"
     ]
    },
    {
     "name": "stdout",
     "output_type": "stream",
     "text": [
      "Epochs: 5 | Train Loss:  0.0168                     | Train F1:  0.6554                     | Val Loss:  0.0155                     | Val F1:  0.6909\n"
     ]
    },
    {
     "name": "stderr",
     "output_type": "stream",
     "text": [
      "100%|██████████| 4360/4360 [00:14<00:00, 298.15it/s]\n",
      "100%|██████████| 4360/4360 [00:14<00:00, 299.34it/s]\n",
      "100%|██████████| 4360/4360 [00:14<00:00, 298.74it/s]\n",
      "100%|██████████| 4360/4360 [00:14<00:00, 297.64it/s]\n",
      "100%|██████████| 4360/4360 [00:14<00:00, 298.60it/s]\n"
     ]
    },
    {
     "name": "stdout",
     "output_type": "stream",
     "text": [
      "Epochs: 10 | Train Loss:  0.0162                     | Train F1:  0.6723                     | Val Loss:  0.0156                     | Val F1:  0.6885\n",
      "Fold 2\n"
     ]
    },
    {
     "name": "stderr",
     "output_type": "stream",
     "text": [
      "100%|██████████| 4444/4444 [00:14<00:00, 298.71it/s]\n"
     ]
    },
    {
     "name": "stdout",
     "output_type": "stream",
     "text": [
      "Epochs: 1 | Train Loss:  0.0189                     | Train F1:  0.4191                     | Val Loss:  0.0152                     | Val F1:  0.6887\n"
     ]
    },
    {
     "name": "stderr",
     "output_type": "stream",
     "text": [
      "100%|██████████| 4444/4444 [00:14<00:00, 298.06it/s]\n",
      "100%|██████████| 4444/4444 [00:14<00:00, 298.35it/s]\n",
      "100%|██████████| 4444/4444 [00:14<00:00, 298.77it/s]\n",
      "100%|██████████| 4444/4444 [00:14<00:00, 298.60it/s]\n"
     ]
    },
    {
     "name": "stdout",
     "output_type": "stream",
     "text": [
      "Epochs: 5 | Train Loss:  0.0162                     | Train F1:  0.7004                     | Val Loss:  0.0152                     | Val F1:  0.6926\n"
     ]
    },
    {
     "name": "stderr",
     "output_type": "stream",
     "text": [
      "100%|██████████| 4444/4444 [00:14<00:00, 298.66it/s]\n",
      "100%|██████████| 4444/4444 [00:14<00:00, 296.87it/s]\n",
      "100%|██████████| 4444/4444 [00:14<00:00, 298.47it/s]\n",
      "100%|██████████| 4444/4444 [00:14<00:00, 296.97it/s]\n",
      "100%|██████████| 4444/4444 [00:14<00:00, 297.42it/s]\n"
     ]
    },
    {
     "name": "stdout",
     "output_type": "stream",
     "text": [
      "Epochs: 10 | Train Loss:  0.0155                     | Train F1:  0.7257                     | Val Loss:  0.0155                     | Val F1:  0.6943\n",
      "Fold 3\n"
     ]
    },
    {
     "name": "stderr",
     "output_type": "stream",
     "text": [
      "100%|██████████| 4250/4250 [00:14<00:00, 300.40it/s]\n"
     ]
    },
    {
     "name": "stdout",
     "output_type": "stream",
     "text": [
      "Epochs: 1 | Train Loss:  0.0190                     | Train F1:  0.6169                     | Val Loss:  0.0157                     | Val F1:  0.7086\n"
     ]
    },
    {
     "name": "stderr",
     "output_type": "stream",
     "text": [
      "100%|██████████| 4250/4250 [00:14<00:00, 299.29it/s]\n",
      "100%|██████████| 4250/4250 [00:14<00:00, 299.49it/s]\n",
      "100%|██████████| 4250/4250 [00:14<00:00, 299.91it/s]\n",
      "100%|██████████| 4250/4250 [00:14<00:00, 299.75it/s]\n"
     ]
    },
    {
     "name": "stdout",
     "output_type": "stream",
     "text": [
      "Epochs: 5 | Train Loss:  0.0158                     | Train F1:  0.6835                     | Val Loss:  0.0152                     | Val F1:  0.6793\n"
     ]
    },
    {
     "name": "stderr",
     "output_type": "stream",
     "text": [
      "100%|██████████| 4250/4250 [00:14<00:00, 299.22it/s]\n",
      "100%|██████████| 4250/4250 [00:14<00:00, 300.31it/s]\n",
      "100%|██████████| 4250/4250 [00:14<00:00, 299.44it/s]\n",
      "100%|██████████| 4250/4250 [00:14<00:00, 298.97it/s]\n",
      "100%|██████████| 4250/4250 [00:14<00:00, 299.26it/s]\n"
     ]
    },
    {
     "name": "stdout",
     "output_type": "stream",
     "text": [
      "Epochs: 10 | Train Loss:  0.0150                     | Train F1:  0.7067                     | Val Loss:  0.0153                     | Val F1:  0.6802\n",
      "Fold 4\n"
     ]
    },
    {
     "name": "stderr",
     "output_type": "stream",
     "text": [
      "100%|██████████| 4291/4291 [00:14<00:00, 299.43it/s]\n"
     ]
    },
    {
     "name": "stdout",
     "output_type": "stream",
     "text": [
      "Epochs: 1 | Train Loss:  0.0177                     | Train F1:  0.4804                     | Val Loss:  0.0205                     | Val F1:  0.6224\n"
     ]
    },
    {
     "name": "stderr",
     "output_type": "stream",
     "text": [
      "100%|██████████| 4291/4291 [00:14<00:00, 299.24it/s]\n",
      "100%|██████████| 4291/4291 [00:14<00:00, 299.22it/s]\n",
      "100%|██████████| 4291/4291 [00:14<00:00, 297.80it/s]\n",
      "100%|██████████| 4291/4291 [00:14<00:00, 298.76it/s]\n"
     ]
    },
    {
     "name": "stdout",
     "output_type": "stream",
     "text": [
      "Epochs: 5 | Train Loss:  0.0145                     | Train F1:  0.7411                     | Val Loss:  0.0218                     | Val F1:  0.6094\n"
     ]
    },
    {
     "name": "stderr",
     "output_type": "stream",
     "text": [
      "100%|██████████| 4291/4291 [00:14<00:00, 297.30it/s]\n",
      "100%|██████████| 4291/4291 [00:14<00:00, 298.37it/s]\n",
      "100%|██████████| 4291/4291 [00:14<00:00, 297.92it/s]\n",
      "100%|██████████| 4291/4291 [00:14<00:00, 298.34it/s]\n",
      "100%|██████████| 4291/4291 [00:14<00:00, 298.09it/s]\n",
      "\u001b[32m[I 2022-07-15 10:40:33,797]\u001b[0m Trial 13 finished with value: 0.6671367197607347 and parameters: {'learning_rate': 0.00020046659159087996, 'n_layers': 3, 'n_units_l0': 14, 'dropout_l0': 0.45, 'n_units_l1': 5, 'dropout_l1': 0.30000000000000004, 'n_units_l2': 4, 'dropout_l2': 0.5}. Best is trial 2 with value: 0.6940657012575293.\u001b[0m\n"
     ]
    },
    {
     "name": "stdout",
     "output_type": "stream",
     "text": [
      "Epochs: 10 | Train Loss:  0.0137                     | Train F1:  0.7610                     | Val Loss:  0.0233                     | Val F1:  0.6073\n",
      "trial 14\n",
      "Fold 0\n"
     ]
    },
    {
     "name": "stderr",
     "output_type": "stream",
     "text": [
      "100%|██████████| 4429/4429 [00:35<00:00, 124.39it/s]\n"
     ]
    },
    {
     "name": "stdout",
     "output_type": "stream",
     "text": [
      "Epochs: 1 | Train Loss:  0.0113                     | Train F1:  0.8070                     | Val Loss:  0.0186                     | Val F1:  0.6811\n"
     ]
    },
    {
     "name": "stderr",
     "output_type": "stream",
     "text": [
      "100%|██████████| 4429/4429 [00:14<00:00, 311.77it/s]\n",
      "100%|██████████| 4429/4429 [00:14<00:00, 314.91it/s]\n",
      "100%|██████████| 4429/4429 [00:14<00:00, 315.57it/s]\n",
      "100%|██████████| 4429/4429 [00:14<00:00, 314.32it/s]\n"
     ]
    },
    {
     "name": "stdout",
     "output_type": "stream",
     "text": [
      "Epochs: 5 | Train Loss:  0.0055                     | Train F1:  0.9167                     | Val Loss:  0.0249                     | Val F1:  0.6668\n"
     ]
    },
    {
     "name": "stderr",
     "output_type": "stream",
     "text": [
      "100%|██████████| 4429/4429 [00:14<00:00, 314.71it/s]\n",
      "100%|██████████| 4429/4429 [00:14<00:00, 314.67it/s]\n",
      "100%|██████████| 4429/4429 [00:14<00:00, 315.75it/s]\n",
      "100%|██████████| 4429/4429 [00:14<00:00, 313.69it/s]\n",
      "100%|██████████| 4429/4429 [00:14<00:00, 315.51it/s]\n"
     ]
    },
    {
     "name": "stdout",
     "output_type": "stream",
     "text": [
      "Epochs: 10 | Train Loss:  0.0043                     | Train F1:  0.9356                     | Val Loss:  0.0279                     | Val F1:  0.6746\n",
      "Fold 1\n"
     ]
    },
    {
     "name": "stderr",
     "output_type": "stream",
     "text": [
      "100%|██████████| 4360/4360 [00:13<00:00, 314.72it/s]\n"
     ]
    },
    {
     "name": "stdout",
     "output_type": "stream",
     "text": [
      "Epochs: 1 | Train Loss:  0.0120                     | Train F1:  0.7980                     | Val Loss:  0.0147                     | Val F1:  0.6775\n"
     ]
    },
    {
     "name": "stderr",
     "output_type": "stream",
     "text": [
      "100%|██████████| 4360/4360 [00:13<00:00, 315.50it/s]\n",
      "100%|██████████| 4360/4360 [00:13<00:00, 316.87it/s]\n",
      "100%|██████████| 4360/4360 [00:13<00:00, 316.50it/s]\n",
      "100%|██████████| 4360/4360 [00:13<00:00, 313.96it/s]\n"
     ]
    },
    {
     "name": "stdout",
     "output_type": "stream",
     "text": [
      "Epochs: 5 | Train Loss:  0.0059                     | Train F1:  0.9133                     | Val Loss:  0.0181                     | Val F1:  0.7119\n"
     ]
    },
    {
     "name": "stderr",
     "output_type": "stream",
     "text": [
      "100%|██████████| 4360/4360 [00:13<00:00, 315.13it/s]\n",
      "100%|██████████| 4360/4360 [00:13<00:00, 314.62it/s]\n",
      "100%|██████████| 4360/4360 [00:13<00:00, 314.71it/s]\n",
      "100%|██████████| 4360/4360 [00:13<00:00, 315.06it/s]\n",
      "100%|██████████| 4360/4360 [00:13<00:00, 313.52it/s]\n"
     ]
    },
    {
     "name": "stdout",
     "output_type": "stream",
     "text": [
      "Epochs: 10 | Train Loss:  0.0047                     | Train F1:  0.9312                     | Val Loss:  0.0188                     | Val F1:  0.7175\n",
      "Fold 2\n"
     ]
    },
    {
     "name": "stderr",
     "output_type": "stream",
     "text": [
      "100%|██████████| 4444/4444 [00:14<00:00, 314.23it/s]\n"
     ]
    },
    {
     "name": "stdout",
     "output_type": "stream",
     "text": [
      "Epochs: 1 | Train Loss:  0.0117                     | Train F1:  0.8014                     | Val Loss:  0.0193                     | Val F1:  0.6893\n"
     ]
    },
    {
     "name": "stderr",
     "output_type": "stream",
     "text": [
      "100%|██████████| 4444/4444 [00:14<00:00, 315.06it/s]\n",
      "100%|██████████| 4444/4444 [00:14<00:00, 315.01it/s]\n",
      "100%|██████████| 4444/4444 [00:14<00:00, 314.58it/s]\n",
      "100%|██████████| 4444/4444 [00:14<00:00, 307.96it/s]\n"
     ]
    },
    {
     "name": "stdout",
     "output_type": "stream",
     "text": [
      "Epochs: 5 | Train Loss:  0.0058                     | Train F1:  0.9136                     | Val Loss:  0.0279                     | Val F1:  0.6631\n"
     ]
    },
    {
     "name": "stderr",
     "output_type": "stream",
     "text": [
      "100%|██████████| 4444/4444 [00:14<00:00, 315.09it/s]\n",
      "100%|██████████| 4444/4444 [00:14<00:00, 314.07it/s]\n",
      "100%|██████████| 4444/4444 [00:14<00:00, 311.78it/s]\n",
      "100%|██████████| 4444/4444 [00:14<00:00, 315.75it/s]\n",
      "100%|██████████| 4444/4444 [00:14<00:00, 315.11it/s]\n"
     ]
    },
    {
     "name": "stdout",
     "output_type": "stream",
     "text": [
      "Epochs: 10 | Train Loss:  0.0044                     | Train F1:  0.9347                     | Val Loss:  0.0337                     | Val F1:  0.6532\n",
      "Fold 3\n"
     ]
    },
    {
     "name": "stderr",
     "output_type": "stream",
     "text": [
      "100%|██████████| 4250/4250 [00:13<00:00, 317.27it/s]\n"
     ]
    },
    {
     "name": "stdout",
     "output_type": "stream",
     "text": [
      "Epochs: 1 | Train Loss:  0.0115                     | Train F1:  0.8046                     | Val Loss:  0.0177                     | Val F1:  0.6678\n"
     ]
    },
    {
     "name": "stderr",
     "output_type": "stream",
     "text": [
      "100%|██████████| 4250/4250 [00:13<00:00, 318.98it/s]\n",
      "100%|██████████| 4250/4250 [00:13<00:00, 317.42it/s]\n",
      "100%|██████████| 4250/4250 [00:13<00:00, 317.71it/s]\n",
      "100%|██████████| 4250/4250 [00:13<00:00, 315.32it/s]\n"
     ]
    },
    {
     "name": "stdout",
     "output_type": "stream",
     "text": [
      "Epochs: 5 | Train Loss:  0.0056                     | Train F1:  0.9167                     | Val Loss:  0.0220                     | Val F1:  0.6880\n"
     ]
    },
    {
     "name": "stderr",
     "output_type": "stream",
     "text": [
      "100%|██████████| 4250/4250 [00:13<00:00, 317.34it/s]\n",
      "100%|██████████| 4250/4250 [00:13<00:00, 318.67it/s]\n",
      "100%|██████████| 4250/4250 [00:13<00:00, 317.60it/s]\n",
      "100%|██████████| 4250/4250 [00:13<00:00, 315.03it/s]\n",
      "100%|██████████| 4250/4250 [00:13<00:00, 316.37it/s]\n"
     ]
    },
    {
     "name": "stdout",
     "output_type": "stream",
     "text": [
      "Epochs: 10 | Train Loss:  0.0044                     | Train F1:  0.9360                     | Val Loss:  0.0250                     | Val F1:  0.6917\n",
      "Fold 4\n"
     ]
    },
    {
     "name": "stderr",
     "output_type": "stream",
     "text": [
      "100%|██████████| 4291/4291 [00:13<00:00, 316.26it/s]\n"
     ]
    },
    {
     "name": "stdout",
     "output_type": "stream",
     "text": [
      "Epochs: 1 | Train Loss:  0.0104                     | Train F1:  0.8121                     | Val Loss:  0.0266                     | Val F1:  0.6179\n"
     ]
    },
    {
     "name": "stderr",
     "output_type": "stream",
     "text": [
      "100%|██████████| 4291/4291 [00:13<00:00, 317.99it/s]\n",
      "100%|██████████| 4291/4291 [00:13<00:00, 317.05it/s]\n",
      "100%|██████████| 4291/4291 [00:13<00:00, 317.45it/s]\n",
      "100%|██████████| 4291/4291 [00:13<00:00, 314.94it/s]\n"
     ]
    },
    {
     "name": "stdout",
     "output_type": "stream",
     "text": [
      "Epochs: 5 | Train Loss:  0.0047                     | Train F1:  0.9241                     | Val Loss:  0.0374                     | Val F1:  0.6135\n"
     ]
    },
    {
     "name": "stderr",
     "output_type": "stream",
     "text": [
      "100%|██████████| 4291/4291 [00:13<00:00, 317.52it/s]\n",
      "100%|██████████| 4291/4291 [00:13<00:00, 316.45it/s]\n",
      "100%|██████████| 4291/4291 [00:13<00:00, 315.48it/s]\n",
      "100%|██████████| 4291/4291 [00:13<00:00, 315.00it/s]\n",
      "100%|██████████| 4291/4291 [00:13<00:00, 316.36it/s]\n",
      "\u001b[32m[I 2022-07-15 10:55:13,176]\u001b[0m Trial 14 finished with value: 0.6674035277347984 and parameters: {'learning_rate': 0.0008914497272983653, 'n_layers': 2, 'n_units_l0': 50, 'dropout_l0': 0.2, 'n_units_l1': 41, 'dropout_l1': 0.35000000000000003}. Best is trial 2 with value: 0.6940657012575293.\u001b[0m\n"
     ]
    },
    {
     "name": "stdout",
     "output_type": "stream",
     "text": [
      "Epochs: 10 | Train Loss:  0.0036                     | Train F1:  0.9425                     | Val Loss:  0.0442                     | Val F1:  0.6000\n",
      "trial 15\n",
      "Fold 0\n"
     ]
    },
    {
     "name": "stderr",
     "output_type": "stream",
     "text": [
      "100%|██████████| 4429/4429 [00:34<00:00, 127.45it/s]\n"
     ]
    },
    {
     "name": "stdout",
     "output_type": "stream",
     "text": [
      "Epochs: 1 | Train Loss:  0.0195                     | Train F1:  0.4010                     | Val Loss:  0.0178                     | Val F1:  0.6083\n"
     ]
    },
    {
     "name": "stderr",
     "output_type": "stream",
     "text": [
      "100%|██████████| 4429/4429 [00:13<00:00, 324.14it/s]\n",
      "100%|██████████| 4429/4429 [00:13<00:00, 327.82it/s]\n",
      "100%|██████████| 4429/4429 [00:13<00:00, 327.69it/s]\n",
      "100%|██████████| 4429/4429 [00:13<00:00, 327.06it/s]\n"
     ]
    },
    {
     "name": "stdout",
     "output_type": "stream",
     "text": [
      "Epochs: 5 | Train Loss:  0.0151                     | Train F1:  0.7638                     | Val Loss:  0.0168                     | Val F1:  0.7132\n"
     ]
    },
    {
     "name": "stderr",
     "output_type": "stream",
     "text": [
      "100%|██████████| 4429/4429 [00:13<00:00, 327.02it/s]\n",
      "100%|██████████| 4429/4429 [00:13<00:00, 326.84it/s]\n",
      "100%|██████████| 4429/4429 [00:13<00:00, 326.70it/s]\n",
      "100%|██████████| 4429/4429 [00:13<00:00, 327.55it/s]\n",
      "100%|██████████| 4429/4429 [00:13<00:00, 327.02it/s]\n"
     ]
    },
    {
     "name": "stdout",
     "output_type": "stream",
     "text": [
      "Epochs: 10 | Train Loss:  0.0139                     | Train F1:  0.7855                     | Val Loss:  0.0168                     | Val F1:  0.7101\n",
      "Fold 1\n"
     ]
    },
    {
     "name": "stderr",
     "output_type": "stream",
     "text": [
      "100%|██████████| 4360/4360 [00:13<00:00, 327.99it/s]\n"
     ]
    },
    {
     "name": "stdout",
     "output_type": "stream",
     "text": [
      "Epochs: 1 | Train Loss:  0.0207                     | Train F1:  0.0426                     | Val Loss:  0.0177                     | Val F1:  0.3824\n"
     ]
    },
    {
     "name": "stderr",
     "output_type": "stream",
     "text": [
      "100%|██████████| 4360/4360 [00:13<00:00, 326.62it/s]\n",
      "100%|██████████| 4360/4360 [00:13<00:00, 328.23it/s]\n",
      "100%|██████████| 4360/4360 [00:13<00:00, 328.37it/s]\n",
      "100%|██████████| 4360/4360 [00:13<00:00, 328.25it/s]\n"
     ]
    },
    {
     "name": "stdout",
     "output_type": "stream",
     "text": [
      "Epochs: 5 | Train Loss:  0.0151                     | Train F1:  0.7350                     | Val Loss:  0.0129                     | Val F1:  0.7452\n"
     ]
    },
    {
     "name": "stderr",
     "output_type": "stream",
     "text": [
      "100%|██████████| 4360/4360 [00:13<00:00, 327.56it/s]\n",
      "100%|██████████| 4360/4360 [00:13<00:00, 328.00it/s]\n",
      "100%|██████████| 4360/4360 [00:13<00:00, 328.97it/s]\n",
      "100%|██████████| 4360/4360 [00:13<00:00, 329.95it/s]\n",
      "100%|██████████| 4360/4360 [00:13<00:00, 328.04it/s]\n"
     ]
    },
    {
     "name": "stdout",
     "output_type": "stream",
     "text": [
      "Epochs: 10 | Train Loss:  0.0141                     | Train F1:  0.7522                     | Val Loss:  0.0130                     | Val F1:  0.7302\n",
      "Fold 2\n"
     ]
    },
    {
     "name": "stderr",
     "output_type": "stream",
     "text": [
      "100%|██████████| 4444/4444 [00:13<00:00, 328.00it/s]\n"
     ]
    },
    {
     "name": "stdout",
     "output_type": "stream",
     "text": [
      "Epochs: 1 | Train Loss:  0.0201                     | Train F1:  0.6434                     | Val Loss:  0.0172                     | Val F1:  0.6577\n"
     ]
    },
    {
     "name": "stderr",
     "output_type": "stream",
     "text": [
      "100%|██████████| 4444/4444 [00:13<00:00, 325.81it/s]\n",
      "100%|██████████| 4444/4444 [00:13<00:00, 326.29it/s]\n",
      "100%|██████████| 4444/4444 [00:13<00:00, 326.98it/s]\n",
      "100%|██████████| 4444/4444 [00:13<00:00, 327.29it/s]\n"
     ]
    },
    {
     "name": "stdout",
     "output_type": "stream",
     "text": [
      "Epochs: 5 | Train Loss:  0.0145                     | Train F1:  0.7551                     | Val Loss:  0.0145                     | Val F1:  0.6968\n"
     ]
    },
    {
     "name": "stderr",
     "output_type": "stream",
     "text": [
      "100%|██████████| 4444/4444 [00:13<00:00, 327.40it/s]\n",
      "100%|██████████| 4444/4444 [00:13<00:00, 326.00it/s]\n",
      "100%|██████████| 4444/4444 [00:13<00:00, 324.17it/s]\n",
      "100%|██████████| 4444/4444 [00:13<00:00, 324.59it/s]\n",
      "100%|██████████| 4444/4444 [00:13<00:00, 324.93it/s]\n"
     ]
    },
    {
     "name": "stdout",
     "output_type": "stream",
     "text": [
      "Epochs: 10 | Train Loss:  0.0135                     | Train F1:  0.7731                     | Val Loss:  0.0149                     | Val F1:  0.6974\n",
      "Fold 3\n"
     ]
    },
    {
     "name": "stderr",
     "output_type": "stream",
     "text": [
      "100%|██████████| 4250/4250 [00:12<00:00, 328.01it/s]\n"
     ]
    },
    {
     "name": "stdout",
     "output_type": "stream",
     "text": [
      "Epochs: 1 | Train Loss:  0.0203                     | Train F1:  0.3266                     | Val Loss:  0.0182                     | Val F1:  0.6752\n"
     ]
    },
    {
     "name": "stderr",
     "output_type": "stream",
     "text": [
      "100%|██████████| 4250/4250 [00:13<00:00, 325.02it/s]\n",
      "100%|██████████| 4250/4250 [00:13<00:00, 326.37it/s]\n",
      "100%|██████████| 4250/4250 [00:13<00:00, 326.28it/s]\n",
      "100%|██████████| 4250/4250 [00:12<00:00, 329.43it/s]\n"
     ]
    },
    {
     "name": "stdout",
     "output_type": "stream",
     "text": [
      "Epochs: 5 | Train Loss:  0.0144                     | Train F1:  0.7519                     | Val Loss:  0.0151                     | Val F1:  0.7079\n"
     ]
    },
    {
     "name": "stderr",
     "output_type": "stream",
     "text": [
      "100%|██████████| 4250/4250 [00:12<00:00, 328.08it/s]\n",
      "100%|██████████| 4250/4250 [00:12<00:00, 329.68it/s]\n",
      "100%|██████████| 4250/4250 [00:12<00:00, 329.95it/s]\n",
      "100%|██████████| 4250/4250 [00:12<00:00, 329.81it/s]\n",
      "100%|██████████| 4250/4250 [00:12<00:00, 329.61it/s]\n"
     ]
    },
    {
     "name": "stdout",
     "output_type": "stream",
     "text": [
      "Epochs: 10 | Train Loss:  0.0134                     | Train F1:  0.7738                     | Val Loss:  0.0153                     | Val F1:  0.7084\n",
      "Fold 4\n"
     ]
    },
    {
     "name": "stderr",
     "output_type": "stream",
     "text": [
      "100%|██████████| 4291/4291 [00:12<00:00, 330.23it/s]\n"
     ]
    },
    {
     "name": "stdout",
     "output_type": "stream",
     "text": [
      "Epochs: 1 | Train Loss:  0.0204                     | Train F1:  0.6055                     | Val Loss:  0.0206                     | Val F1:  0.4546\n"
     ]
    },
    {
     "name": "stderr",
     "output_type": "stream",
     "text": [
      "100%|██████████| 4291/4291 [00:13<00:00, 328.07it/s]\n",
      "100%|██████████| 4291/4291 [00:13<00:00, 327.85it/s]\n",
      "100%|██████████| 4291/4291 [00:13<00:00, 328.99it/s]\n",
      "100%|██████████| 4291/4291 [00:13<00:00, 328.78it/s]\n"
     ]
    },
    {
     "name": "stdout",
     "output_type": "stream",
     "text": [
      "Epochs: 5 | Train Loss:  0.0130                     | Train F1:  0.7666                     | Val Loss:  0.0214                     | Val F1:  0.6218\n"
     ]
    },
    {
     "name": "stderr",
     "output_type": "stream",
     "text": [
      "100%|██████████| 4291/4291 [00:13<00:00, 325.75it/s]\n",
      "100%|██████████| 4291/4291 [00:13<00:00, 328.73it/s]\n",
      "100%|██████████| 4291/4291 [00:13<00:00, 328.85it/s]\n",
      "100%|██████████| 4291/4291 [00:13<00:00, 330.02it/s]\n",
      "100%|██████████| 4291/4291 [00:13<00:00, 329.71it/s]\n",
      "\u001b[32m[I 2022-07-15 11:09:15,000]\u001b[0m Trial 15 finished with value: 0.6934720857941933 and parameters: {'learning_rate': 2.3518600017957273e-05, 'n_layers': 2, 'n_units_l0': 23, 'dropout_l0': 0.45, 'n_units_l1': 11, 'dropout_l1': 0.2}. Best is trial 2 with value: 0.6940657012575293.\u001b[0m\n"
     ]
    },
    {
     "name": "stdout",
     "output_type": "stream",
     "text": [
      "Epochs: 10 | Train Loss:  0.0120                     | Train F1:  0.7861                     | Val Loss:  0.0223                     | Val F1:  0.6213\n",
      "trial 16\n",
      "Fold 0\n"
     ]
    },
    {
     "name": "stderr",
     "output_type": "stream",
     "text": [
      "100%|██████████| 4429/4429 [00:35<00:00, 125.62it/s]\n"
     ]
    },
    {
     "name": "stdout",
     "output_type": "stream",
     "text": [
      "Epochs: 1 | Train Loss:  0.0210                     | Train F1:  0.0932                     | Val Loss:  0.0206                     | Val F1:  0.0000\n"
     ]
    },
    {
     "name": "stderr",
     "output_type": "stream",
     "text": [
      "100%|██████████| 4429/4429 [00:14<00:00, 297.71it/s]\n",
      "100%|██████████| 4429/4429 [00:14<00:00, 299.90it/s]\n",
      "100%|██████████| 4429/4429 [00:14<00:00, 300.25it/s]\n",
      "100%|██████████| 4429/4429 [00:14<00:00, 299.63it/s]\n"
     ]
    },
    {
     "name": "stdout",
     "output_type": "stream",
     "text": [
      "Epochs: 5 | Train Loss:  0.0176                     | Train F1:  0.6545                     | Val Loss:  0.0175                     | Val F1:  0.6948\n"
     ]
    },
    {
     "name": "stderr",
     "output_type": "stream",
     "text": [
      "100%|██████████| 4429/4429 [00:14<00:00, 298.86it/s]\n",
      "100%|██████████| 4429/4429 [00:14<00:00, 298.21it/s]\n",
      "100%|██████████| 4429/4429 [00:14<00:00, 299.04it/s]\n",
      "100%|██████████| 4429/4429 [00:14<00:00, 299.28it/s]\n",
      "100%|██████████| 4429/4429 [00:14<00:00, 298.98it/s]\n"
     ]
    },
    {
     "name": "stdout",
     "output_type": "stream",
     "text": [
      "Epochs: 10 | Train Loss:  0.0171                     | Train F1:  0.6752                     | Val Loss:  0.0174                     | Val F1:  0.6867\n",
      "Fold 1\n"
     ]
    },
    {
     "name": "stderr",
     "output_type": "stream",
     "text": [
      "100%|██████████| 4360/4360 [00:14<00:00, 300.45it/s]\n"
     ]
    },
    {
     "name": "stdout",
     "output_type": "stream",
     "text": [
      "Epochs: 1 | Train Loss:  0.0215                     | Train F1:  0.0000                     | Val Loss:  0.0209                     | Val F1:  0.0000\n"
     ]
    },
    {
     "name": "stderr",
     "output_type": "stream",
     "text": [
      "100%|██████████| 4360/4360 [00:14<00:00, 301.33it/s]\n",
      "100%|██████████| 4360/4360 [00:14<00:00, 301.45it/s]\n",
      "100%|██████████| 4360/4360 [00:14<00:00, 301.12it/s]\n",
      "100%|██████████| 4360/4360 [00:14<00:00, 301.77it/s]\n"
     ]
    },
    {
     "name": "stdout",
     "output_type": "stream",
     "text": [
      "Epochs: 5 | Train Loss:  0.0214                     | Train F1:  0.0000                     | Val Loss:  0.0209                     | Val F1:  0.0000\n"
     ]
    },
    {
     "name": "stderr",
     "output_type": "stream",
     "text": [
      "100%|██████████| 4360/4360 [00:14<00:00, 299.53it/s]\n",
      "100%|██████████| 4360/4360 [00:14<00:00, 300.86it/s]\n",
      "100%|██████████| 4360/4360 [00:14<00:00, 300.62it/s]\n",
      "100%|██████████| 4360/4360 [00:14<00:00, 300.67it/s]\n",
      "100%|██████████| 4360/4360 [00:14<00:00, 300.56it/s]\n"
     ]
    },
    {
     "name": "stdout",
     "output_type": "stream",
     "text": [
      "Epochs: 10 | Train Loss:  0.0214                     | Train F1:  0.0000                     | Val Loss:  0.0209                     | Val F1:  0.0000\n",
      "Fold 2\n"
     ]
    },
    {
     "name": "stderr",
     "output_type": "stream",
     "text": [
      "100%|██████████| 4444/4444 [00:14<00:00, 298.99it/s]\n"
     ]
    },
    {
     "name": "stdout",
     "output_type": "stream",
     "text": [
      "Epochs: 1 | Train Loss:  0.0209                     | Train F1:  0.4245                     | Val Loss:  0.0184                     | Val F1:  0.6723\n"
     ]
    },
    {
     "name": "stderr",
     "output_type": "stream",
     "text": [
      "100%|██████████| 4444/4444 [00:14<00:00, 299.78it/s]\n",
      "100%|██████████| 4444/4444 [00:14<00:00, 299.04it/s]\n",
      "100%|██████████| 4444/4444 [00:14<00:00, 300.14it/s]\n",
      "100%|██████████| 4444/4444 [00:14<00:00, 299.53it/s]\n"
     ]
    },
    {
     "name": "stdout",
     "output_type": "stream",
     "text": [
      "Epochs: 5 | Train Loss:  0.0172                     | Train F1:  0.6345                     | Val Loss:  0.0161                     | Val F1:  0.6997\n"
     ]
    },
    {
     "name": "stderr",
     "output_type": "stream",
     "text": [
      "100%|██████████| 4444/4444 [00:14<00:00, 299.39it/s]\n",
      "100%|██████████| 4444/4444 [00:14<00:00, 300.10it/s]\n",
      "100%|██████████| 4444/4444 [00:14<00:00, 299.44it/s]\n",
      "100%|██████████| 4444/4444 [00:14<00:00, 299.49it/s]\n",
      "100%|██████████| 4444/4444 [00:14<00:00, 298.42it/s]\n"
     ]
    },
    {
     "name": "stdout",
     "output_type": "stream",
     "text": [
      "Epochs: 10 | Train Loss:  0.0167                     | Train F1:  0.6740                     | Val Loss:  0.0161                     | Val F1:  0.6990\n",
      "Fold 3\n"
     ]
    },
    {
     "name": "stderr",
     "output_type": "stream",
     "text": [
      "100%|██████████| 4250/4250 [00:13<00:00, 306.09it/s]\n"
     ]
    },
    {
     "name": "stdout",
     "output_type": "stream",
     "text": [
      "Epochs: 1 | Train Loss:  0.0205                     | Train F1:  0.4662                     | Val Loss:  0.0183                     | Val F1:  0.6809\n"
     ]
    },
    {
     "name": "stderr",
     "output_type": "stream",
     "text": [
      "100%|██████████| 4250/4250 [00:13<00:00, 306.89it/s]\n",
      "100%|██████████| 4250/4250 [00:13<00:00, 305.21it/s]\n",
      "100%|██████████| 4250/4250 [00:13<00:00, 305.50it/s]\n",
      "100%|██████████| 4250/4250 [00:13<00:00, 306.20it/s]\n"
     ]
    },
    {
     "name": "stdout",
     "output_type": "stream",
     "text": [
      "Epochs: 5 | Train Loss:  0.0180                     | Train F1:  0.5766                     | Val Loss:  0.0160                     | Val F1:  0.7056\n"
     ]
    },
    {
     "name": "stderr",
     "output_type": "stream",
     "text": [
      "100%|██████████| 4250/4250 [00:13<00:00, 306.25it/s]\n",
      "100%|██████████| 4250/4250 [00:13<00:00, 306.79it/s]\n",
      "100%|██████████| 4250/4250 [00:13<00:00, 306.13it/s]\n",
      "100%|██████████| 4250/4250 [00:13<00:00, 306.07it/s]\n",
      "100%|██████████| 4250/4250 [00:13<00:00, 305.54it/s]\n"
     ]
    },
    {
     "name": "stdout",
     "output_type": "stream",
     "text": [
      "Epochs: 10 | Train Loss:  0.0175                     | Train F1:  0.6290                     | Val Loss:  0.0156                     | Val F1:  0.7075\n",
      "Fold 4\n"
     ]
    },
    {
     "name": "stderr",
     "output_type": "stream",
     "text": [
      "100%|██████████| 4291/4291 [00:14<00:00, 304.58it/s]\n"
     ]
    },
    {
     "name": "stdout",
     "output_type": "stream",
     "text": [
      "Epochs: 1 | Train Loss:  0.0209                     | Train F1:  0.5316                     | Val Loss:  0.0207                     | Val F1:  0.4742\n"
     ]
    },
    {
     "name": "stderr",
     "output_type": "stream",
     "text": [
      "100%|██████████| 4291/4291 [00:14<00:00, 304.70it/s]\n",
      "100%|██████████| 4291/4291 [00:14<00:00, 304.38it/s]\n",
      "100%|██████████| 4291/4291 [00:14<00:00, 304.44it/s]\n",
      "100%|██████████| 4291/4291 [00:14<00:00, 305.82it/s]\n"
     ]
    },
    {
     "name": "stdout",
     "output_type": "stream",
     "text": [
      "Epochs: 5 | Train Loss:  0.0164                     | Train F1:  0.6664                     | Val Loss:  0.0203                     | Val F1:  0.6088\n"
     ]
    },
    {
     "name": "stderr",
     "output_type": "stream",
     "text": [
      "100%|██████████| 4291/4291 [00:14<00:00, 303.58it/s]\n",
      "100%|██████████| 4291/4291 [00:14<00:00, 303.65it/s]\n",
      "100%|██████████| 4291/4291 [00:14<00:00, 304.52it/s]\n",
      "100%|██████████| 4291/4291 [00:14<00:00, 304.28it/s]\n",
      "100%|██████████| 4291/4291 [00:14<00:00, 304.86it/s]\n",
      "\u001b[32m[I 2022-07-15 11:24:20,857]\u001b[0m Trial 16 finished with value: 0.5419335124340989 and parameters: {'learning_rate': 0.00010324031160882659, 'n_layers': 3, 'n_units_l0': 4, 'dropout_l0': 0.45, 'n_units_l1': 4, 'dropout_l1': 0.2, 'n_units_l2': 4, 'dropout_l2': 0.4}. Best is trial 2 with value: 0.6940657012575293.\u001b[0m\n"
     ]
    },
    {
     "name": "stdout",
     "output_type": "stream",
     "text": [
      "Epochs: 10 | Train Loss:  0.0158                     | Train F1:  0.6966                     | Val Loss:  0.0209                     | Val F1:  0.6164\n",
      "trial 17\n",
      "Fold 0\n"
     ]
    },
    {
     "name": "stderr",
     "output_type": "stream",
     "text": [
      "100%|██████████| 4429/4429 [00:35<00:00, 123.96it/s]\n"
     ]
    },
    {
     "name": "stdout",
     "output_type": "stream",
     "text": [
      "Epochs: 1 | Train Loss:  0.0112                     | Train F1:  0.8095                     | Val Loss:  0.0182                     | Val F1:  0.6874\n"
     ]
    },
    {
     "name": "stderr",
     "output_type": "stream",
     "text": [
      "100%|██████████| 4429/4429 [00:13<00:00, 321.83it/s]\n",
      "100%|██████████| 4429/4429 [00:13<00:00, 324.06it/s]\n",
      "100%|██████████| 4429/4429 [00:13<00:00, 325.90it/s]\n",
      "100%|██████████| 4429/4429 [00:13<00:00, 325.36it/s]\n"
     ]
    },
    {
     "name": "stdout",
     "output_type": "stream",
     "text": [
      "Epochs: 5 | Train Loss:  0.0062                     | Train F1:  0.9026                     | Val Loss:  0.0217                     | Val F1:  0.6748\n"
     ]
    },
    {
     "name": "stderr",
     "output_type": "stream",
     "text": [
      "100%|██████████| 4429/4429 [00:13<00:00, 324.31it/s]\n",
      "100%|██████████| 4429/4429 [00:13<00:00, 324.79it/s]\n",
      "100%|██████████| 4429/4429 [00:13<00:00, 332.14it/s]\n",
      "100%|██████████| 4429/4429 [00:13<00:00, 333.73it/s]\n",
      "100%|██████████| 4429/4429 [00:13<00:00, 325.44it/s]\n"
     ]
    },
    {
     "name": "stdout",
     "output_type": "stream",
     "text": [
      "Epochs: 10 | Train Loss:  0.0051                     | Train F1:  0.9192                     | Val Loss:  0.0245                     | Val F1:  0.6686\n",
      "Fold 1\n"
     ]
    },
    {
     "name": "stderr",
     "output_type": "stream",
     "text": [
      "100%|██████████| 4360/4360 [00:13<00:00, 326.12it/s]\n"
     ]
    },
    {
     "name": "stdout",
     "output_type": "stream",
     "text": [
      "Epochs: 1 | Train Loss:  0.0119                     | Train F1:  0.7982                     | Val Loss:  0.0136                     | Val F1:  0.7234\n"
     ]
    },
    {
     "name": "stderr",
     "output_type": "stream",
     "text": [
      "100%|██████████| 4360/4360 [00:13<00:00, 334.57it/s]\n",
      "100%|██████████| 4360/4360 [00:13<00:00, 325.78it/s]\n",
      "100%|██████████| 4360/4360 [00:13<00:00, 333.81it/s]\n",
      "100%|██████████| 4360/4360 [00:13<00:00, 326.43it/s]\n"
     ]
    },
    {
     "name": "stdout",
     "output_type": "stream",
     "text": [
      "Epochs: 5 | Train Loss:  0.0066                     | Train F1:  0.8993                     | Val Loss:  0.0157                     | Val F1:  0.7063\n"
     ]
    },
    {
     "name": "stderr",
     "output_type": "stream",
     "text": [
      "100%|██████████| 4360/4360 [00:13<00:00, 324.79it/s]\n",
      "100%|██████████| 4360/4360 [00:13<00:00, 324.66it/s]\n",
      "100%|██████████| 4360/4360 [00:13<00:00, 326.27it/s]\n",
      "100%|██████████| 4360/4360 [00:13<00:00, 327.05it/s]\n",
      "100%|██████████| 4360/4360 [00:13<00:00, 326.49it/s]\n"
     ]
    },
    {
     "name": "stdout",
     "output_type": "stream",
     "text": [
      "Epochs: 10 | Train Loss:  0.0054                     | Train F1:  0.9185                     | Val Loss:  0.0167                     | Val F1:  0.7160\n",
      "Fold 2\n"
     ]
    },
    {
     "name": "stderr",
     "output_type": "stream",
     "text": [
      "100%|██████████| 4444/4444 [00:13<00:00, 325.16it/s]\n"
     ]
    },
    {
     "name": "stdout",
     "output_type": "stream",
     "text": [
      "Epochs: 1 | Train Loss:  0.0116                     | Train F1:  0.8027                     | Val Loss:  0.0194                     | Val F1:  0.6817\n"
     ]
    },
    {
     "name": "stderr",
     "output_type": "stream",
     "text": [
      "100%|██████████| 4444/4444 [00:13<00:00, 331.21it/s]\n",
      "100%|██████████| 4444/4444 [00:13<00:00, 324.74it/s]\n",
      "100%|██████████| 4444/4444 [00:13<00:00, 332.27it/s]\n",
      "100%|██████████| 4444/4444 [00:13<00:00, 323.99it/s]\n"
     ]
    },
    {
     "name": "stdout",
     "output_type": "stream",
     "text": [
      "Epochs: 5 | Train Loss:  0.0064                     | Train F1:  0.9007                     | Val Loss:  0.0254                     | Val F1:  0.6887\n"
     ]
    },
    {
     "name": "stderr",
     "output_type": "stream",
     "text": [
      "100%|██████████| 4444/4444 [00:13<00:00, 325.29it/s]\n",
      "100%|██████████| 4444/4444 [00:13<00:00, 324.04it/s]\n",
      "100%|██████████| 4444/4444 [00:13<00:00, 324.59it/s]\n",
      "100%|██████████| 4444/4444 [00:13<00:00, 324.75it/s]\n",
      "100%|██████████| 4444/4444 [00:13<00:00, 324.43it/s]\n"
     ]
    },
    {
     "name": "stdout",
     "output_type": "stream",
     "text": [
      "Epochs: 10 | Train Loss:  0.0053                     | Train F1:  0.9184                     | Val Loss:  0.0296                     | Val F1:  0.6524\n",
      "Fold 3\n"
     ]
    },
    {
     "name": "stderr",
     "output_type": "stream",
     "text": [
      "100%|██████████| 4250/4250 [00:12<00:00, 327.89it/s]\n"
     ]
    },
    {
     "name": "stdout",
     "output_type": "stream",
     "text": [
      "Epochs: 1 | Train Loss:  0.0116                     | Train F1:  0.8026                     | Val Loss:  0.0169                     | Val F1:  0.6996\n"
     ]
    },
    {
     "name": "stderr",
     "output_type": "stream",
     "text": [
      "100%|██████████| 4250/4250 [00:12<00:00, 327.84it/s]\n",
      "100%|██████████| 4250/4250 [00:12<00:00, 327.81it/s]\n",
      "100%|██████████| 4250/4250 [00:13<00:00, 325.80it/s]\n",
      "100%|██████████| 4250/4250 [00:12<00:00, 335.36it/s]\n"
     ]
    },
    {
     "name": "stdout",
     "output_type": "stream",
     "text": [
      "Epochs: 5 | Train Loss:  0.0064                     | Train F1:  0.9015                     | Val Loss:  0.0205                     | Val F1:  0.6863\n"
     ]
    },
    {
     "name": "stderr",
     "output_type": "stream",
     "text": [
      "100%|██████████| 4250/4250 [00:12<00:00, 328.79it/s]\n",
      "100%|██████████| 4250/4250 [00:12<00:00, 334.52it/s]\n",
      "100%|██████████| 4250/4250 [00:12<00:00, 327.59it/s]\n",
      "100%|██████████| 4250/4250 [00:12<00:00, 327.78it/s]\n",
      "100%|██████████| 4250/4250 [00:12<00:00, 335.12it/s]\n"
     ]
    },
    {
     "name": "stdout",
     "output_type": "stream",
     "text": [
      "Epochs: 10 | Train Loss:  0.0051                     | Train F1:  0.9217                     | Val Loss:  0.0233                     | Val F1:  0.6827\n",
      "Fold 4\n"
     ]
    },
    {
     "name": "stderr",
     "output_type": "stream",
     "text": [
      "100%|██████████| 4291/4291 [00:12<00:00, 335.37it/s]\n"
     ]
    },
    {
     "name": "stdout",
     "output_type": "stream",
     "text": [
      "Epochs: 1 | Train Loss:  0.0101                     | Train F1:  0.8144                     | Val Loss:  0.0261                     | Val F1:  0.6158\n"
     ]
    },
    {
     "name": "stderr",
     "output_type": "stream",
     "text": [
      "100%|██████████| 4291/4291 [00:13<00:00, 328.24it/s]\n",
      "100%|██████████| 4291/4291 [00:13<00:00, 328.81it/s]\n",
      "100%|██████████| 4291/4291 [00:12<00:00, 335.03it/s]\n",
      "100%|██████████| 4291/4291 [00:12<00:00, 334.48it/s]\n"
     ]
    },
    {
     "name": "stdout",
     "output_type": "stream",
     "text": [
      "Epochs: 5 | Train Loss:  0.0054                     | Train F1:  0.9108                     | Val Loss:  0.0339                     | Val F1:  0.6159\n"
     ]
    },
    {
     "name": "stderr",
     "output_type": "stream",
     "text": [
      "100%|██████████| 4291/4291 [00:12<00:00, 334.51it/s]\n",
      "100%|██████████| 4291/4291 [00:12<00:00, 336.67it/s]\n",
      "100%|██████████| 4291/4291 [00:12<00:00, 335.25it/s]\n",
      "100%|██████████| 4291/4291 [00:12<00:00, 335.59it/s]\n",
      "100%|██████████| 4291/4291 [00:12<00:00, 336.28it/s]\n",
      "\u001b[32m[I 2022-07-15 11:38:27,104]\u001b[0m Trial 17 finished with value: 0.6687856928867844 and parameters: {'learning_rate': 0.0007761158959145626, 'n_layers': 2, 'n_units_l0': 85, 'dropout_l0': 0.45, 'n_units_l1': 70, 'dropout_l1': 0.2}. Best is trial 2 with value: 0.6940657012575293.\u001b[0m\n"
     ]
    },
    {
     "name": "stdout",
     "output_type": "stream",
     "text": [
      "Epochs: 10 | Train Loss:  0.0044                     | Train F1:  0.9280                     | Val Loss:  0.0357                     | Val F1:  0.6242\n",
      "trial 18\n",
      "Fold 0\n"
     ]
    },
    {
     "name": "stderr",
     "output_type": "stream",
     "text": [
      "100%|██████████| 4429/4429 [00:38<00:00, 115.78it/s]\n"
     ]
    },
    {
     "name": "stdout",
     "output_type": "stream",
     "text": [
      "Epochs: 1 | Train Loss:  0.0132                     | Train F1:  0.7715                     | Val Loss:  0.0167                     | Val F1:  0.6969\n"
     ]
    },
    {
     "name": "stderr",
     "output_type": "stream",
     "text": [
      "100%|██████████| 4429/4429 [00:15<00:00, 294.80it/s]\n",
      "100%|██████████| 4429/4429 [00:15<00:00, 294.77it/s]\n",
      "100%|██████████| 4429/4429 [00:15<00:00, 294.78it/s]\n",
      "100%|██████████| 4429/4429 [00:14<00:00, 296.79it/s]\n"
     ]
    },
    {
     "name": "stdout",
     "output_type": "stream",
     "text": [
      "Epochs: 5 | Train Loss:  0.0110                     | Train F1:  0.8143                     | Val Loss:  0.0170                     | Val F1:  0.6809\n"
     ]
    },
    {
     "name": "stderr",
     "output_type": "stream",
     "text": [
      "100%|██████████| 4429/4429 [00:14<00:00, 296.35it/s]\n",
      "100%|██████████| 4429/4429 [00:14<00:00, 297.00it/s]\n",
      "100%|██████████| 4429/4429 [00:14<00:00, 296.36it/s]\n",
      "100%|██████████| 4429/4429 [00:14<00:00, 296.36it/s]\n",
      "100%|██████████| 4429/4429 [00:14<00:00, 295.29it/s]\n"
     ]
    },
    {
     "name": "stdout",
     "output_type": "stream",
     "text": [
      "Epochs: 10 | Train Loss:  0.0108                     | Train F1:  0.8207                     | Val Loss:  0.0179                     | Val F1:  0.6784\n",
      "Fold 1\n"
     ]
    },
    {
     "name": "stderr",
     "output_type": "stream",
     "text": [
      "100%|██████████| 4360/4360 [00:14<00:00, 296.65it/s]\n"
     ]
    },
    {
     "name": "stdout",
     "output_type": "stream",
     "text": [
      "Epochs: 1 | Train Loss:  0.0140                     | Train F1:  0.7622                     | Val Loss:  0.0139                     | Val F1:  0.7150\n"
     ]
    },
    {
     "name": "stderr",
     "output_type": "stream",
     "text": [
      "100%|██████████| 4360/4360 [00:14<00:00, 296.15it/s]\n",
      "100%|██████████| 4360/4360 [00:14<00:00, 296.82it/s]\n",
      "100%|██████████| 4360/4360 [00:14<00:00, 297.98it/s]\n",
      "100%|██████████| 4360/4360 [00:14<00:00, 297.57it/s]\n"
     ]
    },
    {
     "name": "stdout",
     "output_type": "stream",
     "text": [
      "Epochs: 5 | Train Loss:  0.0116                     | Train F1:  0.8077                     | Val Loss:  0.0140                     | Val F1:  0.7329\n"
     ]
    },
    {
     "name": "stderr",
     "output_type": "stream",
     "text": [
      "100%|██████████| 4360/4360 [00:14<00:00, 290.72it/s]\n",
      "100%|██████████| 4360/4360 [00:14<00:00, 293.10it/s]\n",
      "100%|██████████| 4360/4360 [00:14<00:00, 298.02it/s]\n",
      "100%|██████████| 4360/4360 [00:14<00:00, 298.50it/s]\n",
      "100%|██████████| 4360/4360 [00:14<00:00, 297.07it/s]\n"
     ]
    },
    {
     "name": "stdout",
     "output_type": "stream",
     "text": [
      "Epochs: 10 | Train Loss:  0.0114                     | Train F1:  0.8133                     | Val Loss:  0.0137                     | Val F1:  0.7252\n",
      "Fold 2\n"
     ]
    },
    {
     "name": "stderr",
     "output_type": "stream",
     "text": [
      "100%|██████████| 4444/4444 [00:15<00:00, 296.23it/s]\n"
     ]
    },
    {
     "name": "stdout",
     "output_type": "stream",
     "text": [
      "Epochs: 1 | Train Loss:  0.0135                     | Train F1:  0.7613                     | Val Loss:  0.0196                     | Val F1:  0.6887\n"
     ]
    },
    {
     "name": "stderr",
     "output_type": "stream",
     "text": [
      "100%|██████████| 4444/4444 [00:15<00:00, 295.73it/s]\n",
      "100%|██████████| 4444/4444 [00:14<00:00, 296.63it/s]\n",
      "100%|██████████| 4444/4444 [00:15<00:00, 294.32it/s]\n",
      "100%|██████████| 4444/4444 [00:14<00:00, 297.26it/s]\n"
     ]
    },
    {
     "name": "stdout",
     "output_type": "stream",
     "text": [
      "Epochs: 5 | Train Loss:  0.0111                     | Train F1:  0.8111                     | Val Loss:  0.0219                     | Val F1:  0.6788\n"
     ]
    },
    {
     "name": "stderr",
     "output_type": "stream",
     "text": [
      "100%|██████████| 4444/4444 [00:14<00:00, 297.15it/s]\n",
      "100%|██████████| 4444/4444 [00:15<00:00, 295.83it/s]\n",
      "100%|██████████| 4444/4444 [00:15<00:00, 295.56it/s]\n",
      "100%|██████████| 4444/4444 [00:15<00:00, 295.74it/s]\n",
      "100%|██████████| 4444/4444 [00:14<00:00, 296.61it/s]\n"
     ]
    },
    {
     "name": "stdout",
     "output_type": "stream",
     "text": [
      "Epochs: 10 | Train Loss:  0.0109                     | Train F1:  0.8149                     | Val Loss:  0.0223                     | Val F1:  0.6732\n",
      "Fold 3\n"
     ]
    },
    {
     "name": "stderr",
     "output_type": "stream",
     "text": [
      "100%|██████████| 4250/4250 [00:14<00:00, 296.78it/s]\n"
     ]
    },
    {
     "name": "stdout",
     "output_type": "stream",
     "text": [
      "Epochs: 1 | Train Loss:  0.0135                     | Train F1:  0.7683                     | Val Loss:  0.0170                     | Val F1:  0.6986\n"
     ]
    },
    {
     "name": "stderr",
     "output_type": "stream",
     "text": [
      "100%|██████████| 4250/4250 [00:14<00:00, 298.21it/s]\n",
      "100%|██████████| 4250/4250 [00:14<00:00, 296.36it/s]\n",
      "100%|██████████| 4250/4250 [00:14<00:00, 298.24it/s]\n",
      "100%|██████████| 4250/4250 [00:14<00:00, 298.04it/s]\n"
     ]
    },
    {
     "name": "stdout",
     "output_type": "stream",
     "text": [
      "Epochs: 5 | Train Loss:  0.0114                     | Train F1:  0.8133                     | Val Loss:  0.0175                     | Val F1:  0.7045\n"
     ]
    },
    {
     "name": "stderr",
     "output_type": "stream",
     "text": [
      "100%|██████████| 4250/4250 [00:14<00:00, 289.79it/s]\n",
      "100%|██████████| 4250/4250 [00:14<00:00, 296.83it/s]\n",
      "100%|██████████| 4250/4250 [00:14<00:00, 296.93it/s]\n",
      "100%|██████████| 4250/4250 [00:14<00:00, 297.93it/s]\n",
      "100%|██████████| 4250/4250 [00:14<00:00, 297.44it/s]\n"
     ]
    },
    {
     "name": "stdout",
     "output_type": "stream",
     "text": [
      "Epochs: 10 | Train Loss:  0.0112                     | Train F1:  0.8149                     | Val Loss:  0.0185                     | Val F1:  0.6899\n",
      "Fold 4\n"
     ]
    },
    {
     "name": "stderr",
     "output_type": "stream",
     "text": [
      "100%|██████████| 4291/4291 [00:14<00:00, 298.81it/s]\n"
     ]
    },
    {
     "name": "stdout",
     "output_type": "stream",
     "text": [
      "Epochs: 1 | Train Loss:  0.0121                     | Train F1:  0.7823                     | Val Loss:  0.0240                     | Val F1:  0.6164\n"
     ]
    },
    {
     "name": "stderr",
     "output_type": "stream",
     "text": [
      "100%|██████████| 4291/4291 [00:14<00:00, 298.54it/s]\n",
      "100%|██████████| 4291/4291 [00:14<00:00, 298.37it/s]\n",
      "100%|██████████| 4291/4291 [00:14<00:00, 297.13it/s]\n",
      "100%|██████████| 4291/4291 [00:14<00:00, 296.28it/s]\n"
     ]
    },
    {
     "name": "stdout",
     "output_type": "stream",
     "text": [
      "Epochs: 5 | Train Loss:  0.0100                     | Train F1:  0.8293                     | Val Loss:  0.0313                     | Val F1:  0.5697\n"
     ]
    },
    {
     "name": "stderr",
     "output_type": "stream",
     "text": [
      "100%|██████████| 4291/4291 [00:14<00:00, 297.38it/s]\n",
      "100%|██████████| 4291/4291 [00:14<00:00, 297.50it/s]\n",
      "100%|██████████| 4291/4291 [00:14<00:00, 296.45it/s]\n",
      "100%|██████████| 4291/4291 [00:14<00:00, 297.26it/s]\n",
      "100%|██████████| 4291/4291 [00:14<00:00, 297.58it/s]\n",
      "\u001b[32m[I 2022-07-15 11:53:52,927]\u001b[0m Trial 18 finished with value: 0.674794102136487 and parameters: {'learning_rate': 0.008381278535799787, 'n_layers': 3, 'n_units_l0': 39, 'dropout_l0': 0.5, 'n_units_l1': 11, 'dropout_l1': 0.30000000000000004, 'n_units_l2': 7, 'dropout_l2': 0.30000000000000004}. Best is trial 2 with value: 0.6940657012575293.\u001b[0m\n"
     ]
    },
    {
     "name": "stdout",
     "output_type": "stream",
     "text": [
      "Epochs: 10 | Train Loss:  0.0096                     | Train F1:  0.8358                     | Val Loss:  0.0279                     | Val F1:  0.6072\n",
      "trial 19\n",
      "Fold 0\n"
     ]
    },
    {
     "name": "stderr",
     "output_type": "stream",
     "text": [
      "100%|██████████| 4429/4429 [00:36<00:00, 122.22it/s]\n"
     ]
    },
    {
     "name": "stdout",
     "output_type": "stream",
     "text": [
      "Epochs: 1 | Train Loss:  0.0205                     | Train F1:  0.5215                     | Val Loss:  0.0186                     | Val F1:  0.6355\n"
     ]
    },
    {
     "name": "stderr",
     "output_type": "stream",
     "text": [
      "100%|██████████| 4429/4429 [00:13<00:00, 331.98it/s]\n",
      "100%|██████████| 4429/4429 [00:13<00:00, 330.35it/s]\n",
      "100%|██████████| 4429/4429 [00:13<00:00, 332.03it/s]\n",
      "100%|██████████| 4429/4429 [00:13<00:00, 331.52it/s]\n"
     ]
    },
    {
     "name": "stdout",
     "output_type": "stream",
     "text": [
      "Epochs: 5 | Train Loss:  0.0151                     | Train F1:  0.7476                     | Val Loss:  0.0155                     | Val F1:  0.7139\n"
     ]
    },
    {
     "name": "stderr",
     "output_type": "stream",
     "text": [
      "100%|██████████| 4429/4429 [00:13<00:00, 331.95it/s]\n",
      "100%|██████████| 4429/4429 [00:13<00:00, 332.19it/s]\n",
      "100%|██████████| 4429/4429 [00:13<00:00, 331.94it/s]\n",
      "100%|██████████| 4429/4429 [00:13<00:00, 331.03it/s]\n",
      "100%|██████████| 4429/4429 [00:13<00:00, 330.91it/s]\n"
     ]
    },
    {
     "name": "stdout",
     "output_type": "stream",
     "text": [
      "Epochs: 10 | Train Loss:  0.0141                     | Train F1:  0.7681                     | Val Loss:  0.0156                     | Val F1:  0.7066\n",
      "Fold 1\n"
     ]
    },
    {
     "name": "stderr",
     "output_type": "stream",
     "text": [
      "100%|██████████| 4360/4360 [00:13<00:00, 332.47it/s]\n"
     ]
    },
    {
     "name": "stdout",
     "output_type": "stream",
     "text": [
      "Epochs: 1 | Train Loss:  0.0213                     | Train F1:  0.6199                     | Val Loss:  0.0194                     | Val F1:  0.7462\n"
     ]
    },
    {
     "name": "stderr",
     "output_type": "stream",
     "text": [
      "100%|██████████| 4360/4360 [00:13<00:00, 335.32it/s]\n",
      "100%|██████████| 4360/4360 [00:13<00:00, 334.04it/s]\n",
      "100%|██████████| 4360/4360 [00:13<00:00, 333.16it/s]\n",
      "100%|██████████| 4360/4360 [00:13<00:00, 334.06it/s]\n"
     ]
    },
    {
     "name": "stdout",
     "output_type": "stream",
     "text": [
      "Epochs: 5 | Train Loss:  0.0162                     | Train F1:  0.7180                     | Val Loss:  0.0134                     | Val F1:  0.7396\n"
     ]
    },
    {
     "name": "stderr",
     "output_type": "stream",
     "text": [
      "100%|██████████| 4360/4360 [00:13<00:00, 333.95it/s]\n",
      "100%|██████████| 4360/4360 [00:13<00:00, 333.91it/s]\n",
      "100%|██████████| 4360/4360 [00:13<00:00, 330.22it/s]\n",
      "100%|██████████| 4360/4360 [00:13<00:00, 331.71it/s]\n",
      "100%|██████████| 4360/4360 [00:13<00:00, 334.72it/s]\n"
     ]
    },
    {
     "name": "stdout",
     "output_type": "stream",
     "text": [
      "Epochs: 10 | Train Loss:  0.0151                     | Train F1:  0.7508                     | Val Loss:  0.0131                     | Val F1:  0.7259\n",
      "Fold 2\n"
     ]
    },
    {
     "name": "stderr",
     "output_type": "stream",
     "text": [
      "100%|██████████| 4444/4444 [00:13<00:00, 331.70it/s]\n"
     ]
    },
    {
     "name": "stdout",
     "output_type": "stream",
     "text": [
      "Epochs: 1 | Train Loss:  0.0204                     | Train F1:  0.5628                     | Val Loss:  0.0177                     | Val F1:  0.6608\n"
     ]
    },
    {
     "name": "stderr",
     "output_type": "stream",
     "text": [
      "100%|██████████| 4444/4444 [00:13<00:00, 333.33it/s]\n",
      "100%|██████████| 4444/4444 [00:13<00:00, 333.25it/s]\n",
      "100%|██████████| 4444/4444 [00:13<00:00, 332.96it/s]\n",
      "100%|██████████| 4444/4444 [00:13<00:00, 333.96it/s]\n"
     ]
    },
    {
     "name": "stdout",
     "output_type": "stream",
     "text": [
      "Epochs: 5 | Train Loss:  0.0154                     | Train F1:  0.7377                     | Val Loss:  0.0145                     | Val F1:  0.6987\n"
     ]
    },
    {
     "name": "stderr",
     "output_type": "stream",
     "text": [
      "100%|██████████| 4444/4444 [00:13<00:00, 332.43it/s]\n",
      "100%|██████████| 4444/4444 [00:13<00:00, 331.62it/s]\n",
      "100%|██████████| 4444/4444 [00:13<00:00, 332.26it/s]\n",
      "100%|██████████| 4444/4444 [00:13<00:00, 332.25it/s]\n",
      "100%|██████████| 4444/4444 [00:13<00:00, 332.71it/s]\n"
     ]
    },
    {
     "name": "stdout",
     "output_type": "stream",
     "text": [
      "Epochs: 10 | Train Loss:  0.0145                     | Train F1:  0.7596                     | Val Loss:  0.0147                     | Val F1:  0.6976\n",
      "Fold 3\n"
     ]
    },
    {
     "name": "stderr",
     "output_type": "stream",
     "text": [
      "100%|██████████| 4250/4250 [00:12<00:00, 334.71it/s]\n"
     ]
    },
    {
     "name": "stdout",
     "output_type": "stream",
     "text": [
      "Epochs: 1 | Train Loss:  0.0207                     | Train F1:  0.3491                     | Val Loss:  0.0192                     | Val F1:  0.6718\n"
     ]
    },
    {
     "name": "stderr",
     "output_type": "stream",
     "text": [
      "100%|██████████| 4250/4250 [00:12<00:00, 334.66it/s]\n",
      "100%|██████████| 4250/4250 [00:12<00:00, 333.38it/s]\n",
      "100%|██████████| 4250/4250 [00:12<00:00, 334.56it/s]\n",
      "100%|██████████| 4250/4250 [00:12<00:00, 333.20it/s]\n"
     ]
    },
    {
     "name": "stdout",
     "output_type": "stream",
     "text": [
      "Epochs: 5 | Train Loss:  0.0158                     | Train F1:  0.7277                     | Val Loss:  0.0151                     | Val F1:  0.7041\n"
     ]
    },
    {
     "name": "stderr",
     "output_type": "stream",
     "text": [
      "100%|██████████| 4250/4250 [00:12<00:00, 331.35it/s]\n",
      "100%|██████████| 4250/4250 [00:12<00:00, 332.94it/s]\n",
      "100%|██████████| 4250/4250 [00:12<00:00, 332.50it/s]\n",
      "100%|██████████| 4250/4250 [00:12<00:00, 332.49it/s]\n",
      "100%|██████████| 4250/4250 [00:12<00:00, 332.60it/s]\n"
     ]
    },
    {
     "name": "stdout",
     "output_type": "stream",
     "text": [
      "Epochs: 10 | Train Loss:  0.0148                     | Train F1:  0.7453                     | Val Loss:  0.0149                     | Val F1:  0.7052\n",
      "Fold 4\n"
     ]
    },
    {
     "name": "stderr",
     "output_type": "stream",
     "text": [
      "100%|██████████| 4291/4291 [00:12<00:00, 333.52it/s]\n"
     ]
    },
    {
     "name": "stdout",
     "output_type": "stream",
     "text": [
      "Epochs: 1 | Train Loss:  0.0206                     | Train F1:  0.6018                     | Val Loss:  0.0206                     | Val F1:  0.5071\n"
     ]
    },
    {
     "name": "stderr",
     "output_type": "stream",
     "text": [
      "100%|██████████| 4291/4291 [00:12<00:00, 333.28it/s]\n",
      "100%|██████████| 4291/4291 [00:12<00:00, 334.62it/s]\n",
      "100%|██████████| 4291/4291 [00:12<00:00, 334.49it/s]\n",
      "100%|██████████| 4291/4291 [00:12<00:00, 333.25it/s]\n"
     ]
    },
    {
     "name": "stdout",
     "output_type": "stream",
     "text": [
      "Epochs: 5 | Train Loss:  0.0141                     | Train F1:  0.7540                     | Val Loss:  0.0208                     | Val F1:  0.6233\n"
     ]
    },
    {
     "name": "stderr",
     "output_type": "stream",
     "text": [
      "100%|██████████| 4291/4291 [00:12<00:00, 332.77it/s]\n",
      "100%|██████████| 4291/4291 [00:12<00:00, 334.42it/s]\n",
      "100%|██████████| 4291/4291 [00:12<00:00, 334.33it/s]\n",
      "100%|██████████| 4291/4291 [00:12<00:00, 334.14it/s]\n",
      "100%|██████████| 4291/4291 [00:12<00:00, 334.77it/s]\n",
      "\u001b[32m[I 2022-07-15 12:07:42,885]\u001b[0m Trial 19 finished with value: 0.6928846911192406 and parameters: {'learning_rate': 2.5781611868847455e-05, 'n_layers': 2, 'n_units_l0': 20, 'dropout_l0': 0.45, 'n_units_l1': 10, 'dropout_l1': 0.5}. Best is trial 2 with value: 0.6940657012575293.\u001b[0m\n"
     ]
    },
    {
     "name": "stdout",
     "output_type": "stream",
     "text": [
      "Epochs: 10 | Train Loss:  0.0129                     | Train F1:  0.7747                     | Val Loss:  0.0215                     | Val F1:  0.6291\n"
     ]
    }
   ],
   "source": [
    "import optuna\n",
    "import joblib\n",
    "study = optuna.create_study(study_name=f\"LM_NN_Tuning_{ROLLING_WINDOW_SIZE}_{LM_MODEL}\",direction=\"maximize\", sampler=optuna.samplers.TPESampler(), pruner=optuna.pruners.NopPruner())\n",
    "#study = joblib.load(f\"hyperparameterstudy{ROLLING_WINDOW_SIZE}.pkl\")\n",
    "for i in range(20):\n",
    "    print(f\"trial {i}\")\n",
    "    study.optimize(objective, n_trials=1, timeout=(60*60*10), gc_after_trial=True)\n",
    "    joblib.dump(study, f\"hyperparameterstudy_{ROLLING_WINDOW_SIZE}_{LM_MODEL}.pkl\")\n"
   ]
  },
  {
   "cell_type": "code",
   "execution_count": 14,
   "metadata": {},
   "outputs": [],
   "source": [
    "#study = joblib.load(f\"NN_hyperparameterstudy10.pkl\")\n",
    "\n",
    "#study.optimize(objective, n_trials=5, timeout=(60*60*2), gc_after_trial=True)\n"
   ]
  },
  {
   "cell_type": "code",
   "execution_count": 15,
   "metadata": {},
   "outputs": [
    {
     "data": {
      "text/plain": [
       "['NN_hyperparameterstudy10.pkl']"
      ]
     },
     "execution_count": 15,
     "metadata": {},
     "output_type": "execute_result"
    }
   ],
   "source": [
    "joblib.dump(study, f\"NN_hyperparameterstudy{ROLLING_WINDOW_SIZE}.pkl\")\n"
   ]
  },
  {
   "cell_type": "code",
   "execution_count": 16,
   "metadata": {},
   "outputs": [
    {
     "name": "stdout",
     "output_type": "stream",
     "text": [
      "Best trial until now:\n",
      " Value:  0.6940657012575293\n",
      " Params: \n",
      "    learning_rate: 4.982872361890929e-05\n",
      "    n_layers: 3\n",
      "    n_units_l0: 6\n",
      "    dropout_l0: 0.5\n",
      "    n_units_l1: 6\n",
      "    dropout_l1: 0.30000000000000004\n",
      "    n_units_l2: 5\n",
      "    dropout_l2: 0.5\n"
     ]
    }
   ],
   "source": [
    "#load\n",
    "import joblib\n",
    "study = joblib.load(f\"NN_hyperparameterstudy10.pkl\")\n",
    "print(\"Best trial until now:\")\n",
    "print(\" Value: \", study.best_trial.value)\n",
    "print(\" Params: \")\n",
    "for key, value in study.best_trial.params.items():\n",
    "    print(f\"    {key}: {value}\")"
   ]
  },
  {
   "cell_type": "code",
   "execution_count": 17,
   "metadata": {},
   "outputs": [
    {
     "data": {
      "application/vnd.plotly.v1+json": {
       "config": {
        "plotlyServerURL": "https://plot.ly"
       },
       "data": [
        {
         "marker": {
          "color": [
           0,
           1,
           2,
           3,
           4,
           5,
           6,
           7,
           8,
           9,
           10,
           11,
           12,
           13,
           14,
           15,
           16,
           17,
           18,
           19
          ],
          "colorbar": {
           "title": {
            "text": "#Trials"
           },
           "x": 1,
           "xpad": 40
          },
          "colorscale": [
           [
            0,
            "rgb(247,251,255)"
           ],
           [
            0.125,
            "rgb(222,235,247)"
           ],
           [
            0.25,
            "rgb(198,219,239)"
           ],
           [
            0.375,
            "rgb(158,202,225)"
           ],
           [
            0.5,
            "rgb(107,174,214)"
           ],
           [
            0.625,
            "rgb(66,146,198)"
           ],
           [
            0.75,
            "rgb(33,113,181)"
           ],
           [
            0.875,
            "rgb(8,81,156)"
           ],
           [
            1,
            "rgb(8,48,107)"
           ]
          ],
          "line": {
           "color": "Grey",
           "width": 0.5
          },
          "showscale": true
         },
         "mode": "markers",
         "showlegend": false,
         "type": "scatter",
         "x": [
          0.35000000000000003,
          0.4,
          0.5,
          0.4,
          0.4,
          0.5,
          0.30000000000000004,
          0.5,
          0.30000000000000004,
          0.25,
          0.2,
          0.25,
          0.2,
          0.45,
          0.2,
          0.45,
          0.45,
          0.45,
          0.5,
          0.45
         ],
         "xaxis": "x",
         "y": [
          0.6809469824704055,
          0.6769045134186408,
          0.6940657012575293,
          0.6699836215757257,
          0.6811727476173306,
          0.6816895622026544,
          0.6844227738947384,
          0.6817998930446931,
          0.6847509623790526,
          0.6841536143451867,
          0.6904541147742143,
          0.6898635355766481,
          0.690757981862892,
          0.6671367197607347,
          0.6674035277347984,
          0.6934720857941933,
          0.5419335124340989,
          0.6687856928867844,
          0.674794102136487,
          0.6928846911192406
         ],
         "yaxis": "y"
        },
        {
         "marker": {
          "color": [
           2,
           3,
           4,
           5,
           7,
           10,
           11,
           12,
           13,
           14,
           15,
           16,
           17,
           18,
           19
          ],
          "colorbar": {
           "title": {
            "text": "#Trials"
           },
           "x": 1,
           "xpad": 40
          },
          "colorscale": [
           [
            0,
            "rgb(247,251,255)"
           ],
           [
            0.125,
            "rgb(222,235,247)"
           ],
           [
            0.25,
            "rgb(198,219,239)"
           ],
           [
            0.375,
            "rgb(158,202,225)"
           ],
           [
            0.5,
            "rgb(107,174,214)"
           ],
           [
            0.625,
            "rgb(66,146,198)"
           ],
           [
            0.75,
            "rgb(33,113,181)"
           ],
           [
            0.875,
            "rgb(8,81,156)"
           ],
           [
            1,
            "rgb(8,48,107)"
           ]
          ],
          "line": {
           "color": "Grey",
           "width": 0.5
          },
          "showscale": false
         },
         "mode": "markers",
         "showlegend": false,
         "type": "scatter",
         "x": [
          0.30000000000000004,
          0.4,
          0.4,
          0.25,
          0.45,
          0.25,
          0.25,
          0.30000000000000004,
          0.30000000000000004,
          0.35000000000000003,
          0.2,
          0.2,
          0.2,
          0.30000000000000004,
          0.5
         ],
         "xaxis": "x2",
         "y": [
          0.6940657012575293,
          0.6699836215757257,
          0.6811727476173306,
          0.6816895622026544,
          0.6817998930446931,
          0.6904541147742143,
          0.6898635355766481,
          0.690757981862892,
          0.6671367197607347,
          0.6674035277347984,
          0.6934720857941933,
          0.5419335124340989,
          0.6687856928867844,
          0.674794102136487,
          0.6928846911192406
         ],
         "yaxis": "y2"
        },
        {
         "marker": {
          "color": [
           2,
           3,
           4,
           5,
           13,
           16,
           18
          ],
          "colorbar": {
           "title": {
            "text": "#Trials"
           },
           "x": 1,
           "xpad": 40
          },
          "colorscale": [
           [
            0,
            "rgb(247,251,255)"
           ],
           [
            0.125,
            "rgb(222,235,247)"
           ],
           [
            0.25,
            "rgb(198,219,239)"
           ],
           [
            0.375,
            "rgb(158,202,225)"
           ],
           [
            0.5,
            "rgb(107,174,214)"
           ],
           [
            0.625,
            "rgb(66,146,198)"
           ],
           [
            0.75,
            "rgb(33,113,181)"
           ],
           [
            0.875,
            "rgb(8,81,156)"
           ],
           [
            1,
            "rgb(8,48,107)"
           ]
          ],
          "line": {
           "color": "Grey",
           "width": 0.5
          },
          "showscale": false
         },
         "mode": "markers",
         "showlegend": false,
         "type": "scatter",
         "x": [
          0.5,
          0.35000000000000003,
          0.25,
          0.45,
          0.5,
          0.4,
          0.30000000000000004
         ],
         "xaxis": "x3",
         "y": [
          0.6940657012575293,
          0.6699836215757257,
          0.6811727476173306,
          0.6816895622026544,
          0.6671367197607347,
          0.5419335124340989,
          0.674794102136487
         ],
         "yaxis": "y3"
        },
        {
         "marker": {
          "color": [
           0,
           1,
           2,
           3,
           4,
           5,
           6,
           7,
           8,
           9,
           10,
           11,
           12,
           13,
           14,
           15,
           16,
           17,
           18,
           19
          ],
          "colorbar": {
           "title": {
            "text": "#Trials"
           },
           "x": 1,
           "xpad": 40
          },
          "colorscale": [
           [
            0,
            "rgb(247,251,255)"
           ],
           [
            0.125,
            "rgb(222,235,247)"
           ],
           [
            0.25,
            "rgb(198,219,239)"
           ],
           [
            0.375,
            "rgb(158,202,225)"
           ],
           [
            0.5,
            "rgb(107,174,214)"
           ],
           [
            0.625,
            "rgb(66,146,198)"
           ],
           [
            0.75,
            "rgb(33,113,181)"
           ],
           [
            0.875,
            "rgb(8,81,156)"
           ],
           [
            1,
            "rgb(8,48,107)"
           ]
          ],
          "line": {
           "color": "Grey",
           "width": 0.5
          },
          "showscale": false
         },
         "mode": "markers",
         "showlegend": false,
         "type": "scatter",
         "x": [
          0.000044448181711023864,
          0.0037603962358064803,
          0.00004982872361890929,
          0.000247904104731247,
          0.00011086866392496992,
          0.000050922458219930706,
          0.0007759526997127329,
          0.00006328503745670296,
          0.000025536589352015626,
          0.000021389704159732027,
          0.000010197636481062527,
          0.000010371547415126522,
          0.000011193641306604468,
          0.00020046659159087996,
          0.0008914497272983653,
          0.000023518600017957273,
          0.00010324031160882659,
          0.0007761158959145626,
          0.008381278535799787,
          0.000025781611868847455
         ],
         "xaxis": "x4",
         "y": [
          0.6809469824704055,
          0.6769045134186408,
          0.6940657012575293,
          0.6699836215757257,
          0.6811727476173306,
          0.6816895622026544,
          0.6844227738947384,
          0.6817998930446931,
          0.6847509623790526,
          0.6841536143451867,
          0.6904541147742143,
          0.6898635355766481,
          0.690757981862892,
          0.6671367197607347,
          0.6674035277347984,
          0.6934720857941933,
          0.5419335124340989,
          0.6687856928867844,
          0.674794102136487,
          0.6928846911192406
         ],
         "yaxis": "y4"
        },
        {
         "marker": {
          "color": [
           0,
           1,
           2,
           3,
           4,
           5,
           6,
           7,
           8,
           9,
           10,
           11,
           12,
           13,
           14,
           15,
           16,
           17,
           18,
           19
          ],
          "colorbar": {
           "title": {
            "text": "#Trials"
           },
           "x": 1,
           "xpad": 40
          },
          "colorscale": [
           [
            0,
            "rgb(247,251,255)"
           ],
           [
            0.125,
            "rgb(222,235,247)"
           ],
           [
            0.25,
            "rgb(198,219,239)"
           ],
           [
            0.375,
            "rgb(158,202,225)"
           ],
           [
            0.5,
            "rgb(107,174,214)"
           ],
           [
            0.625,
            "rgb(66,146,198)"
           ],
           [
            0.75,
            "rgb(33,113,181)"
           ],
           [
            0.875,
            "rgb(8,81,156)"
           ],
           [
            1,
            "rgb(8,48,107)"
           ]
          ],
          "line": {
           "color": "Grey",
           "width": 0.5
          },
          "showscale": false
         },
         "mode": "markers",
         "showlegend": false,
         "type": "scatter",
         "x": [
          1,
          1,
          3,
          3,
          3,
          3,
          1,
          2,
          1,
          1,
          2,
          2,
          2,
          3,
          2,
          2,
          3,
          2,
          3,
          2
         ],
         "xaxis": "x5",
         "y": [
          0.6809469824704055,
          0.6769045134186408,
          0.6940657012575293,
          0.6699836215757257,
          0.6811727476173306,
          0.6816895622026544,
          0.6844227738947384,
          0.6817998930446931,
          0.6847509623790526,
          0.6841536143451867,
          0.6904541147742143,
          0.6898635355766481,
          0.690757981862892,
          0.6671367197607347,
          0.6674035277347984,
          0.6934720857941933,
          0.5419335124340989,
          0.6687856928867844,
          0.674794102136487,
          0.6928846911192406
         ],
         "yaxis": "y5"
        },
        {
         "marker": {
          "color": [
           0,
           1,
           2,
           3,
           4,
           5,
           6,
           7,
           8,
           9,
           10,
           11,
           12,
           13,
           14,
           15,
           16,
           17,
           18,
           19
          ],
          "colorbar": {
           "title": {
            "text": "#Trials"
           },
           "x": 1,
           "xpad": 40
          },
          "colorscale": [
           [
            0,
            "rgb(247,251,255)"
           ],
           [
            0.125,
            "rgb(222,235,247)"
           ],
           [
            0.25,
            "rgb(198,219,239)"
           ],
           [
            0.375,
            "rgb(158,202,225)"
           ],
           [
            0.5,
            "rgb(107,174,214)"
           ],
           [
            0.625,
            "rgb(66,146,198)"
           ],
           [
            0.75,
            "rgb(33,113,181)"
           ],
           [
            0.875,
            "rgb(8,81,156)"
           ],
           [
            1,
            "rgb(8,48,107)"
           ]
          ],
          "line": {
           "color": "Grey",
           "width": 0.5
          },
          "showscale": false
         },
         "mode": "markers",
         "showlegend": false,
         "type": "scatter",
         "x": [
          81,
          113,
          6,
          42,
          9,
          33,
          5,
          55,
          66,
          102,
          28,
          29,
          21,
          14,
          50,
          23,
          4,
          85,
          39,
          20
         ],
         "xaxis": "x6",
         "y": [
          0.6809469824704055,
          0.6769045134186408,
          0.6940657012575293,
          0.6699836215757257,
          0.6811727476173306,
          0.6816895622026544,
          0.6844227738947384,
          0.6817998930446931,
          0.6847509623790526,
          0.6841536143451867,
          0.6904541147742143,
          0.6898635355766481,
          0.690757981862892,
          0.6671367197607347,
          0.6674035277347984,
          0.6934720857941933,
          0.5419335124340989,
          0.6687856928867844,
          0.674794102136487,
          0.6928846911192406
         ],
         "yaxis": "y6"
        },
        {
         "marker": {
          "color": [
           2,
           3,
           4,
           5,
           7,
           10,
           11,
           12,
           13,
           14,
           15,
           16,
           17,
           18,
           19
          ],
          "colorbar": {
           "title": {
            "text": "#Trials"
           },
           "x": 1,
           "xpad": 40
          },
          "colorscale": [
           [
            0,
            "rgb(247,251,255)"
           ],
           [
            0.125,
            "rgb(222,235,247)"
           ],
           [
            0.25,
            "rgb(198,219,239)"
           ],
           [
            0.375,
            "rgb(158,202,225)"
           ],
           [
            0.5,
            "rgb(107,174,214)"
           ],
           [
            0.625,
            "rgb(66,146,198)"
           ],
           [
            0.75,
            "rgb(33,113,181)"
           ],
           [
            0.875,
            "rgb(8,81,156)"
           ],
           [
            1,
            "rgb(8,48,107)"
           ]
          ],
          "line": {
           "color": "Grey",
           "width": 0.5
          },
          "showscale": false
         },
         "mode": "markers",
         "showlegend": false,
         "type": "scatter",
         "x": [
          6,
          33,
          7,
          8,
          18,
          15,
          18,
          14,
          5,
          41,
          11,
          4,
          70,
          11,
          10
         ],
         "xaxis": "x7",
         "y": [
          0.6940657012575293,
          0.6699836215757257,
          0.6811727476173306,
          0.6816895622026544,
          0.6817998930446931,
          0.6904541147742143,
          0.6898635355766481,
          0.690757981862892,
          0.6671367197607347,
          0.6674035277347984,
          0.6934720857941933,
          0.5419335124340989,
          0.6687856928867844,
          0.674794102136487,
          0.6928846911192406
         ],
         "yaxis": "y7"
        },
        {
         "marker": {
          "color": [
           2,
           3,
           4,
           5,
           13,
           16,
           18
          ],
          "colorbar": {
           "title": {
            "text": "#Trials"
           },
           "x": 1,
           "xpad": 40
          },
          "colorscale": [
           [
            0,
            "rgb(247,251,255)"
           ],
           [
            0.125,
            "rgb(222,235,247)"
           ],
           [
            0.25,
            "rgb(198,219,239)"
           ],
           [
            0.375,
            "rgb(158,202,225)"
           ],
           [
            0.5,
            "rgb(107,174,214)"
           ],
           [
            0.625,
            "rgb(66,146,198)"
           ],
           [
            0.75,
            "rgb(33,113,181)"
           ],
           [
            0.875,
            "rgb(8,81,156)"
           ],
           [
            1,
            "rgb(8,48,107)"
           ]
          ],
          "line": {
           "color": "Grey",
           "width": 0.5
          },
          "showscale": false
         },
         "mode": "markers",
         "showlegend": false,
         "type": "scatter",
         "x": [
          5,
          10,
          5,
          5,
          4,
          4,
          7
         ],
         "xaxis": "x8",
         "y": [
          0.6940657012575293,
          0.6699836215757257,
          0.6811727476173306,
          0.6816895622026544,
          0.6671367197607347,
          0.5419335124340989,
          0.674794102136487
         ],
         "yaxis": "y8"
        }
       ],
       "layout": {
        "template": {
         "data": {
          "bar": [
           {
            "error_x": {
             "color": "#2a3f5f"
            },
            "error_y": {
             "color": "#2a3f5f"
            },
            "marker": {
             "line": {
              "color": "#E5ECF6",
              "width": 0.5
             },
             "pattern": {
              "fillmode": "overlay",
              "size": 10,
              "solidity": 0.2
             }
            },
            "type": "bar"
           }
          ],
          "barpolar": [
           {
            "marker": {
             "line": {
              "color": "#E5ECF6",
              "width": 0.5
             },
             "pattern": {
              "fillmode": "overlay",
              "size": 10,
              "solidity": 0.2
             }
            },
            "type": "barpolar"
           }
          ],
          "carpet": [
           {
            "aaxis": {
             "endlinecolor": "#2a3f5f",
             "gridcolor": "white",
             "linecolor": "white",
             "minorgridcolor": "white",
             "startlinecolor": "#2a3f5f"
            },
            "baxis": {
             "endlinecolor": "#2a3f5f",
             "gridcolor": "white",
             "linecolor": "white",
             "minorgridcolor": "white",
             "startlinecolor": "#2a3f5f"
            },
            "type": "carpet"
           }
          ],
          "choropleth": [
           {
            "colorbar": {
             "outlinewidth": 0,
             "ticks": ""
            },
            "type": "choropleth"
           }
          ],
          "contour": [
           {
            "colorbar": {
             "outlinewidth": 0,
             "ticks": ""
            },
            "colorscale": [
             [
              0,
              "#0d0887"
             ],
             [
              0.1111111111111111,
              "#46039f"
             ],
             [
              0.2222222222222222,
              "#7201a8"
             ],
             [
              0.3333333333333333,
              "#9c179e"
             ],
             [
              0.4444444444444444,
              "#bd3786"
             ],
             [
              0.5555555555555556,
              "#d8576b"
             ],
             [
              0.6666666666666666,
              "#ed7953"
             ],
             [
              0.7777777777777778,
              "#fb9f3a"
             ],
             [
              0.8888888888888888,
              "#fdca26"
             ],
             [
              1,
              "#f0f921"
             ]
            ],
            "type": "contour"
           }
          ],
          "contourcarpet": [
           {
            "colorbar": {
             "outlinewidth": 0,
             "ticks": ""
            },
            "type": "contourcarpet"
           }
          ],
          "heatmap": [
           {
            "colorbar": {
             "outlinewidth": 0,
             "ticks": ""
            },
            "colorscale": [
             [
              0,
              "#0d0887"
             ],
             [
              0.1111111111111111,
              "#46039f"
             ],
             [
              0.2222222222222222,
              "#7201a8"
             ],
             [
              0.3333333333333333,
              "#9c179e"
             ],
             [
              0.4444444444444444,
              "#bd3786"
             ],
             [
              0.5555555555555556,
              "#d8576b"
             ],
             [
              0.6666666666666666,
              "#ed7953"
             ],
             [
              0.7777777777777778,
              "#fb9f3a"
             ],
             [
              0.8888888888888888,
              "#fdca26"
             ],
             [
              1,
              "#f0f921"
             ]
            ],
            "type": "heatmap"
           }
          ],
          "heatmapgl": [
           {
            "colorbar": {
             "outlinewidth": 0,
             "ticks": ""
            },
            "colorscale": [
             [
              0,
              "#0d0887"
             ],
             [
              0.1111111111111111,
              "#46039f"
             ],
             [
              0.2222222222222222,
              "#7201a8"
             ],
             [
              0.3333333333333333,
              "#9c179e"
             ],
             [
              0.4444444444444444,
              "#bd3786"
             ],
             [
              0.5555555555555556,
              "#d8576b"
             ],
             [
              0.6666666666666666,
              "#ed7953"
             ],
             [
              0.7777777777777778,
              "#fb9f3a"
             ],
             [
              0.8888888888888888,
              "#fdca26"
             ],
             [
              1,
              "#f0f921"
             ]
            ],
            "type": "heatmapgl"
           }
          ],
          "histogram": [
           {
            "marker": {
             "pattern": {
              "fillmode": "overlay",
              "size": 10,
              "solidity": 0.2
             }
            },
            "type": "histogram"
           }
          ],
          "histogram2d": [
           {
            "colorbar": {
             "outlinewidth": 0,
             "ticks": ""
            },
            "colorscale": [
             [
              0,
              "#0d0887"
             ],
             [
              0.1111111111111111,
              "#46039f"
             ],
             [
              0.2222222222222222,
              "#7201a8"
             ],
             [
              0.3333333333333333,
              "#9c179e"
             ],
             [
              0.4444444444444444,
              "#bd3786"
             ],
             [
              0.5555555555555556,
              "#d8576b"
             ],
             [
              0.6666666666666666,
              "#ed7953"
             ],
             [
              0.7777777777777778,
              "#fb9f3a"
             ],
             [
              0.8888888888888888,
              "#fdca26"
             ],
             [
              1,
              "#f0f921"
             ]
            ],
            "type": "histogram2d"
           }
          ],
          "histogram2dcontour": [
           {
            "colorbar": {
             "outlinewidth": 0,
             "ticks": ""
            },
            "colorscale": [
             [
              0,
              "#0d0887"
             ],
             [
              0.1111111111111111,
              "#46039f"
             ],
             [
              0.2222222222222222,
              "#7201a8"
             ],
             [
              0.3333333333333333,
              "#9c179e"
             ],
             [
              0.4444444444444444,
              "#bd3786"
             ],
             [
              0.5555555555555556,
              "#d8576b"
             ],
             [
              0.6666666666666666,
              "#ed7953"
             ],
             [
              0.7777777777777778,
              "#fb9f3a"
             ],
             [
              0.8888888888888888,
              "#fdca26"
             ],
             [
              1,
              "#f0f921"
             ]
            ],
            "type": "histogram2dcontour"
           }
          ],
          "mesh3d": [
           {
            "colorbar": {
             "outlinewidth": 0,
             "ticks": ""
            },
            "type": "mesh3d"
           }
          ],
          "parcoords": [
           {
            "line": {
             "colorbar": {
              "outlinewidth": 0,
              "ticks": ""
             }
            },
            "type": "parcoords"
           }
          ],
          "pie": [
           {
            "automargin": true,
            "type": "pie"
           }
          ],
          "scatter": [
           {
            "fillpattern": {
             "fillmode": "overlay",
             "size": 10,
             "solidity": 0.2
            },
            "type": "scatter"
           }
          ],
          "scatter3d": [
           {
            "line": {
             "colorbar": {
              "outlinewidth": 0,
              "ticks": ""
             }
            },
            "marker": {
             "colorbar": {
              "outlinewidth": 0,
              "ticks": ""
             }
            },
            "type": "scatter3d"
           }
          ],
          "scattercarpet": [
           {
            "marker": {
             "colorbar": {
              "outlinewidth": 0,
              "ticks": ""
             }
            },
            "type": "scattercarpet"
           }
          ],
          "scattergeo": [
           {
            "marker": {
             "colorbar": {
              "outlinewidth": 0,
              "ticks": ""
             }
            },
            "type": "scattergeo"
           }
          ],
          "scattergl": [
           {
            "marker": {
             "colorbar": {
              "outlinewidth": 0,
              "ticks": ""
             }
            },
            "type": "scattergl"
           }
          ],
          "scattermapbox": [
           {
            "marker": {
             "colorbar": {
              "outlinewidth": 0,
              "ticks": ""
             }
            },
            "type": "scattermapbox"
           }
          ],
          "scatterpolar": [
           {
            "marker": {
             "colorbar": {
              "outlinewidth": 0,
              "ticks": ""
             }
            },
            "type": "scatterpolar"
           }
          ],
          "scatterpolargl": [
           {
            "marker": {
             "colorbar": {
              "outlinewidth": 0,
              "ticks": ""
             }
            },
            "type": "scatterpolargl"
           }
          ],
          "scatterternary": [
           {
            "marker": {
             "colorbar": {
              "outlinewidth": 0,
              "ticks": ""
             }
            },
            "type": "scatterternary"
           }
          ],
          "surface": [
           {
            "colorbar": {
             "outlinewidth": 0,
             "ticks": ""
            },
            "colorscale": [
             [
              0,
              "#0d0887"
             ],
             [
              0.1111111111111111,
              "#46039f"
             ],
             [
              0.2222222222222222,
              "#7201a8"
             ],
             [
              0.3333333333333333,
              "#9c179e"
             ],
             [
              0.4444444444444444,
              "#bd3786"
             ],
             [
              0.5555555555555556,
              "#d8576b"
             ],
             [
              0.6666666666666666,
              "#ed7953"
             ],
             [
              0.7777777777777778,
              "#fb9f3a"
             ],
             [
              0.8888888888888888,
              "#fdca26"
             ],
             [
              1,
              "#f0f921"
             ]
            ],
            "type": "surface"
           }
          ],
          "table": [
           {
            "cells": {
             "fill": {
              "color": "#EBF0F8"
             },
             "line": {
              "color": "white"
             }
            },
            "header": {
             "fill": {
              "color": "#C8D4E3"
             },
             "line": {
              "color": "white"
             }
            },
            "type": "table"
           }
          ]
         },
         "layout": {
          "annotationdefaults": {
           "arrowcolor": "#2a3f5f",
           "arrowhead": 0,
           "arrowwidth": 1
          },
          "autotypenumbers": "strict",
          "coloraxis": {
           "colorbar": {
            "outlinewidth": 0,
            "ticks": ""
           }
          },
          "colorscale": {
           "diverging": [
            [
             0,
             "#8e0152"
            ],
            [
             0.1,
             "#c51b7d"
            ],
            [
             0.2,
             "#de77ae"
            ],
            [
             0.3,
             "#f1b6da"
            ],
            [
             0.4,
             "#fde0ef"
            ],
            [
             0.5,
             "#f7f7f7"
            ],
            [
             0.6,
             "#e6f5d0"
            ],
            [
             0.7,
             "#b8e186"
            ],
            [
             0.8,
             "#7fbc41"
            ],
            [
             0.9,
             "#4d9221"
            ],
            [
             1,
             "#276419"
            ]
           ],
           "sequential": [
            [
             0,
             "#0d0887"
            ],
            [
             0.1111111111111111,
             "#46039f"
            ],
            [
             0.2222222222222222,
             "#7201a8"
            ],
            [
             0.3333333333333333,
             "#9c179e"
            ],
            [
             0.4444444444444444,
             "#bd3786"
            ],
            [
             0.5555555555555556,
             "#d8576b"
            ],
            [
             0.6666666666666666,
             "#ed7953"
            ],
            [
             0.7777777777777778,
             "#fb9f3a"
            ],
            [
             0.8888888888888888,
             "#fdca26"
            ],
            [
             1,
             "#f0f921"
            ]
           ],
           "sequentialminus": [
            [
             0,
             "#0d0887"
            ],
            [
             0.1111111111111111,
             "#46039f"
            ],
            [
             0.2222222222222222,
             "#7201a8"
            ],
            [
             0.3333333333333333,
             "#9c179e"
            ],
            [
             0.4444444444444444,
             "#bd3786"
            ],
            [
             0.5555555555555556,
             "#d8576b"
            ],
            [
             0.6666666666666666,
             "#ed7953"
            ],
            [
             0.7777777777777778,
             "#fb9f3a"
            ],
            [
             0.8888888888888888,
             "#fdca26"
            ],
            [
             1,
             "#f0f921"
            ]
           ]
          },
          "colorway": [
           "#636efa",
           "#EF553B",
           "#00cc96",
           "#ab63fa",
           "#FFA15A",
           "#19d3f3",
           "#FF6692",
           "#B6E880",
           "#FF97FF",
           "#FECB52"
          ],
          "font": {
           "color": "#2a3f5f"
          },
          "geo": {
           "bgcolor": "white",
           "lakecolor": "white",
           "landcolor": "#E5ECF6",
           "showlakes": true,
           "showland": true,
           "subunitcolor": "white"
          },
          "hoverlabel": {
           "align": "left"
          },
          "hovermode": "closest",
          "mapbox": {
           "style": "light"
          },
          "paper_bgcolor": "white",
          "plot_bgcolor": "#E5ECF6",
          "polar": {
           "angularaxis": {
            "gridcolor": "white",
            "linecolor": "white",
            "ticks": ""
           },
           "bgcolor": "#E5ECF6",
           "radialaxis": {
            "gridcolor": "white",
            "linecolor": "white",
            "ticks": ""
           }
          },
          "scene": {
           "xaxis": {
            "backgroundcolor": "#E5ECF6",
            "gridcolor": "white",
            "gridwidth": 2,
            "linecolor": "white",
            "showbackground": true,
            "ticks": "",
            "zerolinecolor": "white"
           },
           "yaxis": {
            "backgroundcolor": "#E5ECF6",
            "gridcolor": "white",
            "gridwidth": 2,
            "linecolor": "white",
            "showbackground": true,
            "ticks": "",
            "zerolinecolor": "white"
           },
           "zaxis": {
            "backgroundcolor": "#E5ECF6",
            "gridcolor": "white",
            "gridwidth": 2,
            "linecolor": "white",
            "showbackground": true,
            "ticks": "",
            "zerolinecolor": "white"
           }
          },
          "shapedefaults": {
           "line": {
            "color": "#2a3f5f"
           }
          },
          "ternary": {
           "aaxis": {
            "gridcolor": "white",
            "linecolor": "white",
            "ticks": ""
           },
           "baxis": {
            "gridcolor": "white",
            "linecolor": "white",
            "ticks": ""
           },
           "bgcolor": "#E5ECF6",
           "caxis": {
            "gridcolor": "white",
            "linecolor": "white",
            "ticks": ""
           }
          },
          "title": {
           "x": 0.05
          },
          "xaxis": {
           "automargin": true,
           "gridcolor": "white",
           "linecolor": "white",
           "ticks": "",
           "title": {
            "standoff": 15
           },
           "zerolinecolor": "white",
           "zerolinewidth": 2
          },
          "yaxis": {
           "automargin": true,
           "gridcolor": "white",
           "linecolor": "white",
           "ticks": "",
           "title": {
            "standoff": 15
           },
           "zerolinecolor": "white",
           "zerolinewidth": 2
          }
         }
        },
        "title": {
         "text": "Slice Plot"
        },
        "width": 2400,
        "xaxis": {
         "anchor": "y",
         "domain": [
          0,
          0.103125
         ],
         "title": {
          "text": "dropout_l0"
         }
        },
        "xaxis2": {
         "anchor": "y2",
         "domain": [
          0.128125,
          0.23124999999999998
         ],
         "title": {
          "text": "dropout_l1"
         }
        },
        "xaxis3": {
         "anchor": "y3",
         "domain": [
          0.25625,
          0.359375
         ],
         "title": {
          "text": "dropout_l2"
         }
        },
        "xaxis4": {
         "anchor": "y4",
         "domain": [
          0.38437499999999997,
          0.48749999999999993
         ],
         "title": {
          "text": "learning_rate"
         },
         "type": "log"
        },
        "xaxis5": {
         "anchor": "y5",
         "domain": [
          0.5125,
          0.615625
         ],
         "title": {
          "text": "n_layers"
         }
        },
        "xaxis6": {
         "anchor": "y6",
         "domain": [
          0.640625,
          0.74375
         ],
         "title": {
          "text": "n_units_l0"
         }
        },
        "xaxis7": {
         "anchor": "y7",
         "domain": [
          0.76875,
          0.8718750000000001
         ],
         "title": {
          "text": "n_units_l1"
         }
        },
        "xaxis8": {
         "anchor": "y8",
         "domain": [
          0.8968750000000001,
          1
         ],
         "title": {
          "text": "n_units_l2"
         }
        },
        "yaxis": {
         "anchor": "x",
         "domain": [
          0,
          1
         ],
         "title": {
          "text": "Objective Value"
         }
        },
        "yaxis2": {
         "anchor": "x2",
         "domain": [
          0,
          1
         ],
         "matches": "y",
         "showticklabels": false
        },
        "yaxis3": {
         "anchor": "x3",
         "domain": [
          0,
          1
         ],
         "matches": "y",
         "showticklabels": false
        },
        "yaxis4": {
         "anchor": "x4",
         "domain": [
          0,
          1
         ],
         "matches": "y",
         "showticklabels": false
        },
        "yaxis5": {
         "anchor": "x5",
         "domain": [
          0,
          1
         ],
         "matches": "y",
         "showticklabels": false
        },
        "yaxis6": {
         "anchor": "x6",
         "domain": [
          0,
          1
         ],
         "matches": "y",
         "showticklabels": false
        },
        "yaxis7": {
         "anchor": "x7",
         "domain": [
          0,
          1
         ],
         "matches": "y",
         "showticklabels": false
        },
        "yaxis8": {
         "anchor": "x8",
         "domain": [
          0,
          1
         ],
         "matches": "y",
         "showticklabels": false
        }
       }
      }
     },
     "metadata": {},
     "output_type": "display_data"
    }
   ],
   "source": [
    "import optuna\n",
    "fig = optuna.visualization.plot_slice(study)\n",
    "fig.show()"
   ]
  },
  {
   "cell_type": "code",
   "execution_count": 18,
   "metadata": {},
   "outputs": [],
   "source": [
    "#study.optimize(objective, n_trials=2, gc_after_trial=True)\n",
    "#joblib.dump(study, f\"hyperparameterstudy{ROLLING_WINDOW_SIZE}.pkl\")\n"
   ]
  },
  {
   "cell_type": "code",
   "execution_count": null,
   "metadata": {},
   "outputs": [],
   "source": []
  }
 ],
 "metadata": {
  "interpreter": {
   "hash": "98b9776bb1c906ffea5885633daef92fdfff9bdc53a036d784e355cfb10fec4f"
  },
  "kernelspec": {
   "display_name": "Python 3.9.0 64-bit",
   "language": "python",
   "name": "python3"
  },
  "language_info": {
   "codemirror_mode": {
    "name": "ipython",
    "version": 3
   },
   "file_extension": ".py",
   "mimetype": "text/x-python",
   "name": "python",
   "nbconvert_exporter": "python",
   "pygments_lexer": "ipython3",
   "version": "3.9.0"
  },
  "orig_nbformat": 4
 },
 "nbformat": 4,
 "nbformat_minor": 2
}
