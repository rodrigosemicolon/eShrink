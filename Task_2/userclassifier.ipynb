{
 "cells": [
  {
   "cell_type": "code",
   "execution_count": 1,
   "metadata": {},
   "outputs": [],
   "source": [
    "TRAIN_DF = \"train_df.csv\"\n",
    "\n",
    "TEST_DF = \"test_df.csv\"\n",
    "BOW_MODELS = \"Models/BoW/\" \n",
    "WE_MODELS = \"Models/WE/\" \n",
    "WORD_EMBEDDINGS = \"../word_embeddings/\"\n",
    "PRE_METHOD='Raw' #'Lemmatized' for bow and we, 'Raw' for lm\n",
    "#WE_MODEL=\"GLOVE_CC\"\n",
    "LM_MODEL='all-mpnet-base-v2'#'all-MiniLM-L6-v2'\n",
    "FEATURE_TYPE=\"NN\" #\"BoW\" #\"LM\" #\"WE\"\n",
    "ROLLING_WINDOW_SIZE=10\n",
    "SENT=False\n",
    "ROUND_MAX=100"
   ]
  },
  {
   "cell_type": "code",
   "execution_count": null,
   "metadata": {},
   "outputs": [],
   "source": []
  },
  {
   "cell_type": "markdown",
   "metadata": {},
   "source": []
  },
  {
   "cell_type": "code",
   "execution_count": 2,
   "metadata": {},
   "outputs": [
    {
     "data": {
      "text/plain": [
       "'\\nlm=SentenceTransformer(LM_MODEL)\\nlm.max_seq_length=512 \\nunused_embeddings = lm.encode(unused_df[\\'Text\\'].tolist(),show_progress_bar=True,            output_value=\\'sentence_embedding\\', batch_size=64,convert_to_numpy=True)\\nsave_embeddings(\"unused_embeddings.pkl\", unused_embeddings)\\n'"
      ]
     },
     "execution_count": 2,
     "metadata": {},
     "output_type": "execute_result"
    }
   ],
   "source": [
    "import pandas as pd\n",
    "import numpy as np\n",
    "from utilities import rolling_window, sa_features, save_embeddings\n",
    "import optuna\n",
    "from sentence_transformers import SentenceTransformer\n",
    "\n",
    "import joblib\n",
    "seed=23\n",
    "np.random.seed(seed)\n",
    "\n",
    "train_df = pd.read_csv(TRAIN_DF, sep='\\t')\n",
    "test_df = pd.read_csv(TEST_DF, sep='\\t')\n",
    "#train_df = rolling_window(train_df,ROLLING_WINDOW_SIZE,1,PRE_METHOD)\n",
    "#test_df = rolling_window(test_df,ROLLING_WINDOW_SIZE,1,PRE_METHOD)\n",
    "full_df = pd.concat([train_df,test_df])\n",
    "###\n",
    "#full_df = rolling_window(full_df,ROLLING_WINDOW_SIZE,1,PRE_METHOD)\n",
    "###\n",
    "#tokens_df = pd.read_csv(\"./tokens.csv\", sep='\\t')\n",
    "#total_df = tokens_df.merge(full_df.drop_duplicates(), on=['User','Post_Nr','Raw','Stemmed','Lemmatized','Label' ], \n",
    "#                   how='left', indicator=True)\n",
    "#unused_df = total_df[total_df['_merge'] == 'left_only'].copy()\n",
    "#unused_df.drop(['_merge'], inplace=True, axis=1)\n",
    "full_df = rolling_window(full_df,ROLLING_WINDOW_SIZE,1,PRE_METHOD)\n",
    "#full_df = full_df.query(\"Window_id < 90\")\n",
    "\n",
    "\n",
    "#unused_df = rolling_window(unused_df,ROLLING_WINDOW_SIZE,1,PRE_METHOD)\n",
    "#unused_df = unused_df.query(\"Window_id < 90\")\n",
    "\"\"\"\n",
    "\"\"\"\n",
    "\"\"\"\n",
    "lm=SentenceTransformer(LM_MODEL)\n",
    "lm.max_seq_length=512 \n",
    "unused_embeddings = lm.encode(unused_df['Text'].tolist(),show_progress_bar=True,\\\n",
    "            output_value='sentence_embedding', batch_size=64,convert_to_numpy=True)\n",
    "save_embeddings(\"unused_embeddings.pkl\", unused_embeddings)\n",
    "\"\"\"\n",
    "\n",
    "#if SENT:\n",
    "#    full_df = sa_features(full_df)\n",
    "#    unused_df = sa_features(unused_df)\n",
    "#full_df.to_pickle(\"full_df_sent.pkl\")\n",
    "\n",
    "#full_df = pd.read_pickle(\"full_df_sent.pkl\")\n",
    "\n",
    "#full_df.head()"
   ]
  },
  {
   "cell_type": "code",
   "execution_count": 3,
   "metadata": {},
   "outputs": [],
   "source": [
    "#unused_df['Vector'] = pd.DataFrame(data=unused_embeddings).values.tolist()\n",
    "#unused_df"
   ]
  },
  {
   "cell_type": "code",
   "execution_count": 4,
   "metadata": {},
   "outputs": [],
   "source": [
    "#unused_df.to_pickle(\"final_unused.pkl\")\n"
   ]
  },
  {
   "cell_type": "code",
   "execution_count": 5,
   "metadata": {},
   "outputs": [
    {
     "data": {
      "text/html": [
       "<div>\n",
       "<style scoped>\n",
       "    .dataframe tbody tr th:only-of-type {\n",
       "        vertical-align: middle;\n",
       "    }\n",
       "\n",
       "    .dataframe tbody tr th {\n",
       "        vertical-align: top;\n",
       "    }\n",
       "\n",
       "    .dataframe thead th {\n",
       "        text-align: right;\n",
       "    }\n",
       "</style>\n",
       "<table border=\"1\" class=\"dataframe\">\n",
       "  <thead>\n",
       "    <tr style=\"text-align: right;\">\n",
       "      <th></th>\n",
       "      <th>User</th>\n",
       "      <th>Window_id</th>\n",
       "      <th>Text</th>\n",
       "      <th>Label</th>\n",
       "    </tr>\n",
       "  </thead>\n",
       "  <tbody>\n",
       "    <tr>\n",
       "      <th>0</th>\n",
       "      <td>test_subject1345</td>\n",
       "      <td>0</td>\n",
       "      <td>so many unwanted smith fadeaways. mid range j...</td>\n",
       "      <td>1</td>\n",
       "    </tr>\n",
       "    <tr>\n",
       "      <th>1</th>\n",
       "      <td>test_subject1345</td>\n",
       "      <td>1</td>\n",
       "      <td>mid range jumpers hey guys, celtics fan here p...</td>\n",
       "      <td>1</td>\n",
       "    </tr>\n",
       "    <tr>\n",
       "      <th>2</th>\n",
       "      <td>test_subject1345</td>\n",
       "      <td>2</td>\n",
       "      <td>well he got number tonight so maybe he will b...</td>\n",
       "      <td>1</td>\n",
       "    </tr>\n",
       "    <tr>\n",
       "      <th>3</th>\n",
       "      <td>test_subject1345</td>\n",
       "      <td>3</td>\n",
       "      <td>i mean he will get pinch hits and an occasion...</td>\n",
       "      <td>1</td>\n",
       "    </tr>\n",
       "    <tr>\n",
       "      <th>4</th>\n",
       "      <td>test_subject1345</td>\n",
       "      <td>4</td>\n",
       "      <td>yeah you are probably right. oh well.  i gues...</td>\n",
       "      <td>1</td>\n",
       "    </tr>\n",
       "    <tr>\n",
       "      <th>...</th>\n",
       "      <td>...</td>\n",
       "      <td>...</td>\n",
       "      <td>...</td>\n",
       "      <td>...</td>\n",
       "    </tr>\n",
       "    <tr>\n",
       "      <th>210922</th>\n",
       "      <td>subject9832</td>\n",
       "      <td>995</td>\n",
       "      <td>exactly scumbag christian girl..  i find myse...</td>\n",
       "      <td>0</td>\n",
       "    </tr>\n",
       "    <tr>\n",
       "      <th>210923</th>\n",
       "      <td>subject9832</td>\n",
       "      <td>996</td>\n",
       "      <td>scumbag christian girl..  i find myself doing ...</td>\n",
       "      <td>0</td>\n",
       "    </tr>\n",
       "    <tr>\n",
       "      <th>210924</th>\n",
       "      <td>subject9832</td>\n",
       "      <td>997</td>\n",
       "      <td>i find myself doing this everytime i walk thou...</td>\n",
       "      <td>0</td>\n",
       "    </tr>\n",
       "    <tr>\n",
       "      <th>210925</th>\n",
       "      <td>subject9832</td>\n",
       "      <td>998</td>\n",
       "      <td>...snow days keep your children from school.....</td>\n",
       "      <td>0</td>\n",
       "    </tr>\n",
       "    <tr>\n",
       "      <th>210926</th>\n",
       "      <td>subject9832</td>\n",
       "      <td>999</td>\n",
       "      <td>why i do not donate to charity...</td>\n",
       "      <td>0</td>\n",
       "    </tr>\n",
       "  </tbody>\n",
       "</table>\n",
       "<p>210927 rows × 4 columns</p>\n",
       "</div>"
      ],
      "text/plain": [
       "                    User  Window_id  \\\n",
       "0       test_subject1345          0   \n",
       "1       test_subject1345          1   \n",
       "2       test_subject1345          2   \n",
       "3       test_subject1345          3   \n",
       "4       test_subject1345          4   \n",
       "...                  ...        ...   \n",
       "210922       subject9832        995   \n",
       "210923       subject9832        996   \n",
       "210924       subject9832        997   \n",
       "210925       subject9832        998   \n",
       "210926       subject9832        999   \n",
       "\n",
       "                                                     Text  Label  \n",
       "0        so many unwanted smith fadeaways. mid range j...      1  \n",
       "1       mid range jumpers hey guys, celtics fan here p...      1  \n",
       "2        well he got number tonight so maybe he will b...      1  \n",
       "3        i mean he will get pinch hits and an occasion...      1  \n",
       "4        yeah you are probably right. oh well.  i gues...      1  \n",
       "...                                                   ...    ...  \n",
       "210922   exactly scumbag christian girl..  i find myse...      0  \n",
       "210923  scumbag christian girl..  i find myself doing ...      0  \n",
       "210924  i find myself doing this everytime i walk thou...      0  \n",
       "210925   ...snow days keep your children from school.....      0  \n",
       "210926                 why i do not donate to charity...       0  \n",
       "\n",
       "[210927 rows x 4 columns]"
      ]
     },
     "execution_count": 5,
     "metadata": {},
     "output_type": "execute_result"
    }
   ],
   "source": [
    "full_df"
   ]
  },
  {
   "cell_type": "code",
   "execution_count": null,
   "metadata": {},
   "outputs": [],
   "source": []
  },
  {
   "cell_type": "code",
   "execution_count": null,
   "metadata": {},
   "outputs": [],
   "source": []
  },
  {
   "cell_type": "code",
   "execution_count": null,
   "metadata": {},
   "outputs": [],
   "source": []
  },
  {
   "cell_type": "code",
   "execution_count": 6,
   "metadata": {},
   "outputs": [
    {
     "data": {
      "text/plain": [
       "'\\n### BoW FEATURES\\nfrom sklearn.pipeline import make_pipeline\\nfrom sklearn.linear_model import SGDClassifier\\nfrom sklearn.naive_bayes import MultinomialNB\\nfrom sklearn.feature_extraction.text import TfidfVectorizer\\nfrom nltk.corpus import stopwords\\nnltk_stop_words = set(stopwords.words(\"english\"))\\nimport optuna\\nimport joblib\\nTFIDF_STUDY_PATH=\"./BagOfWords/t2_tfidfvec_10\"\\nMODEL_STUDY_PATH=\"./BagOfWords/t2_tuning_10.pkl\"\\ntfidf_study = joblib.load(TFIDF_STUDY_PATH)\\nmodel_study = joblib.load(MODEL_STUDY_PATH)\\ntfidf_params = tfidf_study.best_trial.params\\ntfidf_params[\\'stop_words\\'] = nltk_stop_words\\ntfidf_params[\\'ngram_range\\'] = (1,tfidf_params[\\'ngram_range\\'])\\nvectorizer = TfidfVectorizer(**tfidf_params)\\nmodel = MultinomialNB(**model_study.best_params)\\n\\n'"
      ]
     },
     "execution_count": 6,
     "metadata": {},
     "output_type": "execute_result"
    }
   ],
   "source": [
    "\"\"\"\n",
    "### BoW FEATURES\n",
    "from sklearn.pipeline import make_pipeline\n",
    "from sklearn.linear_model import SGDClassifier\n",
    "from sklearn.naive_bayes import MultinomialNB\n",
    "from sklearn.feature_extraction.text import TfidfVectorizer\n",
    "from nltk.corpus import stopwords\n",
    "nltk_stop_words = set(stopwords.words(\"english\"))\n",
    "import optuna\n",
    "import joblib\n",
    "TFIDF_STUDY_PATH=\"./BagOfWords/t2_tfidfvec_10\"\n",
    "MODEL_STUDY_PATH=\"./BagOfWords/t2_tuning_10.pkl\"\n",
    "tfidf_study = joblib.load(TFIDF_STUDY_PATH)\n",
    "model_study = joblib.load(MODEL_STUDY_PATH)\n",
    "tfidf_params = tfidf_study.best_trial.params\n",
    "tfidf_params['stop_words'] = nltk_stop_words\n",
    "tfidf_params['ngram_range'] = (1,tfidf_params['ngram_range'])\n",
    "vectorizer = TfidfVectorizer(**tfidf_params)\n",
    "model = MultinomialNB(**model_study.best_params)\n",
    "\n",
    "\"\"\""
   ]
  },
  {
   "cell_type": "code",
   "execution_count": null,
   "metadata": {},
   "outputs": [],
   "source": []
  },
  {
   "cell_type": "code",
   "execution_count": 7,
   "metadata": {},
   "outputs": [
    {
     "data": {
      "text/plain": [
       "'\\n### WE FEATURES\\nfrom utilities import WordEmbeddingVectorizer\\nfrom sklearn.linear_model import SGDClassifier\\nimport optuna\\nimport joblib\\nSTUDY_PATH=\"./Embeddings/t2_tuning_10.pkl\"\\nstudy = joblib.load(STUDY_PATH)\\nmodel = SGDClassifier(**study.best_params)\\nwe_vectorizer = WordEmbeddingVectorizer(WE_MODEL, WORD_EMBEDDINGS)\\n#full_df = full_df.sample(frac=1, random_state=seed).reset_index(drop=True) \\nfull_df[\\'Vector\\'] = full_df[\\'Text\\'].apply(lambda text: we_vectorizer.vectorize(text))\\nunused_df[\\'Vector\\'] = unused_df[\\'Text\\'].apply(lambda text: we_vectorizer.vectorize(text))\\n\\nfull_df\\n'"
      ]
     },
     "execution_count": 7,
     "metadata": {},
     "output_type": "execute_result"
    }
   ],
   "source": [
    "\"\"\"\n",
    "### WE FEATURES\n",
    "from utilities import WordEmbeddingVectorizer\n",
    "from sklearn.linear_model import SGDClassifier\n",
    "import optuna\n",
    "import joblib\n",
    "STUDY_PATH=\"./Embeddings/t2_tuning_10.pkl\"\n",
    "study = joblib.load(STUDY_PATH)\n",
    "model = SGDClassifier(**study.best_params)\n",
    "we_vectorizer = WordEmbeddingVectorizer(WE_MODEL, WORD_EMBEDDINGS)\n",
    "#full_df = full_df.sample(frac=1, random_state=seed).reset_index(drop=True) \n",
    "full_df['Vector'] = full_df['Text'].apply(lambda text: we_vectorizer.vectorize(text))\n",
    "unused_df['Vector'] = unused_df['Text'].apply(lambda text: we_vectorizer.vectorize(text))\n",
    "\n",
    "full_df\n",
    "\"\"\""
   ]
  },
  {
   "cell_type": "code",
   "execution_count": 8,
   "metadata": {},
   "outputs": [],
   "source": [
    "#unused_df.to_pickle(\"unused_pre.pkl\", protocol=4)"
   ]
  },
  {
   "cell_type": "code",
   "execution_count": null,
   "metadata": {},
   "outputs": [],
   "source": []
  },
  {
   "cell_type": "code",
   "execution_count": null,
   "metadata": {},
   "outputs": [],
   "source": []
  },
  {
   "cell_type": "code",
   "execution_count": 9,
   "metadata": {},
   "outputs": [
    {
     "data": {
      "text/plain": [
       "'\\nfrom sklearn.linear_model import SGDClassifier\\nimport optuna\\nimport joblib\\nfrom utilities import load_embeddings\\nSTUDY_PATH = \"./LanguageModels/t2_tuning_10.pkl\"\\nstudy = joblib.load(STUDY_PATH)\\nstudy.best_params\\nmodel = SGDClassifier(**study.best_params)\\ntrain_sentence_embeddings = load_embeddings(f\"./LanguageModels/train_sentence_embeddings_{LM_MODEL}_{ROLLING_WINDOW_SIZE}.pkl\")\\nval_sentence_embeddings = load_embeddings(f\"./LanguageModels/val_sentence_embeddings_{LM_MODEL}_{ROLLING_WINDOW_SIZE}.pkl\")\\n#unused_embeddings = load_embeddings(f\"./unused_embeddings.pkl\")\\n\\nfull_sentence_embeddings = np.concatenate((train_sentence_embeddings,val_sentence_embeddings), axis=0)#full_df[\\'Vector\\'] = pd.DataFrame(data=full_sentence_embeddings).values.tolist()\\nfull_df[\\'Vector\\'] = pd.DataFrame(data=full_sentence_embeddings).values.tolist()\\nfull_df = full_df.query(\"Window_id < 90\")\\n\\nunused_df = pd.read_pickle(\"final_unused.pkl\")\\n\\n#unused_df = pd.read_pickle(\"final_unused.pkl\")\\n#full_df = pd.read_pickle(\"full_df_pkl.pkl\")\\n'"
      ]
     },
     "execution_count": 9,
     "metadata": {},
     "output_type": "execute_result"
    }
   ],
   "source": [
    "### LM FEATURES\n",
    "\"\"\"\n",
    "from sklearn.linear_model import SGDClassifier\n",
    "import optuna\n",
    "import joblib\n",
    "from utilities import load_embeddings\n",
    "STUDY_PATH = \"./LanguageModels/t2_tuning_10.pkl\"\n",
    "study = joblib.load(STUDY_PATH)\n",
    "study.best_params\n",
    "model = SGDClassifier(**study.best_params)\n",
    "train_sentence_embeddings = load_embeddings(f\"./LanguageModels/train_sentence_embeddings_{LM_MODEL}_{ROLLING_WINDOW_SIZE}.pkl\")\n",
    "val_sentence_embeddings = load_embeddings(f\"./LanguageModels/val_sentence_embeddings_{LM_MODEL}_{ROLLING_WINDOW_SIZE}.pkl\")\n",
    "#unused_embeddings = load_embeddings(f\"./unused_embeddings.pkl\")\n",
    "\n",
    "full_sentence_embeddings = np.concatenate((train_sentence_embeddings,val_sentence_embeddings), axis=0)#full_df['Vector'] = pd.DataFrame(data=full_sentence_embeddings).values.tolist()\n",
    "full_df['Vector'] = pd.DataFrame(data=full_sentence_embeddings).values.tolist()\n",
    "full_df = full_df.query(\"Window_id < 90\")\n",
    "\n",
    "unused_df = pd.read_pickle(\"final_unused.pkl\")\n",
    "\n",
    "#unused_df = pd.read_pickle(\"final_unused.pkl\")\n",
    "#full_df = pd.read_pickle(\"full_df_pkl.pkl\")\n",
    "\"\"\"\n",
    "\n"
   ]
  },
  {
   "cell_type": "code",
   "execution_count": 10,
   "metadata": {},
   "outputs": [],
   "source": [
    "\"\"\"\n",
    "\"\"\"\n",
    "### LM FEATURES\n",
    "from sklearn.linear_model import SGDClassifier\n",
    "import torch\n",
    "import optuna\n",
    "import joblib\n",
    "from utilities import load_embeddings, LmNeuralNetwork, WritingWindowDataset\n",
    "STUDY_PATH = \"./LanguageModels/NN_hyperparameterstudy10.pkl\"\n",
    "study = joblib.load(STUDY_PATH)\n",
    "study.best_params\n",
    "params = optuna.trial.FixedTrial(study.best_trial.params)\n",
    "#model = torch.load()\n",
    "#model.eval()\n",
    "train_sentence_embeddings = load_embeddings(f\"./LanguageModels/train_sentence_embeddings_{LM_MODEL}_{ROLLING_WINDOW_SIZE}.pkl\")\n",
    "val_sentence_embeddings = load_embeddings(f\"./LanguageModels/val_sentence_embeddings_{LM_MODEL}_{ROLLING_WINDOW_SIZE}.pkl\")\n",
    "#unused_embeddings = load_embeddings(f\"./unused_embeddings.pkl\")\n",
    "\n",
    "full_sentence_embeddings = np.concatenate((train_sentence_embeddings,val_sentence_embeddings), axis=0)#full_df['Vector'] = pd.DataFrame(data=full_sentence_embeddings).values.tolist()\n",
    "full_df['Vector'] = pd.DataFrame(data=full_sentence_embeddings).values.tolist()\n",
    "unused_df = pd.read_pickle(\"final_unused.pkl\")\n",
    "\n",
    "train_ds = WritingWindowDataset(full_sentence_embeddings, full_df['Label'])\n",
    "#unused_df = pd.read_pickle(\"final_unused.pkl\")\n",
    "\n",
    "#full_df = pd.read_pickle(\"full_df_pkl.pkl\")\n",
    "\n"
   ]
  },
  {
   "cell_type": "code",
   "execution_count": 11,
   "metadata": {},
   "outputs": [],
   "source": [
    "\"\"\"\n",
    "\"\"\"\n",
    "from torch.optim import AdamW\n",
    "from tqdm import tqdm\n",
    "import torch.nn as nn\n",
    "from sklearn.metrics import f1_score\n",
    "#from torchmetrics.functional import f1_score\n",
    "BATCH_SIZE = 32\n",
    "epochs=10\n",
    "\n",
    "def train_nn(trainloader, study):\n",
    "    params = optuna.trial.FixedTrial(study.best_trial.params)\n",
    "    model= LmNeuralNetwork(params)\n",
    "\n",
    "    model = model.cuda()\n",
    "    optimizer = AdamW(model.parameters(), lr=study.best_trial.params['learning_rate'])#, lr= learning_rate)\n",
    "\n",
    "    use_cuda = torch.cuda.is_available()\n",
    "    device = torch.device(\"cuda\" if use_cuda else \"cpu\")\n",
    "\n",
    "    criterion = nn.BCELoss()\n",
    "\n",
    "            \n",
    "\n",
    "    for epoch_num in range(epochs):\n",
    "        \n",
    "        total_loss_train = 0\n",
    "        #train_preds = torch.tensor([], requires_grad=False).to(device)\n",
    "        #train_targets = torch.tensor([], requires_grad=False).to(device)\n",
    "        train_preds = np.array([])\n",
    "        train_targets = np.array([])\n",
    "        model.train()\n",
    "        for train_input, train_label in tqdm(trainloader):\n",
    "\n",
    "            train_label = train_label.to(device)\n",
    "            train_label = train_label.float()\n",
    "            train_label = train_label.unsqueeze(1)\n",
    "            features = train_input.to(device)\n",
    "            \n",
    "\n",
    "            output = model(features)\n",
    "            batch_loss = criterion(output, train_label)\n",
    "            total_loss_train += float(batch_loss.item())\n",
    "            \n",
    "            #train_preds = torch.cat((train_preds,torch.round(output).detach()),0)\n",
    "            #train_targets=torch.cat((train_targets,train_label.detach()),0)\n",
    "            train_preds = np.concatenate((train_preds,torch.round(output).detach().cpu().numpy().flatten()),axis=0)\n",
    "            train_targets = np.concatenate((train_targets,train_label.detach().cpu().numpy().flatten()),axis=0)\n",
    "\n",
    "            \n",
    "            #acc = (train_y_pred_tag == train_label).sum().item()\n",
    "            #total_acc_train += float(acc)\n",
    "            #seen_train+=len(train_preds)\n",
    "            model.zero_grad()\n",
    "            batch_loss.backward()\n",
    "            optimizer.step()\n",
    "        train_loss=total_loss_train/len(train_preds)\n",
    "        train_f1 = f1_score(train_targets,train_preds)\n",
    "            \n",
    "        print(\n",
    "                f'Epochs: {epoch_num + 1} | Train Loss: {train_loss: .4f} \\\n",
    "                | Train F1: {train_f1: .4f}')\n",
    "\n",
    "        \n",
    "    return model"
   ]
  },
  {
   "cell_type": "code",
   "execution_count": 12,
   "metadata": {},
   "outputs": [
    {
     "data": {
      "text/plain": [
       "'\\n\\nfrom sklearn.model_selection import StratifiedKFold\\n\\ndef cv_classification(full_df, model,filename):\\n    skf = StratifiedKFold(n_splits=5)\\n    user_label_df =full_df.drop_duplicates(\\'User\\')\\n    users = user_label_df[\\'User\\'].to_numpy()\\n    labels = user_label_df[\\'Label\\'].to_numpy()\\n    for fold,(train_index, test_index) in enumerate(skf.split(users, labels)):\\n            train_users = [users[f] for f in train_index]\\n            test_users = [users[f] for f in test_index]\\n\\n            train_folds = full_df[full_df[\\'User\\'].isin(train_users)].copy()\\n            train_folds = train_folds.sample(frac=1, random_state=seed).reset_index(drop=True) \\n\\n            test_folds = full_df[full_df[\\'User\\'].isin(test_users)].copy()\\n            test_folds = pd.concat([test_folds,unused_df])\\n\\n            if FEATURE_TYPE==\"BoW\":\\n                X_train = vectorizer.fit_transform(train_folds[\\'Text\\'])\\n            else:\\n                X_train = pd.DataFrame(train_folds[\\'Vector\\'].values.tolist(), index = train_folds.index)\\n            y_train = train_folds[\\'Label\\']\\n            if SENT:\\n                X_train = np.c_[X_train,train_folds[\\'polarity\\'],train_folds[\\'subjectivity\\'],train_folds[\\'negativity\\'],train_folds[\\'positivity\\'],train_folds[\\'neutrality\\'], train_folds[\\'compound\\']] \\n\\n            model.fit(X_train, y_train)\\n            print(f\"model for fold {fold} trained\")\\n            true_label=test_folds[[\\'User\\',\\'Label\\']].groupby(\\'User\\').max().to_dict()[\\'Label\\']\\n            true_labels = {subject:true_label[subject] for subject in true_label}\\n            with open(f\"{filename}_{fold}.txt\", \"w\") as f:\\n                for user in true_labels:\\n                    f.write(f\"({user},{true_labels[user]})\")\\n                    for window_id in range(ROUND_MAX-ROLLING_WINDOW_SIZE+1):\\n                        test_f = test_folds.query(\"User==@user and Window_id==@window_id\")\\n                        if len(test_f)>0:\\n                            f.write(\" \")\\n                            if FEATURE_TYPE==\"BoW\":\\n                                X_test = vectorizer.transform(test_f[\\'Text\\'])\\n                                if SENT:\\n                                    X_test = np.r_[X_test,test_f[\\'polarity\\'],test_f[\\'subjectivity\\'],test_f[\\'negativity\\'],test_f[\\'positivity\\'],test_f[\\'neutrality\\'], test_f[\\'compound\\']] \\n                                X_test.reshape(1,-1)\\n                            else:\\n                                X_test = test_f[\\'Vector\\'].values.tolist()[0]\\n                                if SENT:\\n                                    X_test = np.r_[X_test,test_f[\\'polarity\\'],test_f[\\'subjectivity\\'],test_f[\\'negativity\\'],test_f[\\'positivity\\'],test_f[\\'neutrality\\'], test_f[\\'compound\\']] \\n                                X_test = [X_test] #added\\n\\n                            \\n                            pred = model.predict(X_test)[0]\\n                            prob = model.predict_proba(X_test)[0].tolist()[1]\\n                            f.write(f\"({pred},{prob})\")\\n                    f.write(\"\\n\")\\n'"
      ]
     },
     "execution_count": 12,
     "metadata": {},
     "output_type": "execute_result"
    }
   ],
   "source": [
    "\"\"\"\n",
    "\n",
    "from sklearn.model_selection import StratifiedKFold\n",
    "\n",
    "def cv_classification(full_df, model,filename):\n",
    "    skf = StratifiedKFold(n_splits=5)\n",
    "    user_label_df =full_df.drop_duplicates('User')\n",
    "    users = user_label_df['User'].to_numpy()\n",
    "    labels = user_label_df['Label'].to_numpy()\n",
    "    for fold,(train_index, test_index) in enumerate(skf.split(users, labels)):\n",
    "            train_users = [users[f] for f in train_index]\n",
    "            test_users = [users[f] for f in test_index]\n",
    "\n",
    "            train_folds = full_df[full_df['User'].isin(train_users)].copy()\n",
    "            train_folds = train_folds.sample(frac=1, random_state=seed).reset_index(drop=True) \n",
    "\n",
    "            test_folds = full_df[full_df['User'].isin(test_users)].copy()\n",
    "            test_folds = pd.concat([test_folds,unused_df])\n",
    "\n",
    "            if FEATURE_TYPE==\"BoW\":\n",
    "                X_train = vectorizer.fit_transform(train_folds['Text'])\n",
    "            else:\n",
    "                X_train = pd.DataFrame(train_folds['Vector'].values.tolist(), index = train_folds.index)\n",
    "            y_train = train_folds['Label']\n",
    "            if SENT:\n",
    "                X_train = np.c_[X_train,train_folds['polarity'],train_folds['subjectivity'],train_folds['negativity'],train_folds['positivity'],train_folds['neutrality'], train_folds['compound']] \n",
    "\n",
    "            model.fit(X_train, y_train)\n",
    "            print(f\"model for fold {fold} trained\")\n",
    "            true_label=test_folds[['User','Label']].groupby('User').max().to_dict()['Label']\n",
    "            true_labels = {subject:true_label[subject] for subject in true_label}\n",
    "            with open(f\"{filename}_{fold}.txt\", \"w\") as f:\n",
    "                for user in true_labels:\n",
    "                    f.write(f\"({user},{true_labels[user]})\")\n",
    "                    for window_id in range(ROUND_MAX-ROLLING_WINDOW_SIZE+1):\n",
    "                        test_f = test_folds.query(\"User==@user and Window_id==@window_id\")\n",
    "                        if len(test_f)>0:\n",
    "                            f.write(\" \")\n",
    "                            if FEATURE_TYPE==\"BoW\":\n",
    "                                X_test = vectorizer.transform(test_f['Text'])\n",
    "                                if SENT:\n",
    "                                    X_test = np.r_[X_test,test_f['polarity'],test_f['subjectivity'],test_f['negativity'],test_f['positivity'],test_f['neutrality'], test_f['compound']] \n",
    "                                X_test.reshape(1,-1)\n",
    "                            else:\n",
    "                                X_test = test_f['Vector'].values.tolist()[0]\n",
    "                                if SENT:\n",
    "                                    X_test = np.r_[X_test,test_f['polarity'],test_f['subjectivity'],test_f['negativity'],test_f['positivity'],test_f['neutrality'], test_f['compound']] \n",
    "                                X_test = [X_test] #added\n",
    "\n",
    "                            \n",
    "                            pred = model.predict(X_test)[0]\n",
    "                            prob = model.predict_proba(X_test)[0].tolist()[1]\n",
    "                            f.write(f\"({pred},{prob})\")\n",
    "                    f.write(\"\\n\")\n",
    "\"\"\""
   ]
  },
  {
   "cell_type": "code",
   "execution_count": 13,
   "metadata": {},
   "outputs": [
    {
     "data": {
      "text/plain": [
       "<torch._C.Generator at 0x1c959f50430>"
      ]
     },
     "execution_count": 13,
     "metadata": {},
     "output_type": "execute_result"
    }
   ],
   "source": [
    "####LOAD MODEL\n",
    "\n",
    "torch.manual_seed(23)"
   ]
  },
  {
   "cell_type": "code",
   "execution_count": 14,
   "metadata": {},
   "outputs": [],
   "source": [
    "\n",
    "from sklearn.model_selection import StratifiedKFold\n",
    "\n",
    "def nn_cv_classification(full_df, study,filename):\n",
    "    skf = StratifiedKFold(n_splits=5)\n",
    "    user_label_df =full_df.drop_duplicates('User')\n",
    "    users = user_label_df['User'].to_numpy()\n",
    "    labels = user_label_df['Label'].to_numpy()\n",
    "    for fold,(train_index, test_index) in enumerate(skf.split(users, labels)):\n",
    "            train_users = [users[f] for f in train_index]\n",
    "            test_users = [users[f] for f in test_index]\n",
    "            train_ids = train_df.index[train_df['User'].isin(train_users)].to_list()\n",
    "            train_folds = full_df[full_df['User'].isin(train_users)].copy()\n",
    "            train_folds = train_folds.sample(frac=1, random_state=seed).reset_index(drop=True) \n",
    "\n",
    "            test_folds = full_df[full_df['User'].isin(test_users)].copy()\n",
    "            test_folds = pd.concat([test_folds,unused_df])\n",
    "            #X_train = pd.DataFrame(train_folds['Vector'].values.tolist(), index = train_folds.index)\n",
    "            #y_train = train_folds['Label']\n",
    "            train_data = torch.utils.data.Subset(train_ds, train_ids)\n",
    "            \n",
    "            trainloader = torch.utils.data.DataLoader(\n",
    "                            train_data, \n",
    "                            batch_size=32, \n",
    "                            shuffle=True)\n",
    "            model = train_nn(trainloader, study)\n",
    "            model.eval()\n",
    "            print(f\"model for fold {fold} trained\")\n",
    "            true_label=test_folds[['User','Label']].groupby('User').max().to_dict()['Label']\n",
    "            true_labels = {subject:true_label[subject] for subject in true_label}\n",
    "            with open(f\"{filename}_{fold}.txt\", \"w\") as f:\n",
    "                for user in true_labels:\n",
    "                    f.write(f\"({user},{true_labels[user]})\")\n",
    "                    for window_id in range(ROUND_MAX-ROLLING_WINDOW_SIZE+1):\n",
    "                        test_f = test_folds.query(\"User==@user and Window_id==@window_id\")\n",
    "                        if len(test_f)>0:\n",
    "                            f.write(\" \")\n",
    "                            \n",
    "                            X_test = test_f['Vector'].values.tolist()[0]\n",
    "                            with torch.no_grad():\n",
    "                                X_test = torch.tensor([X_test]).cuda() #added\n",
    "\n",
    "                                \n",
    "                                pred = model(X_test)[0]\n",
    "                                f.write(f\"({round(pred.item())},{pred.item()})\")\n",
    "                    f.write(\"\\n\")\n"
   ]
  },
  {
   "cell_type": "code",
   "execution_count": 15,
   "metadata": {},
   "outputs": [
    {
     "name": "stderr",
     "output_type": "stream",
     "text": [
      "100%|██████████| 4200/4200 [00:58<00:00, 71.86it/s] \n"
     ]
    },
    {
     "name": "stdout",
     "output_type": "stream",
     "text": [
      "Epochs: 1 | Train Loss:  0.0212                 | Train F1:  0.0350\n"
     ]
    },
    {
     "name": "stderr",
     "output_type": "stream",
     "text": [
      "100%|██████████| 4200/4200 [00:14<00:00, 286.72it/s]\n"
     ]
    },
    {
     "name": "stdout",
     "output_type": "stream",
     "text": [
      "Epochs: 2 | Train Loss:  0.0204                 | Train F1:  0.3512\n"
     ]
    },
    {
     "name": "stderr",
     "output_type": "stream",
     "text": [
      "100%|██████████| 4200/4200 [00:14<00:00, 286.95it/s]\n"
     ]
    },
    {
     "name": "stdout",
     "output_type": "stream",
     "text": [
      "Epochs: 3 | Train Loss:  0.0187                 | Train F1:  0.4967\n"
     ]
    },
    {
     "name": "stderr",
     "output_type": "stream",
     "text": [
      "100%|██████████| 4200/4200 [00:14<00:00, 285.33it/s]\n"
     ]
    },
    {
     "name": "stdout",
     "output_type": "stream",
     "text": [
      "Epochs: 4 | Train Loss:  0.0174                 | Train F1:  0.5995\n"
     ]
    },
    {
     "name": "stderr",
     "output_type": "stream",
     "text": [
      "100%|██████████| 4200/4200 [00:14<00:00, 288.11it/s]\n"
     ]
    },
    {
     "name": "stdout",
     "output_type": "stream",
     "text": [
      "Epochs: 5 | Train Loss:  0.0168                 | Train F1:  0.6338\n"
     ]
    },
    {
     "name": "stderr",
     "output_type": "stream",
     "text": [
      "100%|██████████| 4200/4200 [00:14<00:00, 289.20it/s]\n"
     ]
    },
    {
     "name": "stdout",
     "output_type": "stream",
     "text": [
      "Epochs: 6 | Train Loss:  0.0165                 | Train F1:  0.6493\n"
     ]
    },
    {
     "name": "stderr",
     "output_type": "stream",
     "text": [
      "100%|██████████| 4200/4200 [00:14<00:00, 281.80it/s]\n"
     ]
    },
    {
     "name": "stdout",
     "output_type": "stream",
     "text": [
      "Epochs: 7 | Train Loss:  0.0163                 | Train F1:  0.6597\n"
     ]
    },
    {
     "name": "stderr",
     "output_type": "stream",
     "text": [
      "100%|██████████| 4200/4200 [00:14<00:00, 287.21it/s]\n"
     ]
    },
    {
     "name": "stdout",
     "output_type": "stream",
     "text": [
      "Epochs: 8 | Train Loss:  0.0162                 | Train F1:  0.6664\n"
     ]
    },
    {
     "name": "stderr",
     "output_type": "stream",
     "text": [
      "100%|██████████| 4200/4200 [00:14<00:00, 286.40it/s]\n"
     ]
    },
    {
     "name": "stdout",
     "output_type": "stream",
     "text": [
      "Epochs: 9 | Train Loss:  0.0160                 | Train F1:  0.6706\n"
     ]
    },
    {
     "name": "stderr",
     "output_type": "stream",
     "text": [
      "100%|██████████| 4200/4200 [00:14<00:00, 284.81it/s]\n"
     ]
    },
    {
     "name": "stdout",
     "output_type": "stream",
     "text": [
      "Epochs: 10 | Train Loss:  0.0159                 | Train F1:  0.6725\n",
      "model for fold 0 trained\n"
     ]
    },
    {
     "name": "stderr",
     "output_type": "stream",
     "text": [
      "100%|██████████| 4129/4129 [00:22<00:00, 183.62it/s]\n"
     ]
    },
    {
     "name": "stdout",
     "output_type": "stream",
     "text": [
      "Epochs: 1 | Train Loss:  0.0210                 | Train F1:  0.1975\n"
     ]
    },
    {
     "name": "stderr",
     "output_type": "stream",
     "text": [
      "100%|██████████| 4129/4129 [00:14<00:00, 287.99it/s]\n"
     ]
    },
    {
     "name": "stdout",
     "output_type": "stream",
     "text": [
      "Epochs: 2 | Train Loss:  0.0197                 | Train F1:  0.4930\n"
     ]
    },
    {
     "name": "stderr",
     "output_type": "stream",
     "text": [
      "100%|██████████| 4129/4129 [00:14<00:00, 287.48it/s]\n"
     ]
    },
    {
     "name": "stdout",
     "output_type": "stream",
     "text": [
      "Epochs: 3 | Train Loss:  0.0190                 | Train F1:  0.5389\n"
     ]
    },
    {
     "name": "stderr",
     "output_type": "stream",
     "text": [
      "100%|██████████| 4129/4129 [00:14<00:00, 288.40it/s]\n"
     ]
    },
    {
     "name": "stdout",
     "output_type": "stream",
     "text": [
      "Epochs: 4 | Train Loss:  0.0185                 | Train F1:  0.5629\n"
     ]
    },
    {
     "name": "stderr",
     "output_type": "stream",
     "text": [
      "100%|██████████| 4129/4129 [00:14<00:00, 288.26it/s]\n"
     ]
    },
    {
     "name": "stdout",
     "output_type": "stream",
     "text": [
      "Epochs: 5 | Train Loss:  0.0181                 | Train F1:  0.5858\n"
     ]
    },
    {
     "name": "stderr",
     "output_type": "stream",
     "text": [
      "100%|██████████| 4129/4129 [00:14<00:00, 286.14it/s]\n"
     ]
    },
    {
     "name": "stdout",
     "output_type": "stream",
     "text": [
      "Epochs: 6 | Train Loss:  0.0178                 | Train F1:  0.6004\n"
     ]
    },
    {
     "name": "stderr",
     "output_type": "stream",
     "text": [
      "100%|██████████| 4129/4129 [00:14<00:00, 286.15it/s]\n"
     ]
    },
    {
     "name": "stdout",
     "output_type": "stream",
     "text": [
      "Epochs: 7 | Train Loss:  0.0176                 | Train F1:  0.6097\n"
     ]
    },
    {
     "name": "stderr",
     "output_type": "stream",
     "text": [
      "100%|██████████| 4129/4129 [00:14<00:00, 287.18it/s]\n"
     ]
    },
    {
     "name": "stdout",
     "output_type": "stream",
     "text": [
      "Epochs: 8 | Train Loss:  0.0175                 | Train F1:  0.6123\n"
     ]
    },
    {
     "name": "stderr",
     "output_type": "stream",
     "text": [
      "100%|██████████| 4129/4129 [00:14<00:00, 285.92it/s]\n"
     ]
    },
    {
     "name": "stdout",
     "output_type": "stream",
     "text": [
      "Epochs: 9 | Train Loss:  0.0173                 | Train F1:  0.6237\n"
     ]
    },
    {
     "name": "stderr",
     "output_type": "stream",
     "text": [
      "100%|██████████| 4129/4129 [00:14<00:00, 286.88it/s]\n"
     ]
    },
    {
     "name": "stdout",
     "output_type": "stream",
     "text": [
      "Epochs: 10 | Train Loss:  0.0172                 | Train F1:  0.6213\n",
      "model for fold 1 trained\n"
     ]
    },
    {
     "name": "stderr",
     "output_type": "stream",
     "text": [
      "100%|██████████| 4097/4097 [00:16<00:00, 253.26it/s]\n"
     ]
    },
    {
     "name": "stdout",
     "output_type": "stream",
     "text": [
      "Epochs: 1 | Train Loss:  0.0214                 | Train F1:  0.5582\n"
     ]
    },
    {
     "name": "stderr",
     "output_type": "stream",
     "text": [
      "100%|██████████| 4097/4097 [00:14<00:00, 287.69it/s]\n"
     ]
    },
    {
     "name": "stdout",
     "output_type": "stream",
     "text": [
      "Epochs: 2 | Train Loss:  0.0197                 | Train F1:  0.4878\n"
     ]
    },
    {
     "name": "stderr",
     "output_type": "stream",
     "text": [
      "100%|██████████| 4097/4097 [00:14<00:00, 289.23it/s]\n"
     ]
    },
    {
     "name": "stdout",
     "output_type": "stream",
     "text": [
      "Epochs: 3 | Train Loss:  0.0185                 | Train F1:  0.6138\n"
     ]
    },
    {
     "name": "stderr",
     "output_type": "stream",
     "text": [
      "100%|██████████| 4097/4097 [00:14<00:00, 287.99it/s]\n"
     ]
    },
    {
     "name": "stdout",
     "output_type": "stream",
     "text": [
      "Epochs: 4 | Train Loss:  0.0179                 | Train F1:  0.6355\n"
     ]
    },
    {
     "name": "stderr",
     "output_type": "stream",
     "text": [
      "100%|██████████| 4097/4097 [00:14<00:00, 287.40it/s]\n"
     ]
    },
    {
     "name": "stdout",
     "output_type": "stream",
     "text": [
      "Epochs: 5 | Train Loss:  0.0176                 | Train F1:  0.6459\n"
     ]
    },
    {
     "name": "stderr",
     "output_type": "stream",
     "text": [
      "100%|██████████| 4097/4097 [00:14<00:00, 287.19it/s]\n"
     ]
    },
    {
     "name": "stdout",
     "output_type": "stream",
     "text": [
      "Epochs: 6 | Train Loss:  0.0173                 | Train F1:  0.6488\n"
     ]
    },
    {
     "name": "stderr",
     "output_type": "stream",
     "text": [
      "100%|██████████| 4097/4097 [00:14<00:00, 290.90it/s]\n"
     ]
    },
    {
     "name": "stdout",
     "output_type": "stream",
     "text": [
      "Epochs: 7 | Train Loss:  0.0169                 | Train F1:  0.6507\n"
     ]
    },
    {
     "name": "stderr",
     "output_type": "stream",
     "text": [
      "100%|██████████| 4097/4097 [00:14<00:00, 287.52it/s]\n"
     ]
    },
    {
     "name": "stdout",
     "output_type": "stream",
     "text": [
      "Epochs: 8 | Train Loss:  0.0166                 | Train F1:  0.6552\n"
     ]
    },
    {
     "name": "stderr",
     "output_type": "stream",
     "text": [
      "100%|██████████| 4097/4097 [00:14<00:00, 286.77it/s]\n"
     ]
    },
    {
     "name": "stdout",
     "output_type": "stream",
     "text": [
      "Epochs: 9 | Train Loss:  0.0165                 | Train F1:  0.6654\n"
     ]
    },
    {
     "name": "stderr",
     "output_type": "stream",
     "text": [
      "100%|██████████| 4097/4097 [00:14<00:00, 287.95it/s]\n"
     ]
    },
    {
     "name": "stdout",
     "output_type": "stream",
     "text": [
      "Epochs: 10 | Train Loss:  0.0164                 | Train F1:  0.7010\n",
      "model for fold 2 trained\n"
     ]
    },
    {
     "name": "stderr",
     "output_type": "stream",
     "text": [
      "100%|██████████| 3904/3904 [00:30<00:00, 126.80it/s]\n"
     ]
    },
    {
     "name": "stdout",
     "output_type": "stream",
     "text": [
      "Epochs: 1 | Train Loss:  0.0222                 | Train F1:  0.5476\n"
     ]
    },
    {
     "name": "stderr",
     "output_type": "stream",
     "text": [
      "100%|██████████| 3904/3904 [00:13<00:00, 288.95it/s]\n"
     ]
    },
    {
     "name": "stdout",
     "output_type": "stream",
     "text": [
      "Epochs: 2 | Train Loss:  0.0208                 | Train F1:  0.4290\n"
     ]
    },
    {
     "name": "stderr",
     "output_type": "stream",
     "text": [
      "100%|██████████| 3904/3904 [00:13<00:00, 288.86it/s]\n"
     ]
    },
    {
     "name": "stdout",
     "output_type": "stream",
     "text": [
      "Epochs: 3 | Train Loss:  0.0192                 | Train F1:  0.5153\n"
     ]
    },
    {
     "name": "stderr",
     "output_type": "stream",
     "text": [
      "100%|██████████| 3904/3904 [00:13<00:00, 288.29it/s]\n"
     ]
    },
    {
     "name": "stdout",
     "output_type": "stream",
     "text": [
      "Epochs: 4 | Train Loss:  0.0180                 | Train F1:  0.5941\n"
     ]
    },
    {
     "name": "stderr",
     "output_type": "stream",
     "text": [
      "100%|██████████| 3904/3904 [00:13<00:00, 288.30it/s]\n"
     ]
    },
    {
     "name": "stdout",
     "output_type": "stream",
     "text": [
      "Epochs: 5 | Train Loss:  0.0173                 | Train F1:  0.6283\n"
     ]
    },
    {
     "name": "stderr",
     "output_type": "stream",
     "text": [
      "100%|██████████| 3904/3904 [00:13<00:00, 288.56it/s]\n"
     ]
    },
    {
     "name": "stdout",
     "output_type": "stream",
     "text": [
      "Epochs: 6 | Train Loss:  0.0168                 | Train F1:  0.6459\n"
     ]
    },
    {
     "name": "stderr",
     "output_type": "stream",
     "text": [
      "100%|██████████| 3904/3904 [00:13<00:00, 288.58it/s]\n"
     ]
    },
    {
     "name": "stdout",
     "output_type": "stream",
     "text": [
      "Epochs: 7 | Train Loss:  0.0165                 | Train F1:  0.6646\n"
     ]
    },
    {
     "name": "stderr",
     "output_type": "stream",
     "text": [
      "100%|██████████| 3904/3904 [00:13<00:00, 289.59it/s]\n"
     ]
    },
    {
     "name": "stdout",
     "output_type": "stream",
     "text": [
      "Epochs: 8 | Train Loss:  0.0162                 | Train F1:  0.6742\n"
     ]
    },
    {
     "name": "stderr",
     "output_type": "stream",
     "text": [
      "100%|██████████| 3904/3904 [00:13<00:00, 287.67it/s]\n"
     ]
    },
    {
     "name": "stdout",
     "output_type": "stream",
     "text": [
      "Epochs: 9 | Train Loss:  0.0160                 | Train F1:  0.6849\n"
     ]
    },
    {
     "name": "stderr",
     "output_type": "stream",
     "text": [
      "100%|██████████| 3904/3904 [00:13<00:00, 288.14it/s]\n"
     ]
    },
    {
     "name": "stdout",
     "output_type": "stream",
     "text": [
      "Epochs: 10 | Train Loss:  0.0158                 | Train F1:  0.6890\n",
      "model for fold 3 trained\n"
     ]
    },
    {
     "name": "stderr",
     "output_type": "stream",
     "text": [
      "100%|██████████| 5443/5443 [00:23<00:00, 230.42it/s]\n"
     ]
    },
    {
     "name": "stdout",
     "output_type": "stream",
     "text": [
      "Epochs: 1 | Train Loss:  0.0206                 | Train F1:  0.3359\n"
     ]
    },
    {
     "name": "stderr",
     "output_type": "stream",
     "text": [
      "100%|██████████| 5443/5443 [00:19<00:00, 276.24it/s]\n"
     ]
    },
    {
     "name": "stdout",
     "output_type": "stream",
     "text": [
      "Epochs: 2 | Train Loss:  0.0186                 | Train F1:  0.5510\n"
     ]
    },
    {
     "name": "stderr",
     "output_type": "stream",
     "text": [
      "100%|██████████| 5443/5443 [00:19<00:00, 274.12it/s]\n"
     ]
    },
    {
     "name": "stdout",
     "output_type": "stream",
     "text": [
      "Epochs: 3 | Train Loss:  0.0177                 | Train F1:  0.6123\n"
     ]
    },
    {
     "name": "stderr",
     "output_type": "stream",
     "text": [
      "100%|██████████| 5443/5443 [00:19<00:00, 274.27it/s]\n"
     ]
    },
    {
     "name": "stdout",
     "output_type": "stream",
     "text": [
      "Epochs: 4 | Train Loss:  0.0173                 | Train F1:  0.6334\n"
     ]
    },
    {
     "name": "stderr",
     "output_type": "stream",
     "text": [
      "100%|██████████| 5443/5443 [00:19<00:00, 274.71it/s]\n"
     ]
    },
    {
     "name": "stdout",
     "output_type": "stream",
     "text": [
      "Epochs: 5 | Train Loss:  0.0170                 | Train F1:  0.6495\n"
     ]
    },
    {
     "name": "stderr",
     "output_type": "stream",
     "text": [
      "100%|██████████| 5443/5443 [00:19<00:00, 273.26it/s]\n"
     ]
    },
    {
     "name": "stdout",
     "output_type": "stream",
     "text": [
      "Epochs: 6 | Train Loss:  0.0168                 | Train F1:  0.6528\n"
     ]
    },
    {
     "name": "stderr",
     "output_type": "stream",
     "text": [
      "100%|██████████| 5443/5443 [00:19<00:00, 276.11it/s]\n"
     ]
    },
    {
     "name": "stdout",
     "output_type": "stream",
     "text": [
      "Epochs: 7 | Train Loss:  0.0167                 | Train F1:  0.6507\n"
     ]
    },
    {
     "name": "stderr",
     "output_type": "stream",
     "text": [
      "100%|██████████| 5443/5443 [00:19<00:00, 274.66it/s]\n"
     ]
    },
    {
     "name": "stdout",
     "output_type": "stream",
     "text": [
      "Epochs: 8 | Train Loss:  0.0166                 | Train F1:  0.6546\n"
     ]
    },
    {
     "name": "stderr",
     "output_type": "stream",
     "text": [
      "100%|██████████| 5443/5443 [00:19<00:00, 273.98it/s]\n"
     ]
    },
    {
     "name": "stdout",
     "output_type": "stream",
     "text": [
      "Epochs: 9 | Train Loss:  0.0164                 | Train F1:  0.6589\n"
     ]
    },
    {
     "name": "stderr",
     "output_type": "stream",
     "text": [
      "100%|██████████| 5443/5443 [00:19<00:00, 276.50it/s]\n"
     ]
    },
    {
     "name": "stdout",
     "output_type": "stream",
     "text": [
      "Epochs: 10 | Train Loss:  0.0164                 | Train F1:  0.6574\n",
      "model for fold 4 trained\n"
     ]
    }
   ],
   "source": [
    "nn_cv_classification(full_df,study, \"NN\")\n",
    "#cv_classification(full_df,model, FEATURE_TYPE)\n",
    "\n"
   ]
  },
  {
   "cell_type": "code",
   "execution_count": 10,
   "metadata": {},
   "outputs": [],
   "source": [
    "import ast\n",
    "from sklearn.metrics import f1_score\n",
    "def criterion_evaluation(filename, max_round, criterion, threshold, conf_threshold=0):\n",
    "    f1_scores = []\n",
    "    for fold in range(5):\n",
    "        with open(f\"{filename}_{fold}.txt\", \"r\") as f:\n",
    "            true_labels = []\n",
    "            classifications = []\n",
    "            for line in f:\n",
    "                splt = line[:-1].split(\" \")\n",
    "                splt = [ast.literal_eval(t) for t in splt]\n",
    "                user, label = splt[0]\n",
    "                true_labels.append(label)\n",
    "                classification = 0\n",
    "                count = 0\n",
    "                for i, (pred, conf) in enumerate(splt[1:]):\n",
    "                    if (i + 10)>max_round:\n",
    "                        break\n",
    "                    if criterion == \"confidence\":#  and i%10==0:\n",
    "                        if pred==1 and conf >= threshold :\n",
    "                            classification= 1\n",
    "                    if criterion == \"ratio\" and conf >=conf_threshold:# and i%10==0:\n",
    "                        count = count + pred\n",
    "                        if count/(10 + i) >= threshold:\n",
    "                            classification=1\n",
    "                    if criterion == \"consecutive\":# and i%10==0: ##added stride\n",
    "                        if pred==1 and conf >=conf_threshold:\n",
    "                            count = count + 1\n",
    "                        else:\n",
    "                            count = 0\n",
    "                        if count == threshold:\n",
    "                            classification = 1\n",
    "                    \n",
    "                classifications.append(classification)\n",
    "        f1_scores.append(f1_score(true_labels,classifications))\n",
    "    return f1_scores"
   ]
  },
  {
   "cell_type": "code",
   "execution_count": 11,
   "metadata": {},
   "outputs": [],
   "source": [
    "max_round=100"
   ]
  },
  {
   "cell_type": "code",
   "execution_count": 12,
   "metadata": {},
   "outputs": [],
   "source": [
    "def objective_confidence(trial):\n",
    "    params = {\n",
    "        \"threshold\": trial.suggest_float(\"threshold\", 0.5, 1)\n",
    "    }\n",
    "    return np.mean(criterion_evaluation(FEATURE_TYPE,max_round,\"confidence\", params[\"threshold\"]))"
   ]
  },
  {
   "cell_type": "code",
   "execution_count": 13,
   "metadata": {},
   "outputs": [],
   "source": [
    "def objective_ratio(trial):\n",
    "    params = {\n",
    "        \"threshold\": trial.suggest_float(\"threshold\", 0.01, 0.75)\n",
    "    }\n",
    "    return np.mean(criterion_evaluation(FEATURE_TYPE,max_round,\"ratio\", params[\"threshold\"],conf_threshold=0.994))\n"
   ]
  },
  {
   "cell_type": "code",
   "execution_count": 14,
   "metadata": {},
   "outputs": [],
   "source": [
    "def objective_consecutive(trial):\n",
    "    params = {\n",
    "        \"threshold\": trial.suggest_int(\"threshold\", 2,max_round-10)\n",
    "    }\n",
    "    return np.mean(criterion_evaluation(FEATURE_TYPE,max_round,\"consecutive\", params[\"threshold\"], conf_threshold=0.994))\n"
   ]
  },
  {
   "cell_type": "code",
   "execution_count": 15,
   "metadata": {},
   "outputs": [
    {
     "name": "stderr",
     "output_type": "stream",
     "text": [
      "\u001b[32m[I 2022-06-21 16:54:13,659]\u001b[0m A new study created in memory with name: BoW_confidence\u001b[0m\n",
      "\u001b[33m[W 2022-06-21 16:54:13,697]\u001b[0m Trial 0 failed because of the following error: ValueError('malformed node or string: <ast.Name object at 0x000001E9AC2BEE50>')\u001b[0m\n",
      "Traceback (most recent call last):\n",
      "  File \"c:\\Users\\rodri\\AppData\\Local\\Programs\\Python\\Python39\\lib\\site-packages\\optuna\\study\\_optimize.py\", line 213, in _run_trial\n",
      "    value_or_values = func(trial)\n",
      "  File \"C:\\Users\\rodri\\AppData\\Local\\Temp\\ipykernel_11920\\1469894624.py\", line 5, in objective_confidence\n",
      "    return np.mean(criterion_evaluation(FEATURE_TYPE,max_round,\"confidence\", params[\"threshold\"]))\n",
      "  File \"C:\\Users\\rodri\\AppData\\Local\\Temp\\ipykernel_11920\\706824801.py\", line 11, in criterion_evaluation\n",
      "    splt = [ast.literal_eval(t) for t in splt]\n",
      "  File \"C:\\Users\\rodri\\AppData\\Local\\Temp\\ipykernel_11920\\706824801.py\", line 11, in <listcomp>\n",
      "    splt = [ast.literal_eval(t) for t in splt]\n",
      "  File \"c:\\Users\\rodri\\AppData\\Local\\Programs\\Python\\Python39\\lib\\ast.py\", line 105, in literal_eval\n",
      "    return _convert(node_or_string)\n",
      "  File \"c:\\Users\\rodri\\AppData\\Local\\Programs\\Python\\Python39\\lib\\ast.py\", line 83, in _convert\n",
      "    return tuple(map(_convert, node.elts))\n",
      "  File \"c:\\Users\\rodri\\AppData\\Local\\Programs\\Python\\Python39\\lib\\ast.py\", line 104, in _convert\n",
      "    return _convert_signed_num(node)\n",
      "  File \"c:\\Users\\rodri\\AppData\\Local\\Programs\\Python\\Python39\\lib\\ast.py\", line 78, in _convert_signed_num\n",
      "    return _convert_num(node)\n",
      "  File \"c:\\Users\\rodri\\AppData\\Local\\Programs\\Python\\Python39\\lib\\ast.py\", line 69, in _convert_num\n",
      "    _raise_malformed_node(node)\n",
      "  File \"c:\\Users\\rodri\\AppData\\Local\\Programs\\Python\\Python39\\lib\\ast.py\", line 66, in _raise_malformed_node\n",
      "    raise ValueError(f'malformed node or string: {node!r}')\n",
      "ValueError: malformed node or string: <ast.Name object at 0x000001E9AC2BEE50>\n"
     ]
    },
    {
     "ename": "ValueError",
     "evalue": "malformed node or string: <ast.Name object at 0x000001E9AC2BEE50>",
     "output_type": "error",
     "traceback": [
      "\u001b[1;31m---------------------------------------------------------------------------\u001b[0m",
      "\u001b[1;31mValueError\u001b[0m                                Traceback (most recent call last)",
      "\u001b[1;32mc:\\Users\\rodri\\Desktop\\RedditShrink\\improved_T2\\userclassifier.ipynb Cell 23'\u001b[0m in \u001b[0;36m<cell line: 4>\u001b[1;34m()\u001b[0m\n\u001b[0;32m      <a href='vscode-notebook-cell:/c%3A/Users/rodri/Desktop/RedditShrink/improved_T2/userclassifier.ipynb#ch0000022?line=0'>1</a>\u001b[0m study \u001b[39m=\u001b[39m optuna\u001b[39m.\u001b[39mcreate_study(study_name\u001b[39m=\u001b[39m\u001b[39mf\u001b[39m\u001b[39m\"\u001b[39m\u001b[39m{\u001b[39;00mFEATURE_TYPE\u001b[39m}\u001b[39;00m\u001b[39m_confidence\u001b[39m\u001b[39m\"\u001b[39m,direction\u001b[39m=\u001b[39m\u001b[39m\"\u001b[39m\u001b[39mmaximize\u001b[39m\u001b[39m\"\u001b[39m, sampler\u001b[39m=\u001b[39moptuna\u001b[39m.\u001b[39msamplers\u001b[39m.\u001b[39mTPESampler(), pruner\u001b[39m=\u001b[39moptuna\u001b[39m.\u001b[39mpruners\u001b[39m.\u001b[39mNopPruner())\n\u001b[0;32m      <a href='vscode-notebook-cell:/c%3A/Users/rodri/Desktop/RedditShrink/improved_T2/userclassifier.ipynb#ch0000022?line=1'>2</a>\u001b[0m \u001b[39m#study = joblib.load(f\"{FEATURE_TYPE}_confidence.pkl\")\u001b[39;00m\n\u001b[1;32m----> <a href='vscode-notebook-cell:/c%3A/Users/rodri/Desktop/RedditShrink/improved_T2/userclassifier.ipynb#ch0000022?line=3'>4</a>\u001b[0m study\u001b[39m.\u001b[39;49moptimize(objective_confidence, n_trials\u001b[39m=\u001b[39;49m\u001b[39m100\u001b[39;49m, timeout\u001b[39m=\u001b[39;49m(\u001b[39m60\u001b[39;49m\u001b[39m*\u001b[39;49m\u001b[39m60\u001b[39;49m\u001b[39m*\u001b[39;49m\u001b[39m3\u001b[39;49m), gc_after_trial\u001b[39m=\u001b[39;49m\u001b[39mTrue\u001b[39;49;00m)\n\u001b[0;32m      <a href='vscode-notebook-cell:/c%3A/Users/rodri/Desktop/RedditShrink/improved_T2/userclassifier.ipynb#ch0000022?line=4'>5</a>\u001b[0m joblib\u001b[39m.\u001b[39mdump(study, \u001b[39mf\u001b[39m\u001b[39m\"\u001b[39m\u001b[39m{\u001b[39;00mFEATURE_TYPE\u001b[39m}\u001b[39;00m\u001b[39m_confidence_\u001b[39m\u001b[39m{\u001b[39;00mmax_round\u001b[39m}\u001b[39;00m\u001b[39m.pkl\u001b[39m\u001b[39m\"\u001b[39m)\n\u001b[0;32m      <a href='vscode-notebook-cell:/c%3A/Users/rodri/Desktop/RedditShrink/improved_T2/userclassifier.ipynb#ch0000022?line=5'>6</a>\u001b[0m study\u001b[39m.\u001b[39mbest_trial\u001b[39m.\u001b[39mparams, study\u001b[39m.\u001b[39mbest_value\n",
      "File \u001b[1;32mc:\\Users\\rodri\\AppData\\Local\\Programs\\Python\\Python39\\lib\\site-packages\\optuna\\study\\study.py:400\u001b[0m, in \u001b[0;36mStudy.optimize\u001b[1;34m(self, func, n_trials, timeout, n_jobs, catch, callbacks, gc_after_trial, show_progress_bar)\u001b[0m\n\u001b[0;32m    392\u001b[0m \u001b[39mif\u001b[39;00m n_jobs \u001b[39m!=\u001b[39m \u001b[39m1\u001b[39m:\n\u001b[0;32m    393\u001b[0m     warnings\u001b[39m.\u001b[39mwarn(\n\u001b[0;32m    394\u001b[0m         \u001b[39m\"\u001b[39m\u001b[39m`n_jobs` argument has been deprecated in v2.7.0. \u001b[39m\u001b[39m\"\u001b[39m\n\u001b[0;32m    395\u001b[0m         \u001b[39m\"\u001b[39m\u001b[39mThis feature will be removed in v4.0.0. \u001b[39m\u001b[39m\"\u001b[39m\n\u001b[0;32m    396\u001b[0m         \u001b[39m\"\u001b[39m\u001b[39mSee https://github.com/optuna/optuna/releases/tag/v2.7.0.\u001b[39m\u001b[39m\"\u001b[39m,\n\u001b[0;32m    397\u001b[0m         \u001b[39mFutureWarning\u001b[39;00m,\n\u001b[0;32m    398\u001b[0m     )\n\u001b[1;32m--> 400\u001b[0m _optimize(\n\u001b[0;32m    401\u001b[0m     study\u001b[39m=\u001b[39;49m\u001b[39mself\u001b[39;49m,\n\u001b[0;32m    402\u001b[0m     func\u001b[39m=\u001b[39;49mfunc,\n\u001b[0;32m    403\u001b[0m     n_trials\u001b[39m=\u001b[39;49mn_trials,\n\u001b[0;32m    404\u001b[0m     timeout\u001b[39m=\u001b[39;49mtimeout,\n\u001b[0;32m    405\u001b[0m     n_jobs\u001b[39m=\u001b[39;49mn_jobs,\n\u001b[0;32m    406\u001b[0m     catch\u001b[39m=\u001b[39;49mcatch,\n\u001b[0;32m    407\u001b[0m     callbacks\u001b[39m=\u001b[39;49mcallbacks,\n\u001b[0;32m    408\u001b[0m     gc_after_trial\u001b[39m=\u001b[39;49mgc_after_trial,\n\u001b[0;32m    409\u001b[0m     show_progress_bar\u001b[39m=\u001b[39;49mshow_progress_bar,\n\u001b[0;32m    410\u001b[0m )\n",
      "File \u001b[1;32mc:\\Users\\rodri\\AppData\\Local\\Programs\\Python\\Python39\\lib\\site-packages\\optuna\\study\\_optimize.py:66\u001b[0m, in \u001b[0;36m_optimize\u001b[1;34m(study, func, n_trials, timeout, n_jobs, catch, callbacks, gc_after_trial, show_progress_bar)\u001b[0m\n\u001b[0;32m     64\u001b[0m \u001b[39mtry\u001b[39;00m:\n\u001b[0;32m     65\u001b[0m     \u001b[39mif\u001b[39;00m n_jobs \u001b[39m==\u001b[39m \u001b[39m1\u001b[39m:\n\u001b[1;32m---> 66\u001b[0m         _optimize_sequential(\n\u001b[0;32m     67\u001b[0m             study,\n\u001b[0;32m     68\u001b[0m             func,\n\u001b[0;32m     69\u001b[0m             n_trials,\n\u001b[0;32m     70\u001b[0m             timeout,\n\u001b[0;32m     71\u001b[0m             catch,\n\u001b[0;32m     72\u001b[0m             callbacks,\n\u001b[0;32m     73\u001b[0m             gc_after_trial,\n\u001b[0;32m     74\u001b[0m             reseed_sampler_rng\u001b[39m=\u001b[39;49m\u001b[39mFalse\u001b[39;49;00m,\n\u001b[0;32m     75\u001b[0m             time_start\u001b[39m=\u001b[39;49m\u001b[39mNone\u001b[39;49;00m,\n\u001b[0;32m     76\u001b[0m             progress_bar\u001b[39m=\u001b[39;49mprogress_bar,\n\u001b[0;32m     77\u001b[0m         )\n\u001b[0;32m     78\u001b[0m     \u001b[39melse\u001b[39;00m:\n\u001b[0;32m     79\u001b[0m         \u001b[39mif\u001b[39;00m show_progress_bar:\n",
      "File \u001b[1;32mc:\\Users\\rodri\\AppData\\Local\\Programs\\Python\\Python39\\lib\\site-packages\\optuna\\study\\_optimize.py:163\u001b[0m, in \u001b[0;36m_optimize_sequential\u001b[1;34m(study, func, n_trials, timeout, catch, callbacks, gc_after_trial, reseed_sampler_rng, time_start, progress_bar)\u001b[0m\n\u001b[0;32m    160\u001b[0m         \u001b[39mbreak\u001b[39;00m\n\u001b[0;32m    162\u001b[0m \u001b[39mtry\u001b[39;00m:\n\u001b[1;32m--> 163\u001b[0m     trial \u001b[39m=\u001b[39m _run_trial(study, func, catch)\n\u001b[0;32m    164\u001b[0m \u001b[39mexcept\u001b[39;00m \u001b[39mException\u001b[39;00m:\n\u001b[0;32m    165\u001b[0m     \u001b[39mraise\u001b[39;00m\n",
      "File \u001b[1;32mc:\\Users\\rodri\\AppData\\Local\\Programs\\Python\\Python39\\lib\\site-packages\\optuna\\study\\_optimize.py:264\u001b[0m, in \u001b[0;36m_run_trial\u001b[1;34m(study, func, catch)\u001b[0m\n\u001b[0;32m    261\u001b[0m         \u001b[39massert\u001b[39;00m \u001b[39mFalse\u001b[39;00m, \u001b[39m\"\u001b[39m\u001b[39mShould not reach.\u001b[39m\u001b[39m\"\u001b[39m\n\u001b[0;32m    263\u001b[0m \u001b[39mif\u001b[39;00m state \u001b[39m==\u001b[39m TrialState\u001b[39m.\u001b[39mFAIL \u001b[39mand\u001b[39;00m func_err \u001b[39mis\u001b[39;00m \u001b[39mnot\u001b[39;00m \u001b[39mNone\u001b[39;00m \u001b[39mand\u001b[39;00m \u001b[39mnot\u001b[39;00m \u001b[39misinstance\u001b[39m(func_err, catch):\n\u001b[1;32m--> 264\u001b[0m     \u001b[39mraise\u001b[39;00m func_err\n\u001b[0;32m    265\u001b[0m \u001b[39mreturn\u001b[39;00m trial\n",
      "File \u001b[1;32mc:\\Users\\rodri\\AppData\\Local\\Programs\\Python\\Python39\\lib\\site-packages\\optuna\\study\\_optimize.py:213\u001b[0m, in \u001b[0;36m_run_trial\u001b[1;34m(study, func, catch)\u001b[0m\n\u001b[0;32m    210\u001b[0m     thread\u001b[39m.\u001b[39mstart()\n\u001b[0;32m    212\u001b[0m \u001b[39mtry\u001b[39;00m:\n\u001b[1;32m--> 213\u001b[0m     value_or_values \u001b[39m=\u001b[39m func(trial)\n\u001b[0;32m    214\u001b[0m \u001b[39mexcept\u001b[39;00m exceptions\u001b[39m.\u001b[39mTrialPruned \u001b[39mas\u001b[39;00m e:\n\u001b[0;32m    215\u001b[0m     \u001b[39m# TODO(mamu): Handle multi-objective cases.\u001b[39;00m\n\u001b[0;32m    216\u001b[0m     state \u001b[39m=\u001b[39m TrialState\u001b[39m.\u001b[39mPRUNED\n",
      "\u001b[1;32mc:\\Users\\rodri\\Desktop\\RedditShrink\\improved_T2\\userclassifier.ipynb Cell 20'\u001b[0m in \u001b[0;36mobjective_confidence\u001b[1;34m(trial)\u001b[0m\n\u001b[0;32m      <a href='vscode-notebook-cell:/c%3A/Users/rodri/Desktop/RedditShrink/improved_T2/userclassifier.ipynb#ch0000019?line=0'>1</a>\u001b[0m \u001b[39mdef\u001b[39;00m \u001b[39mobjective_confidence\u001b[39m(trial):\n\u001b[0;32m      <a href='vscode-notebook-cell:/c%3A/Users/rodri/Desktop/RedditShrink/improved_T2/userclassifier.ipynb#ch0000019?line=1'>2</a>\u001b[0m     params \u001b[39m=\u001b[39m {\n\u001b[0;32m      <a href='vscode-notebook-cell:/c%3A/Users/rodri/Desktop/RedditShrink/improved_T2/userclassifier.ipynb#ch0000019?line=2'>3</a>\u001b[0m         \u001b[39m\"\u001b[39m\u001b[39mthreshold\u001b[39m\u001b[39m\"\u001b[39m: trial\u001b[39m.\u001b[39msuggest_float(\u001b[39m\"\u001b[39m\u001b[39mthreshold\u001b[39m\u001b[39m\"\u001b[39m, \u001b[39m0.5\u001b[39m, \u001b[39m1\u001b[39m)\n\u001b[0;32m      <a href='vscode-notebook-cell:/c%3A/Users/rodri/Desktop/RedditShrink/improved_T2/userclassifier.ipynb#ch0000019?line=3'>4</a>\u001b[0m     }\n\u001b[1;32m----> <a href='vscode-notebook-cell:/c%3A/Users/rodri/Desktop/RedditShrink/improved_T2/userclassifier.ipynb#ch0000019?line=4'>5</a>\u001b[0m     \u001b[39mreturn\u001b[39;00m np\u001b[39m.\u001b[39mmean(criterion_evaluation(FEATURE_TYPE,max_round,\u001b[39m\"\u001b[39;49m\u001b[39mconfidence\u001b[39;49m\u001b[39m\"\u001b[39;49m, params[\u001b[39m\"\u001b[39;49m\u001b[39mthreshold\u001b[39;49m\u001b[39m\"\u001b[39;49m]))\n",
      "\u001b[1;32mc:\\Users\\rodri\\Desktop\\RedditShrink\\improved_T2\\userclassifier.ipynb Cell 18'\u001b[0m in \u001b[0;36mcriterion_evaluation\u001b[1;34m(filename, max_round, criterion, threshold, conf_threshold)\u001b[0m\n\u001b[0;32m      <a href='vscode-notebook-cell:/c%3A/Users/rodri/Desktop/RedditShrink/improved_T2/userclassifier.ipynb#ch0000017?line=8'>9</a>\u001b[0m \u001b[39mfor\u001b[39;00m line \u001b[39min\u001b[39;00m f:\n\u001b[0;32m     <a href='vscode-notebook-cell:/c%3A/Users/rodri/Desktop/RedditShrink/improved_T2/userclassifier.ipynb#ch0000017?line=9'>10</a>\u001b[0m     splt \u001b[39m=\u001b[39m line[:\u001b[39m-\u001b[39m\u001b[39m1\u001b[39m]\u001b[39m.\u001b[39msplit(\u001b[39m\"\u001b[39m\u001b[39m \u001b[39m\u001b[39m\"\u001b[39m)\n\u001b[1;32m---> <a href='vscode-notebook-cell:/c%3A/Users/rodri/Desktop/RedditShrink/improved_T2/userclassifier.ipynb#ch0000017?line=10'>11</a>\u001b[0m     splt \u001b[39m=\u001b[39m [ast\u001b[39m.\u001b[39mliteral_eval(t) \u001b[39mfor\u001b[39;00m t \u001b[39min\u001b[39;00m splt]\n\u001b[0;32m     <a href='vscode-notebook-cell:/c%3A/Users/rodri/Desktop/RedditShrink/improved_T2/userclassifier.ipynb#ch0000017?line=11'>12</a>\u001b[0m     user, label \u001b[39m=\u001b[39m splt[\u001b[39m0\u001b[39m]\n\u001b[0;32m     <a href='vscode-notebook-cell:/c%3A/Users/rodri/Desktop/RedditShrink/improved_T2/userclassifier.ipynb#ch0000017?line=12'>13</a>\u001b[0m     true_labels\u001b[39m.\u001b[39mappend(label)\n",
      "\u001b[1;32mc:\\Users\\rodri\\Desktop\\RedditShrink\\improved_T2\\userclassifier.ipynb Cell 18'\u001b[0m in \u001b[0;36m<listcomp>\u001b[1;34m(.0)\u001b[0m\n\u001b[0;32m      <a href='vscode-notebook-cell:/c%3A/Users/rodri/Desktop/RedditShrink/improved_T2/userclassifier.ipynb#ch0000017?line=8'>9</a>\u001b[0m \u001b[39mfor\u001b[39;00m line \u001b[39min\u001b[39;00m f:\n\u001b[0;32m     <a href='vscode-notebook-cell:/c%3A/Users/rodri/Desktop/RedditShrink/improved_T2/userclassifier.ipynb#ch0000017?line=9'>10</a>\u001b[0m     splt \u001b[39m=\u001b[39m line[:\u001b[39m-\u001b[39m\u001b[39m1\u001b[39m]\u001b[39m.\u001b[39msplit(\u001b[39m\"\u001b[39m\u001b[39m \u001b[39m\u001b[39m\"\u001b[39m)\n\u001b[1;32m---> <a href='vscode-notebook-cell:/c%3A/Users/rodri/Desktop/RedditShrink/improved_T2/userclassifier.ipynb#ch0000017?line=10'>11</a>\u001b[0m     splt \u001b[39m=\u001b[39m [ast\u001b[39m.\u001b[39;49mliteral_eval(t) \u001b[39mfor\u001b[39;00m t \u001b[39min\u001b[39;00m splt]\n\u001b[0;32m     <a href='vscode-notebook-cell:/c%3A/Users/rodri/Desktop/RedditShrink/improved_T2/userclassifier.ipynb#ch0000017?line=11'>12</a>\u001b[0m     user, label \u001b[39m=\u001b[39m splt[\u001b[39m0\u001b[39m]\n\u001b[0;32m     <a href='vscode-notebook-cell:/c%3A/Users/rodri/Desktop/RedditShrink/improved_T2/userclassifier.ipynb#ch0000017?line=12'>13</a>\u001b[0m     true_labels\u001b[39m.\u001b[39mappend(label)\n",
      "File \u001b[1;32mc:\\Users\\rodri\\AppData\\Local\\Programs\\Python\\Python39\\lib\\ast.py:105\u001b[0m, in \u001b[0;36mliteral_eval\u001b[1;34m(node_or_string)\u001b[0m\n\u001b[0;32m    103\u001b[0m                 \u001b[39mreturn\u001b[39;00m left \u001b[39m-\u001b[39m right\n\u001b[0;32m    104\u001b[0m     \u001b[39mreturn\u001b[39;00m _convert_signed_num(node)\n\u001b[1;32m--> 105\u001b[0m \u001b[39mreturn\u001b[39;00m _convert(node_or_string)\n",
      "File \u001b[1;32mc:\\Users\\rodri\\AppData\\Local\\Programs\\Python\\Python39\\lib\\ast.py:83\u001b[0m, in \u001b[0;36mliteral_eval.<locals>._convert\u001b[1;34m(node)\u001b[0m\n\u001b[0;32m     81\u001b[0m     \u001b[39mreturn\u001b[39;00m node\u001b[39m.\u001b[39mvalue\n\u001b[0;32m     82\u001b[0m \u001b[39melif\u001b[39;00m \u001b[39misinstance\u001b[39m(node, Tuple):\n\u001b[1;32m---> 83\u001b[0m     \u001b[39mreturn\u001b[39;00m \u001b[39mtuple\u001b[39;49m(\u001b[39mmap\u001b[39;49m(_convert, node\u001b[39m.\u001b[39;49melts))\n\u001b[0;32m     84\u001b[0m \u001b[39melif\u001b[39;00m \u001b[39misinstance\u001b[39m(node, List):\n\u001b[0;32m     85\u001b[0m     \u001b[39mreturn\u001b[39;00m \u001b[39mlist\u001b[39m(\u001b[39mmap\u001b[39m(_convert, node\u001b[39m.\u001b[39melts))\n",
      "File \u001b[1;32mc:\\Users\\rodri\\AppData\\Local\\Programs\\Python\\Python39\\lib\\ast.py:104\u001b[0m, in \u001b[0;36mliteral_eval.<locals>._convert\u001b[1;34m(node)\u001b[0m\n\u001b[0;32m    102\u001b[0m         \u001b[39melse\u001b[39;00m:\n\u001b[0;32m    103\u001b[0m             \u001b[39mreturn\u001b[39;00m left \u001b[39m-\u001b[39m right\n\u001b[1;32m--> 104\u001b[0m \u001b[39mreturn\u001b[39;00m _convert_signed_num(node)\n",
      "File \u001b[1;32mc:\\Users\\rodri\\AppData\\Local\\Programs\\Python\\Python39\\lib\\ast.py:78\u001b[0m, in \u001b[0;36mliteral_eval.<locals>._convert_signed_num\u001b[1;34m(node)\u001b[0m\n\u001b[0;32m     76\u001b[0m     \u001b[39melse\u001b[39;00m:\n\u001b[0;32m     77\u001b[0m         \u001b[39mreturn\u001b[39;00m \u001b[39m-\u001b[39m operand\n\u001b[1;32m---> 78\u001b[0m \u001b[39mreturn\u001b[39;00m _convert_num(node)\n",
      "File \u001b[1;32mc:\\Users\\rodri\\AppData\\Local\\Programs\\Python\\Python39\\lib\\ast.py:69\u001b[0m, in \u001b[0;36mliteral_eval.<locals>._convert_num\u001b[1;34m(node)\u001b[0m\n\u001b[0;32m     67\u001b[0m \u001b[39mdef\u001b[39;00m \u001b[39m_convert_num\u001b[39m(node):\n\u001b[0;32m     68\u001b[0m     \u001b[39mif\u001b[39;00m \u001b[39mnot\u001b[39;00m \u001b[39misinstance\u001b[39m(node, Constant) \u001b[39mor\u001b[39;00m \u001b[39mtype\u001b[39m(node\u001b[39m.\u001b[39mvalue) \u001b[39mnot\u001b[39;00m \u001b[39min\u001b[39;00m (\u001b[39mint\u001b[39m, \u001b[39mfloat\u001b[39m, \u001b[39mcomplex\u001b[39m):\n\u001b[1;32m---> 69\u001b[0m         _raise_malformed_node(node)\n\u001b[0;32m     70\u001b[0m     \u001b[39mreturn\u001b[39;00m node\u001b[39m.\u001b[39mvalue\n",
      "File \u001b[1;32mc:\\Users\\rodri\\AppData\\Local\\Programs\\Python\\Python39\\lib\\ast.py:66\u001b[0m, in \u001b[0;36mliteral_eval.<locals>._raise_malformed_node\u001b[1;34m(node)\u001b[0m\n\u001b[0;32m     65\u001b[0m \u001b[39mdef\u001b[39;00m \u001b[39m_raise_malformed_node\u001b[39m(node):\n\u001b[1;32m---> 66\u001b[0m     \u001b[39mraise\u001b[39;00m \u001b[39mValueError\u001b[39;00m(\u001b[39mf\u001b[39m\u001b[39m'\u001b[39m\u001b[39mmalformed node or string: \u001b[39m\u001b[39m{\u001b[39;00mnode\u001b[39m!r}\u001b[39;00m\u001b[39m'\u001b[39m)\n",
      "\u001b[1;31mValueError\u001b[0m: malformed node or string: <ast.Name object at 0x000001E9AC2BEE50>"
     ]
    }
   ],
   "source": [
    "study = optuna.create_study(study_name=f\"{FEATURE_TYPE}_confidence\",direction=\"maximize\", sampler=optuna.samplers.TPESampler(), pruner=optuna.pruners.NopPruner())\n",
    "#study = joblib.load(f\"{FEATURE_TYPE}_confidence.pkl\")\n",
    "\n",
    "study.optimize(objective_confidence, n_trials=100, timeout=(60*60*3), gc_after_trial=True)\n",
    "joblib.dump(study, f\"{FEATURE_TYPE}_confidence_{max_round}.pkl\")\n",
    "study.best_trial.params, study.best_value"
   ]
  },
  {
   "cell_type": "code",
   "execution_count": 24,
   "metadata": {},
   "outputs": [
    {
     "name": "stderr",
     "output_type": "stream",
     "text": [
      "\u001b[32m[I 2022-06-21 07:23:00,724]\u001b[0m A new study created in memory with name: WE_ratio\u001b[0m\n",
      "\u001b[32m[I 2022-06-21 07:23:22,650]\u001b[0m Trial 0 finished with value: 0.2519087830691231 and parameters: {'threshold': 0.295431289521223}. Best is trial 0 with value: 0.2519087830691231.\u001b[0m\n",
      "\u001b[32m[I 2022-06-21 07:23:44,588]\u001b[0m Trial 1 finished with value: 0.2903782519060936 and parameters: {'threshold': 0.23027026565814124}. Best is trial 1 with value: 0.2903782519060936.\u001b[0m\n",
      "\u001b[32m[I 2022-06-21 07:24:06,433]\u001b[0m Trial 2 finished with value: 0.35498099906841113 and parameters: {'threshold': 0.08190665485629145}. Best is trial 2 with value: 0.35498099906841113.\u001b[0m\n",
      "\u001b[32m[I 2022-06-21 07:24:28,332]\u001b[0m Trial 3 finished with value: 0.12543880025266418 and parameters: {'threshold': 0.5250840141245}. Best is trial 2 with value: 0.35498099906841113.\u001b[0m\n",
      "\u001b[32m[I 2022-06-21 07:24:50,569]\u001b[0m Trial 4 finished with value: 0.19675147547487973 and parameters: {'threshold': 0.36693676876019476}. Best is trial 2 with value: 0.35498099906841113.\u001b[0m\n",
      "\u001b[32m[I 2022-06-21 07:25:12,605]\u001b[0m Trial 5 finished with value: 0.34745890691018133 and parameters: {'threshold': 0.10326634763526592}. Best is trial 2 with value: 0.35498099906841113.\u001b[0m\n",
      "\u001b[32m[I 2022-06-21 07:25:34,362]\u001b[0m Trial 6 finished with value: 0.20350039073443327 and parameters: {'threshold': 0.34700502466584593}. Best is trial 2 with value: 0.35498099906841113.\u001b[0m\n",
      "\u001b[32m[I 2022-06-21 07:25:56,163]\u001b[0m Trial 7 finished with value: 0.3369533837732297 and parameters: {'threshold': 0.16341877629141827}. Best is trial 2 with value: 0.35498099906841113.\u001b[0m\n",
      "\u001b[32m[I 2022-06-21 07:26:18,039]\u001b[0m Trial 8 finished with value: 0.1647451963241437 and parameters: {'threshold': 0.4188252447736832}. Best is trial 2 with value: 0.35498099906841113.\u001b[0m\n",
      "\u001b[32m[I 2022-06-21 07:26:39,870]\u001b[0m Trial 9 finished with value: 0.37482723452901523 and parameters: {'threshold': 0.054827043476259545}. Best is trial 9 with value: 0.37482723452901523.\u001b[0m\n",
      "\u001b[32m[I 2022-06-21 07:27:01,796]\u001b[0m Trial 10 finished with value: 0.054438959082921935 and parameters: {'threshold': 0.7334914543072066}. Best is trial 9 with value: 0.37482723452901523.\u001b[0m\n",
      "\u001b[32m[I 2022-06-21 07:27:23,687]\u001b[0m Trial 11 finished with value: 0.33339550809506535 and parameters: {'threshold': 0.014111225990096968}. Best is trial 9 with value: 0.37482723452901523.\u001b[0m\n",
      "\u001b[32m[I 2022-06-21 07:27:45,569]\u001b[0m Trial 12 finished with value: 0.33390306876540427 and parameters: {'threshold': 0.01642072681798639}. Best is trial 9 with value: 0.37482723452901523.\u001b[0m\n",
      "\u001b[32m[I 2022-06-21 07:28:07,431]\u001b[0m Trial 13 finished with value: 0.34809208802885006 and parameters: {'threshold': 0.13977881682896526}. Best is trial 9 with value: 0.37482723452901523.\u001b[0m\n",
      "\u001b[32m[I 2022-06-21 07:28:29,347]\u001b[0m Trial 14 finished with value: 0.12427736006683374 and parameters: {'threshold': 0.5067856928344271}. Best is trial 9 with value: 0.37482723452901523.\u001b[0m\n",
      "\u001b[32m[I 2022-06-21 07:28:51,215]\u001b[0m Trial 15 finished with value: 0.29401198307210596 and parameters: {'threshold': 0.2425533575397715}. Best is trial 9 with value: 0.37482723452901523.\u001b[0m\n",
      "\u001b[32m[I 2022-06-21 07:29:13,094]\u001b[0m Trial 16 finished with value: 0.35498099906841113 and parameters: {'threshold': 0.08724385305378474}. Best is trial 9 with value: 0.37482723452901523.\u001b[0m\n",
      "\u001b[32m[I 2022-06-21 07:29:34,942]\u001b[0m Trial 17 finished with value: 0.2903782519060936 and parameters: {'threshold': 0.22110802630183424}. Best is trial 9 with value: 0.37482723452901523.\u001b[0m\n",
      "\u001b[32m[I 2022-06-21 07:29:56,874]\u001b[0m Trial 18 finished with value: 0.06553139605771185 and parameters: {'threshold': 0.6809037907633324}. Best is trial 9 with value: 0.37482723452901523.\u001b[0m\n",
      "\u001b[32m[I 2022-06-21 07:30:18,695]\u001b[0m Trial 19 finished with value: 0.35498099906841113 and parameters: {'threshold': 0.08019981062275555}. Best is trial 9 with value: 0.37482723452901523.\u001b[0m\n",
      "\u001b[32m[I 2022-06-21 07:30:40,675]\u001b[0m Trial 20 finished with value: 0.3126201102945289 and parameters: {'threshold': 0.1843872197721472}. Best is trial 9 with value: 0.37482723452901523.\u001b[0m\n",
      "\u001b[32m[I 2022-06-21 07:31:02,496]\u001b[0m Trial 21 finished with value: 0.36793255763844 and parameters: {'threshold': 0.06852261959207626}. Best is trial 9 with value: 0.37482723452901523.\u001b[0m\n",
      "\u001b[32m[I 2022-06-21 07:31:24,483]\u001b[0m Trial 22 finished with value: 0.3779944792714702 and parameters: {'threshold': 0.04672090534007893}. Best is trial 22 with value: 0.3779944792714702.\u001b[0m\n",
      "\u001b[32m[I 2022-06-21 07:31:46,349]\u001b[0m Trial 23 finished with value: 0.34790768278766204 and parameters: {'threshold': 0.031980027113850895}. Best is trial 22 with value: 0.3779944792714702.\u001b[0m\n",
      "\u001b[32m[I 2022-06-21 07:32:08,214]\u001b[0m Trial 24 finished with value: 0.34992888172169645 and parameters: {'threshold': 0.127284122736954}. Best is trial 22 with value: 0.3779944792714702.\u001b[0m\n",
      "\u001b[32m[I 2022-06-21 07:32:29,996]\u001b[0m Trial 25 finished with value: 0.3126201102945289 and parameters: {'threshold': 0.18415011958934963}. Best is trial 22 with value: 0.3779944792714702.\u001b[0m\n",
      "\u001b[32m[I 2022-06-21 07:32:51,884]\u001b[0m Trial 26 finished with value: 0.37443793826357263 and parameters: {'threshold': 0.04915219988696991}. Best is trial 22 with value: 0.3779944792714702.\u001b[0m\n",
      "\u001b[32m[I 2022-06-21 07:33:13,761]\u001b[0m Trial 27 finished with value: 0.2361893260555484 and parameters: {'threshold': 0.31243059538671203}. Best is trial 22 with value: 0.3779944792714702.\u001b[0m\n",
      "\u001b[32m[I 2022-06-21 07:33:35,608]\u001b[0m Trial 28 finished with value: 0.14642550123936515 and parameters: {'threshold': 0.4325347557097316}. Best is trial 22 with value: 0.3779944792714702.\u001b[0m\n",
      "\u001b[32m[I 2022-06-21 07:33:57,552]\u001b[0m Trial 29 finished with value: 0.2429344240947641 and parameters: {'threshold': 0.3019340010216526}. Best is trial 22 with value: 0.3779944792714702.\u001b[0m\n",
      "\u001b[32m[I 2022-06-21 07:34:19,389]\u001b[0m Trial 30 finished with value: 0.3731800766283525 and parameters: {'threshold': 0.047730616920300846}. Best is trial 22 with value: 0.3779944792714702.\u001b[0m\n",
      "\u001b[32m[I 2022-06-21 07:34:41,276]\u001b[0m Trial 31 finished with value: 0.36764346764346767 and parameters: {'threshold': 0.05259098059689724}. Best is trial 22 with value: 0.3779944792714702.\u001b[0m\n",
      "\u001b[32m[I 2022-06-21 07:35:03,097]\u001b[0m Trial 32 finished with value: 0.34809208802885006 and parameters: {'threshold': 0.14164844873416205}. Best is trial 22 with value: 0.3779944792714702.\u001b[0m\n",
      "\u001b[32m[I 2022-06-21 07:35:24,900]\u001b[0m Trial 33 finished with value: 0.29401198307210596 and parameters: {'threshold': 0.24373603355480575}. Best is trial 22 with value: 0.3779944792714702.\u001b[0m\n",
      "\u001b[32m[I 2022-06-21 07:35:46,742]\u001b[0m Trial 34 finished with value: 0.35472921434019833 and parameters: {'threshold': 0.11341127869631346}. Best is trial 22 with value: 0.3779944792714702.\u001b[0m\n",
      "\u001b[32m[I 2022-06-21 07:36:08,565]\u001b[0m Trial 35 finished with value: 0.36764346764346767 and parameters: {'threshold': 0.05150133624057543}. Best is trial 22 with value: 0.3779944792714702.\u001b[0m\n",
      "\u001b[32m[I 2022-06-21 07:36:30,453]\u001b[0m Trial 36 finished with value: 0.3060661990894549 and parameters: {'threshold': 0.20222074889715078}. Best is trial 22 with value: 0.3779944792714702.\u001b[0m\n",
      "\u001b[32m[I 2022-06-21 07:36:52,300]\u001b[0m Trial 37 finished with value: 0.31518101484203187 and parameters: {'threshold': 0.01002245659621731}. Best is trial 22 with value: 0.3779944792714702.\u001b[0m\n",
      "\u001b[32m[I 2022-06-21 07:37:14,172]\u001b[0m Trial 38 finished with value: 0.3529527701480539 and parameters: {'threshold': 0.09349281303672125}. Best is trial 22 with value: 0.3779944792714702.\u001b[0m\n",
      "\u001b[32m[I 2022-06-21 07:37:36,033]\u001b[0m Trial 39 finished with value: 0.34809208802885006 and parameters: {'threshold': 0.15341551494674172}. Best is trial 22 with value: 0.3779944792714702.\u001b[0m\n",
      "\u001b[32m[I 2022-06-21 07:37:57,936]\u001b[0m Trial 40 finished with value: 0.11464514945901338 and parameters: {'threshold': 0.6079500776679148}. Best is trial 22 with value: 0.3779944792714702.\u001b[0m\n",
      "\u001b[32m[I 2022-06-21 07:38:19,841]\u001b[0m Trial 41 finished with value: 0.3664308315615007 and parameters: {'threshold': 0.05906011402186968}. Best is trial 22 with value: 0.3779944792714702.\u001b[0m\n",
      "\u001b[32m[I 2022-06-21 07:38:41,714]\u001b[0m Trial 42 finished with value: 0.3664308315615007 and parameters: {'threshold': 0.06065261045293414}. Best is trial 22 with value: 0.3779944792714702.\u001b[0m\n",
      "\u001b[32m[I 2022-06-21 07:39:03,557]\u001b[0m Trial 43 finished with value: 0.35339830084957524 and parameters: {'threshold': 0.10985363886401125}. Best is trial 22 with value: 0.3779944792714702.\u001b[0m\n",
      "\u001b[32m[I 2022-06-21 07:39:25,537]\u001b[0m Trial 44 finished with value: 0.3779944792714702 and parameters: {'threshold': 0.04724317522854683}. Best is trial 22 with value: 0.3779944792714702.\u001b[0m\n",
      "\u001b[32m[I 2022-06-21 07:39:47,367]\u001b[0m Trial 45 finished with value: 0.35498221053372686 and parameters: {'threshold': 0.029334442746544422}. Best is trial 22 with value: 0.3779944792714702.\u001b[0m\n",
      "\u001b[32m[I 2022-06-21 07:40:09,203]\u001b[0m Trial 46 finished with value: 0.35339830084957524 and parameters: {'threshold': 0.10954470319778213}. Best is trial 22 with value: 0.3779944792714702.\u001b[0m\n",
      "\u001b[32m[I 2022-06-21 07:40:31,002]\u001b[0m Trial 47 finished with value: 0.2675109443402126 and parameters: {'threshold': 0.2659951215977096}. Best is trial 22 with value: 0.3779944792714702.\u001b[0m\n",
      "\u001b[32m[I 2022-06-21 07:40:52,848]\u001b[0m Trial 48 finished with value: 0.33084007679035743 and parameters: {'threshold': 0.17138441672625396}. Best is trial 22 with value: 0.3779944792714702.\u001b[0m\n",
      "\u001b[32m[I 2022-06-21 07:41:14,652]\u001b[0m Trial 49 finished with value: 0.36796133966379924 and parameters: {'threshold': 0.04187301726160218}. Best is trial 22 with value: 0.3779944792714702.\u001b[0m\n",
      "\u001b[32m[I 2022-06-21 07:41:36,524]\u001b[0m Trial 50 finished with value: 0.35498099906841113 and parameters: {'threshold': 0.0875902842073466}. Best is trial 22 with value: 0.3779944792714702.\u001b[0m\n",
      "\u001b[32m[I 2022-06-21 07:41:58,380]\u001b[0m Trial 51 finished with value: 0.36796133966379924 and parameters: {'threshold': 0.043445968236009054}. Best is trial 22 with value: 0.3779944792714702.\u001b[0m\n",
      "\u001b[32m[I 2022-06-21 07:42:20,291]\u001b[0m Trial 52 finished with value: 0.32086245185801304 and parameters: {'threshold': 0.012587524174445003}. Best is trial 22 with value: 0.3779944792714702.\u001b[0m\n",
      "\u001b[32m[I 2022-06-21 07:42:42,127]\u001b[0m Trial 53 finished with value: 0.34738703000090854 and parameters: {'threshold': 0.12291139424370409}. Best is trial 22 with value: 0.3779944792714702.\u001b[0m\n",
      "\u001b[32m[I 2022-06-21 07:43:04,066]\u001b[0m Trial 54 finished with value: 0.35498099906841113 and parameters: {'threshold': 0.0829110592079769}. Best is trial 22 with value: 0.3779944792714702.\u001b[0m\n",
      "\u001b[32m[I 2022-06-21 07:43:25,869]\u001b[0m Trial 55 finished with value: 0.36796133966379924 and parameters: {'threshold': 0.04337027474747136}. Best is trial 22 with value: 0.3779944792714702.\u001b[0m\n",
      "\u001b[32m[I 2022-06-21 07:43:47,785]\u001b[0m Trial 56 finished with value: 0.34809208802885006 and parameters: {'threshold': 0.14445879200295877}. Best is trial 22 with value: 0.3779944792714702.\u001b[0m\n",
      "\u001b[32m[I 2022-06-21 07:44:09,654]\u001b[0m Trial 57 finished with value: 0.3643688381911781 and parameters: {'threshold': 0.07148393484474357}. Best is trial 22 with value: 0.3779944792714702.\u001b[0m\n",
      "\u001b[32m[I 2022-06-21 07:44:31,455]\u001b[0m Trial 58 finished with value: 0.3499642893867735 and parameters: {'threshold': 0.030874320559379134}. Best is trial 22 with value: 0.3779944792714702.\u001b[0m\n",
      "\u001b[32m[I 2022-06-21 07:44:53,340]\u001b[0m Trial 59 finished with value: 0.12543880025266418 and parameters: {'threshold': 0.5188412080985291}. Best is trial 22 with value: 0.3779944792714702.\u001b[0m\n",
      "\u001b[32m[I 2022-06-21 07:45:15,171]\u001b[0m Trial 60 finished with value: 0.18892906532688816 and parameters: {'threshold': 0.38654751459019876}. Best is trial 22 with value: 0.3779944792714702.\u001b[0m\n",
      "\u001b[32m[I 2022-06-21 07:45:37,036]\u001b[0m Trial 61 finished with value: 0.36905423583866265 and parameters: {'threshold': 0.043574103847190584}. Best is trial 22 with value: 0.3779944792714702.\u001b[0m\n",
      "\u001b[32m[I 2022-06-21 07:45:58,932]\u001b[0m Trial 62 finished with value: 0.3529527701480539 and parameters: {'threshold': 0.09671810140190237}. Best is trial 22 with value: 0.3779944792714702.\u001b[0m\n",
      "\u001b[32m[I 2022-06-21 07:46:20,803]\u001b[0m Trial 63 finished with value: 0.36793255763844 and parameters: {'threshold': 0.06989671774877577}. Best is trial 22 with value: 0.3779944792714702.\u001b[0m\n",
      "\u001b[32m[I 2022-06-21 07:46:42,691]\u001b[0m Trial 64 finished with value: 0.12052410191945077 and parameters: {'threshold': 0.4775940629436245}. Best is trial 22 with value: 0.3779944792714702.\u001b[0m\n",
      "\u001b[32m[I 2022-06-21 07:47:04,572]\u001b[0m Trial 65 finished with value: 0.3608810041170126 and parameters: {'threshold': 0.036590576900013036}. Best is trial 22 with value: 0.3779944792714702.\u001b[0m\n",
      "\u001b[32m[I 2022-06-21 07:47:26,403]\u001b[0m Trial 66 finished with value: 0.32528252433766847 and parameters: {'threshold': 0.013152819900064588}. Best is trial 22 with value: 0.3779944792714702.\u001b[0m\n",
      "\u001b[32m[I 2022-06-21 07:47:48,263]\u001b[0m Trial 67 finished with value: 0.34992888172169645 and parameters: {'threshold': 0.12528127364100528}. Best is trial 22 with value: 0.3779944792714702.\u001b[0m\n",
      "\u001b[32m[I 2022-06-21 07:48:10,163]\u001b[0m Trial 68 finished with value: 0.3060661990894549 and parameters: {'threshold': 0.20342458081080267}. Best is trial 22 with value: 0.3779944792714702.\u001b[0m\n",
      "\u001b[32m[I 2022-06-21 07:48:31,935]\u001b[0m Trial 69 finished with value: 0.33084007679035743 and parameters: {'threshold': 0.16680971386156096}. Best is trial 22 with value: 0.3779944792714702.\u001b[0m\n",
      "\u001b[32m[I 2022-06-21 07:48:53,767]\u001b[0m Trial 70 finished with value: 0.3664308315615007 and parameters: {'threshold': 0.06163126836991875}. Best is trial 22 with value: 0.3779944792714702.\u001b[0m\n",
      "\u001b[32m[I 2022-06-21 07:49:15,592]\u001b[0m Trial 71 finished with value: 0.36905423583866265 and parameters: {'threshold': 0.04395037689523097}. Best is trial 22 with value: 0.3779944792714702.\u001b[0m\n",
      "\u001b[32m[I 2022-06-21 07:49:37,405]\u001b[0m Trial 72 finished with value: 0.35498099906841113 and parameters: {'threshold': 0.08752872390197805}. Best is trial 22 with value: 0.3779944792714702.\u001b[0m\n",
      "\u001b[32m[I 2022-06-21 07:49:59,213]\u001b[0m Trial 73 finished with value: 0.3556244120178546 and parameters: {'threshold': 0.03502827165418533}. Best is trial 22 with value: 0.3779944792714702.\u001b[0m\n",
      "\u001b[32m[I 2022-06-21 07:50:21,006]\u001b[0m Trial 74 finished with value: 0.37482723452901523 and parameters: {'threshold': 0.054243938232356105}. Best is trial 22 with value: 0.3779944792714702.\u001b[0m\n",
      "\u001b[32m[I 2022-06-21 07:50:42,850]\u001b[0m Trial 75 finished with value: 0.34745890691018133 and parameters: {'threshold': 0.10352295040808271}. Best is trial 22 with value: 0.3779944792714702.\u001b[0m\n",
      "\u001b[32m[I 2022-06-21 07:51:04,708]\u001b[0m Trial 76 finished with value: 0.12543880025266418 and parameters: {'threshold': 0.5789398988776423}. Best is trial 22 with value: 0.3779944792714702.\u001b[0m\n",
      "\u001b[32m[I 2022-06-21 07:51:26,571]\u001b[0m Trial 77 finished with value: 0.34809208802885006 and parameters: {'threshold': 0.13814379484374872}. Best is trial 22 with value: 0.3779944792714702.\u001b[0m\n",
      "\u001b[32m[I 2022-06-21 07:51:48,483]\u001b[0m Trial 78 finished with value: 0.3643688381911781 and parameters: {'threshold': 0.07384663178372614}. Best is trial 22 with value: 0.3779944792714702.\u001b[0m\n",
      "\u001b[32m[I 2022-06-21 07:52:10,374]\u001b[0m Trial 79 finished with value: 0.37482723452901523 and parameters: {'threshold': 0.058503342670811635}. Best is trial 22 with value: 0.3779944792714702.\u001b[0m\n",
      "\u001b[32m[I 2022-06-21 07:52:32,243]\u001b[0m Trial 80 finished with value: 0.31518101484203187 and parameters: {'threshold': 0.010045421478839786}. Best is trial 22 with value: 0.3779944792714702.\u001b[0m\n",
      "\u001b[32m[I 2022-06-21 07:52:54,087]\u001b[0m Trial 81 finished with value: 0.37482723452901523 and parameters: {'threshold': 0.057353301554604066}. Best is trial 22 with value: 0.3779944792714702.\u001b[0m\n",
      "\u001b[32m[I 2022-06-21 07:53:15,939]\u001b[0m Trial 82 finished with value: 0.36793255763844 and parameters: {'threshold': 0.06554887336782313}. Best is trial 22 with value: 0.3779944792714702.\u001b[0m\n",
      "\u001b[32m[I 2022-06-21 07:53:37,934]\u001b[0m Trial 83 finished with value: 0.3529527701480539 and parameters: {'threshold': 0.10091471776132152}. Best is trial 22 with value: 0.3779944792714702.\u001b[0m\n",
      "\u001b[32m[I 2022-06-21 07:53:59,799]\u001b[0m Trial 84 finished with value: 0.36130306200405143 and parameters: {'threshold': 0.02692445331682593}. Best is trial 22 with value: 0.3779944792714702.\u001b[0m\n",
      "\u001b[32m[I 2022-06-21 07:54:21,635]\u001b[0m Trial 85 finished with value: 0.37953098848650046 and parameters: {'threshold': 0.052775584714150454}. Best is trial 85 with value: 0.37953098848650046.\u001b[0m\n",
      "\u001b[32m[I 2022-06-21 07:54:43,625]\u001b[0m Trial 86 finished with value: 0.054438959082921935 and parameters: {'threshold': 0.7471447923107515}. Best is trial 85 with value: 0.37953098848650046.\u001b[0m\n",
      "\u001b[32m[I 2022-06-21 07:55:05,539]\u001b[0m Trial 87 finished with value: 0.34738703000090854 and parameters: {'threshold': 0.12333842036466722}. Best is trial 85 with value: 0.37953098848650046.\u001b[0m\n",
      "\u001b[32m[I 2022-06-21 07:55:27,446]\u001b[0m Trial 88 finished with value: 0.2291689178922831 and parameters: {'threshold': 0.3277350176288109}. Best is trial 85 with value: 0.37953098848650046.\u001b[0m\n",
      "\u001b[32m[I 2022-06-21 07:55:49,277]\u001b[0m Trial 89 finished with value: 0.35498099906841113 and parameters: {'threshold': 0.08116648320361605}. Best is trial 85 with value: 0.37953098848650046.\u001b[0m\n",
      "\u001b[32m[I 2022-06-21 07:56:11,101]\u001b[0m Trial 90 finished with value: 0.37482723452901523 and parameters: {'threshold': 0.05609299102028794}. Best is trial 85 with value: 0.37953098848650046.\u001b[0m\n",
      "\u001b[32m[I 2022-06-21 07:56:32,927]\u001b[0m Trial 91 finished with value: 0.3729920814479638 and parameters: {'threshold': 0.06371287321071648}. Best is trial 85 with value: 0.37953098848650046.\u001b[0m\n",
      "\u001b[32m[I 2022-06-21 07:56:54,748]\u001b[0m Trial 92 finished with value: 0.37482723452901523 and parameters: {'threshold': 0.05668926897374369}. Best is trial 85 with value: 0.37953098848650046.\u001b[0m\n",
      "\u001b[32m[I 2022-06-21 07:57:16,583]\u001b[0m Trial 93 finished with value: 0.37482723452901523 and parameters: {'threshold': 0.05536383491583403}. Best is trial 85 with value: 0.37953098848650046.\u001b[0m\n",
      "\u001b[32m[I 2022-06-21 07:57:38,422]\u001b[0m Trial 94 finished with value: 0.35152755255025553 and parameters: {'threshold': 0.10803767063288328}. Best is trial 85 with value: 0.37953098848650046.\u001b[0m\n",
      "\u001b[32m[I 2022-06-21 07:58:00,442]\u001b[0m Trial 95 finished with value: 0.36130306200405143 and parameters: {'threshold': 0.02677374041426046}. Best is trial 85 with value: 0.37953098848650046.\u001b[0m\n",
      "\u001b[32m[I 2022-06-21 07:58:22,295]\u001b[0m Trial 96 finished with value: 0.35498099906841113 and parameters: {'threshold': 0.09071510892104434}. Best is trial 85 with value: 0.37953098848650046.\u001b[0m\n",
      "\u001b[32m[I 2022-06-21 07:58:44,140]\u001b[0m Trial 97 finished with value: 0.37482723452901523 and parameters: {'threshold': 0.057523810154062584}. Best is trial 85 with value: 0.37953098848650046.\u001b[0m\n",
      "\u001b[32m[I 2022-06-21 07:59:05,986]\u001b[0m Trial 98 finished with value: 0.3526899318218404 and parameters: {'threshold': 0.07761712688695083}. Best is trial 85 with value: 0.37953098848650046.\u001b[0m\n",
      "\u001b[32m[I 2022-06-21 07:59:27,857]\u001b[0m Trial 99 finished with value: 0.34809208802885006 and parameters: {'threshold': 0.15335739128506315}. Best is trial 85 with value: 0.37953098848650046.\u001b[0m\n"
     ]
    },
    {
     "data": {
      "text/plain": [
       "({'threshold': 0.052775584714150454}, 0.37953098848650046)"
      ]
     },
     "execution_count": 24,
     "metadata": {},
     "output_type": "execute_result"
    }
   ],
   "source": [
    "study2 = optuna.create_study(study_name=f\"{FEATURE_TYPE}_ratio\",direction=\"maximize\", sampler=optuna.samplers.TPESampler(), pruner=optuna.pruners.NopPruner())\n",
    "#study = joblib.load(f\"{FEATURE_TYPE}_ratio.pkl\")\n",
    "\n",
    "study2.optimize(objective_ratio, n_trials=100, timeout=(60*60*3), gc_after_trial=True)\n",
    "#joblib.dump(study2, f\"{FEATURE_TYPE}_ratio_{max_round}.pkl\")\n",
    "study2.best_trial.params, study2.best_value"
   ]
  },
  {
   "cell_type": "code",
   "execution_count": 25,
   "metadata": {},
   "outputs": [
    {
     "name": "stderr",
     "output_type": "stream",
     "text": [
      "\u001b[32m[I 2022-06-21 07:59:28,113]\u001b[0m A new study created in memory with name: WE_consecutive\u001b[0m\n",
      "\u001b[32m[I 2022-06-21 07:59:49,863]\u001b[0m Trial 0 finished with value: 0.01111111111111111 and parameters: {'threshold': 71}. Best is trial 0 with value: 0.01111111111111111.\u001b[0m\n",
      "\u001b[32m[I 2022-06-21 08:00:11,758]\u001b[0m Trial 1 finished with value: 0.05263157894736842 and parameters: {'threshold': 29}. Best is trial 1 with value: 0.05263157894736842.\u001b[0m\n",
      "\u001b[32m[I 2022-06-21 08:00:33,662]\u001b[0m Trial 2 finished with value: 0.01111111111111111 and parameters: {'threshold': 65}. Best is trial 1 with value: 0.05263157894736842.\u001b[0m\n",
      "\u001b[32m[I 2022-06-21 08:00:55,578]\u001b[0m Trial 3 finished with value: 0.01142857142857143 and parameters: {'threshold': 78}. Best is trial 1 with value: 0.05263157894736842.\u001b[0m\n",
      "\u001b[32m[I 2022-06-21 08:01:17,486]\u001b[0m Trial 4 finished with value: 0.01111111111111111 and parameters: {'threshold': 71}. Best is trial 1 with value: 0.05263157894736842.\u001b[0m\n",
      "\u001b[32m[I 2022-06-21 08:01:39,416]\u001b[0m Trial 5 finished with value: 0.01111111111111111 and parameters: {'threshold': 56}. Best is trial 1 with value: 0.05263157894736842.\u001b[0m\n",
      "\u001b[32m[I 2022-06-21 08:02:01,342]\u001b[0m Trial 6 finished with value: 0.03303303303303303 and parameters: {'threshold': 43}. Best is trial 1 with value: 0.05263157894736842.\u001b[0m\n",
      "\u001b[32m[I 2022-06-21 08:02:23,191]\u001b[0m Trial 7 finished with value: 0.01142857142857143 and parameters: {'threshold': 82}. Best is trial 1 with value: 0.05263157894736842.\u001b[0m\n",
      "\u001b[32m[I 2022-06-21 08:02:45,127]\u001b[0m Trial 8 finished with value: 0.01111111111111111 and parameters: {'threshold': 55}. Best is trial 1 with value: 0.05263157894736842.\u001b[0m\n",
      "\u001b[32m[I 2022-06-21 08:03:07,122]\u001b[0m Trial 9 finished with value: 0.03303303303303303 and parameters: {'threshold': 41}. Best is trial 1 with value: 0.05263157894736842.\u001b[0m\n",
      "\u001b[32m[I 2022-06-21 08:03:29,017]\u001b[0m Trial 10 finished with value: 0.14101010101010103 and parameters: {'threshold': 14}. Best is trial 10 with value: 0.14101010101010103.\u001b[0m\n",
      "\u001b[32m[I 2022-06-21 08:03:50,959]\u001b[0m Trial 11 finished with value: 0.27282170175831943 and parameters: {'threshold': 6}. Best is trial 11 with value: 0.27282170175831943.\u001b[0m\n",
      "\u001b[32m[I 2022-06-21 08:04:12,897]\u001b[0m Trial 12 finished with value: 0.27282170175831943 and parameters: {'threshold': 6}. Best is trial 11 with value: 0.27282170175831943.\u001b[0m\n",
      "\u001b[32m[I 2022-06-21 08:04:34,845]\u001b[0m Trial 13 finished with value: 0.33284907183212264 and parameters: {'threshold': 4}. Best is trial 13 with value: 0.33284907183212264.\u001b[0m\n",
      "\u001b[32m[I 2022-06-21 08:04:56,749]\u001b[0m Trial 14 finished with value: 0.10315018315018316 and parameters: {'threshold': 18}. Best is trial 13 with value: 0.33284907183212264.\u001b[0m\n",
      "\u001b[32m[I 2022-06-21 08:05:18,693]\u001b[0m Trial 15 finished with value: 0.07411288402000477 and parameters: {'threshold': 27}. Best is trial 13 with value: 0.33284907183212264.\u001b[0m\n",
      "\u001b[32m[I 2022-06-21 08:05:40,612]\u001b[0m Trial 16 finished with value: 0.35893305728088337 and parameters: {'threshold': 3}. Best is trial 16 with value: 0.35893305728088337.\u001b[0m\n",
      "\u001b[32m[I 2022-06-21 08:06:02,462]\u001b[0m Trial 17 finished with value: 0.39021134796010515 and parameters: {'threshold': 2}. Best is trial 17 with value: 0.39021134796010515.\u001b[0m\n",
      "\u001b[32m[I 2022-06-21 08:06:24,329]\u001b[0m Trial 18 finished with value: 0.05263157894736842 and parameters: {'threshold': 28}. Best is trial 17 with value: 0.39021134796010515.\u001b[0m\n",
      "\u001b[32m[I 2022-06-21 08:06:46,136]\u001b[0m Trial 19 finished with value: 0.14132756132756136 and parameters: {'threshold': 15}. Best is trial 17 with value: 0.39021134796010515.\u001b[0m\n",
      "\u001b[32m[I 2022-06-21 08:07:08,029]\u001b[0m Trial 20 finished with value: 0.042674253200568994 and parameters: {'threshold': 35}. Best is trial 17 with value: 0.39021134796010515.\u001b[0m\n",
      "\u001b[32m[I 2022-06-21 08:07:29,987]\u001b[0m Trial 21 finished with value: 0.35893305728088337 and parameters: {'threshold': 3}. Best is trial 17 with value: 0.39021134796010515.\u001b[0m\n",
      "\u001b[32m[I 2022-06-21 08:07:51,808]\u001b[0m Trial 22 finished with value: 0.35893305728088337 and parameters: {'threshold': 3}. Best is trial 17 with value: 0.39021134796010515.\u001b[0m\n",
      "\u001b[32m[I 2022-06-21 08:08:13,686]\u001b[0m Trial 23 finished with value: 0.10315018315018316 and parameters: {'threshold': 18}. Best is trial 17 with value: 0.39021134796010515.\u001b[0m\n",
      "\u001b[32m[I 2022-06-21 08:08:35,603]\u001b[0m Trial 24 finished with value: 0.14132756132756136 and parameters: {'threshold': 15}. Best is trial 17 with value: 0.39021134796010515.\u001b[0m\n",
      "\u001b[32m[I 2022-06-21 08:08:57,583]\u001b[0m Trial 25 finished with value: 0.1849735425383342 and parameters: {'threshold': 11}. Best is trial 17 with value: 0.39021134796010515.\u001b[0m\n",
      "\u001b[32m[I 2022-06-21 08:09:19,477]\u001b[0m Trial 26 finished with value: 0.083343653250774 and parameters: {'threshold': 25}. Best is trial 17 with value: 0.39021134796010515.\u001b[0m\n",
      "\u001b[32m[I 2022-06-21 08:09:41,338]\u001b[0m Trial 27 finished with value: 0.39021134796010515 and parameters: {'threshold': 2}. Best is trial 17 with value: 0.39021134796010515.\u001b[0m\n",
      "\u001b[32m[I 2022-06-21 08:10:03,189]\u001b[0m Trial 28 finished with value: 0.0 and parameters: {'threshold': 89}. Best is trial 17 with value: 0.39021134796010515.\u001b[0m\n",
      "\u001b[32m[I 2022-06-21 08:10:25,053]\u001b[0m Trial 29 finished with value: 0.21948965821146277 and parameters: {'threshold': 10}. Best is trial 17 with value: 0.39021134796010515.\u001b[0m\n",
      "\u001b[32m[I 2022-06-21 08:10:46,929]\u001b[0m Trial 30 finished with value: 0.0944360902255639 and parameters: {'threshold': 22}. Best is trial 17 with value: 0.39021134796010515.\u001b[0m\n",
      "\u001b[32m[I 2022-06-21 08:11:08,788]\u001b[0m Trial 31 finished with value: 0.25112570356472796 and parameters: {'threshold': 8}. Best is trial 17 with value: 0.39021134796010515.\u001b[0m\n",
      "\u001b[32m[I 2022-06-21 08:11:30,677]\u001b[0m Trial 32 finished with value: 0.39021134796010515 and parameters: {'threshold': 2}. Best is trial 17 with value: 0.39021134796010515.\u001b[0m\n",
      "\u001b[32m[I 2022-06-21 08:11:52,534]\u001b[0m Trial 33 finished with value: 0.39021134796010515 and parameters: {'threshold': 2}. Best is trial 17 with value: 0.39021134796010515.\u001b[0m\n",
      "\u001b[32m[I 2022-06-21 08:12:14,437]\u001b[0m Trial 34 finished with value: 0.042674253200568994 and parameters: {'threshold': 34}. Best is trial 17 with value: 0.39021134796010515.\u001b[0m\n",
      "\u001b[32m[I 2022-06-21 08:12:36,294]\u001b[0m Trial 35 finished with value: 0.09346048046946634 and parameters: {'threshold': 21}. Best is trial 17 with value: 0.39021134796010515.\u001b[0m\n",
      "\u001b[32m[I 2022-06-21 08:12:58,181]\u001b[0m Trial 36 finished with value: 0.1849735425383342 and parameters: {'threshold': 11}. Best is trial 17 with value: 0.39021134796010515.\u001b[0m\n",
      "\u001b[32m[I 2022-06-21 08:13:20,093]\u001b[0m Trial 37 finished with value: 0.39021134796010515 and parameters: {'threshold': 2}. Best is trial 17 with value: 0.39021134796010515.\u001b[0m\n",
      "\u001b[32m[I 2022-06-21 08:13:42,008]\u001b[0m Trial 38 finished with value: 0.01111111111111111 and parameters: {'threshold': 52}. Best is trial 17 with value: 0.39021134796010515.\u001b[0m\n",
      "\u001b[32m[I 2022-06-21 08:14:03,937]\u001b[0m Trial 39 finished with value: 0.01111111111111111 and parameters: {'threshold': 66}. Best is trial 17 with value: 0.39021134796010515.\u001b[0m\n",
      "\u001b[32m[I 2022-06-21 08:14:25,850]\u001b[0m Trial 40 finished with value: 0.2270286576168929 and parameters: {'threshold': 9}. Best is trial 17 with value: 0.39021134796010515.\u001b[0m\n",
      "\u001b[32m[I 2022-06-21 08:14:47,662]\u001b[0m Trial 41 finished with value: 0.39021134796010515 and parameters: {'threshold': 2}. Best is trial 17 with value: 0.39021134796010515.\u001b[0m\n",
      "\u001b[32m[I 2022-06-21 08:15:09,609]\u001b[0m Trial 42 finished with value: 0.15812348934300155 and parameters: {'threshold': 13}. Best is trial 17 with value: 0.39021134796010515.\u001b[0m\n",
      "\u001b[32m[I 2022-06-21 08:15:31,459]\u001b[0m Trial 43 finished with value: 0.2270286576168929 and parameters: {'threshold': 9}. Best is trial 17 with value: 0.39021134796010515.\u001b[0m\n",
      "\u001b[32m[I 2022-06-21 08:15:53,390]\u001b[0m Trial 44 finished with value: 0.39021134796010515 and parameters: {'threshold': 2}. Best is trial 17 with value: 0.39021134796010515.\u001b[0m\n",
      "\u001b[32m[I 2022-06-21 08:16:15,289]\u001b[0m Trial 45 finished with value: 0.2617979694723881 and parameters: {'threshold': 7}. Best is trial 17 with value: 0.39021134796010515.\u001b[0m\n",
      "\u001b[32m[I 2022-06-21 08:16:37,204]\u001b[0m Trial 46 finished with value: 0.10315018315018316 and parameters: {'threshold': 18}. Best is trial 17 with value: 0.39021134796010515.\u001b[0m\n",
      "\u001b[32m[I 2022-06-21 08:16:59,159]\u001b[0m Trial 47 finished with value: 0.27282170175831943 and parameters: {'threshold': 6}. Best is trial 17 with value: 0.39021134796010515.\u001b[0m\n",
      "\u001b[32m[I 2022-06-21 08:17:21,169]\u001b[0m Trial 48 finished with value: 0.042674253200568994 and parameters: {'threshold': 32}. Best is trial 17 with value: 0.39021134796010515.\u001b[0m\n",
      "\u001b[32m[I 2022-06-21 08:17:43,044]\u001b[0m Trial 49 finished with value: 0.15812348934300155 and parameters: {'threshold': 13}. Best is trial 17 with value: 0.39021134796010515.\u001b[0m\n",
      "\u001b[32m[I 2022-06-21 08:18:04,960]\u001b[0m Trial 50 finished with value: 0.27282170175831943 and parameters: {'threshold': 6}. Best is trial 17 with value: 0.39021134796010515.\u001b[0m\n",
      "\u001b[32m[I 2022-06-21 08:18:26,810]\u001b[0m Trial 51 finished with value: 0.39021134796010515 and parameters: {'threshold': 2}. Best is trial 17 with value: 0.39021134796010515.\u001b[0m\n",
      "\u001b[32m[I 2022-06-21 08:18:48,745]\u001b[0m Trial 52 finished with value: 0.39021134796010515 and parameters: {'threshold': 2}. Best is trial 17 with value: 0.39021134796010515.\u001b[0m\n",
      "\u001b[32m[I 2022-06-21 08:19:10,607]\u001b[0m Trial 53 finished with value: 0.27282170175831943 and parameters: {'threshold': 6}. Best is trial 17 with value: 0.39021134796010515.\u001b[0m\n",
      "\u001b[32m[I 2022-06-21 08:19:32,552]\u001b[0m Trial 54 finished with value: 0.11394383394383394 and parameters: {'threshold': 16}. Best is trial 17 with value: 0.39021134796010515.\u001b[0m\n",
      "\u001b[32m[I 2022-06-21 08:19:54,446]\u001b[0m Trial 55 finished with value: 0.1849735425383342 and parameters: {'threshold': 11}. Best is trial 17 with value: 0.39021134796010515.\u001b[0m\n",
      "\u001b[32m[I 2022-06-21 08:20:16,276]\u001b[0m Trial 56 finished with value: 0.27282170175831943 and parameters: {'threshold': 6}. Best is trial 17 with value: 0.39021134796010515.\u001b[0m\n",
      "\u001b[32m[I 2022-06-21 08:20:38,157]\u001b[0m Trial 57 finished with value: 0.09346048046946634 and parameters: {'threshold': 21}. Best is trial 17 with value: 0.39021134796010515.\u001b[0m\n",
      "\u001b[32m[I 2022-06-21 08:21:00,122]\u001b[0m Trial 58 finished with value: 0.02253968253968254 and parameters: {'threshold': 48}. Best is trial 17 with value: 0.39021134796010515.\u001b[0m\n",
      "\u001b[32m[I 2022-06-21 08:21:22,033]\u001b[0m Trial 59 finished with value: 0.03303303303303303 and parameters: {'threshold': 40}. Best is trial 17 with value: 0.39021134796010515.\u001b[0m\n",
      "\u001b[32m[I 2022-06-21 08:21:43,961]\u001b[0m Trial 60 finished with value: 0.39021134796010515 and parameters: {'threshold': 2}. Best is trial 17 with value: 0.39021134796010515.\u001b[0m\n",
      "\u001b[32m[I 2022-06-21 08:22:05,955]\u001b[0m Trial 61 finished with value: 0.30730540942730483 and parameters: {'threshold': 5}. Best is trial 17 with value: 0.39021134796010515.\u001b[0m\n",
      "\u001b[32m[I 2022-06-21 08:22:27,894]\u001b[0m Trial 62 finished with value: 0.39021134796010515 and parameters: {'threshold': 2}. Best is trial 17 with value: 0.39021134796010515.\u001b[0m\n",
      "\u001b[32m[I 2022-06-21 08:22:49,790]\u001b[0m Trial 63 finished with value: 0.2270286576168929 and parameters: {'threshold': 9}. Best is trial 17 with value: 0.39021134796010515.\u001b[0m\n",
      "\u001b[32m[I 2022-06-21 08:23:11,817]\u001b[0m Trial 64 finished with value: 0.39021134796010515 and parameters: {'threshold': 2}. Best is trial 17 with value: 0.39021134796010515.\u001b[0m\n",
      "\u001b[32m[I 2022-06-21 08:23:33,691]\u001b[0m Trial 65 finished with value: 0.15812348934300155 and parameters: {'threshold': 13}. Best is trial 17 with value: 0.39021134796010515.\u001b[0m\n",
      "\u001b[32m[I 2022-06-21 08:23:55,570]\u001b[0m Trial 66 finished with value: 0.01142857142857143 and parameters: {'threshold': 79}. Best is trial 17 with value: 0.39021134796010515.\u001b[0m\n",
      "\u001b[32m[I 2022-06-21 08:24:17,524]\u001b[0m Trial 67 finished with value: 0.33284907183212264 and parameters: {'threshold': 4}. Best is trial 17 with value: 0.39021134796010515.\u001b[0m\n",
      "\u001b[32m[I 2022-06-21 08:24:39,373]\u001b[0m Trial 68 finished with value: 0.25112570356472796 and parameters: {'threshold': 8}. Best is trial 17 with value: 0.39021134796010515.\u001b[0m\n",
      "\u001b[32m[I 2022-06-21 08:25:01,280]\u001b[0m Trial 69 finished with value: 0.30730540942730483 and parameters: {'threshold': 5}. Best is trial 17 with value: 0.39021134796010515.\u001b[0m\n",
      "\u001b[32m[I 2022-06-21 08:25:23,144]\u001b[0m Trial 70 finished with value: 0.10315018315018316 and parameters: {'threshold': 17}. Best is trial 17 with value: 0.39021134796010515.\u001b[0m\n",
      "\u001b[32m[I 2022-06-21 08:25:45,040]\u001b[0m Trial 71 finished with value: 0.39021134796010515 and parameters: {'threshold': 2}. Best is trial 17 with value: 0.39021134796010515.\u001b[0m\n",
      "\u001b[32m[I 2022-06-21 08:26:06,954]\u001b[0m Trial 72 finished with value: 0.33284907183212264 and parameters: {'threshold': 4}. Best is trial 17 with value: 0.39021134796010515.\u001b[0m\n",
      "\u001b[32m[I 2022-06-21 08:26:28,831]\u001b[0m Trial 73 finished with value: 0.16803339925291144 and parameters: {'threshold': 12}. Best is trial 17 with value: 0.39021134796010515.\u001b[0m\n",
      "\u001b[32m[I 2022-06-21 08:26:50,732]\u001b[0m Trial 74 finished with value: 0.25112570356472796 and parameters: {'threshold': 8}. Best is trial 17 with value: 0.39021134796010515.\u001b[0m\n",
      "\u001b[32m[I 2022-06-21 08:27:12,648]\u001b[0m Trial 75 finished with value: 0.01111111111111111 and parameters: {'threshold': 62}. Best is trial 17 with value: 0.39021134796010515.\u001b[0m\n",
      "\u001b[32m[I 2022-06-21 08:27:34,531]\u001b[0m Trial 76 finished with value: 0.39021134796010515 and parameters: {'threshold': 2}. Best is trial 17 with value: 0.39021134796010515.\u001b[0m\n",
      "\u001b[32m[I 2022-06-21 08:27:56,451]\u001b[0m Trial 77 finished with value: 0.33284907183212264 and parameters: {'threshold': 4}. Best is trial 17 with value: 0.39021134796010515.\u001b[0m\n",
      "\u001b[32m[I 2022-06-21 08:28:18,408]\u001b[0m Trial 78 finished with value: 0.21948965821146277 and parameters: {'threshold': 10}. Best is trial 17 with value: 0.39021134796010515.\u001b[0m\n",
      "\u001b[32m[I 2022-06-21 08:28:40,330]\u001b[0m Trial 79 finished with value: 0.14132756132756136 and parameters: {'threshold': 15}. Best is trial 17 with value: 0.39021134796010515.\u001b[0m\n",
      "\u001b[32m[I 2022-06-21 08:29:02,213]\u001b[0m Trial 80 finished with value: 0.2617979694723881 and parameters: {'threshold': 7}. Best is trial 17 with value: 0.39021134796010515.\u001b[0m\n",
      "\u001b[32m[I 2022-06-21 08:29:24,120]\u001b[0m Trial 81 finished with value: 0.33284907183212264 and parameters: {'threshold': 4}. Best is trial 17 with value: 0.39021134796010515.\u001b[0m\n",
      "\u001b[32m[I 2022-06-21 08:29:46,025]\u001b[0m Trial 82 finished with value: 0.39021134796010515 and parameters: {'threshold': 2}. Best is trial 17 with value: 0.39021134796010515.\u001b[0m\n",
      "\u001b[32m[I 2022-06-21 08:30:07,913]\u001b[0m Trial 83 finished with value: 0.35893305728088337 and parameters: {'threshold': 3}. Best is trial 17 with value: 0.39021134796010515.\u001b[0m\n",
      "\u001b[32m[I 2022-06-21 08:30:29,775]\u001b[0m Trial 84 finished with value: 0.25112570356472796 and parameters: {'threshold': 8}. Best is trial 17 with value: 0.39021134796010515.\u001b[0m\n",
      "\u001b[32m[I 2022-06-21 08:30:51,634]\u001b[0m Trial 85 finished with value: 0.1849735425383342 and parameters: {'threshold': 11}. Best is trial 17 with value: 0.39021134796010515.\u001b[0m\n",
      "\u001b[32m[I 2022-06-21 08:31:13,538]\u001b[0m Trial 86 finished with value: 0.30730540942730483 and parameters: {'threshold': 5}. Best is trial 17 with value: 0.39021134796010515.\u001b[0m\n",
      "\u001b[32m[I 2022-06-21 08:31:35,411]\u001b[0m Trial 87 finished with value: 0.2617979694723881 and parameters: {'threshold': 7}. Best is trial 17 with value: 0.39021134796010515.\u001b[0m\n",
      "\u001b[32m[I 2022-06-21 08:31:57,291]\u001b[0m Trial 88 finished with value: 0.39021134796010515 and parameters: {'threshold': 2}. Best is trial 17 with value: 0.39021134796010515.\u001b[0m\n",
      "\u001b[32m[I 2022-06-21 08:32:19,180]\u001b[0m Trial 89 finished with value: 0.21948965821146277 and parameters: {'threshold': 10}. Best is trial 17 with value: 0.39021134796010515.\u001b[0m\n",
      "\u001b[32m[I 2022-06-21 08:32:41,054]\u001b[0m Trial 90 finished with value: 0.30730540942730483 and parameters: {'threshold': 5}. Best is trial 17 with value: 0.39021134796010515.\u001b[0m\n",
      "\u001b[32m[I 2022-06-21 08:33:02,951]\u001b[0m Trial 91 finished with value: 0.39021134796010515 and parameters: {'threshold': 2}. Best is trial 17 with value: 0.39021134796010515.\u001b[0m\n",
      "\u001b[32m[I 2022-06-21 08:33:24,871]\u001b[0m Trial 92 finished with value: 0.39021134796010515 and parameters: {'threshold': 2}. Best is trial 17 with value: 0.39021134796010515.\u001b[0m\n",
      "\u001b[32m[I 2022-06-21 08:33:46,756]\u001b[0m Trial 93 finished with value: 0.2617979694723881 and parameters: {'threshold': 7}. Best is trial 17 with value: 0.39021134796010515.\u001b[0m\n",
      "\u001b[32m[I 2022-06-21 08:34:08,663]\u001b[0m Trial 94 finished with value: 0.30730540942730483 and parameters: {'threshold': 5}. Best is trial 17 with value: 0.39021134796010515.\u001b[0m\n",
      "\u001b[32m[I 2022-06-21 08:34:30,591]\u001b[0m Trial 95 finished with value: 0.2270286576168929 and parameters: {'threshold': 9}. Best is trial 17 with value: 0.39021134796010515.\u001b[0m\n",
      "\u001b[32m[I 2022-06-21 08:34:52,543]\u001b[0m Trial 96 finished with value: 0.33284907183212264 and parameters: {'threshold': 4}. Best is trial 17 with value: 0.39021134796010515.\u001b[0m\n",
      "\u001b[32m[I 2022-06-21 08:35:14,465]\u001b[0m Trial 97 finished with value: 0.14101010101010103 and parameters: {'threshold': 14}. Best is trial 17 with value: 0.39021134796010515.\u001b[0m\n",
      "\u001b[32m[I 2022-06-21 08:35:36,371]\u001b[0m Trial 98 finished with value: 0.25112570356472796 and parameters: {'threshold': 8}. Best is trial 17 with value: 0.39021134796010515.\u001b[0m\n",
      "\u001b[32m[I 2022-06-21 08:35:58,235]\u001b[0m Trial 99 finished with value: 0.39021134796010515 and parameters: {'threshold': 2}. Best is trial 17 with value: 0.39021134796010515.\u001b[0m\n"
     ]
    },
    {
     "data": {
      "text/plain": [
       "({'threshold': 2}, 0.39021134796010515)"
      ]
     },
     "execution_count": 25,
     "metadata": {},
     "output_type": "execute_result"
    }
   ],
   "source": [
    "study3 = optuna.create_study(study_name=f\"{FEATURE_TYPE}_consecutive\",direction=\"maximize\", sampler=optuna.samplers.TPESampler(), pruner=optuna.pruners.NopPruner())\n",
    "study3.optimize(objective_consecutive, n_trials=100, timeout=(60*60*3), gc_after_trial=True)\n",
    "#joblib.dump(study3, f\"{FEATURE_TYPE}_consecutive_{max_round}.pkl\")\n",
    "study3.best_trial.params, study3.best_value"
   ]
  },
  {
   "cell_type": "code",
   "execution_count": 18,
   "metadata": {},
   "outputs": [
    {
     "data": {
      "text/plain": [
       "'\\nclass T1Classifier:\\n    def __init__(self, name,  model, textual_features, criterion, sentiment=False,window=5):\\n        self.name=name\\n        self.window=window\\n        self.textual_features=textual_features\\n        self.model=model\\n        self.sentiment=sentiment\\n        self.criterion=criterion\\n        if self.textual_features==\\'tfidf\\':\\n            self.feature_extractor = pickle.load(open(f\"{BOW_MODELS}TFIDF_win_{self.window}/tfidf_vectorizer_{self.window}\",\\'rb\\'))\\n        elif self.textual_features ==\\'glove\\':\\n            self.feature_extractor = glove_embeddings\\n        elif self.textual_features==\\'sbert\\':\\n            self.feature_extractor=lm_model\\n\\n        self.decision_map={}\\n\\n\\n\\n    def preprocess(self,text):\\n        if self.textual_features!=\\'lm\\':\\n            text=simplify(text, method=\\'lem\\')\\n        \\n        text_features=None\\n        \\n        if self.textual_features==\\'tfidf\\':\\n            text_features=self.feature_extractor.transform([text])\\n        elif self.textual_features==\\'glove\\':\\n            text_features = get_document_embeddings(text,self.feature_extractor)\\n        elif self.textual_features==\\'sbert\\':\\n            text_features = self.feature_extractor.encode(text,output_value=\\'sentence_embedding\\', convert_to_numpy=True, batch_size=64)\\n        \\n        if self.sentiment:\\n            tb_5 = TextBlob(text).sentiment\\n            pol,subj = tb_5\\n            vader_5 =sia.polarity_scores(text)\\n            neg, pos, neut, compound = vader_5[\\'neg\\'],vader_5[\\'neu\\'],vader_5[\\'pos\\'],vader_5[\\'compound\\']\\n            text_features = np.r_[text_features,pol,subj,neg, pos, neut, compound]\\n\\n        return text_features \\n\\n    def predict(self,user, text):\\n        if not user in self.decision_map:\\n            self.decision_map[user]=[]\\n        \\n        text_features = self.preprocess(text)\\n        pred = self.model.predict(text_features)\\n        return pred\\n        ###criterion\\n\\n\\n\\n'"
      ]
     },
     "execution_count": 18,
     "metadata": {},
     "output_type": "execute_result"
    }
   ],
   "source": [
    "\"\"\"\n",
    "class T1Classifier:\n",
    "    def __init__(self, name,  model, textual_features, criterion, sentiment=False,window=5):\n",
    "        self.name=name\n",
    "        self.window=window\n",
    "        self.textual_features=textual_features\n",
    "        self.model=model\n",
    "        self.sentiment=sentiment\n",
    "        self.criterion=criterion\n",
    "        if self.textual_features=='tfidf':\n",
    "            self.feature_extractor = pickle.load(open(f\"{BOW_MODELS}TFIDF_win_{self.window}/tfidf_vectorizer_{self.window}\",'rb'))\n",
    "        elif self.textual_features =='glove':\n",
    "            self.feature_extractor = glove_embeddings\n",
    "        elif self.textual_features=='sbert':\n",
    "            self.feature_extractor=lm_model\n",
    "\n",
    "        self.decision_map={}\n",
    "\n",
    "\n",
    "\n",
    "    def preprocess(self,text):\n",
    "        if self.textual_features!='lm':\n",
    "            text=simplify(text, method='lem')\n",
    "        \n",
    "        text_features=None\n",
    "        \n",
    "        if self.textual_features=='tfidf':\n",
    "            text_features=self.feature_extractor.transform([text])\n",
    "        elif self.textual_features=='glove':\n",
    "            text_features = get_document_embeddings(text,self.feature_extractor)\n",
    "        elif self.textual_features=='sbert':\n",
    "            text_features = self.feature_extractor.encode(text,output_value='sentence_embedding', convert_to_numpy=True, batch_size=64)\n",
    "        \n",
    "        if self.sentiment:\n",
    "            tb_5 = TextBlob(text).sentiment\n",
    "            pol,subj = tb_5\n",
    "            vader_5 =sia.polarity_scores(text)\n",
    "            neg, pos, neut, compound = vader_5['neg'],vader_5['neu'],vader_5['pos'],vader_5['compound']\n",
    "            text_features = np.r_[text_features,pol,subj,neg, pos, neut, compound]\n",
    "\n",
    "        return text_features \n",
    "\n",
    "    def predict(self,user, text):\n",
    "        if not user in self.decision_map:\n",
    "            self.decision_map[user]=[]\n",
    "        \n",
    "        text_features = self.preprocess(text)\n",
    "        pred = self.model.predict(text_features)\n",
    "        return pred\n",
    "        ###criterion\n",
    "\n",
    "\n",
    "\n",
    "\"\"\""
   ]
  }
 ],
 "metadata": {
  "kernelspec": {
   "display_name": "Python 3.9.0 64-bit",
   "language": "python",
   "name": "python3"
  },
  "language_info": {
   "codemirror_mode": {
    "name": "ipython",
    "version": 3
   },
   "file_extension": ".py",
   "mimetype": "text/x-python",
   "name": "python",
   "nbconvert_exporter": "python",
   "pygments_lexer": "ipython3",
   "version": "3.9.0"
  },
  "orig_nbformat": 4,
  "vscode": {
   "interpreter": {
    "hash": "98b9776bb1c906ffea5885633daef92fdfff9bdc53a036d784e355cfb10fec4f"
   }
  }
 },
 "nbformat": 4,
 "nbformat_minor": 2
}
