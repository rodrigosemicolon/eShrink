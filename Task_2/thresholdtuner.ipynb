{
 "cells": [
  {
   "cell_type": "code",
   "execution_count": 1,
   "metadata": {},
   "outputs": [],
   "source": [
    "import numpy as np\n",
    "import optuna\n",
    "import joblib\n",
    "import ast\n",
    "from sklearn.metrics import f1_score\n",
    "import os"
   ]
  },
  {
   "cell_type": "code",
   "execution_count": 2,
   "metadata": {},
   "outputs": [],
   "source": [
    "\n",
    "def criterion_evaluation(filename, max_round, criterion, thresholds):\n",
    "    f1_scores = []\n",
    "    for fold in range(5):\n",
    "        with open(f\"{filename}_{fold}.txt\", \"r\") as f:\n",
    "            true_labels = []\n",
    "            classifications = []\n",
    "            for line in f:\n",
    "                splt = line[:-1].split(\" \")\n",
    "                user, label = ast.literal_eval(splt[0].replace(\"(\",\"('\").replace(\",\",\"',\"))\n",
    "                true_labels.append(label)\n",
    "                splt = [ast.literal_eval(t) for t in splt[1:90+1]]\n",
    "                classification = 0\n",
    "                count = 0\n",
    "                for i, (pred, conf) in enumerate(splt):\n",
    "                    if (i + 10)>max_round:\n",
    "                        break\n",
    "                    if criterion == \"confidence\":#  and i%10==0:\n",
    "                        if pred==1 and conf >= thresholds[0] :\n",
    "                            classification= 1\n",
    "                    if criterion == \"ratio\" and conf >=thresholds[0]:# and i%10==0:\n",
    "                        count = count + pred\n",
    "                        if count/(10 + i) >= thresholds[1]:\n",
    "                            classification=1\n",
    "                    if criterion == \"confidence+\" and conf >=thresholds[0]:# and i%10==0:\n",
    "                        count = count + pred\n",
    "                        if count >= thresholds[1]:\n",
    "                            classification=1\n",
    "                    if criterion == \"consecutive\":# and i%10==0: ##added stride\n",
    "                        if pred==1 and conf >=thresholds[0]:\n",
    "                            count = count + 1\n",
    "                        else:\n",
    "                            count = 0\n",
    "                        if count == thresholds[1]:\n",
    "                            classification = 1\n",
    "                    \n",
    "                classifications.append(classification)\n",
    "        f1_scores.append(f1_score(true_labels,classifications))\n",
    "    return f1_scores"
   ]
  },
  {
   "cell_type": "code",
   "execution_count": 3,
   "metadata": {},
   "outputs": [],
   "source": [
    "max_round=100\n"
   ]
  },
  {
   "cell_type": "code",
   "execution_count": 4,
   "metadata": {},
   "outputs": [
    {
     "name": "stdout",
     "output_type": "stream",
     "text": [
      "BoW\n",
      "confidence threshold:{'confidence_threshold': 0.9856588028256127}    f1:0.3433333733685842\n",
      "ratio threshold:{'confidence_threshold': 0.971064677937617, 'ratio_threshold': 0.11875039864485193}    f1:0.3304645569292881\n",
      "consecutive threshold:{'confidence_threshold': 0.9704369957735005, 'consecutive_threshold': 10}    f1:0.3422668700190208\n",
      "confidence+ threshold:{'confidence_threshold': 0.9838588423286138, 'amount_threshold': 9}    f1:0.33391804611869286\n",
      "WE\n",
      "confidence threshold:{'confidence_threshold': 0.9613944732025228}    f1:0.23847414024213243\n",
      "ratio threshold:{'confidence_threshold': 0.8324604359982436, 'ratio_threshold': 0.5954725227191761}    f1:0.3410510829003517\n",
      "consecutive threshold:{'confidence_threshold': 0.8377408381660101, 'consecutive_threshold': 20}    f1:0.32776977023328235\n",
      "confidence+ threshold:{'confidence_threshold': 0.9077632675490228, 'amount_threshold': 15}    f1:0.33965757302017463\n",
      "LM\n",
      "confidence threshold:{'confidence_threshold': 0.9839363637083464}    f1:0.3870832031273582\n",
      "ratio threshold:{'confidence_threshold': 0.8403967974723432, 'ratio_threshold': 0.5106358625789491}    f1:0.3967960761429645\n",
      "consecutive threshold:{'confidence_threshold': 0.87096628576533, 'consecutive_threshold': 12}    f1:0.3628265482189915\n",
      "confidence+ threshold:{'confidence_threshold': 0.9320104430260812, 'amount_threshold': 12}    f1:0.3851665836062633\n",
      "NN\n",
      "confidence threshold:{'confidence_threshold': 0.7427754940949847}    f1:0.2543476050637129\n",
      "ratio threshold:{'confidence_threshold': 0.6939466899389785, 'ratio_threshold': 0.4477405725238538}    f1:0.3584900330172855\n",
      "consecutive threshold:{'confidence_threshold': 0.7042311793657563, 'consecutive_threshold': 14}    f1:0.3687537349616555\n",
      "confidence+ threshold:{'confidence_threshold': 0.6936963123522378, 'amount_threshold': 40}    f1:0.32435821282055366\n"
     ]
    }
   ],
   "source": [
    "for FEATURE_TYPE in ['BoW','WE','LM','NN']:\n",
    "    print(FEATURE_TYPE)\n",
    "    main_threshold=0\n",
    "    def objective_confidence(trial):\n",
    "        params = {\n",
    "            0: trial.suggest_float(\"confidence_threshold\", 0.5, 1)\n",
    "        }\n",
    "        return np.mean(criterion_evaluation(FEATURE_TYPE,max_round,\"confidence\", params))\n",
    "        \n",
    "    if not os.path.exists(f\"Thresholds2/{FEATURE_TYPE}_confidence_{max_round}.pkl\"):\n",
    "        study = optuna.create_study(study_name=f\"{FEATURE_TYPE}_confidence\",direction=\"maximize\", sampler=optuna.samplers.TPESampler(), pruner=optuna.pruners.NopPruner())\n",
    "        study.optimize(objective_confidence, n_trials=50, timeout=(60*60*3), gc_after_trial=True)\n",
    "        joblib.dump(study, f\"Thresholds2/{FEATURE_TYPE}_confidence_{max_round}.pkl\")\n",
    "    study = joblib.load(f\"Thresholds2/{FEATURE_TYPE}_confidence_{max_round}.pkl\")\n",
    "    print(f\"confidence threshold:{study.best_trial.params}    f1:{study.best_value}\") \n",
    "\n",
    "    def objective_ratio(trial):\n",
    "        params = {\n",
    "            0: trial.suggest_float(\"confidence_threshold\", 0.5, 1),\n",
    "            1: trial.suggest_float(\"ratio_threshold\", 0.01, 1)\n",
    "        }\n",
    "        return np.mean(criterion_evaluation(FEATURE_TYPE,max_round,\"ratio\", params))\n",
    "    \n",
    "    if not os.path.exists(f\"Thresholds2/{FEATURE_TYPE}_ratio_{max_round}.pkl\"):\n",
    "        \n",
    "        study2 = optuna.create_study(study_name=f\"{FEATURE_TYPE}_ratio\",direction=\"maximize\", sampler=optuna.samplers.TPESampler(), pruner=optuna.pruners.NopPruner())\n",
    "        study2.optimize(objective_ratio, n_trials=50, timeout=(60*60*3), gc_after_trial=True)\n",
    "        joblib.dump(study2, f\"Thresholds2/{FEATURE_TYPE}_ratio_{max_round}.pkl\")\n",
    "    study2 = joblib.load(f\"Thresholds2/{FEATURE_TYPE}_ratio_{max_round}.pkl\")\n",
    "    print(f\"ratio threshold:{study2.best_trial.params}    f1:{study2.best_value}\") \n",
    "\n",
    "    def objective_consecutive(trial):\n",
    "        params = {\n",
    "            0: trial.suggest_float(\"confidence_threshold\", 0.5, 1),\n",
    "            1: trial.suggest_int(\"consecutive_threshold\", 2, 100)\n",
    "        }\n",
    "        return np.mean(criterion_evaluation(FEATURE_TYPE,max_round,\"consecutive\", params))\n",
    "    if not os.path.exists(f\"Thresholds2/{FEATURE_TYPE}_consecutive_{max_round}.pkl\"):\n",
    "\n",
    "        study3 = optuna.create_study(study_name=f\"{FEATURE_TYPE}_consecutive\",direction=\"maximize\", sampler=optuna.samplers.TPESampler(), pruner=optuna.pruners.NopPruner())\n",
    "        study3.optimize(objective_consecutive, n_trials=50, timeout=(60*60*3), gc_after_trial=True)\n",
    "        joblib.dump(study3, f\"Thresholds2/{FEATURE_TYPE}_consecutive_{max_round}.pkl\")\n",
    "    study3 = joblib.load(f\"Thresholds2/{FEATURE_TYPE}_consecutive_{max_round}.pkl\")\n",
    "    \n",
    "    print(f\"consecutive threshold:{study3.best_trial.params}    f1:{study3.best_value}\") \n",
    "\n",
    "    def objective_confidenceplus(trial):\n",
    "        params = {\n",
    "            0: trial.suggest_float(\"confidence_threshold\", 0.5, 1),\n",
    "            1: trial.suggest_int(\"amount_threshold\", 2, 100)\n",
    "        }\n",
    "        return np.mean(criterion_evaluation(FEATURE_TYPE,max_round,\"confidence+\", params))\n",
    "    if not os.path.exists(f\"Thresholds2/{FEATURE_TYPE}_confidence+_{max_round}.pkl\"):\n",
    "\n",
    "        study4 = optuna.create_study(study_name=f\"{FEATURE_TYPE}_confidence+\",direction=\"maximize\", sampler=optuna.samplers.TPESampler(), pruner=optuna.pruners.NopPruner())\n",
    "        study4.optimize(objective_confidenceplus, n_trials=50, timeout=(60*60*3), gc_after_trial=True)\n",
    "        joblib.dump(study4, f\"Thresholds2/{FEATURE_TYPE}_confidence+_{max_round}.pkl\")\n",
    "    study4 = joblib.load(f\"Thresholds2/{FEATURE_TYPE}_confidence+_{max_round}.pkl\")\n",
    "    \n",
    "    print(f\"confidence+ threshold:{study4.best_trial.params}    f1:{study4.best_value}\") \n"
   ]
  }
 ],
 "metadata": {
  "kernelspec": {
   "display_name": "Python 3.9.0 64-bit",
   "language": "python",
   "name": "python3"
  },
  "language_info": {
   "codemirror_mode": {
    "name": "ipython",
    "version": 3
   },
   "file_extension": ".py",
   "mimetype": "text/x-python",
   "name": "python",
   "nbconvert_exporter": "python",
   "pygments_lexer": "ipython3",
   "version": "3.9.0"
  },
  "orig_nbformat": 4,
  "vscode": {
   "interpreter": {
    "hash": "98b9776bb1c906ffea5885633daef92fdfff9bdc53a036d784e355cfb10fec4f"
   }
  }
 },
 "nbformat": 4,
 "nbformat_minor": 2
}
