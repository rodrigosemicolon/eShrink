{
 "cells": [
  {
   "cell_type": "markdown",
   "metadata": {},
   "source": [
    "# Task 1 (Detecting pathological gamblers)\n",
    "### Using contextualized language models"
   ]
  },
  {
   "cell_type": "code",
   "execution_count": 1,
   "metadata": {},
   "outputs": [],
   "source": [
    "P_FILE = \"../posts.csv\"\n",
    "TRAIN_TOKEN=\"../train_df.csv\"\n",
    "TEST_TOKEN=\"../test_df.csv\"\n",
    "GENERAL_MODELS=\"../Models\"\n",
    "ROLLING_WINDOW_SIZE=10\n",
    "LM_MODEL=\"all-mpnet-base-v2\"\n",
    "CONVERTED=True\n",
    "MODEL_PATH =f\"{GENERAL_MODELS}/LM/NN_win_{ROLLING_WINDOW_SIZE}\" \n",
    "\n"
   ]
  },
  {
   "cell_type": "code",
   "execution_count": 2,
   "metadata": {},
   "outputs": [],
   "source": [
    "from pathlib import Path\n",
    "Path(MODEL_PATH).mkdir(parents=True, exist_ok=True)"
   ]
  },
  {
   "cell_type": "markdown",
   "metadata": {},
   "source": [
    "### opening resulting dataset with pandas"
   ]
  },
  {
   "cell_type": "code",
   "execution_count": 3,
   "metadata": {},
   "outputs": [
    {
     "data": {
      "text/html": [
       "<div>\n",
       "<style scoped>\n",
       "    .dataframe tbody tr th:only-of-type {\n",
       "        vertical-align: middle;\n",
       "    }\n",
       "\n",
       "    .dataframe tbody tr th {\n",
       "        vertical-align: top;\n",
       "    }\n",
       "\n",
       "    .dataframe thead th {\n",
       "        text-align: right;\n",
       "    }\n",
       "</style>\n",
       "<table border=\"1\" class=\"dataframe\">\n",
       "  <thead>\n",
       "    <tr style=\"text-align: right;\">\n",
       "      <th></th>\n",
       "      <th>User</th>\n",
       "      <th>Post_Nr</th>\n",
       "      <th>Raw</th>\n",
       "      <th>Stemmed</th>\n",
       "      <th>Lemmatized</th>\n",
       "      <th>Label</th>\n",
       "    </tr>\n",
       "  </thead>\n",
       "  <tbody>\n",
       "    <tr>\n",
       "      <th>0</th>\n",
       "      <td>3450</td>\n",
       "      <td>0</td>\n",
       "      <td>sports betting number k in debt, feeling very ...</td>\n",
       "      <td>sport bet number k in debt , feel veri depress...</td>\n",
       "      <td>sports betting number k in debt , feeling very...</td>\n",
       "      <td>1</td>\n",
       "    </tr>\n",
       "    <tr>\n",
       "      <th>1</th>\n",
       "      <td>3450</td>\n",
       "      <td>1</td>\n",
       "      <td>finally accepted that you cannot win gambling ...</td>\n",
       "      <td>final accept that you can not win gambl relaps...</td>\n",
       "      <td>finally accepted that you can not win gambling...</td>\n",
       "      <td>1</td>\n",
       "    </tr>\n",
       "    <tr>\n",
       "      <th>2</th>\n",
       "      <td>3450</td>\n",
       "      <td>2</td>\n",
       "      <td>blocking software betfilter has anybody used t...</td>\n",
       "      <td>block softwar betfilt has anybodi use this , w...</td>\n",
       "      <td>blocking software betfilter has anybody used t...</td>\n",
       "      <td>1</td>\n",
       "    </tr>\n",
       "    <tr>\n",
       "      <th>3</th>\n",
       "      <td>3450</td>\n",
       "      <td>3</td>\n",
       "      <td>prone to relapse when in debt? i find that whe...</td>\n",
       "      <td>prone to relaps when in debt ? i find that whe...</td>\n",
       "      <td>prone to relapse when in debt ? i find that wh...</td>\n",
       "      <td>1</td>\n",
       "    </tr>\n",
       "    <tr>\n",
       "      <th>4</th>\n",
       "      <td>3450</td>\n",
       "      <td>4</td>\n",
       "      <td>down to my last number on credit card i am num...</td>\n",
       "      <td>down to my last number on credit card i am num...</td>\n",
       "      <td>down to my last number on credit card i am num...</td>\n",
       "      <td>1</td>\n",
       "    </tr>\n",
       "    <tr>\n",
       "      <th>...</th>\n",
       "      <td>...</td>\n",
       "      <td>...</td>\n",
       "      <td>...</td>\n",
       "      <td>...</td>\n",
       "      <td>...</td>\n",
       "      <td>...</td>\n",
       "    </tr>\n",
       "    <tr>\n",
       "      <th>97853</th>\n",
       "      <td>162</td>\n",
       "      <td>670</td>\n",
       "      <td>you sick fuck</td>\n",
       "      <td>you sick fuck</td>\n",
       "      <td>you sick fuck</td>\n",
       "      <td>0</td>\n",
       "    </tr>\n",
       "    <tr>\n",
       "      <th>97854</th>\n",
       "      <td>162</td>\n",
       "      <td>671</td>\n",
       "      <td>reeeeeeeeeeeeeeeeeeeeeeeeeee</td>\n",
       "      <td>reeeeeeeeeeeeeeeeeeeeeeeeeee</td>\n",
       "      <td>reeeeeeeeeeeeeeeeeeeeeeeeeee</td>\n",
       "      <td>0</td>\n",
       "    </tr>\n",
       "    <tr>\n",
       "      <th>97855</th>\n",
       "      <td>162</td>\n",
       "      <td>672</td>\n",
       "      <td>this is so clearly satire! i really do not wan...</td>\n",
       "      <td>this is so clear satir ! i realli do not want ...</td>\n",
       "      <td>this is so clearly satire ! i really do not wa...</td>\n",
       "      <td>0</td>\n",
       "    </tr>\n",
       "    <tr>\n",
       "      <th>97856</th>\n",
       "      <td>162</td>\n",
       "      <td>673</td>\n",
       "      <td>he cannot write a story in number minutes</td>\n",
       "      <td>he can not write a stori in number minut</td>\n",
       "      <td>he can not write a story in number minutes</td>\n",
       "      <td>0</td>\n",
       "    </tr>\n",
       "    <tr>\n",
       "      <th>97857</th>\n",
       "      <td>162</td>\n",
       "      <td>674</td>\n",
       "      <td>pay your respekt people!</td>\n",
       "      <td>pay your respekt peopl !</td>\n",
       "      <td>pay your respekt people !</td>\n",
       "      <td>0</td>\n",
       "    </tr>\n",
       "  </tbody>\n",
       "</table>\n",
       "<p>97858 rows × 6 columns</p>\n",
       "</div>"
      ],
      "text/plain": [
       "       User  Post_Nr                                                Raw  \\\n",
       "0      3450        0  sports betting number k in debt, feeling very ...   \n",
       "1      3450        1  finally accepted that you cannot win gambling ...   \n",
       "2      3450        2  blocking software betfilter has anybody used t...   \n",
       "3      3450        3  prone to relapse when in debt? i find that whe...   \n",
       "4      3450        4  down to my last number on credit card i am num...   \n",
       "...     ...      ...                                                ...   \n",
       "97853   162      670                                      you sick fuck   \n",
       "97854   162      671                       reeeeeeeeeeeeeeeeeeeeeeeeeee   \n",
       "97855   162      672  this is so clearly satire! i really do not wan...   \n",
       "97856   162      673          he cannot write a story in number minutes   \n",
       "97857   162      674                           pay your respekt people!   \n",
       "\n",
       "                                                 Stemmed  \\\n",
       "0      sport bet number k in debt , feel veri depress...   \n",
       "1      final accept that you can not win gambl relaps...   \n",
       "2      block softwar betfilt has anybodi use this , w...   \n",
       "3      prone to relaps when in debt ? i find that whe...   \n",
       "4      down to my last number on credit card i am num...   \n",
       "...                                                  ...   \n",
       "97853                                      you sick fuck   \n",
       "97854                       reeeeeeeeeeeeeeeeeeeeeeeeeee   \n",
       "97855  this is so clear satir ! i realli do not want ...   \n",
       "97856           he can not write a stori in number minut   \n",
       "97857                           pay your respekt peopl !   \n",
       "\n",
       "                                              Lemmatized  Label  \n",
       "0      sports betting number k in debt , feeling very...      1  \n",
       "1      finally accepted that you can not win gambling...      1  \n",
       "2      blocking software betfilter has anybody used t...      1  \n",
       "3      prone to relapse when in debt ? i find that wh...      1  \n",
       "4      down to my last number on credit card i am num...      1  \n",
       "...                                                  ...    ...  \n",
       "97853                                      you sick fuck      0  \n",
       "97854                       reeeeeeeeeeeeeeeeeeeeeeeeeee      0  \n",
       "97855  this is so clearly satire ! i really do not wa...      0  \n",
       "97856         he can not write a story in number minutes      0  \n",
       "97857                          pay your respekt people !      0  \n",
       "\n",
       "[97858 rows x 6 columns]"
      ]
     },
     "execution_count": 3,
     "metadata": {},
     "output_type": "execute_result"
    }
   ],
   "source": [
    "import pandas as pd\n",
    "import numpy as np\n",
    "import os\n",
    "seed=23\n",
    "np.random.seed(seed)\n",
    "\n",
    "train_df = pd.read_csv(TRAIN_TOKEN, sep='\\t')\n",
    "test_df = pd.read_csv(TEST_TOKEN, sep='\\t')\n",
    "train_df"
   ]
  },
  {
   "cell_type": "code",
   "execution_count": 4,
   "metadata": {},
   "outputs": [],
   "source": [
    "def rolling_window(df, window_size,stride, field):\n",
    "    res_map={}\n",
    "    for user in df['User'].unique():\n",
    "        user_df = df[df['User']==user]\n",
    "        res_map[user]=(user_df['Label'].values[0],{})\n",
    "        posts = user_df[field].values\n",
    "        iteration=0\n",
    "        for i in range(0,len(posts),stride):\n",
    "            res_map[user][1][iteration]=' '.join((posts[i:i+window_size]))\n",
    "            iteration+=1\n",
    "    result_df = pd.DataFrame([(k,k1,v1,v[0]) for k,v in res_map.items() for k1,v1 in v[1].items()], columns = ['User','Window_id','Text','Label'])\n",
    "    \n",
    "    return result_df"
   ]
  },
  {
   "cell_type": "code",
   "execution_count": 5,
   "metadata": {},
   "outputs": [
    {
     "data": {
      "text/html": [
       "<div>\n",
       "<style scoped>\n",
       "    .dataframe tbody tr th:only-of-type {\n",
       "        vertical-align: middle;\n",
       "    }\n",
       "\n",
       "    .dataframe tbody tr th {\n",
       "        vertical-align: top;\n",
       "    }\n",
       "\n",
       "    .dataframe thead th {\n",
       "        text-align: right;\n",
       "    }\n",
       "</style>\n",
       "<table border=\"1\" class=\"dataframe\">\n",
       "  <thead>\n",
       "    <tr style=\"text-align: right;\">\n",
       "      <th></th>\n",
       "      <th>User</th>\n",
       "      <th>Window_id</th>\n",
       "      <th>Text</th>\n",
       "      <th>Label</th>\n",
       "    </tr>\n",
       "  </thead>\n",
       "  <tbody>\n",
       "    <tr>\n",
       "      <th>0</th>\n",
       "      <td>3450</td>\n",
       "      <td>0</td>\n",
       "      <td>sports betting number k in debt, feeling very ...</td>\n",
       "      <td>1</td>\n",
       "    </tr>\n",
       "    <tr>\n",
       "      <th>1</th>\n",
       "      <td>3450</td>\n",
       "      <td>1</td>\n",
       "      <td>finally accepted that you cannot win gambling ...</td>\n",
       "      <td>1</td>\n",
       "    </tr>\n",
       "    <tr>\n",
       "      <th>2</th>\n",
       "      <td>3450</td>\n",
       "      <td>2</td>\n",
       "      <td>blocking software betfilter has anybody used t...</td>\n",
       "      <td>1</td>\n",
       "    </tr>\n",
       "    <tr>\n",
       "      <th>3</th>\n",
       "      <td>3450</td>\n",
       "      <td>3</td>\n",
       "      <td>prone to relapse when in debt? i find that whe...</td>\n",
       "      <td>1</td>\n",
       "    </tr>\n",
       "    <tr>\n",
       "      <th>4</th>\n",
       "      <td>3450</td>\n",
       "      <td>4</td>\n",
       "      <td>down to my last number on credit card i am num...</td>\n",
       "      <td>1</td>\n",
       "    </tr>\n",
       "    <tr>\n",
       "      <th>...</th>\n",
       "      <td>...</td>\n",
       "      <td>...</td>\n",
       "      <td>...</td>\n",
       "      <td>...</td>\n",
       "    </tr>\n",
       "    <tr>\n",
       "      <th>97853</th>\n",
       "      <td>162</td>\n",
       "      <td>670</td>\n",
       "      <td>you sick fuck reeeeeeeeeeeeeeeeeeeeeeeeeee thi...</td>\n",
       "      <td>0</td>\n",
       "    </tr>\n",
       "    <tr>\n",
       "      <th>97854</th>\n",
       "      <td>162</td>\n",
       "      <td>671</td>\n",
       "      <td>reeeeeeeeeeeeeeeeeeeeeeeeeee this is so clearl...</td>\n",
       "      <td>0</td>\n",
       "    </tr>\n",
       "    <tr>\n",
       "      <th>97855</th>\n",
       "      <td>162</td>\n",
       "      <td>672</td>\n",
       "      <td>this is so clearly satire! i really do not wan...</td>\n",
       "      <td>0</td>\n",
       "    </tr>\n",
       "    <tr>\n",
       "      <th>97856</th>\n",
       "      <td>162</td>\n",
       "      <td>673</td>\n",
       "      <td>he cannot write a story in number minutes pay ...</td>\n",
       "      <td>0</td>\n",
       "    </tr>\n",
       "    <tr>\n",
       "      <th>97857</th>\n",
       "      <td>162</td>\n",
       "      <td>674</td>\n",
       "      <td>pay your respekt people!</td>\n",
       "      <td>0</td>\n",
       "    </tr>\n",
       "  </tbody>\n",
       "</table>\n",
       "<p>97858 rows × 4 columns</p>\n",
       "</div>"
      ],
      "text/plain": [
       "       User  Window_id                                               Text  \\\n",
       "0      3450          0  sports betting number k in debt, feeling very ...   \n",
       "1      3450          1  finally accepted that you cannot win gambling ...   \n",
       "2      3450          2  blocking software betfilter has anybody used t...   \n",
       "3      3450          3  prone to relapse when in debt? i find that whe...   \n",
       "4      3450          4  down to my last number on credit card i am num...   \n",
       "...     ...        ...                                                ...   \n",
       "97853   162        670  you sick fuck reeeeeeeeeeeeeeeeeeeeeeeeeee thi...   \n",
       "97854   162        671  reeeeeeeeeeeeeeeeeeeeeeeeeee this is so clearl...   \n",
       "97855   162        672  this is so clearly satire! i really do not wan...   \n",
       "97856   162        673  he cannot write a story in number minutes pay ...   \n",
       "97857   162        674                           pay your respekt people!   \n",
       "\n",
       "       Label  \n",
       "0          1  \n",
       "1          1  \n",
       "2          1  \n",
       "3          1  \n",
       "4          1  \n",
       "...      ...  \n",
       "97853      0  \n",
       "97854      0  \n",
       "97855      0  \n",
       "97856      0  \n",
       "97857      0  \n",
       "\n",
       "[97858 rows x 4 columns]"
      ]
     },
     "execution_count": 5,
     "metadata": {},
     "output_type": "execute_result"
    }
   ],
   "source": [
    "train_df = rolling_window(train_df,ROLLING_WINDOW_SIZE,1,'Raw')\n",
    "test_df = rolling_window(test_df,ROLLING_WINDOW_SIZE,1,'Raw')\n",
    "\n",
    "train_df"
   ]
  },
  {
   "cell_type": "code",
   "execution_count": 6,
   "metadata": {},
   "outputs": [],
   "source": [
    "import pickle\n",
    "#Store sentences & embeddings on disc\n",
    "def save_embeddings(filepath, embeddings):\n",
    "    with open(filepath, \"wb\") as fOut:\n",
    "        pickle.dump({ 'embeddings': embeddings}, fOut, protocol=pickle.HIGHEST_PROTOCOL)\n",
    "\n",
    "#Load sentences & embeddings from disc\n",
    "def load_embeddings(filepath):\n",
    "    with open(filepath, \"rb\") as fIn:\n",
    "        stored_data = pickle.load(fIn)\n",
    "        stored_embeddings = stored_data['embeddings']\n",
    "    return stored_embeddings   "
   ]
  },
  {
   "cell_type": "code",
   "execution_count": 7,
   "metadata": {},
   "outputs": [],
   "source": [
    "if not CONVERTED:\n",
    "    from sentence_transformers import SentenceTransformer\n",
    "    model = SentenceTransformer(LM_MODEL)\n",
    "\n",
    "    model.max_seq_length = 512\n",
    "    train_sentence_embeddings = model.encode(train_df['Text'],show_progress_bar=True,\\\n",
    "                output_value='sentence_embedding', batch_size=64,convert_to_numpy=True)\n",
    "\n",
    "    val_sentence_embeddings = model.encode(test_df['Text'],show_progress_bar=True,\\\n",
    "                output_value='sentence_embedding', batch_size=64,convert_to_numpy=True)\n",
    "\n"
   ]
  },
  {
   "cell_type": "code",
   "execution_count": 8,
   "metadata": {},
   "outputs": [],
   "source": [
    "#if not CONVERTED:\n",
    "#    save_embeddings(f\"./NN_train_sentence_embeddings_{LM_MODEL}_{ROLLING_WINDOW_SIZE}.pkl\",train_sentence_embeddings)\n",
    "#    save_embeddings(f\"./NN_val_sentence_embeddings_{LM_MODEL}_{ROLLING_WINDOW_SIZE}.pkl\",val_sentence_embeddings)\n",
    "\n",
    "train_sentence_embeddings = load_embeddings(f\"./train_sentence_embeddings_{LM_MODEL}_{ROLLING_WINDOW_SIZE}.pkl\")\n",
    "val_sentence_embeddings = load_embeddings(f\"./val_sentence_embeddings_{LM_MODEL}_{ROLLING_WINDOW_SIZE}.pkl\")\n",
    "\n"
   ]
  },
  {
   "cell_type": "code",
   "execution_count": 9,
   "metadata": {},
   "outputs": [],
   "source": [
    "\n",
    "test_df['Vector'] = pd.DataFrame(data=val_sentence_embeddings).values.tolist()\n",
    "train_df['Vector'] = pd.DataFrame(data=train_sentence_embeddings).values.tolist()\n"
   ]
  },
  {
   "cell_type": "code",
   "execution_count": 10,
   "metadata": {},
   "outputs": [],
   "source": [
    "train_df.to_csv(\"lm_train_df_10.csv\",index=False)\n",
    "test_df.to_csv(\"lm_val_df_10.csv\",index=False)\n"
   ]
  },
  {
   "cell_type": "code",
   "execution_count": 11,
   "metadata": {},
   "outputs": [
    {
     "data": {
      "text/html": [
       "<div>\n",
       "<style scoped>\n",
       "    .dataframe tbody tr th:only-of-type {\n",
       "        vertical-align: middle;\n",
       "    }\n",
       "\n",
       "    .dataframe tbody tr th {\n",
       "        vertical-align: top;\n",
       "    }\n",
       "\n",
       "    .dataframe thead th {\n",
       "        text-align: right;\n",
       "    }\n",
       "</style>\n",
       "<table border=\"1\" class=\"dataframe\">\n",
       "  <thead>\n",
       "    <tr style=\"text-align: right;\">\n",
       "      <th></th>\n",
       "      <th>User</th>\n",
       "      <th>Window_id</th>\n",
       "      <th>Text</th>\n",
       "      <th>Label</th>\n",
       "      <th>Vector</th>\n",
       "    </tr>\n",
       "  </thead>\n",
       "  <tbody>\n",
       "    <tr>\n",
       "      <th>0</th>\n",
       "      <td>3450</td>\n",
       "      <td>0</td>\n",
       "      <td>sports betting number k in debt, feeling very ...</td>\n",
       "      <td>1</td>\n",
       "      <td>[0.001481963787227869, 0.08722537010908127, -0...</td>\n",
       "    </tr>\n",
       "    <tr>\n",
       "      <th>1</th>\n",
       "      <td>3450</td>\n",
       "      <td>1</td>\n",
       "      <td>finally accepted that you cannot win gambling ...</td>\n",
       "      <td>1</td>\n",
       "      <td>[0.0011301715858280659, 0.09679407626390457, -...</td>\n",
       "    </tr>\n",
       "    <tr>\n",
       "      <th>2</th>\n",
       "      <td>3450</td>\n",
       "      <td>2</td>\n",
       "      <td>blocking software betfilter has anybody used t...</td>\n",
       "      <td>1</td>\n",
       "      <td>[0.0012601062189787626, 0.08274412155151367, -...</td>\n",
       "    </tr>\n",
       "    <tr>\n",
       "      <th>3</th>\n",
       "      <td>3450</td>\n",
       "      <td>3</td>\n",
       "      <td>prone to relapse when in debt? i find that whe...</td>\n",
       "      <td>1</td>\n",
       "      <td>[0.018009161576628685, 0.05251404270529747, -0...</td>\n",
       "    </tr>\n",
       "    <tr>\n",
       "      <th>4</th>\n",
       "      <td>3450</td>\n",
       "      <td>4</td>\n",
       "      <td>down to my last number on credit card i am num...</td>\n",
       "      <td>1</td>\n",
       "      <td>[-0.006508147809654474, 0.08554978668689728, -...</td>\n",
       "    </tr>\n",
       "    <tr>\n",
       "      <th>...</th>\n",
       "      <td>...</td>\n",
       "      <td>...</td>\n",
       "      <td>...</td>\n",
       "      <td>...</td>\n",
       "      <td>...</td>\n",
       "    </tr>\n",
       "    <tr>\n",
       "      <th>97853</th>\n",
       "      <td>162</td>\n",
       "      <td>670</td>\n",
       "      <td>you sick fuck reeeeeeeeeeeeeeeeeeeeeeeeeee thi...</td>\n",
       "      <td>0</td>\n",
       "      <td>[0.04130152612924576, 0.0463968887925148, -0.0...</td>\n",
       "    </tr>\n",
       "    <tr>\n",
       "      <th>97854</th>\n",
       "      <td>162</td>\n",
       "      <td>671</td>\n",
       "      <td>reeeeeeeeeeeeeeeeeeeeeeeeeee this is so clearl...</td>\n",
       "      <td>0</td>\n",
       "      <td>[0.044361602514982224, 0.03786471486091614, -0...</td>\n",
       "    </tr>\n",
       "    <tr>\n",
       "      <th>97855</th>\n",
       "      <td>162</td>\n",
       "      <td>672</td>\n",
       "      <td>this is so clearly satire! i really do not wan...</td>\n",
       "      <td>0</td>\n",
       "      <td>[0.04709811136126518, 0.04260839894413948, -0....</td>\n",
       "    </tr>\n",
       "    <tr>\n",
       "      <th>97856</th>\n",
       "      <td>162</td>\n",
       "      <td>673</td>\n",
       "      <td>he cannot write a story in number minutes pay ...</td>\n",
       "      <td>0</td>\n",
       "      <td>[-0.017870843410491943, 0.004002168774604797, ...</td>\n",
       "    </tr>\n",
       "    <tr>\n",
       "      <th>97857</th>\n",
       "      <td>162</td>\n",
       "      <td>674</td>\n",
       "      <td>pay your respekt people!</td>\n",
       "      <td>0</td>\n",
       "      <td>[-0.031992845237255096, 0.04143917188048363, -...</td>\n",
       "    </tr>\n",
       "  </tbody>\n",
       "</table>\n",
       "<p>97858 rows × 5 columns</p>\n",
       "</div>"
      ],
      "text/plain": [
       "       User  Window_id                                               Text  \\\n",
       "0      3450          0  sports betting number k in debt, feeling very ...   \n",
       "1      3450          1  finally accepted that you cannot win gambling ...   \n",
       "2      3450          2  blocking software betfilter has anybody used t...   \n",
       "3      3450          3  prone to relapse when in debt? i find that whe...   \n",
       "4      3450          4  down to my last number on credit card i am num...   \n",
       "...     ...        ...                                                ...   \n",
       "97853   162        670  you sick fuck reeeeeeeeeeeeeeeeeeeeeeeeeee thi...   \n",
       "97854   162        671  reeeeeeeeeeeeeeeeeeeeeeeeeee this is so clearl...   \n",
       "97855   162        672  this is so clearly satire! i really do not wan...   \n",
       "97856   162        673  he cannot write a story in number minutes pay ...   \n",
       "97857   162        674                           pay your respekt people!   \n",
       "\n",
       "       Label                                             Vector  \n",
       "0          1  [0.001481963787227869, 0.08722537010908127, -0...  \n",
       "1          1  [0.0011301715858280659, 0.09679407626390457, -...  \n",
       "2          1  [0.0012601062189787626, 0.08274412155151367, -...  \n",
       "3          1  [0.018009161576628685, 0.05251404270529747, -0...  \n",
       "4          1  [-0.006508147809654474, 0.08554978668689728, -...  \n",
       "...      ...                                                ...  \n",
       "97853      0  [0.04130152612924576, 0.0463968887925148, -0.0...  \n",
       "97854      0  [0.044361602514982224, 0.03786471486091614, -0...  \n",
       "97855      0  [0.04709811136126518, 0.04260839894413948, -0....  \n",
       "97856      0  [-0.017870843410491943, 0.004002168774604797, ...  \n",
       "97857      0  [-0.031992845237255096, 0.04143917188048363, -...  \n",
       "\n",
       "[97858 rows x 5 columns]"
      ]
     },
     "execution_count": 11,
     "metadata": {},
     "output_type": "execute_result"
    }
   ],
   "source": [
    "train_df"
   ]
  },
  {
   "cell_type": "markdown",
   "metadata": {},
   "source": [
    "## Model part"
   ]
  },
  {
   "cell_type": "code",
   "execution_count": 12,
   "metadata": {},
   "outputs": [],
   "source": [
    "import torch\n",
    "import torch.nn as nn\n",
    "from torch.utils.data import Dataset, DataLoader\n",
    "\n",
    "torch.manual_seed(seed)\n",
    "\n",
    "\n",
    "class WritingWindowDataset(Dataset):\n",
    "    def __init__(self, vectors, labels):\n",
    "\n",
    "        self.labels = [label for label in labels]\n",
    "        self.vectors = [vector for vector in vectors]\n",
    "    def classes(self):\n",
    "        return self.labels\n",
    "\n",
    "    def __len__(self):\n",
    "        return len(self.labels)\n",
    "\n",
    "    def get_batch_labels(self, idx):\n",
    "        # Fetch a batch of labels\n",
    "        return np.array(self.labels[idx])\n",
    "\n",
    "    def get_batch_vectors(self, idx):\n",
    "        # Fetch a batch of inputs\n",
    "        return self.vectors[idx]\n",
    "\n",
    "    def __getitem__(self, idx):\n",
    "\n",
    "        batch_vectors = self.get_batch_vectors(idx)\n",
    "        batch_y = self.get_batch_labels(idx)\n",
    "        \n",
    "\n",
    "        return batch_vectors, batch_y"
   ]
  },
  {
   "cell_type": "code",
   "execution_count": 13,
   "metadata": {},
   "outputs": [],
   "source": [
    "full_ds = WritingWindowDataset(np.concatenate((train_sentence_embeddings, val_sentence_embeddings), axis=0), pd.concat([train_df['Label'], test_df['Label']]))"
   ]
  },
  {
   "cell_type": "code",
   "execution_count": 14,
   "metadata": {},
   "outputs": [],
   "source": [
    "class LmNeuralNetwork(nn.Module):\n",
    "    def __init__(self, trial):\n",
    "        super(LmNeuralNetwork, self).__init__()\n",
    "        \n",
    "        self.layers=[]\n",
    "        n_layers = trial.suggest_int(\"n_layers\", 1, 3)\n",
    "\n",
    "        in_features = 768\n",
    "        for i in range(n_layers):\n",
    "            out_features = trial.suggest_int(\"n_units_l{}\".format(i), 4, min(in_features,128))\n",
    "            self.layers.append(nn.Linear(in_features, out_features))\n",
    "            self.layers.append(nn.ReLU())\n",
    "            p = trial.suggest_float(\"dropout_l{}\".format(i), 0.2, 0.5, step=0.05)\n",
    "            self.layers.append(nn.Dropout(p))\n",
    "\n",
    "            in_features = out_features\n",
    "        self.layers.append(nn.Linear(in_features, 1))\n",
    "        self.cls_layers = torch.nn.ModuleList(self.layers)\n",
    "    def forward(self, x):\n",
    "\n",
    "        for layer in self.cls_layers:\n",
    "            x = layer(x)\n",
    "        return torch.sigmoid(x)\n"
   ]
  },
  {
   "cell_type": "code",
   "execution_count": 15,
   "metadata": {},
   "outputs": [],
   "source": [
    "from sklearn.model_selection import StratifiedKFold\n",
    "n_folds=5\n",
    "skf = StratifiedKFold(n_splits=n_folds)\n",
    "def objective(trial):\n",
    "    \n",
    "    user_label_df =train_df.drop_duplicates('User')\n",
    "    users = user_label_df['User'].to_numpy()\n",
    "    labels = user_label_df['Label'].to_numpy()\n",
    "\n",
    "    params = {'learning_rate': trial.suggest_loguniform('learning_rate', 1e-5, 1e-2)}\n",
    "    score=[]\n",
    "    for fold, (user_train_ids, user_val_ids) in enumerate(skf.split(users,labels)):\n",
    "        model= LmNeuralNetwork(trial)\n",
    "        train_users = [users[f] for f in user_train_ids]\n",
    "        val_users = [users[f] for f in user_val_ids]\n",
    "        train_ids = train_df.index[train_df['User'].isin(train_users)].to_list()\n",
    "        val_ids = train_df.index[train_df['User'].isin(val_users)].to_list()\n",
    "\n",
    "        train_data = torch.utils.data.Subset(full_ds, train_ids)\n",
    "        val_data = torch.utils.data.Subset(full_ds, val_ids)\n",
    "\n",
    "        trainloader = torch.utils.data.DataLoader(\n",
    "                        train_data, \n",
    "                        batch_size=32, \n",
    "                        shuffle=True)\n",
    "        valloader = torch.utils.data.DataLoader(\n",
    "                        val_data,\n",
    "                        batch_size=32,\n",
    "                        shuffle=True)\n",
    "        print(f\"Fold {fold}\")\n",
    "        res = train_eval(trial,model,params,10,trainloader,valloader)\n",
    "        score.append(res)\n",
    "    return np.mean(score)\n",
    "       "
   ]
  },
  {
   "cell_type": "code",
   "execution_count": 16,
   "metadata": {},
   "outputs": [],
   "source": [
    "from torch.optim import AdamW\n",
    "from tqdm import tqdm\n",
    "from sklearn.metrics import f1_score\n",
    "BATCH_SIZE = 32\n",
    "\n",
    "def train_eval(trial,model, params, epochs, train_dataloader, val_dataloader):\n",
    "\n",
    "   \n",
    "    model = model.cuda()\n",
    "    optimizer = AdamW(model.parameters(), lr=params['learning_rate'])#, lr= learning_rate)\n",
    "\n",
    "    use_cuda = torch.cuda.is_available()\n",
    "    device = torch.device(\"cuda\" if use_cuda else \"cpu\")\n",
    "\n",
    "    criterion = nn.BCELoss()\n",
    "    \n",
    "            \n",
    "\n",
    "    for epoch_num in range(epochs):\n",
    "       \n",
    "        total_loss_train = 0\n",
    "        train_preds = np.array([])\n",
    "        train_targets = np.array([])\n",
    "        model.train()\n",
    "        for train_input, train_label in tqdm(train_dataloader):\n",
    "\n",
    "            train_label = train_label.to(device)\n",
    "            train_label = train_label.float()\n",
    "            train_label = train_label.unsqueeze(1)\n",
    "            features = train_input.to(device)\n",
    "            \n",
    "\n",
    "            output = model(features)\n",
    "            batch_loss = criterion(output, train_label)\n",
    "            total_loss_train += float(batch_loss.item())\n",
    "            \n",
    "            train_preds = np.concatenate((train_preds,torch.round(output).detach().cpu().numpy().flatten()),axis=0)\n",
    "            train_targets = np.concatenate((train_targets,train_label.detach().cpu().numpy().flatten()),axis=0)\n",
    "\n",
    "            \n",
    "            model.zero_grad()\n",
    "            batch_loss.backward()\n",
    "            optimizer.step()\n",
    "        train_loss=total_loss_train/len(train_preds)\n",
    "        train_f1 = f1_score(train_targets,train_preds)\n",
    "\n",
    "        total_loss_val = 0\n",
    "        val_preds = np.array([])\n",
    "        val_targets = np.array([])\n",
    "        model.eval()\n",
    "        with torch.no_grad():\n",
    "\n",
    "            for val_input, val_label in val_dataloader:\n",
    "\n",
    "                val_label = val_label.to(device)\n",
    "                val_label = val_label.float()\n",
    "                val_label = val_label.unsqueeze(1)\n",
    "\n",
    "                features = val_input.to(device)\n",
    "\n",
    "                output = model(features)\n",
    "\n",
    "                batch_loss = criterion(output, val_label)\n",
    "                total_loss_val += float(batch_loss.item())\n",
    "                val_preds = np.concatenate((val_preds,torch.round(output).detach().cpu().numpy().flatten()),axis=0)\n",
    "                val_targets = np.concatenate((val_targets,val_label.detach().cpu().numpy().flatten()),axis=0)\n",
    "\n",
    "                \n",
    "        val_f1 = f1_score(val_targets,val_preds)\n",
    "        val_loss=total_loss_val/len(val_preds)\n",
    "        \n",
    "        \n",
    "        print(\n",
    "                f'Epochs: {epoch_num + 1} | Train Loss: {train_loss: .4f} \\\n",
    "                | Train F1: {train_f1: .4f} \\\n",
    "                | Val Loss: {val_loss: .4f} \\\n",
    "                | Val F1: {val_f1: .4f}')\n",
    "\n",
    "\n",
    "    return val_f1\n"
   ]
  },
  {
   "cell_type": "code",
   "execution_count": 17,
   "metadata": {},
   "outputs": [
    {
     "name": "stderr",
     "output_type": "stream",
     "text": [
      "\u001b[32m[I 2022-06-16 15:50:23,892]\u001b[0m A new study created in memory with name: LM_NN_Tuning_10_all-mpnet-base-v2\u001b[0m\n"
     ]
    }
   ],
   "source": [
    "import optuna\n",
    "import joblib\n",
    "study = optuna.create_study(study_name=f\"LM_NN_Tuning_{ROLLING_WINDOW_SIZE}_{LM_MODEL}\",direction=\"maximize\", sampler=optuna.samplers.TPESampler(), pruner=optuna.pruners.NopPruner())\n",
    "#study = joblib.load(f\"hyperparameterstudy{ROLLING_WINDOW_SIZE}.pkl\")\n",
    "\n"
   ]
  },
  {
   "cell_type": "code",
   "execution_count": 18,
   "metadata": {},
   "outputs": [
    {
     "name": "stdout",
     "output_type": "stream",
     "text": [
      "Fold 0\n"
     ]
    },
    {
     "name": "stderr",
     "output_type": "stream",
     "text": [
      "100%|██████████| 2399/2399 [00:14<00:00, 168.64it/s]\n"
     ]
    },
    {
     "name": "stdout",
     "output_type": "stream",
     "text": [
      "Epochs: 1 | Train Loss:  0.0153                 | Train F1:  0.8119                 | Val Loss:  0.0134                 | Val F1:  0.7718\n"
     ]
    },
    {
     "name": "stderr",
     "output_type": "stream",
     "text": [
      "100%|██████████| 2399/2399 [00:06<00:00, 354.25it/s]\n"
     ]
    },
    {
     "name": "stdout",
     "output_type": "stream",
     "text": [
      "Epochs: 2 | Train Loss:  0.0102                 | Train F1:  0.8525                 | Val Loss:  0.0133                 | Val F1:  0.7680\n"
     ]
    },
    {
     "name": "stderr",
     "output_type": "stream",
     "text": [
      "100%|██████████| 2399/2399 [00:06<00:00, 346.41it/s]\n"
     ]
    },
    {
     "name": "stdout",
     "output_type": "stream",
     "text": [
      "Epochs: 3 | Train Loss:  0.0092                 | Train F1:  0.8646                 | Val Loss:  0.0133                 | Val F1:  0.7703\n"
     ]
    },
    {
     "name": "stderr",
     "output_type": "stream",
     "text": [
      "100%|██████████| 2399/2399 [00:06<00:00, 345.05it/s]\n"
     ]
    },
    {
     "name": "stdout",
     "output_type": "stream",
     "text": [
      "Epochs: 4 | Train Loss:  0.0087                 | Train F1:  0.8725                 | Val Loss:  0.0135                 | Val F1:  0.7691\n"
     ]
    },
    {
     "name": "stderr",
     "output_type": "stream",
     "text": [
      "100%|██████████| 2399/2399 [00:06<00:00, 346.13it/s]\n"
     ]
    },
    {
     "name": "stdout",
     "output_type": "stream",
     "text": [
      "Epochs: 5 | Train Loss:  0.0084                 | Train F1:  0.8780                 | Val Loss:  0.0137                 | Val F1:  0.7673\n"
     ]
    },
    {
     "name": "stderr",
     "output_type": "stream",
     "text": [
      "100%|██████████| 2399/2399 [00:06<00:00, 346.27it/s]\n"
     ]
    },
    {
     "name": "stdout",
     "output_type": "stream",
     "text": [
      "Epochs: 6 | Train Loss:  0.0082                 | Train F1:  0.8830                 | Val Loss:  0.0137                 | Val F1:  0.7664\n"
     ]
    },
    {
     "name": "stderr",
     "output_type": "stream",
     "text": [
      "100%|██████████| 2399/2399 [00:06<00:00, 343.73it/s]\n"
     ]
    },
    {
     "name": "stdout",
     "output_type": "stream",
     "text": [
      "Epochs: 7 | Train Loss:  0.0080                 | Train F1:  0.8851                 | Val Loss:  0.0138                 | Val F1:  0.7655\n"
     ]
    },
    {
     "name": "stderr",
     "output_type": "stream",
     "text": [
      "100%|██████████| 2399/2399 [00:06<00:00, 345.14it/s]\n"
     ]
    },
    {
     "name": "stdout",
     "output_type": "stream",
     "text": [
      "Epochs: 8 | Train Loss:  0.0078                 | Train F1:  0.8884                 | Val Loss:  0.0139                 | Val F1:  0.7643\n"
     ]
    },
    {
     "name": "stderr",
     "output_type": "stream",
     "text": [
      "100%|██████████| 2399/2399 [00:06<00:00, 345.69it/s]\n"
     ]
    },
    {
     "name": "stdout",
     "output_type": "stream",
     "text": [
      "Epochs: 9 | Train Loss:  0.0077                 | Train F1:  0.8889                 | Val Loss:  0.0140                 | Val F1:  0.7636\n"
     ]
    },
    {
     "name": "stderr",
     "output_type": "stream",
     "text": [
      "100%|██████████| 2399/2399 [00:06<00:00, 344.90it/s]\n"
     ]
    },
    {
     "name": "stdout",
     "output_type": "stream",
     "text": [
      "Epochs: 10 | Train Loss:  0.0075                 | Train F1:  0.8911                 | Val Loss:  0.0141                 | Val F1:  0.7629\n",
      "Fold 1\n"
     ]
    },
    {
     "name": "stderr",
     "output_type": "stream",
     "text": [
      "100%|██████████| 2485/2485 [00:07<00:00, 345.45it/s]\n"
     ]
    },
    {
     "name": "stdout",
     "output_type": "stream",
     "text": [
      "Epochs: 1 | Train Loss:  0.0155                 | Train F1:  0.7916                 | Val Loss:  0.0112                 | Val F1:  0.8109\n"
     ]
    },
    {
     "name": "stderr",
     "output_type": "stream",
     "text": [
      "100%|██████████| 2485/2485 [00:07<00:00, 345.49it/s]\n"
     ]
    },
    {
     "name": "stdout",
     "output_type": "stream",
     "text": [
      "Epochs: 2 | Train Loss:  0.0109                 | Train F1:  0.8320                 | Val Loss:  0.0101                 | Val F1:  0.8277\n"
     ]
    },
    {
     "name": "stderr",
     "output_type": "stream",
     "text": [
      "100%|██████████| 2485/2485 [00:07<00:00, 345.51it/s]\n"
     ]
    },
    {
     "name": "stdout",
     "output_type": "stream",
     "text": [
      "Epochs: 3 | Train Loss:  0.0100                 | Train F1:  0.8449                 | Val Loss:  0.0098                 | Val F1:  0.8354\n"
     ]
    },
    {
     "name": "stderr",
     "output_type": "stream",
     "text": [
      "100%|██████████| 2485/2485 [00:07<00:00, 344.60it/s]\n"
     ]
    },
    {
     "name": "stdout",
     "output_type": "stream",
     "text": [
      "Epochs: 4 | Train Loss:  0.0095                 | Train F1:  0.8523                 | Val Loss:  0.0097                 | Val F1:  0.8407\n"
     ]
    },
    {
     "name": "stderr",
     "output_type": "stream",
     "text": [
      "100%|██████████| 2485/2485 [00:07<00:00, 345.78it/s]\n"
     ]
    },
    {
     "name": "stdout",
     "output_type": "stream",
     "text": [
      "Epochs: 5 | Train Loss:  0.0091                 | Train F1:  0.8579                 | Val Loss:  0.0097                 | Val F1:  0.8400\n"
     ]
    },
    {
     "name": "stderr",
     "output_type": "stream",
     "text": [
      "100%|██████████| 2485/2485 [00:07<00:00, 346.37it/s]\n"
     ]
    },
    {
     "name": "stdout",
     "output_type": "stream",
     "text": [
      "Epochs: 6 | Train Loss:  0.0089                 | Train F1:  0.8619                 | Val Loss:  0.0096                 | Val F1:  0.8435\n"
     ]
    },
    {
     "name": "stderr",
     "output_type": "stream",
     "text": [
      "100%|██████████| 2485/2485 [00:07<00:00, 329.74it/s]\n"
     ]
    },
    {
     "name": "stdout",
     "output_type": "stream",
     "text": [
      "Epochs: 7 | Train Loss:  0.0087                 | Train F1:  0.8659                 | Val Loss:  0.0097                 | Val F1:  0.8432\n"
     ]
    },
    {
     "name": "stderr",
     "output_type": "stream",
     "text": [
      "100%|██████████| 2485/2485 [00:07<00:00, 327.16it/s]\n"
     ]
    },
    {
     "name": "stdout",
     "output_type": "stream",
     "text": [
      "Epochs: 8 | Train Loss:  0.0085                 | Train F1:  0.8682                 | Val Loss:  0.0098                 | Val F1:  0.8405\n"
     ]
    },
    {
     "name": "stderr",
     "output_type": "stream",
     "text": [
      "100%|██████████| 2485/2485 [1:00:08<00:00,  1.45s/it]  \n"
     ]
    },
    {
     "name": "stdout",
     "output_type": "stream",
     "text": [
      "Epochs: 9 | Train Loss:  0.0084                 | Train F1:  0.8700                 | Val Loss:  0.0097                 | Val F1:  0.8428\n"
     ]
    },
    {
     "name": "stderr",
     "output_type": "stream",
     "text": [
      "100%|██████████| 2485/2485 [00:07<00:00, 333.73it/s]\n"
     ]
    },
    {
     "name": "stdout",
     "output_type": "stream",
     "text": [
      "Epochs: 10 | Train Loss:  0.0082                 | Train F1:  0.8729                 | Val Loss:  0.0098                 | Val F1:  0.8421\n",
      "Fold 2\n"
     ]
    },
    {
     "name": "stderr",
     "output_type": "stream",
     "text": [
      "100%|██████████| 2549/2549 [00:07<00:00, 342.80it/s]\n"
     ]
    },
    {
     "name": "stdout",
     "output_type": "stream",
     "text": [
      "Epochs: 1 | Train Loss:  0.0158                 | Train F1:  0.7873                 | Val Loss:  0.0095                 | Val F1:  0.8703\n"
     ]
    },
    {
     "name": "stderr",
     "output_type": "stream",
     "text": [
      "100%|██████████| 2549/2549 [00:07<00:00, 344.02it/s]\n"
     ]
    },
    {
     "name": "stdout",
     "output_type": "stream",
     "text": [
      "Epochs: 2 | Train Loss:  0.0112                 | Train F1:  0.8295                 | Val Loss:  0.0083                 | Val F1:  0.8656\n"
     ]
    },
    {
     "name": "stderr",
     "output_type": "stream",
     "text": [
      "100%|██████████| 2549/2549 [00:07<00:00, 342.79it/s]\n"
     ]
    },
    {
     "name": "stdout",
     "output_type": "stream",
     "text": [
      "Epochs: 3 | Train Loss:  0.0103                 | Train F1:  0.8430                 | Val Loss:  0.0081                 | Val F1:  0.8655\n"
     ]
    },
    {
     "name": "stderr",
     "output_type": "stream",
     "text": [
      "100%|██████████| 2549/2549 [00:07<00:00, 343.48it/s]\n"
     ]
    },
    {
     "name": "stdout",
     "output_type": "stream",
     "text": [
      "Epochs: 4 | Train Loss:  0.0098                 | Train F1:  0.8506                 | Val Loss:  0.0081                 | Val F1:  0.8638\n"
     ]
    },
    {
     "name": "stderr",
     "output_type": "stream",
     "text": [
      "100%|██████████| 2549/2549 [00:07<00:00, 343.13it/s]\n"
     ]
    },
    {
     "name": "stdout",
     "output_type": "stream",
     "text": [
      "Epochs: 5 | Train Loss:  0.0096                 | Train F1:  0.8564                 | Val Loss:  0.0080                 | Val F1:  0.8640\n"
     ]
    },
    {
     "name": "stderr",
     "output_type": "stream",
     "text": [
      "100%|██████████| 2549/2549 [00:07<00:00, 342.92it/s]\n"
     ]
    },
    {
     "name": "stdout",
     "output_type": "stream",
     "text": [
      "Epochs: 6 | Train Loss:  0.0093                 | Train F1:  0.8599                 | Val Loss:  0.0080                 | Val F1:  0.8638\n"
     ]
    },
    {
     "name": "stderr",
     "output_type": "stream",
     "text": [
      "100%|██████████| 2549/2549 [00:07<00:00, 344.93it/s]\n"
     ]
    },
    {
     "name": "stdout",
     "output_type": "stream",
     "text": [
      "Epochs: 7 | Train Loss:  0.0091                 | Train F1:  0.8643                 | Val Loss:  0.0080                 | Val F1:  0.8636\n"
     ]
    },
    {
     "name": "stderr",
     "output_type": "stream",
     "text": [
      "100%|██████████| 2549/2549 [00:07<00:00, 343.28it/s]\n"
     ]
    },
    {
     "name": "stdout",
     "output_type": "stream",
     "text": [
      "Epochs: 8 | Train Loss:  0.0089                 | Train F1:  0.8661                 | Val Loss:  0.0079                 | Val F1:  0.8624\n"
     ]
    },
    {
     "name": "stderr",
     "output_type": "stream",
     "text": [
      "100%|██████████| 2549/2549 [00:07<00:00, 344.01it/s]\n"
     ]
    },
    {
     "name": "stdout",
     "output_type": "stream",
     "text": [
      "Epochs: 9 | Train Loss:  0.0088                 | Train F1:  0.8682                 | Val Loss:  0.0079                 | Val F1:  0.8649\n"
     ]
    },
    {
     "name": "stderr",
     "output_type": "stream",
     "text": [
      "100%|██████████| 2549/2549 [00:07<00:00, 339.12it/s]\n"
     ]
    },
    {
     "name": "stdout",
     "output_type": "stream",
     "text": [
      "Epochs: 10 | Train Loss:  0.0087                 | Train F1:  0.8711                 | Val Loss:  0.0079                 | Val F1:  0.8648\n",
      "Fold 3\n"
     ]
    },
    {
     "name": "stderr",
     "output_type": "stream",
     "text": [
      "100%|██████████| 2499/2499 [00:07<00:00, 335.61it/s]\n"
     ]
    },
    {
     "name": "stdout",
     "output_type": "stream",
     "text": [
      "Epochs: 1 | Train Loss:  0.0153                 | Train F1:  0.7827                 | Val Loss:  0.0125                 | Val F1:  0.8175\n"
     ]
    },
    {
     "name": "stderr",
     "output_type": "stream",
     "text": [
      "100%|██████████| 2499/2499 [00:07<00:00, 335.06it/s]\n"
     ]
    },
    {
     "name": "stdout",
     "output_type": "stream",
     "text": [
      "Epochs: 2 | Train Loss:  0.0105                 | Train F1:  0.8326                 | Val Loss:  0.0115                 | Val F1:  0.8256\n"
     ]
    },
    {
     "name": "stderr",
     "output_type": "stream",
     "text": [
      "100%|██████████| 2499/2499 [00:07<00:00, 339.14it/s]\n"
     ]
    },
    {
     "name": "stdout",
     "output_type": "stream",
     "text": [
      "Epochs: 3 | Train Loss:  0.0096                 | Train F1:  0.8486                 | Val Loss:  0.0116                 | Val F1:  0.8213\n"
     ]
    },
    {
     "name": "stderr",
     "output_type": "stream",
     "text": [
      "100%|██████████| 2499/2499 [00:07<00:00, 339.33it/s]\n"
     ]
    },
    {
     "name": "stdout",
     "output_type": "stream",
     "text": [
      "Epochs: 4 | Train Loss:  0.0091                 | Train F1:  0.8571                 | Val Loss:  0.0118                 | Val F1:  0.8178\n"
     ]
    },
    {
     "name": "stderr",
     "output_type": "stream",
     "text": [
      "100%|██████████| 2499/2499 [00:07<00:00, 346.01it/s]\n"
     ]
    },
    {
     "name": "stdout",
     "output_type": "stream",
     "text": [
      "Epochs: 5 | Train Loss:  0.0087                 | Train F1:  0.8646                 | Val Loss:  0.0120                 | Val F1:  0.8140\n"
     ]
    },
    {
     "name": "stderr",
     "output_type": "stream",
     "text": [
      "100%|██████████| 2499/2499 [00:07<00:00, 346.65it/s]\n"
     ]
    },
    {
     "name": "stdout",
     "output_type": "stream",
     "text": [
      "Epochs: 6 | Train Loss:  0.0085                 | Train F1:  0.8690                 | Val Loss:  0.0123                 | Val F1:  0.8098\n"
     ]
    },
    {
     "name": "stderr",
     "output_type": "stream",
     "text": [
      "100%|██████████| 2499/2499 [00:07<00:00, 345.58it/s]\n"
     ]
    },
    {
     "name": "stdout",
     "output_type": "stream",
     "text": [
      "Epochs: 7 | Train Loss:  0.0083                 | Train F1:  0.8719                 | Val Loss:  0.0126                 | Val F1:  0.8060\n"
     ]
    },
    {
     "name": "stderr",
     "output_type": "stream",
     "text": [
      "100%|██████████| 2499/2499 [00:07<00:00, 338.13it/s]\n"
     ]
    },
    {
     "name": "stdout",
     "output_type": "stream",
     "text": [
      "Epochs: 8 | Train Loss:  0.0081                 | Train F1:  0.8748                 | Val Loss:  0.0128                 | Val F1:  0.8023\n"
     ]
    },
    {
     "name": "stderr",
     "output_type": "stream",
     "text": [
      "100%|██████████| 2499/2499 [00:07<00:00, 342.02it/s]\n"
     ]
    },
    {
     "name": "stdout",
     "output_type": "stream",
     "text": [
      "Epochs: 9 | Train Loss:  0.0080                 | Train F1:  0.8772                 | Val Loss:  0.0130                 | Val F1:  0.8014\n"
     ]
    },
    {
     "name": "stderr",
     "output_type": "stream",
     "text": [
      "100%|██████████| 2499/2499 [00:07<00:00, 339.93it/s]\n"
     ]
    },
    {
     "name": "stdout",
     "output_type": "stream",
     "text": [
      "Epochs: 10 | Train Loss:  0.0078                 | Train F1:  0.8783                 | Val Loss:  0.0132                 | Val F1:  0.7987\n",
      "Fold 4\n"
     ]
    },
    {
     "name": "stderr",
     "output_type": "stream",
     "text": [
      "100%|██████████| 2303/2303 [00:06<00:00, 345.04it/s]\n"
     ]
    },
    {
     "name": "stdout",
     "output_type": "stream",
     "text": [
      "Epochs: 1 | Train Loss:  0.0149                 | Train F1:  0.8159                 | Val Loss:  0.0153                 | Val F1:  0.7355\n"
     ]
    },
    {
     "name": "stderr",
     "output_type": "stream",
     "text": [
      "100%|██████████| 2303/2303 [00:06<00:00, 347.34it/s]\n"
     ]
    },
    {
     "name": "stdout",
     "output_type": "stream",
     "text": [
      "Epochs: 2 | Train Loss:  0.0096                 | Train F1:  0.8570                 | Val Loss:  0.0155                 | Val F1:  0.7399\n"
     ]
    },
    {
     "name": "stderr",
     "output_type": "stream",
     "text": [
      "100%|██████████| 2303/2303 [00:06<00:00, 346.67it/s]\n"
     ]
    },
    {
     "name": "stdout",
     "output_type": "stream",
     "text": [
      "Epochs: 3 | Train Loss:  0.0086                 | Train F1:  0.8700                 | Val Loss:  0.0160                 | Val F1:  0.7378\n"
     ]
    },
    {
     "name": "stderr",
     "output_type": "stream",
     "text": [
      "100%|██████████| 2303/2303 [00:06<00:00, 348.28it/s]\n"
     ]
    },
    {
     "name": "stdout",
     "output_type": "stream",
     "text": [
      "Epochs: 4 | Train Loss:  0.0081                 | Train F1:  0.8782                 | Val Loss:  0.0163                 | Val F1:  0.7357\n"
     ]
    },
    {
     "name": "stderr",
     "output_type": "stream",
     "text": [
      "100%|██████████| 2303/2303 [00:06<00:00, 346.69it/s]\n"
     ]
    },
    {
     "name": "stdout",
     "output_type": "stream",
     "text": [
      "Epochs: 5 | Train Loss:  0.0078                 | Train F1:  0.8826                 | Val Loss:  0.0165                 | Val F1:  0.7313\n"
     ]
    },
    {
     "name": "stderr",
     "output_type": "stream",
     "text": [
      "100%|██████████| 2303/2303 [00:06<00:00, 346.68it/s]\n"
     ]
    },
    {
     "name": "stdout",
     "output_type": "stream",
     "text": [
      "Epochs: 6 | Train Loss:  0.0076                 | Train F1:  0.8878                 | Val Loss:  0.0167                 | Val F1:  0.7308\n"
     ]
    },
    {
     "name": "stderr",
     "output_type": "stream",
     "text": [
      "100%|██████████| 2303/2303 [00:06<00:00, 346.03it/s]\n"
     ]
    },
    {
     "name": "stdout",
     "output_type": "stream",
     "text": [
      "Epochs: 7 | Train Loss:  0.0074                 | Train F1:  0.8902                 | Val Loss:  0.0169                 | Val F1:  0.7304\n"
     ]
    },
    {
     "name": "stderr",
     "output_type": "stream",
     "text": [
      "100%|██████████| 2303/2303 [00:06<00:00, 348.16it/s]\n"
     ]
    },
    {
     "name": "stdout",
     "output_type": "stream",
     "text": [
      "Epochs: 8 | Train Loss:  0.0073                 | Train F1:  0.8928                 | Val Loss:  0.0170                 | Val F1:  0.7299\n"
     ]
    },
    {
     "name": "stderr",
     "output_type": "stream",
     "text": [
      "100%|██████████| 2303/2303 [00:06<00:00, 346.26it/s]\n"
     ]
    },
    {
     "name": "stdout",
     "output_type": "stream",
     "text": [
      "Epochs: 9 | Train Loss:  0.0071                 | Train F1:  0.8952                 | Val Loss:  0.0171                 | Val F1:  0.7297\n"
     ]
    },
    {
     "name": "stderr",
     "output_type": "stream",
     "text": [
      "100%|██████████| 2303/2303 [00:06<00:00, 347.13it/s]\n",
      "\u001b[32m[I 2022-06-16 16:57:15,936]\u001b[0m Trial 0 finished with value: 0.7995213307212309 and parameters: {'learning_rate': 4.3187830954888636e-05, 'n_layers': 1, 'n_units_l0': 78, 'dropout_l0': 0.5}. Best is trial 0 with value: 0.7995213307212309.\u001b[0m\n"
     ]
    },
    {
     "name": "stdout",
     "output_type": "stream",
     "text": [
      "Epochs: 10 | Train Loss:  0.0070                 | Train F1:  0.8969                 | Val Loss:  0.0173                 | Val F1:  0.7292\n",
      "Fold 0\n"
     ]
    },
    {
     "name": "stderr",
     "output_type": "stream",
     "text": [
      "100%|██████████| 2399/2399 [00:08<00:00, 283.98it/s]\n"
     ]
    },
    {
     "name": "stdout",
     "output_type": "stream",
     "text": [
      "Epochs: 1 | Train Loss:  0.0170                 | Train F1:  0.7586                 | Val Loss:  0.0135                 | Val F1:  0.7714\n"
     ]
    },
    {
     "name": "stderr",
     "output_type": "stream",
     "text": [
      "100%|██████████| 2399/2399 [00:07<00:00, 312.60it/s]\n"
     ]
    },
    {
     "name": "stdout",
     "output_type": "stream",
     "text": [
      "Epochs: 2 | Train Loss:  0.0105                 | Train F1:  0.8505                 | Val Loss:  0.0134                 | Val F1:  0.7693\n"
     ]
    },
    {
     "name": "stderr",
     "output_type": "stream",
     "text": [
      "100%|██████████| 2399/2399 [00:07<00:00, 313.88it/s]\n"
     ]
    },
    {
     "name": "stdout",
     "output_type": "stream",
     "text": [
      "Epochs: 3 | Train Loss:  0.0094                 | Train F1:  0.8660                 | Val Loss:  0.0136                 | Val F1:  0.7689\n"
     ]
    },
    {
     "name": "stderr",
     "output_type": "stream",
     "text": [
      "100%|██████████| 2399/2399 [00:07<00:00, 315.07it/s]\n"
     ]
    },
    {
     "name": "stdout",
     "output_type": "stream",
     "text": [
      "Epochs: 4 | Train Loss:  0.0088                 | Train F1:  0.8739                 | Val Loss:  0.0137                 | Val F1:  0.7663\n"
     ]
    },
    {
     "name": "stderr",
     "output_type": "stream",
     "text": [
      "100%|██████████| 2399/2399 [00:07<00:00, 313.43it/s]\n"
     ]
    },
    {
     "name": "stdout",
     "output_type": "stream",
     "text": [
      "Epochs: 5 | Train Loss:  0.0085                 | Train F1:  0.8814                 | Val Loss:  0.0138                 | Val F1:  0.7663\n"
     ]
    },
    {
     "name": "stderr",
     "output_type": "stream",
     "text": [
      "100%|██████████| 2399/2399 [00:07<00:00, 315.90it/s]\n"
     ]
    },
    {
     "name": "stdout",
     "output_type": "stream",
     "text": [
      "Epochs: 6 | Train Loss:  0.0082                 | Train F1:  0.8860                 | Val Loss:  0.0141                 | Val F1:  0.7643\n"
     ]
    },
    {
     "name": "stderr",
     "output_type": "stream",
     "text": [
      "100%|██████████| 2399/2399 [00:07<00:00, 314.51it/s]\n"
     ]
    },
    {
     "name": "stdout",
     "output_type": "stream",
     "text": [
      "Epochs: 7 | Train Loss:  0.0079                 | Train F1:  0.8892                 | Val Loss:  0.0141                 | Val F1:  0.7624\n"
     ]
    },
    {
     "name": "stderr",
     "output_type": "stream",
     "text": [
      "100%|██████████| 2399/2399 [00:07<00:00, 314.22it/s]\n"
     ]
    },
    {
     "name": "stdout",
     "output_type": "stream",
     "text": [
      "Epochs: 8 | Train Loss:  0.0077                 | Train F1:  0.8925                 | Val Loss:  0.0144                 | Val F1:  0.7612\n"
     ]
    },
    {
     "name": "stderr",
     "output_type": "stream",
     "text": [
      "100%|██████████| 2399/2399 [00:07<00:00, 314.41it/s]\n"
     ]
    },
    {
     "name": "stdout",
     "output_type": "stream",
     "text": [
      "Epochs: 9 | Train Loss:  0.0075                 | Train F1:  0.8950                 | Val Loss:  0.0146                 | Val F1:  0.7607\n"
     ]
    },
    {
     "name": "stderr",
     "output_type": "stream",
     "text": [
      "100%|██████████| 2399/2399 [00:07<00:00, 316.20it/s]\n"
     ]
    },
    {
     "name": "stdout",
     "output_type": "stream",
     "text": [
      "Epochs: 10 | Train Loss:  0.0074                 | Train F1:  0.8973                 | Val Loss:  0.0145                 | Val F1:  0.7614\n",
      "Fold 1\n"
     ]
    },
    {
     "name": "stderr",
     "output_type": "stream",
     "text": [
      "100%|██████████| 2485/2485 [00:07<00:00, 313.84it/s]\n"
     ]
    },
    {
     "name": "stdout",
     "output_type": "stream",
     "text": [
      "Epochs: 1 | Train Loss:  0.0166                 | Train F1:  0.7837                 | Val Loss:  0.0118                 | Val F1:  0.8140\n"
     ]
    },
    {
     "name": "stderr",
     "output_type": "stream",
     "text": [
      "100%|██████████| 2485/2485 [00:07<00:00, 312.51it/s]\n"
     ]
    },
    {
     "name": "stdout",
     "output_type": "stream",
     "text": [
      "Epochs: 2 | Train Loss:  0.0114                 | Train F1:  0.8274                 | Val Loss:  0.0101                 | Val F1:  0.8287\n"
     ]
    },
    {
     "name": "stderr",
     "output_type": "stream",
     "text": [
      "100%|██████████| 2485/2485 [00:07<00:00, 315.19it/s]\n"
     ]
    },
    {
     "name": "stdout",
     "output_type": "stream",
     "text": [
      "Epochs: 3 | Train Loss:  0.0103                 | Train F1:  0.8433                 | Val Loss:  0.0098                 | Val F1:  0.8343\n"
     ]
    },
    {
     "name": "stderr",
     "output_type": "stream",
     "text": [
      "100%|██████████| 2485/2485 [00:07<00:00, 314.53it/s]\n"
     ]
    },
    {
     "name": "stdout",
     "output_type": "stream",
     "text": [
      "Epochs: 4 | Train Loss:  0.0097                 | Train F1:  0.8537                 | Val Loss:  0.0098                 | Val F1:  0.8372\n"
     ]
    },
    {
     "name": "stderr",
     "output_type": "stream",
     "text": [
      "100%|██████████| 2485/2485 [00:07<00:00, 314.92it/s]\n"
     ]
    },
    {
     "name": "stdout",
     "output_type": "stream",
     "text": [
      "Epochs: 5 | Train Loss:  0.0093                 | Train F1:  0.8595                 | Val Loss:  0.0097                 | Val F1:  0.8431\n"
     ]
    },
    {
     "name": "stderr",
     "output_type": "stream",
     "text": [
      "100%|██████████| 2485/2485 [00:07<00:00, 314.36it/s]\n"
     ]
    },
    {
     "name": "stdout",
     "output_type": "stream",
     "text": [
      "Epochs: 6 | Train Loss:  0.0089                 | Train F1:  0.8651                 | Val Loss:  0.0097                 | Val F1:  0.8411\n"
     ]
    },
    {
     "name": "stderr",
     "output_type": "stream",
     "text": [
      "100%|██████████| 2485/2485 [00:07<00:00, 311.17it/s]\n"
     ]
    },
    {
     "name": "stdout",
     "output_type": "stream",
     "text": [
      "Epochs: 7 | Train Loss:  0.0086                 | Train F1:  0.8697                 | Val Loss:  0.0098                 | Val F1:  0.8401\n"
     ]
    },
    {
     "name": "stderr",
     "output_type": "stream",
     "text": [
      "100%|██████████| 2485/2485 [00:08<00:00, 300.16it/s]\n"
     ]
    },
    {
     "name": "stdout",
     "output_type": "stream",
     "text": [
      "Epochs: 8 | Train Loss:  0.0083                 | Train F1:  0.8732                 | Val Loss:  0.0099                 | Val F1:  0.8388\n"
     ]
    },
    {
     "name": "stderr",
     "output_type": "stream",
     "text": [
      "100%|██████████| 2485/2485 [00:08<00:00, 301.25it/s]\n"
     ]
    },
    {
     "name": "stdout",
     "output_type": "stream",
     "text": [
      "Epochs: 9 | Train Loss:  0.0081                 | Train F1:  0.8777                 | Val Loss:  0.0100                 | Val F1:  0.8360\n"
     ]
    },
    {
     "name": "stderr",
     "output_type": "stream",
     "text": [
      "100%|██████████| 2485/2485 [00:08<00:00, 305.70it/s]\n"
     ]
    },
    {
     "name": "stdout",
     "output_type": "stream",
     "text": [
      "Epochs: 10 | Train Loss:  0.0079                 | Train F1:  0.8816                 | Val Loss:  0.0100                 | Val F1:  0.8342\n",
      "Fold 2\n"
     ]
    },
    {
     "name": "stderr",
     "output_type": "stream",
     "text": [
      "100%|██████████| 2549/2549 [00:08<00:00, 296.81it/s]\n"
     ]
    },
    {
     "name": "stdout",
     "output_type": "stream",
     "text": [
      "Epochs: 1 | Train Loss:  0.0174                 | Train F1:  0.7428                 | Val Loss:  0.0099                 | Val F1:  0.8689\n"
     ]
    },
    {
     "name": "stderr",
     "output_type": "stream",
     "text": [
      "100%|██████████| 2549/2549 [00:08<00:00, 304.95it/s]\n"
     ]
    },
    {
     "name": "stdout",
     "output_type": "stream",
     "text": [
      "Epochs: 2 | Train Loss:  0.0117                 | Train F1:  0.8266                 | Val Loss:  0.0083                 | Val F1:  0.8654\n"
     ]
    },
    {
     "name": "stderr",
     "output_type": "stream",
     "text": [
      "100%|██████████| 2549/2549 [00:08<00:00, 307.70it/s]\n"
     ]
    },
    {
     "name": "stdout",
     "output_type": "stream",
     "text": [
      "Epochs: 3 | Train Loss:  0.0106                 | Train F1:  0.8435                 | Val Loss:  0.0083                 | Val F1:  0.8619\n"
     ]
    },
    {
     "name": "stderr",
     "output_type": "stream",
     "text": [
      "100%|██████████| 2549/2549 [00:08<00:00, 311.35it/s]\n"
     ]
    },
    {
     "name": "stdout",
     "output_type": "stream",
     "text": [
      "Epochs: 4 | Train Loss:  0.0101                 | Train F1:  0.8514                 | Val Loss:  0.0081                 | Val F1:  0.8622\n"
     ]
    },
    {
     "name": "stderr",
     "output_type": "stream",
     "text": [
      "100%|██████████| 2549/2549 [00:08<00:00, 307.98it/s]\n"
     ]
    },
    {
     "name": "stdout",
     "output_type": "stream",
     "text": [
      "Epochs: 5 | Train Loss:  0.0097                 | Train F1:  0.8584                 | Val Loss:  0.0081                 | Val F1:  0.8632\n"
     ]
    },
    {
     "name": "stderr",
     "output_type": "stream",
     "text": [
      "100%|██████████| 2549/2549 [00:08<00:00, 306.91it/s]\n"
     ]
    },
    {
     "name": "stdout",
     "output_type": "stream",
     "text": [
      "Epochs: 6 | Train Loss:  0.0094                 | Train F1:  0.8630                 | Val Loss:  0.0080                 | Val F1:  0.8653\n"
     ]
    },
    {
     "name": "stderr",
     "output_type": "stream",
     "text": [
      "100%|██████████| 2549/2549 [00:08<00:00, 309.06it/s]\n"
     ]
    },
    {
     "name": "stdout",
     "output_type": "stream",
     "text": [
      "Epochs: 7 | Train Loss:  0.0091                 | Train F1:  0.8689                 | Val Loss:  0.0080                 | Val F1:  0.8654\n"
     ]
    },
    {
     "name": "stderr",
     "output_type": "stream",
     "text": [
      "100%|██████████| 2549/2549 [00:08<00:00, 309.86it/s]\n"
     ]
    },
    {
     "name": "stdout",
     "output_type": "stream",
     "text": [
      "Epochs: 8 | Train Loss:  0.0088                 | Train F1:  0.8708                 | Val Loss:  0.0079                 | Val F1:  0.8654\n"
     ]
    },
    {
     "name": "stderr",
     "output_type": "stream",
     "text": [
      "100%|██████████| 2549/2549 [00:08<00:00, 309.09it/s]\n"
     ]
    },
    {
     "name": "stdout",
     "output_type": "stream",
     "text": [
      "Epochs: 9 | Train Loss:  0.0086                 | Train F1:  0.8748                 | Val Loss:  0.0079                 | Val F1:  0.8654\n"
     ]
    },
    {
     "name": "stderr",
     "output_type": "stream",
     "text": [
      "100%|██████████| 2549/2549 [00:08<00:00, 302.77it/s]\n"
     ]
    },
    {
     "name": "stdout",
     "output_type": "stream",
     "text": [
      "Epochs: 10 | Train Loss:  0.0084                 | Train F1:  0.8780                 | Val Loss:  0.0079                 | Val F1:  0.8649\n",
      "Fold 3\n"
     ]
    },
    {
     "name": "stderr",
     "output_type": "stream",
     "text": [
      "100%|██████████| 2499/2499 [00:08<00:00, 304.94it/s]\n"
     ]
    },
    {
     "name": "stdout",
     "output_type": "stream",
     "text": [
      "Epochs: 1 | Train Loss:  0.0163                 | Train F1:  0.7469                 | Val Loss:  0.0122                 | Val F1:  0.8232\n"
     ]
    },
    {
     "name": "stderr",
     "output_type": "stream",
     "text": [
      "100%|██████████| 2499/2499 [00:08<00:00, 302.49it/s]\n"
     ]
    },
    {
     "name": "stdout",
     "output_type": "stream",
     "text": [
      "Epochs: 2 | Train Loss:  0.0107                 | Train F1:  0.8334                 | Val Loss:  0.0115                 | Val F1:  0.8256\n"
     ]
    },
    {
     "name": "stderr",
     "output_type": "stream",
     "text": [
      "100%|██████████| 2499/2499 [00:08<00:00, 305.33it/s]\n"
     ]
    },
    {
     "name": "stdout",
     "output_type": "stream",
     "text": [
      "Epochs: 3 | Train Loss:  0.0097                 | Train F1:  0.8508                 | Val Loss:  0.0118                 | Val F1:  0.8190\n"
     ]
    },
    {
     "name": "stderr",
     "output_type": "stream",
     "text": [
      "100%|██████████| 2499/2499 [00:08<00:00, 306.35it/s]\n"
     ]
    },
    {
     "name": "stdout",
     "output_type": "stream",
     "text": [
      "Epochs: 4 | Train Loss:  0.0092                 | Train F1:  0.8613                 | Val Loss:  0.0122                 | Val F1:  0.8135\n"
     ]
    },
    {
     "name": "stderr",
     "output_type": "stream",
     "text": [
      "100%|██████████| 2499/2499 [00:08<00:00, 301.04it/s]\n"
     ]
    },
    {
     "name": "stdout",
     "output_type": "stream",
     "text": [
      "Epochs: 5 | Train Loss:  0.0088                 | Train F1:  0.8675                 | Val Loss:  0.0125                 | Val F1:  0.8087\n"
     ]
    },
    {
     "name": "stderr",
     "output_type": "stream",
     "text": [
      "100%|██████████| 2499/2499 [00:08<00:00, 302.22it/s]\n"
     ]
    },
    {
     "name": "stdout",
     "output_type": "stream",
     "text": [
      "Epochs: 6 | Train Loss:  0.0084                 | Train F1:  0.8729                 | Val Loss:  0.0128                 | Val F1:  0.8052\n"
     ]
    },
    {
     "name": "stderr",
     "output_type": "stream",
     "text": [
      "100%|██████████| 2499/2499 [00:08<00:00, 304.61it/s]\n"
     ]
    },
    {
     "name": "stdout",
     "output_type": "stream",
     "text": [
      "Epochs: 7 | Train Loss:  0.0082                 | Train F1:  0.8763                 | Val Loss:  0.0130                 | Val F1:  0.7994\n"
     ]
    },
    {
     "name": "stderr",
     "output_type": "stream",
     "text": [
      "100%|██████████| 2499/2499 [00:08<00:00, 306.90it/s]\n"
     ]
    },
    {
     "name": "stdout",
     "output_type": "stream",
     "text": [
      "Epochs: 8 | Train Loss:  0.0080                 | Train F1:  0.8794                 | Val Loss:  0.0133                 | Val F1:  0.7963\n"
     ]
    },
    {
     "name": "stderr",
     "output_type": "stream",
     "text": [
      "100%|██████████| 2499/2499 [00:08<00:00, 304.15it/s]\n"
     ]
    },
    {
     "name": "stdout",
     "output_type": "stream",
     "text": [
      "Epochs: 9 | Train Loss:  0.0078                 | Train F1:  0.8810                 | Val Loss:  0.0135                 | Val F1:  0.7947\n"
     ]
    },
    {
     "name": "stderr",
     "output_type": "stream",
     "text": [
      "100%|██████████| 2499/2499 [00:08<00:00, 303.49it/s]\n"
     ]
    },
    {
     "name": "stdout",
     "output_type": "stream",
     "text": [
      "Epochs: 10 | Train Loss:  0.0076                 | Train F1:  0.8845                 | Val Loss:  0.0137                 | Val F1:  0.7933\n",
      "Fold 4\n"
     ]
    },
    {
     "name": "stderr",
     "output_type": "stream",
     "text": [
      "100%|██████████| 2303/2303 [00:07<00:00, 304.84it/s]\n"
     ]
    },
    {
     "name": "stdout",
     "output_type": "stream",
     "text": [
      "Epochs: 1 | Train Loss:  0.0165                 | Train F1:  0.6399                 | Val Loss:  0.0155                 | Val F1:  0.7424\n"
     ]
    },
    {
     "name": "stderr",
     "output_type": "stream",
     "text": [
      "100%|██████████| 2303/2303 [00:07<00:00, 313.92it/s]\n"
     ]
    },
    {
     "name": "stdout",
     "output_type": "stream",
     "text": [
      "Epochs: 2 | Train Loss:  0.0098                 | Train F1:  0.8581                 | Val Loss:  0.0160                 | Val F1:  0.7415\n"
     ]
    },
    {
     "name": "stderr",
     "output_type": "stream",
     "text": [
      "100%|██████████| 2303/2303 [00:07<00:00, 313.44it/s]\n"
     ]
    },
    {
     "name": "stdout",
     "output_type": "stream",
     "text": [
      "Epochs: 3 | Train Loss:  0.0088                 | Train F1:  0.8711                 | Val Loss:  0.0166                 | Val F1:  0.7378\n"
     ]
    },
    {
     "name": "stderr",
     "output_type": "stream",
     "text": [
      "100%|██████████| 2303/2303 [00:07<00:00, 311.58it/s]\n"
     ]
    },
    {
     "name": "stdout",
     "output_type": "stream",
     "text": [
      "Epochs: 4 | Train Loss:  0.0083                 | Train F1:  0.8791                 | Val Loss:  0.0169                 | Val F1:  0.7340\n"
     ]
    },
    {
     "name": "stderr",
     "output_type": "stream",
     "text": [
      "100%|██████████| 2303/2303 [00:07<00:00, 312.30it/s]\n"
     ]
    },
    {
     "name": "stdout",
     "output_type": "stream",
     "text": [
      "Epochs: 5 | Train Loss:  0.0079                 | Train F1:  0.8856                 | Val Loss:  0.0172                 | Val F1:  0.7316\n"
     ]
    },
    {
     "name": "stderr",
     "output_type": "stream",
     "text": [
      "100%|██████████| 2303/2303 [00:07<00:00, 312.82it/s]\n"
     ]
    },
    {
     "name": "stdout",
     "output_type": "stream",
     "text": [
      "Epochs: 6 | Train Loss:  0.0077                 | Train F1:  0.8899                 | Val Loss:  0.0174                 | Val F1:  0.7287\n"
     ]
    },
    {
     "name": "stderr",
     "output_type": "stream",
     "text": [
      "100%|██████████| 2303/2303 [00:07<00:00, 315.44it/s]\n"
     ]
    },
    {
     "name": "stdout",
     "output_type": "stream",
     "text": [
      "Epochs: 7 | Train Loss:  0.0074                 | Train F1:  0.8936                 | Val Loss:  0.0175                 | Val F1:  0.7288\n"
     ]
    },
    {
     "name": "stderr",
     "output_type": "stream",
     "text": [
      "100%|██████████| 2303/2303 [00:07<00:00, 316.06it/s]\n"
     ]
    },
    {
     "name": "stdout",
     "output_type": "stream",
     "text": [
      "Epochs: 8 | Train Loss:  0.0072                 | Train F1:  0.8964                 | Val Loss:  0.0177                 | Val F1:  0.7275\n"
     ]
    },
    {
     "name": "stderr",
     "output_type": "stream",
     "text": [
      "100%|██████████| 2303/2303 [00:07<00:00, 315.87it/s]\n"
     ]
    },
    {
     "name": "stdout",
     "output_type": "stream",
     "text": [
      "Epochs: 9 | Train Loss:  0.0070                 | Train F1:  0.8982                 | Val Loss:  0.0177                 | Val F1:  0.7274\n"
     ]
    },
    {
     "name": "stderr",
     "output_type": "stream",
     "text": [
      "100%|██████████| 2303/2303 [00:07<00:00, 315.35it/s]\n",
      "\u001b[32m[I 2022-06-16 17:04:53,246]\u001b[0m Trial 1 finished with value: 0.7962139196661118 and parameters: {'learning_rate': 4.8595405149150284e-05, 'n_layers': 2, 'n_units_l0': 25, 'dropout_l0': 0.4, 'n_units_l1': 21, 'dropout_l1': 0.2}. Best is trial 0 with value: 0.7995213307212309.\u001b[0m\n"
     ]
    },
    {
     "name": "stdout",
     "output_type": "stream",
     "text": [
      "Epochs: 10 | Train Loss:  0.0069                 | Train F1:  0.9000                 | Val Loss:  0.0179                 | Val F1:  0.7272\n",
      "Fold 0\n"
     ]
    },
    {
     "name": "stderr",
     "output_type": "stream",
     "text": [
      "100%|██████████| 2399/2399 [00:07<00:00, 326.61it/s]\n"
     ]
    },
    {
     "name": "stdout",
     "output_type": "stream",
     "text": [
      "Epochs: 1 | Train Loss:  0.0123                 | Train F1:  0.8239                 | Val Loss:  0.0135                 | Val F1:  0.7638\n"
     ]
    },
    {
     "name": "stderr",
     "output_type": "stream",
     "text": [
      "100%|██████████| 2399/2399 [00:07<00:00, 308.59it/s]\n"
     ]
    },
    {
     "name": "stdout",
     "output_type": "stream",
     "text": [
      "Epochs: 2 | Train Loss:  0.0091                 | Train F1:  0.8815                 | Val Loss:  0.0138                 | Val F1:  0.7654\n"
     ]
    },
    {
     "name": "stderr",
     "output_type": "stream",
     "text": [
      "100%|██████████| 2399/2399 [00:07<00:00, 309.83it/s]\n"
     ]
    },
    {
     "name": "stdout",
     "output_type": "stream",
     "text": [
      "Epochs: 3 | Train Loss:  0.0085                 | Train F1:  0.8929                 | Val Loss:  0.0142                 | Val F1:  0.7612\n"
     ]
    },
    {
     "name": "stderr",
     "output_type": "stream",
     "text": [
      "100%|██████████| 2399/2399 [00:07<00:00, 308.88it/s]\n"
     ]
    },
    {
     "name": "stdout",
     "output_type": "stream",
     "text": [
      "Epochs: 4 | Train Loss:  0.0079                 | Train F1:  0.8976                 | Val Loss:  0.0147                 | Val F1:  0.7605\n"
     ]
    },
    {
     "name": "stderr",
     "output_type": "stream",
     "text": [
      "100%|██████████| 2399/2399 [00:07<00:00, 308.97it/s]\n"
     ]
    },
    {
     "name": "stdout",
     "output_type": "stream",
     "text": [
      "Epochs: 5 | Train Loss:  0.0075                 | Train F1:  0.9053                 | Val Loss:  0.0149                 | Val F1:  0.7632\n"
     ]
    },
    {
     "name": "stderr",
     "output_type": "stream",
     "text": [
      "100%|██████████| 2399/2399 [00:07<00:00, 308.51it/s]\n"
     ]
    },
    {
     "name": "stdout",
     "output_type": "stream",
     "text": [
      "Epochs: 6 | Train Loss:  0.0071                 | Train F1:  0.9119                 | Val Loss:  0.0155                 | Val F1:  0.7638\n"
     ]
    },
    {
     "name": "stderr",
     "output_type": "stream",
     "text": [
      "100%|██████████| 2399/2399 [00:07<00:00, 309.96it/s]\n"
     ]
    },
    {
     "name": "stdout",
     "output_type": "stream",
     "text": [
      "Epochs: 7 | Train Loss:  0.0067                 | Train F1:  0.9191                 | Val Loss:  0.0156                 | Val F1:  0.7662\n"
     ]
    },
    {
     "name": "stderr",
     "output_type": "stream",
     "text": [
      "100%|██████████| 2399/2399 [00:07<00:00, 308.22it/s]\n"
     ]
    },
    {
     "name": "stdout",
     "output_type": "stream",
     "text": [
      "Epochs: 8 | Train Loss:  0.0063                 | Train F1:  0.9251                 | Val Loss:  0.0157                 | Val F1:  0.7636\n"
     ]
    },
    {
     "name": "stderr",
     "output_type": "stream",
     "text": [
      "100%|██████████| 2399/2399 [00:07<00:00, 309.49it/s]\n"
     ]
    },
    {
     "name": "stdout",
     "output_type": "stream",
     "text": [
      "Epochs: 9 | Train Loss:  0.0058                 | Train F1:  0.9300                 | Val Loss:  0.0166                 | Val F1:  0.7617\n"
     ]
    },
    {
     "name": "stderr",
     "output_type": "stream",
     "text": [
      "100%|██████████| 2399/2399 [00:07<00:00, 309.04it/s]\n"
     ]
    },
    {
     "name": "stdout",
     "output_type": "stream",
     "text": [
      "Epochs: 10 | Train Loss:  0.0055                 | Train F1:  0.9357                 | Val Loss:  0.0168                 | Val F1:  0.7609\n",
      "Fold 1\n"
     ]
    },
    {
     "name": "stderr",
     "output_type": "stream",
     "text": [
      "100%|██████████| 2485/2485 [00:08<00:00, 307.61it/s]\n"
     ]
    },
    {
     "name": "stdout",
     "output_type": "stream",
     "text": [
      "Epochs: 1 | Train Loss:  0.0138                 | Train F1:  0.7659                 | Val Loss:  0.0100                 | Val F1:  0.8295\n"
     ]
    },
    {
     "name": "stderr",
     "output_type": "stream",
     "text": [
      "100%|██████████| 2485/2485 [00:08<00:00, 307.36it/s]\n"
     ]
    },
    {
     "name": "stdout",
     "output_type": "stream",
     "text": [
      "Epochs: 2 | Train Loss:  0.0104                 | Train F1:  0.8600                 | Val Loss:  0.0096                 | Val F1:  0.8443\n"
     ]
    },
    {
     "name": "stderr",
     "output_type": "stream",
     "text": [
      "100%|██████████| 2485/2485 [00:08<00:00, 307.48it/s]\n"
     ]
    },
    {
     "name": "stdout",
     "output_type": "stream",
     "text": [
      "Epochs: 3 | Train Loss:  0.0094                 | Train F1:  0.8718                 | Val Loss:  0.0098                 | Val F1:  0.8344\n"
     ]
    },
    {
     "name": "stderr",
     "output_type": "stream",
     "text": [
      "100%|██████████| 2485/2485 [00:08<00:00, 307.60it/s]\n"
     ]
    },
    {
     "name": "stdout",
     "output_type": "stream",
     "text": [
      "Epochs: 4 | Train Loss:  0.0085                 | Train F1:  0.8781                 | Val Loss:  0.0100                 | Val F1:  0.8363\n"
     ]
    },
    {
     "name": "stderr",
     "output_type": "stream",
     "text": [
      "100%|██████████| 2485/2485 [00:08<00:00, 308.37it/s]\n"
     ]
    },
    {
     "name": "stdout",
     "output_type": "stream",
     "text": [
      "Epochs: 5 | Train Loss:  0.0079                 | Train F1:  0.8876                 | Val Loss:  0.0102                 | Val F1:  0.8346\n"
     ]
    },
    {
     "name": "stderr",
     "output_type": "stream",
     "text": [
      "100%|██████████| 2485/2485 [00:08<00:00, 309.08it/s]\n"
     ]
    },
    {
     "name": "stdout",
     "output_type": "stream",
     "text": [
      "Epochs: 6 | Train Loss:  0.0073                 | Train F1:  0.8988                 | Val Loss:  0.0103                 | Val F1:  0.8319\n"
     ]
    },
    {
     "name": "stderr",
     "output_type": "stream",
     "text": [
      "100%|██████████| 2485/2485 [00:08<00:00, 308.36it/s]\n"
     ]
    },
    {
     "name": "stdout",
     "output_type": "stream",
     "text": [
      "Epochs: 7 | Train Loss:  0.0068                 | Train F1:  0.9079                 | Val Loss:  0.0107                 | Val F1:  0.8290\n"
     ]
    },
    {
     "name": "stderr",
     "output_type": "stream",
     "text": [
      "100%|██████████| 2485/2485 [00:08<00:00, 308.73it/s]\n"
     ]
    },
    {
     "name": "stdout",
     "output_type": "stream",
     "text": [
      "Epochs: 8 | Train Loss:  0.0064                 | Train F1:  0.9162                 | Val Loss:  0.0109                 | Val F1:  0.8231\n"
     ]
    },
    {
     "name": "stderr",
     "output_type": "stream",
     "text": [
      "100%|██████████| 2485/2485 [00:08<00:00, 304.99it/s]\n"
     ]
    },
    {
     "name": "stdout",
     "output_type": "stream",
     "text": [
      "Epochs: 9 | Train Loss:  0.0060                 | Train F1:  0.9231                 | Val Loss:  0.0116                 | Val F1:  0.8191\n"
     ]
    },
    {
     "name": "stderr",
     "output_type": "stream",
     "text": [
      "100%|██████████| 2485/2485 [00:08<00:00, 307.81it/s]\n"
     ]
    },
    {
     "name": "stdout",
     "output_type": "stream",
     "text": [
      "Epochs: 10 | Train Loss:  0.0055                 | Train F1:  0.9288                 | Val Loss:  0.0119                 | Val F1:  0.8178\n",
      "Fold 2\n"
     ]
    },
    {
     "name": "stderr",
     "output_type": "stream",
     "text": [
      "100%|██████████| 2549/2549 [00:08<00:00, 306.96it/s]\n"
     ]
    },
    {
     "name": "stdout",
     "output_type": "stream",
     "text": [
      "Epochs: 1 | Train Loss:  0.0147                 | Train F1:  0.6372                 | Val Loss:  0.0088                 | Val F1:  0.8610\n"
     ]
    },
    {
     "name": "stderr",
     "output_type": "stream",
     "text": [
      "100%|██████████| 2549/2549 [00:08<00:00, 308.38it/s]\n"
     ]
    },
    {
     "name": "stdout",
     "output_type": "stream",
     "text": [
      "Epochs: 2 | Train Loss:  0.0114                 | Train F1:  0.8642                 | Val Loss:  0.0083                 | Val F1:  0.8636\n"
     ]
    },
    {
     "name": "stderr",
     "output_type": "stream",
     "text": [
      "100%|██████████| 2549/2549 [00:08<00:00, 308.24it/s]\n"
     ]
    },
    {
     "name": "stdout",
     "output_type": "stream",
     "text": [
      "Epochs: 3 | Train Loss:  0.0102                 | Train F1:  0.8760                 | Val Loss:  0.0083                 | Val F1:  0.8627\n"
     ]
    },
    {
     "name": "stderr",
     "output_type": "stream",
     "text": [
      "100%|██████████| 2549/2549 [00:08<00:00, 305.99it/s]\n"
     ]
    },
    {
     "name": "stdout",
     "output_type": "stream",
     "text": [
      "Epochs: 4 | Train Loss:  0.0095                 | Train F1:  0.8850                 | Val Loss:  0.0080                 | Val F1:  0.8653\n"
     ]
    },
    {
     "name": "stderr",
     "output_type": "stream",
     "text": [
      "100%|██████████| 2549/2549 [00:08<00:00, 307.37it/s]\n"
     ]
    },
    {
     "name": "stdout",
     "output_type": "stream",
     "text": [
      "Epochs: 5 | Train Loss:  0.0087                 | Train F1:  0.8929                 | Val Loss:  0.0081                 | Val F1:  0.8639\n"
     ]
    },
    {
     "name": "stderr",
     "output_type": "stream",
     "text": [
      "100%|██████████| 2549/2549 [00:08<00:00, 302.48it/s]\n"
     ]
    },
    {
     "name": "stdout",
     "output_type": "stream",
     "text": [
      "Epochs: 6 | Train Loss:  0.0081                 | Train F1:  0.9004                 | Val Loss:  0.0081                 | Val F1:  0.8648\n"
     ]
    },
    {
     "name": "stderr",
     "output_type": "stream",
     "text": [
      "100%|██████████| 2549/2549 [00:08<00:00, 299.38it/s]\n"
     ]
    },
    {
     "name": "stdout",
     "output_type": "stream",
     "text": [
      "Epochs: 7 | Train Loss:  0.0076                 | Train F1:  0.9077                 | Val Loss:  0.0082                 | Val F1:  0.8638\n"
     ]
    },
    {
     "name": "stderr",
     "output_type": "stream",
     "text": [
      "100%|██████████| 2549/2549 [00:08<00:00, 302.37it/s]\n"
     ]
    },
    {
     "name": "stdout",
     "output_type": "stream",
     "text": [
      "Epochs: 8 | Train Loss:  0.0071                 | Train F1:  0.9125                 | Val Loss:  0.0083                 | Val F1:  0.8629\n"
     ]
    },
    {
     "name": "stderr",
     "output_type": "stream",
     "text": [
      "100%|██████████| 2549/2549 [00:08<00:00, 305.57it/s]\n"
     ]
    },
    {
     "name": "stdout",
     "output_type": "stream",
     "text": [
      "Epochs: 9 | Train Loss:  0.0066                 | Train F1:  0.9198                 | Val Loss:  0.0086                 | Val F1:  0.8632\n"
     ]
    },
    {
     "name": "stderr",
     "output_type": "stream",
     "text": [
      "100%|██████████| 2549/2549 [00:08<00:00, 302.15it/s]\n"
     ]
    },
    {
     "name": "stdout",
     "output_type": "stream",
     "text": [
      "Epochs: 10 | Train Loss:  0.0062                 | Train F1:  0.9244                 | Val Loss:  0.0085                 | Val F1:  0.8692\n",
      "Fold 3\n"
     ]
    },
    {
     "name": "stderr",
     "output_type": "stream",
     "text": [
      "100%|██████████| 2499/2499 [00:08<00:00, 302.12it/s]\n"
     ]
    },
    {
     "name": "stdout",
     "output_type": "stream",
     "text": [
      "Epochs: 1 | Train Loss:  0.0124                 | Train F1:  0.8026                 | Val Loss:  0.0120                 | Val F1:  0.8175\n"
     ]
    },
    {
     "name": "stderr",
     "output_type": "stream",
     "text": [
      "100%|██████████| 2499/2499 [00:08<00:00, 303.53it/s]\n"
     ]
    },
    {
     "name": "stdout",
     "output_type": "stream",
     "text": [
      "Epochs: 2 | Train Loss:  0.0093                 | Train F1:  0.8627                 | Val Loss:  0.0130                 | Val F1:  0.7990\n"
     ]
    },
    {
     "name": "stderr",
     "output_type": "stream",
     "text": [
      "100%|██████████| 2499/2499 [00:08<00:00, 305.42it/s]\n"
     ]
    },
    {
     "name": "stdout",
     "output_type": "stream",
     "text": [
      "Epochs: 3 | Train Loss:  0.0085                 | Train F1:  0.8727                 | Val Loss:  0.0135                 | Val F1:  0.7879\n"
     ]
    },
    {
     "name": "stderr",
     "output_type": "stream",
     "text": [
      "100%|██████████| 2499/2499 [00:08<00:00, 302.22it/s]\n"
     ]
    },
    {
     "name": "stdout",
     "output_type": "stream",
     "text": [
      "Epochs: 4 | Train Loss:  0.0080                 | Train F1:  0.8826                 | Val Loss:  0.0142                 | Val F1:  0.7735\n"
     ]
    },
    {
     "name": "stderr",
     "output_type": "stream",
     "text": [
      "100%|██████████| 2499/2499 [00:08<00:00, 302.63it/s]\n"
     ]
    },
    {
     "name": "stdout",
     "output_type": "stream",
     "text": [
      "Epochs: 5 | Train Loss:  0.0075                 | Train F1:  0.8913                 | Val Loss:  0.0147                 | Val F1:  0.7678\n"
     ]
    },
    {
     "name": "stderr",
     "output_type": "stream",
     "text": [
      "100%|██████████| 2499/2499 [00:08<00:00, 298.55it/s]\n"
     ]
    },
    {
     "name": "stdout",
     "output_type": "stream",
     "text": [
      "Epochs: 6 | Train Loss:  0.0071                 | Train F1:  0.8983                 | Val Loss:  0.0152                 | Val F1:  0.7693\n"
     ]
    },
    {
     "name": "stderr",
     "output_type": "stream",
     "text": [
      "100%|██████████| 2499/2499 [00:08<00:00, 300.11it/s]\n"
     ]
    },
    {
     "name": "stdout",
     "output_type": "stream",
     "text": [
      "Epochs: 7 | Train Loss:  0.0066                 | Train F1:  0.9065                 | Val Loss:  0.0155                 | Val F1:  0.7674\n"
     ]
    },
    {
     "name": "stderr",
     "output_type": "stream",
     "text": [
      "100%|██████████| 2499/2499 [00:08<00:00, 301.42it/s]\n"
     ]
    },
    {
     "name": "stdout",
     "output_type": "stream",
     "text": [
      "Epochs: 8 | Train Loss:  0.0063                 | Train F1:  0.9128                 | Val Loss:  0.0161                 | Val F1:  0.7677\n"
     ]
    },
    {
     "name": "stderr",
     "output_type": "stream",
     "text": [
      "100%|██████████| 2499/2499 [00:08<00:00, 299.18it/s]\n"
     ]
    },
    {
     "name": "stdout",
     "output_type": "stream",
     "text": [
      "Epochs: 9 | Train Loss:  0.0058                 | Train F1:  0.9195                 | Val Loss:  0.0167                 | Val F1:  0.7623\n"
     ]
    },
    {
     "name": "stderr",
     "output_type": "stream",
     "text": [
      "100%|██████████| 2499/2499 [00:08<00:00, 298.86it/s]\n"
     ]
    },
    {
     "name": "stdout",
     "output_type": "stream",
     "text": [
      "Epochs: 10 | Train Loss:  0.0055                 | Train F1:  0.9241                 | Val Loss:  0.0170                 | Val F1:  0.7673\n",
      "Fold 4\n"
     ]
    },
    {
     "name": "stderr",
     "output_type": "stream",
     "text": [
      "100%|██████████| 2303/2303 [00:07<00:00, 296.70it/s]\n"
     ]
    },
    {
     "name": "stdout",
     "output_type": "stream",
     "text": [
      "Epochs: 1 | Train Loss:  0.0130                 | Train F1:  0.7742                 | Val Loss:  0.0163                 | Val F1:  0.7346\n"
     ]
    },
    {
     "name": "stderr",
     "output_type": "stream",
     "text": [
      "100%|██████████| 2303/2303 [00:07<00:00, 298.43it/s]\n"
     ]
    },
    {
     "name": "stdout",
     "output_type": "stream",
     "text": [
      "Epochs: 2 | Train Loss:  0.0089                 | Train F1:  0.8717                 | Val Loss:  0.0170                 | Val F1:  0.7273\n"
     ]
    },
    {
     "name": "stderr",
     "output_type": "stream",
     "text": [
      "100%|██████████| 2303/2303 [00:07<00:00, 301.41it/s]\n"
     ]
    },
    {
     "name": "stdout",
     "output_type": "stream",
     "text": [
      "Epochs: 3 | Train Loss:  0.0080                 | Train F1:  0.8821                 | Val Loss:  0.0172                 | Val F1:  0.7278\n"
     ]
    },
    {
     "name": "stderr",
     "output_type": "stream",
     "text": [
      "100%|██████████| 2303/2303 [00:07<00:00, 295.63it/s]\n"
     ]
    },
    {
     "name": "stdout",
     "output_type": "stream",
     "text": [
      "Epochs: 4 | Train Loss:  0.0076                 | Train F1:  0.8858                 | Val Loss:  0.0179                 | Val F1:  0.7216\n"
     ]
    },
    {
     "name": "stderr",
     "output_type": "stream",
     "text": [
      "100%|██████████| 2303/2303 [00:07<00:00, 298.21it/s]\n"
     ]
    },
    {
     "name": "stdout",
     "output_type": "stream",
     "text": [
      "Epochs: 5 | Train Loss:  0.0071                 | Train F1:  0.8940                 | Val Loss:  0.0185                 | Val F1:  0.7201\n"
     ]
    },
    {
     "name": "stderr",
     "output_type": "stream",
     "text": [
      "100%|██████████| 2303/2303 [00:07<00:00, 298.81it/s]\n"
     ]
    },
    {
     "name": "stdout",
     "output_type": "stream",
     "text": [
      "Epochs: 6 | Train Loss:  0.0067                 | Train F1:  0.8998                 | Val Loss:  0.0194                 | Val F1:  0.7146\n"
     ]
    },
    {
     "name": "stderr",
     "output_type": "stream",
     "text": [
      "100%|██████████| 2303/2303 [00:07<00:00, 298.96it/s]\n"
     ]
    },
    {
     "name": "stdout",
     "output_type": "stream",
     "text": [
      "Epochs: 7 | Train Loss:  0.0063                 | Train F1:  0.9073                 | Val Loss:  0.0200                 | Val F1:  0.7139\n"
     ]
    },
    {
     "name": "stderr",
     "output_type": "stream",
     "text": [
      "100%|██████████| 2303/2303 [00:07<00:00, 294.39it/s]\n"
     ]
    },
    {
     "name": "stdout",
     "output_type": "stream",
     "text": [
      "Epochs: 8 | Train Loss:  0.0059                 | Train F1:  0.9120                 | Val Loss:  0.0207                 | Val F1:  0.7141\n"
     ]
    },
    {
     "name": "stderr",
     "output_type": "stream",
     "text": [
      "100%|██████████| 2303/2303 [00:07<00:00, 298.37it/s]\n"
     ]
    },
    {
     "name": "stdout",
     "output_type": "stream",
     "text": [
      "Epochs: 9 | Train Loss:  0.0056                 | Train F1:  0.9178                 | Val Loss:  0.0214                 | Val F1:  0.7138\n"
     ]
    },
    {
     "name": "stderr",
     "output_type": "stream",
     "text": [
      "100%|██████████| 2303/2303 [00:07<00:00, 298.02it/s]\n",
      "\u001b[32m[I 2022-06-16 17:12:24,988]\u001b[0m Trial 2 finished with value: 0.7846442675655163 and parameters: {'learning_rate': 0.00020920268781372288, 'n_layers': 2, 'n_units_l0': 40, 'dropout_l0': 0.35000000000000003, 'n_units_l1': 9, 'dropout_l1': 0.45}. Best is trial 0 with value: 0.7995213307212309.\u001b[0m\n"
     ]
    },
    {
     "name": "stdout",
     "output_type": "stream",
     "text": [
      "Epochs: 10 | Train Loss:  0.0053                 | Train F1:  0.9216                 | Val Loss:  0.0220                 | Val F1:  0.7080\n",
      "Fold 0\n"
     ]
    },
    {
     "name": "stderr",
     "output_type": "stream",
     "text": [
      "100%|██████████| 2399/2399 [00:06<00:00, 349.82it/s]\n"
     ]
    },
    {
     "name": "stdout",
     "output_type": "stream",
     "text": [
      "Epochs: 1 | Train Loss:  0.0074                 | Train F1:  0.8944                 | Val Loss:  0.0155                 | Val F1:  0.7685\n"
     ]
    },
    {
     "name": "stderr",
     "output_type": "stream",
     "text": [
      "100%|██████████| 2399/2399 [00:06<00:00, 355.65it/s]\n"
     ]
    },
    {
     "name": "stdout",
     "output_type": "stream",
     "text": [
      "Epochs: 2 | Train Loss:  0.0055                 | Train F1:  0.9238                 | Val Loss:  0.0167                 | Val F1:  0.7569\n"
     ]
    },
    {
     "name": "stderr",
     "output_type": "stream",
     "text": [
      "100%|██████████| 2399/2399 [00:06<00:00, 359.01it/s]\n"
     ]
    },
    {
     "name": "stdout",
     "output_type": "stream",
     "text": [
      "Epochs: 3 | Train Loss:  0.0047                 | Train F1:  0.9344                 | Val Loss:  0.0178                 | Val F1:  0.7658\n"
     ]
    },
    {
     "name": "stderr",
     "output_type": "stream",
     "text": [
      "100%|██████████| 2399/2399 [00:06<00:00, 355.59it/s]\n"
     ]
    },
    {
     "name": "stdout",
     "output_type": "stream",
     "text": [
      "Epochs: 4 | Train Loss:  0.0043                 | Train F1:  0.9403                 | Val Loss:  0.0185                 | Val F1:  0.7462\n"
     ]
    },
    {
     "name": "stderr",
     "output_type": "stream",
     "text": [
      "100%|██████████| 2399/2399 [00:06<00:00, 355.22it/s]\n"
     ]
    },
    {
     "name": "stdout",
     "output_type": "stream",
     "text": [
      "Epochs: 5 | Train Loss:  0.0041                 | Train F1:  0.9428                 | Val Loss:  0.0178                 | Val F1:  0.7609\n"
     ]
    },
    {
     "name": "stderr",
     "output_type": "stream",
     "text": [
      "100%|██████████| 2399/2399 [00:06<00:00, 359.62it/s]\n"
     ]
    },
    {
     "name": "stdout",
     "output_type": "stream",
     "text": [
      "Epochs: 6 | Train Loss:  0.0039                 | Train F1:  0.9459                 | Val Loss:  0.0199                 | Val F1:  0.7499\n"
     ]
    },
    {
     "name": "stderr",
     "output_type": "stream",
     "text": [
      "100%|██████████| 2399/2399 [00:06<00:00, 355.64it/s]\n"
     ]
    },
    {
     "name": "stdout",
     "output_type": "stream",
     "text": [
      "Epochs: 7 | Train Loss:  0.0038                 | Train F1:  0.9473                 | Val Loss:  0.0198                 | Val F1:  0.7590\n"
     ]
    },
    {
     "name": "stderr",
     "output_type": "stream",
     "text": [
      "100%|██████████| 2399/2399 [00:06<00:00, 359.95it/s]\n"
     ]
    },
    {
     "name": "stdout",
     "output_type": "stream",
     "text": [
      "Epochs: 8 | Train Loss:  0.0037                 | Train F1:  0.9482                 | Val Loss:  0.0213                 | Val F1:  0.7510\n"
     ]
    },
    {
     "name": "stderr",
     "output_type": "stream",
     "text": [
      "100%|██████████| 2399/2399 [00:06<00:00, 351.51it/s]\n"
     ]
    },
    {
     "name": "stdout",
     "output_type": "stream",
     "text": [
      "Epochs: 9 | Train Loss:  0.0037                 | Train F1:  0.9482                 | Val Loss:  0.0191                 | Val F1:  0.7646\n"
     ]
    },
    {
     "name": "stderr",
     "output_type": "stream",
     "text": [
      "100%|██████████| 2399/2399 [00:06<00:00, 355.12it/s]\n"
     ]
    },
    {
     "name": "stdout",
     "output_type": "stream",
     "text": [
      "Epochs: 10 | Train Loss:  0.0037                 | Train F1:  0.9482                 | Val Loss:  0.0195                 | Val F1:  0.7608\n",
      "Fold 1\n"
     ]
    },
    {
     "name": "stderr",
     "output_type": "stream",
     "text": [
      "100%|██████████| 2485/2485 [00:07<00:00, 354.72it/s]\n"
     ]
    },
    {
     "name": "stdout",
     "output_type": "stream",
     "text": [
      "Epochs: 1 | Train Loss:  0.0078                 | Train F1:  0.8810                 | Val Loss:  0.0109                 | Val F1:  0.8216\n"
     ]
    },
    {
     "name": "stderr",
     "output_type": "stream",
     "text": [
      "100%|██████████| 2485/2485 [00:07<00:00, 351.18it/s]\n"
     ]
    },
    {
     "name": "stdout",
     "output_type": "stream",
     "text": [
      "Epochs: 2 | Train Loss:  0.0057                 | Train F1:  0.9177                 | Val Loss:  0.0115                 | Val F1:  0.8146\n"
     ]
    },
    {
     "name": "stderr",
     "output_type": "stream",
     "text": [
      "100%|██████████| 2485/2485 [00:06<00:00, 357.71it/s]\n"
     ]
    },
    {
     "name": "stdout",
     "output_type": "stream",
     "text": [
      "Epochs: 3 | Train Loss:  0.0050                 | Train F1:  0.9275                 | Val Loss:  0.0128                 | Val F1:  0.8070\n"
     ]
    },
    {
     "name": "stderr",
     "output_type": "stream",
     "text": [
      "100%|██████████| 2485/2485 [00:06<00:00, 357.19it/s]\n"
     ]
    },
    {
     "name": "stdout",
     "output_type": "stream",
     "text": [
      "Epochs: 4 | Train Loss:  0.0046                 | Train F1:  0.9325                 | Val Loss:  0.0130                 | Val F1:  0.8064\n"
     ]
    },
    {
     "name": "stderr",
     "output_type": "stream",
     "text": [
      "100%|██████████| 2485/2485 [00:06<00:00, 359.51it/s]\n"
     ]
    },
    {
     "name": "stdout",
     "output_type": "stream",
     "text": [
      "Epochs: 5 | Train Loss:  0.0043                 | Train F1:  0.9377                 | Val Loss:  0.0132                 | Val F1:  0.8097\n"
     ]
    },
    {
     "name": "stderr",
     "output_type": "stream",
     "text": [
      "100%|██████████| 2485/2485 [00:06<00:00, 356.43it/s]\n"
     ]
    },
    {
     "name": "stdout",
     "output_type": "stream",
     "text": [
      "Epochs: 6 | Train Loss:  0.0041                 | Train F1:  0.9399                 | Val Loss:  0.0139                 | Val F1:  0.8126\n"
     ]
    },
    {
     "name": "stderr",
     "output_type": "stream",
     "text": [
      "100%|██████████| 2485/2485 [00:07<00:00, 352.10it/s]\n"
     ]
    },
    {
     "name": "stdout",
     "output_type": "stream",
     "text": [
      "Epochs: 7 | Train Loss:  0.0041                 | Train F1:  0.9397                 | Val Loss:  0.0143                 | Val F1:  0.8040\n"
     ]
    },
    {
     "name": "stderr",
     "output_type": "stream",
     "text": [
      "100%|██████████| 2485/2485 [00:07<00:00, 351.60it/s]\n"
     ]
    },
    {
     "name": "stdout",
     "output_type": "stream",
     "text": [
      "Epochs: 8 | Train Loss:  0.0041                 | Train F1:  0.9410                 | Val Loss:  0.0148                 | Val F1:  0.7971\n"
     ]
    },
    {
     "name": "stderr",
     "output_type": "stream",
     "text": [
      "100%|██████████| 2485/2485 [00:07<00:00, 349.88it/s]\n"
     ]
    },
    {
     "name": "stdout",
     "output_type": "stream",
     "text": [
      "Epochs: 9 | Train Loss:  0.0039                 | Train F1:  0.9429                 | Val Loss:  0.0144                 | Val F1:  0.8023\n"
     ]
    },
    {
     "name": "stderr",
     "output_type": "stream",
     "text": [
      "100%|██████████| 2485/2485 [00:07<00:00, 350.60it/s]\n"
     ]
    },
    {
     "name": "stdout",
     "output_type": "stream",
     "text": [
      "Epochs: 10 | Train Loss:  0.0039                 | Train F1:  0.9429                 | Val Loss:  0.0154                 | Val F1:  0.7770\n",
      "Fold 2\n"
     ]
    },
    {
     "name": "stderr",
     "output_type": "stream",
     "text": [
      "100%|██████████| 2549/2549 [00:07<00:00, 356.27it/s]\n"
     ]
    },
    {
     "name": "stdout",
     "output_type": "stream",
     "text": [
      "Epochs: 1 | Train Loss:  0.0083                 | Train F1:  0.8752                 | Val Loss:  0.0075                 | Val F1:  0.8743\n"
     ]
    },
    {
     "name": "stderr",
     "output_type": "stream",
     "text": [
      "100%|██████████| 2549/2549 [00:07<00:00, 358.24it/s]\n"
     ]
    },
    {
     "name": "stdout",
     "output_type": "stream",
     "text": [
      "Epochs: 2 | Train Loss:  0.0063                 | Train F1:  0.9087                 | Val Loss:  0.0084                 | Val F1:  0.8655\n"
     ]
    },
    {
     "name": "stderr",
     "output_type": "stream",
     "text": [
      "100%|██████████| 2549/2549 [00:07<00:00, 359.53it/s]\n"
     ]
    },
    {
     "name": "stdout",
     "output_type": "stream",
     "text": [
      "Epochs: 3 | Train Loss:  0.0055                 | Train F1:  0.9199                 | Val Loss:  0.0082                 | Val F1:  0.8744\n"
     ]
    },
    {
     "name": "stderr",
     "output_type": "stream",
     "text": [
      "100%|██████████| 2549/2549 [00:07<00:00, 354.66it/s]\n"
     ]
    },
    {
     "name": "stdout",
     "output_type": "stream",
     "text": [
      "Epochs: 4 | Train Loss:  0.0051                 | Train F1:  0.9272                 | Val Loss:  0.0094                 | Val F1:  0.8639\n"
     ]
    },
    {
     "name": "stderr",
     "output_type": "stream",
     "text": [
      "100%|██████████| 2549/2549 [00:07<00:00, 353.94it/s]\n"
     ]
    },
    {
     "name": "stdout",
     "output_type": "stream",
     "text": [
      "Epochs: 5 | Train Loss:  0.0049                 | Train F1:  0.9301                 | Val Loss:  0.0088                 | Val F1:  0.8696\n"
     ]
    },
    {
     "name": "stderr",
     "output_type": "stream",
     "text": [
      "100%|██████████| 2549/2549 [00:07<00:00, 352.54it/s]\n"
     ]
    },
    {
     "name": "stdout",
     "output_type": "stream",
     "text": [
      "Epochs: 6 | Train Loss:  0.0047                 | Train F1:  0.9327                 | Val Loss:  0.0087                 | Val F1:  0.8727\n"
     ]
    },
    {
     "name": "stderr",
     "output_type": "stream",
     "text": [
      "100%|██████████| 2549/2549 [00:07<00:00, 353.93it/s]\n"
     ]
    },
    {
     "name": "stdout",
     "output_type": "stream",
     "text": [
      "Epochs: 7 | Train Loss:  0.0046                 | Train F1:  0.9345                 | Val Loss:  0.0097                 | Val F1:  0.8601\n"
     ]
    },
    {
     "name": "stderr",
     "output_type": "stream",
     "text": [
      "100%|██████████| 2549/2549 [00:07<00:00, 349.60it/s]\n"
     ]
    },
    {
     "name": "stdout",
     "output_type": "stream",
     "text": [
      "Epochs: 8 | Train Loss:  0.0045                 | Train F1:  0.9365                 | Val Loss:  0.0090                 | Val F1:  0.8631\n"
     ]
    },
    {
     "name": "stderr",
     "output_type": "stream",
     "text": [
      "100%|██████████| 2549/2549 [00:07<00:00, 347.91it/s]\n"
     ]
    },
    {
     "name": "stdout",
     "output_type": "stream",
     "text": [
      "Epochs: 9 | Train Loss:  0.0044                 | Train F1:  0.9371                 | Val Loss:  0.0095                 | Val F1:  0.8677\n"
     ]
    },
    {
     "name": "stderr",
     "output_type": "stream",
     "text": [
      "100%|██████████| 2549/2549 [00:07<00:00, 351.52it/s]\n"
     ]
    },
    {
     "name": "stdout",
     "output_type": "stream",
     "text": [
      "Epochs: 10 | Train Loss:  0.0044                 | Train F1:  0.9380                 | Val Loss:  0.0099                 | Val F1:  0.8615\n",
      "Fold 3\n"
     ]
    },
    {
     "name": "stderr",
     "output_type": "stream",
     "text": [
      "100%|██████████| 2499/2499 [00:07<00:00, 349.36it/s]\n"
     ]
    },
    {
     "name": "stdout",
     "output_type": "stream",
     "text": [
      "Epochs: 1 | Train Loss:  0.0076                 | Train F1:  0.8827                 | Val Loss:  0.0159                 | Val F1:  0.7763\n"
     ]
    },
    {
     "name": "stderr",
     "output_type": "stream",
     "text": [
      "100%|██████████| 2499/2499 [00:07<00:00, 353.07it/s]\n"
     ]
    },
    {
     "name": "stdout",
     "output_type": "stream",
     "text": [
      "Epochs: 2 | Train Loss:  0.0057                 | Train F1:  0.9147                 | Val Loss:  0.0157                 | Val F1:  0.7801\n"
     ]
    },
    {
     "name": "stderr",
     "output_type": "stream",
     "text": [
      "100%|██████████| 2499/2499 [00:07<00:00, 349.77it/s]\n"
     ]
    },
    {
     "name": "stdout",
     "output_type": "stream",
     "text": [
      "Epochs: 3 | Train Loss:  0.0049                 | Train F1:  0.9271                 | Val Loss:  0.0168                 | Val F1:  0.7688\n"
     ]
    },
    {
     "name": "stderr",
     "output_type": "stream",
     "text": [
      "100%|██████████| 2499/2499 [00:07<00:00, 347.97it/s]\n"
     ]
    },
    {
     "name": "stdout",
     "output_type": "stream",
     "text": [
      "Epochs: 4 | Train Loss:  0.0046                 | Train F1:  0.9331                 | Val Loss:  0.0172                 | Val F1:  0.7791\n"
     ]
    },
    {
     "name": "stderr",
     "output_type": "stream",
     "text": [
      "100%|██████████| 2499/2499 [00:07<00:00, 347.88it/s]\n"
     ]
    },
    {
     "name": "stdout",
     "output_type": "stream",
     "text": [
      "Epochs: 5 | Train Loss:  0.0043                 | Train F1:  0.9365                 | Val Loss:  0.0183                 | Val F1:  0.7714\n"
     ]
    },
    {
     "name": "stderr",
     "output_type": "stream",
     "text": [
      "100%|██████████| 2499/2499 [00:06<00:00, 359.38it/s]\n"
     ]
    },
    {
     "name": "stdout",
     "output_type": "stream",
     "text": [
      "Epochs: 6 | Train Loss:  0.0041                 | Train F1:  0.9401                 | Val Loss:  0.0175                 | Val F1:  0.7798\n"
     ]
    },
    {
     "name": "stderr",
     "output_type": "stream",
     "text": [
      "100%|██████████| 2499/2499 [00:06<00:00, 362.88it/s]\n"
     ]
    },
    {
     "name": "stdout",
     "output_type": "stream",
     "text": [
      "Epochs: 7 | Train Loss:  0.0040                 | Train F1:  0.9406                 | Val Loss:  0.0190                 | Val F1:  0.7686\n"
     ]
    },
    {
     "name": "stderr",
     "output_type": "stream",
     "text": [
      "100%|██████████| 2499/2499 [00:06<00:00, 362.25it/s]\n"
     ]
    },
    {
     "name": "stdout",
     "output_type": "stream",
     "text": [
      "Epochs: 8 | Train Loss:  0.0039                 | Train F1:  0.9424                 | Val Loss:  0.0186                 | Val F1:  0.7774\n"
     ]
    },
    {
     "name": "stderr",
     "output_type": "stream",
     "text": [
      "100%|██████████| 2499/2499 [00:06<00:00, 359.21it/s]\n"
     ]
    },
    {
     "name": "stdout",
     "output_type": "stream",
     "text": [
      "Epochs: 9 | Train Loss:  0.0039                 | Train F1:  0.9425                 | Val Loss:  0.0209                 | Val F1:  0.7709\n"
     ]
    },
    {
     "name": "stderr",
     "output_type": "stream",
     "text": [
      "100%|██████████| 2499/2499 [00:06<00:00, 363.34it/s]\n"
     ]
    },
    {
     "name": "stdout",
     "output_type": "stream",
     "text": [
      "Epochs: 10 | Train Loss:  0.0038                 | Train F1:  0.9456                 | Val Loss:  0.0172                 | Val F1:  0.7842\n",
      "Fold 4\n"
     ]
    },
    {
     "name": "stderr",
     "output_type": "stream",
     "text": [
      "100%|██████████| 2303/2303 [00:06<00:00, 365.30it/s]\n"
     ]
    },
    {
     "name": "stdout",
     "output_type": "stream",
     "text": [
      "Epochs: 1 | Train Loss:  0.0068                 | Train F1:  0.9003                 | Val Loss:  0.0198                 | Val F1:  0.7189\n"
     ]
    },
    {
     "name": "stderr",
     "output_type": "stream",
     "text": [
      "100%|██████████| 2303/2303 [00:06<00:00, 362.83it/s]\n"
     ]
    },
    {
     "name": "stdout",
     "output_type": "stream",
     "text": [
      "Epochs: 2 | Train Loss:  0.0048                 | Train F1:  0.9332                 | Val Loss:  0.0220                 | Val F1:  0.7173\n"
     ]
    },
    {
     "name": "stderr",
     "output_type": "stream",
     "text": [
      "100%|██████████| 2303/2303 [00:06<00:00, 362.42it/s]\n"
     ]
    },
    {
     "name": "stdout",
     "output_type": "stream",
     "text": [
      "Epochs: 3 | Train Loss:  0.0041                 | Train F1:  0.9414                 | Val Loss:  0.0231                 | Val F1:  0.7148\n"
     ]
    },
    {
     "name": "stderr",
     "output_type": "stream",
     "text": [
      "100%|██████████| 2303/2303 [00:06<00:00, 364.28it/s]\n"
     ]
    },
    {
     "name": "stdout",
     "output_type": "stream",
     "text": [
      "Epochs: 4 | Train Loss:  0.0038                 | Train F1:  0.9480                 | Val Loss:  0.0235                 | Val F1:  0.7233\n"
     ]
    },
    {
     "name": "stderr",
     "output_type": "stream",
     "text": [
      "100%|██████████| 2303/2303 [00:06<00:00, 362.15it/s]\n"
     ]
    },
    {
     "name": "stdout",
     "output_type": "stream",
     "text": [
      "Epochs: 5 | Train Loss:  0.0035                 | Train F1:  0.9520                 | Val Loss:  0.0232                 | Val F1:  0.7248\n"
     ]
    },
    {
     "name": "stderr",
     "output_type": "stream",
     "text": [
      "100%|██████████| 2303/2303 [00:06<00:00, 363.34it/s]\n"
     ]
    },
    {
     "name": "stdout",
     "output_type": "stream",
     "text": [
      "Epochs: 6 | Train Loss:  0.0033                 | Train F1:  0.9532                 | Val Loss:  0.0246                 | Val F1:  0.7190\n"
     ]
    },
    {
     "name": "stderr",
     "output_type": "stream",
     "text": [
      "100%|██████████| 2303/2303 [00:06<00:00, 362.37it/s]\n"
     ]
    },
    {
     "name": "stdout",
     "output_type": "stream",
     "text": [
      "Epochs: 7 | Train Loss:  0.0032                 | Train F1:  0.9550                 | Val Loss:  0.0275                 | Val F1:  0.7051\n"
     ]
    },
    {
     "name": "stderr",
     "output_type": "stream",
     "text": [
      "100%|██████████| 2303/2303 [00:06<00:00, 369.27it/s]\n"
     ]
    },
    {
     "name": "stdout",
     "output_type": "stream",
     "text": [
      "Epochs: 8 | Train Loss:  0.0032                 | Train F1:  0.9567                 | Val Loss:  0.0280                 | Val F1:  0.7046\n"
     ]
    },
    {
     "name": "stderr",
     "output_type": "stream",
     "text": [
      "100%|██████████| 2303/2303 [00:06<00:00, 365.45it/s]\n"
     ]
    },
    {
     "name": "stdout",
     "output_type": "stream",
     "text": [
      "Epochs: 9 | Train Loss:  0.0031                 | Train F1:  0.9575                 | Val Loss:  0.0272                 | Val F1:  0.7158\n"
     ]
    },
    {
     "name": "stderr",
     "output_type": "stream",
     "text": [
      "100%|██████████| 2303/2303 [00:06<00:00, 365.94it/s]\n",
      "\u001b[32m[I 2022-06-16 17:18:56,684]\u001b[0m Trial 3 finished with value: 0.7770541611975994 and parameters: {'learning_rate': 0.004885396278475459, 'n_layers': 1, 'n_units_l0': 17, 'dropout_l0': 0.30000000000000004}. Best is trial 0 with value: 0.7995213307212309.\u001b[0m\n"
     ]
    },
    {
     "name": "stdout",
     "output_type": "stream",
     "text": [
      "Epochs: 10 | Train Loss:  0.0030                 | Train F1:  0.9586                 | Val Loss:  0.0267                 | Val F1:  0.7018\n",
      "Fold 0\n"
     ]
    },
    {
     "name": "stderr",
     "output_type": "stream",
     "text": [
      "100%|██████████| 2399/2399 [00:07<00:00, 325.84it/s]\n"
     ]
    },
    {
     "name": "stdout",
     "output_type": "stream",
     "text": [
      "Epochs: 1 | Train Loss:  0.0180                 | Train F1:  0.7611                 | Val Loss:  0.0154                 | Val F1:  0.7707\n"
     ]
    },
    {
     "name": "stderr",
     "output_type": "stream",
     "text": [
      "100%|██████████| 2399/2399 [00:06<00:00, 353.05it/s]\n"
     ]
    },
    {
     "name": "stdout",
     "output_type": "stream",
     "text": [
      "Epochs: 2 | Train Loss:  0.0125                 | Train F1:  0.8370                 | Val Loss:  0.0134                 | Val F1:  0.7715\n"
     ]
    },
    {
     "name": "stderr",
     "output_type": "stream",
     "text": [
      "100%|██████████| 2399/2399 [00:06<00:00, 354.62it/s]\n"
     ]
    },
    {
     "name": "stdout",
     "output_type": "stream",
     "text": [
      "Epochs: 3 | Train Loss:  0.0106                 | Train F1:  0.8480                 | Val Loss:  0.0132                 | Val F1:  0.7696\n"
     ]
    },
    {
     "name": "stderr",
     "output_type": "stream",
     "text": [
      "100%|██████████| 2399/2399 [00:06<00:00, 353.31it/s]\n"
     ]
    },
    {
     "name": "stdout",
     "output_type": "stream",
     "text": [
      "Epochs: 4 | Train Loss:  0.0098                 | Train F1:  0.8570                 | Val Loss:  0.0132                 | Val F1:  0.7697\n"
     ]
    },
    {
     "name": "stderr",
     "output_type": "stream",
     "text": [
      "100%|██████████| 2399/2399 [00:06<00:00, 350.57it/s]\n"
     ]
    },
    {
     "name": "stdout",
     "output_type": "stream",
     "text": [
      "Epochs: 5 | Train Loss:  0.0094                 | Train F1:  0.8627                 | Val Loss:  0.0134                 | Val F1:  0.7683\n"
     ]
    },
    {
     "name": "stderr",
     "output_type": "stream",
     "text": [
      "100%|██████████| 2399/2399 [00:06<00:00, 355.17it/s]\n"
     ]
    },
    {
     "name": "stdout",
     "output_type": "stream",
     "text": [
      "Epochs: 6 | Train Loss:  0.0090                 | Train F1:  0.8688                 | Val Loss:  0.0134                 | Val F1:  0.7692\n"
     ]
    },
    {
     "name": "stderr",
     "output_type": "stream",
     "text": [
      "100%|██████████| 2399/2399 [00:06<00:00, 353.48it/s]\n"
     ]
    },
    {
     "name": "stdout",
     "output_type": "stream",
     "text": [
      "Epochs: 7 | Train Loss:  0.0088                 | Train F1:  0.8728                 | Val Loss:  0.0134                 | Val F1:  0.7689\n"
     ]
    },
    {
     "name": "stderr",
     "output_type": "stream",
     "text": [
      "100%|██████████| 2399/2399 [00:06<00:00, 354.99it/s]\n"
     ]
    },
    {
     "name": "stdout",
     "output_type": "stream",
     "text": [
      "Epochs: 8 | Train Loss:  0.0087                 | Train F1:  0.8748                 | Val Loss:  0.0135                 | Val F1:  0.7690\n"
     ]
    },
    {
     "name": "stderr",
     "output_type": "stream",
     "text": [
      "100%|██████████| 2399/2399 [00:06<00:00, 354.00it/s]\n"
     ]
    },
    {
     "name": "stdout",
     "output_type": "stream",
     "text": [
      "Epochs: 9 | Train Loss:  0.0085                 | Train F1:  0.8764                 | Val Loss:  0.0136                 | Val F1:  0.7672\n"
     ]
    },
    {
     "name": "stderr",
     "output_type": "stream",
     "text": [
      "100%|██████████| 2399/2399 [00:06<00:00, 353.28it/s]\n"
     ]
    },
    {
     "name": "stdout",
     "output_type": "stream",
     "text": [
      "Epochs: 10 | Train Loss:  0.0084                 | Train F1:  0.8788                 | Val Loss:  0.0136                 | Val F1:  0.7663\n",
      "Fold 1\n"
     ]
    },
    {
     "name": "stderr",
     "output_type": "stream",
     "text": [
      "100%|██████████| 2485/2485 [00:07<00:00, 353.54it/s]\n"
     ]
    },
    {
     "name": "stdout",
     "output_type": "stream",
     "text": [
      "Epochs: 1 | Train Loss:  0.0182                 | Train F1:  0.7329                 | Val Loss:  0.0142                 | Val F1:  0.7979\n"
     ]
    },
    {
     "name": "stderr",
     "output_type": "stream",
     "text": [
      "100%|██████████| 2485/2485 [00:07<00:00, 347.84it/s]\n"
     ]
    },
    {
     "name": "stdout",
     "output_type": "stream",
     "text": [
      "Epochs: 2 | Train Loss:  0.0130                 | Train F1:  0.8155                 | Val Loss:  0.0113                 | Val F1:  0.8171\n"
     ]
    },
    {
     "name": "stderr",
     "output_type": "stream",
     "text": [
      "100%|██████████| 2485/2485 [00:07<00:00, 352.95it/s]\n"
     ]
    },
    {
     "name": "stdout",
     "output_type": "stream",
     "text": [
      "Epochs: 3 | Train Loss:  0.0113                 | Train F1:  0.8263                 | Val Loss:  0.0104                 | Val F1:  0.8242\n"
     ]
    },
    {
     "name": "stderr",
     "output_type": "stream",
     "text": [
      "100%|██████████| 2485/2485 [00:07<00:00, 346.24it/s]\n"
     ]
    },
    {
     "name": "stdout",
     "output_type": "stream",
     "text": [
      "Epochs: 4 | Train Loss:  0.0106                 | Train F1:  0.8355                 | Val Loss:  0.0100                 | Val F1:  0.8317\n"
     ]
    },
    {
     "name": "stderr",
     "output_type": "stream",
     "text": [
      "100%|██████████| 2485/2485 [00:07<00:00, 347.07it/s]\n"
     ]
    },
    {
     "name": "stdout",
     "output_type": "stream",
     "text": [
      "Epochs: 5 | Train Loss:  0.0102                 | Train F1:  0.8417                 | Val Loss:  0.0098                 | Val F1:  0.8361\n"
     ]
    },
    {
     "name": "stderr",
     "output_type": "stream",
     "text": [
      "100%|██████████| 2485/2485 [00:07<00:00, 349.73it/s]\n"
     ]
    },
    {
     "name": "stdout",
     "output_type": "stream",
     "text": [
      "Epochs: 6 | Train Loss:  0.0099                 | Train F1:  0.8462                 | Val Loss:  0.0097                 | Val F1:  0.8393\n"
     ]
    },
    {
     "name": "stderr",
     "output_type": "stream",
     "text": [
      "100%|██████████| 2485/2485 [00:07<00:00, 349.38it/s]\n"
     ]
    },
    {
     "name": "stdout",
     "output_type": "stream",
     "text": [
      "Epochs: 7 | Train Loss:  0.0096                 | Train F1:  0.8501                 | Val Loss:  0.0097                 | Val F1:  0.8403\n"
     ]
    },
    {
     "name": "stderr",
     "output_type": "stream",
     "text": [
      "100%|██████████| 2485/2485 [00:07<00:00, 349.52it/s]\n"
     ]
    },
    {
     "name": "stdout",
     "output_type": "stream",
     "text": [
      "Epochs: 8 | Train Loss:  0.0094                 | Train F1:  0.8547                 | Val Loss:  0.0097                 | Val F1:  0.8401\n"
     ]
    },
    {
     "name": "stderr",
     "output_type": "stream",
     "text": [
      "100%|██████████| 2485/2485 [00:07<00:00, 348.54it/s]\n"
     ]
    },
    {
     "name": "stdout",
     "output_type": "stream",
     "text": [
      "Epochs: 9 | Train Loss:  0.0093                 | Train F1:  0.8568                 | Val Loss:  0.0097                 | Val F1:  0.8408\n"
     ]
    },
    {
     "name": "stderr",
     "output_type": "stream",
     "text": [
      "100%|██████████| 2485/2485 [00:07<00:00, 351.06it/s]\n"
     ]
    },
    {
     "name": "stdout",
     "output_type": "stream",
     "text": [
      "Epochs: 10 | Train Loss:  0.0092                 | Train F1:  0.8595                 | Val Loss:  0.0097                 | Val F1:  0.8409\n",
      "Fold 2\n"
     ]
    },
    {
     "name": "stderr",
     "output_type": "stream",
     "text": [
      "100%|██████████| 2549/2549 [00:07<00:00, 346.77it/s]\n"
     ]
    },
    {
     "name": "stdout",
     "output_type": "stream",
     "text": [
      "Epochs: 1 | Train Loss:  0.0181                 | Train F1:  0.7697                 | Val Loss:  0.0126                 | Val F1:  0.8747\n"
     ]
    },
    {
     "name": "stderr",
     "output_type": "stream",
     "text": [
      "100%|██████████| 2549/2549 [00:07<00:00, 348.04it/s]\n"
     ]
    },
    {
     "name": "stdout",
     "output_type": "stream",
     "text": [
      "Epochs: 2 | Train Loss:  0.0132                 | Train F1:  0.8128                 | Val Loss:  0.0095                 | Val F1:  0.8723\n"
     ]
    },
    {
     "name": "stderr",
     "output_type": "stream",
     "text": [
      "100%|██████████| 2549/2549 [00:07<00:00, 347.86it/s]\n"
     ]
    },
    {
     "name": "stdout",
     "output_type": "stream",
     "text": [
      "Epochs: 3 | Train Loss:  0.0116                 | Train F1:  0.8253                 | Val Loss:  0.0086                 | Val F1:  0.8690\n"
     ]
    },
    {
     "name": "stderr",
     "output_type": "stream",
     "text": [
      "100%|██████████| 2549/2549 [00:07<00:00, 350.49it/s]\n"
     ]
    },
    {
     "name": "stdout",
     "output_type": "stream",
     "text": [
      "Epochs: 4 | Train Loss:  0.0109                 | Train F1:  0.8348                 | Val Loss:  0.0083                 | Val F1:  0.8665\n"
     ]
    },
    {
     "name": "stderr",
     "output_type": "stream",
     "text": [
      "100%|██████████| 2549/2549 [00:07<00:00, 346.96it/s]\n"
     ]
    },
    {
     "name": "stdout",
     "output_type": "stream",
     "text": [
      "Epochs: 5 | Train Loss:  0.0105                 | Train F1:  0.8399                 | Val Loss:  0.0082                 | Val F1:  0.8662\n"
     ]
    },
    {
     "name": "stderr",
     "output_type": "stream",
     "text": [
      "100%|██████████| 2549/2549 [00:07<00:00, 343.96it/s]\n"
     ]
    },
    {
     "name": "stdout",
     "output_type": "stream",
     "text": [
      "Epochs: 6 | Train Loss:  0.0102                 | Train F1:  0.8459                 | Val Loss:  0.0081                 | Val F1:  0.8655\n"
     ]
    },
    {
     "name": "stderr",
     "output_type": "stream",
     "text": [
      "100%|██████████| 2549/2549 [00:07<00:00, 344.94it/s]\n"
     ]
    },
    {
     "name": "stdout",
     "output_type": "stream",
     "text": [
      "Epochs: 7 | Train Loss:  0.0100                 | Train F1:  0.8490                 | Val Loss:  0.0081                 | Val F1:  0.8654\n"
     ]
    },
    {
     "name": "stderr",
     "output_type": "stream",
     "text": [
      "100%|██████████| 2549/2549 [00:07<00:00, 342.39it/s]\n"
     ]
    },
    {
     "name": "stdout",
     "output_type": "stream",
     "text": [
      "Epochs: 8 | Train Loss:  0.0098                 | Train F1:  0.8517                 | Val Loss:  0.0081                 | Val F1:  0.8639\n"
     ]
    },
    {
     "name": "stderr",
     "output_type": "stream",
     "text": [
      "100%|██████████| 2549/2549 [00:07<00:00, 343.78it/s]\n"
     ]
    },
    {
     "name": "stdout",
     "output_type": "stream",
     "text": [
      "Epochs: 9 | Train Loss:  0.0096                 | Train F1:  0.8550                 | Val Loss:  0.0080                 | Val F1:  0.8654\n"
     ]
    },
    {
     "name": "stderr",
     "output_type": "stream",
     "text": [
      "100%|██████████| 2549/2549 [00:07<00:00, 345.35it/s]\n"
     ]
    },
    {
     "name": "stdout",
     "output_type": "stream",
     "text": [
      "Epochs: 10 | Train Loss:  0.0095                 | Train F1:  0.8574                 | Val Loss:  0.0080                 | Val F1:  0.8656\n",
      "Fold 3\n"
     ]
    },
    {
     "name": "stderr",
     "output_type": "stream",
     "text": [
      "100%|██████████| 2499/2499 [00:07<00:00, 349.76it/s]\n"
     ]
    },
    {
     "name": "stdout",
     "output_type": "stream",
     "text": [
      "Epochs: 1 | Train Loss:  0.0178                 | Train F1:  0.7442                 | Val Loss:  0.0152                 | Val F1:  0.7843\n"
     ]
    },
    {
     "name": "stderr",
     "output_type": "stream",
     "text": [
      "100%|██████████| 2499/2499 [00:07<00:00, 352.34it/s]\n"
     ]
    },
    {
     "name": "stdout",
     "output_type": "stream",
     "text": [
      "Epochs: 2 | Train Loss:  0.0125                 | Train F1:  0.8088                 | Val Loss:  0.0125                 | Val F1:  0.8161\n"
     ]
    },
    {
     "name": "stderr",
     "output_type": "stream",
     "text": [
      "100%|██████████| 2499/2499 [00:07<00:00, 350.02it/s]\n"
     ]
    },
    {
     "name": "stdout",
     "output_type": "stream",
     "text": [
      "Epochs: 3 | Train Loss:  0.0108                 | Train F1:  0.8280                 | Val Loss:  0.0117                 | Val F1:  0.8238\n"
     ]
    },
    {
     "name": "stderr",
     "output_type": "stream",
     "text": [
      "100%|██████████| 2499/2499 [00:07<00:00, 344.55it/s]\n"
     ]
    },
    {
     "name": "stdout",
     "output_type": "stream",
     "text": [
      "Epochs: 4 | Train Loss:  0.0102                 | Train F1:  0.8384                 | Val Loss:  0.0116                 | Val F1:  0.8235\n"
     ]
    },
    {
     "name": "stderr",
     "output_type": "stream",
     "text": [
      "100%|██████████| 2499/2499 [00:07<00:00, 351.11it/s]\n"
     ]
    },
    {
     "name": "stdout",
     "output_type": "stream",
     "text": [
      "Epochs: 5 | Train Loss:  0.0097                 | Train F1:  0.8449                 | Val Loss:  0.0116                 | Val F1:  0.8217\n"
     ]
    },
    {
     "name": "stderr",
     "output_type": "stream",
     "text": [
      "100%|██████████| 2499/2499 [00:07<00:00, 347.66it/s]\n"
     ]
    },
    {
     "name": "stdout",
     "output_type": "stream",
     "text": [
      "Epochs: 6 | Train Loss:  0.0094                 | Train F1:  0.8512                 | Val Loss:  0.0117                 | Val F1:  0.8192\n"
     ]
    },
    {
     "name": "stderr",
     "output_type": "stream",
     "text": [
      "100%|██████████| 2499/2499 [00:07<00:00, 347.32it/s]\n"
     ]
    },
    {
     "name": "stdout",
     "output_type": "stream",
     "text": [
      "Epochs: 7 | Train Loss:  0.0092                 | Train F1:  0.8561                 | Val Loss:  0.0118                 | Val F1:  0.8180\n"
     ]
    },
    {
     "name": "stderr",
     "output_type": "stream",
     "text": [
      "100%|██████████| 2499/2499 [00:07<00:00, 345.88it/s]\n"
     ]
    },
    {
     "name": "stdout",
     "output_type": "stream",
     "text": [
      "Epochs: 8 | Train Loss:  0.0090                 | Train F1:  0.8604                 | Val Loss:  0.0119                 | Val F1:  0.8150\n"
     ]
    },
    {
     "name": "stderr",
     "output_type": "stream",
     "text": [
      "100%|██████████| 2499/2499 [00:07<00:00, 342.86it/s]\n"
     ]
    },
    {
     "name": "stdout",
     "output_type": "stream",
     "text": [
      "Epochs: 9 | Train Loss:  0.0088                 | Train F1:  0.8638                 | Val Loss:  0.0120                 | Val F1:  0.8143\n"
     ]
    },
    {
     "name": "stderr",
     "output_type": "stream",
     "text": [
      "100%|██████████| 2499/2499 [00:07<00:00, 348.17it/s]\n"
     ]
    },
    {
     "name": "stdout",
     "output_type": "stream",
     "text": [
      "Epochs: 10 | Train Loss:  0.0087                 | Train F1:  0.8660                 | Val Loss:  0.0122                 | Val F1:  0.8122\n",
      "Fold 4\n"
     ]
    },
    {
     "name": "stderr",
     "output_type": "stream",
     "text": [
      "100%|██████████| 2303/2303 [00:06<00:00, 349.28it/s]\n"
     ]
    },
    {
     "name": "stdout",
     "output_type": "stream",
     "text": [
      "Epochs: 1 | Train Loss:  0.0173                 | Train F1:  0.7498                 | Val Loss:  0.0165                 | Val F1:  0.7301\n"
     ]
    },
    {
     "name": "stderr",
     "output_type": "stream",
     "text": [
      "100%|██████████| 2303/2303 [00:06<00:00, 348.75it/s]\n"
     ]
    },
    {
     "name": "stdout",
     "output_type": "stream",
     "text": [
      "Epochs: 2 | Train Loss:  0.0117                 | Train F1:  0.8415                 | Val Loss:  0.0152                 | Val F1:  0.7390\n"
     ]
    },
    {
     "name": "stderr",
     "output_type": "stream",
     "text": [
      "100%|██████████| 2303/2303 [00:06<00:00, 349.01it/s]\n"
     ]
    },
    {
     "name": "stdout",
     "output_type": "stream",
     "text": [
      "Epochs: 3 | Train Loss:  0.0099                 | Train F1:  0.8548                 | Val Loss:  0.0153                 | Val F1:  0.7421\n"
     ]
    },
    {
     "name": "stderr",
     "output_type": "stream",
     "text": [
      "100%|██████████| 2303/2303 [00:06<00:00, 351.24it/s]\n"
     ]
    },
    {
     "name": "stdout",
     "output_type": "stream",
     "text": [
      "Epochs: 4 | Train Loss:  0.0092                 | Train F1:  0.8616                 | Val Loss:  0.0155                 | Val F1:  0.7400\n"
     ]
    },
    {
     "name": "stderr",
     "output_type": "stream",
     "text": [
      "100%|██████████| 2303/2303 [00:06<00:00, 353.03it/s]\n"
     ]
    },
    {
     "name": "stdout",
     "output_type": "stream",
     "text": [
      "Epochs: 5 | Train Loss:  0.0088                 | Train F1:  0.8679                 | Val Loss:  0.0158                 | Val F1:  0.7392\n"
     ]
    },
    {
     "name": "stderr",
     "output_type": "stream",
     "text": [
      "100%|██████████| 2303/2303 [00:06<00:00, 346.76it/s]\n"
     ]
    },
    {
     "name": "stdout",
     "output_type": "stream",
     "text": [
      "Epochs: 6 | Train Loss:  0.0085                 | Train F1:  0.8729                 | Val Loss:  0.0160                 | Val F1:  0.7387\n"
     ]
    },
    {
     "name": "stderr",
     "output_type": "stream",
     "text": [
      "100%|██████████| 2303/2303 [00:06<00:00, 349.69it/s]\n"
     ]
    },
    {
     "name": "stdout",
     "output_type": "stream",
     "text": [
      "Epochs: 7 | Train Loss:  0.0082                 | Train F1:  0.8766                 | Val Loss:  0.0162                 | Val F1:  0.7369\n"
     ]
    },
    {
     "name": "stderr",
     "output_type": "stream",
     "text": [
      "100%|██████████| 2303/2303 [00:06<00:00, 349.55it/s]\n"
     ]
    },
    {
     "name": "stdout",
     "output_type": "stream",
     "text": [
      "Epochs: 8 | Train Loss:  0.0081                 | Train F1:  0.8800                 | Val Loss:  0.0163                 | Val F1:  0.7350\n"
     ]
    },
    {
     "name": "stderr",
     "output_type": "stream",
     "text": [
      "100%|██████████| 2303/2303 [00:06<00:00, 350.60it/s]\n"
     ]
    },
    {
     "name": "stdout",
     "output_type": "stream",
     "text": [
      "Epochs: 9 | Train Loss:  0.0079                 | Train F1:  0.8838                 | Val Loss:  0.0164                 | Val F1:  0.7330\n"
     ]
    },
    {
     "name": "stderr",
     "output_type": "stream",
     "text": [
      "100%|██████████| 2303/2303 [00:06<00:00, 349.60it/s]\n",
      "\u001b[32m[I 2022-06-16 17:25:35,026]\u001b[0m Trial 4 finished with value: 0.8032755469937412 and parameters: {'learning_rate': 2.8329642830363937e-05, 'n_layers': 1, 'n_units_l0': 53, 'dropout_l0': 0.5}. Best is trial 4 with value: 0.8032755469937412.\u001b[0m\n"
     ]
    },
    {
     "name": "stdout",
     "output_type": "stream",
     "text": [
      "Epochs: 10 | Train Loss:  0.0078                 | Train F1:  0.8852                 | Val Loss:  0.0166                 | Val F1:  0.7314\n",
      "Fold 0\n"
     ]
    },
    {
     "name": "stderr",
     "output_type": "stream",
     "text": [
      "100%|██████████| 2399/2399 [00:06<00:00, 343.52it/s]\n"
     ]
    },
    {
     "name": "stdout",
     "output_type": "stream",
     "text": [
      "Epochs: 1 | Train Loss:  0.0177                 | Train F1:  0.7658                 | Val Loss:  0.0151                 | Val F1:  0.7730\n"
     ]
    },
    {
     "name": "stderr",
     "output_type": "stream",
     "text": [
      "100%|██████████| 2399/2399 [00:07<00:00, 339.55it/s]\n"
     ]
    },
    {
     "name": "stdout",
     "output_type": "stream",
     "text": [
      "Epochs: 2 | Train Loss:  0.0121                 | Train F1:  0.8412                 | Val Loss:  0.0133                 | Val F1:  0.7717\n"
     ]
    },
    {
     "name": "stderr",
     "output_type": "stream",
     "text": [
      "100%|██████████| 2399/2399 [00:07<00:00, 341.13it/s]\n"
     ]
    },
    {
     "name": "stdout",
     "output_type": "stream",
     "text": [
      "Epochs: 3 | Train Loss:  0.0102                 | Train F1:  0.8521                 | Val Loss:  0.0131                 | Val F1:  0.7692\n"
     ]
    },
    {
     "name": "stderr",
     "output_type": "stream",
     "text": [
      "100%|██████████| 2399/2399 [00:06<00:00, 343.13it/s]\n"
     ]
    },
    {
     "name": "stdout",
     "output_type": "stream",
     "text": [
      "Epochs: 4 | Train Loss:  0.0095                 | Train F1:  0.8613                 | Val Loss:  0.0132                 | Val F1:  0.7688\n"
     ]
    },
    {
     "name": "stderr",
     "output_type": "stream",
     "text": [
      "100%|██████████| 2399/2399 [00:06<00:00, 343.37it/s]\n"
     ]
    },
    {
     "name": "stdout",
     "output_type": "stream",
     "text": [
      "Epochs: 5 | Train Loss:  0.0090                 | Train F1:  0.8673                 | Val Loss:  0.0133                 | Val F1:  0.7698\n"
     ]
    },
    {
     "name": "stderr",
     "output_type": "stream",
     "text": [
      "100%|██████████| 2399/2399 [00:07<00:00, 340.74it/s]\n"
     ]
    },
    {
     "name": "stdout",
     "output_type": "stream",
     "text": [
      "Epochs: 6 | Train Loss:  0.0087                 | Train F1:  0.8721                 | Val Loss:  0.0134                 | Val F1:  0.7686\n"
     ]
    },
    {
     "name": "stderr",
     "output_type": "stream",
     "text": [
      "100%|██████████| 2399/2399 [00:07<00:00, 342.64it/s]\n"
     ]
    },
    {
     "name": "stdout",
     "output_type": "stream",
     "text": [
      "Epochs: 7 | Train Loss:  0.0085                 | Train F1:  0.8757                 | Val Loss:  0.0135                 | Val F1:  0.7687\n"
     ]
    },
    {
     "name": "stderr",
     "output_type": "stream",
     "text": [
      "100%|██████████| 2399/2399 [00:06<00:00, 342.78it/s]\n"
     ]
    },
    {
     "name": "stdout",
     "output_type": "stream",
     "text": [
      "Epochs: 8 | Train Loss:  0.0083                 | Train F1:  0.8783                 | Val Loss:  0.0136                 | Val F1:  0.7669\n"
     ]
    },
    {
     "name": "stderr",
     "output_type": "stream",
     "text": [
      "100%|██████████| 2399/2399 [00:06<00:00, 343.82it/s]\n"
     ]
    },
    {
     "name": "stdout",
     "output_type": "stream",
     "text": [
      "Epochs: 9 | Train Loss:  0.0082                 | Train F1:  0.8802                 | Val Loss:  0.0136                 | Val F1:  0.7662\n"
     ]
    },
    {
     "name": "stderr",
     "output_type": "stream",
     "text": [
      "100%|██████████| 2399/2399 [00:06<00:00, 343.96it/s]\n"
     ]
    },
    {
     "name": "stdout",
     "output_type": "stream",
     "text": [
      "Epochs: 10 | Train Loss:  0.0080                 | Train F1:  0.8827                 | Val Loss:  0.0137                 | Val F1:  0.7662\n",
      "Fold 1\n"
     ]
    },
    {
     "name": "stderr",
     "output_type": "stream",
     "text": [
      "100%|██████████| 2485/2485 [00:07<00:00, 343.15it/s]\n"
     ]
    },
    {
     "name": "stdout",
     "output_type": "stream",
     "text": [
      "Epochs: 1 | Train Loss:  0.0177                 | Train F1:  0.7030                 | Val Loss:  0.0137                 | Val F1:  0.7593\n"
     ]
    },
    {
     "name": "stderr",
     "output_type": "stream",
     "text": [
      "100%|██████████| 2485/2485 [00:07<00:00, 338.81it/s]\n"
     ]
    },
    {
     "name": "stdout",
     "output_type": "stream",
     "text": [
      "Epochs: 2 | Train Loss:  0.0125                 | Train F1:  0.8172                 | Val Loss:  0.0109                 | Val F1:  0.8143\n"
     ]
    },
    {
     "name": "stderr",
     "output_type": "stream",
     "text": [
      "100%|██████████| 2485/2485 [00:07<00:00, 342.41it/s]\n"
     ]
    },
    {
     "name": "stdout",
     "output_type": "stream",
     "text": [
      "Epochs: 3 | Train Loss:  0.0108                 | Train F1:  0.8324                 | Val Loss:  0.0101                 | Val F1:  0.8305\n"
     ]
    },
    {
     "name": "stderr",
     "output_type": "stream",
     "text": [
      "100%|██████████| 2485/2485 [00:07<00:00, 344.87it/s]\n"
     ]
    },
    {
     "name": "stdout",
     "output_type": "stream",
     "text": [
      "Epochs: 4 | Train Loss:  0.0102                 | Train F1:  0.8418                 | Val Loss:  0.0099                 | Val F1:  0.8335\n"
     ]
    },
    {
     "name": "stderr",
     "output_type": "stream",
     "text": [
      "100%|██████████| 2485/2485 [00:07<00:00, 341.04it/s]\n"
     ]
    },
    {
     "name": "stdout",
     "output_type": "stream",
     "text": [
      "Epochs: 5 | Train Loss:  0.0097                 | Train F1:  0.8474                 | Val Loss:  0.0097                 | Val F1:  0.8382\n"
     ]
    },
    {
     "name": "stderr",
     "output_type": "stream",
     "text": [
      "100%|██████████| 2485/2485 [00:07<00:00, 343.24it/s]\n"
     ]
    },
    {
     "name": "stdout",
     "output_type": "stream",
     "text": [
      "Epochs: 6 | Train Loss:  0.0095                 | Train F1:  0.8516                 | Val Loss:  0.0097                 | Val F1:  0.8393\n"
     ]
    },
    {
     "name": "stderr",
     "output_type": "stream",
     "text": [
      "100%|██████████| 2485/2485 [00:07<00:00, 342.02it/s]\n"
     ]
    },
    {
     "name": "stdout",
     "output_type": "stream",
     "text": [
      "Epochs: 7 | Train Loss:  0.0092                 | Train F1:  0.8559                 | Val Loss:  0.0097                 | Val F1:  0.8415\n"
     ]
    },
    {
     "name": "stderr",
     "output_type": "stream",
     "text": [
      "100%|██████████| 2485/2485 [00:07<00:00, 338.63it/s]\n"
     ]
    },
    {
     "name": "stdout",
     "output_type": "stream",
     "text": [
      "Epochs: 8 | Train Loss:  0.0091                 | Train F1:  0.8593                 | Val Loss:  0.0097                 | Val F1:  0.8419\n"
     ]
    },
    {
     "name": "stderr",
     "output_type": "stream",
     "text": [
      "100%|██████████| 2485/2485 [00:07<00:00, 337.29it/s]\n"
     ]
    },
    {
     "name": "stdout",
     "output_type": "stream",
     "text": [
      "Epochs: 9 | Train Loss:  0.0089                 | Train F1:  0.8611                 | Val Loss:  0.0097                 | Val F1:  0.8421\n"
     ]
    },
    {
     "name": "stderr",
     "output_type": "stream",
     "text": [
      "100%|██████████| 2485/2485 [00:07<00:00, 336.46it/s]\n"
     ]
    },
    {
     "name": "stdout",
     "output_type": "stream",
     "text": [
      "Epochs: 10 | Train Loss:  0.0088                 | Train F1:  0.8641                 | Val Loss:  0.0097                 | Val F1:  0.8431\n",
      "Fold 2\n"
     ]
    },
    {
     "name": "stderr",
     "output_type": "stream",
     "text": [
      "100%|██████████| 2549/2549 [00:07<00:00, 337.61it/s]\n"
     ]
    },
    {
     "name": "stdout",
     "output_type": "stream",
     "text": [
      "Epochs: 1 | Train Loss:  0.0179                 | Train F1:  0.7621                 | Val Loss:  0.0121                 | Val F1:  0.8672\n"
     ]
    },
    {
     "name": "stderr",
     "output_type": "stream",
     "text": [
      "100%|██████████| 2549/2549 [00:07<00:00, 342.83it/s]\n"
     ]
    },
    {
     "name": "stdout",
     "output_type": "stream",
     "text": [
      "Epochs: 2 | Train Loss:  0.0127                 | Train F1:  0.8137                 | Val Loss:  0.0091                 | Val F1:  0.8696\n"
     ]
    },
    {
     "name": "stderr",
     "output_type": "stream",
     "text": [
      "100%|██████████| 2549/2549 [00:07<00:00, 345.64it/s]\n"
     ]
    },
    {
     "name": "stdout",
     "output_type": "stream",
     "text": [
      "Epochs: 3 | Train Loss:  0.0112                 | Train F1:  0.8303                 | Val Loss:  0.0084                 | Val F1:  0.8672\n"
     ]
    },
    {
     "name": "stderr",
     "output_type": "stream",
     "text": [
      "100%|██████████| 2549/2549 [00:07<00:00, 343.41it/s]\n"
     ]
    },
    {
     "name": "stdout",
     "output_type": "stream",
     "text": [
      "Epochs: 4 | Train Loss:  0.0105                 | Train F1:  0.8394                 | Val Loss:  0.0082                 | Val F1:  0.8659\n"
     ]
    },
    {
     "name": "stderr",
     "output_type": "stream",
     "text": [
      "100%|██████████| 2549/2549 [00:07<00:00, 340.28it/s]\n"
     ]
    },
    {
     "name": "stdout",
     "output_type": "stream",
     "text": [
      "Epochs: 5 | Train Loss:  0.0101                 | Train F1:  0.8454                 | Val Loss:  0.0081                 | Val F1:  0.8651\n"
     ]
    },
    {
     "name": "stderr",
     "output_type": "stream",
     "text": [
      "100%|██████████| 2549/2549 [00:07<00:00, 339.34it/s]\n"
     ]
    },
    {
     "name": "stdout",
     "output_type": "stream",
     "text": [
      "Epochs: 6 | Train Loss:  0.0098                 | Train F1:  0.8505                 | Val Loss:  0.0081                 | Val F1:  0.8638\n"
     ]
    },
    {
     "name": "stderr",
     "output_type": "stream",
     "text": [
      "100%|██████████| 2549/2549 [00:07<00:00, 339.75it/s]\n"
     ]
    },
    {
     "name": "stdout",
     "output_type": "stream",
     "text": [
      "Epochs: 7 | Train Loss:  0.0096                 | Train F1:  0.8542                 | Val Loss:  0.0081                 | Val F1:  0.8627\n"
     ]
    },
    {
     "name": "stderr",
     "output_type": "stream",
     "text": [
      "100%|██████████| 2549/2549 [00:07<00:00, 339.02it/s]\n"
     ]
    },
    {
     "name": "stdout",
     "output_type": "stream",
     "text": [
      "Epochs: 8 | Train Loss:  0.0094                 | Train F1:  0.8573                 | Val Loss:  0.0080                 | Val F1:  0.8634\n"
     ]
    },
    {
     "name": "stderr",
     "output_type": "stream",
     "text": [
      "100%|██████████| 2549/2549 [00:07<00:00, 342.10it/s]\n"
     ]
    },
    {
     "name": "stdout",
     "output_type": "stream",
     "text": [
      "Epochs: 9 | Train Loss:  0.0093                 | Train F1:  0.8599                 | Val Loss:  0.0080                 | Val F1:  0.8637\n"
     ]
    },
    {
     "name": "stderr",
     "output_type": "stream",
     "text": [
      "100%|██████████| 2549/2549 [00:07<00:00, 336.82it/s]\n"
     ]
    },
    {
     "name": "stdout",
     "output_type": "stream",
     "text": [
      "Epochs: 10 | Train Loss:  0.0092                 | Train F1:  0.8620                 | Val Loss:  0.0080                 | Val F1:  0.8638\n",
      "Fold 3\n"
     ]
    },
    {
     "name": "stderr",
     "output_type": "stream",
     "text": [
      "100%|██████████| 2499/2499 [00:07<00:00, 338.99it/s]\n"
     ]
    },
    {
     "name": "stdout",
     "output_type": "stream",
     "text": [
      "Epochs: 1 | Train Loss:  0.0177                 | Train F1:  0.7665                 | Val Loss:  0.0149                 | Val F1:  0.8077\n"
     ]
    },
    {
     "name": "stderr",
     "output_type": "stream",
     "text": [
      "100%|██████████| 2499/2499 [00:07<00:00, 330.88it/s]\n"
     ]
    },
    {
     "name": "stdout",
     "output_type": "stream",
     "text": [
      "Epochs: 2 | Train Loss:  0.0123                 | Train F1:  0.8153                 | Val Loss:  0.0123                 | Val F1:  0.8210\n"
     ]
    },
    {
     "name": "stderr",
     "output_type": "stream",
     "text": [
      "100%|██████████| 2499/2499 [00:07<00:00, 328.61it/s]\n"
     ]
    },
    {
     "name": "stdout",
     "output_type": "stream",
     "text": [
      "Epochs: 3 | Train Loss:  0.0106                 | Train F1:  0.8313                 | Val Loss:  0.0117                 | Val F1:  0.8243\n"
     ]
    },
    {
     "name": "stderr",
     "output_type": "stream",
     "text": [
      "100%|██████████| 2499/2499 [00:07<00:00, 331.14it/s]\n"
     ]
    },
    {
     "name": "stdout",
     "output_type": "stream",
     "text": [
      "Epochs: 4 | Train Loss:  0.0099                 | Train F1:  0.8435                 | Val Loss:  0.0115                 | Val F1:  0.8242\n"
     ]
    },
    {
     "name": "stderr",
     "output_type": "stream",
     "text": [
      "100%|██████████| 2499/2499 [00:07<00:00, 331.53it/s]\n"
     ]
    },
    {
     "name": "stdout",
     "output_type": "stream",
     "text": [
      "Epochs: 5 | Train Loss:  0.0095                 | Train F1:  0.8498                 | Val Loss:  0.0116                 | Val F1:  0.8208\n"
     ]
    },
    {
     "name": "stderr",
     "output_type": "stream",
     "text": [
      "100%|██████████| 2499/2499 [00:07<00:00, 348.87it/s]\n"
     ]
    },
    {
     "name": "stdout",
     "output_type": "stream",
     "text": [
      "Epochs: 6 | Train Loss:  0.0091                 | Train F1:  0.8553                 | Val Loss:  0.0117                 | Val F1:  0.8196\n"
     ]
    },
    {
     "name": "stderr",
     "output_type": "stream",
     "text": [
      "100%|██████████| 2499/2499 [00:07<00:00, 350.22it/s]\n"
     ]
    },
    {
     "name": "stdout",
     "output_type": "stream",
     "text": [
      "Epochs: 7 | Train Loss:  0.0089                 | Train F1:  0.8607                 | Val Loss:  0.0119                 | Val F1:  0.8150\n"
     ]
    },
    {
     "name": "stderr",
     "output_type": "stream",
     "text": [
      "100%|██████████| 2499/2499 [00:07<00:00, 348.97it/s]\n"
     ]
    },
    {
     "name": "stdout",
     "output_type": "stream",
     "text": [
      "Epochs: 8 | Train Loss:  0.0087                 | Train F1:  0.8649                 | Val Loss:  0.0120                 | Val F1:  0.8141\n"
     ]
    },
    {
     "name": "stderr",
     "output_type": "stream",
     "text": [
      "100%|██████████| 2499/2499 [00:07<00:00, 350.18it/s]\n"
     ]
    },
    {
     "name": "stdout",
     "output_type": "stream",
     "text": [
      "Epochs: 9 | Train Loss:  0.0086                 | Train F1:  0.8667                 | Val Loss:  0.0122                 | Val F1:  0.8110\n"
     ]
    },
    {
     "name": "stderr",
     "output_type": "stream",
     "text": [
      "100%|██████████| 2499/2499 [00:07<00:00, 348.93it/s]\n"
     ]
    },
    {
     "name": "stdout",
     "output_type": "stream",
     "text": [
      "Epochs: 10 | Train Loss:  0.0084                 | Train F1:  0.8679                 | Val Loss:  0.0123                 | Val F1:  0.8096\n",
      "Fold 4\n"
     ]
    },
    {
     "name": "stderr",
     "output_type": "stream",
     "text": [
      "100%|██████████| 2303/2303 [00:06<00:00, 351.05it/s]\n"
     ]
    },
    {
     "name": "stdout",
     "output_type": "stream",
     "text": [
      "Epochs: 1 | Train Loss:  0.0176                 | Train F1:  0.7737                 | Val Loss:  0.0166                 | Val F1:  0.7269\n"
     ]
    },
    {
     "name": "stderr",
     "output_type": "stream",
     "text": [
      "100%|██████████| 2303/2303 [00:06<00:00, 351.58it/s]\n"
     ]
    },
    {
     "name": "stdout",
     "output_type": "stream",
     "text": [
      "Epochs: 2 | Train Loss:  0.0116                 | Train F1:  0.8432                 | Val Loss:  0.0153                 | Val F1:  0.7403\n"
     ]
    },
    {
     "name": "stderr",
     "output_type": "stream",
     "text": [
      "100%|██████████| 2303/2303 [00:06<00:00, 349.43it/s]\n"
     ]
    },
    {
     "name": "stdout",
     "output_type": "stream",
     "text": [
      "Epochs: 3 | Train Loss:  0.0097                 | Train F1:  0.8561                 | Val Loss:  0.0153                 | Val F1:  0.7417\n"
     ]
    },
    {
     "name": "stderr",
     "output_type": "stream",
     "text": [
      "100%|██████████| 2303/2303 [00:06<00:00, 345.78it/s]\n"
     ]
    },
    {
     "name": "stdout",
     "output_type": "stream",
     "text": [
      "Epochs: 4 | Train Loss:  0.0089                 | Train F1:  0.8656                 | Val Loss:  0.0156                 | Val F1:  0.7398\n"
     ]
    },
    {
     "name": "stderr",
     "output_type": "stream",
     "text": [
      "100%|██████████| 2303/2303 [00:06<00:00, 350.13it/s]\n"
     ]
    },
    {
     "name": "stdout",
     "output_type": "stream",
     "text": [
      "Epochs: 5 | Train Loss:  0.0085                 | Train F1:  0.8708                 | Val Loss:  0.0159                 | Val F1:  0.7382\n"
     ]
    },
    {
     "name": "stderr",
     "output_type": "stream",
     "text": [
      "100%|██████████| 2303/2303 [00:06<00:00, 350.08it/s]\n"
     ]
    },
    {
     "name": "stdout",
     "output_type": "stream",
     "text": [
      "Epochs: 6 | Train Loss:  0.0082                 | Train F1:  0.8762                 | Val Loss:  0.0161                 | Val F1:  0.7375\n"
     ]
    },
    {
     "name": "stderr",
     "output_type": "stream",
     "text": [
      "100%|██████████| 2303/2303 [00:06<00:00, 349.42it/s]\n"
     ]
    },
    {
     "name": "stdout",
     "output_type": "stream",
     "text": [
      "Epochs: 7 | Train Loss:  0.0080                 | Train F1:  0.8789                 | Val Loss:  0.0163                 | Val F1:  0.7354\n"
     ]
    },
    {
     "name": "stderr",
     "output_type": "stream",
     "text": [
      "100%|██████████| 2303/2303 [00:06<00:00, 346.98it/s]\n"
     ]
    },
    {
     "name": "stdout",
     "output_type": "stream",
     "text": [
      "Epochs: 8 | Train Loss:  0.0078                 | Train F1:  0.8830                 | Val Loss:  0.0164                 | Val F1:  0.7331\n"
     ]
    },
    {
     "name": "stderr",
     "output_type": "stream",
     "text": [
      "100%|██████████| 2303/2303 [00:06<00:00, 351.59it/s]\n"
     ]
    },
    {
     "name": "stdout",
     "output_type": "stream",
     "text": [
      "Epochs: 9 | Train Loss:  0.0076                 | Train F1:  0.8854                 | Val Loss:  0.0166                 | Val F1:  0.7316\n"
     ]
    },
    {
     "name": "stderr",
     "output_type": "stream",
     "text": [
      "100%|██████████| 2303/2303 [00:06<00:00, 351.89it/s]\n",
      "\u001b[32m[I 2022-06-16 17:32:19,954]\u001b[0m Trial 5 finished with value: 0.8026590808665436 and parameters: {'learning_rate': 2.2568840222894585e-05, 'n_layers': 1, 'n_units_l0': 74, 'dropout_l0': 0.30000000000000004}. Best is trial 4 with value: 0.8032755469937412.\u001b[0m\n"
     ]
    },
    {
     "name": "stdout",
     "output_type": "stream",
     "text": [
      "Epochs: 10 | Train Loss:  0.0075                 | Train F1:  0.8882                 | Val Loss:  0.0167                 | Val F1:  0.7306\n",
      "Fold 0\n"
     ]
    },
    {
     "name": "stderr",
     "output_type": "stream",
     "text": [
      "100%|██████████| 2399/2399 [00:07<00:00, 326.27it/s]\n"
     ]
    },
    {
     "name": "stdout",
     "output_type": "stream",
     "text": [
      "Epochs: 1 | Train Loss:  0.0056                 | Train F1:  0.9219                 | Val Loss:  0.0192                 | Val F1:  0.7552\n"
     ]
    },
    {
     "name": "stderr",
     "output_type": "stream",
     "text": [
      "100%|██████████| 2399/2399 [00:07<00:00, 314.35it/s]\n"
     ]
    },
    {
     "name": "stdout",
     "output_type": "stream",
     "text": [
      "Epochs: 2 | Train Loss:  0.0030                 | Train F1:  0.9613                 | Val Loss:  0.0217                 | Val F1:  0.7522\n"
     ]
    },
    {
     "name": "stderr",
     "output_type": "stream",
     "text": [
      "100%|██████████| 2399/2399 [00:07<00:00, 322.30it/s]\n"
     ]
    },
    {
     "name": "stdout",
     "output_type": "stream",
     "text": [
      "Epochs: 3 | Train Loss:  0.0023                 | Train F1:  0.9703                 | Val Loss:  0.0252                 | Val F1:  0.7644\n"
     ]
    },
    {
     "name": "stderr",
     "output_type": "stream",
     "text": [
      "100%|██████████| 2399/2399 [00:07<00:00, 322.16it/s]\n"
     ]
    },
    {
     "name": "stdout",
     "output_type": "stream",
     "text": [
      "Epochs: 4 | Train Loss:  0.0019                 | Train F1:  0.9758                 | Val Loss:  0.0242                 | Val F1:  0.7602\n"
     ]
    },
    {
     "name": "stderr",
     "output_type": "stream",
     "text": [
      "100%|██████████| 2399/2399 [00:07<00:00, 328.21it/s]\n"
     ]
    },
    {
     "name": "stdout",
     "output_type": "stream",
     "text": [
      "Epochs: 5 | Train Loss:  0.0017                 | Train F1:  0.9786                 | Val Loss:  0.0272                 | Val F1:  0.7544\n"
     ]
    },
    {
     "name": "stderr",
     "output_type": "stream",
     "text": [
      "100%|██████████| 2399/2399 [00:07<00:00, 313.43it/s]\n"
     ]
    },
    {
     "name": "stdout",
     "output_type": "stream",
     "text": [
      "Epochs: 6 | Train Loss:  0.0016                 | Train F1:  0.9799                 | Val Loss:  0.0278                 | Val F1:  0.7444\n"
     ]
    },
    {
     "name": "stderr",
     "output_type": "stream",
     "text": [
      "100%|██████████| 2399/2399 [00:07<00:00, 321.04it/s]\n"
     ]
    },
    {
     "name": "stdout",
     "output_type": "stream",
     "text": [
      "Epochs: 7 | Train Loss:  0.0014                 | Train F1:  0.9819                 | Val Loss:  0.0249                 | Val F1:  0.7672\n"
     ]
    },
    {
     "name": "stderr",
     "output_type": "stream",
     "text": [
      "100%|██████████| 2399/2399 [00:07<00:00, 327.66it/s]\n"
     ]
    },
    {
     "name": "stdout",
     "output_type": "stream",
     "text": [
      "Epochs: 8 | Train Loss:  0.0014                 | Train F1:  0.9835                 | Val Loss:  0.0297                 | Val F1:  0.7474\n"
     ]
    },
    {
     "name": "stderr",
     "output_type": "stream",
     "text": [
      "100%|██████████| 2399/2399 [00:07<00:00, 312.18it/s]\n"
     ]
    },
    {
     "name": "stdout",
     "output_type": "stream",
     "text": [
      "Epochs: 9 | Train Loss:  0.0013                 | Train F1:  0.9828                 | Val Loss:  0.0305                 | Val F1:  0.7643\n"
     ]
    },
    {
     "name": "stderr",
     "output_type": "stream",
     "text": [
      "100%|██████████| 2399/2399 [00:07<00:00, 333.47it/s]\n"
     ]
    },
    {
     "name": "stdout",
     "output_type": "stream",
     "text": [
      "Epochs: 10 | Train Loss:  0.0013                 | Train F1:  0.9833                 | Val Loss:  0.0285                 | Val F1:  0.7572\n",
      "Fold 1\n"
     ]
    },
    {
     "name": "stderr",
     "output_type": "stream",
     "text": [
      "100%|██████████| 2485/2485 [00:07<00:00, 315.59it/s]\n"
     ]
    },
    {
     "name": "stdout",
     "output_type": "stream",
     "text": [
      "Epochs: 1 | Train Loss:  0.0059                 | Train F1:  0.9139                 | Val Loss:  0.0184                 | Val F1:  0.7571\n"
     ]
    },
    {
     "name": "stderr",
     "output_type": "stream",
     "text": [
      "100%|██████████| 2485/2485 [00:07<00:00, 322.36it/s]\n"
     ]
    },
    {
     "name": "stdout",
     "output_type": "stream",
     "text": [
      "Epochs: 2 | Train Loss:  0.0033                 | Train F1:  0.9557                 | Val Loss:  0.0160                 | Val F1:  0.7910\n"
     ]
    },
    {
     "name": "stderr",
     "output_type": "stream",
     "text": [
      "100%|██████████| 2485/2485 [00:07<00:00, 327.07it/s]\n"
     ]
    },
    {
     "name": "stdout",
     "output_type": "stream",
     "text": [
      "Epochs: 3 | Train Loss:  0.0025                 | Train F1:  0.9670                 | Val Loss:  0.0201                 | Val F1:  0.7840\n"
     ]
    },
    {
     "name": "stderr",
     "output_type": "stream",
     "text": [
      "100%|██████████| 2485/2485 [00:07<00:00, 320.15it/s]\n"
     ]
    },
    {
     "name": "stdout",
     "output_type": "stream",
     "text": [
      "Epochs: 4 | Train Loss:  0.0021                 | Train F1:  0.9725                 | Val Loss:  0.0202                 | Val F1:  0.7790\n"
     ]
    },
    {
     "name": "stderr",
     "output_type": "stream",
     "text": [
      "100%|██████████| 2485/2485 [00:07<00:00, 327.55it/s]\n"
     ]
    },
    {
     "name": "stdout",
     "output_type": "stream",
     "text": [
      "Epochs: 5 | Train Loss:  0.0019                 | Train F1:  0.9754                 | Val Loss:  0.0195                 | Val F1:  0.8050\n"
     ]
    },
    {
     "name": "stderr",
     "output_type": "stream",
     "text": [
      "100%|██████████| 2485/2485 [00:07<00:00, 319.99it/s]\n"
     ]
    },
    {
     "name": "stdout",
     "output_type": "stream",
     "text": [
      "Epochs: 6 | Train Loss:  0.0017                 | Train F1:  0.9778                 | Val Loss:  0.0200                 | Val F1:  0.7850\n"
     ]
    },
    {
     "name": "stderr",
     "output_type": "stream",
     "text": [
      "100%|██████████| 2485/2485 [00:07<00:00, 325.85it/s]\n"
     ]
    },
    {
     "name": "stdout",
     "output_type": "stream",
     "text": [
      "Epochs: 7 | Train Loss:  0.0016                 | Train F1:  0.9781                 | Val Loss:  0.0258                 | Val F1:  0.7933\n"
     ]
    },
    {
     "name": "stderr",
     "output_type": "stream",
     "text": [
      "100%|██████████| 2485/2485 [00:07<00:00, 318.70it/s]\n"
     ]
    },
    {
     "name": "stdout",
     "output_type": "stream",
     "text": [
      "Epochs: 8 | Train Loss:  0.0015                 | Train F1:  0.9806                 | Val Loss:  0.0231                 | Val F1:  0.7753\n"
     ]
    },
    {
     "name": "stderr",
     "output_type": "stream",
     "text": [
      "100%|██████████| 2485/2485 [00:07<00:00, 323.64it/s]\n"
     ]
    },
    {
     "name": "stdout",
     "output_type": "stream",
     "text": [
      "Epochs: 9 | Train Loss:  0.0015                 | Train F1:  0.9803                 | Val Loss:  0.0235                 | Val F1:  0.7734\n"
     ]
    },
    {
     "name": "stderr",
     "output_type": "stream",
     "text": [
      "100%|██████████| 2485/2485 [00:07<00:00, 319.95it/s]\n"
     ]
    },
    {
     "name": "stdout",
     "output_type": "stream",
     "text": [
      "Epochs: 10 | Train Loss:  0.0014                 | Train F1:  0.9819                 | Val Loss:  0.0224                 | Val F1:  0.7989\n",
      "Fold 2\n"
     ]
    },
    {
     "name": "stderr",
     "output_type": "stream",
     "text": [
      "100%|██████████| 2549/2549 [00:07<00:00, 324.07it/s]\n"
     ]
    },
    {
     "name": "stdout",
     "output_type": "stream",
     "text": [
      "Epochs: 1 | Train Loss:  0.0064                 | Train F1:  0.9078                 | Val Loss:  0.0093                 | Val F1:  0.8640\n"
     ]
    },
    {
     "name": "stderr",
     "output_type": "stream",
     "text": [
      "100%|██████████| 2549/2549 [00:07<00:00, 325.06it/s]\n"
     ]
    },
    {
     "name": "stdout",
     "output_type": "stream",
     "text": [
      "Epochs: 2 | Train Loss:  0.0038                 | Train F1:  0.9503                 | Val Loss:  0.0100                 | Val F1:  0.8684\n"
     ]
    },
    {
     "name": "stderr",
     "output_type": "stream",
     "text": [
      "100%|██████████| 2549/2549 [00:08<00:00, 318.60it/s]\n"
     ]
    },
    {
     "name": "stdout",
     "output_type": "stream",
     "text": [
      "Epochs: 3 | Train Loss:  0.0028                 | Train F1:  0.9629                 | Val Loss:  0.0098                 | Val F1:  0.8800\n"
     ]
    },
    {
     "name": "stderr",
     "output_type": "stream",
     "text": [
      "100%|██████████| 2549/2549 [00:07<00:00, 323.33it/s]\n"
     ]
    },
    {
     "name": "stdout",
     "output_type": "stream",
     "text": [
      "Epochs: 4 | Train Loss:  0.0024                 | Train F1:  0.9678                 | Val Loss:  0.0108                 | Val F1:  0.8775\n"
     ]
    },
    {
     "name": "stderr",
     "output_type": "stream",
     "text": [
      "100%|██████████| 2549/2549 [00:07<00:00, 323.61it/s]\n"
     ]
    },
    {
     "name": "stdout",
     "output_type": "stream",
     "text": [
      "Epochs: 5 | Train Loss:  0.0022                 | Train F1:  0.9720                 | Val Loss:  0.0113                 | Val F1:  0.8752\n"
     ]
    },
    {
     "name": "stderr",
     "output_type": "stream",
     "text": [
      "100%|██████████| 2549/2549 [00:07<00:00, 322.24it/s]\n"
     ]
    },
    {
     "name": "stdout",
     "output_type": "stream",
     "text": [
      "Epochs: 6 | Train Loss:  0.0020                 | Train F1:  0.9735                 | Val Loss:  0.0097                 | Val F1:  0.8761\n"
     ]
    },
    {
     "name": "stderr",
     "output_type": "stream",
     "text": [
      "100%|██████████| 2549/2549 [00:07<00:00, 324.39it/s]\n"
     ]
    },
    {
     "name": "stdout",
     "output_type": "stream",
     "text": [
      "Epochs: 7 | Train Loss:  0.0019                 | Train F1:  0.9760                 | Val Loss:  0.0114                 | Val F1:  0.8598\n"
     ]
    },
    {
     "name": "stderr",
     "output_type": "stream",
     "text": [
      "100%|██████████| 2549/2549 [00:07<00:00, 320.07it/s]\n"
     ]
    },
    {
     "name": "stdout",
     "output_type": "stream",
     "text": [
      "Epochs: 8 | Train Loss:  0.0018                 | Train F1:  0.9761                 | Val Loss:  0.0115                 | Val F1:  0.8666\n"
     ]
    },
    {
     "name": "stderr",
     "output_type": "stream",
     "text": [
      "100%|██████████| 2549/2549 [00:07<00:00, 321.23it/s]\n"
     ]
    },
    {
     "name": "stdout",
     "output_type": "stream",
     "text": [
      "Epochs: 9 | Train Loss:  0.0017                 | Train F1:  0.9782                 | Val Loss:  0.0128                 | Val F1:  0.8643\n"
     ]
    },
    {
     "name": "stderr",
     "output_type": "stream",
     "text": [
      "100%|██████████| 2549/2549 [00:07<00:00, 324.17it/s]\n"
     ]
    },
    {
     "name": "stdout",
     "output_type": "stream",
     "text": [
      "Epochs: 10 | Train Loss:  0.0017                 | Train F1:  0.9782                 | Val Loss:  0.0132                 | Val F1:  0.8629\n",
      "Fold 3\n"
     ]
    },
    {
     "name": "stderr",
     "output_type": "stream",
     "text": [
      "100%|██████████| 2499/2499 [00:07<00:00, 317.05it/s]\n"
     ]
    },
    {
     "name": "stdout",
     "output_type": "stream",
     "text": [
      "Epochs: 1 | Train Loss:  0.0058                 | Train F1:  0.9140                 | Val Loss:  0.0171                 | Val F1:  0.7822\n"
     ]
    },
    {
     "name": "stderr",
     "output_type": "stream",
     "text": [
      "100%|██████████| 2499/2499 [00:07<00:00, 328.95it/s]\n"
     ]
    },
    {
     "name": "stdout",
     "output_type": "stream",
     "text": [
      "Epochs: 2 | Train Loss:  0.0033                 | Train F1:  0.9542                 | Val Loss:  0.0208                 | Val F1:  0.7785\n"
     ]
    },
    {
     "name": "stderr",
     "output_type": "stream",
     "text": [
      "100%|██████████| 2499/2499 [00:07<00:00, 324.11it/s]\n"
     ]
    },
    {
     "name": "stdout",
     "output_type": "stream",
     "text": [
      "Epochs: 3 | Train Loss:  0.0026                 | Train F1:  0.9652                 | Val Loss:  0.0210                 | Val F1:  0.7800\n"
     ]
    },
    {
     "name": "stderr",
     "output_type": "stream",
     "text": [
      "100%|██████████| 2499/2499 [00:07<00:00, 323.44it/s]\n"
     ]
    },
    {
     "name": "stdout",
     "output_type": "stream",
     "text": [
      "Epochs: 4 | Train Loss:  0.0022                 | Train F1:  0.9707                 | Val Loss:  0.0210                 | Val F1:  0.7972\n"
     ]
    },
    {
     "name": "stderr",
     "output_type": "stream",
     "text": [
      "100%|██████████| 2499/2499 [00:07<00:00, 322.94it/s]\n"
     ]
    },
    {
     "name": "stdout",
     "output_type": "stream",
     "text": [
      "Epochs: 5 | Train Loss:  0.0020                 | Train F1:  0.9734                 | Val Loss:  0.0231                 | Val F1:  0.7933\n"
     ]
    },
    {
     "name": "stderr",
     "output_type": "stream",
     "text": [
      "100%|██████████| 2499/2499 [00:07<00:00, 318.17it/s]\n"
     ]
    },
    {
     "name": "stdout",
     "output_type": "stream",
     "text": [
      "Epochs: 6 | Train Loss:  0.0018                 | Train F1:  0.9760                 | Val Loss:  0.0239                 | Val F1:  0.7786\n"
     ]
    },
    {
     "name": "stderr",
     "output_type": "stream",
     "text": [
      "100%|██████████| 2499/2499 [00:07<00:00, 320.30it/s]\n"
     ]
    },
    {
     "name": "stdout",
     "output_type": "stream",
     "text": [
      "Epochs: 7 | Train Loss:  0.0017                 | Train F1:  0.9777                 | Val Loss:  0.0257                 | Val F1:  0.7759\n"
     ]
    },
    {
     "name": "stderr",
     "output_type": "stream",
     "text": [
      "100%|██████████| 2499/2499 [00:07<00:00, 321.53it/s]\n"
     ]
    },
    {
     "name": "stdout",
     "output_type": "stream",
     "text": [
      "Epochs: 8 | Train Loss:  0.0016                 | Train F1:  0.9788                 | Val Loss:  0.0257                 | Val F1:  0.7748\n"
     ]
    },
    {
     "name": "stderr",
     "output_type": "stream",
     "text": [
      "100%|██████████| 2499/2499 [00:07<00:00, 315.85it/s]\n"
     ]
    },
    {
     "name": "stdout",
     "output_type": "stream",
     "text": [
      "Epochs: 9 | Train Loss:  0.0015                 | Train F1:  0.9803                 | Val Loss:  0.0341                 | Val F1:  0.7726\n"
     ]
    },
    {
     "name": "stderr",
     "output_type": "stream",
     "text": [
      "100%|██████████| 2499/2499 [00:07<00:00, 323.91it/s]\n"
     ]
    },
    {
     "name": "stdout",
     "output_type": "stream",
     "text": [
      "Epochs: 10 | Train Loss:  0.0014                 | Train F1:  0.9810                 | Val Loss:  0.0282                 | Val F1:  0.7929\n",
      "Fold 4\n"
     ]
    },
    {
     "name": "stderr",
     "output_type": "stream",
     "text": [
      "100%|██████████| 2303/2303 [00:07<00:00, 319.31it/s]\n"
     ]
    },
    {
     "name": "stdout",
     "output_type": "stream",
     "text": [
      "Epochs: 1 | Train Loss:  0.0050                 | Train F1:  0.9296                 | Val Loss:  0.0269                 | Val F1:  0.7195\n"
     ]
    },
    {
     "name": "stderr",
     "output_type": "stream",
     "text": [
      "100%|██████████| 2303/2303 [00:07<00:00, 318.67it/s]\n"
     ]
    },
    {
     "name": "stdout",
     "output_type": "stream",
     "text": [
      "Epochs: 2 | Train Loss:  0.0026                 | Train F1:  0.9650                 | Val Loss:  0.0281                 | Val F1:  0.7255\n"
     ]
    },
    {
     "name": "stderr",
     "output_type": "stream",
     "text": [
      "100%|██████████| 2303/2303 [00:06<00:00, 331.44it/s]\n"
     ]
    },
    {
     "name": "stdout",
     "output_type": "stream",
     "text": [
      "Epochs: 3 | Train Loss:  0.0019                 | Train F1:  0.9742                 | Val Loss:  0.0342                 | Val F1:  0.7241\n"
     ]
    },
    {
     "name": "stderr",
     "output_type": "stream",
     "text": [
      "100%|██████████| 2303/2303 [00:07<00:00, 322.08it/s]\n"
     ]
    },
    {
     "name": "stdout",
     "output_type": "stream",
     "text": [
      "Epochs: 4 | Train Loss:  0.0016                 | Train F1:  0.9788                 | Val Loss:  0.0344                 | Val F1:  0.6982\n"
     ]
    },
    {
     "name": "stderr",
     "output_type": "stream",
     "text": [
      "100%|██████████| 2303/2303 [00:06<00:00, 330.60it/s]\n"
     ]
    },
    {
     "name": "stdout",
     "output_type": "stream",
     "text": [
      "Epochs: 5 | Train Loss:  0.0014                 | Train F1:  0.9819                 | Val Loss:  0.0332                 | Val F1:  0.7155\n"
     ]
    },
    {
     "name": "stderr",
     "output_type": "stream",
     "text": [
      "100%|██████████| 2303/2303 [00:07<00:00, 318.26it/s]\n"
     ]
    },
    {
     "name": "stdout",
     "output_type": "stream",
     "text": [
      "Epochs: 6 | Train Loss:  0.0013                 | Train F1:  0.9829                 | Val Loss:  0.0390                 | Val F1:  0.7082\n"
     ]
    },
    {
     "name": "stderr",
     "output_type": "stream",
     "text": [
      "100%|██████████| 2303/2303 [00:07<00:00, 319.83it/s]\n"
     ]
    },
    {
     "name": "stdout",
     "output_type": "stream",
     "text": [
      "Epochs: 7 | Train Loss:  0.0012                 | Train F1:  0.9847                 | Val Loss:  0.0328                 | Val F1:  0.7196\n"
     ]
    },
    {
     "name": "stderr",
     "output_type": "stream",
     "text": [
      "100%|██████████| 2303/2303 [00:07<00:00, 326.32it/s]\n"
     ]
    },
    {
     "name": "stdout",
     "output_type": "stream",
     "text": [
      "Epochs: 8 | Train Loss:  0.0012                 | Train F1:  0.9853                 | Val Loss:  0.0439                 | Val F1:  0.6883\n"
     ]
    },
    {
     "name": "stderr",
     "output_type": "stream",
     "text": [
      "100%|██████████| 2303/2303 [00:07<00:00, 312.89it/s]\n"
     ]
    },
    {
     "name": "stdout",
     "output_type": "stream",
     "text": [
      "Epochs: 9 | Train Loss:  0.0011                 | Train F1:  0.9859                 | Val Loss:  0.0439                 | Val F1:  0.7095\n"
     ]
    },
    {
     "name": "stderr",
     "output_type": "stream",
     "text": [
      "100%|██████████| 2303/2303 [00:06<00:00, 336.53it/s]\n",
      "\u001b[32m[I 2022-06-16 17:39:20,649]\u001b[0m Trial 6 finished with value: 0.7824115481609499 and parameters: {'learning_rate': 0.004284653407853976, 'n_layers': 2, 'n_units_l0': 104, 'dropout_l0': 0.30000000000000004, 'n_units_l1': 98, 'dropout_l1': 0.30000000000000004}. Best is trial 4 with value: 0.8032755469937412.\u001b[0m\n"
     ]
    },
    {
     "name": "stdout",
     "output_type": "stream",
     "text": [
      "Epochs: 10 | Train Loss:  0.0010                 | Train F1:  0.9868                 | Val Loss:  0.0414                 | Val F1:  0.7002\n",
      "Fold 0\n"
     ]
    },
    {
     "name": "stderr",
     "output_type": "stream",
     "text": [
      "100%|██████████| 2399/2399 [00:07<00:00, 328.06it/s]\n"
     ]
    },
    {
     "name": "stdout",
     "output_type": "stream",
     "text": [
      "Epochs: 1 | Train Loss:  0.0060                 | Train F1:  0.9163                 | Val Loss:  0.0173                 | Val F1:  0.7620\n"
     ]
    },
    {
     "name": "stderr",
     "output_type": "stream",
     "text": [
      "100%|██████████| 2399/2399 [00:07<00:00, 339.63it/s]\n"
     ]
    },
    {
     "name": "stdout",
     "output_type": "stream",
     "text": [
      "Epochs: 2 | Train Loss:  0.0031                 | Train F1:  0.9602                 | Val Loss:  0.0219                 | Val F1:  0.7540\n"
     ]
    },
    {
     "name": "stderr",
     "output_type": "stream",
     "text": [
      "100%|██████████| 2399/2399 [00:07<00:00, 330.84it/s]\n"
     ]
    },
    {
     "name": "stdout",
     "output_type": "stream",
     "text": [
      "Epochs: 3 | Train Loss:  0.0022                 | Train F1:  0.9729                 | Val Loss:  0.0254                 | Val F1:  0.7556\n"
     ]
    },
    {
     "name": "stderr",
     "output_type": "stream",
     "text": [
      "100%|██████████| 2399/2399 [00:07<00:00, 331.68it/s]\n"
     ]
    },
    {
     "name": "stdout",
     "output_type": "stream",
     "text": [
      "Epochs: 4 | Train Loss:  0.0017                 | Train F1:  0.9786                 | Val Loss:  0.0233                 | Val F1:  0.7711\n"
     ]
    },
    {
     "name": "stderr",
     "output_type": "stream",
     "text": [
      "100%|██████████| 2399/2399 [00:07<00:00, 329.91it/s]\n"
     ]
    },
    {
     "name": "stdout",
     "output_type": "stream",
     "text": [
      "Epochs: 5 | Train Loss:  0.0014                 | Train F1:  0.9827                 | Val Loss:  0.0285                 | Val F1:  0.7690\n"
     ]
    },
    {
     "name": "stderr",
     "output_type": "stream",
     "text": [
      "100%|██████████| 2399/2399 [00:07<00:00, 330.92it/s]\n"
     ]
    },
    {
     "name": "stdout",
     "output_type": "stream",
     "text": [
      "Epochs: 6 | Train Loss:  0.0012                 | Train F1:  0.9847                 | Val Loss:  0.0342                 | Val F1:  0.7601\n"
     ]
    },
    {
     "name": "stderr",
     "output_type": "stream",
     "text": [
      "100%|██████████| 2399/2399 [00:07<00:00, 332.07it/s]\n"
     ]
    },
    {
     "name": "stdout",
     "output_type": "stream",
     "text": [
      "Epochs: 7 | Train Loss:  0.0011                 | Train F1:  0.9868                 | Val Loss:  0.0380                 | Val F1:  0.7568\n"
     ]
    },
    {
     "name": "stderr",
     "output_type": "stream",
     "text": [
      "100%|██████████| 2399/2399 [00:07<00:00, 334.40it/s]\n"
     ]
    },
    {
     "name": "stdout",
     "output_type": "stream",
     "text": [
      "Epochs: 8 | Train Loss:  0.0010                 | Train F1:  0.9874                 | Val Loss:  0.0328                 | Val F1:  0.7595\n"
     ]
    },
    {
     "name": "stderr",
     "output_type": "stream",
     "text": [
      "100%|██████████| 2399/2399 [00:07<00:00, 334.43it/s]\n"
     ]
    },
    {
     "name": "stdout",
     "output_type": "stream",
     "text": [
      "Epochs: 9 | Train Loss:  0.0009                 | Train F1:  0.9882                 | Val Loss:  0.0393                 | Val F1:  0.7497\n"
     ]
    },
    {
     "name": "stderr",
     "output_type": "stream",
     "text": [
      "100%|██████████| 2399/2399 [00:07<00:00, 333.83it/s]\n"
     ]
    },
    {
     "name": "stdout",
     "output_type": "stream",
     "text": [
      "Epochs: 10 | Train Loss:  0.0009                 | Train F1:  0.9887                 | Val Loss:  0.0353                 | Val F1:  0.7578\n",
      "Fold 1\n"
     ]
    },
    {
     "name": "stderr",
     "output_type": "stream",
     "text": [
      "100%|██████████| 2485/2485 [00:07<00:00, 332.82it/s]\n"
     ]
    },
    {
     "name": "stdout",
     "output_type": "stream",
     "text": [
      "Epochs: 1 | Train Loss:  0.0063                 | Train F1:  0.9079                 | Val Loss:  0.0139                 | Val F1:  0.7930\n"
     ]
    },
    {
     "name": "stderr",
     "output_type": "stream",
     "text": [
      "100%|██████████| 2485/2485 [00:07<00:00, 341.40it/s]\n"
     ]
    },
    {
     "name": "stdout",
     "output_type": "stream",
     "text": [
      "Epochs: 2 | Train Loss:  0.0031                 | Train F1:  0.9582                 | Val Loss:  0.0180                 | Val F1:  0.7791\n"
     ]
    },
    {
     "name": "stderr",
     "output_type": "stream",
     "text": [
      "100%|██████████| 2485/2485 [00:07<00:00, 329.11it/s]\n"
     ]
    },
    {
     "name": "stdout",
     "output_type": "stream",
     "text": [
      "Epochs: 3 | Train Loss:  0.0022                 | Train F1:  0.9713                 | Val Loss:  0.0173                 | Val F1:  0.7996\n"
     ]
    },
    {
     "name": "stderr",
     "output_type": "stream",
     "text": [
      "100%|██████████| 2485/2485 [00:07<00:00, 333.99it/s]\n"
     ]
    },
    {
     "name": "stdout",
     "output_type": "stream",
     "text": [
      "Epochs: 4 | Train Loss:  0.0017                 | Train F1:  0.9783                 | Val Loss:  0.0216                 | Val F1:  0.7828\n"
     ]
    },
    {
     "name": "stderr",
     "output_type": "stream",
     "text": [
      "100%|██████████| 2485/2485 [00:07<00:00, 339.12it/s]\n"
     ]
    },
    {
     "name": "stdout",
     "output_type": "stream",
     "text": [
      "Epochs: 5 | Train Loss:  0.0014                 | Train F1:  0.9817                 | Val Loss:  0.0217                 | Val F1:  0.7885\n"
     ]
    },
    {
     "name": "stderr",
     "output_type": "stream",
     "text": [
      "100%|██████████| 2485/2485 [00:07<00:00, 326.96it/s]\n"
     ]
    },
    {
     "name": "stdout",
     "output_type": "stream",
     "text": [
      "Epochs: 6 | Train Loss:  0.0013                 | Train F1:  0.9839                 | Val Loss:  0.0221                 | Val F1:  0.7987\n"
     ]
    },
    {
     "name": "stderr",
     "output_type": "stream",
     "text": [
      "100%|██████████| 2485/2485 [00:07<00:00, 331.95it/s]\n"
     ]
    },
    {
     "name": "stdout",
     "output_type": "stream",
     "text": [
      "Epochs: 7 | Train Loss:  0.0012                 | Train F1:  0.9854                 | Val Loss:  0.0229                 | Val F1:  0.7877\n"
     ]
    },
    {
     "name": "stderr",
     "output_type": "stream",
     "text": [
      "100%|██████████| 2485/2485 [00:07<00:00, 337.83it/s]\n"
     ]
    },
    {
     "name": "stdout",
     "output_type": "stream",
     "text": [
      "Epochs: 8 | Train Loss:  0.0010                 | Train F1:  0.9876                 | Val Loss:  0.0270                 | Val F1:  0.7753\n"
     ]
    },
    {
     "name": "stderr",
     "output_type": "stream",
     "text": [
      "100%|██████████| 2485/2485 [00:07<00:00, 327.52it/s]\n"
     ]
    },
    {
     "name": "stdout",
     "output_type": "stream",
     "text": [
      "Epochs: 9 | Train Loss:  0.0010                 | Train F1:  0.9875                 | Val Loss:  0.0238                 | Val F1:  0.8018\n"
     ]
    },
    {
     "name": "stderr",
     "output_type": "stream",
     "text": [
      "100%|██████████| 2485/2485 [00:07<00:00, 333.47it/s]\n"
     ]
    },
    {
     "name": "stdout",
     "output_type": "stream",
     "text": [
      "Epochs: 10 | Train Loss:  0.0009                 | Train F1:  0.9881                 | Val Loss:  0.0233                 | Val F1:  0.7918\n",
      "Fold 2\n"
     ]
    },
    {
     "name": "stderr",
     "output_type": "stream",
     "text": [
      "100%|██████████| 2549/2549 [00:07<00:00, 340.30it/s]\n"
     ]
    },
    {
     "name": "stdout",
     "output_type": "stream",
     "text": [
      "Epochs: 1 | Train Loss:  0.0069                 | Train F1:  0.8994                 | Val Loss:  0.0096                 | Val F1:  0.8593\n"
     ]
    },
    {
     "name": "stderr",
     "output_type": "stream",
     "text": [
      "100%|██████████| 2549/2549 [00:07<00:00, 325.06it/s]\n"
     ]
    },
    {
     "name": "stdout",
     "output_type": "stream",
     "text": [
      "Epochs: 2 | Train Loss:  0.0037                 | Train F1:  0.9507                 | Val Loss:  0.0093                 | Val F1:  0.8792\n"
     ]
    },
    {
     "name": "stderr",
     "output_type": "stream",
     "text": [
      "100%|██████████| 2549/2549 [00:07<00:00, 342.11it/s]\n"
     ]
    },
    {
     "name": "stdout",
     "output_type": "stream",
     "text": [
      "Epochs: 3 | Train Loss:  0.0026                 | Train F1:  0.9660                 | Val Loss:  0.0111                 | Val F1:  0.8660\n"
     ]
    },
    {
     "name": "stderr",
     "output_type": "stream",
     "text": [
      "100%|██████████| 2549/2549 [00:07<00:00, 331.14it/s]\n"
     ]
    },
    {
     "name": "stdout",
     "output_type": "stream",
     "text": [
      "Epochs: 4 | Train Loss:  0.0020                 | Train F1:  0.9742                 | Val Loss:  0.0125                 | Val F1:  0.8610\n"
     ]
    },
    {
     "name": "stderr",
     "output_type": "stream",
     "text": [
      "100%|██████████| 2549/2549 [00:07<00:00, 340.58it/s]\n"
     ]
    },
    {
     "name": "stdout",
     "output_type": "stream",
     "text": [
      "Epochs: 5 | Train Loss:  0.0018                 | Train F1:  0.9774                 | Val Loss:  0.0121                 | Val F1:  0.8731\n"
     ]
    },
    {
     "name": "stderr",
     "output_type": "stream",
     "text": [
      "100%|██████████| 2549/2549 [00:07<00:00, 327.05it/s]\n"
     ]
    },
    {
     "name": "stdout",
     "output_type": "stream",
     "text": [
      "Epochs: 6 | Train Loss:  0.0016                 | Train F1:  0.9803                 | Val Loss:  0.0156                 | Val F1:  0.8482\n"
     ]
    },
    {
     "name": "stderr",
     "output_type": "stream",
     "text": [
      "100%|██████████| 2549/2549 [00:07<00:00, 337.86it/s]\n"
     ]
    },
    {
     "name": "stdout",
     "output_type": "stream",
     "text": [
      "Epochs: 7 | Train Loss:  0.0014                 | Train F1:  0.9833                 | Val Loss:  0.0158                 | Val F1:  0.8582\n"
     ]
    },
    {
     "name": "stderr",
     "output_type": "stream",
     "text": [
      "100%|██████████| 2549/2549 [00:07<00:00, 326.90it/s]\n"
     ]
    },
    {
     "name": "stdout",
     "output_type": "stream",
     "text": [
      "Epochs: 8 | Train Loss:  0.0013                 | Train F1:  0.9837                 | Val Loss:  0.0138                 | Val F1:  0.8722\n"
     ]
    },
    {
     "name": "stderr",
     "output_type": "stream",
     "text": [
      "100%|██████████| 2549/2549 [00:07<00:00, 336.90it/s]\n"
     ]
    },
    {
     "name": "stdout",
     "output_type": "stream",
     "text": [
      "Epochs: 9 | Train Loss:  0.0012                 | Train F1:  0.9848                 | Val Loss:  0.0122                 | Val F1:  0.8763\n"
     ]
    },
    {
     "name": "stderr",
     "output_type": "stream",
     "text": [
      "100%|██████████| 2549/2549 [00:07<00:00, 327.86it/s]\n"
     ]
    },
    {
     "name": "stdout",
     "output_type": "stream",
     "text": [
      "Epochs: 10 | Train Loss:  0.0011                 | Train F1:  0.9856                 | Val Loss:  0.0134                 | Val F1:  0.8692\n",
      "Fold 3\n"
     ]
    },
    {
     "name": "stderr",
     "output_type": "stream",
     "text": [
      "100%|██████████| 2499/2499 [00:07<00:00, 339.43it/s]\n"
     ]
    },
    {
     "name": "stdout",
     "output_type": "stream",
     "text": [
      "Epochs: 1 | Train Loss:  0.0065                 | Train F1:  0.9032                 | Val Loss:  0.0188                 | Val F1:  0.7745\n"
     ]
    },
    {
     "name": "stderr",
     "output_type": "stream",
     "text": [
      "100%|██████████| 2499/2499 [00:07<00:00, 327.32it/s]\n"
     ]
    },
    {
     "name": "stdout",
     "output_type": "stream",
     "text": [
      "Epochs: 2 | Train Loss:  0.0034                 | Train F1:  0.9536                 | Val Loss:  0.0199                 | Val F1:  0.7743\n"
     ]
    },
    {
     "name": "stderr",
     "output_type": "stream",
     "text": [
      "100%|██████████| 2499/2499 [00:07<00:00, 339.46it/s]\n"
     ]
    },
    {
     "name": "stdout",
     "output_type": "stream",
     "text": [
      "Epochs: 3 | Train Loss:  0.0023                 | Train F1:  0.9686                 | Val Loss:  0.0221                 | Val F1:  0.7724\n"
     ]
    },
    {
     "name": "stderr",
     "output_type": "stream",
     "text": [
      "100%|██████████| 2499/2499 [00:07<00:00, 328.17it/s]\n"
     ]
    },
    {
     "name": "stdout",
     "output_type": "stream",
     "text": [
      "Epochs: 4 | Train Loss:  0.0018                 | Train F1:  0.9766                 | Val Loss:  0.0237                 | Val F1:  0.7736\n"
     ]
    },
    {
     "name": "stderr",
     "output_type": "stream",
     "text": [
      "100%|██████████| 2499/2499 [00:07<00:00, 331.69it/s]\n"
     ]
    },
    {
     "name": "stdout",
     "output_type": "stream",
     "text": [
      "Epochs: 5 | Train Loss:  0.0015                 | Train F1:  0.9799                 | Val Loss:  0.0236                 | Val F1:  0.7918\n"
     ]
    },
    {
     "name": "stderr",
     "output_type": "stream",
     "text": [
      "100%|██████████| 2499/2499 [00:07<00:00, 339.97it/s]\n"
     ]
    },
    {
     "name": "stdout",
     "output_type": "stream",
     "text": [
      "Epochs: 6 | Train Loss:  0.0013                 | Train F1:  0.9828                 | Val Loss:  0.0270                 | Val F1:  0.7845\n"
     ]
    },
    {
     "name": "stderr",
     "output_type": "stream",
     "text": [
      "100%|██████████| 2499/2499 [00:07<00:00, 325.79it/s]\n"
     ]
    },
    {
     "name": "stdout",
     "output_type": "stream",
     "text": [
      "Epochs: 7 | Train Loss:  0.0012                 | Train F1:  0.9837                 | Val Loss:  0.0245                 | Val F1:  0.7968\n"
     ]
    },
    {
     "name": "stderr",
     "output_type": "stream",
     "text": [
      "100%|██████████| 2499/2499 [00:07<00:00, 333.49it/s]\n"
     ]
    },
    {
     "name": "stdout",
     "output_type": "stream",
     "text": [
      "Epochs: 8 | Train Loss:  0.0011                 | Train F1:  0.9855                 | Val Loss:  0.0270                 | Val F1:  0.7916\n"
     ]
    },
    {
     "name": "stderr",
     "output_type": "stream",
     "text": [
      "100%|██████████| 2499/2499 [00:07<00:00, 337.12it/s]\n"
     ]
    },
    {
     "name": "stdout",
     "output_type": "stream",
     "text": [
      "Epochs: 9 | Train Loss:  0.0010                 | Train F1:  0.9865                 | Val Loss:  0.0301                 | Val F1:  0.7860\n"
     ]
    },
    {
     "name": "stderr",
     "output_type": "stream",
     "text": [
      "100%|██████████| 2499/2499 [00:07<00:00, 327.28it/s]\n"
     ]
    },
    {
     "name": "stdout",
     "output_type": "stream",
     "text": [
      "Epochs: 10 | Train Loss:  0.0010                 | Train F1:  0.9872                 | Val Loss:  0.0312                 | Val F1:  0.7706\n",
      "Fold 4\n"
     ]
    },
    {
     "name": "stderr",
     "output_type": "stream",
     "text": [
      "100%|██████████| 2303/2303 [00:06<00:00, 337.17it/s]\n"
     ]
    },
    {
     "name": "stdout",
     "output_type": "stream",
     "text": [
      "Epochs: 1 | Train Loss:  0.0056                 | Train F1:  0.9195                 | Val Loss:  0.0209                 | Val F1:  0.7155\n"
     ]
    },
    {
     "name": "stderr",
     "output_type": "stream",
     "text": [
      "100%|██████████| 2303/2303 [00:06<00:00, 337.78it/s]\n"
     ]
    },
    {
     "name": "stdout",
     "output_type": "stream",
     "text": [
      "Epochs: 2 | Train Loss:  0.0027                 | Train F1:  0.9635                 | Val Loss:  0.0279                 | Val F1:  0.7134\n"
     ]
    },
    {
     "name": "stderr",
     "output_type": "stream",
     "text": [
      "100%|██████████| 2303/2303 [00:06<00:00, 337.89it/s]\n"
     ]
    },
    {
     "name": "stdout",
     "output_type": "stream",
     "text": [
      "Epochs: 3 | Train Loss:  0.0018                 | Train F1:  0.9765                 | Val Loss:  0.0306                 | Val F1:  0.7156\n"
     ]
    },
    {
     "name": "stderr",
     "output_type": "stream",
     "text": [
      "100%|██████████| 2303/2303 [00:06<00:00, 335.23it/s]\n"
     ]
    },
    {
     "name": "stdout",
     "output_type": "stream",
     "text": [
      "Epochs: 4 | Train Loss:  0.0013                 | Train F1:  0.9830                 | Val Loss:  0.0351                 | Val F1:  0.7235\n"
     ]
    },
    {
     "name": "stderr",
     "output_type": "stream",
     "text": [
      "100%|██████████| 2303/2303 [00:06<00:00, 337.20it/s]\n"
     ]
    },
    {
     "name": "stdout",
     "output_type": "stream",
     "text": [
      "Epochs: 5 | Train Loss:  0.0011                 | Train F1:  0.9854                 | Val Loss:  0.0365                 | Val F1:  0.7153\n"
     ]
    },
    {
     "name": "stderr",
     "output_type": "stream",
     "text": [
      "100%|██████████| 2303/2303 [00:06<00:00, 336.86it/s]\n"
     ]
    },
    {
     "name": "stdout",
     "output_type": "stream",
     "text": [
      "Epochs: 6 | Train Loss:  0.0010                 | Train F1:  0.9877                 | Val Loss:  0.0390                 | Val F1:  0.7000\n"
     ]
    },
    {
     "name": "stderr",
     "output_type": "stream",
     "text": [
      "100%|██████████| 2303/2303 [00:06<00:00, 329.08it/s]\n"
     ]
    },
    {
     "name": "stdout",
     "output_type": "stream",
     "text": [
      "Epochs: 7 | Train Loss:  0.0009                 | Train F1:  0.9884                 | Val Loss:  0.0397                 | Val F1:  0.7077\n"
     ]
    },
    {
     "name": "stderr",
     "output_type": "stream",
     "text": [
      "100%|██████████| 2303/2303 [00:07<00:00, 328.20it/s]\n"
     ]
    },
    {
     "name": "stdout",
     "output_type": "stream",
     "text": [
      "Epochs: 8 | Train Loss:  0.0008                 | Train F1:  0.9898                 | Val Loss:  0.0474                 | Val F1:  0.6937\n"
     ]
    },
    {
     "name": "stderr",
     "output_type": "stream",
     "text": [
      "100%|██████████| 2303/2303 [00:06<00:00, 332.32it/s]\n"
     ]
    },
    {
     "name": "stdout",
     "output_type": "stream",
     "text": [
      "Epochs: 9 | Train Loss:  0.0008                 | Train F1:  0.9903                 | Val Loss:  0.0466                 | Val F1:  0.6972\n"
     ]
    },
    {
     "name": "stderr",
     "output_type": "stream",
     "text": [
      "100%|██████████| 2303/2303 [00:06<00:00, 331.61it/s]\n",
      "\u001b[32m[I 2022-06-16 17:46:10,704]\u001b[0m Trial 7 finished with value: 0.7771017765757977 and parameters: {'learning_rate': 0.0016067794284072461, 'n_layers': 2, 'n_units_l0': 123, 'dropout_l0': 0.30000000000000004, 'n_units_l1': 41, 'dropout_l1': 0.2}. Best is trial 4 with value: 0.8032755469937412.\u001b[0m\n"
     ]
    },
    {
     "name": "stdout",
     "output_type": "stream",
     "text": [
      "Epochs: 10 | Train Loss:  0.0007                 | Train F1:  0.9912                 | Val Loss:  0.0456                 | Val F1:  0.6960\n",
      "Fold 0\n"
     ]
    },
    {
     "name": "stderr",
     "output_type": "stream",
     "text": [
      "100%|██████████| 2399/2399 [00:06<00:00, 343.23it/s]\n"
     ]
    },
    {
     "name": "stdout",
     "output_type": "stream",
     "text": [
      "Epochs: 1 | Train Loss:  0.0084                 | Train F1:  0.8793                 | Val Loss:  0.0141                 | Val F1:  0.7610\n"
     ]
    },
    {
     "name": "stderr",
     "output_type": "stream",
     "text": [
      "100%|██████████| 2399/2399 [00:06<00:00, 346.98it/s]\n"
     ]
    },
    {
     "name": "stdout",
     "output_type": "stream",
     "text": [
      "Epochs: 2 | Train Loss:  0.0064                 | Train F1:  0.9087                 | Val Loss:  0.0151                 | Val F1:  0.7621\n"
     ]
    },
    {
     "name": "stderr",
     "output_type": "stream",
     "text": [
      "100%|██████████| 2399/2399 [00:06<00:00, 347.61it/s]\n"
     ]
    },
    {
     "name": "stdout",
     "output_type": "stream",
     "text": [
      "Epochs: 3 | Train Loss:  0.0054                 | Train F1:  0.9253                 | Val Loss:  0.0156                 | Val F1:  0.7660\n"
     ]
    },
    {
     "name": "stderr",
     "output_type": "stream",
     "text": [
      "100%|██████████| 2399/2399 [00:06<00:00, 346.26it/s]\n"
     ]
    },
    {
     "name": "stdout",
     "output_type": "stream",
     "text": [
      "Epochs: 4 | Train Loss:  0.0046                 | Train F1:  0.9396                 | Val Loss:  0.0167                 | Val F1:  0.7626\n"
     ]
    },
    {
     "name": "stderr",
     "output_type": "stream",
     "text": [
      "100%|██████████| 2399/2399 [00:06<00:00, 347.44it/s]\n"
     ]
    },
    {
     "name": "stdout",
     "output_type": "stream",
     "text": [
      "Epochs: 5 | Train Loss:  0.0040                 | Train F1:  0.9481                 | Val Loss:  0.0168                 | Val F1:  0.7634\n"
     ]
    },
    {
     "name": "stderr",
     "output_type": "stream",
     "text": [
      "100%|██████████| 2399/2399 [00:06<00:00, 346.98it/s]\n"
     ]
    },
    {
     "name": "stdout",
     "output_type": "stream",
     "text": [
      "Epochs: 6 | Train Loss:  0.0035                 | Train F1:  0.9548                 | Val Loss:  0.0178                 | Val F1:  0.7626\n"
     ]
    },
    {
     "name": "stderr",
     "output_type": "stream",
     "text": [
      "100%|██████████| 2399/2399 [00:06<00:00, 345.62it/s]\n"
     ]
    },
    {
     "name": "stdout",
     "output_type": "stream",
     "text": [
      "Epochs: 7 | Train Loss:  0.0032                 | Train F1:  0.9599                 | Val Loss:  0.0185                 | Val F1:  0.7607\n"
     ]
    },
    {
     "name": "stderr",
     "output_type": "stream",
     "text": [
      "100%|██████████| 2399/2399 [00:06<00:00, 345.16it/s]\n"
     ]
    },
    {
     "name": "stdout",
     "output_type": "stream",
     "text": [
      "Epochs: 8 | Train Loss:  0.0029                 | Train F1:  0.9644                 | Val Loss:  0.0187                 | Val F1:  0.7615\n"
     ]
    },
    {
     "name": "stderr",
     "output_type": "stream",
     "text": [
      "100%|██████████| 2399/2399 [00:06<00:00, 347.64it/s]\n"
     ]
    },
    {
     "name": "stdout",
     "output_type": "stream",
     "text": [
      "Epochs: 9 | Train Loss:  0.0026                 | Train F1:  0.9680                 | Val Loss:  0.0189                 | Val F1:  0.7599\n"
     ]
    },
    {
     "name": "stderr",
     "output_type": "stream",
     "text": [
      "100%|██████████| 2399/2399 [00:06<00:00, 345.83it/s]\n"
     ]
    },
    {
     "name": "stdout",
     "output_type": "stream",
     "text": [
      "Epochs: 10 | Train Loss:  0.0024                 | Train F1:  0.9702                 | Val Loss:  0.0195                 | Val F1:  0.7634\n",
      "Fold 1\n"
     ]
    },
    {
     "name": "stderr",
     "output_type": "stream",
     "text": [
      "100%|██████████| 2485/2485 [00:07<00:00, 346.44it/s]\n"
     ]
    },
    {
     "name": "stdout",
     "output_type": "stream",
     "text": [
      "Epochs: 1 | Train Loss:  0.0090                 | Train F1:  0.8616                 | Val Loss:  0.0102                 | Val F1:  0.8295\n"
     ]
    },
    {
     "name": "stderr",
     "output_type": "stream",
     "text": [
      "100%|██████████| 2485/2485 [00:07<00:00, 344.85it/s]\n"
     ]
    },
    {
     "name": "stdout",
     "output_type": "stream",
     "text": [
      "Epochs: 2 | Train Loss:  0.0068                 | Train F1:  0.8989                 | Val Loss:  0.0104                 | Val F1:  0.8308\n"
     ]
    },
    {
     "name": "stderr",
     "output_type": "stream",
     "text": [
      "100%|██████████| 2485/2485 [00:07<00:00, 344.48it/s]\n"
     ]
    },
    {
     "name": "stdout",
     "output_type": "stream",
     "text": [
      "Epochs: 3 | Train Loss:  0.0057                 | Train F1:  0.9200                 | Val Loss:  0.0104                 | Val F1:  0.8354\n"
     ]
    },
    {
     "name": "stderr",
     "output_type": "stream",
     "text": [
      "100%|██████████| 2485/2485 [00:07<00:00, 343.98it/s]\n"
     ]
    },
    {
     "name": "stdout",
     "output_type": "stream",
     "text": [
      "Epochs: 4 | Train Loss:  0.0048                 | Train F1:  0.9347                 | Val Loss:  0.0112                 | Val F1:  0.8268\n"
     ]
    },
    {
     "name": "stderr",
     "output_type": "stream",
     "text": [
      "100%|██████████| 2485/2485 [00:07<00:00, 343.28it/s]\n"
     ]
    },
    {
     "name": "stdout",
     "output_type": "stream",
     "text": [
      "Epochs: 5 | Train Loss:  0.0042                 | Train F1:  0.9450                 | Val Loss:  0.0123                 | Val F1:  0.8130\n"
     ]
    },
    {
     "name": "stderr",
     "output_type": "stream",
     "text": [
      "100%|██████████| 2485/2485 [00:07<00:00, 343.75it/s]\n"
     ]
    },
    {
     "name": "stdout",
     "output_type": "stream",
     "text": [
      "Epochs: 6 | Train Loss:  0.0037                 | Train F1:  0.9512                 | Val Loss:  0.0121                 | Val F1:  0.8213\n"
     ]
    },
    {
     "name": "stderr",
     "output_type": "stream",
     "text": [
      "100%|██████████| 2485/2485 [00:07<00:00, 343.79it/s]\n"
     ]
    },
    {
     "name": "stdout",
     "output_type": "stream",
     "text": [
      "Epochs: 7 | Train Loss:  0.0033                 | Train F1:  0.9570                 | Val Loss:  0.0127                 | Val F1:  0.8123\n"
     ]
    },
    {
     "name": "stderr",
     "output_type": "stream",
     "text": [
      "100%|██████████| 2485/2485 [00:07<00:00, 343.68it/s]\n"
     ]
    },
    {
     "name": "stdout",
     "output_type": "stream",
     "text": [
      "Epochs: 8 | Train Loss:  0.0030                 | Train F1:  0.9606                 | Val Loss:  0.0130                 | Val F1:  0.8085\n"
     ]
    },
    {
     "name": "stderr",
     "output_type": "stream",
     "text": [
      "100%|██████████| 2485/2485 [00:07<00:00, 344.52it/s]\n"
     ]
    },
    {
     "name": "stdout",
     "output_type": "stream",
     "text": [
      "Epochs: 9 | Train Loss:  0.0028                 | Train F1:  0.9640                 | Val Loss:  0.0138                 | Val F1:  0.8079\n"
     ]
    },
    {
     "name": "stderr",
     "output_type": "stream",
     "text": [
      "100%|██████████| 2485/2485 [00:07<00:00, 343.69it/s]\n"
     ]
    },
    {
     "name": "stdout",
     "output_type": "stream",
     "text": [
      "Epochs: 10 | Train Loss:  0.0027                 | Train F1:  0.9664                 | Val Loss:  0.0138                 | Val F1:  0.8088\n",
      "Fold 2\n"
     ]
    },
    {
     "name": "stderr",
     "output_type": "stream",
     "text": [
      "100%|██████████| 2549/2549 [00:07<00:00, 347.10it/s]\n"
     ]
    },
    {
     "name": "stdout",
     "output_type": "stream",
     "text": [
      "Epochs: 1 | Train Loss:  0.0094                 | Train F1:  0.8590                 | Val Loss:  0.0077                 | Val F1:  0.8621\n"
     ]
    },
    {
     "name": "stderr",
     "output_type": "stream",
     "text": [
      "100%|██████████| 2549/2549 [00:07<00:00, 343.18it/s]\n"
     ]
    },
    {
     "name": "stdout",
     "output_type": "stream",
     "text": [
      "Epochs: 2 | Train Loss:  0.0073                 | Train F1:  0.8917                 | Val Loss:  0.0077                 | Val F1:  0.8670\n"
     ]
    },
    {
     "name": "stderr",
     "output_type": "stream",
     "text": [
      "100%|██████████| 2549/2549 [00:07<00:00, 342.89it/s]\n"
     ]
    },
    {
     "name": "stdout",
     "output_type": "stream",
     "text": [
      "Epochs: 3 | Train Loss:  0.0062                 | Train F1:  0.9119                 | Val Loss:  0.0077                 | Val F1:  0.8732\n"
     ]
    },
    {
     "name": "stderr",
     "output_type": "stream",
     "text": [
      "100%|██████████| 2549/2549 [00:07<00:00, 342.64it/s]\n"
     ]
    },
    {
     "name": "stdout",
     "output_type": "stream",
     "text": [
      "Epochs: 4 | Train Loss:  0.0054                 | Train F1:  0.9247                 | Val Loss:  0.0080                 | Val F1:  0.8724\n"
     ]
    },
    {
     "name": "stderr",
     "output_type": "stream",
     "text": [
      "100%|██████████| 2549/2549 [00:07<00:00, 343.79it/s]\n"
     ]
    },
    {
     "name": "stdout",
     "output_type": "stream",
     "text": [
      "Epochs: 5 | Train Loss:  0.0047                 | Train F1:  0.9349                 | Val Loss:  0.0081                 | Val F1:  0.8743\n"
     ]
    },
    {
     "name": "stderr",
     "output_type": "stream",
     "text": [
      "100%|██████████| 2549/2549 [00:07<00:00, 343.80it/s]\n"
     ]
    },
    {
     "name": "stdout",
     "output_type": "stream",
     "text": [
      "Epochs: 6 | Train Loss:  0.0043                 | Train F1:  0.9432                 | Val Loss:  0.0081                 | Val F1:  0.8755\n"
     ]
    },
    {
     "name": "stderr",
     "output_type": "stream",
     "text": [
      "100%|██████████| 2549/2549 [00:07<00:00, 343.52it/s]\n"
     ]
    },
    {
     "name": "stdout",
     "output_type": "stream",
     "text": [
      "Epochs: 7 | Train Loss:  0.0039                 | Train F1:  0.9495                 | Val Loss:  0.0084                 | Val F1:  0.8719\n"
     ]
    },
    {
     "name": "stderr",
     "output_type": "stream",
     "text": [
      "100%|██████████| 2549/2549 [00:07<00:00, 342.23it/s]\n"
     ]
    },
    {
     "name": "stdout",
     "output_type": "stream",
     "text": [
      "Epochs: 8 | Train Loss:  0.0035                 | Train F1:  0.9543                 | Val Loss:  0.0086                 | Val F1:  0.8741\n"
     ]
    },
    {
     "name": "stderr",
     "output_type": "stream",
     "text": [
      "100%|██████████| 2549/2549 [00:07<00:00, 343.59it/s]\n"
     ]
    },
    {
     "name": "stdout",
     "output_type": "stream",
     "text": [
      "Epochs: 9 | Train Loss:  0.0032                 | Train F1:  0.9583                 | Val Loss:  0.0085                 | Val F1:  0.8730\n"
     ]
    },
    {
     "name": "stderr",
     "output_type": "stream",
     "text": [
      "100%|██████████| 2549/2549 [00:07<00:00, 344.97it/s]\n"
     ]
    },
    {
     "name": "stdout",
     "output_type": "stream",
     "text": [
      "Epochs: 10 | Train Loss:  0.0030                 | Train F1:  0.9601                 | Val Loss:  0.0088                 | Val F1:  0.8737\n",
      "Fold 3\n"
     ]
    },
    {
     "name": "stderr",
     "output_type": "stream",
     "text": [
      "100%|██████████| 2499/2499 [00:07<00:00, 345.28it/s]\n"
     ]
    },
    {
     "name": "stdout",
     "output_type": "stream",
     "text": [
      "Epochs: 1 | Train Loss:  0.0087                 | Train F1:  0.8641                 | Val Loss:  0.0138                 | Val F1:  0.7952\n"
     ]
    },
    {
     "name": "stderr",
     "output_type": "stream",
     "text": [
      "100%|██████████| 2499/2499 [00:07<00:00, 345.60it/s]\n"
     ]
    },
    {
     "name": "stdout",
     "output_type": "stream",
     "text": [
      "Epochs: 2 | Train Loss:  0.0066                 | Train F1:  0.8984                 | Val Loss:  0.0145                 | Val F1:  0.7852\n"
     ]
    },
    {
     "name": "stderr",
     "output_type": "stream",
     "text": [
      "100%|██████████| 2499/2499 [00:07<00:00, 344.05it/s]\n"
     ]
    },
    {
     "name": "stdout",
     "output_type": "stream",
     "text": [
      "Epochs: 3 | Train Loss:  0.0057                 | Train F1:  0.9171                 | Val Loss:  0.0151                 | Val F1:  0.7823\n"
     ]
    },
    {
     "name": "stderr",
     "output_type": "stream",
     "text": [
      "100%|██████████| 2499/2499 [00:07<00:00, 344.67it/s]\n"
     ]
    },
    {
     "name": "stdout",
     "output_type": "stream",
     "text": [
      "Epochs: 4 | Train Loss:  0.0049                 | Train F1:  0.9312                 | Val Loss:  0.0153                 | Val F1:  0.7840\n"
     ]
    },
    {
     "name": "stderr",
     "output_type": "stream",
     "text": [
      "100%|██████████| 2499/2499 [00:07<00:00, 345.60it/s]\n"
     ]
    },
    {
     "name": "stdout",
     "output_type": "stream",
     "text": [
      "Epochs: 5 | Train Loss:  0.0043                 | Train F1:  0.9408                 | Val Loss:  0.0155                 | Val F1:  0.7877\n"
     ]
    },
    {
     "name": "stderr",
     "output_type": "stream",
     "text": [
      "100%|██████████| 2499/2499 [00:07<00:00, 345.19it/s]\n"
     ]
    },
    {
     "name": "stdout",
     "output_type": "stream",
     "text": [
      "Epochs: 6 | Train Loss:  0.0038                 | Train F1:  0.9474                 | Val Loss:  0.0166                 | Val F1:  0.7762\n"
     ]
    },
    {
     "name": "stderr",
     "output_type": "stream",
     "text": [
      "100%|██████████| 2499/2499 [00:07<00:00, 346.53it/s]\n"
     ]
    },
    {
     "name": "stdout",
     "output_type": "stream",
     "text": [
      "Epochs: 7 | Train Loss:  0.0035                 | Train F1:  0.9530                 | Val Loss:  0.0169                 | Val F1:  0.7880\n"
     ]
    },
    {
     "name": "stderr",
     "output_type": "stream",
     "text": [
      "100%|██████████| 2499/2499 [00:07<00:00, 345.42it/s]\n"
     ]
    },
    {
     "name": "stdout",
     "output_type": "stream",
     "text": [
      "Epochs: 8 | Train Loss:  0.0031                 | Train F1:  0.9570                 | Val Loss:  0.0175                 | Val F1:  0.7798\n"
     ]
    },
    {
     "name": "stderr",
     "output_type": "stream",
     "text": [
      "100%|██████████| 2499/2499 [00:07<00:00, 346.49it/s]\n"
     ]
    },
    {
     "name": "stdout",
     "output_type": "stream",
     "text": [
      "Epochs: 9 | Train Loss:  0.0029                 | Train F1:  0.9605                 | Val Loss:  0.0182                 | Val F1:  0.7789\n"
     ]
    },
    {
     "name": "stderr",
     "output_type": "stream",
     "text": [
      "100%|██████████| 2499/2499 [00:07<00:00, 346.25it/s]\n"
     ]
    },
    {
     "name": "stdout",
     "output_type": "stream",
     "text": [
      "Epochs: 10 | Train Loss:  0.0027                 | Train F1:  0.9642                 | Val Loss:  0.0176                 | Val F1:  0.7845\n",
      "Fold 4\n"
     ]
    },
    {
     "name": "stderr",
     "output_type": "stream",
     "text": [
      "100%|██████████| 2303/2303 [00:06<00:00, 346.84it/s]\n"
     ]
    },
    {
     "name": "stdout",
     "output_type": "stream",
     "text": [
      "Epochs: 1 | Train Loss:  0.0078                 | Train F1:  0.8843                 | Val Loss:  0.0178                 | Val F1:  0.7242\n"
     ]
    },
    {
     "name": "stderr",
     "output_type": "stream",
     "text": [
      "100%|██████████| 2303/2303 [00:06<00:00, 346.35it/s]\n"
     ]
    },
    {
     "name": "stdout",
     "output_type": "stream",
     "text": [
      "Epochs: 2 | Train Loss:  0.0058                 | Train F1:  0.9147                 | Val Loss:  0.0185                 | Val F1:  0.7201\n"
     ]
    },
    {
     "name": "stderr",
     "output_type": "stream",
     "text": [
      "100%|██████████| 2303/2303 [00:06<00:00, 348.29it/s]\n"
     ]
    },
    {
     "name": "stdout",
     "output_type": "stream",
     "text": [
      "Epochs: 3 | Train Loss:  0.0048                 | Train F1:  0.9314                 | Val Loss:  0.0195                 | Val F1:  0.7229\n"
     ]
    },
    {
     "name": "stderr",
     "output_type": "stream",
     "text": [
      "100%|██████████| 2303/2303 [00:06<00:00, 350.60it/s]\n"
     ]
    },
    {
     "name": "stdout",
     "output_type": "stream",
     "text": [
      "Epochs: 4 | Train Loss:  0.0041                 | Train F1:  0.9443                 | Val Loss:  0.0210                 | Val F1:  0.7100\n"
     ]
    },
    {
     "name": "stderr",
     "output_type": "stream",
     "text": [
      "100%|██████████| 2303/2303 [00:06<00:00, 348.20it/s]\n"
     ]
    },
    {
     "name": "stdout",
     "output_type": "stream",
     "text": [
      "Epochs: 5 | Train Loss:  0.0035                 | Train F1:  0.9530                 | Val Loss:  0.0215                 | Val F1:  0.7203\n"
     ]
    },
    {
     "name": "stderr",
     "output_type": "stream",
     "text": [
      "100%|██████████| 2303/2303 [00:06<00:00, 347.76it/s]\n"
     ]
    },
    {
     "name": "stdout",
     "output_type": "stream",
     "text": [
      "Epochs: 6 | Train Loss:  0.0031                 | Train F1:  0.9601                 | Val Loss:  0.0222                 | Val F1:  0.7163\n"
     ]
    },
    {
     "name": "stderr",
     "output_type": "stream",
     "text": [
      "100%|██████████| 2303/2303 [00:06<00:00, 346.65it/s]\n"
     ]
    },
    {
     "name": "stdout",
     "output_type": "stream",
     "text": [
      "Epochs: 7 | Train Loss:  0.0027                 | Train F1:  0.9650                 | Val Loss:  0.0228                 | Val F1:  0.7174\n"
     ]
    },
    {
     "name": "stderr",
     "output_type": "stream",
     "text": [
      "100%|██████████| 2303/2303 [00:06<00:00, 349.59it/s]\n"
     ]
    },
    {
     "name": "stdout",
     "output_type": "stream",
     "text": [
      "Epochs: 8 | Train Loss:  0.0025                 | Train F1:  0.9689                 | Val Loss:  0.0242                 | Val F1:  0.7146\n"
     ]
    },
    {
     "name": "stderr",
     "output_type": "stream",
     "text": [
      "100%|██████████| 2303/2303 [00:06<00:00, 347.44it/s]\n"
     ]
    },
    {
     "name": "stdout",
     "output_type": "stream",
     "text": [
      "Epochs: 9 | Train Loss:  0.0023                 | Train F1:  0.9716                 | Val Loss:  0.0245                 | Val F1:  0.7181\n"
     ]
    },
    {
     "name": "stderr",
     "output_type": "stream",
     "text": [
      "100%|██████████| 2303/2303 [00:06<00:00, 347.22it/s]\n",
      "\u001b[32m[I 2022-06-16 17:52:49,781]\u001b[0m Trial 8 finished with value: 0.7891326321315405 and parameters: {'learning_rate': 0.0007901577059645886, 'n_layers': 1, 'n_units_l0': 78, 'dropout_l0': 0.5}. Best is trial 4 with value: 0.8032755469937412.\u001b[0m\n"
     ]
    },
    {
     "name": "stdout",
     "output_type": "stream",
     "text": [
      "Epochs: 10 | Train Loss:  0.0020                 | Train F1:  0.9745                 | Val Loss:  0.0247                 | Val F1:  0.7153\n",
      "Fold 0\n"
     ]
    },
    {
     "name": "stderr",
     "output_type": "stream",
     "text": [
      "100%|██████████| 2399/2399 [00:08<00:00, 274.45it/s]\n"
     ]
    },
    {
     "name": "stdout",
     "output_type": "stream",
     "text": [
      "Epochs: 1 | Train Loss:  0.0139                 | Train F1:  0.8088                 | Val Loss:  0.0139                 | Val F1:  0.7626\n"
     ]
    },
    {
     "name": "stderr",
     "output_type": "stream",
     "text": [
      "100%|██████████| 2399/2399 [00:08<00:00, 274.76it/s]\n"
     ]
    },
    {
     "name": "stdout",
     "output_type": "stream",
     "text": [
      "Epochs: 2 | Train Loss:  0.0123                 | Train F1:  0.8343                 | Val Loss:  0.0142                 | Val F1:  0.7608\n"
     ]
    },
    {
     "name": "stderr",
     "output_type": "stream",
     "text": [
      "100%|██████████| 2399/2399 [00:08<00:00, 275.57it/s]\n"
     ]
    },
    {
     "name": "stdout",
     "output_type": "stream",
     "text": [
      "Epochs: 3 | Train Loss:  0.0118                 | Train F1:  0.8427                 | Val Loss:  0.0145                 | Val F1:  0.7613\n"
     ]
    },
    {
     "name": "stderr",
     "output_type": "stream",
     "text": [
      "100%|██████████| 2399/2399 [00:08<00:00, 275.58it/s]\n"
     ]
    },
    {
     "name": "stdout",
     "output_type": "stream",
     "text": [
      "Epochs: 4 | Train Loss:  0.0115                 | Train F1:  0.8475                 | Val Loss:  0.0152                 | Val F1:  0.7566\n"
     ]
    },
    {
     "name": "stderr",
     "output_type": "stream",
     "text": [
      "100%|██████████| 2399/2399 [00:08<00:00, 275.34it/s]\n"
     ]
    },
    {
     "name": "stdout",
     "output_type": "stream",
     "text": [
      "Epochs: 5 | Train Loss:  0.0113                 | Train F1:  0.8486                 | Val Loss:  0.0161                 | Val F1:  0.7494\n"
     ]
    },
    {
     "name": "stderr",
     "output_type": "stream",
     "text": [
      "100%|██████████| 2399/2399 [00:08<00:00, 274.73it/s]\n"
     ]
    },
    {
     "name": "stdout",
     "output_type": "stream",
     "text": [
      "Epochs: 6 | Train Loss:  0.0111                 | Train F1:  0.8520                 | Val Loss:  0.0161                 | Val F1:  0.7511\n"
     ]
    },
    {
     "name": "stderr",
     "output_type": "stream",
     "text": [
      "100%|██████████| 2399/2399 [00:08<00:00, 275.20it/s]\n"
     ]
    },
    {
     "name": "stdout",
     "output_type": "stream",
     "text": [
      "Epochs: 7 | Train Loss:  0.0109                 | Train F1:  0.8565                 | Val Loss:  0.0162                 | Val F1:  0.7667\n"
     ]
    },
    {
     "name": "stderr",
     "output_type": "stream",
     "text": [
      "100%|██████████| 2399/2399 [00:08<00:00, 275.99it/s]\n"
     ]
    },
    {
     "name": "stdout",
     "output_type": "stream",
     "text": [
      "Epochs: 8 | Train Loss:  0.0110                 | Train F1:  0.8538                 | Val Loss:  0.0160                 | Val F1:  0.7628\n"
     ]
    },
    {
     "name": "stderr",
     "output_type": "stream",
     "text": [
      "100%|██████████| 2399/2399 [00:08<00:00, 276.37it/s]\n"
     ]
    },
    {
     "name": "stdout",
     "output_type": "stream",
     "text": [
      "Epochs: 9 | Train Loss:  0.0109                 | Train F1:  0.8556                 | Val Loss:  0.0157                 | Val F1:  0.7564\n"
     ]
    },
    {
     "name": "stderr",
     "output_type": "stream",
     "text": [
      "100%|██████████| 2399/2399 [00:08<00:00, 275.25it/s]\n"
     ]
    },
    {
     "name": "stdout",
     "output_type": "stream",
     "text": [
      "Epochs: 10 | Train Loss:  0.0108                 | Train F1:  0.8578                 | Val Loss:  0.0166                 | Val F1:  0.7520\n",
      "Fold 1\n"
     ]
    },
    {
     "name": "stderr",
     "output_type": "stream",
     "text": [
      "100%|██████████| 2485/2485 [00:09<00:00, 276.01it/s]\n"
     ]
    },
    {
     "name": "stdout",
     "output_type": "stream",
     "text": [
      "Epochs: 1 | Train Loss:  0.0148                 | Train F1:  0.7789                 | Val Loss:  0.0118                 | Val F1:  0.8177\n"
     ]
    },
    {
     "name": "stderr",
     "output_type": "stream",
     "text": [
      "100%|██████████| 2485/2485 [00:08<00:00, 276.22it/s]\n"
     ]
    },
    {
     "name": "stdout",
     "output_type": "stream",
     "text": [
      "Epochs: 2 | Train Loss:  0.0133                 | Train F1:  0.8063                 | Val Loss:  0.0130                 | Val F1:  0.7877\n"
     ]
    },
    {
     "name": "stderr",
     "output_type": "stream",
     "text": [
      "100%|██████████| 2485/2485 [00:09<00:00, 274.60it/s]\n"
     ]
    },
    {
     "name": "stdout",
     "output_type": "stream",
     "text": [
      "Epochs: 3 | Train Loss:  0.0130                 | Train F1:  0.8108                 | Val Loss:  0.0120                 | Val F1:  0.8280\n"
     ]
    },
    {
     "name": "stderr",
     "output_type": "stream",
     "text": [
      "100%|██████████| 2485/2485 [00:09<00:00, 275.22it/s]\n"
     ]
    },
    {
     "name": "stdout",
     "output_type": "stream",
     "text": [
      "Epochs: 4 | Train Loss:  0.0127                 | Train F1:  0.8163                 | Val Loss:  0.0118                 | Val F1:  0.8374\n"
     ]
    },
    {
     "name": "stderr",
     "output_type": "stream",
     "text": [
      "100%|██████████| 2485/2485 [00:09<00:00, 274.52it/s]\n"
     ]
    },
    {
     "name": "stdout",
     "output_type": "stream",
     "text": [
      "Epochs: 5 | Train Loss:  0.0125                 | Train F1:  0.8172                 | Val Loss:  0.0125                 | Val F1:  0.8165\n"
     ]
    },
    {
     "name": "stderr",
     "output_type": "stream",
     "text": [
      "100%|██████████| 2485/2485 [00:09<00:00, 275.47it/s]\n"
     ]
    },
    {
     "name": "stdout",
     "output_type": "stream",
     "text": [
      "Epochs: 6 | Train Loss:  0.0124                 | Train F1:  0.8208                 | Val Loss:  0.0128                 | Val F1:  0.8291\n"
     ]
    },
    {
     "name": "stderr",
     "output_type": "stream",
     "text": [
      "100%|██████████| 2485/2485 [00:09<00:00, 274.73it/s]\n"
     ]
    },
    {
     "name": "stdout",
     "output_type": "stream",
     "text": [
      "Epochs: 7 | Train Loss:  0.0122                 | Train F1:  0.8235                 | Val Loss:  0.0136                 | Val F1:  0.8021\n"
     ]
    },
    {
     "name": "stderr",
     "output_type": "stream",
     "text": [
      "100%|██████████| 2485/2485 [00:09<00:00, 275.07it/s]\n"
     ]
    },
    {
     "name": "stdout",
     "output_type": "stream",
     "text": [
      "Epochs: 8 | Train Loss:  0.0123                 | Train F1:  0.8211                 | Val Loss:  0.0126                 | Val F1:  0.8175\n"
     ]
    },
    {
     "name": "stderr",
     "output_type": "stream",
     "text": [
      "100%|██████████| 2485/2485 [00:09<00:00, 274.42it/s]\n"
     ]
    },
    {
     "name": "stdout",
     "output_type": "stream",
     "text": [
      "Epochs: 9 | Train Loss:  0.0122                 | Train F1:  0.8225                 | Val Loss:  0.0132                 | Val F1:  0.8195\n"
     ]
    },
    {
     "name": "stderr",
     "output_type": "stream",
     "text": [
      "100%|██████████| 2485/2485 [00:09<00:00, 274.47it/s]\n"
     ]
    },
    {
     "name": "stdout",
     "output_type": "stream",
     "text": [
      "Epochs: 10 | Train Loss:  0.0121                 | Train F1:  0.8249                 | Val Loss:  0.0135                 | Val F1:  0.7958\n",
      "Fold 2\n"
     ]
    },
    {
     "name": "stderr",
     "output_type": "stream",
     "text": [
      "100%|██████████| 2549/2549 [00:09<00:00, 274.70it/s]\n"
     ]
    },
    {
     "name": "stdout",
     "output_type": "stream",
     "text": [
      "Epochs: 1 | Train Loss:  0.0150                 | Train F1:  0.7946                 | Val Loss:  0.0106                 | Val F1:  0.8518\n"
     ]
    },
    {
     "name": "stderr",
     "output_type": "stream",
     "text": [
      "100%|██████████| 2549/2549 [00:09<00:00, 279.55it/s]\n"
     ]
    },
    {
     "name": "stdout",
     "output_type": "stream",
     "text": [
      "Epochs: 2 | Train Loss:  0.0131                 | Train F1:  0.8280                 | Val Loss:  0.0101                 | Val F1:  0.8614\n"
     ]
    },
    {
     "name": "stderr",
     "output_type": "stream",
     "text": [
      "100%|██████████| 2549/2549 [00:09<00:00, 275.34it/s]\n"
     ]
    },
    {
     "name": "stdout",
     "output_type": "stream",
     "text": [
      "Epochs: 3 | Train Loss:  0.0125                 | Train F1:  0.8382                 | Val Loss:  0.0105                 | Val F1:  0.8533\n"
     ]
    },
    {
     "name": "stderr",
     "output_type": "stream",
     "text": [
      "100%|██████████| 2549/2549 [00:09<00:00, 277.86it/s]\n"
     ]
    },
    {
     "name": "stdout",
     "output_type": "stream",
     "text": [
      "Epochs: 4 | Train Loss:  0.0122                 | Train F1:  0.8415                 | Val Loss:  0.0112                 | Val F1:  0.8383\n"
     ]
    },
    {
     "name": "stderr",
     "output_type": "stream",
     "text": [
      "100%|██████████| 2549/2549 [00:09<00:00, 275.56it/s]\n"
     ]
    },
    {
     "name": "stdout",
     "output_type": "stream",
     "text": [
      "Epochs: 5 | Train Loss:  0.0119                 | Train F1:  0.8462                 | Val Loss:  0.0107                 | Val F1:  0.8600\n"
     ]
    },
    {
     "name": "stderr",
     "output_type": "stream",
     "text": [
      "100%|██████████| 2549/2549 [00:09<00:00, 278.57it/s]\n"
     ]
    },
    {
     "name": "stdout",
     "output_type": "stream",
     "text": [
      "Epochs: 6 | Train Loss:  0.0117                 | Train F1:  0.8506                 | Val Loss:  0.0113                 | Val F1:  0.8495\n"
     ]
    },
    {
     "name": "stderr",
     "output_type": "stream",
     "text": [
      "100%|██████████| 2549/2549 [00:09<00:00, 275.22it/s]\n"
     ]
    },
    {
     "name": "stdout",
     "output_type": "stream",
     "text": [
      "Epochs: 7 | Train Loss:  0.0117                 | Train F1:  0.8513                 | Val Loss:  0.0113                 | Val F1:  0.8509\n"
     ]
    },
    {
     "name": "stderr",
     "output_type": "stream",
     "text": [
      "100%|██████████| 2549/2549 [00:09<00:00, 278.66it/s]\n"
     ]
    },
    {
     "name": "stdout",
     "output_type": "stream",
     "text": [
      "Epochs: 8 | Train Loss:  0.0116                 | Train F1:  0.8519                 | Val Loss:  0.0099                 | Val F1:  0.8694\n"
     ]
    },
    {
     "name": "stderr",
     "output_type": "stream",
     "text": [
      "100%|██████████| 2549/2549 [00:09<00:00, 275.57it/s]\n"
     ]
    },
    {
     "name": "stdout",
     "output_type": "stream",
     "text": [
      "Epochs: 9 | Train Loss:  0.0115                 | Train F1:  0.8530                 | Val Loss:  0.0107                 | Val F1:  0.8558\n"
     ]
    },
    {
     "name": "stderr",
     "output_type": "stream",
     "text": [
      "100%|██████████| 2549/2549 [00:09<00:00, 278.50it/s]\n"
     ]
    },
    {
     "name": "stdout",
     "output_type": "stream",
     "text": [
      "Epochs: 10 | Train Loss:  0.0115                 | Train F1:  0.8537                 | Val Loss:  0.0111                 | Val F1:  0.8593\n",
      "Fold 3\n"
     ]
    },
    {
     "name": "stderr",
     "output_type": "stream",
     "text": [
      "100%|██████████| 2499/2499 [00:09<00:00, 276.02it/s]\n"
     ]
    },
    {
     "name": "stdout",
     "output_type": "stream",
     "text": [
      "Epochs: 1 | Train Loss:  0.0154                 | Train F1:  0.7732                 | Val Loss:  0.0143                 | Val F1:  0.7867\n"
     ]
    },
    {
     "name": "stderr",
     "output_type": "stream",
     "text": [
      "100%|██████████| 2499/2499 [00:08<00:00, 278.44it/s]\n"
     ]
    },
    {
     "name": "stdout",
     "output_type": "stream",
     "text": [
      "Epochs: 2 | Train Loss:  0.0145                 | Train F1:  0.7988                 | Val Loss:  0.0140                 | Val F1:  0.7944\n"
     ]
    },
    {
     "name": "stderr",
     "output_type": "stream",
     "text": [
      "100%|██████████| 2499/2499 [00:09<00:00, 274.10it/s]\n"
     ]
    },
    {
     "name": "stdout",
     "output_type": "stream",
     "text": [
      "Epochs: 3 | Train Loss:  0.0139                 | Train F1:  0.8060                 | Val Loss:  0.0135                 | Val F1:  0.7927\n"
     ]
    },
    {
     "name": "stderr",
     "output_type": "stream",
     "text": [
      "100%|██████████| 2499/2499 [00:09<00:00, 276.29it/s]\n"
     ]
    },
    {
     "name": "stdout",
     "output_type": "stream",
     "text": [
      "Epochs: 4 | Train Loss:  0.0128                 | Train F1:  0.8188                 | Val Loss:  0.0139                 | Val F1:  0.7820\n"
     ]
    },
    {
     "name": "stderr",
     "output_type": "stream",
     "text": [
      "100%|██████████| 2499/2499 [00:09<00:00, 274.30it/s]\n"
     ]
    },
    {
     "name": "stdout",
     "output_type": "stream",
     "text": [
      "Epochs: 5 | Train Loss:  0.0126                 | Train F1:  0.8183                 | Val Loss:  0.0143                 | Val F1:  0.7725\n"
     ]
    },
    {
     "name": "stderr",
     "output_type": "stream",
     "text": [
      "100%|██████████| 2499/2499 [00:09<00:00, 276.75it/s]\n"
     ]
    },
    {
     "name": "stdout",
     "output_type": "stream",
     "text": [
      "Epochs: 6 | Train Loss:  0.0124                 | Train F1:  0.8229                 | Val Loss:  0.0133                 | Val F1:  0.7965\n"
     ]
    },
    {
     "name": "stderr",
     "output_type": "stream",
     "text": [
      "100%|██████████| 2499/2499 [00:09<00:00, 275.71it/s]\n"
     ]
    },
    {
     "name": "stdout",
     "output_type": "stream",
     "text": [
      "Epochs: 7 | Train Loss:  0.0122                 | Train F1:  0.8249                 | Val Loss:  0.0129                 | Val F1:  0.8046\n"
     ]
    },
    {
     "name": "stderr",
     "output_type": "stream",
     "text": [
      "100%|██████████| 2499/2499 [00:09<00:00, 277.19it/s]\n"
     ]
    },
    {
     "name": "stdout",
     "output_type": "stream",
     "text": [
      "Epochs: 8 | Train Loss:  0.0121                 | Train F1:  0.8267                 | Val Loss:  0.0143                 | Val F1:  0.7830\n"
     ]
    },
    {
     "name": "stderr",
     "output_type": "stream",
     "text": [
      "100%|██████████| 2499/2499 [00:09<00:00, 274.53it/s]\n"
     ]
    },
    {
     "name": "stdout",
     "output_type": "stream",
     "text": [
      "Epochs: 9 | Train Loss:  0.0121                 | Train F1:  0.8287                 | Val Loss:  0.0143                 | Val F1:  0.7898\n"
     ]
    },
    {
     "name": "stderr",
     "output_type": "stream",
     "text": [
      "100%|██████████| 2499/2499 [00:09<00:00, 277.34it/s]\n"
     ]
    },
    {
     "name": "stdout",
     "output_type": "stream",
     "text": [
      "Epochs: 10 | Train Loss:  0.0120                 | Train F1:  0.8297                 | Val Loss:  0.0147                 | Val F1:  0.7734\n",
      "Fold 4\n"
     ]
    },
    {
     "name": "stderr",
     "output_type": "stream",
     "text": [
      "100%|██████████| 2303/2303 [00:08<00:00, 276.35it/s]\n"
     ]
    },
    {
     "name": "stdout",
     "output_type": "stream",
     "text": [
      "Epochs: 1 | Train Loss:  0.0159                 | Train F1:  0.5112                 | Val Loss:  0.0150                 | Val F1:  0.7303\n"
     ]
    },
    {
     "name": "stderr",
     "output_type": "stream",
     "text": [
      "100%|██████████| 2303/2303 [00:08<00:00, 277.85it/s]\n"
     ]
    },
    {
     "name": "stdout",
     "output_type": "stream",
     "text": [
      "Epochs: 2 | Train Loss:  0.0151                 | Train F1:  0.5340                 | Val Loss:  0.0157                 | Val F1:  0.7304\n"
     ]
    },
    {
     "name": "stderr",
     "output_type": "stream",
     "text": [
      "100%|██████████| 2303/2303 [00:08<00:00, 278.41it/s]\n"
     ]
    },
    {
     "name": "stdout",
     "output_type": "stream",
     "text": [
      "Epochs: 3 | Train Loss:  0.0148                 | Train F1:  0.5360                 | Val Loss:  0.0169                 | Val F1:  0.6989\n"
     ]
    },
    {
     "name": "stderr",
     "output_type": "stream",
     "text": [
      "100%|██████████| 2303/2303 [00:08<00:00, 275.94it/s]\n"
     ]
    },
    {
     "name": "stdout",
     "output_type": "stream",
     "text": [
      "Epochs: 4 | Train Loss:  0.0146                 | Train F1:  0.5454                 | Val Loss:  0.0163                 | Val F1:  0.7090\n"
     ]
    },
    {
     "name": "stderr",
     "output_type": "stream",
     "text": [
      "100%|██████████| 2303/2303 [00:08<00:00, 277.41it/s]\n"
     ]
    },
    {
     "name": "stdout",
     "output_type": "stream",
     "text": [
      "Epochs: 5 | Train Loss:  0.0145                 | Train F1:  0.5428                 | Val Loss:  0.0174                 | Val F1:  0.6997\n"
     ]
    },
    {
     "name": "stderr",
     "output_type": "stream",
     "text": [
      "100%|██████████| 2303/2303 [00:08<00:00, 276.69it/s]\n"
     ]
    },
    {
     "name": "stdout",
     "output_type": "stream",
     "text": [
      "Epochs: 6 | Train Loss:  0.0144                 | Train F1:  0.5485                 | Val Loss:  0.0166                 | Val F1:  0.6968\n"
     ]
    },
    {
     "name": "stderr",
     "output_type": "stream",
     "text": [
      "100%|██████████| 2303/2303 [00:08<00:00, 277.91it/s]\n"
     ]
    },
    {
     "name": "stdout",
     "output_type": "stream",
     "text": [
      "Epochs: 7 | Train Loss:  0.0144                 | Train F1:  0.5528                 | Val Loss:  0.0169                 | Val F1:  0.6948\n"
     ]
    },
    {
     "name": "stderr",
     "output_type": "stream",
     "text": [
      "100%|██████████| 2303/2303 [00:08<00:00, 276.71it/s]\n"
     ]
    },
    {
     "name": "stdout",
     "output_type": "stream",
     "text": [
      "Epochs: 8 | Train Loss:  0.0142                 | Train F1:  0.5559                 | Val Loss:  0.0177                 | Val F1:  0.6968\n"
     ]
    },
    {
     "name": "stderr",
     "output_type": "stream",
     "text": [
      "100%|██████████| 2303/2303 [00:08<00:00, 277.07it/s]\n"
     ]
    },
    {
     "name": "stdout",
     "output_type": "stream",
     "text": [
      "Epochs: 9 | Train Loss:  0.0142                 | Train F1:  0.5570                 | Val Loss:  0.0180                 | Val F1:  0.7003\n"
     ]
    },
    {
     "name": "stderr",
     "output_type": "stream",
     "text": [
      "100%|██████████| 2303/2303 [00:08<00:00, 277.92it/s]\n",
      "\u001b[32m[I 2022-06-16 18:01:01,516]\u001b[0m Trial 9 finished with value: 0.7738168191770749 and parameters: {'learning_rate': 0.0057579620057640335, 'n_layers': 3, 'n_units_l0': 70, 'dropout_l0': 0.5, 'n_units_l1': 4, 'dropout_l1': 0.5, 'n_units_l2': 4, 'dropout_l2': 0.45}. Best is trial 4 with value: 0.8032755469937412.\u001b[0m\n"
     ]
    },
    {
     "name": "stdout",
     "output_type": "stream",
     "text": [
      "Epochs: 10 | Train Loss:  0.0141                 | Train F1:  0.5569                 | Val Loss:  0.0177                 | Val F1:  0.6886\n",
      "Fold 0\n"
     ]
    },
    {
     "name": "stderr",
     "output_type": "stream",
     "text": [
      "100%|██████████| 2399/2399 [00:08<00:00, 287.60it/s]\n"
     ]
    },
    {
     "name": "stdout",
     "output_type": "stream",
     "text": [
      "Epochs: 1 | Train Loss:  0.0102                 | Train F1:  0.8504                 | Val Loss:  0.0147                 | Val F1:  0.7619\n"
     ]
    },
    {
     "name": "stderr",
     "output_type": "stream",
     "text": [
      "100%|██████████| 2399/2399 [00:08<00:00, 286.25it/s]\n"
     ]
    },
    {
     "name": "stdout",
     "output_type": "stream",
     "text": [
      "Epochs: 2 | Train Loss:  0.0074                 | Train F1:  0.8963                 | Val Loss:  0.0150                 | Val F1:  0.7617\n"
     ]
    },
    {
     "name": "stderr",
     "output_type": "stream",
     "text": [
      "100%|██████████| 2399/2399 [00:08<00:00, 287.51it/s]\n"
     ]
    },
    {
     "name": "stdout",
     "output_type": "stream",
     "text": [
      "Epochs: 3 | Train Loss:  0.0064                 | Train F1:  0.9102                 | Val Loss:  0.0156                 | Val F1:  0.7634\n"
     ]
    },
    {
     "name": "stderr",
     "output_type": "stream",
     "text": [
      "100%|██████████| 2399/2399 [00:08<00:00, 283.71it/s]\n"
     ]
    },
    {
     "name": "stdout",
     "output_type": "stream",
     "text": [
      "Epochs: 4 | Train Loss:  0.0055                 | Train F1:  0.9252                 | Val Loss:  0.0169                 | Val F1:  0.7621\n"
     ]
    },
    {
     "name": "stderr",
     "output_type": "stream",
     "text": [
      "100%|██████████| 2399/2399 [00:08<00:00, 286.30it/s]\n"
     ]
    },
    {
     "name": "stdout",
     "output_type": "stream",
     "text": [
      "Epochs: 5 | Train Loss:  0.0045                 | Train F1:  0.9407                 | Val Loss:  0.0180                 | Val F1:  0.7625\n"
     ]
    },
    {
     "name": "stderr",
     "output_type": "stream",
     "text": [
      "100%|██████████| 2399/2399 [00:08<00:00, 285.90it/s]\n"
     ]
    },
    {
     "name": "stdout",
     "output_type": "stream",
     "text": [
      "Epochs: 6 | Train Loss:  0.0037                 | Train F1:  0.9535                 | Val Loss:  0.0190                 | Val F1:  0.7664\n"
     ]
    },
    {
     "name": "stderr",
     "output_type": "stream",
     "text": [
      "100%|██████████| 2399/2399 [00:08<00:00, 285.43it/s]\n"
     ]
    },
    {
     "name": "stdout",
     "output_type": "stream",
     "text": [
      "Epochs: 7 | Train Loss:  0.0030                 | Train F1:  0.9625                 | Val Loss:  0.0202                 | Val F1:  0.7616\n"
     ]
    },
    {
     "name": "stderr",
     "output_type": "stream",
     "text": [
      "100%|██████████| 2399/2399 [00:08<00:00, 284.80it/s]\n"
     ]
    },
    {
     "name": "stdout",
     "output_type": "stream",
     "text": [
      "Epochs: 8 | Train Loss:  0.0025                 | Train F1:  0.9700                 | Val Loss:  0.0228                 | Val F1:  0.7596\n"
     ]
    },
    {
     "name": "stderr",
     "output_type": "stream",
     "text": [
      "100%|██████████| 2399/2399 [00:08<00:00, 285.46it/s]\n"
     ]
    },
    {
     "name": "stdout",
     "output_type": "stream",
     "text": [
      "Epochs: 9 | Train Loss:  0.0022                 | Train F1:  0.9747                 | Val Loss:  0.0224                 | Val F1:  0.7592\n"
     ]
    },
    {
     "name": "stderr",
     "output_type": "stream",
     "text": [
      "100%|██████████| 2399/2399 [00:08<00:00, 286.96it/s]\n"
     ]
    },
    {
     "name": "stdout",
     "output_type": "stream",
     "text": [
      "Epochs: 10 | Train Loss:  0.0019                 | Train F1:  0.9782                 | Val Loss:  0.0262                 | Val F1:  0.7571\n",
      "Fold 1\n"
     ]
    },
    {
     "name": "stderr",
     "output_type": "stream",
     "text": [
      "100%|██████████| 2485/2485 [00:08<00:00, 285.84it/s]\n"
     ]
    },
    {
     "name": "stdout",
     "output_type": "stream",
     "text": [
      "Epochs: 1 | Train Loss:  0.0108                 | Train F1:  0.8363                 | Val Loss:  0.0099                 | Val F1:  0.8414\n"
     ]
    },
    {
     "name": "stderr",
     "output_type": "stream",
     "text": [
      "100%|██████████| 2485/2485 [00:08<00:00, 284.19it/s]\n"
     ]
    },
    {
     "name": "stdout",
     "output_type": "stream",
     "text": [
      "Epochs: 2 | Train Loss:  0.0077                 | Train F1:  0.8847                 | Val Loss:  0.0101                 | Val F1:  0.8379\n"
     ]
    },
    {
     "name": "stderr",
     "output_type": "stream",
     "text": [
      "100%|██████████| 2485/2485 [00:08<00:00, 285.86it/s]\n"
     ]
    },
    {
     "name": "stdout",
     "output_type": "stream",
     "text": [
      "Epochs: 3 | Train Loss:  0.0065                 | Train F1:  0.9061                 | Val Loss:  0.0111                 | Val F1:  0.8250\n"
     ]
    },
    {
     "name": "stderr",
     "output_type": "stream",
     "text": [
      "100%|██████████| 2485/2485 [00:08<00:00, 285.91it/s]\n"
     ]
    },
    {
     "name": "stdout",
     "output_type": "stream",
     "text": [
      "Epochs: 4 | Train Loss:  0.0054                 | Train F1:  0.9248                 | Val Loss:  0.0122                 | Val F1:  0.8073\n"
     ]
    },
    {
     "name": "stderr",
     "output_type": "stream",
     "text": [
      "100%|██████████| 2485/2485 [00:08<00:00, 286.34it/s]\n"
     ]
    },
    {
     "name": "stdout",
     "output_type": "stream",
     "text": [
      "Epochs: 5 | Train Loss:  0.0045                 | Train F1:  0.9407                 | Val Loss:  0.0129                 | Val F1:  0.8201\n"
     ]
    },
    {
     "name": "stderr",
     "output_type": "stream",
     "text": [
      "100%|██████████| 2485/2485 [00:08<00:00, 284.95it/s]\n"
     ]
    },
    {
     "name": "stdout",
     "output_type": "stream",
     "text": [
      "Epochs: 6 | Train Loss:  0.0038                 | Train F1:  0.9517                 | Val Loss:  0.0143                 | Val F1:  0.8113\n"
     ]
    },
    {
     "name": "stderr",
     "output_type": "stream",
     "text": [
      "100%|██████████| 2485/2485 [00:08<00:00, 284.94it/s]\n"
     ]
    },
    {
     "name": "stdout",
     "output_type": "stream",
     "text": [
      "Epochs: 7 | Train Loss:  0.0032                 | Train F1:  0.9599                 | Val Loss:  0.0147                 | Val F1:  0.8142\n"
     ]
    },
    {
     "name": "stderr",
     "output_type": "stream",
     "text": [
      "100%|██████████| 2485/2485 [00:08<00:00, 284.27it/s]\n"
     ]
    },
    {
     "name": "stdout",
     "output_type": "stream",
     "text": [
      "Epochs: 8 | Train Loss:  0.0027                 | Train F1:  0.9674                 | Val Loss:  0.0164                 | Val F1:  0.8037\n"
     ]
    },
    {
     "name": "stderr",
     "output_type": "stream",
     "text": [
      "100%|██████████| 2485/2485 [00:08<00:00, 283.88it/s]\n"
     ]
    },
    {
     "name": "stdout",
     "output_type": "stream",
     "text": [
      "Epochs: 9 | Train Loss:  0.0023                 | Train F1:  0.9715                 | Val Loss:  0.0175                 | Val F1:  0.8068\n"
     ]
    },
    {
     "name": "stderr",
     "output_type": "stream",
     "text": [
      "100%|██████████| 2485/2485 [00:08<00:00, 283.48it/s]\n"
     ]
    },
    {
     "name": "stdout",
     "output_type": "stream",
     "text": [
      "Epochs: 10 | Train Loss:  0.0021                 | Train F1:  0.9736                 | Val Loss:  0.0180                 | Val F1:  0.8013\n",
      "Fold 2\n"
     ]
    },
    {
     "name": "stderr",
     "output_type": "stream",
     "text": [
      "100%|██████████| 2549/2549 [00:08<00:00, 285.21it/s]\n"
     ]
    },
    {
     "name": "stdout",
     "output_type": "stream",
     "text": [
      "Epochs: 1 | Train Loss:  0.0112                 | Train F1:  0.8293                 | Val Loss:  0.0081                 | Val F1:  0.8605\n"
     ]
    },
    {
     "name": "stderr",
     "output_type": "stream",
     "text": [
      "100%|██████████| 2549/2549 [00:08<00:00, 286.44it/s]\n"
     ]
    },
    {
     "name": "stdout",
     "output_type": "stream",
     "text": [
      "Epochs: 2 | Train Loss:  0.0084                 | Train F1:  0.8771                 | Val Loss:  0.0078                 | Val F1:  0.8660\n"
     ]
    },
    {
     "name": "stderr",
     "output_type": "stream",
     "text": [
      "100%|██████████| 2549/2549 [00:08<00:00, 285.74it/s]\n"
     ]
    },
    {
     "name": "stdout",
     "output_type": "stream",
     "text": [
      "Epochs: 3 | Train Loss:  0.0072                 | Train F1:  0.8959                 | Val Loss:  0.0083                 | Val F1:  0.8617\n"
     ]
    },
    {
     "name": "stderr",
     "output_type": "stream",
     "text": [
      "100%|██████████| 2549/2549 [00:08<00:00, 284.37it/s]\n"
     ]
    },
    {
     "name": "stdout",
     "output_type": "stream",
     "text": [
      "Epochs: 4 | Train Loss:  0.0061                 | Train F1:  0.9157                 | Val Loss:  0.0085                 | Val F1:  0.8669\n"
     ]
    },
    {
     "name": "stderr",
     "output_type": "stream",
     "text": [
      "100%|██████████| 2549/2549 [00:08<00:00, 287.44it/s]\n"
     ]
    },
    {
     "name": "stdout",
     "output_type": "stream",
     "text": [
      "Epochs: 5 | Train Loss:  0.0051                 | Train F1:  0.9314                 | Val Loss:  0.0098                 | Val F1:  0.8605\n"
     ]
    },
    {
     "name": "stderr",
     "output_type": "stream",
     "text": [
      "100%|██████████| 2549/2549 [00:08<00:00, 285.93it/s]\n"
     ]
    },
    {
     "name": "stdout",
     "output_type": "stream",
     "text": [
      "Epochs: 6 | Train Loss:  0.0043                 | Train F1:  0.9431                 | Val Loss:  0.0098                 | Val F1:  0.8674\n"
     ]
    },
    {
     "name": "stderr",
     "output_type": "stream",
     "text": [
      "100%|██████████| 2549/2549 [00:08<00:00, 284.74it/s]\n"
     ]
    },
    {
     "name": "stdout",
     "output_type": "stream",
     "text": [
      "Epochs: 7 | Train Loss:  0.0037                 | Train F1:  0.9525                 | Val Loss:  0.0111                 | Val F1:  0.8601\n"
     ]
    },
    {
     "name": "stderr",
     "output_type": "stream",
     "text": [
      "100%|██████████| 2549/2549 [00:08<00:00, 286.86it/s]\n"
     ]
    },
    {
     "name": "stdout",
     "output_type": "stream",
     "text": [
      "Epochs: 8 | Train Loss:  0.0031                 | Train F1:  0.9603                 | Val Loss:  0.0112                 | Val F1:  0.8621\n"
     ]
    },
    {
     "name": "stderr",
     "output_type": "stream",
     "text": [
      "100%|██████████| 2549/2549 [00:08<00:00, 286.23it/s]\n"
     ]
    },
    {
     "name": "stdout",
     "output_type": "stream",
     "text": [
      "Epochs: 9 | Train Loss:  0.0027                 | Train F1:  0.9660                 | Val Loss:  0.0112                 | Val F1:  0.8672\n"
     ]
    },
    {
     "name": "stderr",
     "output_type": "stream",
     "text": [
      "100%|██████████| 2549/2549 [00:08<00:00, 285.13it/s]\n"
     ]
    },
    {
     "name": "stdout",
     "output_type": "stream",
     "text": [
      "Epochs: 10 | Train Loss:  0.0024                 | Train F1:  0.9699                 | Val Loss:  0.0120                 | Val F1:  0.8641\n",
      "Fold 3\n"
     ]
    },
    {
     "name": "stderr",
     "output_type": "stream",
     "text": [
      "100%|██████████| 2499/2499 [00:08<00:00, 287.03it/s]\n"
     ]
    },
    {
     "name": "stdout",
     "output_type": "stream",
     "text": [
      "Epochs: 1 | Train Loss:  0.0110                 | Train F1:  0.8177                 | Val Loss:  0.0138                 | Val F1:  0.7913\n"
     ]
    },
    {
     "name": "stderr",
     "output_type": "stream",
     "text": [
      "100%|██████████| 2499/2499 [00:08<00:00, 284.65it/s]\n"
     ]
    },
    {
     "name": "stdout",
     "output_type": "stream",
     "text": [
      "Epochs: 2 | Train Loss:  0.0076                 | Train F1:  0.8862                 | Val Loss:  0.0150                 | Val F1:  0.7751\n"
     ]
    },
    {
     "name": "stderr",
     "output_type": "stream",
     "text": [
      "100%|██████████| 2499/2499 [00:08<00:00, 285.55it/s]\n"
     ]
    },
    {
     "name": "stdout",
     "output_type": "stream",
     "text": [
      "Epochs: 3 | Train Loss:  0.0066                 | Train F1:  0.9035                 | Val Loss:  0.0165                 | Val F1:  0.7613\n"
     ]
    },
    {
     "name": "stderr",
     "output_type": "stream",
     "text": [
      "100%|██████████| 2499/2499 [00:08<00:00, 283.32it/s]\n"
     ]
    },
    {
     "name": "stdout",
     "output_type": "stream",
     "text": [
      "Epochs: 4 | Train Loss:  0.0057                 | Train F1:  0.9194                 | Val Loss:  0.0174                 | Val F1:  0.7669\n"
     ]
    },
    {
     "name": "stderr",
     "output_type": "stream",
     "text": [
      "100%|██████████| 2499/2499 [00:08<00:00, 284.67it/s]\n"
     ]
    },
    {
     "name": "stdout",
     "output_type": "stream",
     "text": [
      "Epochs: 5 | Train Loss:  0.0048                 | Train F1:  0.9333                 | Val Loss:  0.0179                 | Val F1:  0.7849\n"
     ]
    },
    {
     "name": "stderr",
     "output_type": "stream",
     "text": [
      "100%|██████████| 2499/2499 [00:08<00:00, 283.55it/s]\n"
     ]
    },
    {
     "name": "stdout",
     "output_type": "stream",
     "text": [
      "Epochs: 6 | Train Loss:  0.0041                 | Train F1:  0.9444                 | Val Loss:  0.0192                 | Val F1:  0.7773\n"
     ]
    },
    {
     "name": "stderr",
     "output_type": "stream",
     "text": [
      "100%|██████████| 2499/2499 [00:08<00:00, 285.32it/s]\n"
     ]
    },
    {
     "name": "stdout",
     "output_type": "stream",
     "text": [
      "Epochs: 7 | Train Loss:  0.0035                 | Train F1:  0.9542                 | Val Loss:  0.0207                 | Val F1:  0.7729\n"
     ]
    },
    {
     "name": "stderr",
     "output_type": "stream",
     "text": [
      "100%|██████████| 2499/2499 [00:08<00:00, 284.13it/s]\n"
     ]
    },
    {
     "name": "stdout",
     "output_type": "stream",
     "text": [
      "Epochs: 8 | Train Loss:  0.0030                 | Train F1:  0.9618                 | Val Loss:  0.0220                 | Val F1:  0.7694\n"
     ]
    },
    {
     "name": "stderr",
     "output_type": "stream",
     "text": [
      "100%|██████████| 2499/2499 [00:08<00:00, 285.85it/s]\n"
     ]
    },
    {
     "name": "stdout",
     "output_type": "stream",
     "text": [
      "Epochs: 9 | Train Loss:  0.0026                 | Train F1:  0.9676                 | Val Loss:  0.0225                 | Val F1:  0.7798\n"
     ]
    },
    {
     "name": "stderr",
     "output_type": "stream",
     "text": [
      "100%|██████████| 2499/2499 [00:08<00:00, 284.96it/s]\n"
     ]
    },
    {
     "name": "stdout",
     "output_type": "stream",
     "text": [
      "Epochs: 10 | Train Loss:  0.0023                 | Train F1:  0.9723                 | Val Loss:  0.0231                 | Val F1:  0.7826\n",
      "Fold 4\n"
     ]
    },
    {
     "name": "stderr",
     "output_type": "stream",
     "text": [
      "100%|██████████| 2303/2303 [00:08<00:00, 285.68it/s]\n"
     ]
    },
    {
     "name": "stdout",
     "output_type": "stream",
     "text": [
      "Epochs: 1 | Train Loss:  0.0097                 | Train F1:  0.8489                 | Val Loss:  0.0179                 | Val F1:  0.7304\n"
     ]
    },
    {
     "name": "stderr",
     "output_type": "stream",
     "text": [
      "100%|██████████| 2303/2303 [00:08<00:00, 286.09it/s]\n"
     ]
    },
    {
     "name": "stdout",
     "output_type": "stream",
     "text": [
      "Epochs: 2 | Train Loss:  0.0068                 | Train F1:  0.9018                 | Val Loss:  0.0183                 | Val F1:  0.7305\n"
     ]
    },
    {
     "name": "stderr",
     "output_type": "stream",
     "text": [
      "100%|██████████| 2303/2303 [00:07<00:00, 287.94it/s]\n"
     ]
    },
    {
     "name": "stdout",
     "output_type": "stream",
     "text": [
      "Epochs: 3 | Train Loss:  0.0059                 | Train F1:  0.9152                 | Val Loss:  0.0194                 | Val F1:  0.7217\n"
     ]
    },
    {
     "name": "stderr",
     "output_type": "stream",
     "text": [
      "100%|██████████| 2303/2303 [00:08<00:00, 287.33it/s]\n"
     ]
    },
    {
     "name": "stdout",
     "output_type": "stream",
     "text": [
      "Epochs: 4 | Train Loss:  0.0051                 | Train F1:  0.9288                 | Val Loss:  0.0212                 | Val F1:  0.7215\n"
     ]
    },
    {
     "name": "stderr",
     "output_type": "stream",
     "text": [
      "100%|██████████| 2303/2303 [00:08<00:00, 285.83it/s]\n"
     ]
    },
    {
     "name": "stdout",
     "output_type": "stream",
     "text": [
      "Epochs: 5 | Train Loss:  0.0042                 | Train F1:  0.9433                 | Val Loss:  0.0228                 | Val F1:  0.7081\n"
     ]
    },
    {
     "name": "stderr",
     "output_type": "stream",
     "text": [
      "100%|██████████| 2303/2303 [00:08<00:00, 284.63it/s]\n"
     ]
    },
    {
     "name": "stdout",
     "output_type": "stream",
     "text": [
      "Epochs: 6 | Train Loss:  0.0035                 | Train F1:  0.9537                 | Val Loss:  0.0253                 | Val F1:  0.7003\n"
     ]
    },
    {
     "name": "stderr",
     "output_type": "stream",
     "text": [
      "100%|██████████| 2303/2303 [00:08<00:00, 285.77it/s]\n"
     ]
    },
    {
     "name": "stdout",
     "output_type": "stream",
     "text": [
      "Epochs: 7 | Train Loss:  0.0029                 | Train F1:  0.9634                 | Val Loss:  0.0266                 | Val F1:  0.7159\n"
     ]
    },
    {
     "name": "stderr",
     "output_type": "stream",
     "text": [
      "100%|██████████| 2303/2303 [00:08<00:00, 285.53it/s]\n"
     ]
    },
    {
     "name": "stdout",
     "output_type": "stream",
     "text": [
      "Epochs: 8 | Train Loss:  0.0024                 | Train F1:  0.9703                 | Val Loss:  0.0286                 | Val F1:  0.7063\n"
     ]
    },
    {
     "name": "stderr",
     "output_type": "stream",
     "text": [
      "100%|██████████| 2303/2303 [00:08<00:00, 285.83it/s]\n"
     ]
    },
    {
     "name": "stdout",
     "output_type": "stream",
     "text": [
      "Epochs: 9 | Train Loss:  0.0020                 | Train F1:  0.9762                 | Val Loss:  0.0300                 | Val F1:  0.7125\n"
     ]
    },
    {
     "name": "stderr",
     "output_type": "stream",
     "text": [
      "100%|██████████| 2303/2303 [00:08<00:00, 285.19it/s]\n",
      "\u001b[32m[I 2022-06-16 18:08:59,954]\u001b[0m Trial 10 finished with value: 0.7816483637421164 and parameters: {'learning_rate': 0.0001666774926816642, 'n_layers': 3, 'n_units_l0': 45, 'dropout_l0': 0.2, 'n_units_l1': 38, 'dropout_l1': 0.35000000000000003, 'n_units_l2': 35, 'dropout_l2': 0.2}. Best is trial 4 with value: 0.8032755469937412.\u001b[0m\n"
     ]
    },
    {
     "name": "stdout",
     "output_type": "stream",
     "text": [
      "Epochs: 10 | Train Loss:  0.0017                 | Train F1:  0.9794                 | Val Loss:  0.0322                 | Val F1:  0.7032\n",
      "Fold 0\n"
     ]
    },
    {
     "name": "stderr",
     "output_type": "stream",
     "text": [
      "100%|██████████| 2399/2399 [00:06<00:00, 359.95it/s]\n"
     ]
    },
    {
     "name": "stdout",
     "output_type": "stream",
     "text": [
      "Epochs: 1 | Train Loss:  0.0203                 | Train F1:  0.7368                 | Val Loss:  0.0189                 | Val F1:  0.7789\n"
     ]
    },
    {
     "name": "stderr",
     "output_type": "stream",
     "text": [
      "100%|██████████| 2399/2399 [00:06<00:00, 360.64it/s]\n"
     ]
    },
    {
     "name": "stdout",
     "output_type": "stream",
     "text": [
      "Epochs: 2 | Train Loss:  0.0170                 | Train F1:  0.8204                 | Val Loss:  0.0163                 | Val F1:  0.7761\n"
     ]
    },
    {
     "name": "stderr",
     "output_type": "stream",
     "text": [
      "100%|██████████| 2399/2399 [00:06<00:00, 360.94it/s]\n"
     ]
    },
    {
     "name": "stdout",
     "output_type": "stream",
     "text": [
      "Epochs: 3 | Train Loss:  0.0143                 | Train F1:  0.8296                 | Val Loss:  0.0146                 | Val F1:  0.7746\n"
     ]
    },
    {
     "name": "stderr",
     "output_type": "stream",
     "text": [
      "100%|██████████| 2399/2399 [00:06<00:00, 359.43it/s]\n"
     ]
    },
    {
     "name": "stdout",
     "output_type": "stream",
     "text": [
      "Epochs: 4 | Train Loss:  0.0126                 | Train F1:  0.8369                 | Val Loss:  0.0137                 | Val F1:  0.7724\n"
     ]
    },
    {
     "name": "stderr",
     "output_type": "stream",
     "text": [
      "100%|██████████| 2399/2399 [00:06<00:00, 360.38it/s]\n"
     ]
    },
    {
     "name": "stdout",
     "output_type": "stream",
     "text": [
      "Epochs: 5 | Train Loss:  0.0115                 | Train F1:  0.8419                 | Val Loss:  0.0133                 | Val F1:  0.7718\n"
     ]
    },
    {
     "name": "stderr",
     "output_type": "stream",
     "text": [
      "100%|██████████| 2399/2399 [00:06<00:00, 359.81it/s]\n"
     ]
    },
    {
     "name": "stdout",
     "output_type": "stream",
     "text": [
      "Epochs: 6 | Train Loss:  0.0108                 | Train F1:  0.8467                 | Val Loss:  0.0131                 | Val F1:  0.7713\n"
     ]
    },
    {
     "name": "stderr",
     "output_type": "stream",
     "text": [
      "100%|██████████| 2399/2399 [00:06<00:00, 358.66it/s]\n"
     ]
    },
    {
     "name": "stdout",
     "output_type": "stream",
     "text": [
      "Epochs: 7 | Train Loss:  0.0103                 | Train F1:  0.8513                 | Val Loss:  0.0131                 | Val F1:  0.7706\n"
     ]
    },
    {
     "name": "stderr",
     "output_type": "stream",
     "text": [
      "100%|██████████| 2399/2399 [00:06<00:00, 359.14it/s]\n"
     ]
    },
    {
     "name": "stdout",
     "output_type": "stream",
     "text": [
      "Epochs: 8 | Train Loss:  0.0100                 | Train F1:  0.8544                 | Val Loss:  0.0131                 | Val F1:  0.7694\n"
     ]
    },
    {
     "name": "stderr",
     "output_type": "stream",
     "text": [
      "100%|██████████| 2399/2399 [00:06<00:00, 359.07it/s]\n"
     ]
    },
    {
     "name": "stdout",
     "output_type": "stream",
     "text": [
      "Epochs: 9 | Train Loss:  0.0097                 | Train F1:  0.8581                 | Val Loss:  0.0131                 | Val F1:  0.7700\n"
     ]
    },
    {
     "name": "stderr",
     "output_type": "stream",
     "text": [
      "100%|██████████| 2399/2399 [00:06<00:00, 358.81it/s]\n"
     ]
    },
    {
     "name": "stdout",
     "output_type": "stream",
     "text": [
      "Epochs: 10 | Train Loss:  0.0095                 | Train F1:  0.8604                 | Val Loss:  0.0132                 | Val F1:  0.7692\n",
      "Fold 1\n"
     ]
    },
    {
     "name": "stderr",
     "output_type": "stream",
     "text": [
      "100%|██████████| 2485/2485 [00:06<00:00, 359.29it/s]\n"
     ]
    },
    {
     "name": "stdout",
     "output_type": "stream",
     "text": [
      "Epochs: 1 | Train Loss:  0.0201                 | Train F1:  0.6550                 | Val Loss:  0.0182                 | Val F1:  0.7170\n"
     ]
    },
    {
     "name": "stderr",
     "output_type": "stream",
     "text": [
      "100%|██████████| 2485/2485 [00:06<00:00, 359.51it/s]\n"
     ]
    },
    {
     "name": "stdout",
     "output_type": "stream",
     "text": [
      "Epochs: 2 | Train Loss:  0.0169                 | Train F1:  0.7777                 | Val Loss:  0.0150                 | Val F1:  0.7559\n"
     ]
    },
    {
     "name": "stderr",
     "output_type": "stream",
     "text": [
      "100%|██████████| 2485/2485 [00:06<00:00, 359.14it/s]\n"
     ]
    },
    {
     "name": "stdout",
     "output_type": "stream",
     "text": [
      "Epochs: 3 | Train Loss:  0.0145                 | Train F1:  0.8009                 | Val Loss:  0.0130                 | Val F1:  0.7897\n"
     ]
    },
    {
     "name": "stderr",
     "output_type": "stream",
     "text": [
      "100%|██████████| 2485/2485 [00:06<00:00, 358.95it/s]\n"
     ]
    },
    {
     "name": "stdout",
     "output_type": "stream",
     "text": [
      "Epochs: 4 | Train Loss:  0.0129                 | Train F1:  0.8118                 | Val Loss:  0.0118                 | Val F1:  0.8030\n"
     ]
    },
    {
     "name": "stderr",
     "output_type": "stream",
     "text": [
      "100%|██████████| 2485/2485 [00:06<00:00, 358.41it/s]\n"
     ]
    },
    {
     "name": "stdout",
     "output_type": "stream",
     "text": [
      "Epochs: 5 | Train Loss:  0.0120                 | Train F1:  0.8194                 | Val Loss:  0.0111                 | Val F1:  0.8127\n"
     ]
    },
    {
     "name": "stderr",
     "output_type": "stream",
     "text": [
      "100%|██████████| 2485/2485 [00:06<00:00, 358.79it/s]\n"
     ]
    },
    {
     "name": "stdout",
     "output_type": "stream",
     "text": [
      "Epochs: 6 | Train Loss:  0.0114                 | Train F1:  0.8257                 | Val Loss:  0.0106                 | Val F1:  0.8207\n"
     ]
    },
    {
     "name": "stderr",
     "output_type": "stream",
     "text": [
      "100%|██████████| 2485/2485 [00:06<00:00, 359.40it/s]\n"
     ]
    },
    {
     "name": "stdout",
     "output_type": "stream",
     "text": [
      "Epochs: 7 | Train Loss:  0.0109                 | Train F1:  0.8313                 | Val Loss:  0.0103                 | Val F1:  0.8239\n"
     ]
    },
    {
     "name": "stderr",
     "output_type": "stream",
     "text": [
      "100%|██████████| 2485/2485 [00:06<00:00, 356.61it/s]\n"
     ]
    },
    {
     "name": "stdout",
     "output_type": "stream",
     "text": [
      "Epochs: 8 | Train Loss:  0.0106                 | Train F1:  0.8347                 | Val Loss:  0.0101                 | Val F1:  0.8282\n"
     ]
    },
    {
     "name": "stderr",
     "output_type": "stream",
     "text": [
      "100%|██████████| 2485/2485 [00:06<00:00, 359.40it/s]\n"
     ]
    },
    {
     "name": "stdout",
     "output_type": "stream",
     "text": [
      "Epochs: 9 | Train Loss:  0.0104                 | Train F1:  0.8379                 | Val Loss:  0.0100                 | Val F1:  0.8311\n"
     ]
    },
    {
     "name": "stderr",
     "output_type": "stream",
     "text": [
      "100%|██████████| 2485/2485 [00:06<00:00, 357.72it/s]\n"
     ]
    },
    {
     "name": "stdout",
     "output_type": "stream",
     "text": [
      "Epochs: 10 | Train Loss:  0.0102                 | Train F1:  0.8404                 | Val Loss:  0.0099                 | Val F1:  0.8327\n",
      "Fold 2\n"
     ]
    },
    {
     "name": "stderr",
     "output_type": "stream",
     "text": [
      "100%|██████████| 2549/2549 [00:07<00:00, 358.25it/s]\n"
     ]
    },
    {
     "name": "stdout",
     "output_type": "stream",
     "text": [
      "Epochs: 1 | Train Loss:  0.0204                 | Train F1:  0.7505                 | Val Loss:  0.0177                 | Val F1:  0.8695\n"
     ]
    },
    {
     "name": "stderr",
     "output_type": "stream",
     "text": [
      "100%|██████████| 2549/2549 [00:07<00:00, 359.20it/s]\n"
     ]
    },
    {
     "name": "stdout",
     "output_type": "stream",
     "text": [
      "Epochs: 2 | Train Loss:  0.0172                 | Train F1:  0.8077                 | Val Loss:  0.0141                 | Val F1:  0.8723\n"
     ]
    },
    {
     "name": "stderr",
     "output_type": "stream",
     "text": [
      "100%|██████████| 2549/2549 [00:07<00:00, 360.57it/s]\n"
     ]
    },
    {
     "name": "stdout",
     "output_type": "stream",
     "text": [
      "Epochs: 3 | Train Loss:  0.0148                 | Train F1:  0.8101                 | Val Loss:  0.0117                 | Val F1:  0.8724\n"
     ]
    },
    {
     "name": "stderr",
     "output_type": "stream",
     "text": [
      "100%|██████████| 2549/2549 [00:07<00:00, 357.73it/s]\n"
     ]
    },
    {
     "name": "stdout",
     "output_type": "stream",
     "text": [
      "Epochs: 4 | Train Loss:  0.0133                 | Train F1:  0.8140                 | Val Loss:  0.0104                 | Val F1:  0.8722\n"
     ]
    },
    {
     "name": "stderr",
     "output_type": "stream",
     "text": [
      "100%|██████████| 2549/2549 [00:07<00:00, 358.41it/s]\n"
     ]
    },
    {
     "name": "stdout",
     "output_type": "stream",
     "text": [
      "Epochs: 5 | Train Loss:  0.0124                 | Train F1:  0.8200                 | Val Loss:  0.0096                 | Val F1:  0.8705\n"
     ]
    },
    {
     "name": "stderr",
     "output_type": "stream",
     "text": [
      "100%|██████████| 2549/2549 [00:07<00:00, 356.13it/s]\n"
     ]
    },
    {
     "name": "stdout",
     "output_type": "stream",
     "text": [
      "Epochs: 6 | Train Loss:  0.0118                 | Train F1:  0.8235                 | Val Loss:  0.0091                 | Val F1:  0.8690\n"
     ]
    },
    {
     "name": "stderr",
     "output_type": "stream",
     "text": [
      "100%|██████████| 2549/2549 [00:07<00:00, 357.22it/s]\n"
     ]
    },
    {
     "name": "stdout",
     "output_type": "stream",
     "text": [
      "Epochs: 7 | Train Loss:  0.0114                 | Train F1:  0.8286                 | Val Loss:  0.0088                 | Val F1:  0.8675\n"
     ]
    },
    {
     "name": "stderr",
     "output_type": "stream",
     "text": [
      "100%|██████████| 2549/2549 [00:07<00:00, 359.29it/s]\n"
     ]
    },
    {
     "name": "stdout",
     "output_type": "stream",
     "text": [
      "Epochs: 8 | Train Loss:  0.0111                 | Train F1:  0.8317                 | Val Loss:  0.0086                 | Val F1:  0.8663\n"
     ]
    },
    {
     "name": "stderr",
     "output_type": "stream",
     "text": [
      "100%|██████████| 2549/2549 [00:07<00:00, 358.38it/s]\n"
     ]
    },
    {
     "name": "stdout",
     "output_type": "stream",
     "text": [
      "Epochs: 9 | Train Loss:  0.0108                 | Train F1:  0.8361                 | Val Loss:  0.0085                 | Val F1:  0.8655\n"
     ]
    },
    {
     "name": "stderr",
     "output_type": "stream",
     "text": [
      "100%|██████████| 2549/2549 [00:07<00:00, 360.41it/s]\n"
     ]
    },
    {
     "name": "stdout",
     "output_type": "stream",
     "text": [
      "Epochs: 10 | Train Loss:  0.0107                 | Train F1:  0.8377                 | Val Loss:  0.0084                 | Val F1:  0.8655\n",
      "Fold 3\n"
     ]
    },
    {
     "name": "stderr",
     "output_type": "stream",
     "text": [
      "100%|██████████| 2499/2499 [00:06<00:00, 360.15it/s]\n"
     ]
    },
    {
     "name": "stdout",
     "output_type": "stream",
     "text": [
      "Epochs: 1 | Train Loss:  0.0204                 | Train F1:  0.6976                 | Val Loss:  0.0189                 | Val F1:  0.8126\n"
     ]
    },
    {
     "name": "stderr",
     "output_type": "stream",
     "text": [
      "100%|██████████| 2499/2499 [00:06<00:00, 357.33it/s]\n"
     ]
    },
    {
     "name": "stdout",
     "output_type": "stream",
     "text": [
      "Epochs: 2 | Train Loss:  0.0167                 | Train F1:  0.7942                 | Val Loss:  0.0161                 | Val F1:  0.7985\n"
     ]
    },
    {
     "name": "stderr",
     "output_type": "stream",
     "text": [
      "100%|██████████| 2499/2499 [00:06<00:00, 359.35it/s]\n"
     ]
    },
    {
     "name": "stdout",
     "output_type": "stream",
     "text": [
      "Epochs: 3 | Train Loss:  0.0142                 | Train F1:  0.8000                 | Val Loss:  0.0143                 | Val F1:  0.8035\n"
     ]
    },
    {
     "name": "stderr",
     "output_type": "stream",
     "text": [
      "100%|██████████| 2499/2499 [00:06<00:00, 358.15it/s]\n"
     ]
    },
    {
     "name": "stdout",
     "output_type": "stream",
     "text": [
      "Epochs: 4 | Train Loss:  0.0126                 | Train F1:  0.8091                 | Val Loss:  0.0131                 | Val F1:  0.8122\n"
     ]
    },
    {
     "name": "stderr",
     "output_type": "stream",
     "text": [
      "100%|██████████| 2499/2499 [00:06<00:00, 359.83it/s]\n"
     ]
    },
    {
     "name": "stdout",
     "output_type": "stream",
     "text": [
      "Epochs: 5 | Train Loss:  0.0117                 | Train F1:  0.8178                 | Val Loss:  0.0124                 | Val F1:  0.8197\n"
     ]
    },
    {
     "name": "stderr",
     "output_type": "stream",
     "text": [
      "100%|██████████| 2499/2499 [00:06<00:00, 359.95it/s]\n"
     ]
    },
    {
     "name": "stdout",
     "output_type": "stream",
     "text": [
      "Epochs: 6 | Train Loss:  0.0111                 | Train F1:  0.8241                 | Val Loss:  0.0120                 | Val F1:  0.8229\n"
     ]
    },
    {
     "name": "stderr",
     "output_type": "stream",
     "text": [
      "100%|██████████| 2499/2499 [00:06<00:00, 359.46it/s]\n"
     ]
    },
    {
     "name": "stdout",
     "output_type": "stream",
     "text": [
      "Epochs: 7 | Train Loss:  0.0107                 | Train F1:  0.8299                 | Val Loss:  0.0117                 | Val F1:  0.8234\n"
     ]
    },
    {
     "name": "stderr",
     "output_type": "stream",
     "text": [
      "100%|██████████| 2499/2499 [00:06<00:00, 359.29it/s]\n"
     ]
    },
    {
     "name": "stdout",
     "output_type": "stream",
     "text": [
      "Epochs: 8 | Train Loss:  0.0103                 | Train F1:  0.8351                 | Val Loss:  0.0116                 | Val F1:  0.8232\n"
     ]
    },
    {
     "name": "stderr",
     "output_type": "stream",
     "text": [
      "100%|██████████| 2499/2499 [00:06<00:00, 358.63it/s]\n"
     ]
    },
    {
     "name": "stdout",
     "output_type": "stream",
     "text": [
      "Epochs: 9 | Train Loss:  0.0101                 | Train F1:  0.8390                 | Val Loss:  0.0116                 | Val F1:  0.8238\n"
     ]
    },
    {
     "name": "stderr",
     "output_type": "stream",
     "text": [
      "100%|██████████| 2499/2499 [00:07<00:00, 356.44it/s]\n"
     ]
    },
    {
     "name": "stdout",
     "output_type": "stream",
     "text": [
      "Epochs: 10 | Train Loss:  0.0099                 | Train F1:  0.8422                 | Val Loss:  0.0115                 | Val F1:  0.8237\n",
      "Fold 4\n"
     ]
    },
    {
     "name": "stderr",
     "output_type": "stream",
     "text": [
      "100%|██████████| 2303/2303 [00:06<00:00, 361.32it/s]\n"
     ]
    },
    {
     "name": "stdout",
     "output_type": "stream",
     "text": [
      "Epochs: 1 | Train Loss:  0.0203                 | Train F1:  0.7262                 | Val Loss:  0.0197                 | Val F1:  0.7096\n"
     ]
    },
    {
     "name": "stderr",
     "output_type": "stream",
     "text": [
      "100%|██████████| 2303/2303 [00:06<00:00, 361.79it/s]\n"
     ]
    },
    {
     "name": "stdout",
     "output_type": "stream",
     "text": [
      "Epochs: 2 | Train Loss:  0.0167                 | Train F1:  0.8102                 | Val Loss:  0.0177                 | Val F1:  0.7113\n"
     ]
    },
    {
     "name": "stderr",
     "output_type": "stream",
     "text": [
      "100%|██████████| 2303/2303 [00:06<00:00, 361.00it/s]\n"
     ]
    },
    {
     "name": "stdout",
     "output_type": "stream",
     "text": [
      "Epochs: 3 | Train Loss:  0.0140                 | Train F1:  0.8200                 | Val Loss:  0.0164                 | Val F1:  0.7234\n"
     ]
    },
    {
     "name": "stderr",
     "output_type": "stream",
     "text": [
      "100%|██████████| 2303/2303 [00:06<00:00, 358.84it/s]\n"
     ]
    },
    {
     "name": "stdout",
     "output_type": "stream",
     "text": [
      "Epochs: 4 | Train Loss:  0.0122                 | Train F1:  0.8350                 | Val Loss:  0.0157                 | Val F1:  0.7326\n"
     ]
    },
    {
     "name": "stderr",
     "output_type": "stream",
     "text": [
      "100%|██████████| 2303/2303 [00:06<00:00, 360.48it/s]\n"
     ]
    },
    {
     "name": "stdout",
     "output_type": "stream",
     "text": [
      "Epochs: 5 | Train Loss:  0.0110                 | Train F1:  0.8450                 | Val Loss:  0.0154                 | Val F1:  0.7376\n"
     ]
    },
    {
     "name": "stderr",
     "output_type": "stream",
     "text": [
      "100%|██████████| 2303/2303 [00:06<00:00, 361.25it/s]\n"
     ]
    },
    {
     "name": "stdout",
     "output_type": "stream",
     "text": [
      "Epochs: 6 | Train Loss:  0.0103                 | Train F1:  0.8498                 | Val Loss:  0.0153                 | Val F1:  0.7387\n"
     ]
    },
    {
     "name": "stderr",
     "output_type": "stream",
     "text": [
      "100%|██████████| 2303/2303 [00:06<00:00, 359.42it/s]\n"
     ]
    },
    {
     "name": "stdout",
     "output_type": "stream",
     "text": [
      "Epochs: 7 | Train Loss:  0.0098                 | Train F1:  0.8542                 | Val Loss:  0.0153                 | Val F1:  0.7406\n"
     ]
    },
    {
     "name": "stderr",
     "output_type": "stream",
     "text": [
      "100%|██████████| 2303/2303 [00:06<00:00, 358.88it/s]\n"
     ]
    },
    {
     "name": "stdout",
     "output_type": "stream",
     "text": [
      "Epochs: 8 | Train Loss:  0.0094                 | Train F1:  0.8591                 | Val Loss:  0.0154                 | Val F1:  0.7403\n"
     ]
    },
    {
     "name": "stderr",
     "output_type": "stream",
     "text": [
      "100%|██████████| 2303/2303 [00:06<00:00, 359.87it/s]\n"
     ]
    },
    {
     "name": "stdout",
     "output_type": "stream",
     "text": [
      "Epochs: 9 | Train Loss:  0.0092                 | Train F1:  0.8610                 | Val Loss:  0.0155                 | Val F1:  0.7402\n"
     ]
    },
    {
     "name": "stderr",
     "output_type": "stream",
     "text": [
      "100%|██████████| 2303/2303 [00:06<00:00, 360.84it/s]\n",
      "\u001b[32m[I 2022-06-16 18:15:25,508]\u001b[0m Trial 11 finished with value: 0.8061839064167924 and parameters: {'learning_rate': 1.123124276074513e-05, 'n_layers': 1, 'n_units_l0': 50, 'dropout_l0': 0.4}. Best is trial 11 with value: 0.8061839064167924.\u001b[0m\n"
     ]
    },
    {
     "name": "stdout",
     "output_type": "stream",
     "text": [
      "Epochs: 10 | Train Loss:  0.0090                 | Train F1:  0.8639                 | Val Loss:  0.0157                 | Val F1:  0.7397\n",
      "Fold 0\n"
     ]
    },
    {
     "name": "stderr",
     "output_type": "stream",
     "text": [
      "100%|██████████| 2399/2399 [00:06<00:00, 360.24it/s]\n"
     ]
    },
    {
     "name": "stdout",
     "output_type": "stream",
     "text": [
      "Epochs: 1 | Train Loss:  0.0202                 | Train F1:  0.6144                 | Val Loss:  0.0187                 | Val F1:  0.7774\n"
     ]
    },
    {
     "name": "stderr",
     "output_type": "stream",
     "text": [
      "100%|██████████| 2399/2399 [00:06<00:00, 360.96it/s]\n"
     ]
    },
    {
     "name": "stdout",
     "output_type": "stream",
     "text": [
      "Epochs: 2 | Train Loss:  0.0168                 | Train F1:  0.8157                 | Val Loss:  0.0160                 | Val F1:  0.7767\n"
     ]
    },
    {
     "name": "stderr",
     "output_type": "stream",
     "text": [
      "100%|██████████| 2399/2399 [00:06<00:00, 361.61it/s]\n"
     ]
    },
    {
     "name": "stdout",
     "output_type": "stream",
     "text": [
      "Epochs: 3 | Train Loss:  0.0142                 | Train F1:  0.8287                 | Val Loss:  0.0145                 | Val F1:  0.7747\n"
     ]
    },
    {
     "name": "stderr",
     "output_type": "stream",
     "text": [
      "100%|██████████| 2399/2399 [00:06<00:00, 355.35it/s]\n"
     ]
    },
    {
     "name": "stdout",
     "output_type": "stream",
     "text": [
      "Epochs: 4 | Train Loss:  0.0125                 | Train F1:  0.8361                 | Val Loss:  0.0136                 | Val F1:  0.7734\n"
     ]
    },
    {
     "name": "stderr",
     "output_type": "stream",
     "text": [
      "100%|██████████| 2399/2399 [00:06<00:00, 362.48it/s]\n"
     ]
    },
    {
     "name": "stdout",
     "output_type": "stream",
     "text": [
      "Epochs: 5 | Train Loss:  0.0114                 | Train F1:  0.8426                 | Val Loss:  0.0133                 | Val F1:  0.7727\n"
     ]
    },
    {
     "name": "stderr",
     "output_type": "stream",
     "text": [
      "100%|██████████| 2399/2399 [00:06<00:00, 358.76it/s]\n"
     ]
    },
    {
     "name": "stdout",
     "output_type": "stream",
     "text": [
      "Epochs: 6 | Train Loss:  0.0107                 | Train F1:  0.8474                 | Val Loss:  0.0131                 | Val F1:  0.7715\n"
     ]
    },
    {
     "name": "stderr",
     "output_type": "stream",
     "text": [
      "100%|██████████| 2399/2399 [00:06<00:00, 360.42it/s]\n"
     ]
    },
    {
     "name": "stdout",
     "output_type": "stream",
     "text": [
      "Epochs: 7 | Train Loss:  0.0103                 | Train F1:  0.8512                 | Val Loss:  0.0131                 | Val F1:  0.7708\n"
     ]
    },
    {
     "name": "stderr",
     "output_type": "stream",
     "text": [
      "100%|██████████| 2399/2399 [00:06<00:00, 361.95it/s]\n"
     ]
    },
    {
     "name": "stdout",
     "output_type": "stream",
     "text": [
      "Epochs: 8 | Train Loss:  0.0099                 | Train F1:  0.8548                 | Val Loss:  0.0131                 | Val F1:  0.7690\n"
     ]
    },
    {
     "name": "stderr",
     "output_type": "stream",
     "text": [
      "100%|██████████| 2399/2399 [00:06<00:00, 359.57it/s]\n"
     ]
    },
    {
     "name": "stdout",
     "output_type": "stream",
     "text": [
      "Epochs: 9 | Train Loss:  0.0097                 | Train F1:  0.8584                 | Val Loss:  0.0131                 | Val F1:  0.7696\n"
     ]
    },
    {
     "name": "stderr",
     "output_type": "stream",
     "text": [
      "100%|██████████| 2399/2399 [00:06<00:00, 360.42it/s]\n"
     ]
    },
    {
     "name": "stdout",
     "output_type": "stream",
     "text": [
      "Epochs: 10 | Train Loss:  0.0095                 | Train F1:  0.8606                 | Val Loss:  0.0131                 | Val F1:  0.7696\n",
      "Fold 1\n"
     ]
    },
    {
     "name": "stderr",
     "output_type": "stream",
     "text": [
      "100%|██████████| 2485/2485 [00:06<00:00, 359.43it/s]\n"
     ]
    },
    {
     "name": "stdout",
     "output_type": "stream",
     "text": [
      "Epochs: 1 | Train Loss:  0.0204                 | Train F1:  0.7107                 | Val Loss:  0.0183                 | Val F1:  0.8059\n"
     ]
    },
    {
     "name": "stderr",
     "output_type": "stream",
     "text": [
      "100%|██████████| 2485/2485 [00:06<00:00, 360.01it/s]\n"
     ]
    },
    {
     "name": "stdout",
     "output_type": "stream",
     "text": [
      "Epochs: 2 | Train Loss:  0.0170                 | Train F1:  0.7998                 | Val Loss:  0.0151                 | Val F1:  0.7921\n"
     ]
    },
    {
     "name": "stderr",
     "output_type": "stream",
     "text": [
      "100%|██████████| 2485/2485 [00:06<00:00, 359.47it/s]\n"
     ]
    },
    {
     "name": "stdout",
     "output_type": "stream",
     "text": [
      "Epochs: 3 | Train Loss:  0.0145                 | Train F1:  0.8045                 | Val Loss:  0.0130                 | Val F1:  0.7987\n"
     ]
    },
    {
     "name": "stderr",
     "output_type": "stream",
     "text": [
      "100%|██████████| 2485/2485 [00:06<00:00, 358.67it/s]\n"
     ]
    },
    {
     "name": "stdout",
     "output_type": "stream",
     "text": [
      "Epochs: 4 | Train Loss:  0.0130                 | Train F1:  0.8131                 | Val Loss:  0.0118                 | Val F1:  0.8079\n"
     ]
    },
    {
     "name": "stderr",
     "output_type": "stream",
     "text": [
      "100%|██████████| 2485/2485 [00:06<00:00, 359.39it/s]\n"
     ]
    },
    {
     "name": "stdout",
     "output_type": "stream",
     "text": [
      "Epochs: 5 | Train Loss:  0.0120                 | Train F1:  0.8199                 | Val Loss:  0.0111                 | Val F1:  0.8150\n"
     ]
    },
    {
     "name": "stderr",
     "output_type": "stream",
     "text": [
      "100%|██████████| 2485/2485 [00:06<00:00, 359.07it/s]\n"
     ]
    },
    {
     "name": "stdout",
     "output_type": "stream",
     "text": [
      "Epochs: 6 | Train Loss:  0.0114                 | Train F1:  0.8243                 | Val Loss:  0.0106                 | Val F1:  0.8216\n"
     ]
    },
    {
     "name": "stderr",
     "output_type": "stream",
     "text": [
      "100%|██████████| 2485/2485 [00:06<00:00, 358.29it/s]\n"
     ]
    },
    {
     "name": "stdout",
     "output_type": "stream",
     "text": [
      "Epochs: 7 | Train Loss:  0.0110                 | Train F1:  0.8290                 | Val Loss:  0.0104                 | Val F1:  0.8244\n"
     ]
    },
    {
     "name": "stderr",
     "output_type": "stream",
     "text": [
      "100%|██████████| 2485/2485 [00:06<00:00, 359.48it/s]\n"
     ]
    },
    {
     "name": "stdout",
     "output_type": "stream",
     "text": [
      "Epochs: 8 | Train Loss:  0.0107                 | Train F1:  0.8337                 | Val Loss:  0.0102                 | Val F1:  0.8281\n"
     ]
    },
    {
     "name": "stderr",
     "output_type": "stream",
     "text": [
      "100%|██████████| 2485/2485 [00:06<00:00, 358.25it/s]\n"
     ]
    },
    {
     "name": "stdout",
     "output_type": "stream",
     "text": [
      "Epochs: 9 | Train Loss:  0.0105                 | Train F1:  0.8365                 | Val Loss:  0.0100                 | Val F1:  0.8314\n"
     ]
    },
    {
     "name": "stderr",
     "output_type": "stream",
     "text": [
      "100%|██████████| 2485/2485 [00:06<00:00, 359.18it/s]\n"
     ]
    },
    {
     "name": "stdout",
     "output_type": "stream",
     "text": [
      "Epochs: 10 | Train Loss:  0.0103                 | Train F1:  0.8390                 | Val Loss:  0.0099                 | Val F1:  0.8331\n",
      "Fold 2\n"
     ]
    },
    {
     "name": "stderr",
     "output_type": "stream",
     "text": [
      "100%|██████████| 2549/2549 [00:07<00:00, 360.86it/s]\n"
     ]
    },
    {
     "name": "stdout",
     "output_type": "stream",
     "text": [
      "Epochs: 1 | Train Loss:  0.0205                 | Train F1:  0.7473                 | Val Loss:  0.0181                 | Val F1:  0.8664\n"
     ]
    },
    {
     "name": "stderr",
     "output_type": "stream",
     "text": [
      "100%|██████████| 2549/2549 [00:07<00:00, 360.92it/s]\n"
     ]
    },
    {
     "name": "stdout",
     "output_type": "stream",
     "text": [
      "Epochs: 2 | Train Loss:  0.0175                 | Train F1:  0.7921                 | Val Loss:  0.0143                 | Val F1:  0.8676\n"
     ]
    },
    {
     "name": "stderr",
     "output_type": "stream",
     "text": [
      "100%|██████████| 2549/2549 [00:07<00:00, 361.51it/s]\n"
     ]
    },
    {
     "name": "stdout",
     "output_type": "stream",
     "text": [
      "Epochs: 3 | Train Loss:  0.0150                 | Train F1:  0.7998                 | Val Loss:  0.0118                 | Val F1:  0.8698\n"
     ]
    },
    {
     "name": "stderr",
     "output_type": "stream",
     "text": [
      "100%|██████████| 2549/2549 [00:07<00:00, 359.28it/s]\n"
     ]
    },
    {
     "name": "stdout",
     "output_type": "stream",
     "text": [
      "Epochs: 4 | Train Loss:  0.0134                 | Train F1:  0.8075                 | Val Loss:  0.0103                 | Val F1:  0.8705\n"
     ]
    },
    {
     "name": "stderr",
     "output_type": "stream",
     "text": [
      "100%|██████████| 2549/2549 [00:07<00:00, 357.91it/s]\n"
     ]
    },
    {
     "name": "stdout",
     "output_type": "stream",
     "text": [
      "Epochs: 5 | Train Loss:  0.0124                 | Train F1:  0.8157                 | Val Loss:  0.0094                 | Val F1:  0.8701\n"
     ]
    },
    {
     "name": "stderr",
     "output_type": "stream",
     "text": [
      "100%|██████████| 2549/2549 [00:07<00:00, 358.12it/s]\n"
     ]
    },
    {
     "name": "stdout",
     "output_type": "stream",
     "text": [
      "Epochs: 6 | Train Loss:  0.0118                 | Train F1:  0.8210                 | Val Loss:  0.0090                 | Val F1:  0.8685\n"
     ]
    },
    {
     "name": "stderr",
     "output_type": "stream",
     "text": [
      "100%|██████████| 2549/2549 [00:07<00:00, 359.36it/s]\n"
     ]
    },
    {
     "name": "stdout",
     "output_type": "stream",
     "text": [
      "Epochs: 7 | Train Loss:  0.0114                 | Train F1:  0.8263                 | Val Loss:  0.0087                 | Val F1:  0.8669\n"
     ]
    },
    {
     "name": "stderr",
     "output_type": "stream",
     "text": [
      "100%|██████████| 2549/2549 [00:07<00:00, 359.50it/s]\n"
     ]
    },
    {
     "name": "stdout",
     "output_type": "stream",
     "text": [
      "Epochs: 8 | Train Loss:  0.0111                 | Train F1:  0.8307                 | Val Loss:  0.0085                 | Val F1:  0.8665\n"
     ]
    },
    {
     "name": "stderr",
     "output_type": "stream",
     "text": [
      "100%|██████████| 2549/2549 [00:07<00:00, 360.52it/s]\n"
     ]
    },
    {
     "name": "stdout",
     "output_type": "stream",
     "text": [
      "Epochs: 9 | Train Loss:  0.0108                 | Train F1:  0.8347                 | Val Loss:  0.0084                 | Val F1:  0.8665\n"
     ]
    },
    {
     "name": "stderr",
     "output_type": "stream",
     "text": [
      "100%|██████████| 2549/2549 [00:07<00:00, 359.05it/s]\n"
     ]
    },
    {
     "name": "stdout",
     "output_type": "stream",
     "text": [
      "Epochs: 10 | Train Loss:  0.0106                 | Train F1:  0.8373                 | Val Loss:  0.0083                 | Val F1:  0.8658\n",
      "Fold 3\n"
     ]
    },
    {
     "name": "stderr",
     "output_type": "stream",
     "text": [
      "100%|██████████| 2499/2499 [00:06<00:00, 360.25it/s]\n"
     ]
    },
    {
     "name": "stdout",
     "output_type": "stream",
     "text": [
      "Epochs: 1 | Train Loss:  0.0203                 | Train F1:  0.7455                 | Val Loss:  0.0191                 | Val F1:  0.7756\n"
     ]
    },
    {
     "name": "stderr",
     "output_type": "stream",
     "text": [
      "100%|██████████| 2499/2499 [00:06<00:00, 359.03it/s]\n"
     ]
    },
    {
     "name": "stdout",
     "output_type": "stream",
     "text": [
      "Epochs: 2 | Train Loss:  0.0170                 | Train F1:  0.7818                 | Val Loss:  0.0164                 | Val F1:  0.7902\n"
     ]
    },
    {
     "name": "stderr",
     "output_type": "stream",
     "text": [
      "100%|██████████| 2499/2499 [00:06<00:00, 361.22it/s]\n"
     ]
    },
    {
     "name": "stdout",
     "output_type": "stream",
     "text": [
      "Epochs: 3 | Train Loss:  0.0144                 | Train F1:  0.7970                 | Val Loss:  0.0144                 | Val F1:  0.8042\n"
     ]
    },
    {
     "name": "stderr",
     "output_type": "stream",
     "text": [
      "100%|██████████| 2499/2499 [00:06<00:00, 359.33it/s]\n"
     ]
    },
    {
     "name": "stdout",
     "output_type": "stream",
     "text": [
      "Epochs: 4 | Train Loss:  0.0128                 | Train F1:  0.8093                 | Val Loss:  0.0132                 | Val F1:  0.8139\n"
     ]
    },
    {
     "name": "stderr",
     "output_type": "stream",
     "text": [
      "100%|██████████| 2499/2499 [00:06<00:00, 359.24it/s]\n"
     ]
    },
    {
     "name": "stdout",
     "output_type": "stream",
     "text": [
      "Epochs: 5 | Train Loss:  0.0118                 | Train F1:  0.8173                 | Val Loss:  0.0124                 | Val F1:  0.8205\n"
     ]
    },
    {
     "name": "stderr",
     "output_type": "stream",
     "text": [
      "100%|██████████| 2499/2499 [00:06<00:00, 357.60it/s]\n"
     ]
    },
    {
     "name": "stdout",
     "output_type": "stream",
     "text": [
      "Epochs: 6 | Train Loss:  0.0112                 | Train F1:  0.8250                 | Val Loss:  0.0120                 | Val F1:  0.8221\n"
     ]
    },
    {
     "name": "stderr",
     "output_type": "stream",
     "text": [
      "100%|██████████| 2499/2499 [00:06<00:00, 359.17it/s]\n"
     ]
    },
    {
     "name": "stdout",
     "output_type": "stream",
     "text": [
      "Epochs: 7 | Train Loss:  0.0107                 | Train F1:  0.8294                 | Val Loss:  0.0117                 | Val F1:  0.8246\n"
     ]
    },
    {
     "name": "stderr",
     "output_type": "stream",
     "text": [
      "100%|██████████| 2499/2499 [00:06<00:00, 358.23it/s]\n"
     ]
    },
    {
     "name": "stdout",
     "output_type": "stream",
     "text": [
      "Epochs: 8 | Train Loss:  0.0104                 | Train F1:  0.8351                 | Val Loss:  0.0116                 | Val F1:  0.8249\n"
     ]
    },
    {
     "name": "stderr",
     "output_type": "stream",
     "text": [
      "100%|██████████| 2499/2499 [00:06<00:00, 359.78it/s]\n"
     ]
    },
    {
     "name": "stdout",
     "output_type": "stream",
     "text": [
      "Epochs: 9 | Train Loss:  0.0101                 | Train F1:  0.8378                 | Val Loss:  0.0115                 | Val F1:  0.8251\n"
     ]
    },
    {
     "name": "stderr",
     "output_type": "stream",
     "text": [
      "100%|██████████| 2499/2499 [00:06<00:00, 357.05it/s]\n"
     ]
    },
    {
     "name": "stdout",
     "output_type": "stream",
     "text": [
      "Epochs: 10 | Train Loss:  0.0099                 | Train F1:  0.8416                 | Val Loss:  0.0115                 | Val F1:  0.8235\n",
      "Fold 4\n"
     ]
    },
    {
     "name": "stderr",
     "output_type": "stream",
     "text": [
      "100%|██████████| 2303/2303 [00:06<00:00, 362.11it/s]\n"
     ]
    },
    {
     "name": "stdout",
     "output_type": "stream",
     "text": [
      "Epochs: 1 | Train Loss:  0.0203                 | Train F1:  0.7013                 | Val Loss:  0.0195                 | Val F1:  0.7259\n"
     ]
    },
    {
     "name": "stderr",
     "output_type": "stream",
     "text": [
      "100%|██████████| 2303/2303 [00:06<00:00, 359.99it/s]\n"
     ]
    },
    {
     "name": "stdout",
     "output_type": "stream",
     "text": [
      "Epochs: 2 | Train Loss:  0.0165                 | Train F1:  0.8306                 | Val Loss:  0.0175                 | Val F1:  0.7279\n"
     ]
    },
    {
     "name": "stderr",
     "output_type": "stream",
     "text": [
      "100%|██████████| 2303/2303 [00:06<00:00, 360.32it/s]\n"
     ]
    },
    {
     "name": "stdout",
     "output_type": "stream",
     "text": [
      "Epochs: 3 | Train Loss:  0.0138                 | Train F1:  0.8339                 | Val Loss:  0.0162                 | Val F1:  0.7305\n"
     ]
    },
    {
     "name": "stderr",
     "output_type": "stream",
     "text": [
      "100%|██████████| 2303/2303 [00:06<00:00, 358.50it/s]\n"
     ]
    },
    {
     "name": "stdout",
     "output_type": "stream",
     "text": [
      "Epochs: 4 | Train Loss:  0.0120                 | Train F1:  0.8380                 | Val Loss:  0.0156                 | Val F1:  0.7352\n"
     ]
    },
    {
     "name": "stderr",
     "output_type": "stream",
     "text": [
      "100%|██████████| 2303/2303 [00:06<00:00, 357.28it/s]\n"
     ]
    },
    {
     "name": "stdout",
     "output_type": "stream",
     "text": [
      "Epochs: 5 | Train Loss:  0.0110                 | Train F1:  0.8465                 | Val Loss:  0.0154                 | Val F1:  0.7370\n"
     ]
    },
    {
     "name": "stderr",
     "output_type": "stream",
     "text": [
      "100%|██████████| 2303/2303 [00:06<00:00, 358.00it/s]\n"
     ]
    },
    {
     "name": "stdout",
     "output_type": "stream",
     "text": [
      "Epochs: 6 | Train Loss:  0.0103                 | Train F1:  0.8501                 | Val Loss:  0.0153                 | Val F1:  0.7395\n"
     ]
    },
    {
     "name": "stderr",
     "output_type": "stream",
     "text": [
      "100%|██████████| 2303/2303 [00:06<00:00, 358.25it/s]\n"
     ]
    },
    {
     "name": "stdout",
     "output_type": "stream",
     "text": [
      "Epochs: 7 | Train Loss:  0.0098                 | Train F1:  0.8552                 | Val Loss:  0.0154                 | Val F1:  0.7399\n"
     ]
    },
    {
     "name": "stderr",
     "output_type": "stream",
     "text": [
      "100%|██████████| 2303/2303 [00:06<00:00, 358.86it/s]\n"
     ]
    },
    {
     "name": "stdout",
     "output_type": "stream",
     "text": [
      "Epochs: 8 | Train Loss:  0.0094                 | Train F1:  0.8593                 | Val Loss:  0.0154                 | Val F1:  0.7402\n"
     ]
    },
    {
     "name": "stderr",
     "output_type": "stream",
     "text": [
      "100%|██████████| 2303/2303 [00:06<00:00, 360.45it/s]\n"
     ]
    },
    {
     "name": "stdout",
     "output_type": "stream",
     "text": [
      "Epochs: 9 | Train Loss:  0.0092                 | Train F1:  0.8625                 | Val Loss:  0.0155                 | Val F1:  0.7399\n"
     ]
    },
    {
     "name": "stderr",
     "output_type": "stream",
     "text": [
      "100%|██████████| 2303/2303 [00:06<00:00, 359.00it/s]\n",
      "\u001b[32m[I 2022-06-16 18:21:50,682]\u001b[0m Trial 12 finished with value: 0.8062062617727761 and parameters: {'learning_rate': 1.1293921665126197e-05, 'n_layers': 1, 'n_units_l0': 49, 'dropout_l0': 0.4}. Best is trial 12 with value: 0.8062062617727761.\u001b[0m\n"
     ]
    },
    {
     "name": "stdout",
     "output_type": "stream",
     "text": [
      "Epochs: 10 | Train Loss:  0.0090                 | Train F1:  0.8641                 | Val Loss:  0.0156                 | Val F1:  0.7390\n",
      "Fold 0\n"
     ]
    },
    {
     "name": "stderr",
     "output_type": "stream",
     "text": [
      "100%|██████████| 2399/2399 [00:06<00:00, 374.34it/s]\n"
     ]
    },
    {
     "name": "stdout",
     "output_type": "stream",
     "text": [
      "Epochs: 1 | Train Loss:  0.0218                 | Train F1:  0.6427                 | Val Loss:  0.0216                 | Val F1:  0.5868\n"
     ]
    },
    {
     "name": "stderr",
     "output_type": "stream",
     "text": [
      "100%|██████████| 2399/2399 [00:06<00:00, 376.20it/s]\n"
     ]
    },
    {
     "name": "stdout",
     "output_type": "stream",
     "text": [
      "Epochs: 2 | Train Loss:  0.0208                 | Train F1:  0.7011                 | Val Loss:  0.0204                 | Val F1:  0.7058\n"
     ]
    },
    {
     "name": "stderr",
     "output_type": "stream",
     "text": [
      "100%|██████████| 2399/2399 [00:06<00:00, 375.97it/s]\n"
     ]
    },
    {
     "name": "stdout",
     "output_type": "stream",
     "text": [
      "Epochs: 3 | Train Loss:  0.0196                 | Train F1:  0.7495                 | Val Loss:  0.0193                 | Val F1:  0.7522\n"
     ]
    },
    {
     "name": "stderr",
     "output_type": "stream",
     "text": [
      "100%|██████████| 2399/2399 [00:06<00:00, 375.42it/s]\n"
     ]
    },
    {
     "name": "stdout",
     "output_type": "stream",
     "text": [
      "Epochs: 4 | Train Loss:  0.0187                 | Train F1:  0.7643                 | Val Loss:  0.0184                 | Val F1:  0.7635\n"
     ]
    },
    {
     "name": "stderr",
     "output_type": "stream",
     "text": [
      "100%|██████████| 2399/2399 [00:06<00:00, 375.63it/s]\n"
     ]
    },
    {
     "name": "stdout",
     "output_type": "stream",
     "text": [
      "Epochs: 5 | Train Loss:  0.0178                 | Train F1:  0.7679                 | Val Loss:  0.0176                 | Val F1:  0.7681\n"
     ]
    },
    {
     "name": "stderr",
     "output_type": "stream",
     "text": [
      "100%|██████████| 2399/2399 [00:06<00:00, 368.31it/s]\n"
     ]
    },
    {
     "name": "stdout",
     "output_type": "stream",
     "text": [
      "Epochs: 6 | Train Loss:  0.0171                 | Train F1:  0.7752                 | Val Loss:  0.0169                 | Val F1:  0.7696\n"
     ]
    },
    {
     "name": "stderr",
     "output_type": "stream",
     "text": [
      "100%|██████████| 2399/2399 [00:06<00:00, 355.39it/s]\n"
     ]
    },
    {
     "name": "stdout",
     "output_type": "stream",
     "text": [
      "Epochs: 7 | Train Loss:  0.0165                 | Train F1:  0.7793                 | Val Loss:  0.0163                 | Val F1:  0.7707\n"
     ]
    },
    {
     "name": "stderr",
     "output_type": "stream",
     "text": [
      "100%|██████████| 2399/2399 [00:06<00:00, 364.37it/s]\n"
     ]
    },
    {
     "name": "stdout",
     "output_type": "stream",
     "text": [
      "Epochs: 8 | Train Loss:  0.0159                 | Train F1:  0.7877                 | Val Loss:  0.0158                 | Val F1:  0.7699\n"
     ]
    },
    {
     "name": "stderr",
     "output_type": "stream",
     "text": [
      "100%|██████████| 2399/2399 [00:06<00:00, 365.32it/s]\n"
     ]
    },
    {
     "name": "stdout",
     "output_type": "stream",
     "text": [
      "Epochs: 9 | Train Loss:  0.0154                 | Train F1:  0.7915                 | Val Loss:  0.0154                 | Val F1:  0.7701\n"
     ]
    },
    {
     "name": "stderr",
     "output_type": "stream",
     "text": [
      "100%|██████████| 2399/2399 [00:06<00:00, 371.84it/s]\n"
     ]
    },
    {
     "name": "stdout",
     "output_type": "stream",
     "text": [
      "Epochs: 10 | Train Loss:  0.0150                 | Train F1:  0.7964                 | Val Loss:  0.0151                 | Val F1:  0.7702\n",
      "Fold 1\n"
     ]
    },
    {
     "name": "stderr",
     "output_type": "stream",
     "text": [
      "100%|██████████| 2485/2485 [00:06<00:00, 369.77it/s]\n"
     ]
    },
    {
     "name": "stdout",
     "output_type": "stream",
     "text": [
      "Epochs: 1 | Train Loss:  0.0216                 | Train F1:  0.6394                 | Val Loss:  0.0208                 | Val F1:  0.6599\n"
     ]
    },
    {
     "name": "stderr",
     "output_type": "stream",
     "text": [
      "100%|██████████| 2485/2485 [00:06<00:00, 381.00it/s]\n"
     ]
    },
    {
     "name": "stdout",
     "output_type": "stream",
     "text": [
      "Epochs: 2 | Train Loss:  0.0203                 | Train F1:  0.7075                 | Val Loss:  0.0194                 | Val F1:  0.7971\n"
     ]
    },
    {
     "name": "stderr",
     "output_type": "stream",
     "text": [
      "100%|██████████| 2485/2485 [00:06<00:00, 386.86it/s]\n"
     ]
    },
    {
     "name": "stdout",
     "output_type": "stream",
     "text": [
      "Epochs: 3 | Train Loss:  0.0192                 | Train F1:  0.7374                 | Val Loss:  0.0183                 | Val F1:  0.7825\n"
     ]
    },
    {
     "name": "stderr",
     "output_type": "stream",
     "text": [
      "100%|██████████| 2485/2485 [00:06<00:00, 386.97it/s]\n"
     ]
    },
    {
     "name": "stdout",
     "output_type": "stream",
     "text": [
      "Epochs: 4 | Train Loss:  0.0183                 | Train F1:  0.7432                 | Val Loss:  0.0172                 | Val F1:  0.7513\n"
     ]
    },
    {
     "name": "stderr",
     "output_type": "stream",
     "text": [
      "100%|██████████| 2485/2485 [00:06<00:00, 388.88it/s]\n"
     ]
    },
    {
     "name": "stdout",
     "output_type": "stream",
     "text": [
      "Epochs: 5 | Train Loss:  0.0175                 | Train F1:  0.7495                 | Val Loss:  0.0164                 | Val F1:  0.7493\n"
     ]
    },
    {
     "name": "stderr",
     "output_type": "stream",
     "text": [
      "100%|██████████| 2485/2485 [00:06<00:00, 385.93it/s]\n"
     ]
    },
    {
     "name": "stdout",
     "output_type": "stream",
     "text": [
      "Epochs: 6 | Train Loss:  0.0168                 | Train F1:  0.7578                 | Val Loss:  0.0156                 | Val F1:  0.7531\n"
     ]
    },
    {
     "name": "stderr",
     "output_type": "stream",
     "text": [
      "100%|██████████| 2485/2485 [00:06<00:00, 385.51it/s]\n"
     ]
    },
    {
     "name": "stdout",
     "output_type": "stream",
     "text": [
      "Epochs: 7 | Train Loss:  0.0163                 | Train F1:  0.7654                 | Val Loss:  0.0150                 | Val F1:  0.7593\n"
     ]
    },
    {
     "name": "stderr",
     "output_type": "stream",
     "text": [
      "100%|██████████| 2485/2485 [00:06<00:00, 386.93it/s]\n"
     ]
    },
    {
     "name": "stdout",
     "output_type": "stream",
     "text": [
      "Epochs: 8 | Train Loss:  0.0158                 | Train F1:  0.7713                 | Val Loss:  0.0144                 | Val F1:  0.7651\n"
     ]
    },
    {
     "name": "stderr",
     "output_type": "stream",
     "text": [
      "100%|██████████| 2485/2485 [00:06<00:00, 387.62it/s]\n"
     ]
    },
    {
     "name": "stdout",
     "output_type": "stream",
     "text": [
      "Epochs: 9 | Train Loss:  0.0154                 | Train F1:  0.7768                 | Val Loss:  0.0139                 | Val F1:  0.7708\n"
     ]
    },
    {
     "name": "stderr",
     "output_type": "stream",
     "text": [
      "100%|██████████| 2485/2485 [00:06<00:00, 387.45it/s]\n"
     ]
    },
    {
     "name": "stdout",
     "output_type": "stream",
     "text": [
      "Epochs: 10 | Train Loss:  0.0150                 | Train F1:  0.7833                 | Val Loss:  0.0135                 | Val F1:  0.7767\n",
      "Fold 2\n"
     ]
    },
    {
     "name": "stderr",
     "output_type": "stream",
     "text": [
      "100%|██████████| 2549/2549 [00:06<00:00, 388.53it/s]\n"
     ]
    },
    {
     "name": "stdout",
     "output_type": "stream",
     "text": [
      "Epochs: 1 | Train Loss:  0.0211                 | Train F1:  0.3460                 | Val Loss:  0.0201                 | Val F1:  0.7986\n"
     ]
    },
    {
     "name": "stderr",
     "output_type": "stream",
     "text": [
      "100%|██████████| 2549/2549 [00:06<00:00, 381.41it/s]\n"
     ]
    },
    {
     "name": "stdout",
     "output_type": "stream",
     "text": [
      "Epochs: 2 | Train Loss:  0.0201                 | Train F1:  0.7098                 | Val Loss:  0.0189                 | Val F1:  0.8802\n"
     ]
    },
    {
     "name": "stderr",
     "output_type": "stream",
     "text": [
      "100%|██████████| 2549/2549 [00:06<00:00, 388.03it/s]\n"
     ]
    },
    {
     "name": "stdout",
     "output_type": "stream",
     "text": [
      "Epochs: 3 | Train Loss:  0.0192                 | Train F1:  0.7663                 | Val Loss:  0.0177                 | Val F1:  0.8824\n"
     ]
    },
    {
     "name": "stderr",
     "output_type": "stream",
     "text": [
      "100%|██████████| 2549/2549 [00:06<00:00, 389.46it/s]\n"
     ]
    },
    {
     "name": "stdout",
     "output_type": "stream",
     "text": [
      "Epochs: 4 | Train Loss:  0.0184                 | Train F1:  0.7779                 | Val Loss:  0.0167                 | Val F1:  0.8799\n"
     ]
    },
    {
     "name": "stderr",
     "output_type": "stream",
     "text": [
      "100%|██████████| 2549/2549 [00:06<00:00, 387.33it/s]\n"
     ]
    },
    {
     "name": "stdout",
     "output_type": "stream",
     "text": [
      "Epochs: 5 | Train Loss:  0.0178                 | Train F1:  0.7850                 | Val Loss:  0.0158                 | Val F1:  0.8784\n"
     ]
    },
    {
     "name": "stderr",
     "output_type": "stream",
     "text": [
      "100%|██████████| 2549/2549 [00:06<00:00, 386.58it/s]\n"
     ]
    },
    {
     "name": "stdout",
     "output_type": "stream",
     "text": [
      "Epochs: 6 | Train Loss:  0.0171                 | Train F1:  0.7873                 | Val Loss:  0.0151                 | Val F1:  0.8778\n"
     ]
    },
    {
     "name": "stderr",
     "output_type": "stream",
     "text": [
      "100%|██████████| 2549/2549 [00:06<00:00, 388.11it/s]\n"
     ]
    },
    {
     "name": "stdout",
     "output_type": "stream",
     "text": [
      "Epochs: 7 | Train Loss:  0.0166                 | Train F1:  0.7877                 | Val Loss:  0.0144                 | Val F1:  0.8782\n"
     ]
    },
    {
     "name": "stderr",
     "output_type": "stream",
     "text": [
      "100%|██████████| 2549/2549 [00:06<00:00, 384.81it/s]\n"
     ]
    },
    {
     "name": "stdout",
     "output_type": "stream",
     "text": [
      "Epochs: 8 | Train Loss:  0.0161                 | Train F1:  0.7919                 | Val Loss:  0.0138                 | Val F1:  0.8779\n"
     ]
    },
    {
     "name": "stderr",
     "output_type": "stream",
     "text": [
      "100%|██████████| 2549/2549 [00:06<00:00, 384.09it/s]\n"
     ]
    },
    {
     "name": "stdout",
     "output_type": "stream",
     "text": [
      "Epochs: 9 | Train Loss:  0.0157                 | Train F1:  0.7904                 | Val Loss:  0.0132                 | Val F1:  0.8776\n"
     ]
    },
    {
     "name": "stderr",
     "output_type": "stream",
     "text": [
      "100%|██████████| 2549/2549 [00:06<00:00, 387.81it/s]\n"
     ]
    },
    {
     "name": "stdout",
     "output_type": "stream",
     "text": [
      "Epochs: 10 | Train Loss:  0.0154                 | Train F1:  0.7913                 | Val Loss:  0.0128                 | Val F1:  0.8772\n",
      "Fold 3\n"
     ]
    },
    {
     "name": "stderr",
     "output_type": "stream",
     "text": [
      "100%|██████████| 2499/2499 [00:06<00:00, 388.42it/s]\n"
     ]
    },
    {
     "name": "stdout",
     "output_type": "stream",
     "text": [
      "Epochs: 1 | Train Loss:  0.0212                 | Train F1:  0.0251                 | Val Loss:  0.0212                 | Val F1:  0.0000\n"
     ]
    },
    {
     "name": "stderr",
     "output_type": "stream",
     "text": [
      "100%|██████████| 2499/2499 [00:06<00:00, 389.49it/s]\n"
     ]
    },
    {
     "name": "stdout",
     "output_type": "stream",
     "text": [
      "Epochs: 2 | Train Loss:  0.0203                 | Train F1:  0.3582                 | Val Loss:  0.0204                 | Val F1:  0.4089\n"
     ]
    },
    {
     "name": "stderr",
     "output_type": "stream",
     "text": [
      "100%|██████████| 2499/2499 [00:06<00:00, 387.75it/s]\n"
     ]
    },
    {
     "name": "stdout",
     "output_type": "stream",
     "text": [
      "Epochs: 3 | Train Loss:  0.0194                 | Train F1:  0.5441                 | Val Loss:  0.0195                 | Val F1:  0.6021\n"
     ]
    },
    {
     "name": "stderr",
     "output_type": "stream",
     "text": [
      "100%|██████████| 2499/2499 [00:06<00:00, 387.85it/s]\n"
     ]
    },
    {
     "name": "stdout",
     "output_type": "stream",
     "text": [
      "Epochs: 4 | Train Loss:  0.0185                 | Train F1:  0.6320                 | Val Loss:  0.0186                 | Val F1:  0.6768\n"
     ]
    },
    {
     "name": "stderr",
     "output_type": "stream",
     "text": [
      "100%|██████████| 2499/2499 [00:06<00:00, 387.48it/s]\n"
     ]
    },
    {
     "name": "stdout",
     "output_type": "stream",
     "text": [
      "Epochs: 5 | Train Loss:  0.0177                 | Train F1:  0.6675                 | Val Loss:  0.0178                 | Val F1:  0.7192\n"
     ]
    },
    {
     "name": "stderr",
     "output_type": "stream",
     "text": [
      "100%|██████████| 2499/2499 [00:06<00:00, 387.08it/s]\n"
     ]
    },
    {
     "name": "stdout",
     "output_type": "stream",
     "text": [
      "Epochs: 6 | Train Loss:  0.0169                 | Train F1:  0.6892                 | Val Loss:  0.0170                 | Val F1:  0.7457\n"
     ]
    },
    {
     "name": "stderr",
     "output_type": "stream",
     "text": [
      "100%|██████████| 2499/2499 [00:06<00:00, 385.56it/s]\n"
     ]
    },
    {
     "name": "stdout",
     "output_type": "stream",
     "text": [
      "Epochs: 7 | Train Loss:  0.0163                 | Train F1:  0.7013                 | Val Loss:  0.0163                 | Val F1:  0.7648\n"
     ]
    },
    {
     "name": "stderr",
     "output_type": "stream",
     "text": [
      "100%|██████████| 2499/2499 [00:06<00:00, 389.05it/s]\n"
     ]
    },
    {
     "name": "stdout",
     "output_type": "stream",
     "text": [
      "Epochs: 8 | Train Loss:  0.0157                 | Train F1:  0.7111                 | Val Loss:  0.0157                 | Val F1:  0.7784\n"
     ]
    },
    {
     "name": "stderr",
     "output_type": "stream",
     "text": [
      "100%|██████████| 2499/2499 [00:06<00:00, 388.22it/s]\n"
     ]
    },
    {
     "name": "stdout",
     "output_type": "stream",
     "text": [
      "Epochs: 9 | Train Loss:  0.0152                 | Train F1:  0.7176                 | Val Loss:  0.0151                 | Val F1:  0.7866\n"
     ]
    },
    {
     "name": "stderr",
     "output_type": "stream",
     "text": [
      "100%|██████████| 2499/2499 [00:06<00:00, 386.50it/s]\n"
     ]
    },
    {
     "name": "stdout",
     "output_type": "stream",
     "text": [
      "Epochs: 10 | Train Loss:  0.0148                 | Train F1:  0.7244                 | Val Loss:  0.0147                 | Val F1:  0.7940\n",
      "Fold 4\n"
     ]
    },
    {
     "name": "stderr",
     "output_type": "stream",
     "text": [
      "100%|██████████| 2303/2303 [00:05<00:00, 387.00it/s]\n"
     ]
    },
    {
     "name": "stdout",
     "output_type": "stream",
     "text": [
      "Epochs: 1 | Train Loss:  0.0211                 | Train F1:  0.0000                 | Val Loss:  0.0212                 | Val F1:  0.0000\n"
     ]
    },
    {
     "name": "stderr",
     "output_type": "stream",
     "text": [
      "100%|██████████| 2303/2303 [00:05<00:00, 388.50it/s]\n"
     ]
    },
    {
     "name": "stdout",
     "output_type": "stream",
     "text": [
      "Epochs: 2 | Train Loss:  0.0201                 | Train F1:  0.2476                 | Val Loss:  0.0205                 | Val F1:  0.3070\n"
     ]
    },
    {
     "name": "stderr",
     "output_type": "stream",
     "text": [
      "100%|██████████| 2303/2303 [00:05<00:00, 385.20it/s]\n"
     ]
    },
    {
     "name": "stdout",
     "output_type": "stream",
     "text": [
      "Epochs: 3 | Train Loss:  0.0191                 | Train F1:  0.4761                 | Val Loss:  0.0199                 | Val F1:  0.5095\n"
     ]
    },
    {
     "name": "stderr",
     "output_type": "stream",
     "text": [
      "100%|██████████| 2303/2303 [00:05<00:00, 389.54it/s]\n"
     ]
    },
    {
     "name": "stdout",
     "output_type": "stream",
     "text": [
      "Epochs: 4 | Train Loss:  0.0182                 | Train F1:  0.6069                 | Val Loss:  0.0192                 | Val F1:  0.5857\n"
     ]
    },
    {
     "name": "stderr",
     "output_type": "stream",
     "text": [
      "100%|██████████| 2303/2303 [00:05<00:00, 389.32it/s]\n"
     ]
    },
    {
     "name": "stdout",
     "output_type": "stream",
     "text": [
      "Epochs: 5 | Train Loss:  0.0173                 | Train F1:  0.6702                 | Val Loss:  0.0186                 | Val F1:  0.6415\n"
     ]
    },
    {
     "name": "stderr",
     "output_type": "stream",
     "text": [
      "100%|██████████| 2303/2303 [00:05<00:00, 390.32it/s]\n"
     ]
    },
    {
     "name": "stdout",
     "output_type": "stream",
     "text": [
      "Epochs: 6 | Train Loss:  0.0165                 | Train F1:  0.7046                 | Val Loss:  0.0180                 | Val F1:  0.6755\n"
     ]
    },
    {
     "name": "stderr",
     "output_type": "stream",
     "text": [
      "100%|██████████| 2303/2303 [00:05<00:00, 388.85it/s]\n"
     ]
    },
    {
     "name": "stdout",
     "output_type": "stream",
     "text": [
      "Epochs: 7 | Train Loss:  0.0158                 | Train F1:  0.7203                 | Val Loss:  0.0175                 | Val F1:  0.6978\n"
     ]
    },
    {
     "name": "stderr",
     "output_type": "stream",
     "text": [
      "100%|██████████| 2303/2303 [00:05<00:00, 389.23it/s]\n"
     ]
    },
    {
     "name": "stdout",
     "output_type": "stream",
     "text": [
      "Epochs: 8 | Train Loss:  0.0151                 | Train F1:  0.7339                 | Val Loss:  0.0171                 | Val F1:  0.7116\n"
     ]
    },
    {
     "name": "stderr",
     "output_type": "stream",
     "text": [
      "100%|██████████| 2303/2303 [00:05<00:00, 391.30it/s]\n"
     ]
    },
    {
     "name": "stdout",
     "output_type": "stream",
     "text": [
      "Epochs: 9 | Train Loss:  0.0146                 | Train F1:  0.7401                 | Val Loss:  0.0167                 | Val F1:  0.7189\n"
     ]
    },
    {
     "name": "stderr",
     "output_type": "stream",
     "text": [
      "100%|██████████| 2303/2303 [00:05<00:00, 387.42it/s]\n",
      "\u001b[32m[I 2022-06-16 18:27:53,162]\u001b[0m Trial 13 finished with value: 0.7885689343262402 and parameters: {'learning_rate': 1.1370340669604032e-05, 'n_layers': 1, 'n_units_l0': 5, 'dropout_l0': 0.4}. Best is trial 12 with value: 0.8062062617727761.\u001b[0m\n"
     ]
    },
    {
     "name": "stdout",
     "output_type": "stream",
     "text": [
      "Epochs: 10 | Train Loss:  0.0141                 | Train F1:  0.7523                 | Val Loss:  0.0164                 | Val F1:  0.7247\n",
      "Fold 0\n"
     ]
    },
    {
     "name": "stderr",
     "output_type": "stream",
     "text": [
      "100%|██████████| 2399/2399 [00:06<00:00, 355.83it/s]\n"
     ]
    },
    {
     "name": "stdout",
     "output_type": "stream",
     "text": [
      "Epochs: 1 | Train Loss:  0.0129                 | Train F1:  0.8317                 | Val Loss:  0.0131                 | Val F1:  0.7697\n"
     ]
    },
    {
     "name": "stderr",
     "output_type": "stream",
     "text": [
      "100%|██████████| 2399/2399 [00:06<00:00, 369.37it/s]\n"
     ]
    },
    {
     "name": "stdout",
     "output_type": "stream",
     "text": [
      "Epochs: 2 | Train Loss:  0.0090                 | Train F1:  0.8680                 | Val Loss:  0.0136                 | Val F1:  0.7683\n"
     ]
    },
    {
     "name": "stderr",
     "output_type": "stream",
     "text": [
      "100%|██████████| 2399/2399 [00:06<00:00, 368.27it/s]\n"
     ]
    },
    {
     "name": "stdout",
     "output_type": "stream",
     "text": [
      "Epochs: 3 | Train Loss:  0.0083                 | Train F1:  0.8788                 | Val Loss:  0.0136                 | Val F1:  0.7658\n"
     ]
    },
    {
     "name": "stderr",
     "output_type": "stream",
     "text": [
      "100%|██████████| 2399/2399 [00:06<00:00, 365.92it/s]\n"
     ]
    },
    {
     "name": "stdout",
     "output_type": "stream",
     "text": [
      "Epochs: 4 | Train Loss:  0.0079                 | Train F1:  0.8843                 | Val Loss:  0.0138                 | Val F1:  0.7653\n"
     ]
    },
    {
     "name": "stderr",
     "output_type": "stream",
     "text": [
      "100%|██████████| 2399/2399 [00:06<00:00, 367.97it/s]\n"
     ]
    },
    {
     "name": "stdout",
     "output_type": "stream",
     "text": [
      "Epochs: 5 | Train Loss:  0.0077                 | Train F1:  0.8879                 | Val Loss:  0.0141                 | Val F1:  0.7638\n"
     ]
    },
    {
     "name": "stderr",
     "output_type": "stream",
     "text": [
      "100%|██████████| 2399/2399 [00:06<00:00, 367.57it/s]\n"
     ]
    },
    {
     "name": "stdout",
     "output_type": "stream",
     "text": [
      "Epochs: 6 | Train Loss:  0.0075                 | Train F1:  0.8920                 | Val Loss:  0.0140                 | Val F1:  0.7631\n"
     ]
    },
    {
     "name": "stderr",
     "output_type": "stream",
     "text": [
      "100%|██████████| 2399/2399 [00:06<00:00, 363.97it/s]\n"
     ]
    },
    {
     "name": "stdout",
     "output_type": "stream",
     "text": [
      "Epochs: 7 | Train Loss:  0.0073                 | Train F1:  0.8946                 | Val Loss:  0.0141                 | Val F1:  0.7619\n"
     ]
    },
    {
     "name": "stderr",
     "output_type": "stream",
     "text": [
      "100%|██████████| 2399/2399 [00:06<00:00, 368.20it/s]\n"
     ]
    },
    {
     "name": "stdout",
     "output_type": "stream",
     "text": [
      "Epochs: 8 | Train Loss:  0.0071                 | Train F1:  0.8962                 | Val Loss:  0.0144                 | Val F1:  0.7597\n"
     ]
    },
    {
     "name": "stderr",
     "output_type": "stream",
     "text": [
      "100%|██████████| 2399/2399 [00:06<00:00, 368.18it/s]\n"
     ]
    },
    {
     "name": "stdout",
     "output_type": "stream",
     "text": [
      "Epochs: 9 | Train Loss:  0.0070                 | Train F1:  0.8976                 | Val Loss:  0.0145                 | Val F1:  0.7588\n"
     ]
    },
    {
     "name": "stderr",
     "output_type": "stream",
     "text": [
      "100%|██████████| 2399/2399 [00:06<00:00, 368.06it/s]\n"
     ]
    },
    {
     "name": "stdout",
     "output_type": "stream",
     "text": [
      "Epochs: 10 | Train Loss:  0.0069                 | Train F1:  0.8998                 | Val Loss:  0.0144                 | Val F1:  0.7605\n",
      "Fold 1\n"
     ]
    },
    {
     "name": "stderr",
     "output_type": "stream",
     "text": [
      "100%|██████████| 2485/2485 [00:06<00:00, 367.88it/s]\n"
     ]
    },
    {
     "name": "stdout",
     "output_type": "stream",
     "text": [
      "Epochs: 1 | Train Loss:  0.0134                 | Train F1:  0.7968                 | Val Loss:  0.0099                 | Val F1:  0.8379\n"
     ]
    },
    {
     "name": "stderr",
     "output_type": "stream",
     "text": [
      "100%|██████████| 2485/2485 [00:06<00:00, 367.22it/s]\n"
     ]
    },
    {
     "name": "stdout",
     "output_type": "stream",
     "text": [
      "Epochs: 2 | Train Loss:  0.0098                 | Train F1:  0.8481                 | Val Loss:  0.0097                 | Val F1:  0.8401\n"
     ]
    },
    {
     "name": "stderr",
     "output_type": "stream",
     "text": [
      "100%|██████████| 2485/2485 [00:06<00:00, 366.97it/s]\n"
     ]
    },
    {
     "name": "stdout",
     "output_type": "stream",
     "text": [
      "Epochs: 3 | Train Loss:  0.0091                 | Train F1:  0.8600                 | Val Loss:  0.0097                 | Val F1:  0.8410\n"
     ]
    },
    {
     "name": "stderr",
     "output_type": "stream",
     "text": [
      "100%|██████████| 2485/2485 [00:06<00:00, 368.00it/s]\n"
     ]
    },
    {
     "name": "stdout",
     "output_type": "stream",
     "text": [
      "Epochs: 4 | Train Loss:  0.0087                 | Train F1:  0.8655                 | Val Loss:  0.0097                 | Val F1:  0.8428\n"
     ]
    },
    {
     "name": "stderr",
     "output_type": "stream",
     "text": [
      "100%|██████████| 2485/2485 [00:06<00:00, 366.99it/s]\n"
     ]
    },
    {
     "name": "stdout",
     "output_type": "stream",
     "text": [
      "Epochs: 5 | Train Loss:  0.0084                 | Train F1:  0.8711                 | Val Loss:  0.0097                 | Val F1:  0.8441\n"
     ]
    },
    {
     "name": "stderr",
     "output_type": "stream",
     "text": [
      "100%|██████████| 2485/2485 [00:06<00:00, 363.02it/s]\n"
     ]
    },
    {
     "name": "stdout",
     "output_type": "stream",
     "text": [
      "Epochs: 6 | Train Loss:  0.0081                 | Train F1:  0.8746                 | Val Loss:  0.0098                 | Val F1:  0.8414\n"
     ]
    },
    {
     "name": "stderr",
     "output_type": "stream",
     "text": [
      "100%|██████████| 2485/2485 [00:06<00:00, 368.37it/s]\n"
     ]
    },
    {
     "name": "stdout",
     "output_type": "stream",
     "text": [
      "Epochs: 7 | Train Loss:  0.0079                 | Train F1:  0.8776                 | Val Loss:  0.0099                 | Val F1:  0.8392\n"
     ]
    },
    {
     "name": "stderr",
     "output_type": "stream",
     "text": [
      "100%|██████████| 2485/2485 [00:06<00:00, 367.50it/s]\n"
     ]
    },
    {
     "name": "stdout",
     "output_type": "stream",
     "text": [
      "Epochs: 8 | Train Loss:  0.0077                 | Train F1:  0.8811                 | Val Loss:  0.0098                 | Val F1:  0.8412\n"
     ]
    },
    {
     "name": "stderr",
     "output_type": "stream",
     "text": [
      "100%|██████████| 2485/2485 [00:06<00:00, 367.39it/s]\n"
     ]
    },
    {
     "name": "stdout",
     "output_type": "stream",
     "text": [
      "Epochs: 9 | Train Loss:  0.0076                 | Train F1:  0.8834                 | Val Loss:  0.0100                 | Val F1:  0.8375\n"
     ]
    },
    {
     "name": "stderr",
     "output_type": "stream",
     "text": [
      "100%|██████████| 2485/2485 [00:06<00:00, 367.33it/s]\n"
     ]
    },
    {
     "name": "stdout",
     "output_type": "stream",
     "text": [
      "Epochs: 10 | Train Loss:  0.0074                 | Train F1:  0.8860                 | Val Loss:  0.0101                 | Val F1:  0.8359\n",
      "Fold 2\n"
     ]
    },
    {
     "name": "stderr",
     "output_type": "stream",
     "text": [
      "100%|██████████| 2549/2549 [00:06<00:00, 368.38it/s]\n"
     ]
    },
    {
     "name": "stdout",
     "output_type": "stream",
     "text": [
      "Epochs: 1 | Train Loss:  0.0136                 | Train F1:  0.8101                 | Val Loss:  0.0084                 | Val F1:  0.8668\n"
     ]
    },
    {
     "name": "stderr",
     "output_type": "stream",
     "text": [
      "100%|██████████| 2549/2549 [00:06<00:00, 367.03it/s]\n"
     ]
    },
    {
     "name": "stdout",
     "output_type": "stream",
     "text": [
      "Epochs: 2 | Train Loss:  0.0101                 | Train F1:  0.8473                 | Val Loss:  0.0080                 | Val F1:  0.8652\n"
     ]
    },
    {
     "name": "stderr",
     "output_type": "stream",
     "text": [
      "100%|██████████| 2549/2549 [00:06<00:00, 369.86it/s]\n"
     ]
    },
    {
     "name": "stdout",
     "output_type": "stream",
     "text": [
      "Epochs: 3 | Train Loss:  0.0095                 | Train F1:  0.8582                 | Val Loss:  0.0080                 | Val F1:  0.8647\n"
     ]
    },
    {
     "name": "stderr",
     "output_type": "stream",
     "text": [
      "100%|██████████| 2549/2549 [00:06<00:00, 366.11it/s]\n"
     ]
    },
    {
     "name": "stdout",
     "output_type": "stream",
     "text": [
      "Epochs: 4 | Train Loss:  0.0091                 | Train F1:  0.8645                 | Val Loss:  0.0080                 | Val F1:  0.8627\n"
     ]
    },
    {
     "name": "stderr",
     "output_type": "stream",
     "text": [
      "100%|██████████| 2549/2549 [00:07<00:00, 362.41it/s]\n"
     ]
    },
    {
     "name": "stdout",
     "output_type": "stream",
     "text": [
      "Epochs: 5 | Train Loss:  0.0088                 | Train F1:  0.8684                 | Val Loss:  0.0079                 | Val F1:  0.8659\n"
     ]
    },
    {
     "name": "stderr",
     "output_type": "stream",
     "text": [
      "100%|██████████| 2549/2549 [00:06<00:00, 365.52it/s]\n"
     ]
    },
    {
     "name": "stdout",
     "output_type": "stream",
     "text": [
      "Epochs: 6 | Train Loss:  0.0086                 | Train F1:  0.8712                 | Val Loss:  0.0078                 | Val F1:  0.8661\n"
     ]
    },
    {
     "name": "stderr",
     "output_type": "stream",
     "text": [
      "100%|██████████| 2549/2549 [00:06<00:00, 368.13it/s]\n"
     ]
    },
    {
     "name": "stdout",
     "output_type": "stream",
     "text": [
      "Epochs: 7 | Train Loss:  0.0084                 | Train F1:  0.8729                 | Val Loss:  0.0078                 | Val F1:  0.8662\n"
     ]
    },
    {
     "name": "stderr",
     "output_type": "stream",
     "text": [
      "100%|██████████| 2549/2549 [00:06<00:00, 364.79it/s]\n"
     ]
    },
    {
     "name": "stdout",
     "output_type": "stream",
     "text": [
      "Epochs: 8 | Train Loss:  0.0082                 | Train F1:  0.8760                 | Val Loss:  0.0078                 | Val F1:  0.8665\n"
     ]
    },
    {
     "name": "stderr",
     "output_type": "stream",
     "text": [
      "100%|██████████| 2549/2549 [00:06<00:00, 367.12it/s]\n"
     ]
    },
    {
     "name": "stdout",
     "output_type": "stream",
     "text": [
      "Epochs: 9 | Train Loss:  0.0081                 | Train F1:  0.8781                 | Val Loss:  0.0079                 | Val F1:  0.8662\n"
     ]
    },
    {
     "name": "stderr",
     "output_type": "stream",
     "text": [
      "100%|██████████| 2549/2549 [00:06<00:00, 364.93it/s]\n"
     ]
    },
    {
     "name": "stdout",
     "output_type": "stream",
     "text": [
      "Epochs: 10 | Train Loss:  0.0079                 | Train F1:  0.8798                 | Val Loss:  0.0078                 | Val F1:  0.8678\n",
      "Fold 3\n"
     ]
    },
    {
     "name": "stderr",
     "output_type": "stream",
     "text": [
      "100%|██████████| 2499/2499 [00:06<00:00, 366.94it/s]\n"
     ]
    },
    {
     "name": "stdout",
     "output_type": "stream",
     "text": [
      "Epochs: 1 | Train Loss:  0.0131                 | Train F1:  0.8123                 | Val Loss:  0.0117                 | Val F1:  0.8235\n"
     ]
    },
    {
     "name": "stderr",
     "output_type": "stream",
     "text": [
      "100%|██████████| 2499/2499 [00:06<00:00, 363.30it/s]\n"
     ]
    },
    {
     "name": "stdout",
     "output_type": "stream",
     "text": [
      "Epochs: 2 | Train Loss:  0.0094                 | Train F1:  0.8512                 | Val Loss:  0.0118                 | Val F1:  0.8157\n"
     ]
    },
    {
     "name": "stderr",
     "output_type": "stream",
     "text": [
      "100%|██████████| 2499/2499 [00:06<00:00, 361.76it/s]\n"
     ]
    },
    {
     "name": "stdout",
     "output_type": "stream",
     "text": [
      "Epochs: 3 | Train Loss:  0.0087                 | Train F1:  0.8662                 | Val Loss:  0.0123                 | Val F1:  0.8079\n"
     ]
    },
    {
     "name": "stderr",
     "output_type": "stream",
     "text": [
      "100%|██████████| 2499/2499 [00:06<00:00, 364.10it/s]\n"
     ]
    },
    {
     "name": "stdout",
     "output_type": "stream",
     "text": [
      "Epochs: 4 | Train Loss:  0.0083                 | Train F1:  0.8717                 | Val Loss:  0.0128                 | Val F1:  0.8030\n"
     ]
    },
    {
     "name": "stderr",
     "output_type": "stream",
     "text": [
      "100%|██████████| 2499/2499 [00:06<00:00, 367.09it/s]\n"
     ]
    },
    {
     "name": "stdout",
     "output_type": "stream",
     "text": [
      "Epochs: 5 | Train Loss:  0.0080                 | Train F1:  0.8772                 | Val Loss:  0.0132                 | Val F1:  0.7969\n"
     ]
    },
    {
     "name": "stderr",
     "output_type": "stream",
     "text": [
      "100%|██████████| 2499/2499 [00:06<00:00, 364.39it/s]\n"
     ]
    },
    {
     "name": "stdout",
     "output_type": "stream",
     "text": [
      "Epochs: 6 | Train Loss:  0.0078                 | Train F1:  0.8792                 | Val Loss:  0.0134                 | Val F1:  0.7963\n"
     ]
    },
    {
     "name": "stderr",
     "output_type": "stream",
     "text": [
      "100%|██████████| 2499/2499 [00:06<00:00, 366.53it/s]\n"
     ]
    },
    {
     "name": "stdout",
     "output_type": "stream",
     "text": [
      "Epochs: 7 | Train Loss:  0.0076                 | Train F1:  0.8826                 | Val Loss:  0.0137                 | Val F1:  0.7952\n"
     ]
    },
    {
     "name": "stderr",
     "output_type": "stream",
     "text": [
      "100%|██████████| 2499/2499 [00:06<00:00, 360.41it/s]\n"
     ]
    },
    {
     "name": "stdout",
     "output_type": "stream",
     "text": [
      "Epochs: 8 | Train Loss:  0.0074                 | Train F1:  0.8850                 | Val Loss:  0.0139                 | Val F1:  0.7898\n"
     ]
    },
    {
     "name": "stderr",
     "output_type": "stream",
     "text": [
      "100%|██████████| 2499/2499 [00:06<00:00, 363.01it/s]\n"
     ]
    },
    {
     "name": "stdout",
     "output_type": "stream",
     "text": [
      "Epochs: 9 | Train Loss:  0.0073                 | Train F1:  0.8872                 | Val Loss:  0.0142                 | Val F1:  0.7860\n"
     ]
    },
    {
     "name": "stderr",
     "output_type": "stream",
     "text": [
      "100%|██████████| 2499/2499 [00:06<00:00, 363.95it/s]\n"
     ]
    },
    {
     "name": "stdout",
     "output_type": "stream",
     "text": [
      "Epochs: 10 | Train Loss:  0.0071                 | Train F1:  0.8905                 | Val Loss:  0.0145                 | Val F1:  0.7836\n",
      "Fold 4\n"
     ]
    },
    {
     "name": "stderr",
     "output_type": "stream",
     "text": [
      "100%|██████████| 2303/2303 [00:06<00:00, 368.96it/s]\n"
     ]
    },
    {
     "name": "stdout",
     "output_type": "stream",
     "text": [
      "Epochs: 1 | Train Loss:  0.0126                 | Train F1:  0.8298                 | Val Loss:  0.0154                 | Val F1:  0.7418\n"
     ]
    },
    {
     "name": "stderr",
     "output_type": "stream",
     "text": [
      "100%|██████████| 2303/2303 [00:06<00:00, 367.62it/s]\n"
     ]
    },
    {
     "name": "stdout",
     "output_type": "stream",
     "text": [
      "Epochs: 2 | Train Loss:  0.0085                 | Train F1:  0.8711                 | Val Loss:  0.0162                 | Val F1:  0.7358\n"
     ]
    },
    {
     "name": "stderr",
     "output_type": "stream",
     "text": [
      "100%|██████████| 2303/2303 [00:06<00:00, 370.34it/s]\n"
     ]
    },
    {
     "name": "stdout",
     "output_type": "stream",
     "text": [
      "Epochs: 3 | Train Loss:  0.0078                 | Train F1:  0.8844                 | Val Loss:  0.0166                 | Val F1:  0.7324\n"
     ]
    },
    {
     "name": "stderr",
     "output_type": "stream",
     "text": [
      "100%|██████████| 2303/2303 [00:06<00:00, 366.35it/s]\n"
     ]
    },
    {
     "name": "stdout",
     "output_type": "stream",
     "text": [
      "Epochs: 4 | Train Loss:  0.0074                 | Train F1:  0.8894                 | Val Loss:  0.0169                 | Val F1:  0.7314\n"
     ]
    },
    {
     "name": "stderr",
     "output_type": "stream",
     "text": [
      "100%|██████████| 2303/2303 [00:06<00:00, 368.46it/s]\n"
     ]
    },
    {
     "name": "stdout",
     "output_type": "stream",
     "text": [
      "Epochs: 5 | Train Loss:  0.0071                 | Train F1:  0.8943                 | Val Loss:  0.0171                 | Val F1:  0.7302\n"
     ]
    },
    {
     "name": "stderr",
     "output_type": "stream",
     "text": [
      "100%|██████████| 2303/2303 [00:06<00:00, 362.19it/s]\n"
     ]
    },
    {
     "name": "stdout",
     "output_type": "stream",
     "text": [
      "Epochs: 6 | Train Loss:  0.0069                 | Train F1:  0.8985                 | Val Loss:  0.0173                 | Val F1:  0.7301\n"
     ]
    },
    {
     "name": "stderr",
     "output_type": "stream",
     "text": [
      "100%|██████████| 2303/2303 [00:06<00:00, 368.88it/s]\n"
     ]
    },
    {
     "name": "stdout",
     "output_type": "stream",
     "text": [
      "Epochs: 7 | Train Loss:  0.0068                 | Train F1:  0.8996                 | Val Loss:  0.0174                 | Val F1:  0.7301\n"
     ]
    },
    {
     "name": "stderr",
     "output_type": "stream",
     "text": [
      "100%|██████████| 2303/2303 [00:06<00:00, 367.36it/s]\n"
     ]
    },
    {
     "name": "stdout",
     "output_type": "stream",
     "text": [
      "Epochs: 8 | Train Loss:  0.0066                 | Train F1:  0.9024                 | Val Loss:  0.0176                 | Val F1:  0.7275\n"
     ]
    },
    {
     "name": "stderr",
     "output_type": "stream",
     "text": [
      "100%|██████████| 2303/2303 [00:06<00:00, 368.44it/s]\n"
     ]
    },
    {
     "name": "stdout",
     "output_type": "stream",
     "text": [
      "Epochs: 9 | Train Loss:  0.0064                 | Train F1:  0.9046                 | Val Loss:  0.0179                 | Val F1:  0.7282\n"
     ]
    },
    {
     "name": "stderr",
     "output_type": "stream",
     "text": [
      "100%|██████████| 2303/2303 [00:06<00:00, 366.24it/s]\n",
      "\u001b[32m[I 2022-06-16 18:34:10,565]\u001b[0m Trial 14 finished with value: 0.7947696125267292 and parameters: {'learning_rate': 8.720804279959654e-05, 'n_layers': 1, 'n_units_l0': 57, 'dropout_l0': 0.4}. Best is trial 12 with value: 0.8062062617727761.\u001b[0m\n"
     ]
    },
    {
     "name": "stdout",
     "output_type": "stream",
     "text": [
      "Epochs: 10 | Train Loss:  0.0063                 | Train F1:  0.9067                 | Val Loss:  0.0180                 | Val F1:  0.7260\n",
      "Fold 0\n"
     ]
    },
    {
     "name": "stderr",
     "output_type": "stream",
     "text": [
      "100%|██████████| 2399/2399 [00:07<00:00, 321.85it/s]\n"
     ]
    },
    {
     "name": "stdout",
     "output_type": "stream",
     "text": [
      "Epochs: 1 | Train Loss:  0.0214                 | Train F1:  0.6605                 | Val Loss:  0.0210                 | Val F1:  0.6520\n"
     ]
    },
    {
     "name": "stderr",
     "output_type": "stream",
     "text": [
      "100%|██████████| 2399/2399 [00:07<00:00, 322.57it/s]\n"
     ]
    },
    {
     "name": "stdout",
     "output_type": "stream",
     "text": [
      "Epochs: 2 | Train Loss:  0.0200                 | Train F1:  0.7532                 | Val Loss:  0.0195                 | Val F1:  0.7420\n"
     ]
    },
    {
     "name": "stderr",
     "output_type": "stream",
     "text": [
      "100%|██████████| 2399/2399 [00:07<00:00, 322.23it/s]\n"
     ]
    },
    {
     "name": "stdout",
     "output_type": "stream",
     "text": [
      "Epochs: 3 | Train Loss:  0.0181                 | Train F1:  0.8011                 | Val Loss:  0.0177                 | Val F1:  0.7622\n"
     ]
    },
    {
     "name": "stderr",
     "output_type": "stream",
     "text": [
      "100%|██████████| 2399/2399 [00:07<00:00, 321.15it/s]\n"
     ]
    },
    {
     "name": "stdout",
     "output_type": "stream",
     "text": [
      "Epochs: 4 | Train Loss:  0.0161                 | Train F1:  0.8219                 | Val Loss:  0.0160                 | Val F1:  0.7689\n"
     ]
    },
    {
     "name": "stderr",
     "output_type": "stream",
     "text": [
      "100%|██████████| 2399/2399 [00:07<00:00, 321.55it/s]\n"
     ]
    },
    {
     "name": "stdout",
     "output_type": "stream",
     "text": [
      "Epochs: 5 | Train Loss:  0.0144                 | Train F1:  0.8274                 | Val Loss:  0.0147                 | Val F1:  0.7718\n"
     ]
    },
    {
     "name": "stderr",
     "output_type": "stream",
     "text": [
      "100%|██████████| 2399/2399 [00:07<00:00, 322.56it/s]\n"
     ]
    },
    {
     "name": "stdout",
     "output_type": "stream",
     "text": [
      "Epochs: 6 | Train Loss:  0.0132                 | Train F1:  0.8321                 | Val Loss:  0.0139                 | Val F1:  0.7717\n"
     ]
    },
    {
     "name": "stderr",
     "output_type": "stream",
     "text": [
      "100%|██████████| 2399/2399 [00:07<00:00, 322.50it/s]\n"
     ]
    },
    {
     "name": "stdout",
     "output_type": "stream",
     "text": [
      "Epochs: 7 | Train Loss:  0.0123                 | Train F1:  0.8363                 | Val Loss:  0.0135                 | Val F1:  0.7707\n"
     ]
    },
    {
     "name": "stderr",
     "output_type": "stream",
     "text": [
      "100%|██████████| 2399/2399 [00:07<00:00, 322.46it/s]\n"
     ]
    },
    {
     "name": "stdout",
     "output_type": "stream",
     "text": [
      "Epochs: 8 | Train Loss:  0.0117                 | Train F1:  0.8389                 | Val Loss:  0.0134                 | Val F1:  0.7695\n"
     ]
    },
    {
     "name": "stderr",
     "output_type": "stream",
     "text": [
      "100%|██████████| 2399/2399 [00:07<00:00, 321.85it/s]\n"
     ]
    },
    {
     "name": "stdout",
     "output_type": "stream",
     "text": [
      "Epochs: 9 | Train Loss:  0.0112                 | Train F1:  0.8462                 | Val Loss:  0.0133                 | Val F1:  0.7693\n"
     ]
    },
    {
     "name": "stderr",
     "output_type": "stream",
     "text": [
      "100%|██████████| 2399/2399 [00:07<00:00, 321.03it/s]\n"
     ]
    },
    {
     "name": "stdout",
     "output_type": "stream",
     "text": [
      "Epochs: 10 | Train Loss:  0.0109                 | Train F1:  0.8478                 | Val Loss:  0.0133                 | Val F1:  0.7688\n",
      "Fold 1\n"
     ]
    },
    {
     "name": "stderr",
     "output_type": "stream",
     "text": [
      "100%|██████████| 2485/2485 [00:07<00:00, 322.36it/s]\n"
     ]
    },
    {
     "name": "stdout",
     "output_type": "stream",
     "text": [
      "Epochs: 1 | Train Loss:  0.0219                 | Train F1:  0.6300                 | Val Loss:  0.0214                 | Val F1:  0.6200\n"
     ]
    },
    {
     "name": "stderr",
     "output_type": "stream",
     "text": [
      "100%|██████████| 2485/2485 [00:07<00:00, 322.51it/s]\n"
     ]
    },
    {
     "name": "stdout",
     "output_type": "stream",
     "text": [
      "Epochs: 2 | Train Loss:  0.0209                 | Train F1:  0.6518                 | Val Loss:  0.0200                 | Val F1:  0.7102\n"
     ]
    },
    {
     "name": "stderr",
     "output_type": "stream",
     "text": [
      "100%|██████████| 2485/2485 [00:07<00:00, 322.13it/s]\n"
     ]
    },
    {
     "name": "stdout",
     "output_type": "stream",
     "text": [
      "Epochs: 3 | Train Loss:  0.0192                 | Train F1:  0.7249                 | Val Loss:  0.0178                 | Val F1:  0.8243\n"
     ]
    },
    {
     "name": "stderr",
     "output_type": "stream",
     "text": [
      "100%|██████████| 2485/2485 [00:07<00:00, 319.61it/s]\n"
     ]
    },
    {
     "name": "stdout",
     "output_type": "stream",
     "text": [
      "Epochs: 4 | Train Loss:  0.0172                 | Train F1:  0.7756                 | Val Loss:  0.0154                 | Val F1:  0.8154\n"
     ]
    },
    {
     "name": "stderr",
     "output_type": "stream",
     "text": [
      "100%|██████████| 2485/2485 [00:07<00:00, 323.18it/s]\n"
     ]
    },
    {
     "name": "stdout",
     "output_type": "stream",
     "text": [
      "Epochs: 5 | Train Loss:  0.0153                 | Train F1:  0.7934                 | Val Loss:  0.0135                 | Val F1:  0.8091\n"
     ]
    },
    {
     "name": "stderr",
     "output_type": "stream",
     "text": [
      "100%|██████████| 2485/2485 [00:07<00:00, 320.00it/s]\n"
     ]
    },
    {
     "name": "stdout",
     "output_type": "stream",
     "text": [
      "Epochs: 6 | Train Loss:  0.0140                 | Train F1:  0.8023                 | Val Loss:  0.0122                 | Val F1:  0.8116\n"
     ]
    },
    {
     "name": "stderr",
     "output_type": "stream",
     "text": [
      "100%|██████████| 2485/2485 [00:07<00:00, 323.01it/s]\n"
     ]
    },
    {
     "name": "stdout",
     "output_type": "stream",
     "text": [
      "Epochs: 7 | Train Loss:  0.0131                 | Train F1:  0.8092                 | Val Loss:  0.0113                 | Val F1:  0.8156\n"
     ]
    },
    {
     "name": "stderr",
     "output_type": "stream",
     "text": [
      "100%|██████████| 2485/2485 [00:07<00:00, 320.71it/s]\n"
     ]
    },
    {
     "name": "stdout",
     "output_type": "stream",
     "text": [
      "Epochs: 8 | Train Loss:  0.0125                 | Train F1:  0.8149                 | Val Loss:  0.0108                 | Val F1:  0.8199\n"
     ]
    },
    {
     "name": "stderr",
     "output_type": "stream",
     "text": [
      "100%|██████████| 2485/2485 [00:07<00:00, 323.53it/s]\n"
     ]
    },
    {
     "name": "stdout",
     "output_type": "stream",
     "text": [
      "Epochs: 9 | Train Loss:  0.0121                 | Train F1:  0.8207                 | Val Loss:  0.0105                 | Val F1:  0.8231\n"
     ]
    },
    {
     "name": "stderr",
     "output_type": "stream",
     "text": [
      "100%|██████████| 2485/2485 [00:07<00:00, 321.39it/s]\n"
     ]
    },
    {
     "name": "stdout",
     "output_type": "stream",
     "text": [
      "Epochs: 10 | Train Loss:  0.0118                 | Train F1:  0.8247                 | Val Loss:  0.0103                 | Val F1:  0.8261\n",
      "Fold 2\n"
     ]
    },
    {
     "name": "stderr",
     "output_type": "stream",
     "text": [
      "100%|██████████| 2549/2549 [00:07<00:00, 323.34it/s]\n"
     ]
    },
    {
     "name": "stdout",
     "output_type": "stream",
     "text": [
      "Epochs: 1 | Train Loss:  0.0214                 | Train F1:  0.0685                 | Val Loss:  0.0208                 | Val F1:  0.4780\n"
     ]
    },
    {
     "name": "stderr",
     "output_type": "stream",
     "text": [
      "100%|██████████| 2549/2549 [00:07<00:00, 322.58it/s]\n"
     ]
    },
    {
     "name": "stdout",
     "output_type": "stream",
     "text": [
      "Epochs: 2 | Train Loss:  0.0205                 | Train F1:  0.5513                 | Val Loss:  0.0189                 | Val F1:  0.8571\n"
     ]
    },
    {
     "name": "stderr",
     "output_type": "stream",
     "text": [
      "100%|██████████| 2549/2549 [00:07<00:00, 320.25it/s]\n"
     ]
    },
    {
     "name": "stdout",
     "output_type": "stream",
     "text": [
      "Epochs: 3 | Train Loss:  0.0188                 | Train F1:  0.7545                 | Val Loss:  0.0163                 | Val F1:  0.8799\n"
     ]
    },
    {
     "name": "stderr",
     "output_type": "stream",
     "text": [
      "100%|██████████| 2549/2549 [00:07<00:00, 318.70it/s]\n"
     ]
    },
    {
     "name": "stdout",
     "output_type": "stream",
     "text": [
      "Epochs: 4 | Train Loss:  0.0169                 | Train F1:  0.7918                 | Val Loss:  0.0139                 | Val F1:  0.8789\n"
     ]
    },
    {
     "name": "stderr",
     "output_type": "stream",
     "text": [
      "100%|██████████| 2549/2549 [00:07<00:00, 323.03it/s]\n"
     ]
    },
    {
     "name": "stdout",
     "output_type": "stream",
     "text": [
      "Epochs: 5 | Train Loss:  0.0154                 | Train F1:  0.7983                 | Val Loss:  0.0122                 | Val F1:  0.8764\n"
     ]
    },
    {
     "name": "stderr",
     "output_type": "stream",
     "text": [
      "100%|██████████| 2549/2549 [00:07<00:00, 323.35it/s]\n"
     ]
    },
    {
     "name": "stdout",
     "output_type": "stream",
     "text": [
      "Epochs: 6 | Train Loss:  0.0142                 | Train F1:  0.8037                 | Val Loss:  0.0109                 | Val F1:  0.8743\n"
     ]
    },
    {
     "name": "stderr",
     "output_type": "stream",
     "text": [
      "100%|██████████| 2549/2549 [00:07<00:00, 322.48it/s]\n"
     ]
    },
    {
     "name": "stdout",
     "output_type": "stream",
     "text": [
      "Epochs: 7 | Train Loss:  0.0134                 | Train F1:  0.8086                 | Val Loss:  0.0100                 | Val F1:  0.8727\n"
     ]
    },
    {
     "name": "stderr",
     "output_type": "stream",
     "text": [
      "100%|██████████| 2549/2549 [00:07<00:00, 321.83it/s]\n"
     ]
    },
    {
     "name": "stdout",
     "output_type": "stream",
     "text": [
      "Epochs: 8 | Train Loss:  0.0128                 | Train F1:  0.8137                 | Val Loss:  0.0094                 | Val F1:  0.8708\n"
     ]
    },
    {
     "name": "stderr",
     "output_type": "stream",
     "text": [
      "100%|██████████| 2549/2549 [00:07<00:00, 319.02it/s]\n"
     ]
    },
    {
     "name": "stdout",
     "output_type": "stream",
     "text": [
      "Epochs: 9 | Train Loss:  0.0125                 | Train F1:  0.8151                 | Val Loss:  0.0091                 | Val F1:  0.8693\n"
     ]
    },
    {
     "name": "stderr",
     "output_type": "stream",
     "text": [
      "100%|██████████| 2549/2549 [00:07<00:00, 322.29it/s]\n"
     ]
    },
    {
     "name": "stdout",
     "output_type": "stream",
     "text": [
      "Epochs: 10 | Train Loss:  0.0121                 | Train F1:  0.8206                 | Val Loss:  0.0088                 | Val F1:  0.8688\n",
      "Fold 3\n"
     ]
    },
    {
     "name": "stderr",
     "output_type": "stream",
     "text": [
      "100%|██████████| 2499/2499 [00:07<00:00, 324.14it/s]\n"
     ]
    },
    {
     "name": "stdout",
     "output_type": "stream",
     "text": [
      "Epochs: 1 | Train Loss:  0.0211                 | Train F1:  0.0396                 | Val Loss:  0.0210                 | Val F1:  0.0121\n"
     ]
    },
    {
     "name": "stderr",
     "output_type": "stream",
     "text": [
      "100%|██████████| 2499/2499 [00:07<00:00, 323.21it/s]\n"
     ]
    },
    {
     "name": "stdout",
     "output_type": "stream",
     "text": [
      "Epochs: 2 | Train Loss:  0.0196                 | Train F1:  0.4647                 | Val Loss:  0.0192                 | Val F1:  0.6254\n"
     ]
    },
    {
     "name": "stderr",
     "output_type": "stream",
     "text": [
      "100%|██████████| 2499/2499 [00:07<00:00, 321.20it/s]\n"
     ]
    },
    {
     "name": "stdout",
     "output_type": "stream",
     "text": [
      "Epochs: 3 | Train Loss:  0.0175                 | Train F1:  0.6905                 | Val Loss:  0.0171                 | Val F1:  0.7364\n"
     ]
    },
    {
     "name": "stderr",
     "output_type": "stream",
     "text": [
      "100%|██████████| 2499/2499 [00:07<00:00, 318.58it/s]\n"
     ]
    },
    {
     "name": "stdout",
     "output_type": "stream",
     "text": [
      "Epochs: 4 | Train Loss:  0.0155                 | Train F1:  0.7634                 | Val Loss:  0.0151                 | Val F1:  0.7920\n"
     ]
    },
    {
     "name": "stderr",
     "output_type": "stream",
     "text": [
      "100%|██████████| 2499/2499 [00:07<00:00, 321.50it/s]\n"
     ]
    },
    {
     "name": "stdout",
     "output_type": "stream",
     "text": [
      "Epochs: 5 | Train Loss:  0.0139                 | Train F1:  0.7948                 | Val Loss:  0.0136                 | Val F1:  0.8129\n"
     ]
    },
    {
     "name": "stderr",
     "output_type": "stream",
     "text": [
      "100%|██████████| 2499/2499 [00:07<00:00, 321.53it/s]\n"
     ]
    },
    {
     "name": "stdout",
     "output_type": "stream",
     "text": [
      "Epochs: 6 | Train Loss:  0.0128                 | Train F1:  0.8077                 | Val Loss:  0.0126                 | Val F1:  0.8239\n"
     ]
    },
    {
     "name": "stderr",
     "output_type": "stream",
     "text": [
      "100%|██████████| 2499/2499 [00:07<00:00, 321.55it/s]\n"
     ]
    },
    {
     "name": "stdout",
     "output_type": "stream",
     "text": [
      "Epochs: 7 | Train Loss:  0.0121                 | Train F1:  0.8192                 | Val Loss:  0.0120                 | Val F1:  0.8260\n"
     ]
    },
    {
     "name": "stderr",
     "output_type": "stream",
     "text": [
      "100%|██████████| 2499/2499 [00:07<00:00, 322.39it/s]\n"
     ]
    },
    {
     "name": "stdout",
     "output_type": "stream",
     "text": [
      "Epochs: 8 | Train Loss:  0.0116                 | Train F1:  0.8245                 | Val Loss:  0.0117                 | Val F1:  0.8282\n"
     ]
    },
    {
     "name": "stderr",
     "output_type": "stream",
     "text": [
      "100%|██████████| 2499/2499 [00:07<00:00, 322.55it/s]\n"
     ]
    },
    {
     "name": "stdout",
     "output_type": "stream",
     "text": [
      "Epochs: 9 | Train Loss:  0.0112                 | Train F1:  0.8286                 | Val Loss:  0.0116                 | Val F1:  0.8287\n"
     ]
    },
    {
     "name": "stderr",
     "output_type": "stream",
     "text": [
      "100%|██████████| 2499/2499 [00:07<00:00, 319.21it/s]\n"
     ]
    },
    {
     "name": "stdout",
     "output_type": "stream",
     "text": [
      "Epochs: 10 | Train Loss:  0.0109                 | Train F1:  0.8335                 | Val Loss:  0.0115                 | Val F1:  0.8304\n",
      "Fold 4\n"
     ]
    },
    {
     "name": "stderr",
     "output_type": "stream",
     "text": [
      "100%|██████████| 2303/2303 [00:07<00:00, 324.11it/s]\n"
     ]
    },
    {
     "name": "stdout",
     "output_type": "stream",
     "text": [
      "Epochs: 1 | Train Loss:  0.0214                 | Train F1:  0.6441                 | Val Loss:  0.0212                 | Val F1:  0.7332\n"
     ]
    },
    {
     "name": "stderr",
     "output_type": "stream",
     "text": [
      "100%|██████████| 2303/2303 [00:07<00:00, 323.59it/s]\n"
     ]
    },
    {
     "name": "stdout",
     "output_type": "stream",
     "text": [
      "Epochs: 2 | Train Loss:  0.0202                 | Train F1:  0.7681                 | Val Loss:  0.0199                 | Val F1:  0.7385\n"
     ]
    },
    {
     "name": "stderr",
     "output_type": "stream",
     "text": [
      "100%|██████████| 2303/2303 [00:07<00:00, 321.50it/s]\n"
     ]
    },
    {
     "name": "stdout",
     "output_type": "stream",
     "text": [
      "Epochs: 3 | Train Loss:  0.0182                 | Train F1:  0.8059                 | Val Loss:  0.0184                 | Val F1:  0.7403\n"
     ]
    },
    {
     "name": "stderr",
     "output_type": "stream",
     "text": [
      "100%|██████████| 2303/2303 [00:07<00:00, 321.55it/s]\n"
     ]
    },
    {
     "name": "stdout",
     "output_type": "stream",
     "text": [
      "Epochs: 4 | Train Loss:  0.0163                 | Train F1:  0.8209                 | Val Loss:  0.0172                 | Val F1:  0.7404\n"
     ]
    },
    {
     "name": "stderr",
     "output_type": "stream",
     "text": [
      "100%|██████████| 2303/2303 [00:07<00:00, 323.60it/s]\n"
     ]
    },
    {
     "name": "stdout",
     "output_type": "stream",
     "text": [
      "Epochs: 5 | Train Loss:  0.0148                 | Train F1:  0.8296                 | Val Loss:  0.0164                 | Val F1:  0.7405\n"
     ]
    },
    {
     "name": "stderr",
     "output_type": "stream",
     "text": [
      "100%|██████████| 2303/2303 [00:07<00:00, 321.39it/s]\n"
     ]
    },
    {
     "name": "stdout",
     "output_type": "stream",
     "text": [
      "Epochs: 6 | Train Loss:  0.0135                 | Train F1:  0.8348                 | Val Loss:  0.0157                 | Val F1:  0.7412\n"
     ]
    },
    {
     "name": "stderr",
     "output_type": "stream",
     "text": [
      "100%|██████████| 2303/2303 [00:07<00:00, 321.43it/s]\n"
     ]
    },
    {
     "name": "stdout",
     "output_type": "stream",
     "text": [
      "Epochs: 7 | Train Loss:  0.0124                 | Train F1:  0.8386                 | Val Loss:  0.0154                 | Val F1:  0.7420\n"
     ]
    },
    {
     "name": "stderr",
     "output_type": "stream",
     "text": [
      "100%|██████████| 2303/2303 [00:07<00:00, 323.01it/s]\n"
     ]
    },
    {
     "name": "stdout",
     "output_type": "stream",
     "text": [
      "Epochs: 8 | Train Loss:  0.0117                 | Train F1:  0.8405                 | Val Loss:  0.0152                 | Val F1:  0.7428\n"
     ]
    },
    {
     "name": "stderr",
     "output_type": "stream",
     "text": [
      "100%|██████████| 2303/2303 [00:07<00:00, 319.73it/s]\n"
     ]
    },
    {
     "name": "stdout",
     "output_type": "stream",
     "text": [
      "Epochs: 9 | Train Loss:  0.0112                 | Train F1:  0.8435                 | Val Loss:  0.0152                 | Val F1:  0.7426\n"
     ]
    },
    {
     "name": "stderr",
     "output_type": "stream",
     "text": [
      "100%|██████████| 2303/2303 [00:07<00:00, 322.99it/s]\n",
      "\u001b[32m[I 2022-06-16 18:41:16,471]\u001b[0m Trial 15 finished with value: 0.807087138352161 and parameters: {'learning_rate': 1.0372272937269755e-05, 'n_layers': 2, 'n_units_l0': 28, 'dropout_l0': 0.45, 'n_units_l1': 17, 'dropout_l1': 0.4}. Best is trial 15 with value: 0.807087138352161.\u001b[0m\n"
     ]
    },
    {
     "name": "stdout",
     "output_type": "stream",
     "text": [
      "Epochs: 10 | Train Loss:  0.0108                 | Train F1:  0.8483                 | Val Loss:  0.0153                 | Val F1:  0.7414\n",
      "Fold 0\n"
     ]
    },
    {
     "name": "stderr",
     "output_type": "stream",
     "text": [
      "100%|██████████| 2399/2399 [00:08<00:00, 289.82it/s]\n"
     ]
    },
    {
     "name": "stdout",
     "output_type": "stream",
     "text": [
      "Epochs: 1 | Train Loss:  0.0101                 | Train F1:  0.8608                 | Val Loss:  0.0150                 | Val F1:  0.7604\n"
     ]
    },
    {
     "name": "stderr",
     "output_type": "stream",
     "text": [
      "100%|██████████| 2399/2399 [00:08<00:00, 290.09it/s]\n"
     ]
    },
    {
     "name": "stdout",
     "output_type": "stream",
     "text": [
      "Epochs: 2 | Train Loss:  0.0070                 | Train F1:  0.9047                 | Val Loss:  0.0161                 | Val F1:  0.7583\n"
     ]
    },
    {
     "name": "stderr",
     "output_type": "stream",
     "text": [
      "100%|██████████| 2399/2399 [00:08<00:00, 292.98it/s]\n"
     ]
    },
    {
     "name": "stdout",
     "output_type": "stream",
     "text": [
      "Epochs: 3 | Train Loss:  0.0061                 | Train F1:  0.9207                 | Val Loss:  0.0168                 | Val F1:  0.7569\n"
     ]
    },
    {
     "name": "stderr",
     "output_type": "stream",
     "text": [
      "100%|██████████| 2399/2399 [00:08<00:00, 291.49it/s]\n"
     ]
    },
    {
     "name": "stdout",
     "output_type": "stream",
     "text": [
      "Epochs: 4 | Train Loss:  0.0054                 | Train F1:  0.9287                 | Val Loss:  0.0190                 | Val F1:  0.7590\n"
     ]
    },
    {
     "name": "stderr",
     "output_type": "stream",
     "text": [
      "100%|██████████| 2399/2399 [00:08<00:00, 290.83it/s]\n"
     ]
    },
    {
     "name": "stdout",
     "output_type": "stream",
     "text": [
      "Epochs: 5 | Train Loss:  0.0050                 | Train F1:  0.9350                 | Val Loss:  0.0195                 | Val F1:  0.7563\n"
     ]
    },
    {
     "name": "stderr",
     "output_type": "stream",
     "text": [
      "100%|██████████| 2399/2399 [00:08<00:00, 292.80it/s]\n"
     ]
    },
    {
     "name": "stdout",
     "output_type": "stream",
     "text": [
      "Epochs: 6 | Train Loss:  0.0046                 | Train F1:  0.9391                 | Val Loss:  0.0213                 | Val F1:  0.7600\n"
     ]
    },
    {
     "name": "stderr",
     "output_type": "stream",
     "text": [
      "100%|██████████| 2399/2399 [00:08<00:00, 292.13it/s]\n"
     ]
    },
    {
     "name": "stdout",
     "output_type": "stream",
     "text": [
      "Epochs: 7 | Train Loss:  0.0044                 | Train F1:  0.9409                 | Val Loss:  0.0216                 | Val F1:  0.7579\n"
     ]
    },
    {
     "name": "stderr",
     "output_type": "stream",
     "text": [
      "100%|██████████| 2399/2399 [00:08<00:00, 289.52it/s]\n"
     ]
    },
    {
     "name": "stdout",
     "output_type": "stream",
     "text": [
      "Epochs: 8 | Train Loss:  0.0042                 | Train F1:  0.9441                 | Val Loss:  0.0233                 | Val F1:  0.7612\n"
     ]
    },
    {
     "name": "stderr",
     "output_type": "stream",
     "text": [
      "100%|██████████| 2399/2399 [00:08<00:00, 293.65it/s]\n"
     ]
    },
    {
     "name": "stdout",
     "output_type": "stream",
     "text": [
      "Epochs: 9 | Train Loss:  0.0040                 | Train F1:  0.9469                 | Val Loss:  0.0214                 | Val F1:  0.7602\n"
     ]
    },
    {
     "name": "stderr",
     "output_type": "stream",
     "text": [
      "100%|██████████| 2399/2399 [00:08<00:00, 290.61it/s]\n"
     ]
    },
    {
     "name": "stdout",
     "output_type": "stream",
     "text": [
      "Epochs: 10 | Train Loss:  0.0038                 | Train F1:  0.9480                 | Val Loss:  0.0253                 | Val F1:  0.7645\n",
      "Fold 1\n"
     ]
    },
    {
     "name": "stderr",
     "output_type": "stream",
     "text": [
      "100%|██████████| 2485/2485 [00:08<00:00, 289.85it/s]\n"
     ]
    },
    {
     "name": "stdout",
     "output_type": "stream",
     "text": [
      "Epochs: 1 | Train Loss:  0.0107                 | Train F1:  0.8294                 | Val Loss:  0.0103                 | Val F1:  0.8259\n"
     ]
    },
    {
     "name": "stderr",
     "output_type": "stream",
     "text": [
      "100%|██████████| 2485/2485 [00:08<00:00, 291.31it/s]\n"
     ]
    },
    {
     "name": "stdout",
     "output_type": "stream",
     "text": [
      "Epochs: 2 | Train Loss:  0.0076                 | Train F1:  0.8898                 | Val Loss:  0.0108                 | Val F1:  0.8370\n"
     ]
    },
    {
     "name": "stderr",
     "output_type": "stream",
     "text": [
      "100%|██████████| 2485/2485 [00:08<00:00, 292.37it/s]\n"
     ]
    },
    {
     "name": "stdout",
     "output_type": "stream",
     "text": [
      "Epochs: 3 | Train Loss:  0.0064                 | Train F1:  0.9108                 | Val Loss:  0.0118                 | Val F1:  0.8129\n"
     ]
    },
    {
     "name": "stderr",
     "output_type": "stream",
     "text": [
      "100%|██████████| 2485/2485 [00:08<00:00, 287.90it/s]\n"
     ]
    },
    {
     "name": "stdout",
     "output_type": "stream",
     "text": [
      "Epochs: 4 | Train Loss:  0.0058                 | Train F1:  0.9192                 | Val Loss:  0.0123                 | Val F1:  0.8182\n"
     ]
    },
    {
     "name": "stderr",
     "output_type": "stream",
     "text": [
      "100%|██████████| 2485/2485 [00:08<00:00, 291.65it/s]\n"
     ]
    },
    {
     "name": "stdout",
     "output_type": "stream",
     "text": [
      "Epochs: 5 | Train Loss:  0.0053                 | Train F1:  0.9266                 | Val Loss:  0.0127                 | Val F1:  0.8176\n"
     ]
    },
    {
     "name": "stderr",
     "output_type": "stream",
     "text": [
      "100%|██████████| 2485/2485 [00:08<00:00, 291.37it/s]\n"
     ]
    },
    {
     "name": "stdout",
     "output_type": "stream",
     "text": [
      "Epochs: 6 | Train Loss:  0.0050                 | Train F1:  0.9308                 | Val Loss:  0.0135                 | Val F1:  0.8163\n"
     ]
    },
    {
     "name": "stderr",
     "output_type": "stream",
     "text": [
      "100%|██████████| 2485/2485 [00:08<00:00, 290.98it/s]\n"
     ]
    },
    {
     "name": "stdout",
     "output_type": "stream",
     "text": [
      "Epochs: 7 | Train Loss:  0.0047                 | Train F1:  0.9355                 | Val Loss:  0.0142                 | Val F1:  0.8135\n"
     ]
    },
    {
     "name": "stderr",
     "output_type": "stream",
     "text": [
      "100%|██████████| 2485/2485 [00:08<00:00, 292.04it/s]\n"
     ]
    },
    {
     "name": "stdout",
     "output_type": "stream",
     "text": [
      "Epochs: 8 | Train Loss:  0.0044                 | Train F1:  0.9392                 | Val Loss:  0.0158                 | Val F1:  0.7966\n"
     ]
    },
    {
     "name": "stderr",
     "output_type": "stream",
     "text": [
      "100%|██████████| 2485/2485 [00:08<00:00, 291.50it/s]\n"
     ]
    },
    {
     "name": "stdout",
     "output_type": "stream",
     "text": [
      "Epochs: 9 | Train Loss:  0.0043                 | Train F1:  0.9404                 | Val Loss:  0.0142                 | Val F1:  0.8140\n"
     ]
    },
    {
     "name": "stderr",
     "output_type": "stream",
     "text": [
      "100%|██████████| 2485/2485 [00:08<00:00, 291.22it/s]\n"
     ]
    },
    {
     "name": "stdout",
     "output_type": "stream",
     "text": [
      "Epochs: 10 | Train Loss:  0.0041                 | Train F1:  0.9421                 | Val Loss:  0.0150                 | Val F1:  0.8063\n",
      "Fold 2\n"
     ]
    },
    {
     "name": "stderr",
     "output_type": "stream",
     "text": [
      "100%|██████████| 2549/2549 [00:08<00:00, 291.52it/s]\n"
     ]
    },
    {
     "name": "stdout",
     "output_type": "stream",
     "text": [
      "Epochs: 1 | Train Loss:  0.0110                 | Train F1:  0.8296                 | Val Loss:  0.0081                 | Val F1:  0.8607\n"
     ]
    },
    {
     "name": "stderr",
     "output_type": "stream",
     "text": [
      "100%|██████████| 2549/2549 [00:08<00:00, 293.19it/s]\n"
     ]
    },
    {
     "name": "stdout",
     "output_type": "stream",
     "text": [
      "Epochs: 2 | Train Loss:  0.0081                 | Train F1:  0.8876                 | Val Loss:  0.0080                 | Val F1:  0.8694\n"
     ]
    },
    {
     "name": "stderr",
     "output_type": "stream",
     "text": [
      "100%|██████████| 2549/2549 [00:08<00:00, 292.37it/s]\n"
     ]
    },
    {
     "name": "stdout",
     "output_type": "stream",
     "text": [
      "Epochs: 3 | Train Loss:  0.0070                 | Train F1:  0.9042                 | Val Loss:  0.0083                 | Val F1:  0.8678\n"
     ]
    },
    {
     "name": "stderr",
     "output_type": "stream",
     "text": [
      "100%|██████████| 2549/2549 [00:08<00:00, 292.95it/s]\n"
     ]
    },
    {
     "name": "stdout",
     "output_type": "stream",
     "text": [
      "Epochs: 4 | Train Loss:  0.0063                 | Train F1:  0.9163                 | Val Loss:  0.0082                 | Val F1:  0.8724\n"
     ]
    },
    {
     "name": "stderr",
     "output_type": "stream",
     "text": [
      "100%|██████████| 2549/2549 [00:08<00:00, 292.12it/s]\n"
     ]
    },
    {
     "name": "stdout",
     "output_type": "stream",
     "text": [
      "Epochs: 5 | Train Loss:  0.0058                 | Train F1:  0.9222                 | Val Loss:  0.0086                 | Val F1:  0.8680\n"
     ]
    },
    {
     "name": "stderr",
     "output_type": "stream",
     "text": [
      "100%|██████████| 2549/2549 [00:08<00:00, 292.46it/s]\n"
     ]
    },
    {
     "name": "stdout",
     "output_type": "stream",
     "text": [
      "Epochs: 6 | Train Loss:  0.0054                 | Train F1:  0.9272                 | Val Loss:  0.0087                 | Val F1:  0.8747\n"
     ]
    },
    {
     "name": "stderr",
     "output_type": "stream",
     "text": [
      "100%|██████████| 2549/2549 [00:08<00:00, 292.25it/s]\n"
     ]
    },
    {
     "name": "stdout",
     "output_type": "stream",
     "text": [
      "Epochs: 7 | Train Loss:  0.0051                 | Train F1:  0.9312                 | Val Loss:  0.0091                 | Val F1:  0.8707\n"
     ]
    },
    {
     "name": "stderr",
     "output_type": "stream",
     "text": [
      "100%|██████████| 2549/2549 [00:08<00:00, 290.87it/s]\n"
     ]
    },
    {
     "name": "stdout",
     "output_type": "stream",
     "text": [
      "Epochs: 8 | Train Loss:  0.0049                 | Train F1:  0.9340                 | Val Loss:  0.0092                 | Val F1:  0.8715\n"
     ]
    },
    {
     "name": "stderr",
     "output_type": "stream",
     "text": [
      "100%|██████████| 2549/2549 [00:08<00:00, 292.10it/s]\n"
     ]
    },
    {
     "name": "stdout",
     "output_type": "stream",
     "text": [
      "Epochs: 9 | Train Loss:  0.0047                 | Train F1:  0.9377                 | Val Loss:  0.0092                 | Val F1:  0.8734\n"
     ]
    },
    {
     "name": "stderr",
     "output_type": "stream",
     "text": [
      "100%|██████████| 2549/2549 [00:08<00:00, 292.68it/s]\n"
     ]
    },
    {
     "name": "stdout",
     "output_type": "stream",
     "text": [
      "Epochs: 10 | Train Loss:  0.0045                 | Train F1:  0.9392                 | Val Loss:  0.0099                 | Val F1:  0.8690\n",
      "Fold 3\n"
     ]
    },
    {
     "name": "stderr",
     "output_type": "stream",
     "text": [
      "100%|██████████| 2499/2499 [00:08<00:00, 291.45it/s]\n"
     ]
    },
    {
     "name": "stdout",
     "output_type": "stream",
     "text": [
      "Epochs: 1 | Train Loss:  0.0104                 | Train F1:  0.8371                 | Val Loss:  0.0135                 | Val F1:  0.7844\n"
     ]
    },
    {
     "name": "stderr",
     "output_type": "stream",
     "text": [
      "100%|██████████| 2499/2499 [00:08<00:00, 292.59it/s]\n"
     ]
    },
    {
     "name": "stdout",
     "output_type": "stream",
     "text": [
      "Epochs: 2 | Train Loss:  0.0073                 | Train F1:  0.8959                 | Val Loss:  0.0154                 | Val F1:  0.7752\n"
     ]
    },
    {
     "name": "stderr",
     "output_type": "stream",
     "text": [
      "100%|██████████| 2499/2499 [00:08<00:00, 292.27it/s]\n"
     ]
    },
    {
     "name": "stdout",
     "output_type": "stream",
     "text": [
      "Epochs: 3 | Train Loss:  0.0063                 | Train F1:  0.9129                 | Val Loss:  0.0162                 | Val F1:  0.7847\n"
     ]
    },
    {
     "name": "stderr",
     "output_type": "stream",
     "text": [
      "100%|██████████| 2499/2499 [00:08<00:00, 290.41it/s]\n"
     ]
    },
    {
     "name": "stdout",
     "output_type": "stream",
     "text": [
      "Epochs: 4 | Train Loss:  0.0056                 | Train F1:  0.9224                 | Val Loss:  0.0166                 | Val F1:  0.7719\n"
     ]
    },
    {
     "name": "stderr",
     "output_type": "stream",
     "text": [
      "100%|██████████| 2499/2499 [00:08<00:00, 291.81it/s]\n"
     ]
    },
    {
     "name": "stdout",
     "output_type": "stream",
     "text": [
      "Epochs: 5 | Train Loss:  0.0052                 | Train F1:  0.9280                 | Val Loss:  0.0176                 | Val F1:  0.7777\n"
     ]
    },
    {
     "name": "stderr",
     "output_type": "stream",
     "text": [
      "100%|██████████| 2499/2499 [00:08<00:00, 291.87it/s]\n"
     ]
    },
    {
     "name": "stdout",
     "output_type": "stream",
     "text": [
      "Epochs: 6 | Train Loss:  0.0049                 | Train F1:  0.9313                 | Val Loss:  0.0193                 | Val F1:  0.7742\n"
     ]
    },
    {
     "name": "stderr",
     "output_type": "stream",
     "text": [
      "100%|██████████| 2499/2499 [00:08<00:00, 293.05it/s]\n"
     ]
    },
    {
     "name": "stdout",
     "output_type": "stream",
     "text": [
      "Epochs: 7 | Train Loss:  0.0046                 | Train F1:  0.9351                 | Val Loss:  0.0183                 | Val F1:  0.7731\n"
     ]
    },
    {
     "name": "stderr",
     "output_type": "stream",
     "text": [
      "100%|██████████| 2499/2499 [00:08<00:00, 292.09it/s]\n"
     ]
    },
    {
     "name": "stdout",
     "output_type": "stream",
     "text": [
      "Epochs: 8 | Train Loss:  0.0044                 | Train F1:  0.9368                 | Val Loss:  0.0202                 | Val F1:  0.7694\n"
     ]
    },
    {
     "name": "stderr",
     "output_type": "stream",
     "text": [
      "100%|██████████| 2499/2499 [00:08<00:00, 290.90it/s]\n"
     ]
    },
    {
     "name": "stdout",
     "output_type": "stream",
     "text": [
      "Epochs: 9 | Train Loss:  0.0043                 | Train F1:  0.9390                 | Val Loss:  0.0202                 | Val F1:  0.7842\n"
     ]
    },
    {
     "name": "stderr",
     "output_type": "stream",
     "text": [
      "100%|██████████| 2499/2499 [00:08<00:00, 291.64it/s]\n"
     ]
    },
    {
     "name": "stdout",
     "output_type": "stream",
     "text": [
      "Epochs: 10 | Train Loss:  0.0041                 | Train F1:  0.9405                 | Val Loss:  0.0208                 | Val F1:  0.7810\n",
      "Fold 4\n"
     ]
    },
    {
     "name": "stderr",
     "output_type": "stream",
     "text": [
      "100%|██████████| 2303/2303 [00:07<00:00, 293.49it/s]\n"
     ]
    },
    {
     "name": "stdout",
     "output_type": "stream",
     "text": [
      "Epochs: 1 | Train Loss:  0.0094                 | Train F1:  0.8560                 | Val Loss:  0.0182                 | Val F1:  0.7242\n"
     ]
    },
    {
     "name": "stderr",
     "output_type": "stream",
     "text": [
      "100%|██████████| 2303/2303 [00:07<00:00, 290.78it/s]\n"
     ]
    },
    {
     "name": "stdout",
     "output_type": "stream",
     "text": [
      "Epochs: 2 | Train Loss:  0.0064                 | Train F1:  0.9131                 | Val Loss:  0.0201                 | Val F1:  0.7143\n"
     ]
    },
    {
     "name": "stderr",
     "output_type": "stream",
     "text": [
      "100%|██████████| 2303/2303 [00:07<00:00, 293.63it/s]\n"
     ]
    },
    {
     "name": "stdout",
     "output_type": "stream",
     "text": [
      "Epochs: 3 | Train Loss:  0.0053                 | Train F1:  0.9287                 | Val Loss:  0.0209                 | Val F1:  0.7220\n"
     ]
    },
    {
     "name": "stderr",
     "output_type": "stream",
     "text": [
      "100%|██████████| 2303/2303 [00:07<00:00, 287.94it/s]\n"
     ]
    },
    {
     "name": "stdout",
     "output_type": "stream",
     "text": [
      "Epochs: 4 | Train Loss:  0.0047                 | Train F1:  0.9381                 | Val Loss:  0.0218                 | Val F1:  0.7223\n"
     ]
    },
    {
     "name": "stderr",
     "output_type": "stream",
     "text": [
      "100%|██████████| 2303/2303 [00:07<00:00, 289.65it/s]\n"
     ]
    },
    {
     "name": "stdout",
     "output_type": "stream",
     "text": [
      "Epochs: 5 | Train Loss:  0.0043                 | Train F1:  0.9449                 | Val Loss:  0.0241                 | Val F1:  0.7165\n"
     ]
    },
    {
     "name": "stderr",
     "output_type": "stream",
     "text": [
      "100%|██████████| 2303/2303 [00:07<00:00, 293.53it/s]\n"
     ]
    },
    {
     "name": "stdout",
     "output_type": "stream",
     "text": [
      "Epochs: 6 | Train Loss:  0.0040                 | Train F1:  0.9492                 | Val Loss:  0.0259                 | Val F1:  0.7071\n"
     ]
    },
    {
     "name": "stderr",
     "output_type": "stream",
     "text": [
      "100%|██████████| 2303/2303 [00:07<00:00, 292.35it/s]\n"
     ]
    },
    {
     "name": "stdout",
     "output_type": "stream",
     "text": [
      "Epochs: 7 | Train Loss:  0.0038                 | Train F1:  0.9512                 | Val Loss:  0.0263                 | Val F1:  0.7088\n"
     ]
    },
    {
     "name": "stderr",
     "output_type": "stream",
     "text": [
      "100%|██████████| 2303/2303 [00:07<00:00, 293.79it/s]\n"
     ]
    },
    {
     "name": "stdout",
     "output_type": "stream",
     "text": [
      "Epochs: 8 | Train Loss:  0.0035                 | Train F1:  0.9543                 | Val Loss:  0.0298                 | Val F1:  0.7105\n"
     ]
    },
    {
     "name": "stderr",
     "output_type": "stream",
     "text": [
      "100%|██████████| 2303/2303 [00:07<00:00, 295.03it/s]\n"
     ]
    },
    {
     "name": "stdout",
     "output_type": "stream",
     "text": [
      "Epochs: 9 | Train Loss:  0.0034                 | Train F1:  0.9553                 | Val Loss:  0.0289                 | Val F1:  0.7181\n"
     ]
    },
    {
     "name": "stderr",
     "output_type": "stream",
     "text": [
      "100%|██████████| 2303/2303 [00:07<00:00, 293.43it/s]\n",
      "\u001b[32m[I 2022-06-16 18:49:03,656]\u001b[0m Trial 16 finished with value: 0.7857464912421752 and parameters: {'learning_rate': 0.0005074641892873869, 'n_layers': 3, 'n_units_l0': 30, 'dropout_l0': 0.45, 'n_units_l1': 17, 'dropout_l1': 0.4, 'n_units_l2': 12, 'dropout_l2': 0.25}. Best is trial 15 with value: 0.807087138352161.\u001b[0m\n"
     ]
    },
    {
     "name": "stdout",
     "output_type": "stream",
     "text": [
      "Epochs: 10 | Train Loss:  0.0033                 | Train F1:  0.9561                 | Val Loss:  0.0304                 | Val F1:  0.7079\n",
      "Fold 0\n"
     ]
    },
    {
     "name": "stderr",
     "output_type": "stream",
     "text": [
      "100%|██████████| 2399/2399 [00:07<00:00, 329.04it/s]\n"
     ]
    },
    {
     "name": "stdout",
     "output_type": "stream",
     "text": [
      "Epochs: 1 | Train Loss:  0.0205                 | Train F1:  0.3054                 | Val Loss:  0.0183                 | Val F1:  0.7783\n"
     ]
    },
    {
     "name": "stderr",
     "output_type": "stream",
     "text": [
      "100%|██████████| 2399/2399 [00:07<00:00, 330.45it/s]\n"
     ]
    },
    {
     "name": "stdout",
     "output_type": "stream",
     "text": [
      "Epochs: 2 | Train Loss:  0.0171                 | Train F1:  0.6406                 | Val Loss:  0.0150                 | Val F1:  0.7708\n"
     ]
    },
    {
     "name": "stderr",
     "output_type": "stream",
     "text": [
      "100%|██████████| 2399/2399 [00:07<00:00, 329.82it/s]\n"
     ]
    },
    {
     "name": "stdout",
     "output_type": "stream",
     "text": [
      "Epochs: 3 | Train Loss:  0.0155                 | Train F1:  0.6521                 | Val Loss:  0.0138                 | Val F1:  0.7704\n"
     ]
    },
    {
     "name": "stderr",
     "output_type": "stream",
     "text": [
      "100%|██████████| 2399/2399 [00:07<00:00, 328.73it/s]\n"
     ]
    },
    {
     "name": "stdout",
     "output_type": "stream",
     "text": [
      "Epochs: 4 | Train Loss:  0.0150                 | Train F1:  0.6563                 | Val Loss:  0.0135                 | Val F1:  0.7694\n"
     ]
    },
    {
     "name": "stderr",
     "output_type": "stream",
     "text": [
      "100%|██████████| 2399/2399 [00:07<00:00, 327.83it/s]\n"
     ]
    },
    {
     "name": "stdout",
     "output_type": "stream",
     "text": [
      "Epochs: 5 | Train Loss:  0.0145                 | Train F1:  0.6709                 | Val Loss:  0.0134                 | Val F1:  0.7683\n"
     ]
    },
    {
     "name": "stderr",
     "output_type": "stream",
     "text": [
      "100%|██████████| 2399/2399 [00:07<00:00, 328.10it/s]\n"
     ]
    },
    {
     "name": "stdout",
     "output_type": "stream",
     "text": [
      "Epochs: 6 | Train Loss:  0.0143                 | Train F1:  0.6781                 | Val Loss:  0.0133                 | Val F1:  0.7688\n"
     ]
    },
    {
     "name": "stderr",
     "output_type": "stream",
     "text": [
      "100%|██████████| 2399/2399 [00:07<00:00, 328.58it/s]\n"
     ]
    },
    {
     "name": "stdout",
     "output_type": "stream",
     "text": [
      "Epochs: 7 | Train Loss:  0.0142                 | Train F1:  0.6774                 | Val Loss:  0.0132                 | Val F1:  0.7676\n"
     ]
    },
    {
     "name": "stderr",
     "output_type": "stream",
     "text": [
      "100%|██████████| 2399/2399 [00:07<00:00, 329.01it/s]\n"
     ]
    },
    {
     "name": "stdout",
     "output_type": "stream",
     "text": [
      "Epochs: 8 | Train Loss:  0.0140                 | Train F1:  0.6792                 | Val Loss:  0.0133                 | Val F1:  0.7672\n"
     ]
    },
    {
     "name": "stderr",
     "output_type": "stream",
     "text": [
      "100%|██████████| 2399/2399 [00:07<00:00, 327.42it/s]\n"
     ]
    },
    {
     "name": "stdout",
     "output_type": "stream",
     "text": [
      "Epochs: 9 | Train Loss:  0.0139                 | Train F1:  0.6827                 | Val Loss:  0.0132                 | Val F1:  0.7671\n"
     ]
    },
    {
     "name": "stderr",
     "output_type": "stream",
     "text": [
      "100%|██████████| 2399/2399 [00:07<00:00, 328.85it/s]\n"
     ]
    },
    {
     "name": "stdout",
     "output_type": "stream",
     "text": [
      "Epochs: 10 | Train Loss:  0.0138                 | Train F1:  0.6824                 | Val Loss:  0.0133                 | Val F1:  0.7663\n",
      "Fold 1\n"
     ]
    },
    {
     "name": "stderr",
     "output_type": "stream",
     "text": [
      "100%|██████████| 2485/2485 [00:07<00:00, 329.56it/s]\n"
     ]
    },
    {
     "name": "stdout",
     "output_type": "stream",
     "text": [
      "Epochs: 1 | Train Loss:  0.0216                 | Train F1:  0.6300                 | Val Loss:  0.0192                 | Val F1:  0.6200\n"
     ]
    },
    {
     "name": "stderr",
     "output_type": "stream",
     "text": [
      "100%|██████████| 2485/2485 [00:07<00:00, 329.18it/s]\n"
     ]
    },
    {
     "name": "stdout",
     "output_type": "stream",
     "text": [
      "Epochs: 2 | Train Loss:  0.0187                 | Train F1:  0.6497                 | Val Loss:  0.0167                 | Val F1:  0.8285\n"
     ]
    },
    {
     "name": "stderr",
     "output_type": "stream",
     "text": [
      "100%|██████████| 2485/2485 [00:07<00:00, 329.14it/s]\n"
     ]
    },
    {
     "name": "stdout",
     "output_type": "stream",
     "text": [
      "Epochs: 3 | Train Loss:  0.0171                 | Train F1:  0.7188                 | Val Loss:  0.0152                 | Val F1:  0.8082\n"
     ]
    },
    {
     "name": "stderr",
     "output_type": "stream",
     "text": [
      "100%|██████████| 2485/2485 [00:07<00:00, 328.11it/s]\n"
     ]
    },
    {
     "name": "stdout",
     "output_type": "stream",
     "text": [
      "Epochs: 4 | Train Loss:  0.0161                 | Train F1:  0.7185                 | Val Loss:  0.0141                 | Val F1:  0.8056\n"
     ]
    },
    {
     "name": "stderr",
     "output_type": "stream",
     "text": [
      "100%|██████████| 2485/2485 [00:07<00:00, 329.35it/s]\n"
     ]
    },
    {
     "name": "stdout",
     "output_type": "stream",
     "text": [
      "Epochs: 5 | Train Loss:  0.0154                 | Train F1:  0.7220                 | Val Loss:  0.0134                 | Val F1:  0.8037\n"
     ]
    },
    {
     "name": "stderr",
     "output_type": "stream",
     "text": [
      "100%|██████████| 2485/2485 [00:07<00:00, 327.55it/s]\n"
     ]
    },
    {
     "name": "stdout",
     "output_type": "stream",
     "text": [
      "Epochs: 6 | Train Loss:  0.0149                 | Train F1:  0.7210                 | Val Loss:  0.0128                 | Val F1:  0.8030\n"
     ]
    },
    {
     "name": "stderr",
     "output_type": "stream",
     "text": [
      "100%|██████████| 2485/2485 [00:07<00:00, 327.75it/s]\n"
     ]
    },
    {
     "name": "stdout",
     "output_type": "stream",
     "text": [
      "Epochs: 7 | Train Loss:  0.0146                 | Train F1:  0.7213                 | Val Loss:  0.0124                 | Val F1:  0.8036\n"
     ]
    },
    {
     "name": "stderr",
     "output_type": "stream",
     "text": [
      "100%|██████████| 2485/2485 [00:07<00:00, 327.35it/s]\n"
     ]
    },
    {
     "name": "stdout",
     "output_type": "stream",
     "text": [
      "Epochs: 8 | Train Loss:  0.0143                 | Train F1:  0.7217                 | Val Loss:  0.0121                 | Val F1:  0.8010\n"
     ]
    },
    {
     "name": "stderr",
     "output_type": "stream",
     "text": [
      "100%|██████████| 2485/2485 [00:07<00:00, 327.02it/s]\n"
     ]
    },
    {
     "name": "stdout",
     "output_type": "stream",
     "text": [
      "Epochs: 9 | Train Loss:  0.0140                 | Train F1:  0.7232                 | Val Loss:  0.0119                 | Val F1:  0.7988\n"
     ]
    },
    {
     "name": "stderr",
     "output_type": "stream",
     "text": [
      "100%|██████████| 2485/2485 [00:07<00:00, 327.75it/s]\n"
     ]
    },
    {
     "name": "stdout",
     "output_type": "stream",
     "text": [
      "Epochs: 10 | Train Loss:  0.0138                 | Train F1:  0.7272                 | Val Loss:  0.0117                 | Val F1:  0.7992\n",
      "Fold 2\n"
     ]
    },
    {
     "name": "stderr",
     "output_type": "stream",
     "text": [
      "100%|██████████| 2549/2549 [00:07<00:00, 329.86it/s]\n"
     ]
    },
    {
     "name": "stdout",
     "output_type": "stream",
     "text": [
      "Epochs: 1 | Train Loss:  0.0194                 | Train F1:  0.5795                 | Val Loss:  0.0143                 | Val F1:  0.8812\n"
     ]
    },
    {
     "name": "stderr",
     "output_type": "stream",
     "text": [
      "100%|██████████| 2549/2549 [00:07<00:00, 328.70it/s]\n"
     ]
    },
    {
     "name": "stdout",
     "output_type": "stream",
     "text": [
      "Epochs: 2 | Train Loss:  0.0158                 | Train F1:  0.7391                 | Val Loss:  0.0113                 | Val F1:  0.8731\n"
     ]
    },
    {
     "name": "stderr",
     "output_type": "stream",
     "text": [
      "100%|██████████| 2549/2549 [00:07<00:00, 328.51it/s]\n"
     ]
    },
    {
     "name": "stdout",
     "output_type": "stream",
     "text": [
      "Epochs: 3 | Train Loss:  0.0144                 | Train F1:  0.7547                 | Val Loss:  0.0102                 | Val F1:  0.8690\n"
     ]
    },
    {
     "name": "stderr",
     "output_type": "stream",
     "text": [
      "100%|██████████| 2549/2549 [00:07<00:00, 325.53it/s]\n"
     ]
    },
    {
     "name": "stdout",
     "output_type": "stream",
     "text": [
      "Epochs: 4 | Train Loss:  0.0138                 | Train F1:  0.7622                 | Val Loss:  0.0099                 | Val F1:  0.8656\n"
     ]
    },
    {
     "name": "stderr",
     "output_type": "stream",
     "text": [
      "100%|██████████| 2549/2549 [00:07<00:00, 329.22it/s]\n"
     ]
    },
    {
     "name": "stdout",
     "output_type": "stream",
     "text": [
      "Epochs: 5 | Train Loss:  0.0134                 | Train F1:  0.7781                 | Val Loss:  0.0097                 | Val F1:  0.8644\n"
     ]
    },
    {
     "name": "stderr",
     "output_type": "stream",
     "text": [
      "100%|██████████| 2549/2549 [00:07<00:00, 329.15it/s]\n"
     ]
    },
    {
     "name": "stdout",
     "output_type": "stream",
     "text": [
      "Epochs: 6 | Train Loss:  0.0131                 | Train F1:  0.7863                 | Val Loss:  0.0096                 | Val F1:  0.8626\n"
     ]
    },
    {
     "name": "stderr",
     "output_type": "stream",
     "text": [
      "100%|██████████| 2549/2549 [00:07<00:00, 329.76it/s]\n"
     ]
    },
    {
     "name": "stdout",
     "output_type": "stream",
     "text": [
      "Epochs: 7 | Train Loss:  0.0129                 | Train F1:  0.7981                 | Val Loss:  0.0095                 | Val F1:  0.8624\n"
     ]
    },
    {
     "name": "stderr",
     "output_type": "stream",
     "text": [
      "100%|██████████| 2549/2549 [00:07<00:00, 329.49it/s]\n"
     ]
    },
    {
     "name": "stdout",
     "output_type": "stream",
     "text": [
      "Epochs: 8 | Train Loss:  0.0126                 | Train F1:  0.8021                 | Val Loss:  0.0095                 | Val F1:  0.8605\n"
     ]
    },
    {
     "name": "stderr",
     "output_type": "stream",
     "text": [
      "100%|██████████| 2549/2549 [00:07<00:00, 329.34it/s]\n"
     ]
    },
    {
     "name": "stdout",
     "output_type": "stream",
     "text": [
      "Epochs: 9 | Train Loss:  0.0125                 | Train F1:  0.8076                 | Val Loss:  0.0095                 | Val F1:  0.8593\n"
     ]
    },
    {
     "name": "stderr",
     "output_type": "stream",
     "text": [
      "100%|██████████| 2549/2549 [00:07<00:00, 328.75it/s]\n"
     ]
    },
    {
     "name": "stdout",
     "output_type": "stream",
     "text": [
      "Epochs: 10 | Train Loss:  0.0124                 | Train F1:  0.8112                 | Val Loss:  0.0095                 | Val F1:  0.8603\n",
      "Fold 3\n"
     ]
    },
    {
     "name": "stderr",
     "output_type": "stream",
     "text": [
      "100%|██████████| 2499/2499 [00:07<00:00, 328.80it/s]\n"
     ]
    },
    {
     "name": "stdout",
     "output_type": "stream",
     "text": [
      "Epochs: 1 | Train Loss:  0.0208                 | Train F1:  0.6294                 | Val Loss:  0.0175                 | Val F1:  0.8099\n"
     ]
    },
    {
     "name": "stderr",
     "output_type": "stream",
     "text": [
      "100%|██████████| 2499/2499 [00:07<00:00, 328.43it/s]\n"
     ]
    },
    {
     "name": "stdout",
     "output_type": "stream",
     "text": [
      "Epochs: 2 | Train Loss:  0.0164                 | Train F1:  0.7007                 | Val Loss:  0.0136                 | Val F1:  0.8240\n"
     ]
    },
    {
     "name": "stderr",
     "output_type": "stream",
     "text": [
      "100%|██████████| 2499/2499 [00:07<00:00, 327.53it/s]\n"
     ]
    },
    {
     "name": "stdout",
     "output_type": "stream",
     "text": [
      "Epochs: 3 | Train Loss:  0.0144                 | Train F1:  0.7568                 | Val Loss:  0.0126                 | Val F1:  0.8192\n"
     ]
    },
    {
     "name": "stderr",
     "output_type": "stream",
     "text": [
      "100%|██████████| 2499/2499 [00:07<00:00, 326.34it/s]\n"
     ]
    },
    {
     "name": "stdout",
     "output_type": "stream",
     "text": [
      "Epochs: 4 | Train Loss:  0.0135                 | Train F1:  0.7699                 | Val Loss:  0.0120                 | Val F1:  0.8206\n"
     ]
    },
    {
     "name": "stderr",
     "output_type": "stream",
     "text": [
      "100%|██████████| 2499/2499 [00:07<00:00, 327.25it/s]\n"
     ]
    },
    {
     "name": "stdout",
     "output_type": "stream",
     "text": [
      "Epochs: 5 | Train Loss:  0.0130                 | Train F1:  0.7792                 | Val Loss:  0.0119                 | Val F1:  0.8167\n"
     ]
    },
    {
     "name": "stderr",
     "output_type": "stream",
     "text": [
      "100%|██████████| 2499/2499 [00:07<00:00, 329.55it/s]\n"
     ]
    },
    {
     "name": "stdout",
     "output_type": "stream",
     "text": [
      "Epochs: 6 | Train Loss:  0.0126                 | Train F1:  0.7890                 | Val Loss:  0.0119                 | Val F1:  0.8142\n"
     ]
    },
    {
     "name": "stderr",
     "output_type": "stream",
     "text": [
      "100%|██████████| 2499/2499 [00:07<00:00, 328.03it/s]\n"
     ]
    },
    {
     "name": "stdout",
     "output_type": "stream",
     "text": [
      "Epochs: 7 | Train Loss:  0.0123                 | Train F1:  0.7937                 | Val Loss:  0.0121                 | Val F1:  0.8105\n"
     ]
    },
    {
     "name": "stderr",
     "output_type": "stream",
     "text": [
      "100%|██████████| 2499/2499 [00:07<00:00, 327.92it/s]\n"
     ]
    },
    {
     "name": "stdout",
     "output_type": "stream",
     "text": [
      "Epochs: 8 | Train Loss:  0.0122                 | Train F1:  0.7979                 | Val Loss:  0.0122                 | Val F1:  0.8068\n"
     ]
    },
    {
     "name": "stderr",
     "output_type": "stream",
     "text": [
      "100%|██████████| 2499/2499 [00:07<00:00, 326.81it/s]\n"
     ]
    },
    {
     "name": "stdout",
     "output_type": "stream",
     "text": [
      "Epochs: 9 | Train Loss:  0.0120                 | Train F1:  0.8015                 | Val Loss:  0.0123                 | Val F1:  0.8023\n"
     ]
    },
    {
     "name": "stderr",
     "output_type": "stream",
     "text": [
      "100%|██████████| 2499/2499 [00:07<00:00, 329.29it/s]\n"
     ]
    },
    {
     "name": "stdout",
     "output_type": "stream",
     "text": [
      "Epochs: 10 | Train Loss:  0.0118                 | Train F1:  0.8044                 | Val Loss:  0.0124                 | Val F1:  0.8030\n",
      "Fold 4\n"
     ]
    },
    {
     "name": "stderr",
     "output_type": "stream",
     "text": [
      "100%|██████████| 2303/2303 [00:06<00:00, 330.30it/s]\n"
     ]
    },
    {
     "name": "stdout",
     "output_type": "stream",
     "text": [
      "Epochs: 1 | Train Loss:  0.0196                 | Train F1:  0.6147                 | Val Loss:  0.0178                 | Val F1:  0.7386\n"
     ]
    },
    {
     "name": "stderr",
     "output_type": "stream",
     "text": [
      "100%|██████████| 2303/2303 [00:07<00:00, 328.46it/s]\n"
     ]
    },
    {
     "name": "stdout",
     "output_type": "stream",
     "text": [
      "Epochs: 2 | Train Loss:  0.0164                 | Train F1:  0.6221                 | Val Loss:  0.0158                 | Val F1:  0.7359\n"
     ]
    },
    {
     "name": "stderr",
     "output_type": "stream",
     "text": [
      "100%|██████████| 2303/2303 [00:07<00:00, 328.26it/s]\n"
     ]
    },
    {
     "name": "stdout",
     "output_type": "stream",
     "text": [
      "Epochs: 3 | Train Loss:  0.0152                 | Train F1:  0.6308                 | Val Loss:  0.0154                 | Val F1:  0.7369\n"
     ]
    },
    {
     "name": "stderr",
     "output_type": "stream",
     "text": [
      "100%|██████████| 2303/2303 [00:06<00:00, 329.01it/s]\n"
     ]
    },
    {
     "name": "stdout",
     "output_type": "stream",
     "text": [
      "Epochs: 4 | Train Loss:  0.0148                 | Train F1:  0.6391                 | Val Loss:  0.0153                 | Val F1:  0.7361\n"
     ]
    },
    {
     "name": "stderr",
     "output_type": "stream",
     "text": [
      "100%|██████████| 2303/2303 [00:07<00:00, 327.09it/s]\n"
     ]
    },
    {
     "name": "stdout",
     "output_type": "stream",
     "text": [
      "Epochs: 5 | Train Loss:  0.0145                 | Train F1:  0.6470                 | Val Loss:  0.0153                 | Val F1:  0.7340\n"
     ]
    },
    {
     "name": "stderr",
     "output_type": "stream",
     "text": [
      "100%|██████████| 2303/2303 [00:07<00:00, 326.00it/s]\n"
     ]
    },
    {
     "name": "stdout",
     "output_type": "stream",
     "text": [
      "Epochs: 6 | Train Loss:  0.0143                 | Train F1:  0.6490                 | Val Loss:  0.0154                 | Val F1:  0.7313\n"
     ]
    },
    {
     "name": "stderr",
     "output_type": "stream",
     "text": [
      "100%|██████████| 2303/2303 [00:07<00:00, 328.95it/s]\n"
     ]
    },
    {
     "name": "stdout",
     "output_type": "stream",
     "text": [
      "Epochs: 7 | Train Loss:  0.0140                 | Train F1:  0.6547                 | Val Loss:  0.0155                 | Val F1:  0.7293\n"
     ]
    },
    {
     "name": "stderr",
     "output_type": "stream",
     "text": [
      "100%|██████████| 2303/2303 [00:07<00:00, 327.88it/s]\n"
     ]
    },
    {
     "name": "stdout",
     "output_type": "stream",
     "text": [
      "Epochs: 8 | Train Loss:  0.0140                 | Train F1:  0.6496                 | Val Loss:  0.0155                 | Val F1:  0.7272\n"
     ]
    },
    {
     "name": "stderr",
     "output_type": "stream",
     "text": [
      "100%|██████████| 2303/2303 [00:07<00:00, 327.07it/s]\n"
     ]
    },
    {
     "name": "stdout",
     "output_type": "stream",
     "text": [
      "Epochs: 9 | Train Loss:  0.0139                 | Train F1:  0.6517                 | Val Loss:  0.0156                 | Val F1:  0.7254\n"
     ]
    },
    {
     "name": "stderr",
     "output_type": "stream",
     "text": [
      "100%|██████████| 2303/2303 [00:07<00:00, 328.56it/s]\n",
      "\u001b[32m[I 2022-06-16 18:56:01,109]\u001b[0m Trial 17 finished with value: 0.7906359712557505 and parameters: {'learning_rate': 0.00011256224938528428, 'n_layers': 2, 'n_units_l0': 4, 'dropout_l0': 0.45, 'n_units_l1': 4, 'dropout_l1': 0.30000000000000004}. Best is trial 15 with value: 0.807087138352161.\u001b[0m\n"
     ]
    },
    {
     "name": "stdout",
     "output_type": "stream",
     "text": [
      "Epochs: 10 | Train Loss:  0.0137                 | Train F1:  0.6546                 | Val Loss:  0.0156                 | Val F1:  0.7243\n"
     ]
    },
    {
     "data": {
      "text/plain": [
       "['NN_hyperparameterstudy10.pkl']"
      ]
     },
     "execution_count": 18,
     "metadata": {},
     "output_type": "execute_result"
    }
   ],
   "source": [
    "study.optimize(objective, n_trials=20, timeout=(60*60*3), gc_after_trial=True)\n",
    "joblib.dump(study, f\"NN_hyperparameterstudy{ROLLING_WINDOW_SIZE}.pkl\")\n"
   ]
  },
  {
   "cell_type": "code",
   "execution_count": 23,
   "metadata": {},
   "outputs": [
    {
     "name": "stdout",
     "output_type": "stream",
     "text": [
      "Fold 0\n"
     ]
    },
    {
     "name": "stderr",
     "output_type": "stream",
     "text": [
      "100%|██████████| 2399/2399 [00:08<00:00, 284.81it/s]\n"
     ]
    },
    {
     "name": "stdout",
     "output_type": "stream",
     "text": [
      "Epochs: 1 | Train Loss:  0.0185                 | Train F1:  0.6035                 | Val Loss:  0.0139                 | Val F1:  0.7716\n"
     ]
    },
    {
     "name": "stderr",
     "output_type": "stream",
     "text": [
      "100%|██████████| 2399/2399 [00:08<00:00, 273.89it/s]\n"
     ]
    },
    {
     "name": "stdout",
     "output_type": "stream",
     "text": [
      "Epochs: 2 | Train Loss:  0.0107                 | Train F1:  0.8501                 | Val Loss:  0.0137                 | Val F1:  0.7689\n"
     ]
    },
    {
     "name": "stderr",
     "output_type": "stream",
     "text": [
      "100%|██████████| 2399/2399 [00:08<00:00, 286.15it/s]\n"
     ]
    },
    {
     "name": "stdout",
     "output_type": "stream",
     "text": [
      "Epochs: 3 | Train Loss:  0.0095                 | Train F1:  0.8651                 | Val Loss:  0.0138                 | Val F1:  0.7696\n"
     ]
    },
    {
     "name": "stderr",
     "output_type": "stream",
     "text": [
      "100%|██████████| 2399/2399 [00:08<00:00, 272.85it/s]\n"
     ]
    },
    {
     "name": "stdout",
     "output_type": "stream",
     "text": [
      "Epochs: 4 | Train Loss:  0.0090                 | Train F1:  0.8735                 | Val Loss:  0.0140                 | Val F1:  0.7679\n"
     ]
    },
    {
     "name": "stderr",
     "output_type": "stream",
     "text": [
      "100%|██████████| 2399/2399 [00:08<00:00, 271.47it/s]\n"
     ]
    },
    {
     "name": "stdout",
     "output_type": "stream",
     "text": [
      "Epochs: 5 | Train Loss:  0.0086                 | Train F1:  0.8804                 | Val Loss:  0.0140                 | Val F1:  0.7670\n"
     ]
    },
    {
     "name": "stderr",
     "output_type": "stream",
     "text": [
      "100%|██████████| 2399/2399 [00:08<00:00, 284.62it/s]\n"
     ]
    },
    {
     "name": "stdout",
     "output_type": "stream",
     "text": [
      "Epochs: 6 | Train Loss:  0.0083                 | Train F1:  0.8850                 | Val Loss:  0.0143                 | Val F1:  0.7669\n"
     ]
    },
    {
     "name": "stderr",
     "output_type": "stream",
     "text": [
      "100%|██████████| 2399/2399 [00:08<00:00, 283.46it/s]\n"
     ]
    },
    {
     "name": "stdout",
     "output_type": "stream",
     "text": [
      "Epochs: 7 | Train Loss:  0.0081                 | Train F1:  0.8884                 | Val Loss:  0.0144                 | Val F1:  0.7646\n"
     ]
    },
    {
     "name": "stderr",
     "output_type": "stream",
     "text": [
      "100%|██████████| 2399/2399 [00:08<00:00, 273.14it/s]\n"
     ]
    },
    {
     "name": "stdout",
     "output_type": "stream",
     "text": [
      "Epochs: 8 | Train Loss:  0.0079                 | Train F1:  0.8910                 | Val Loss:  0.0145                 | Val F1:  0.7638\n"
     ]
    },
    {
     "name": "stderr",
     "output_type": "stream",
     "text": [
      "100%|██████████| 2399/2399 [00:08<00:00, 284.35it/s]\n"
     ]
    },
    {
     "name": "stdout",
     "output_type": "stream",
     "text": [
      "Epochs: 9 | Train Loss:  0.0077                 | Train F1:  0.8936                 | Val Loss:  0.0145                 | Val F1:  0.7633\n"
     ]
    },
    {
     "name": "stderr",
     "output_type": "stream",
     "text": [
      "100%|██████████| 2399/2399 [00:08<00:00, 274.15it/s]\n"
     ]
    },
    {
     "name": "stdout",
     "output_type": "stream",
     "text": [
      "Epochs: 10 | Train Loss:  0.0075                 | Train F1:  0.8962                 | Val Loss:  0.0147                 | Val F1:  0.7638\n",
      "Fold 1\n"
     ]
    },
    {
     "name": "stderr",
     "output_type": "stream",
     "text": [
      "100%|██████████| 2485/2485 [00:08<00:00, 284.24it/s]\n"
     ]
    },
    {
     "name": "stdout",
     "output_type": "stream",
     "text": [
      "Epochs: 1 | Train Loss:  0.0187                 | Train F1:  0.5129                 | Val Loss:  0.0119                 | Val F1:  0.8112\n"
     ]
    },
    {
     "name": "stderr",
     "output_type": "stream",
     "text": [
      "100%|██████████| 2485/2485 [00:09<00:00, 273.19it/s]\n"
     ]
    },
    {
     "name": "stdout",
     "output_type": "stream",
     "text": [
      "Epochs: 2 | Train Loss:  0.0114                 | Train F1:  0.8290                 | Val Loss:  0.0099                 | Val F1:  0.8375\n"
     ]
    },
    {
     "name": "stderr",
     "output_type": "stream",
     "text": [
      "100%|██████████| 2485/2485 [00:08<00:00, 284.47it/s]\n"
     ]
    },
    {
     "name": "stdout",
     "output_type": "stream",
     "text": [
      "Epochs: 3 | Train Loss:  0.0103                 | Train F1:  0.8448                 | Val Loss:  0.0097                 | Val F1:  0.8441\n"
     ]
    },
    {
     "name": "stderr",
     "output_type": "stream",
     "text": [
      "100%|██████████| 2485/2485 [00:08<00:00, 284.61it/s]\n"
     ]
    },
    {
     "name": "stdout",
     "output_type": "stream",
     "text": [
      "Epochs: 4 | Train Loss:  0.0098                 | Train F1:  0.8544                 | Val Loss:  0.0097                 | Val F1:  0.8449\n"
     ]
    },
    {
     "name": "stderr",
     "output_type": "stream",
     "text": [
      "100%|██████████| 2485/2485 [00:08<00:00, 282.48it/s]\n"
     ]
    },
    {
     "name": "stdout",
     "output_type": "stream",
     "text": [
      "Epochs: 5 | Train Loss:  0.0093                 | Train F1:  0.8596                 | Val Loss:  0.0098                 | Val F1:  0.8438\n"
     ]
    },
    {
     "name": "stderr",
     "output_type": "stream",
     "text": [
      "100%|██████████| 2485/2485 [00:08<00:00, 298.71it/s]\n"
     ]
    },
    {
     "name": "stdout",
     "output_type": "stream",
     "text": [
      "Epochs: 6 | Train Loss:  0.0090                 | Train F1:  0.8656                 | Val Loss:  0.0099                 | Val F1:  0.8423\n"
     ]
    },
    {
     "name": "stderr",
     "output_type": "stream",
     "text": [
      "100%|██████████| 2485/2485 [00:08<00:00, 285.34it/s]\n"
     ]
    },
    {
     "name": "stdout",
     "output_type": "stream",
     "text": [
      "Epochs: 7 | Train Loss:  0.0087                 | Train F1:  0.8718                 | Val Loss:  0.0098                 | Val F1:  0.8442\n"
     ]
    },
    {
     "name": "stderr",
     "output_type": "stream",
     "text": [
      "100%|██████████| 2485/2485 [00:09<00:00, 274.72it/s]\n"
     ]
    },
    {
     "name": "stdout",
     "output_type": "stream",
     "text": [
      "Epochs: 8 | Train Loss:  0.0084                 | Train F1:  0.8738                 | Val Loss:  0.0099                 | Val F1:  0.8414\n"
     ]
    },
    {
     "name": "stderr",
     "output_type": "stream",
     "text": [
      "100%|██████████| 2485/2485 [00:08<00:00, 284.93it/s]\n"
     ]
    },
    {
     "name": "stdout",
     "output_type": "stream",
     "text": [
      "Epochs: 9 | Train Loss:  0.0082                 | Train F1:  0.8773                 | Val Loss:  0.0102                 | Val F1:  0.8354\n"
     ]
    },
    {
     "name": "stderr",
     "output_type": "stream",
     "text": [
      "100%|██████████| 2485/2485 [00:09<00:00, 272.26it/s]\n"
     ]
    },
    {
     "name": "stdout",
     "output_type": "stream",
     "text": [
      "Epochs: 10 | Train Loss:  0.0079                 | Train F1:  0.8811                 | Val Loss:  0.0102                 | Val F1:  0.8367\n",
      "Fold 2\n"
     ]
    },
    {
     "name": "stderr",
     "output_type": "stream",
     "text": [
      "100%|██████████| 2549/2549 [00:08<00:00, 283.74it/s]\n"
     ]
    },
    {
     "name": "stdout",
     "output_type": "stream",
     "text": [
      "Epochs: 1 | Train Loss:  0.0194                 | Train F1:  0.6933                 | Val Loss:  0.0109                 | Val F1:  0.8743\n"
     ]
    },
    {
     "name": "stderr",
     "output_type": "stream",
     "text": [
      "100%|██████████| 2549/2549 [00:08<00:00, 297.78it/s]\n"
     ]
    },
    {
     "name": "stdout",
     "output_type": "stream",
     "text": [
      "Epochs: 2 | Train Loss:  0.0120                 | Train F1:  0.8244                 | Val Loss:  0.0082                 | Val F1:  0.8690\n"
     ]
    },
    {
     "name": "stderr",
     "output_type": "stream",
     "text": [
      "100%|██████████| 2549/2549 [00:08<00:00, 287.26it/s]\n"
     ]
    },
    {
     "name": "stdout",
     "output_type": "stream",
     "text": [
      "Epochs: 3 | Train Loss:  0.0108                 | Train F1:  0.8432                 | Val Loss:  0.0081                 | Val F1:  0.8664\n"
     ]
    },
    {
     "name": "stderr",
     "output_type": "stream",
     "text": [
      "100%|██████████| 2549/2549 [00:08<00:00, 296.33it/s]\n"
     ]
    },
    {
     "name": "stdout",
     "output_type": "stream",
     "text": [
      "Epochs: 4 | Train Loss:  0.0102                 | Train F1:  0.8531                 | Val Loss:  0.0081                 | Val F1:  0.8644\n"
     ]
    },
    {
     "name": "stderr",
     "output_type": "stream",
     "text": [
      "100%|██████████| 2549/2549 [00:08<00:00, 285.01it/s]\n"
     ]
    },
    {
     "name": "stdout",
     "output_type": "stream",
     "text": [
      "Epochs: 5 | Train Loss:  0.0099                 | Train F1:  0.8579                 | Val Loss:  0.0080                 | Val F1:  0.8649\n"
     ]
    },
    {
     "name": "stderr",
     "output_type": "stream",
     "text": [
      "100%|██████████| 2549/2549 [00:08<00:00, 295.42it/s]\n"
     ]
    },
    {
     "name": "stdout",
     "output_type": "stream",
     "text": [
      "Epochs: 6 | Train Loss:  0.0095                 | Train F1:  0.8633                 | Val Loss:  0.0080                 | Val F1:  0.8647\n"
     ]
    },
    {
     "name": "stderr",
     "output_type": "stream",
     "text": [
      "100%|██████████| 2549/2549 [00:09<00:00, 272.31it/s]\n"
     ]
    },
    {
     "name": "stdout",
     "output_type": "stream",
     "text": [
      "Epochs: 7 | Train Loss:  0.0092                 | Train F1:  0.8684                 | Val Loss:  0.0079                 | Val F1:  0.8645\n"
     ]
    },
    {
     "name": "stderr",
     "output_type": "stream",
     "text": [
      "100%|██████████| 2549/2549 [00:08<00:00, 294.37it/s]\n"
     ]
    },
    {
     "name": "stdout",
     "output_type": "stream",
     "text": [
      "Epochs: 8 | Train Loss:  0.0090                 | Train F1:  0.8714                 | Val Loss:  0.0079                 | Val F1:  0.8667\n"
     ]
    },
    {
     "name": "stderr",
     "output_type": "stream",
     "text": [
      "100%|██████████| 2549/2549 [00:08<00:00, 284.57it/s]\n"
     ]
    },
    {
     "name": "stdout",
     "output_type": "stream",
     "text": [
      "Epochs: 9 | Train Loss:  0.0087                 | Train F1:  0.8755                 | Val Loss:  0.0079                 | Val F1:  0.8661\n"
     ]
    },
    {
     "name": "stderr",
     "output_type": "stream",
     "text": [
      "100%|██████████| 2549/2549 [00:08<00:00, 296.22it/s]\n"
     ]
    },
    {
     "name": "stdout",
     "output_type": "stream",
     "text": [
      "Epochs: 10 | Train Loss:  0.0085                 | Train F1:  0.8791                 | Val Loss:  0.0079                 | Val F1:  0.8653\n",
      "Fold 3\n"
     ]
    },
    {
     "name": "stderr",
     "output_type": "stream",
     "text": [
      "100%|██████████| 2499/2499 [00:08<00:00, 283.79it/s]\n"
     ]
    },
    {
     "name": "stdout",
     "output_type": "stream",
     "text": [
      "Epochs: 1 | Train Loss:  0.0187                 | Train F1:  0.7130                 | Val Loss:  0.0125                 | Val F1:  0.8267\n"
     ]
    },
    {
     "name": "stderr",
     "output_type": "stream",
     "text": [
      "100%|██████████| 2499/2499 [00:08<00:00, 297.31it/s]\n"
     ]
    },
    {
     "name": "stdout",
     "output_type": "stream",
     "text": [
      "Epochs: 2 | Train Loss:  0.0111                 | Train F1:  0.8287                 | Val Loss:  0.0114                 | Val F1:  0.8307\n"
     ]
    },
    {
     "name": "stderr",
     "output_type": "stream",
     "text": [
      "100%|██████████| 2499/2499 [00:09<00:00, 270.81it/s]\n"
     ]
    },
    {
     "name": "stdout",
     "output_type": "stream",
     "text": [
      "Epochs: 3 | Train Loss:  0.0100                 | Train F1:  0.8482                 | Val Loss:  0.0117                 | Val F1:  0.8257\n"
     ]
    },
    {
     "name": "stderr",
     "output_type": "stream",
     "text": [
      "100%|██████████| 2499/2499 [00:08<00:00, 285.08it/s]\n"
     ]
    },
    {
     "name": "stdout",
     "output_type": "stream",
     "text": [
      "Epochs: 4 | Train Loss:  0.0095                 | Train F1:  0.8587                 | Val Loss:  0.0121                 | Val F1:  0.8175\n"
     ]
    },
    {
     "name": "stderr",
     "output_type": "stream",
     "text": [
      "100%|██████████| 2499/2499 [00:09<00:00, 274.47it/s]\n"
     ]
    },
    {
     "name": "stdout",
     "output_type": "stream",
     "text": [
      "Epochs: 5 | Train Loss:  0.0090                 | Train F1:  0.8647                 | Val Loss:  0.0125                 | Val F1:  0.8105\n"
     ]
    },
    {
     "name": "stderr",
     "output_type": "stream",
     "text": [
      "100%|██████████| 2499/2499 [00:08<00:00, 283.32it/s]\n"
     ]
    },
    {
     "name": "stdout",
     "output_type": "stream",
     "text": [
      "Epochs: 6 | Train Loss:  0.0087                 | Train F1:  0.8714                 | Val Loss:  0.0128                 | Val F1:  0.8082\n"
     ]
    },
    {
     "name": "stderr",
     "output_type": "stream",
     "text": [
      "100%|██████████| 2499/2499 [00:08<00:00, 283.22it/s]\n"
     ]
    },
    {
     "name": "stdout",
     "output_type": "stream",
     "text": [
      "Epochs: 7 | Train Loss:  0.0085                 | Train F1:  0.8747                 | Val Loss:  0.0131                 | Val F1:  0.8044\n"
     ]
    },
    {
     "name": "stderr",
     "output_type": "stream",
     "text": [
      "100%|██████████| 2499/2499 [00:08<00:00, 298.84it/s]\n"
     ]
    },
    {
     "name": "stdout",
     "output_type": "stream",
     "text": [
      "Epochs: 8 | Train Loss:  0.0082                 | Train F1:  0.8792                 | Val Loss:  0.0133                 | Val F1:  0.8006\n"
     ]
    },
    {
     "name": "stderr",
     "output_type": "stream",
     "text": [
      "100%|██████████| 2499/2499 [00:08<00:00, 283.81it/s]\n"
     ]
    },
    {
     "name": "stdout",
     "output_type": "stream",
     "text": [
      "Epochs: 9 | Train Loss:  0.0080                 | Train F1:  0.8836                 | Val Loss:  0.0136                 | Val F1:  0.7962\n"
     ]
    },
    {
     "name": "stderr",
     "output_type": "stream",
     "text": [
      "100%|██████████| 2499/2499 [00:08<00:00, 283.39it/s]\n"
     ]
    },
    {
     "name": "stdout",
     "output_type": "stream",
     "text": [
      "Epochs: 10 | Train Loss:  0.0077                 | Train F1:  0.8865                 | Val Loss:  0.0138                 | Val F1:  0.7940\n",
      "Fold 4\n"
     ]
    },
    {
     "name": "stderr",
     "output_type": "stream",
     "text": [
      "100%|██████████| 2303/2303 [00:08<00:00, 286.89it/s]\n"
     ]
    },
    {
     "name": "stdout",
     "output_type": "stream",
     "text": [
      "Epochs: 1 | Train Loss:  0.0189                 | Train F1:  0.7162                 | Val Loss:  0.0155                 | Val F1:  0.7396\n"
     ]
    },
    {
     "name": "stderr",
     "output_type": "stream",
     "text": [
      "100%|██████████| 2303/2303 [00:07<00:00, 300.02it/s]\n"
     ]
    },
    {
     "name": "stdout",
     "output_type": "stream",
     "text": [
      "Epochs: 2 | Train Loss:  0.0102                 | Train F1:  0.8545                 | Val Loss:  0.0161                 | Val F1:  0.7423\n"
     ]
    },
    {
     "name": "stderr",
     "output_type": "stream",
     "text": [
      "100%|██████████| 2303/2303 [00:08<00:00, 275.61it/s]\n"
     ]
    },
    {
     "name": "stdout",
     "output_type": "stream",
     "text": [
      "Epochs: 3 | Train Loss:  0.0091                 | Train F1:  0.8676                 | Val Loss:  0.0167                 | Val F1:  0.7399\n"
     ]
    },
    {
     "name": "stderr",
     "output_type": "stream",
     "text": [
      "100%|██████████| 2303/2303 [00:07<00:00, 288.26it/s]\n"
     ]
    },
    {
     "name": "stdout",
     "output_type": "stream",
     "text": [
      "Epochs: 4 | Train Loss:  0.0086                 | Train F1:  0.8776                 | Val Loss:  0.0170                 | Val F1:  0.7349\n"
     ]
    },
    {
     "name": "stderr",
     "output_type": "stream",
     "text": [
      "100%|██████████| 2303/2303 [00:08<00:00, 287.12it/s]\n"
     ]
    },
    {
     "name": "stdout",
     "output_type": "stream",
     "text": [
      "Epochs: 5 | Train Loss:  0.0082                 | Train F1:  0.8833                 | Val Loss:  0.0173                 | Val F1:  0.7326\n"
     ]
    },
    {
     "name": "stderr",
     "output_type": "stream",
     "text": [
      "100%|██████████| 2303/2303 [00:08<00:00, 287.22it/s]\n"
     ]
    },
    {
     "name": "stdout",
     "output_type": "stream",
     "text": [
      "Epochs: 6 | Train Loss:  0.0079                 | Train F1:  0.8894                 | Val Loss:  0.0174                 | Val F1:  0.7315\n"
     ]
    },
    {
     "name": "stderr",
     "output_type": "stream",
     "text": [
      "100%|██████████| 2303/2303 [00:07<00:00, 288.77it/s]\n"
     ]
    },
    {
     "name": "stdout",
     "output_type": "stream",
     "text": [
      "Epochs: 7 | Train Loss:  0.0076                 | Train F1:  0.8923                 | Val Loss:  0.0176                 | Val F1:  0.7293\n"
     ]
    },
    {
     "name": "stderr",
     "output_type": "stream",
     "text": [
      "100%|██████████| 2303/2303 [00:08<00:00, 285.22it/s]\n"
     ]
    },
    {
     "name": "stdout",
     "output_type": "stream",
     "text": [
      "Epochs: 8 | Train Loss:  0.0074                 | Train F1:  0.8949                 | Val Loss:  0.0177                 | Val F1:  0.7289\n"
     ]
    },
    {
     "name": "stderr",
     "output_type": "stream",
     "text": [
      "100%|██████████| 2303/2303 [00:08<00:00, 287.13it/s]\n"
     ]
    },
    {
     "name": "stdout",
     "output_type": "stream",
     "text": [
      "Epochs: 9 | Train Loss:  0.0073                 | Train F1:  0.8981                 | Val Loss:  0.0177                 | Val F1:  0.7281\n"
     ]
    },
    {
     "name": "stderr",
     "output_type": "stream",
     "text": [
      "100%|██████████| 2303/2303 [00:08<00:00, 287.50it/s]\n",
      "\u001b[32m[I 2022-06-16 19:19:40,035]\u001b[0m Trial 18 finished with value: 0.7974712955045256 and parameters: {'learning_rate': 1.9271791890785e-05, 'n_layers': 3, 'n_units_l0': 91, 'dropout_l0': 0.45, 'n_units_l1': 69, 'dropout_l1': 0.5, 'n_units_l2': 65, 'dropout_l2': 0.5}. Best is trial 15 with value: 0.807087138352161.\u001b[0m\n"
     ]
    },
    {
     "name": "stdout",
     "output_type": "stream",
     "text": [
      "Epochs: 10 | Train Loss:  0.0071                 | Train F1:  0.9007                 | Val Loss:  0.0178                 | Val F1:  0.7276\n",
      "Fold 0\n"
     ]
    },
    {
     "name": "stderr",
     "output_type": "stream",
     "text": [
      "100%|██████████| 2399/2399 [00:07<00:00, 306.07it/s]\n"
     ]
    },
    {
     "name": "stdout",
     "output_type": "stream",
     "text": [
      "Epochs: 1 | Train Loss:  0.0165                 | Train F1:  0.7047                 | Val Loss:  0.0135                 | Val F1:  0.7704\n"
     ]
    },
    {
     "name": "stderr",
     "output_type": "stream",
     "text": [
      "100%|██████████| 2399/2399 [00:07<00:00, 313.92it/s]\n"
     ]
    },
    {
     "name": "stdout",
     "output_type": "stream",
     "text": [
      "Epochs: 2 | Train Loss:  0.0109                 | Train F1:  0.8488                 | Val Loss:  0.0133                 | Val F1:  0.7682\n"
     ]
    },
    {
     "name": "stderr",
     "output_type": "stream",
     "text": [
      "100%|██████████| 2399/2399 [00:07<00:00, 314.56it/s]\n"
     ]
    },
    {
     "name": "stdout",
     "output_type": "stream",
     "text": [
      "Epochs: 3 | Train Loss:  0.0099                 | Train F1:  0.8638                 | Val Loss:  0.0134                 | Val F1:  0.7694\n"
     ]
    },
    {
     "name": "stderr",
     "output_type": "stream",
     "text": [
      "100%|██████████| 2399/2399 [00:07<00:00, 315.41it/s]\n"
     ]
    },
    {
     "name": "stdout",
     "output_type": "stream",
     "text": [
      "Epochs: 4 | Train Loss:  0.0093                 | Train F1:  0.8736                 | Val Loss:  0.0136                 | Val F1:  0.7663\n"
     ]
    },
    {
     "name": "stderr",
     "output_type": "stream",
     "text": [
      "100%|██████████| 2399/2399 [00:07<00:00, 315.23it/s]\n"
     ]
    },
    {
     "name": "stdout",
     "output_type": "stream",
     "text": [
      "Epochs: 5 | Train Loss:  0.0090                 | Train F1:  0.8782                 | Val Loss:  0.0137                 | Val F1:  0.7662\n"
     ]
    },
    {
     "name": "stderr",
     "output_type": "stream",
     "text": [
      "100%|██████████| 2399/2399 [00:07<00:00, 314.18it/s]\n"
     ]
    },
    {
     "name": "stdout",
     "output_type": "stream",
     "text": [
      "Epochs: 6 | Train Loss:  0.0086                 | Train F1:  0.8837                 | Val Loss:  0.0138                 | Val F1:  0.7657\n"
     ]
    },
    {
     "name": "stderr",
     "output_type": "stream",
     "text": [
      "100%|██████████| 2399/2399 [00:07<00:00, 313.92it/s]\n"
     ]
    },
    {
     "name": "stdout",
     "output_type": "stream",
     "text": [
      "Epochs: 7 | Train Loss:  0.0083                 | Train F1:  0.8874                 | Val Loss:  0.0140                 | Val F1:  0.7652\n"
     ]
    },
    {
     "name": "stderr",
     "output_type": "stream",
     "text": [
      "100%|██████████| 2399/2399 [00:07<00:00, 315.83it/s]\n"
     ]
    },
    {
     "name": "stdout",
     "output_type": "stream",
     "text": [
      "Epochs: 8 | Train Loss:  0.0082                 | Train F1:  0.8889                 | Val Loss:  0.0142                 | Val F1:  0.7639\n"
     ]
    },
    {
     "name": "stderr",
     "output_type": "stream",
     "text": [
      "100%|██████████| 2399/2399 [00:07<00:00, 313.48it/s]\n"
     ]
    },
    {
     "name": "stdout",
     "output_type": "stream",
     "text": [
      "Epochs: 9 | Train Loss:  0.0080                 | Train F1:  0.8924                 | Val Loss:  0.0143                 | Val F1:  0.7630\n"
     ]
    },
    {
     "name": "stderr",
     "output_type": "stream",
     "text": [
      "100%|██████████| 2399/2399 [00:07<00:00, 315.18it/s]\n"
     ]
    },
    {
     "name": "stdout",
     "output_type": "stream",
     "text": [
      "Epochs: 10 | Train Loss:  0.0078                 | Train F1:  0.8938                 | Val Loss:  0.0145                 | Val F1:  0.7617\n",
      "Fold 1\n"
     ]
    },
    {
     "name": "stderr",
     "output_type": "stream",
     "text": [
      "100%|██████████| 2485/2485 [00:07<00:00, 313.03it/s]\n"
     ]
    },
    {
     "name": "stdout",
     "output_type": "stream",
     "text": [
      "Epochs: 1 | Train Loss:  0.0172                 | Train F1:  0.7437                 | Val Loss:  0.0116                 | Val F1:  0.8153\n"
     ]
    },
    {
     "name": "stderr",
     "output_type": "stream",
     "text": [
      "100%|██████████| 2485/2485 [00:08<00:00, 310.07it/s]\n"
     ]
    },
    {
     "name": "stdout",
     "output_type": "stream",
     "text": [
      "Epochs: 2 | Train Loss:  0.0118                 | Train F1:  0.8218                 | Val Loss:  0.0099                 | Val F1:  0.8355\n"
     ]
    },
    {
     "name": "stderr",
     "output_type": "stream",
     "text": [
      "100%|██████████| 2485/2485 [00:07<00:00, 313.30it/s]\n"
     ]
    },
    {
     "name": "stdout",
     "output_type": "stream",
     "text": [
      "Epochs: 3 | Train Loss:  0.0108                 | Train F1:  0.8389                 | Val Loss:  0.0096                 | Val F1:  0.8430\n"
     ]
    },
    {
     "name": "stderr",
     "output_type": "stream",
     "text": [
      "100%|██████████| 2485/2485 [00:07<00:00, 313.57it/s]\n"
     ]
    },
    {
     "name": "stdout",
     "output_type": "stream",
     "text": [
      "Epochs: 4 | Train Loss:  0.0101                 | Train F1:  0.8488                 | Val Loss:  0.0096                 | Val F1:  0.8463\n"
     ]
    },
    {
     "name": "stderr",
     "output_type": "stream",
     "text": [
      "100%|██████████| 2485/2485 [00:07<00:00, 313.91it/s]\n"
     ]
    },
    {
     "name": "stdout",
     "output_type": "stream",
     "text": [
      "Epochs: 5 | Train Loss:  0.0097                 | Train F1:  0.8558                 | Val Loss:  0.0096                 | Val F1:  0.8452\n"
     ]
    },
    {
     "name": "stderr",
     "output_type": "stream",
     "text": [
      "100%|██████████| 2485/2485 [00:07<00:00, 314.13it/s]\n"
     ]
    },
    {
     "name": "stdout",
     "output_type": "stream",
     "text": [
      "Epochs: 6 | Train Loss:  0.0094                 | Train F1:  0.8609                 | Val Loss:  0.0097                 | Val F1:  0.8434\n"
     ]
    },
    {
     "name": "stderr",
     "output_type": "stream",
     "text": [
      "100%|██████████| 2485/2485 [00:07<00:00, 313.26it/s]\n"
     ]
    },
    {
     "name": "stdout",
     "output_type": "stream",
     "text": [
      "Epochs: 7 | Train Loss:  0.0090                 | Train F1:  0.8643                 | Val Loss:  0.0097                 | Val F1:  0.8418\n"
     ]
    },
    {
     "name": "stderr",
     "output_type": "stream",
     "text": [
      "100%|██████████| 2485/2485 [00:07<00:00, 313.91it/s]\n"
     ]
    },
    {
     "name": "stdout",
     "output_type": "stream",
     "text": [
      "Epochs: 8 | Train Loss:  0.0088                 | Train F1:  0.8667                 | Val Loss:  0.0098                 | Val F1:  0.8396\n"
     ]
    },
    {
     "name": "stderr",
     "output_type": "stream",
     "text": [
      "100%|██████████| 2485/2485 [00:07<00:00, 313.87it/s]\n"
     ]
    },
    {
     "name": "stdout",
     "output_type": "stream",
     "text": [
      "Epochs: 9 | Train Loss:  0.0086                 | Train F1:  0.8694                 | Val Loss:  0.0098                 | Val F1:  0.8389\n"
     ]
    },
    {
     "name": "stderr",
     "output_type": "stream",
     "text": [
      "100%|██████████| 2485/2485 [00:07<00:00, 313.79it/s]\n"
     ]
    },
    {
     "name": "stdout",
     "output_type": "stream",
     "text": [
      "Epochs: 10 | Train Loss:  0.0084                 | Train F1:  0.8724                 | Val Loss:  0.0099                 | Val F1:  0.8371\n",
      "Fold 2\n"
     ]
    },
    {
     "name": "stderr",
     "output_type": "stream",
     "text": [
      "100%|██████████| 2549/2549 [00:08<00:00, 312.35it/s]\n"
     ]
    },
    {
     "name": "stdout",
     "output_type": "stream",
     "text": [
      "Epochs: 1 | Train Loss:  0.0175                 | Train F1:  0.6349                 | Val Loss:  0.0101                 | Val F1:  0.8720\n"
     ]
    },
    {
     "name": "stderr",
     "output_type": "stream",
     "text": [
      "100%|██████████| 2549/2549 [00:08<00:00, 313.32it/s]\n"
     ]
    },
    {
     "name": "stdout",
     "output_type": "stream",
     "text": [
      "Epochs: 2 | Train Loss:  0.0126                 | Train F1:  0.7959                 | Val Loss:  0.0084                 | Val F1:  0.8675\n"
     ]
    },
    {
     "name": "stderr",
     "output_type": "stream",
     "text": [
      "100%|██████████| 2549/2549 [00:08<00:00, 314.22it/s]\n"
     ]
    },
    {
     "name": "stdout",
     "output_type": "stream",
     "text": [
      "Epochs: 3 | Train Loss:  0.0116                 | Train F1:  0.8206                 | Val Loss:  0.0082                 | Val F1:  0.8643\n"
     ]
    },
    {
     "name": "stderr",
     "output_type": "stream",
     "text": [
      "100%|██████████| 2549/2549 [00:08<00:00, 314.28it/s]\n"
     ]
    },
    {
     "name": "stdout",
     "output_type": "stream",
     "text": [
      "Epochs: 4 | Train Loss:  0.0108                 | Train F1:  0.8393                 | Val Loss:  0.0081                 | Val F1:  0.8623\n"
     ]
    },
    {
     "name": "stderr",
     "output_type": "stream",
     "text": [
      "100%|██████████| 2549/2549 [00:08<00:00, 313.12it/s]\n"
     ]
    },
    {
     "name": "stdout",
     "output_type": "stream",
     "text": [
      "Epochs: 5 | Train Loss:  0.0104                 | Train F1:  0.8514                 | Val Loss:  0.0080                 | Val F1:  0.8617\n"
     ]
    },
    {
     "name": "stderr",
     "output_type": "stream",
     "text": [
      "100%|██████████| 2549/2549 [00:08<00:00, 313.04it/s]\n"
     ]
    },
    {
     "name": "stdout",
     "output_type": "stream",
     "text": [
      "Epochs: 6 | Train Loss:  0.0101                 | Train F1:  0.8581                 | Val Loss:  0.0080                 | Val F1:  0.8615\n"
     ]
    },
    {
     "name": "stderr",
     "output_type": "stream",
     "text": [
      "100%|██████████| 2549/2549 [00:08<00:00, 312.14it/s]\n"
     ]
    },
    {
     "name": "stdout",
     "output_type": "stream",
     "text": [
      "Epochs: 7 | Train Loss:  0.0098                 | Train F1:  0.8625                 | Val Loss:  0.0079                 | Val F1:  0.8645\n"
     ]
    },
    {
     "name": "stderr",
     "output_type": "stream",
     "text": [
      "100%|██████████| 2549/2549 [00:08<00:00, 313.15it/s]\n"
     ]
    },
    {
     "name": "stdout",
     "output_type": "stream",
     "text": [
      "Epochs: 8 | Train Loss:  0.0095                 | Train F1:  0.8666                 | Val Loss:  0.0080                 | Val F1:  0.8644\n"
     ]
    },
    {
     "name": "stderr",
     "output_type": "stream",
     "text": [
      "100%|██████████| 2549/2549 [00:08<00:00, 313.03it/s]\n"
     ]
    },
    {
     "name": "stdout",
     "output_type": "stream",
     "text": [
      "Epochs: 9 | Train Loss:  0.0094                 | Train F1:  0.8684                 | Val Loss:  0.0079                 | Val F1:  0.8633\n"
     ]
    },
    {
     "name": "stderr",
     "output_type": "stream",
     "text": [
      "100%|██████████| 2549/2549 [00:08<00:00, 313.40it/s]\n"
     ]
    },
    {
     "name": "stdout",
     "output_type": "stream",
     "text": [
      "Epochs: 10 | Train Loss:  0.0092                 | Train F1:  0.8707                 | Val Loss:  0.0079                 | Val F1:  0.8625\n",
      "Fold 3\n"
     ]
    },
    {
     "name": "stderr",
     "output_type": "stream",
     "text": [
      "100%|██████████| 2499/2499 [00:08<00:00, 312.12it/s]\n"
     ]
    },
    {
     "name": "stdout",
     "output_type": "stream",
     "text": [
      "Epochs: 1 | Train Loss:  0.0170                 | Train F1:  0.6639                 | Val Loss:  0.0125                 | Val F1:  0.8247\n"
     ]
    },
    {
     "name": "stderr",
     "output_type": "stream",
     "text": [
      "100%|██████████| 2499/2499 [00:07<00:00, 312.47it/s]\n"
     ]
    },
    {
     "name": "stdout",
     "output_type": "stream",
     "text": [
      "Epochs: 2 | Train Loss:  0.0114                 | Train F1:  0.8234                 | Val Loss:  0.0115                 | Val F1:  0.8263\n"
     ]
    },
    {
     "name": "stderr",
     "output_type": "stream",
     "text": [
      "100%|██████████| 2499/2499 [00:07<00:00, 312.51it/s]\n"
     ]
    },
    {
     "name": "stdout",
     "output_type": "stream",
     "text": [
      "Epochs: 3 | Train Loss:  0.0105                 | Train F1:  0.8411                 | Val Loss:  0.0117                 | Val F1:  0.8204\n"
     ]
    },
    {
     "name": "stderr",
     "output_type": "stream",
     "text": [
      "100%|██████████| 2499/2499 [00:07<00:00, 313.76it/s]\n"
     ]
    },
    {
     "name": "stdout",
     "output_type": "stream",
     "text": [
      "Epochs: 4 | Train Loss:  0.0099                 | Train F1:  0.8521                 | Val Loss:  0.0120                 | Val F1:  0.8167\n"
     ]
    },
    {
     "name": "stderr",
     "output_type": "stream",
     "text": [
      "100%|██████████| 2499/2499 [00:07<00:00, 312.99it/s]\n"
     ]
    },
    {
     "name": "stdout",
     "output_type": "stream",
     "text": [
      "Epochs: 5 | Train Loss:  0.0094                 | Train F1:  0.8592                 | Val Loss:  0.0124                 | Val F1:  0.8103\n"
     ]
    },
    {
     "name": "stderr",
     "output_type": "stream",
     "text": [
      "100%|██████████| 2499/2499 [00:08<00:00, 311.88it/s]\n"
     ]
    },
    {
     "name": "stdout",
     "output_type": "stream",
     "text": [
      "Epochs: 6 | Train Loss:  0.0090                 | Train F1:  0.8646                 | Val Loss:  0.0127                 | Val F1:  0.8067\n"
     ]
    },
    {
     "name": "stderr",
     "output_type": "stream",
     "text": [
      "100%|██████████| 2499/2499 [00:07<00:00, 312.56it/s]\n"
     ]
    },
    {
     "name": "stdout",
     "output_type": "stream",
     "text": [
      "Epochs: 7 | Train Loss:  0.0088                 | Train F1:  0.8681                 | Val Loss:  0.0128                 | Val F1:  0.8040\n"
     ]
    },
    {
     "name": "stderr",
     "output_type": "stream",
     "text": [
      "100%|██████████| 2499/2499 [00:08<00:00, 312.31it/s]\n"
     ]
    },
    {
     "name": "stdout",
     "output_type": "stream",
     "text": [
      "Epochs: 8 | Train Loss:  0.0085                 | Train F1:  0.8719                 | Val Loss:  0.0130                 | Val F1:  0.8011\n"
     ]
    },
    {
     "name": "stderr",
     "output_type": "stream",
     "text": [
      "100%|██████████| 2499/2499 [00:07<00:00, 313.30it/s]\n"
     ]
    },
    {
     "name": "stdout",
     "output_type": "stream",
     "text": [
      "Epochs: 9 | Train Loss:  0.0083                 | Train F1:  0.8737                 | Val Loss:  0.0133                 | Val F1:  0.7971\n"
     ]
    },
    {
     "name": "stderr",
     "output_type": "stream",
     "text": [
      "100%|██████████| 2499/2499 [00:07<00:00, 312.46it/s]\n"
     ]
    },
    {
     "name": "stdout",
     "output_type": "stream",
     "text": [
      "Epochs: 10 | Train Loss:  0.0081                 | Train F1:  0.8778                 | Val Loss:  0.0134                 | Val F1:  0.7952\n",
      "Fold 4\n"
     ]
    },
    {
     "name": "stderr",
     "output_type": "stream",
     "text": [
      "100%|██████████| 2303/2303 [00:07<00:00, 313.77it/s]\n"
     ]
    },
    {
     "name": "stdout",
     "output_type": "stream",
     "text": [
      "Epochs: 1 | Train Loss:  0.0163                 | Train F1:  0.7824                 | Val Loss:  0.0154                 | Val F1:  0.7409\n"
     ]
    },
    {
     "name": "stderr",
     "output_type": "stream",
     "text": [
      "100%|██████████| 2303/2303 [00:07<00:00, 315.93it/s]\n"
     ]
    },
    {
     "name": "stdout",
     "output_type": "stream",
     "text": [
      "Epochs: 2 | Train Loss:  0.0105                 | Train F1:  0.8513                 | Val Loss:  0.0158                 | Val F1:  0.7397\n"
     ]
    },
    {
     "name": "stderr",
     "output_type": "stream",
     "text": [
      "100%|██████████| 2303/2303 [00:07<00:00, 315.89it/s]\n"
     ]
    },
    {
     "name": "stdout",
     "output_type": "stream",
     "text": [
      "Epochs: 3 | Train Loss:  0.0094                 | Train F1:  0.8659                 | Val Loss:  0.0164                 | Val F1:  0.7370\n"
     ]
    },
    {
     "name": "stderr",
     "output_type": "stream",
     "text": [
      "100%|██████████| 2303/2303 [00:07<00:00, 315.33it/s]\n"
     ]
    },
    {
     "name": "stdout",
     "output_type": "stream",
     "text": [
      "Epochs: 4 | Train Loss:  0.0088                 | Train F1:  0.8759                 | Val Loss:  0.0167                 | Val F1:  0.7329\n"
     ]
    },
    {
     "name": "stderr",
     "output_type": "stream",
     "text": [
      "100%|██████████| 2303/2303 [00:07<00:00, 313.68it/s]\n"
     ]
    },
    {
     "name": "stdout",
     "output_type": "stream",
     "text": [
      "Epochs: 5 | Train Loss:  0.0085                 | Train F1:  0.8826                 | Val Loss:  0.0169                 | Val F1:  0.7310\n"
     ]
    },
    {
     "name": "stderr",
     "output_type": "stream",
     "text": [
      "100%|██████████| 2303/2303 [00:07<00:00, 314.85it/s]\n"
     ]
    },
    {
     "name": "stdout",
     "output_type": "stream",
     "text": [
      "Epochs: 6 | Train Loss:  0.0081                 | Train F1:  0.8874                 | Val Loss:  0.0171                 | Val F1:  0.7294\n"
     ]
    },
    {
     "name": "stderr",
     "output_type": "stream",
     "text": [
      "100%|██████████| 2303/2303 [00:07<00:00, 314.51it/s]\n"
     ]
    },
    {
     "name": "stdout",
     "output_type": "stream",
     "text": [
      "Epochs: 7 | Train Loss:  0.0079                 | Train F1:  0.8899                 | Val Loss:  0.0172                 | Val F1:  0.7264\n"
     ]
    },
    {
     "name": "stderr",
     "output_type": "stream",
     "text": [
      "100%|██████████| 2303/2303 [00:07<00:00, 316.12it/s]\n"
     ]
    },
    {
     "name": "stdout",
     "output_type": "stream",
     "text": [
      "Epochs: 8 | Train Loss:  0.0077                 | Train F1:  0.8925                 | Val Loss:  0.0173                 | Val F1:  0.7265\n"
     ]
    },
    {
     "name": "stderr",
     "output_type": "stream",
     "text": [
      "100%|██████████| 2303/2303 [00:07<00:00, 315.76it/s]\n"
     ]
    },
    {
     "name": "stdout",
     "output_type": "stream",
     "text": [
      "Epochs: 9 | Train Loss:  0.0075                 | Train F1:  0.8960                 | Val Loss:  0.0176                 | Val F1:  0.7264\n"
     ]
    },
    {
     "name": "stderr",
     "output_type": "stream",
     "text": [
      "100%|██████████| 2303/2303 [00:07<00:00, 316.31it/s]\n",
      "\u001b[32m[I 2022-06-16 19:27:02,029]\u001b[0m Trial 19 finished with value: 0.7964935295225576 and parameters: {'learning_rate': 6.295385295009218e-05, 'n_layers': 2, 'n_units_l0': 22, 'dropout_l0': 0.35000000000000003, 'n_units_l1': 12, 'dropout_l1': 0.4}. Best is trial 15 with value: 0.807087138352161.\u001b[0m\n"
     ]
    },
    {
     "name": "stdout",
     "output_type": "stream",
     "text": [
      "Epochs: 10 | Train Loss:  0.0073                 | Train F1:  0.8985                 | Val Loss:  0.0177                 | Val F1:  0.7258\n",
      "Fold 0\n"
     ]
    },
    {
     "name": "stderr",
     "output_type": "stream",
     "text": [
      "100%|██████████| 2399/2399 [00:07<00:00, 302.69it/s]\n"
     ]
    },
    {
     "name": "stdout",
     "output_type": "stream",
     "text": [
      "Epochs: 1 | Train Loss:  0.0210                 | Train F1:  0.7029                 | Val Loss:  0.0201                 | Val F1:  0.7349\n"
     ]
    },
    {
     "name": "stderr",
     "output_type": "stream",
     "text": [
      "100%|██████████| 2399/2399 [00:07<00:00, 306.20it/s]\n"
     ]
    },
    {
     "name": "stdout",
     "output_type": "stream",
     "text": [
      "Epochs: 2 | Train Loss:  0.0183                 | Train F1:  0.8231                 | Val Loss:  0.0174                 | Val F1:  0.7672\n"
     ]
    },
    {
     "name": "stderr",
     "output_type": "stream",
     "text": [
      "100%|██████████| 2399/2399 [00:07<00:00, 306.38it/s]\n"
     ]
    },
    {
     "name": "stdout",
     "output_type": "stream",
     "text": [
      "Epochs: 3 | Train Loss:  0.0150                 | Train F1:  0.8359                 | Val Loss:  0.0149                 | Val F1:  0.7731\n"
     ]
    },
    {
     "name": "stderr",
     "output_type": "stream",
     "text": [
      "100%|██████████| 2399/2399 [00:07<00:00, 306.54it/s]\n"
     ]
    },
    {
     "name": "stdout",
     "output_type": "stream",
     "text": [
      "Epochs: 4 | Train Loss:  0.0126                 | Train F1:  0.8413                 | Val Loss:  0.0136                 | Val F1:  0.7719\n"
     ]
    },
    {
     "name": "stderr",
     "output_type": "stream",
     "text": [
      "100%|██████████| 2399/2399 [00:07<00:00, 307.82it/s]\n"
     ]
    },
    {
     "name": "stdout",
     "output_type": "stream",
     "text": [
      "Epochs: 5 | Train Loss:  0.0111                 | Train F1:  0.8461                 | Val Loss:  0.0132                 | Val F1:  0.7709\n"
     ]
    },
    {
     "name": "stderr",
     "output_type": "stream",
     "text": [
      "100%|██████████| 2399/2399 [00:07<00:00, 306.25it/s]\n"
     ]
    },
    {
     "name": "stdout",
     "output_type": "stream",
     "text": [
      "Epochs: 6 | Train Loss:  0.0104                 | Train F1:  0.8518                 | Val Loss:  0.0132                 | Val F1:  0.7694\n"
     ]
    },
    {
     "name": "stderr",
     "output_type": "stream",
     "text": [
      "100%|██████████| 2399/2399 [00:07<00:00, 305.78it/s]\n"
     ]
    },
    {
     "name": "stdout",
     "output_type": "stream",
     "text": [
      "Epochs: 7 | Train Loss:  0.0099                 | Train F1:  0.8566                 | Val Loss:  0.0133                 | Val F1:  0.7686\n"
     ]
    },
    {
     "name": "stderr",
     "output_type": "stream",
     "text": [
      "100%|██████████| 2399/2399 [00:07<00:00, 307.19it/s]\n"
     ]
    },
    {
     "name": "stdout",
     "output_type": "stream",
     "text": [
      "Epochs: 8 | Train Loss:  0.0096                 | Train F1:  0.8603                 | Val Loss:  0.0133                 | Val F1:  0.7689\n"
     ]
    },
    {
     "name": "stderr",
     "output_type": "stream",
     "text": [
      "100%|██████████| 2399/2399 [00:07<00:00, 307.50it/s]\n"
     ]
    },
    {
     "name": "stdout",
     "output_type": "stream",
     "text": [
      "Epochs: 9 | Train Loss:  0.0094                 | Train F1:  0.8639                 | Val Loss:  0.0135                 | Val F1:  0.7680\n"
     ]
    },
    {
     "name": "stderr",
     "output_type": "stream",
     "text": [
      "100%|██████████| 2399/2399 [00:07<00:00, 306.30it/s]\n"
     ]
    },
    {
     "name": "stdout",
     "output_type": "stream",
     "text": [
      "Epochs: 10 | Train Loss:  0.0092                 | Train F1:  0.8670                 | Val Loss:  0.0134                 | Val F1:  0.7693\n",
      "Fold 1\n"
     ]
    },
    {
     "name": "stderr",
     "output_type": "stream",
     "text": [
      "100%|██████████| 2485/2485 [00:08<00:00, 304.16it/s]\n"
     ]
    },
    {
     "name": "stdout",
     "output_type": "stream",
     "text": [
      "Epochs: 1 | Train Loss:  0.0214                 | Train F1:  0.6461                 | Val Loss:  0.0204                 | Val F1:  0.7681\n"
     ]
    },
    {
     "name": "stderr",
     "output_type": "stream",
     "text": [
      "100%|██████████| 2485/2485 [00:08<00:00, 304.74it/s]\n"
     ]
    },
    {
     "name": "stdout",
     "output_type": "stream",
     "text": [
      "Epochs: 2 | Train Loss:  0.0191                 | Train F1:  0.7785                 | Val Loss:  0.0172                 | Val F1:  0.8019\n"
     ]
    },
    {
     "name": "stderr",
     "output_type": "stream",
     "text": [
      "100%|██████████| 2485/2485 [00:08<00:00, 306.49it/s]\n"
     ]
    },
    {
     "name": "stdout",
     "output_type": "stream",
     "text": [
      "Epochs: 3 | Train Loss:  0.0161                 | Train F1:  0.8053                 | Val Loss:  0.0141                 | Val F1:  0.8021\n"
     ]
    },
    {
     "name": "stderr",
     "output_type": "stream",
     "text": [
      "100%|██████████| 2485/2485 [00:08<00:00, 304.76it/s]\n"
     ]
    },
    {
     "name": "stdout",
     "output_type": "stream",
     "text": [
      "Epochs: 4 | Train Loss:  0.0136                 | Train F1:  0.8140                 | Val Loss:  0.0120                 | Val F1:  0.8108\n"
     ]
    },
    {
     "name": "stderr",
     "output_type": "stream",
     "text": [
      "100%|██████████| 2485/2485 [00:08<00:00, 306.56it/s]\n"
     ]
    },
    {
     "name": "stdout",
     "output_type": "stream",
     "text": [
      "Epochs: 5 | Train Loss:  0.0122                 | Train F1:  0.8215                 | Val Loss:  0.0109                 | Val F1:  0.8198\n"
     ]
    },
    {
     "name": "stderr",
     "output_type": "stream",
     "text": [
      "100%|██████████| 2485/2485 [00:08<00:00, 305.37it/s]\n"
     ]
    },
    {
     "name": "stdout",
     "output_type": "stream",
     "text": [
      "Epochs: 6 | Train Loss:  0.0114                 | Train F1:  0.8277                 | Val Loss:  0.0104                 | Val F1:  0.8253\n"
     ]
    },
    {
     "name": "stderr",
     "output_type": "stream",
     "text": [
      "100%|██████████| 2485/2485 [00:08<00:00, 307.64it/s]\n"
     ]
    },
    {
     "name": "stdout",
     "output_type": "stream",
     "text": [
      "Epochs: 7 | Train Loss:  0.0109                 | Train F1:  0.8328                 | Val Loss:  0.0101                 | Val F1:  0.8298\n"
     ]
    },
    {
     "name": "stderr",
     "output_type": "stream",
     "text": [
      "100%|██████████| 2485/2485 [00:08<00:00, 305.79it/s]\n"
     ]
    },
    {
     "name": "stdout",
     "output_type": "stream",
     "text": [
      "Epochs: 8 | Train Loss:  0.0106                 | Train F1:  0.8369                 | Val Loss:  0.0099                 | Val F1:  0.8329\n"
     ]
    },
    {
     "name": "stderr",
     "output_type": "stream",
     "text": [
      "100%|██████████| 2485/2485 [00:08<00:00, 305.93it/s]\n"
     ]
    },
    {
     "name": "stdout",
     "output_type": "stream",
     "text": [
      "Epochs: 9 | Train Loss:  0.0104                 | Train F1:  0.8410                 | Val Loss:  0.0098                 | Val F1:  0.8359\n"
     ]
    },
    {
     "name": "stderr",
     "output_type": "stream",
     "text": [
      "100%|██████████| 2485/2485 [00:08<00:00, 306.13it/s]\n"
     ]
    },
    {
     "name": "stdout",
     "output_type": "stream",
     "text": [
      "Epochs: 10 | Train Loss:  0.0102                 | Train F1:  0.8431                 | Val Loss:  0.0098                 | Val F1:  0.8372\n",
      "Fold 2\n"
     ]
    },
    {
     "name": "stderr",
     "output_type": "stream",
     "text": [
      "100%|██████████| 2549/2549 [00:08<00:00, 301.98it/s]\n"
     ]
    },
    {
     "name": "stdout",
     "output_type": "stream",
     "text": [
      "Epochs: 1 | Train Loss:  0.0212                 | Train F1:  0.3641                 | Val Loss:  0.0200                 | Val F1:  0.8014\n"
     ]
    },
    {
     "name": "stderr",
     "output_type": "stream",
     "text": [
      "100%|██████████| 2549/2549 [00:08<00:00, 305.01it/s]\n"
     ]
    },
    {
     "name": "stdout",
     "output_type": "stream",
     "text": [
      "Epochs: 2 | Train Loss:  0.0191                 | Train F1:  0.7500                 | Val Loss:  0.0162                 | Val F1:  0.8722\n"
     ]
    },
    {
     "name": "stderr",
     "output_type": "stream",
     "text": [
      "100%|██████████| 2549/2549 [00:08<00:00, 305.40it/s]\n"
     ]
    },
    {
     "name": "stdout",
     "output_type": "stream",
     "text": [
      "Epochs: 3 | Train Loss:  0.0161                 | Train F1:  0.7953                 | Val Loss:  0.0125                 | Val F1:  0.8732\n"
     ]
    },
    {
     "name": "stderr",
     "output_type": "stream",
     "text": [
      "100%|██████████| 2549/2549 [00:08<00:00, 303.28it/s]\n"
     ]
    },
    {
     "name": "stdout",
     "output_type": "stream",
     "text": [
      "Epochs: 4 | Train Loss:  0.0138                 | Train F1:  0.8105                 | Val Loss:  0.0102                 | Val F1:  0.8739\n"
     ]
    },
    {
     "name": "stderr",
     "output_type": "stream",
     "text": [
      "100%|██████████| 2549/2549 [00:08<00:00, 303.58it/s]\n"
     ]
    },
    {
     "name": "stdout",
     "output_type": "stream",
     "text": [
      "Epochs: 5 | Train Loss:  0.0124                 | Train F1:  0.8205                 | Val Loss:  0.0091                 | Val F1:  0.8714\n"
     ]
    },
    {
     "name": "stderr",
     "output_type": "stream",
     "text": [
      "100%|██████████| 2549/2549 [00:08<00:00, 305.39it/s]\n"
     ]
    },
    {
     "name": "stdout",
     "output_type": "stream",
     "text": [
      "Epochs: 6 | Train Loss:  0.0116                 | Train F1:  0.8254                 | Val Loss:  0.0086                 | Val F1:  0.8693\n"
     ]
    },
    {
     "name": "stderr",
     "output_type": "stream",
     "text": [
      "100%|██████████| 2549/2549 [00:08<00:00, 306.11it/s]\n"
     ]
    },
    {
     "name": "stdout",
     "output_type": "stream",
     "text": [
      "Epochs: 7 | Train Loss:  0.0112                 | Train F1:  0.8313                 | Val Loss:  0.0084                 | Val F1:  0.8669\n"
     ]
    },
    {
     "name": "stderr",
     "output_type": "stream",
     "text": [
      "100%|██████████| 2549/2549 [00:08<00:00, 302.79it/s]\n"
     ]
    },
    {
     "name": "stdout",
     "output_type": "stream",
     "text": [
      "Epochs: 8 | Train Loss:  0.0109                 | Train F1:  0.8359                 | Val Loss:  0.0082                 | Val F1:  0.8664\n"
     ]
    },
    {
     "name": "stderr",
     "output_type": "stream",
     "text": [
      "100%|██████████| 2549/2549 [00:08<00:00, 304.53it/s]\n"
     ]
    },
    {
     "name": "stdout",
     "output_type": "stream",
     "text": [
      "Epochs: 9 | Train Loss:  0.0107                 | Train F1:  0.8389                 | Val Loss:  0.0082                 | Val F1:  0.8650\n"
     ]
    },
    {
     "name": "stderr",
     "output_type": "stream",
     "text": [
      "100%|██████████| 2549/2549 [00:08<00:00, 303.66it/s]\n"
     ]
    },
    {
     "name": "stdout",
     "output_type": "stream",
     "text": [
      "Epochs: 10 | Train Loss:  0.0105                 | Train F1:  0.8428                 | Val Loss:  0.0082                 | Val F1:  0.8647\n",
      "Fold 3\n"
     ]
    },
    {
     "name": "stderr",
     "output_type": "stream",
     "text": [
      "100%|██████████| 2499/2499 [00:08<00:00, 303.50it/s]\n"
     ]
    },
    {
     "name": "stdout",
     "output_type": "stream",
     "text": [
      "Epochs: 1 | Train Loss:  0.0209                 | Train F1:  0.1814                 | Val Loss:  0.0204                 | Val F1:  0.4891\n"
     ]
    },
    {
     "name": "stderr",
     "output_type": "stream",
     "text": [
      "100%|██████████| 2499/2499 [00:08<00:00, 304.91it/s]\n"
     ]
    },
    {
     "name": "stdout",
     "output_type": "stream",
     "text": [
      "Epochs: 2 | Train Loss:  0.0183                 | Train F1:  0.7032                 | Val Loss:  0.0173                 | Val F1:  0.7622\n"
     ]
    },
    {
     "name": "stderr",
     "output_type": "stream",
     "text": [
      "100%|██████████| 2499/2499 [00:08<00:00, 305.88it/s]\n"
     ]
    },
    {
     "name": "stdout",
     "output_type": "stream",
     "text": [
      "Epochs: 3 | Train Loss:  0.0150                 | Train F1:  0.7942                 | Val Loss:  0.0144                 | Val F1:  0.8070\n"
     ]
    },
    {
     "name": "stderr",
     "output_type": "stream",
     "text": [
      "100%|██████████| 2499/2499 [00:08<00:00, 306.65it/s]\n"
     ]
    },
    {
     "name": "stdout",
     "output_type": "stream",
     "text": [
      "Epochs: 4 | Train Loss:  0.0127                 | Train F1:  0.8143                 | Val Loss:  0.0126                 | Val F1:  0.8221\n"
     ]
    },
    {
     "name": "stderr",
     "output_type": "stream",
     "text": [
      "100%|██████████| 2499/2499 [00:08<00:00, 305.26it/s]\n"
     ]
    },
    {
     "name": "stdout",
     "output_type": "stream",
     "text": [
      "Epochs: 5 | Train Loss:  0.0114                 | Train F1:  0.8250                 | Val Loss:  0.0118                 | Val F1:  0.8257\n"
     ]
    },
    {
     "name": "stderr",
     "output_type": "stream",
     "text": [
      "100%|██████████| 2499/2499 [00:08<00:00, 306.67it/s]\n"
     ]
    },
    {
     "name": "stdout",
     "output_type": "stream",
     "text": [
      "Epochs: 6 | Train Loss:  0.0107                 | Train F1:  0.8334                 | Val Loss:  0.0115                 | Val F1:  0.8270\n"
     ]
    },
    {
     "name": "stderr",
     "output_type": "stream",
     "text": [
      "100%|██████████| 2499/2499 [00:08<00:00, 304.34it/s]\n"
     ]
    },
    {
     "name": "stdout",
     "output_type": "stream",
     "text": [
      "Epochs: 7 | Train Loss:  0.0103                 | Train F1:  0.8382                 | Val Loss:  0.0114                 | Val F1:  0.8279\n"
     ]
    },
    {
     "name": "stderr",
     "output_type": "stream",
     "text": [
      "100%|██████████| 2499/2499 [00:08<00:00, 307.18it/s]\n"
     ]
    },
    {
     "name": "stdout",
     "output_type": "stream",
     "text": [
      "Epochs: 8 | Train Loss:  0.0099                 | Train F1:  0.8444                 | Val Loss:  0.0114                 | Val F1:  0.8261\n"
     ]
    },
    {
     "name": "stderr",
     "output_type": "stream",
     "text": [
      "100%|██████████| 2499/2499 [00:08<00:00, 305.24it/s]\n"
     ]
    },
    {
     "name": "stdout",
     "output_type": "stream",
     "text": [
      "Epochs: 9 | Train Loss:  0.0098                 | Train F1:  0.8482                 | Val Loss:  0.0115                 | Val F1:  0.8250\n"
     ]
    },
    {
     "name": "stderr",
     "output_type": "stream",
     "text": [
      "100%|██████████| 2499/2499 [00:08<00:00, 305.65it/s]\n"
     ]
    },
    {
     "name": "stdout",
     "output_type": "stream",
     "text": [
      "Epochs: 10 | Train Loss:  0.0095                 | Train F1:  0.8515                 | Val Loss:  0.0116                 | Val F1:  0.8231\n",
      "Fold 4\n"
     ]
    },
    {
     "name": "stderr",
     "output_type": "stream",
     "text": [
      "100%|██████████| 2303/2303 [00:07<00:00, 303.86it/s]\n"
     ]
    },
    {
     "name": "stdout",
     "output_type": "stream",
     "text": [
      "Epochs: 1 | Train Loss:  0.0212                 | Train F1:  0.3793                 | Val Loss:  0.0207                 | Val F1:  0.6978\n"
     ]
    },
    {
     "name": "stderr",
     "output_type": "stream",
     "text": [
      "100%|██████████| 2303/2303 [00:07<00:00, 303.72it/s]\n"
     ]
    },
    {
     "name": "stdout",
     "output_type": "stream",
     "text": [
      "Epochs: 2 | Train Loss:  0.0189                 | Train F1:  0.8246                 | Val Loss:  0.0186                 | Val F1:  0.7444\n"
     ]
    },
    {
     "name": "stderr",
     "output_type": "stream",
     "text": [
      "100%|██████████| 2303/2303 [00:07<00:00, 303.91it/s]\n"
     ]
    },
    {
     "name": "stdout",
     "output_type": "stream",
     "text": [
      "Epochs: 3 | Train Loss:  0.0159                 | Train F1:  0.8445                 | Val Loss:  0.0167                 | Val F1:  0.7428\n"
     ]
    },
    {
     "name": "stderr",
     "output_type": "stream",
     "text": [
      "100%|██████████| 2303/2303 [00:07<00:00, 305.28it/s]\n"
     ]
    },
    {
     "name": "stdout",
     "output_type": "stream",
     "text": [
      "Epochs: 4 | Train Loss:  0.0132                 | Train F1:  0.8457                 | Val Loss:  0.0156                 | Val F1:  0.7434\n"
     ]
    },
    {
     "name": "stderr",
     "output_type": "stream",
     "text": [
      "100%|██████████| 2303/2303 [00:07<00:00, 303.38it/s]\n"
     ]
    },
    {
     "name": "stdout",
     "output_type": "stream",
     "text": [
      "Epochs: 5 | Train Loss:  0.0114                 | Train F1:  0.8492                 | Val Loss:  0.0151                 | Val F1:  0.7424\n"
     ]
    },
    {
     "name": "stderr",
     "output_type": "stream",
     "text": [
      "100%|██████████| 2303/2303 [00:07<00:00, 304.80it/s]\n"
     ]
    },
    {
     "name": "stdout",
     "output_type": "stream",
     "text": [
      "Epochs: 6 | Train Loss:  0.0103                 | Train F1:  0.8535                 | Val Loss:  0.0151                 | Val F1:  0.7423\n"
     ]
    },
    {
     "name": "stderr",
     "output_type": "stream",
     "text": [
      "100%|██████████| 2303/2303 [00:07<00:00, 304.71it/s]\n"
     ]
    },
    {
     "name": "stdout",
     "output_type": "stream",
     "text": [
      "Epochs: 7 | Train Loss:  0.0098                 | Train F1:  0.8573                 | Val Loss:  0.0153                 | Val F1:  0.7424\n"
     ]
    },
    {
     "name": "stderr",
     "output_type": "stream",
     "text": [
      "100%|██████████| 2303/2303 [00:07<00:00, 303.23it/s]\n"
     ]
    },
    {
     "name": "stdout",
     "output_type": "stream",
     "text": [
      "Epochs: 8 | Train Loss:  0.0093                 | Train F1:  0.8613                 | Val Loss:  0.0155                 | Val F1:  0.7417\n"
     ]
    },
    {
     "name": "stderr",
     "output_type": "stream",
     "text": [
      "100%|██████████| 2303/2303 [00:07<00:00, 304.94it/s]\n"
     ]
    },
    {
     "name": "stdout",
     "output_type": "stream",
     "text": [
      "Epochs: 9 | Train Loss:  0.0091                 | Train F1:  0.8640                 | Val Loss:  0.0157                 | Val F1:  0.7413\n"
     ]
    },
    {
     "name": "stderr",
     "output_type": "stream",
     "text": [
      "100%|██████████| 2303/2303 [00:07<00:00, 302.86it/s]\n",
      "\u001b[32m[I 2022-06-16 19:34:30,095]\u001b[0m Trial 20 finished with value: 0.8069809938069717 and parameters: {'learning_rate': 1.003646242359274e-05, 'n_layers': 2, 'n_units_l0': 39, 'dropout_l0': 0.25, 'n_units_l1': 29, 'dropout_l1': 0.30000000000000004}. Best is trial 15 with value: 0.807087138352161.\u001b[0m\n"
     ]
    },
    {
     "name": "stdout",
     "output_type": "stream",
     "text": [
      "Epochs: 10 | Train Loss:  0.0089                 | Train F1:  0.8677                 | Val Loss:  0.0159                 | Val F1:  0.7406\n",
      "Fold 0\n"
     ]
    },
    {
     "name": "stderr",
     "output_type": "stream",
     "text": [
      "100%|██████████| 2399/2399 [00:07<00:00, 303.94it/s]\n"
     ]
    },
    {
     "name": "stdout",
     "output_type": "stream",
     "text": [
      "Epochs: 1 | Train Loss:  0.0211                 | Train F1:  0.7261                 | Val Loss:  0.0203                 | Val F1:  0.7610\n"
     ]
    },
    {
     "name": "stderr",
     "output_type": "stream",
     "text": [
      "100%|██████████| 2399/2399 [00:07<00:00, 303.42it/s]\n"
     ]
    },
    {
     "name": "stdout",
     "output_type": "stream",
     "text": [
      "Epochs: 2 | Train Loss:  0.0184                 | Train F1:  0.8325                 | Val Loss:  0.0172                 | Val F1:  0.7706\n"
     ]
    },
    {
     "name": "stderr",
     "output_type": "stream",
     "text": [
      "100%|██████████| 2399/2399 [00:07<00:00, 303.93it/s]\n"
     ]
    },
    {
     "name": "stdout",
     "output_type": "stream",
     "text": [
      "Epochs: 3 | Train Loss:  0.0148                 | Train F1:  0.8391                 | Val Loss:  0.0147                 | Val F1:  0.7724\n"
     ]
    },
    {
     "name": "stderr",
     "output_type": "stream",
     "text": [
      "100%|██████████| 2399/2399 [00:07<00:00, 302.04it/s]\n"
     ]
    },
    {
     "name": "stdout",
     "output_type": "stream",
     "text": [
      "Epochs: 4 | Train Loss:  0.0123                 | Train F1:  0.8437                 | Val Loss:  0.0135                 | Val F1:  0.7716\n"
     ]
    },
    {
     "name": "stderr",
     "output_type": "stream",
     "text": [
      "100%|██████████| 2399/2399 [00:07<00:00, 303.89it/s]\n"
     ]
    },
    {
     "name": "stdout",
     "output_type": "stream",
     "text": [
      "Epochs: 5 | Train Loss:  0.0110                 | Train F1:  0.8488                 | Val Loss:  0.0132                 | Val F1:  0.7707\n"
     ]
    },
    {
     "name": "stderr",
     "output_type": "stream",
     "text": [
      "100%|██████████| 2399/2399 [00:07<00:00, 305.07it/s]\n"
     ]
    },
    {
     "name": "stdout",
     "output_type": "stream",
     "text": [
      "Epochs: 6 | Train Loss:  0.0103                 | Train F1:  0.8536                 | Val Loss:  0.0132                 | Val F1:  0.7699\n"
     ]
    },
    {
     "name": "stderr",
     "output_type": "stream",
     "text": [
      "100%|██████████| 2399/2399 [00:07<00:00, 303.62it/s]\n"
     ]
    },
    {
     "name": "stdout",
     "output_type": "stream",
     "text": [
      "Epochs: 7 | Train Loss:  0.0098                 | Train F1:  0.8580                 | Val Loss:  0.0133                 | Val F1:  0.7695\n"
     ]
    },
    {
     "name": "stderr",
     "output_type": "stream",
     "text": [
      "100%|██████████| 2399/2399 [00:07<00:00, 304.15it/s]\n"
     ]
    },
    {
     "name": "stdout",
     "output_type": "stream",
     "text": [
      "Epochs: 8 | Train Loss:  0.0096                 | Train F1:  0.8622                 | Val Loss:  0.0134                 | Val F1:  0.7692\n"
     ]
    },
    {
     "name": "stderr",
     "output_type": "stream",
     "text": [
      "100%|██████████| 2399/2399 [00:07<00:00, 303.57it/s]\n"
     ]
    },
    {
     "name": "stdout",
     "output_type": "stream",
     "text": [
      "Epochs: 9 | Train Loss:  0.0093                 | Train F1:  0.8662                 | Val Loss:  0.0134                 | Val F1:  0.7695\n"
     ]
    },
    {
     "name": "stderr",
     "output_type": "stream",
     "text": [
      "100%|██████████| 2399/2399 [00:07<00:00, 303.63it/s]\n"
     ]
    },
    {
     "name": "stdout",
     "output_type": "stream",
     "text": [
      "Epochs: 10 | Train Loss:  0.0091                 | Train F1:  0.8684                 | Val Loss:  0.0135                 | Val F1:  0.7689\n",
      "Fold 1\n"
     ]
    },
    {
     "name": "stderr",
     "output_type": "stream",
     "text": [
      "100%|██████████| 2485/2485 [00:08<00:00, 303.47it/s]\n"
     ]
    },
    {
     "name": "stdout",
     "output_type": "stream",
     "text": [
      "Epochs: 1 | Train Loss:  0.0211                 | Train F1:  0.6687                 | Val Loss:  0.0198                 | Val F1:  0.8176\n"
     ]
    },
    {
     "name": "stderr",
     "output_type": "stream",
     "text": [
      "100%|██████████| 2485/2485 [00:08<00:00, 302.81it/s]\n"
     ]
    },
    {
     "name": "stdout",
     "output_type": "stream",
     "text": [
      "Epochs: 2 | Train Loss:  0.0184                 | Train F1:  0.7989                 | Val Loss:  0.0164                 | Val F1:  0.8196\n"
     ]
    },
    {
     "name": "stderr",
     "output_type": "stream",
     "text": [
      "100%|██████████| 2485/2485 [00:08<00:00, 302.71it/s]\n"
     ]
    },
    {
     "name": "stdout",
     "output_type": "stream",
     "text": [
      "Epochs: 3 | Train Loss:  0.0152                 | Train F1:  0.8150                 | Val Loss:  0.0132                 | Val F1:  0.8148\n"
     ]
    },
    {
     "name": "stderr",
     "output_type": "stream",
     "text": [
      "100%|██████████| 2485/2485 [00:08<00:00, 303.09it/s]\n"
     ]
    },
    {
     "name": "stdout",
     "output_type": "stream",
     "text": [
      "Epochs: 4 | Train Loss:  0.0129                 | Train F1:  0.8203                 | Val Loss:  0.0115                 | Val F1:  0.8176\n"
     ]
    },
    {
     "name": "stderr",
     "output_type": "stream",
     "text": [
      "100%|██████████| 2485/2485 [00:08<00:00, 302.59it/s]\n"
     ]
    },
    {
     "name": "stdout",
     "output_type": "stream",
     "text": [
      "Epochs: 5 | Train Loss:  0.0117                 | Train F1:  0.8253                 | Val Loss:  0.0106                 | Val F1:  0.8254\n"
     ]
    },
    {
     "name": "stderr",
     "output_type": "stream",
     "text": [
      "100%|██████████| 2485/2485 [00:08<00:00, 304.60it/s]\n"
     ]
    },
    {
     "name": "stdout",
     "output_type": "stream",
     "text": [
      "Epochs: 6 | Train Loss:  0.0110                 | Train F1:  0.8331                 | Val Loss:  0.0101                 | Val F1:  0.8298\n"
     ]
    },
    {
     "name": "stderr",
     "output_type": "stream",
     "text": [
      "100%|██████████| 2485/2485 [00:08<00:00, 302.74it/s]\n"
     ]
    },
    {
     "name": "stdout",
     "output_type": "stream",
     "text": [
      "Epochs: 7 | Train Loss:  0.0106                 | Train F1:  0.8371                 | Val Loss:  0.0099                 | Val F1:  0.8338\n"
     ]
    },
    {
     "name": "stderr",
     "output_type": "stream",
     "text": [
      "100%|██████████| 2485/2485 [00:08<00:00, 302.97it/s]\n"
     ]
    },
    {
     "name": "stdout",
     "output_type": "stream",
     "text": [
      "Epochs: 8 | Train Loss:  0.0103                 | Train F1:  0.8411                 | Val Loss:  0.0098                 | Val F1:  0.8368\n"
     ]
    },
    {
     "name": "stderr",
     "output_type": "stream",
     "text": [
      "100%|██████████| 2485/2485 [00:08<00:00, 301.61it/s]\n"
     ]
    },
    {
     "name": "stdout",
     "output_type": "stream",
     "text": [
      "Epochs: 9 | Train Loss:  0.0101                 | Train F1:  0.8443                 | Val Loss:  0.0098                 | Val F1:  0.8364\n"
     ]
    },
    {
     "name": "stderr",
     "output_type": "stream",
     "text": [
      "100%|██████████| 2485/2485 [00:08<00:00, 304.54it/s]\n"
     ]
    },
    {
     "name": "stdout",
     "output_type": "stream",
     "text": [
      "Epochs: 10 | Train Loss:  0.0099                 | Train F1:  0.8477                 | Val Loss:  0.0097                 | Val F1:  0.8400\n",
      "Fold 2\n"
     ]
    },
    {
     "name": "stderr",
     "output_type": "stream",
     "text": [
      "100%|██████████| 2549/2549 [00:08<00:00, 303.89it/s]\n"
     ]
    },
    {
     "name": "stdout",
     "output_type": "stream",
     "text": [
      "Epochs: 1 | Train Loss:  0.0209                 | Train F1:  0.3832                 | Val Loss:  0.0189                 | Val F1:  0.8187\n"
     ]
    },
    {
     "name": "stderr",
     "output_type": "stream",
     "text": [
      "100%|██████████| 2549/2549 [00:08<00:00, 301.47it/s]\n"
     ]
    },
    {
     "name": "stdout",
     "output_type": "stream",
     "text": [
      "Epochs: 2 | Train Loss:  0.0180                 | Train F1:  0.7681                 | Val Loss:  0.0146                 | Val F1:  0.8743\n"
     ]
    },
    {
     "name": "stderr",
     "output_type": "stream",
     "text": [
      "100%|██████████| 2549/2549 [00:08<00:00, 304.40it/s]\n"
     ]
    },
    {
     "name": "stdout",
     "output_type": "stream",
     "text": [
      "Epochs: 3 | Train Loss:  0.0149                 | Train F1:  0.8075                 | Val Loss:  0.0113                 | Val F1:  0.8742\n"
     ]
    },
    {
     "name": "stderr",
     "output_type": "stream",
     "text": [
      "100%|██████████| 2549/2549 [00:08<00:00, 304.53it/s]\n"
     ]
    },
    {
     "name": "stdout",
     "output_type": "stream",
     "text": [
      "Epochs: 4 | Train Loss:  0.0128                 | Train F1:  0.8165                 | Val Loss:  0.0095                 | Val F1:  0.8719\n"
     ]
    },
    {
     "name": "stderr",
     "output_type": "stream",
     "text": [
      "100%|██████████| 2549/2549 [00:08<00:00, 302.49it/s]\n"
     ]
    },
    {
     "name": "stdout",
     "output_type": "stream",
     "text": [
      "Epochs: 5 | Train Loss:  0.0117                 | Train F1:  0.8256                 | Val Loss:  0.0088                 | Val F1:  0.8697\n"
     ]
    },
    {
     "name": "stderr",
     "output_type": "stream",
     "text": [
      "100%|██████████| 2549/2549 [00:08<00:00, 304.29it/s]\n"
     ]
    },
    {
     "name": "stdout",
     "output_type": "stream",
     "text": [
      "Epochs: 6 | Train Loss:  0.0112                 | Train F1:  0.8310                 | Val Loss:  0.0084                 | Val F1:  0.8677\n"
     ]
    },
    {
     "name": "stderr",
     "output_type": "stream",
     "text": [
      "100%|██████████| 2549/2549 [00:08<00:00, 304.99it/s]\n"
     ]
    },
    {
     "name": "stdout",
     "output_type": "stream",
     "text": [
      "Epochs: 7 | Train Loss:  0.0108                 | Train F1:  0.8371                 | Val Loss:  0.0083                 | Val F1:  0.8668\n"
     ]
    },
    {
     "name": "stderr",
     "output_type": "stream",
     "text": [
      "100%|██████████| 2549/2549 [00:08<00:00, 304.39it/s]\n"
     ]
    },
    {
     "name": "stdout",
     "output_type": "stream",
     "text": [
      "Epochs: 8 | Train Loss:  0.0106                 | Train F1:  0.8410                 | Val Loss:  0.0082                 | Val F1:  0.8651\n"
     ]
    },
    {
     "name": "stderr",
     "output_type": "stream",
     "text": [
      "100%|██████████| 2549/2549 [00:08<00:00, 303.57it/s]\n"
     ]
    },
    {
     "name": "stdout",
     "output_type": "stream",
     "text": [
      "Epochs: 9 | Train Loss:  0.0104                 | Train F1:  0.8434                 | Val Loss:  0.0082                 | Val F1:  0.8644\n"
     ]
    },
    {
     "name": "stderr",
     "output_type": "stream",
     "text": [
      "100%|██████████| 2549/2549 [00:08<00:00, 303.86it/s]\n"
     ]
    },
    {
     "name": "stdout",
     "output_type": "stream",
     "text": [
      "Epochs: 10 | Train Loss:  0.0102                 | Train F1:  0.8466                 | Val Loss:  0.0082                 | Val F1:  0.8638\n",
      "Fold 3\n"
     ]
    },
    {
     "name": "stderr",
     "output_type": "stream",
     "text": [
      "100%|██████████| 2499/2499 [00:08<00:00, 303.43it/s]\n"
     ]
    },
    {
     "name": "stdout",
     "output_type": "stream",
     "text": [
      "Epochs: 1 | Train Loss:  0.0208                 | Train F1:  0.4003                 | Val Loss:  0.0201                 | Val F1:  0.6872\n"
     ]
    },
    {
     "name": "stderr",
     "output_type": "stream",
     "text": [
      "100%|██████████| 2499/2499 [00:08<00:00, 303.54it/s]\n"
     ]
    },
    {
     "name": "stdout",
     "output_type": "stream",
     "text": [
      "Epochs: 2 | Train Loss:  0.0182                 | Train F1:  0.7687                 | Val Loss:  0.0169                 | Val F1:  0.8147\n"
     ]
    },
    {
     "name": "stderr",
     "output_type": "stream",
     "text": [
      "100%|██████████| 2499/2499 [00:08<00:00, 303.79it/s]\n"
     ]
    },
    {
     "name": "stdout",
     "output_type": "stream",
     "text": [
      "Epochs: 3 | Train Loss:  0.0149                 | Train F1:  0.8073                 | Val Loss:  0.0140                 | Val F1:  0.8230\n"
     ]
    },
    {
     "name": "stderr",
     "output_type": "stream",
     "text": [
      "100%|██████████| 2499/2499 [00:08<00:00, 300.32it/s]\n"
     ]
    },
    {
     "name": "stdout",
     "output_type": "stream",
     "text": [
      "Epochs: 4 | Train Loss:  0.0126                 | Train F1:  0.8172                 | Val Loss:  0.0125                 | Val F1:  0.8252\n"
     ]
    },
    {
     "name": "stderr",
     "output_type": "stream",
     "text": [
      "100%|██████████| 2499/2499 [00:08<00:00, 303.89it/s]\n"
     ]
    },
    {
     "name": "stdout",
     "output_type": "stream",
     "text": [
      "Epochs: 5 | Train Loss:  0.0113                 | Train F1:  0.8258                 | Val Loss:  0.0117                 | Val F1:  0.8271\n"
     ]
    },
    {
     "name": "stderr",
     "output_type": "stream",
     "text": [
      "100%|██████████| 2499/2499 [00:08<00:00, 302.92it/s]\n"
     ]
    },
    {
     "name": "stdout",
     "output_type": "stream",
     "text": [
      "Epochs: 6 | Train Loss:  0.0107                 | Train F1:  0.8320                 | Val Loss:  0.0115                 | Val F1:  0.8284\n"
     ]
    },
    {
     "name": "stderr",
     "output_type": "stream",
     "text": [
      "100%|██████████| 2499/2499 [00:08<00:00, 302.66it/s]\n"
     ]
    },
    {
     "name": "stdout",
     "output_type": "stream",
     "text": [
      "Epochs: 7 | Train Loss:  0.0103                 | Train F1:  0.8377                 | Val Loss:  0.0113                 | Val F1:  0.8290\n"
     ]
    },
    {
     "name": "stderr",
     "output_type": "stream",
     "text": [
      "100%|██████████| 2499/2499 [00:08<00:00, 302.53it/s]\n"
     ]
    },
    {
     "name": "stdout",
     "output_type": "stream",
     "text": [
      "Epochs: 8 | Train Loss:  0.0100                 | Train F1:  0.8438                 | Val Loss:  0.0114                 | Val F1:  0.8270\n"
     ]
    },
    {
     "name": "stderr",
     "output_type": "stream",
     "text": [
      "100%|██████████| 2499/2499 [00:08<00:00, 303.27it/s]\n"
     ]
    },
    {
     "name": "stdout",
     "output_type": "stream",
     "text": [
      "Epochs: 9 | Train Loss:  0.0097                 | Train F1:  0.8479                 | Val Loss:  0.0115                 | Val F1:  0.8256\n"
     ]
    },
    {
     "name": "stderr",
     "output_type": "stream",
     "text": [
      "100%|██████████| 2499/2499 [00:08<00:00, 301.93it/s]\n"
     ]
    },
    {
     "name": "stdout",
     "output_type": "stream",
     "text": [
      "Epochs: 10 | Train Loss:  0.0096                 | Train F1:  0.8506                 | Val Loss:  0.0116                 | Val F1:  0.8237\n",
      "Fold 4\n"
     ]
    },
    {
     "name": "stderr",
     "output_type": "stream",
     "text": [
      "100%|██████████| 2303/2303 [00:07<00:00, 304.36it/s]\n"
     ]
    },
    {
     "name": "stdout",
     "output_type": "stream",
     "text": [
      "Epochs: 1 | Train Loss:  0.0210                 | Train F1:  0.7142                 | Val Loss:  0.0205                 | Val F1:  0.7329\n"
     ]
    },
    {
     "name": "stderr",
     "output_type": "stream",
     "text": [
      "100%|██████████| 2303/2303 [00:07<00:00, 305.17it/s]\n"
     ]
    },
    {
     "name": "stdout",
     "output_type": "stream",
     "text": [
      "Epochs: 2 | Train Loss:  0.0180                 | Train F1:  0.8303                 | Val Loss:  0.0180                 | Val F1:  0.7378\n"
     ]
    },
    {
     "name": "stderr",
     "output_type": "stream",
     "text": [
      "100%|██████████| 2303/2303 [00:07<00:00, 304.05it/s]\n"
     ]
    },
    {
     "name": "stdout",
     "output_type": "stream",
     "text": [
      "Epochs: 3 | Train Loss:  0.0146                 | Train F1:  0.8413                 | Val Loss:  0.0162                 | Val F1:  0.7389\n"
     ]
    },
    {
     "name": "stderr",
     "output_type": "stream",
     "text": [
      "100%|██████████| 2303/2303 [00:07<00:00, 304.80it/s]\n"
     ]
    },
    {
     "name": "stdout",
     "output_type": "stream",
     "text": [
      "Epochs: 4 | Train Loss:  0.0121                 | Train F1:  0.8473                 | Val Loss:  0.0154                 | Val F1:  0.7410\n"
     ]
    },
    {
     "name": "stderr",
     "output_type": "stream",
     "text": [
      "100%|██████████| 2303/2303 [00:07<00:00, 303.37it/s]\n"
     ]
    },
    {
     "name": "stdout",
     "output_type": "stream",
     "text": [
      "Epochs: 5 | Train Loss:  0.0107                 | Train F1:  0.8504                 | Val Loss:  0.0153                 | Val F1:  0.7419\n"
     ]
    },
    {
     "name": "stderr",
     "output_type": "stream",
     "text": [
      "100%|██████████| 2303/2303 [00:07<00:00, 303.51it/s]\n"
     ]
    },
    {
     "name": "stdout",
     "output_type": "stream",
     "text": [
      "Epochs: 6 | Train Loss:  0.0099                 | Train F1:  0.8553                 | Val Loss:  0.0154                 | Val F1:  0.7420\n"
     ]
    },
    {
     "name": "stderr",
     "output_type": "stream",
     "text": [
      "100%|██████████| 2303/2303 [00:07<00:00, 303.15it/s]\n"
     ]
    },
    {
     "name": "stdout",
     "output_type": "stream",
     "text": [
      "Epochs: 7 | Train Loss:  0.0094                 | Train F1:  0.8610                 | Val Loss:  0.0156                 | Val F1:  0.7411\n"
     ]
    },
    {
     "name": "stderr",
     "output_type": "stream",
     "text": [
      "100%|██████████| 2303/2303 [00:07<00:00, 303.09it/s]\n"
     ]
    },
    {
     "name": "stdout",
     "output_type": "stream",
     "text": [
      "Epochs: 8 | Train Loss:  0.0091                 | Train F1:  0.8655                 | Val Loss:  0.0158                 | Val F1:  0.7397\n"
     ]
    },
    {
     "name": "stderr",
     "output_type": "stream",
     "text": [
      "100%|██████████| 2303/2303 [00:07<00:00, 303.04it/s]\n"
     ]
    },
    {
     "name": "stdout",
     "output_type": "stream",
     "text": [
      "Epochs: 9 | Train Loss:  0.0089                 | Train F1:  0.8689                 | Val Loss:  0.0160                 | Val F1:  0.7391\n"
     ]
    },
    {
     "name": "stderr",
     "output_type": "stream",
     "text": [
      "100%|██████████| 2303/2303 [00:07<00:00, 304.44it/s]\n",
      "\u001b[32m[I 2022-06-16 19:42:00,250]\u001b[0m Trial 21 finished with value: 0.8068722930221416 and parameters: {'learning_rate': 1.0320012865697382e-05, 'n_layers': 2, 'n_units_l0': 38, 'dropout_l0': 0.2, 'n_units_l1': 28, 'dropout_l1': 0.30000000000000004}. Best is trial 15 with value: 0.807087138352161.\u001b[0m\n"
     ]
    },
    {
     "name": "stdout",
     "output_type": "stream",
     "text": [
      "Epochs: 10 | Train Loss:  0.0087                 | Train F1:  0.8714                 | Val Loss:  0.0162                 | Val F1:  0.7379\n",
      "Fold 0\n"
     ]
    },
    {
     "name": "stderr",
     "output_type": "stream",
     "text": [
      "100%|██████████| 2399/2399 [00:07<00:00, 302.95it/s]\n"
     ]
    },
    {
     "name": "stdout",
     "output_type": "stream",
     "text": [
      "Epochs: 1 | Train Loss:  0.0192                 | Train F1:  0.6354                 | Val Loss:  0.0161                 | Val F1:  0.7756\n"
     ]
    },
    {
     "name": "stderr",
     "output_type": "stream",
     "text": [
      "100%|██████████| 2399/2399 [00:07<00:00, 305.44it/s]\n"
     ]
    },
    {
     "name": "stdout",
     "output_type": "stream",
     "text": [
      "Epochs: 2 | Train Loss:  0.0124                 | Train F1:  0.8427                 | Val Loss:  0.0131                 | Val F1:  0.7709\n"
     ]
    },
    {
     "name": "stderr",
     "output_type": "stream",
     "text": [
      "100%|██████████| 2399/2399 [00:07<00:00, 303.46it/s]\n"
     ]
    },
    {
     "name": "stdout",
     "output_type": "stream",
     "text": [
      "Epochs: 3 | Train Loss:  0.0100                 | Train F1:  0.8551                 | Val Loss:  0.0132                 | Val F1:  0.7702\n"
     ]
    },
    {
     "name": "stderr",
     "output_type": "stream",
     "text": [
      "100%|██████████| 2399/2399 [00:07<00:00, 305.12it/s]\n"
     ]
    },
    {
     "name": "stdout",
     "output_type": "stream",
     "text": [
      "Epochs: 4 | Train Loss:  0.0094                 | Train F1:  0.8634                 | Val Loss:  0.0134                 | Val F1:  0.7704\n"
     ]
    },
    {
     "name": "stderr",
     "output_type": "stream",
     "text": [
      "100%|██████████| 2399/2399 [00:07<00:00, 305.76it/s]\n"
     ]
    },
    {
     "name": "stdout",
     "output_type": "stream",
     "text": [
      "Epochs: 5 | Train Loss:  0.0090                 | Train F1:  0.8694                 | Val Loss:  0.0136                 | Val F1:  0.7689\n"
     ]
    },
    {
     "name": "stderr",
     "output_type": "stream",
     "text": [
      "100%|██████████| 2399/2399 [00:07<00:00, 303.50it/s]\n"
     ]
    },
    {
     "name": "stdout",
     "output_type": "stream",
     "text": [
      "Epochs: 6 | Train Loss:  0.0087                 | Train F1:  0.8749                 | Val Loss:  0.0137                 | Val F1:  0.7678\n"
     ]
    },
    {
     "name": "stderr",
     "output_type": "stream",
     "text": [
      "100%|██████████| 2399/2399 [00:07<00:00, 304.92it/s]\n"
     ]
    },
    {
     "name": "stdout",
     "output_type": "stream",
     "text": [
      "Epochs: 7 | Train Loss:  0.0084                 | Train F1:  0.8799                 | Val Loss:  0.0139                 | Val F1:  0.7652\n"
     ]
    },
    {
     "name": "stderr",
     "output_type": "stream",
     "text": [
      "100%|██████████| 2399/2399 [00:07<00:00, 305.55it/s]\n"
     ]
    },
    {
     "name": "stdout",
     "output_type": "stream",
     "text": [
      "Epochs: 8 | Train Loss:  0.0082                 | Train F1:  0.8818                 | Val Loss:  0.0139                 | Val F1:  0.7659\n"
     ]
    },
    {
     "name": "stderr",
     "output_type": "stream",
     "text": [
      "100%|██████████| 2399/2399 [00:07<00:00, 304.44it/s]\n"
     ]
    },
    {
     "name": "stdout",
     "output_type": "stream",
     "text": [
      "Epochs: 9 | Train Loss:  0.0081                 | Train F1:  0.8837                 | Val Loss:  0.0140                 | Val F1:  0.7642\n"
     ]
    },
    {
     "name": "stderr",
     "output_type": "stream",
     "text": [
      "100%|██████████| 2399/2399 [00:07<00:00, 304.18it/s]\n"
     ]
    },
    {
     "name": "stdout",
     "output_type": "stream",
     "text": [
      "Epochs: 10 | Train Loss:  0.0080                 | Train F1:  0.8870                 | Val Loss:  0.0141                 | Val F1:  0.7638\n",
      "Fold 1\n"
     ]
    },
    {
     "name": "stderr",
     "output_type": "stream",
     "text": [
      "100%|██████████| 2485/2485 [00:08<00:00, 303.65it/s]\n"
     ]
    },
    {
     "name": "stdout",
     "output_type": "stream",
     "text": [
      "Epochs: 1 | Train Loss:  0.0194                 | Train F1:  0.6395                 | Val Loss:  0.0155                 | Val F1:  0.7816\n"
     ]
    },
    {
     "name": "stderr",
     "output_type": "stream",
     "text": [
      "100%|██████████| 2485/2485 [00:08<00:00, 305.50it/s]\n"
     ]
    },
    {
     "name": "stdout",
     "output_type": "stream",
     "text": [
      "Epochs: 2 | Train Loss:  0.0132                 | Train F1:  0.8133                 | Val Loss:  0.0108                 | Val F1:  0.8197\n"
     ]
    },
    {
     "name": "stderr",
     "output_type": "stream",
     "text": [
      "100%|██████████| 2485/2485 [00:08<00:00, 305.03it/s]\n"
     ]
    },
    {
     "name": "stdout",
     "output_type": "stream",
     "text": [
      "Epochs: 3 | Train Loss:  0.0110                 | Train F1:  0.8314                 | Val Loss:  0.0099                 | Val F1:  0.8354\n"
     ]
    },
    {
     "name": "stderr",
     "output_type": "stream",
     "text": [
      "100%|██████████| 2485/2485 [00:08<00:00, 301.89it/s]\n"
     ]
    },
    {
     "name": "stdout",
     "output_type": "stream",
     "text": [
      "Epochs: 4 | Train Loss:  0.0103                 | Train F1:  0.8414                 | Val Loss:  0.0097                 | Val F1:  0.8396\n"
     ]
    },
    {
     "name": "stderr",
     "output_type": "stream",
     "text": [
      "100%|██████████| 2485/2485 [00:08<00:00, 303.06it/s]\n"
     ]
    },
    {
     "name": "stdout",
     "output_type": "stream",
     "text": [
      "Epochs: 5 | Train Loss:  0.0098                 | Train F1:  0.8497                 | Val Loss:  0.0097                 | Val F1:  0.8428\n"
     ]
    },
    {
     "name": "stderr",
     "output_type": "stream",
     "text": [
      "100%|██████████| 2485/2485 [00:08<00:00, 305.04it/s]\n"
     ]
    },
    {
     "name": "stdout",
     "output_type": "stream",
     "text": [
      "Epochs: 6 | Train Loss:  0.0095                 | Train F1:  0.8533                 | Val Loss:  0.0097                 | Val F1:  0.8441\n"
     ]
    },
    {
     "name": "stderr",
     "output_type": "stream",
     "text": [
      "100%|██████████| 2485/2485 [00:08<00:00, 303.61it/s]\n"
     ]
    },
    {
     "name": "stdout",
     "output_type": "stream",
     "text": [
      "Epochs: 7 | Train Loss:  0.0093                 | Train F1:  0.8578                 | Val Loss:  0.0097                 | Val F1:  0.8450\n"
     ]
    },
    {
     "name": "stderr",
     "output_type": "stream",
     "text": [
      "100%|██████████| 2485/2485 [00:08<00:00, 304.10it/s]\n"
     ]
    },
    {
     "name": "stdout",
     "output_type": "stream",
     "text": [
      "Epochs: 8 | Train Loss:  0.0091                 | Train F1:  0.8616                 | Val Loss:  0.0098                 | Val F1:  0.8429\n"
     ]
    },
    {
     "name": "stderr",
     "output_type": "stream",
     "text": [
      "100%|██████████| 2485/2485 [00:08<00:00, 303.03it/s]\n"
     ]
    },
    {
     "name": "stdout",
     "output_type": "stream",
     "text": [
      "Epochs: 9 | Train Loss:  0.0089                 | Train F1:  0.8643                 | Val Loss:  0.0097                 | Val F1:  0.8458\n"
     ]
    },
    {
     "name": "stderr",
     "output_type": "stream",
     "text": [
      "100%|██████████| 2485/2485 [00:08<00:00, 304.41it/s]\n"
     ]
    },
    {
     "name": "stdout",
     "output_type": "stream",
     "text": [
      "Epochs: 10 | Train Loss:  0.0088                 | Train F1:  0.8669                 | Val Loss:  0.0098                 | Val F1:  0.8443\n",
      "Fold 2\n"
     ]
    },
    {
     "name": "stderr",
     "output_type": "stream",
     "text": [
      "100%|██████████| 2549/2549 [00:08<00:00, 303.07it/s]\n"
     ]
    },
    {
     "name": "stdout",
     "output_type": "stream",
     "text": [
      "Epochs: 1 | Train Loss:  0.0190                 | Train F1:  0.6218                 | Val Loss:  0.0131                 | Val F1:  0.8746\n"
     ]
    },
    {
     "name": "stderr",
     "output_type": "stream",
     "text": [
      "100%|██████████| 2549/2549 [00:08<00:00, 303.22it/s]\n"
     ]
    },
    {
     "name": "stdout",
     "output_type": "stream",
     "text": [
      "Epochs: 2 | Train Loss:  0.0129                 | Train F1:  0.8194                 | Val Loss:  0.0090                 | Val F1:  0.8685\n"
     ]
    },
    {
     "name": "stderr",
     "output_type": "stream",
     "text": [
      "100%|██████████| 2549/2549 [00:08<00:00, 304.19it/s]\n"
     ]
    },
    {
     "name": "stdout",
     "output_type": "stream",
     "text": [
      "Epochs: 3 | Train Loss:  0.0110                 | Train F1:  0.8348                 | Val Loss:  0.0084                 | Val F1:  0.8653\n"
     ]
    },
    {
     "name": "stderr",
     "output_type": "stream",
     "text": [
      "100%|██████████| 2549/2549 [00:08<00:00, 304.22it/s]\n"
     ]
    },
    {
     "name": "stdout",
     "output_type": "stream",
     "text": [
      "Epochs: 4 | Train Loss:  0.0104                 | Train F1:  0.8438                 | Val Loss:  0.0081                 | Val F1:  0.8649\n"
     ]
    },
    {
     "name": "stderr",
     "output_type": "stream",
     "text": [
      "100%|██████████| 2549/2549 [00:08<00:00, 302.68it/s]\n"
     ]
    },
    {
     "name": "stdout",
     "output_type": "stream",
     "text": [
      "Epochs: 5 | Train Loss:  0.0100                 | Train F1:  0.8496                 | Val Loss:  0.0081                 | Val F1:  0.8642\n"
     ]
    },
    {
     "name": "stderr",
     "output_type": "stream",
     "text": [
      "100%|██████████| 2549/2549 [00:08<00:00, 302.72it/s]\n"
     ]
    },
    {
     "name": "stdout",
     "output_type": "stream",
     "text": [
      "Epochs: 6 | Train Loss:  0.0097                 | Train F1:  0.8563                 | Val Loss:  0.0081                 | Val F1:  0.8643\n"
     ]
    },
    {
     "name": "stderr",
     "output_type": "stream",
     "text": [
      "100%|██████████| 2549/2549 [00:08<00:00, 305.70it/s]\n"
     ]
    },
    {
     "name": "stdout",
     "output_type": "stream",
     "text": [
      "Epochs: 7 | Train Loss:  0.0095                 | Train F1:  0.8599                 | Val Loss:  0.0081                 | Val F1:  0.8646\n"
     ]
    },
    {
     "name": "stderr",
     "output_type": "stream",
     "text": [
      "100%|██████████| 2549/2549 [00:08<00:00, 301.27it/s]\n"
     ]
    },
    {
     "name": "stdout",
     "output_type": "stream",
     "text": [
      "Epochs: 8 | Train Loss:  0.0094                 | Train F1:  0.8623                 | Val Loss:  0.0080                 | Val F1:  0.8641\n"
     ]
    },
    {
     "name": "stderr",
     "output_type": "stream",
     "text": [
      "100%|██████████| 2549/2549 [00:08<00:00, 303.96it/s]\n"
     ]
    },
    {
     "name": "stdout",
     "output_type": "stream",
     "text": [
      "Epochs: 9 | Train Loss:  0.0092                 | Train F1:  0.8651                 | Val Loss:  0.0080                 | Val F1:  0.8639\n"
     ]
    },
    {
     "name": "stderr",
     "output_type": "stream",
     "text": [
      "100%|██████████| 2549/2549 [00:08<00:00, 304.05it/s]\n"
     ]
    },
    {
     "name": "stdout",
     "output_type": "stream",
     "text": [
      "Epochs: 10 | Train Loss:  0.0091                 | Train F1:  0.8676                 | Val Loss:  0.0080                 | Val F1:  0.8663\n",
      "Fold 3\n"
     ]
    },
    {
     "name": "stderr",
     "output_type": "stream",
     "text": [
      "100%|██████████| 2499/2499 [00:08<00:00, 302.10it/s]\n"
     ]
    },
    {
     "name": "stdout",
     "output_type": "stream",
     "text": [
      "Epochs: 1 | Train Loss:  0.0186                 | Train F1:  0.7171                 | Val Loss:  0.0150                 | Val F1:  0.8190\n"
     ]
    },
    {
     "name": "stderr",
     "output_type": "stream",
     "text": [
      "100%|██████████| 2499/2499 [00:08<00:00, 304.21it/s]\n"
     ]
    },
    {
     "name": "stdout",
     "output_type": "stream",
     "text": [
      "Epochs: 2 | Train Loss:  0.0124                 | Train F1:  0.8186                 | Val Loss:  0.0118                 | Val F1:  0.8283\n"
     ]
    },
    {
     "name": "stderr",
     "output_type": "stream",
     "text": [
      "100%|██████████| 2499/2499 [00:08<00:00, 303.92it/s]\n"
     ]
    },
    {
     "name": "stdout",
     "output_type": "stream",
     "text": [
      "Epochs: 3 | Train Loss:  0.0105                 | Train F1:  0.8361                 | Val Loss:  0.0114                 | Val F1:  0.8282\n"
     ]
    },
    {
     "name": "stderr",
     "output_type": "stream",
     "text": [
      "100%|██████████| 2499/2499 [00:08<00:00, 302.50it/s]\n"
     ]
    },
    {
     "name": "stdout",
     "output_type": "stream",
     "text": [
      "Epochs: 4 | Train Loss:  0.0098                 | Train F1:  0.8471                 | Val Loss:  0.0116                 | Val F1:  0.8211\n"
     ]
    },
    {
     "name": "stderr",
     "output_type": "stream",
     "text": [
      "100%|██████████| 2499/2499 [00:08<00:00, 303.76it/s]\n"
     ]
    },
    {
     "name": "stdout",
     "output_type": "stream",
     "text": [
      "Epochs: 5 | Train Loss:  0.0094                 | Train F1:  0.8553                 | Val Loss:  0.0117                 | Val F1:  0.8214\n"
     ]
    },
    {
     "name": "stderr",
     "output_type": "stream",
     "text": [
      "100%|██████████| 2499/2499 [00:08<00:00, 304.36it/s]\n"
     ]
    },
    {
     "name": "stdout",
     "output_type": "stream",
     "text": [
      "Epochs: 6 | Train Loss:  0.0091                 | Train F1:  0.8602                 | Val Loss:  0.0119                 | Val F1:  0.8169\n"
     ]
    },
    {
     "name": "stderr",
     "output_type": "stream",
     "text": [
      "100%|██████████| 2499/2499 [00:08<00:00, 303.97it/s]\n"
     ]
    },
    {
     "name": "stdout",
     "output_type": "stream",
     "text": [
      "Epochs: 7 | Train Loss:  0.0089                 | Train F1:  0.8650                 | Val Loss:  0.0122                 | Val F1:  0.8139\n"
     ]
    },
    {
     "name": "stderr",
     "output_type": "stream",
     "text": [
      "100%|██████████| 2499/2499 [00:08<00:00, 303.49it/s]\n"
     ]
    },
    {
     "name": "stdout",
     "output_type": "stream",
     "text": [
      "Epochs: 8 | Train Loss:  0.0087                 | Train F1:  0.8693                 | Val Loss:  0.0124                 | Val F1:  0.8101\n"
     ]
    },
    {
     "name": "stderr",
     "output_type": "stream",
     "text": [
      "100%|██████████| 2499/2499 [00:08<00:00, 301.95it/s]\n"
     ]
    },
    {
     "name": "stdout",
     "output_type": "stream",
     "text": [
      "Epochs: 9 | Train Loss:  0.0085                 | Train F1:  0.8706                 | Val Loss:  0.0127                 | Val F1:  0.8070\n"
     ]
    },
    {
     "name": "stderr",
     "output_type": "stream",
     "text": [
      "100%|██████████| 2499/2499 [00:08<00:00, 302.48it/s]\n"
     ]
    },
    {
     "name": "stdout",
     "output_type": "stream",
     "text": [
      "Epochs: 10 | Train Loss:  0.0084                 | Train F1:  0.8735                 | Val Loss:  0.0129                 | Val F1:  0.8040\n",
      "Fold 4\n"
     ]
    },
    {
     "name": "stderr",
     "output_type": "stream",
     "text": [
      "100%|██████████| 2303/2303 [00:07<00:00, 306.20it/s]\n"
     ]
    },
    {
     "name": "stdout",
     "output_type": "stream",
     "text": [
      "Epochs: 1 | Train Loss:  0.0190                 | Train F1:  0.6172                 | Val Loss:  0.0172                 | Val F1:  0.7336\n"
     ]
    },
    {
     "name": "stderr",
     "output_type": "stream",
     "text": [
      "100%|██████████| 2303/2303 [00:07<00:00, 305.12it/s]\n"
     ]
    },
    {
     "name": "stdout",
     "output_type": "stream",
     "text": [
      "Epochs: 2 | Train Loss:  0.0119                 | Train F1:  0.8438                 | Val Loss:  0.0152                 | Val F1:  0.7401\n"
     ]
    },
    {
     "name": "stderr",
     "output_type": "stream",
     "text": [
      "100%|██████████| 2303/2303 [00:07<00:00, 306.22it/s]\n"
     ]
    },
    {
     "name": "stdout",
     "output_type": "stream",
     "text": [
      "Epochs: 3 | Train Loss:  0.0096                 | Train F1:  0.8584                 | Val Loss:  0.0157                 | Val F1:  0.7401\n"
     ]
    },
    {
     "name": "stderr",
     "output_type": "stream",
     "text": [
      "100%|██████████| 2303/2303 [00:07<00:00, 305.93it/s]\n"
     ]
    },
    {
     "name": "stdout",
     "output_type": "stream",
     "text": [
      "Epochs: 4 | Train Loss:  0.0089                 | Train F1:  0.8660                 | Val Loss:  0.0161                 | Val F1:  0.7386\n"
     ]
    },
    {
     "name": "stderr",
     "output_type": "stream",
     "text": [
      "100%|██████████| 2303/2303 [00:07<00:00, 304.96it/s]\n"
     ]
    },
    {
     "name": "stdout",
     "output_type": "stream",
     "text": [
      "Epochs: 5 | Train Loss:  0.0085                 | Train F1:  0.8738                 | Val Loss:  0.0164                 | Val F1:  0.7373\n"
     ]
    },
    {
     "name": "stderr",
     "output_type": "stream",
     "text": [
      "100%|██████████| 2303/2303 [00:07<00:00, 304.98it/s]\n"
     ]
    },
    {
     "name": "stdout",
     "output_type": "stream",
     "text": [
      "Epochs: 6 | Train Loss:  0.0082                 | Train F1:  0.8786                 | Val Loss:  0.0167                 | Val F1:  0.7348\n"
     ]
    },
    {
     "name": "stderr",
     "output_type": "stream",
     "text": [
      "100%|██████████| 2303/2303 [00:07<00:00, 305.24it/s]\n"
     ]
    },
    {
     "name": "stdout",
     "output_type": "stream",
     "text": [
      "Epochs: 7 | Train Loss:  0.0080                 | Train F1:  0.8834                 | Val Loss:  0.0168                 | Val F1:  0.7325\n"
     ]
    },
    {
     "name": "stderr",
     "output_type": "stream",
     "text": [
      "100%|██████████| 2303/2303 [00:07<00:00, 302.17it/s]\n"
     ]
    },
    {
     "name": "stdout",
     "output_type": "stream",
     "text": [
      "Epochs: 8 | Train Loss:  0.0078                 | Train F1:  0.8855                 | Val Loss:  0.0170                 | Val F1:  0.7317\n"
     ]
    },
    {
     "name": "stderr",
     "output_type": "stream",
     "text": [
      "100%|██████████| 2303/2303 [00:07<00:00, 303.85it/s]\n"
     ]
    },
    {
     "name": "stdout",
     "output_type": "stream",
     "text": [
      "Epochs: 9 | Train Loss:  0.0077                 | Train F1:  0.8887                 | Val Loss:  0.0172                 | Val F1:  0.7305\n"
     ]
    },
    {
     "name": "stderr",
     "output_type": "stream",
     "text": [
      "100%|██████████| 2303/2303 [00:07<00:00, 305.14it/s]\n",
      "\u001b[32m[I 2022-06-16 19:49:29,511]\u001b[0m Trial 22 finished with value: 0.8016909765813669 and parameters: {'learning_rate': 2.327010977580501e-05, 'n_layers': 2, 'n_units_l0': 36, 'dropout_l0': 0.2, 'n_units_l1': 27, 'dropout_l1': 0.30000000000000004}. Best is trial 15 with value: 0.807087138352161.\u001b[0m\n"
     ]
    },
    {
     "name": "stdout",
     "output_type": "stream",
     "text": [
      "Epochs: 10 | Train Loss:  0.0076                 | Train F1:  0.8895                 | Val Loss:  0.0173                 | Val F1:  0.7301\n",
      "Fold 0\n"
     ]
    },
    {
     "name": "stderr",
     "output_type": "stream",
     "text": [
      "100%|██████████| 2399/2399 [00:07<00:00, 318.94it/s]\n"
     ]
    },
    {
     "name": "stdout",
     "output_type": "stream",
     "text": [
      "Epochs: 1 | Train Loss:  0.0215                 | Train F1:  0.6481                 | Val Loss:  0.0208                 | Val F1:  0.6295\n"
     ]
    },
    {
     "name": "stderr",
     "output_type": "stream",
     "text": [
      "100%|██████████| 2399/2399 [00:07<00:00, 318.03it/s]\n"
     ]
    },
    {
     "name": "stdout",
     "output_type": "stream",
     "text": [
      "Epochs: 2 | Train Loss:  0.0190                 | Train F1:  0.7694                 | Val Loss:  0.0179                 | Val F1:  0.7640\n"
     ]
    },
    {
     "name": "stderr",
     "output_type": "stream",
     "text": [
      "100%|██████████| 2399/2399 [00:07<00:00, 320.28it/s]\n"
     ]
    },
    {
     "name": "stdout",
     "output_type": "stream",
     "text": [
      "Epochs: 3 | Train Loss:  0.0157                 | Train F1:  0.8204                 | Val Loss:  0.0152                 | Val F1:  0.7710\n"
     ]
    },
    {
     "name": "stderr",
     "output_type": "stream",
     "text": [
      "100%|██████████| 2399/2399 [00:07<00:00, 318.39it/s]\n"
     ]
    },
    {
     "name": "stdout",
     "output_type": "stream",
     "text": [
      "Epochs: 4 | Train Loss:  0.0132                 | Train F1:  0.8311                 | Val Loss:  0.0138                 | Val F1:  0.7731\n"
     ]
    },
    {
     "name": "stderr",
     "output_type": "stream",
     "text": [
      "100%|██████████| 2399/2399 [00:07<00:00, 317.96it/s]\n"
     ]
    },
    {
     "name": "stdout",
     "output_type": "stream",
     "text": [
      "Epochs: 5 | Train Loss:  0.0118                 | Train F1:  0.8369                 | Val Loss:  0.0134                 | Val F1:  0.7705\n"
     ]
    },
    {
     "name": "stderr",
     "output_type": "stream",
     "text": [
      "100%|██████████| 2399/2399 [00:07<00:00, 315.99it/s]\n"
     ]
    },
    {
     "name": "stdout",
     "output_type": "stream",
     "text": [
      "Epochs: 6 | Train Loss:  0.0110                 | Train F1:  0.8435                 | Val Loss:  0.0133                 | Val F1:  0.7699\n"
     ]
    },
    {
     "name": "stderr",
     "output_type": "stream",
     "text": [
      "100%|██████████| 2399/2399 [00:07<00:00, 318.21it/s]\n"
     ]
    },
    {
     "name": "stdout",
     "output_type": "stream",
     "text": [
      "Epochs: 7 | Train Loss:  0.0106                 | Train F1:  0.8472                 | Val Loss:  0.0133                 | Val F1:  0.7697\n"
     ]
    },
    {
     "name": "stderr",
     "output_type": "stream",
     "text": [
      "100%|██████████| 2399/2399 [00:07<00:00, 319.20it/s]\n"
     ]
    },
    {
     "name": "stdout",
     "output_type": "stream",
     "text": [
      "Epochs: 8 | Train Loss:  0.0102                 | Train F1:  0.8521                 | Val Loss:  0.0133                 | Val F1:  0.7684\n"
     ]
    },
    {
     "name": "stderr",
     "output_type": "stream",
     "text": [
      "100%|██████████| 2399/2399 [00:07<00:00, 319.03it/s]\n"
     ]
    },
    {
     "name": "stdout",
     "output_type": "stream",
     "text": [
      "Epochs: 9 | Train Loss:  0.0100                 | Train F1:  0.8550                 | Val Loss:  0.0135                 | Val F1:  0.7689\n"
     ]
    },
    {
     "name": "stderr",
     "output_type": "stream",
     "text": [
      "100%|██████████| 2399/2399 [00:07<00:00, 319.36it/s]\n"
     ]
    },
    {
     "name": "stdout",
     "output_type": "stream",
     "text": [
      "Epochs: 10 | Train Loss:  0.0098                 | Train F1:  0.8601                 | Val Loss:  0.0135                 | Val F1:  0.7682\n",
      "Fold 1\n"
     ]
    },
    {
     "name": "stderr",
     "output_type": "stream",
     "text": [
      "100%|██████████| 2485/2485 [00:07<00:00, 318.82it/s]\n"
     ]
    },
    {
     "name": "stdout",
     "output_type": "stream",
     "text": [
      "Epochs: 1 | Train Loss:  0.0209                 | Train F1:  0.6682                 | Val Loss:  0.0195                 | Val F1:  0.8035\n"
     ]
    },
    {
     "name": "stderr",
     "output_type": "stream",
     "text": [
      "100%|██████████| 2485/2485 [00:07<00:00, 318.37it/s]\n"
     ]
    },
    {
     "name": "stdout",
     "output_type": "stream",
     "text": [
      "Epochs: 2 | Train Loss:  0.0180                 | Train F1:  0.8041                 | Val Loss:  0.0161                 | Val F1:  0.8150\n"
     ]
    },
    {
     "name": "stderr",
     "output_type": "stream",
     "text": [
      "100%|██████████| 2485/2485 [00:07<00:00, 316.32it/s]\n"
     ]
    },
    {
     "name": "stdout",
     "output_type": "stream",
     "text": [
      "Epochs: 3 | Train Loss:  0.0151                 | Train F1:  0.8118                 | Val Loss:  0.0133                 | Val F1:  0.8140\n"
     ]
    },
    {
     "name": "stderr",
     "output_type": "stream",
     "text": [
      "100%|██████████| 2485/2485 [00:07<00:00, 317.47it/s]\n"
     ]
    },
    {
     "name": "stdout",
     "output_type": "stream",
     "text": [
      "Epochs: 4 | Train Loss:  0.0132                 | Train F1:  0.8190                 | Val Loss:  0.0117                 | Val F1:  0.8177\n"
     ]
    },
    {
     "name": "stderr",
     "output_type": "stream",
     "text": [
      "100%|██████████| 2485/2485 [00:07<00:00, 316.93it/s]\n"
     ]
    },
    {
     "name": "stdout",
     "output_type": "stream",
     "text": [
      "Epochs: 5 | Train Loss:  0.0120                 | Train F1:  0.8236                 | Val Loss:  0.0109                 | Val F1:  0.8188\n"
     ]
    },
    {
     "name": "stderr",
     "output_type": "stream",
     "text": [
      "100%|██████████| 2485/2485 [00:07<00:00, 318.51it/s]\n"
     ]
    },
    {
     "name": "stdout",
     "output_type": "stream",
     "text": [
      "Epochs: 6 | Train Loss:  0.0114                 | Train F1:  0.8285                 | Val Loss:  0.0104                 | Val F1:  0.8277\n"
     ]
    },
    {
     "name": "stderr",
     "output_type": "stream",
     "text": [
      "100%|██████████| 2485/2485 [00:07<00:00, 316.89it/s]\n"
     ]
    },
    {
     "name": "stdout",
     "output_type": "stream",
     "text": [
      "Epochs: 7 | Train Loss:  0.0111                 | Train F1:  0.8321                 | Val Loss:  0.0101                 | Val F1:  0.8304\n"
     ]
    },
    {
     "name": "stderr",
     "output_type": "stream",
     "text": [
      "100%|██████████| 2485/2485 [00:07<00:00, 317.46it/s]\n"
     ]
    },
    {
     "name": "stdout",
     "output_type": "stream",
     "text": [
      "Epochs: 8 | Train Loss:  0.0107                 | Train F1:  0.8389                 | Val Loss:  0.0099                 | Val F1:  0.8347\n"
     ]
    },
    {
     "name": "stderr",
     "output_type": "stream",
     "text": [
      "100%|██████████| 2485/2485 [00:07<00:00, 317.51it/s]\n"
     ]
    },
    {
     "name": "stdout",
     "output_type": "stream",
     "text": [
      "Epochs: 9 | Train Loss:  0.0105                 | Train F1:  0.8415                 | Val Loss:  0.0098                 | Val F1:  0.8358\n"
     ]
    },
    {
     "name": "stderr",
     "output_type": "stream",
     "text": [
      "100%|██████████| 2485/2485 [00:07<00:00, 318.45it/s]\n"
     ]
    },
    {
     "name": "stdout",
     "output_type": "stream",
     "text": [
      "Epochs: 10 | Train Loss:  0.0102                 | Train F1:  0.8445                 | Val Loss:  0.0098                 | Val F1:  0.8375\n",
      "Fold 2\n"
     ]
    },
    {
     "name": "stderr",
     "output_type": "stream",
     "text": [
      "100%|██████████| 2549/2549 [00:08<00:00, 318.11it/s]\n"
     ]
    },
    {
     "name": "stdout",
     "output_type": "stream",
     "text": [
      "Epochs: 1 | Train Loss:  0.0209                 | Train F1:  0.2365                 | Val Loss:  0.0194                 | Val F1:  0.7160\n"
     ]
    },
    {
     "name": "stderr",
     "output_type": "stream",
     "text": [
      "100%|██████████| 2549/2549 [00:07<00:00, 319.77it/s]\n"
     ]
    },
    {
     "name": "stdout",
     "output_type": "stream",
     "text": [
      "Epochs: 2 | Train Loss:  0.0188                 | Train F1:  0.6850                 | Val Loss:  0.0158                 | Val F1:  0.8587\n"
     ]
    },
    {
     "name": "stderr",
     "output_type": "stream",
     "text": [
      "100%|██████████| 2549/2549 [00:08<00:00, 318.61it/s]\n"
     ]
    },
    {
     "name": "stdout",
     "output_type": "stream",
     "text": [
      "Epochs: 3 | Train Loss:  0.0161                 | Train F1:  0.7743                 | Val Loss:  0.0125                 | Val F1:  0.8727\n"
     ]
    },
    {
     "name": "stderr",
     "output_type": "stream",
     "text": [
      "100%|██████████| 2549/2549 [00:07<00:00, 319.46it/s]\n"
     ]
    },
    {
     "name": "stdout",
     "output_type": "stream",
     "text": [
      "Epochs: 4 | Train Loss:  0.0140                 | Train F1:  0.8000                 | Val Loss:  0.0103                 | Val F1:  0.8747\n"
     ]
    },
    {
     "name": "stderr",
     "output_type": "stream",
     "text": [
      "100%|██████████| 2549/2549 [00:08<00:00, 318.08it/s]\n"
     ]
    },
    {
     "name": "stdout",
     "output_type": "stream",
     "text": [
      "Epochs: 5 | Train Loss:  0.0127                 | Train F1:  0.8150                 | Val Loss:  0.0091                 | Val F1:  0.8741\n"
     ]
    },
    {
     "name": "stderr",
     "output_type": "stream",
     "text": [
      "100%|██████████| 2549/2549 [00:08<00:00, 316.71it/s]\n"
     ]
    },
    {
     "name": "stdout",
     "output_type": "stream",
     "text": [
      "Epochs: 6 | Train Loss:  0.0119                 | Train F1:  0.8236                 | Val Loss:  0.0085                 | Val F1:  0.8713\n"
     ]
    },
    {
     "name": "stderr",
     "output_type": "stream",
     "text": [
      "100%|██████████| 2549/2549 [00:07<00:00, 319.06it/s]\n"
     ]
    },
    {
     "name": "stdout",
     "output_type": "stream",
     "text": [
      "Epochs: 7 | Train Loss:  0.0115                 | Train F1:  0.8290                 | Val Loss:  0.0083                 | Val F1:  0.8691\n"
     ]
    },
    {
     "name": "stderr",
     "output_type": "stream",
     "text": [
      "100%|██████████| 2549/2549 [00:08<00:00, 318.02it/s]\n"
     ]
    },
    {
     "name": "stdout",
     "output_type": "stream",
     "text": [
      "Epochs: 8 | Train Loss:  0.0112                 | Train F1:  0.8350                 | Val Loss:  0.0082                 | Val F1:  0.8686\n"
     ]
    },
    {
     "name": "stderr",
     "output_type": "stream",
     "text": [
      "100%|██████████| 2549/2549 [00:07<00:00, 319.63it/s]\n"
     ]
    },
    {
     "name": "stdout",
     "output_type": "stream",
     "text": [
      "Epochs: 9 | Train Loss:  0.0109                 | Train F1:  0.8383                 | Val Loss:  0.0082                 | Val F1:  0.8675\n"
     ]
    },
    {
     "name": "stderr",
     "output_type": "stream",
     "text": [
      "100%|██████████| 2549/2549 [00:08<00:00, 315.85it/s]\n"
     ]
    },
    {
     "name": "stdout",
     "output_type": "stream",
     "text": [
      "Epochs: 10 | Train Loss:  0.0108                 | Train F1:  0.8394                 | Val Loss:  0.0081                 | Val F1:  0.8667\n",
      "Fold 3\n"
     ]
    },
    {
     "name": "stderr",
     "output_type": "stream",
     "text": [
      "100%|██████████| 2499/2499 [00:07<00:00, 316.41it/s]\n"
     ]
    },
    {
     "name": "stdout",
     "output_type": "stream",
     "text": [
      "Epochs: 1 | Train Loss:  0.0210                 | Train F1:  0.0939                 | Val Loss:  0.0206                 | Val F1:  0.2721\n"
     ]
    },
    {
     "name": "stderr",
     "output_type": "stream",
     "text": [
      "100%|██████████| 2499/2499 [00:07<00:00, 317.86it/s]\n"
     ]
    },
    {
     "name": "stdout",
     "output_type": "stream",
     "text": [
      "Epochs: 2 | Train Loss:  0.0188                 | Train F1:  0.6128                 | Val Loss:  0.0180                 | Val F1:  0.7229\n"
     ]
    },
    {
     "name": "stderr",
     "output_type": "stream",
     "text": [
      "100%|██████████| 2499/2499 [00:07<00:00, 317.43it/s]\n"
     ]
    },
    {
     "name": "stdout",
     "output_type": "stream",
     "text": [
      "Epochs: 3 | Train Loss:  0.0159                 | Train F1:  0.7639                 | Val Loss:  0.0152                 | Val F1:  0.7923\n"
     ]
    },
    {
     "name": "stderr",
     "output_type": "stream",
     "text": [
      "100%|██████████| 2499/2499 [00:07<00:00, 318.34it/s]\n"
     ]
    },
    {
     "name": "stdout",
     "output_type": "stream",
     "text": [
      "Epochs: 4 | Train Loss:  0.0135                 | Train F1:  0.7989                 | Val Loss:  0.0132                 | Val F1:  0.8139\n"
     ]
    },
    {
     "name": "stderr",
     "output_type": "stream",
     "text": [
      "100%|██████████| 2499/2499 [00:07<00:00, 316.85it/s]\n"
     ]
    },
    {
     "name": "stdout",
     "output_type": "stream",
     "text": [
      "Epochs: 5 | Train Loss:  0.0120                 | Train F1:  0.8155                 | Val Loss:  0.0121                 | Val F1:  0.8249\n"
     ]
    },
    {
     "name": "stderr",
     "output_type": "stream",
     "text": [
      "100%|██████████| 2499/2499 [00:07<00:00, 317.05it/s]\n"
     ]
    },
    {
     "name": "stdout",
     "output_type": "stream",
     "text": [
      "Epochs: 6 | Train Loss:  0.0113                 | Train F1:  0.8227                 | Val Loss:  0.0116                 | Val F1:  0.8281\n"
     ]
    },
    {
     "name": "stderr",
     "output_type": "stream",
     "text": [
      "100%|██████████| 2499/2499 [00:07<00:00, 317.67it/s]\n"
     ]
    },
    {
     "name": "stdout",
     "output_type": "stream",
     "text": [
      "Epochs: 7 | Train Loss:  0.0108                 | Train F1:  0.8307                 | Val Loss:  0.0115                 | Val F1:  0.8285\n"
     ]
    },
    {
     "name": "stderr",
     "output_type": "stream",
     "text": [
      "100%|██████████| 2499/2499 [00:07<00:00, 316.96it/s]\n"
     ]
    },
    {
     "name": "stdout",
     "output_type": "stream",
     "text": [
      "Epochs: 8 | Train Loss:  0.0105                 | Train F1:  0.8371                 | Val Loss:  0.0114                 | Val F1:  0.8273\n"
     ]
    },
    {
     "name": "stderr",
     "output_type": "stream",
     "text": [
      "100%|██████████| 2499/2499 [00:07<00:00, 317.46it/s]\n"
     ]
    },
    {
     "name": "stdout",
     "output_type": "stream",
     "text": [
      "Epochs: 9 | Train Loss:  0.0102                 | Train F1:  0.8414                 | Val Loss:  0.0114                 | Val F1:  0.8265\n"
     ]
    },
    {
     "name": "stderr",
     "output_type": "stream",
     "text": [
      "100%|██████████| 2499/2499 [00:07<00:00, 318.05it/s]\n"
     ]
    },
    {
     "name": "stdout",
     "output_type": "stream",
     "text": [
      "Epochs: 10 | Train Loss:  0.0100                 | Train F1:  0.8472                 | Val Loss:  0.0116                 | Val F1:  0.8228\n",
      "Fold 4\n"
     ]
    },
    {
     "name": "stderr",
     "output_type": "stream",
     "text": [
      "100%|██████████| 2303/2303 [00:07<00:00, 319.94it/s]\n"
     ]
    },
    {
     "name": "stdout",
     "output_type": "stream",
     "text": [
      "Epochs: 1 | Train Loss:  0.0205                 | Train F1:  0.1119                 | Val Loss:  0.0202                 | Val F1:  0.4207\n"
     ]
    },
    {
     "name": "stderr",
     "output_type": "stream",
     "text": [
      "100%|██████████| 2303/2303 [00:07<00:00, 317.36it/s]\n"
     ]
    },
    {
     "name": "stdout",
     "output_type": "stream",
     "text": [
      "Epochs: 2 | Train Loss:  0.0172                 | Train F1:  0.6656                 | Val Loss:  0.0179                 | Val F1:  0.6883\n"
     ]
    },
    {
     "name": "stderr",
     "output_type": "stream",
     "text": [
      "100%|██████████| 2303/2303 [00:07<00:00, 318.17it/s]\n"
     ]
    },
    {
     "name": "stdout",
     "output_type": "stream",
     "text": [
      "Epochs: 3 | Train Loss:  0.0139                 | Train F1:  0.8099                 | Val Loss:  0.0162                 | Val F1:  0.7338\n"
     ]
    },
    {
     "name": "stderr",
     "output_type": "stream",
     "text": [
      "100%|██████████| 2303/2303 [00:07<00:00, 320.51it/s]\n"
     ]
    },
    {
     "name": "stdout",
     "output_type": "stream",
     "text": [
      "Epochs: 4 | Train Loss:  0.0118                 | Train F1:  0.8398                 | Val Loss:  0.0156                 | Val F1:  0.7401\n"
     ]
    },
    {
     "name": "stderr",
     "output_type": "stream",
     "text": [
      "100%|██████████| 2303/2303 [00:07<00:00, 318.24it/s]\n"
     ]
    },
    {
     "name": "stdout",
     "output_type": "stream",
     "text": [
      "Epochs: 5 | Train Loss:  0.0105                 | Train F1:  0.8514                 | Val Loss:  0.0156                 | Val F1:  0.7424\n"
     ]
    },
    {
     "name": "stderr",
     "output_type": "stream",
     "text": [
      "100%|██████████| 2303/2303 [00:07<00:00, 318.88it/s]\n"
     ]
    },
    {
     "name": "stdout",
     "output_type": "stream",
     "text": [
      "Epochs: 6 | Train Loss:  0.0099                 | Train F1:  0.8586                 | Val Loss:  0.0158                 | Val F1:  0.7416\n"
     ]
    },
    {
     "name": "stderr",
     "output_type": "stream",
     "text": [
      "100%|██████████| 2303/2303 [00:07<00:00, 319.98it/s]\n"
     ]
    },
    {
     "name": "stdout",
     "output_type": "stream",
     "text": [
      "Epochs: 7 | Train Loss:  0.0095                 | Train F1:  0.8605                 | Val Loss:  0.0160                 | Val F1:  0.7412\n"
     ]
    },
    {
     "name": "stderr",
     "output_type": "stream",
     "text": [
      "100%|██████████| 2303/2303 [00:07<00:00, 318.69it/s]\n"
     ]
    },
    {
     "name": "stdout",
     "output_type": "stream",
     "text": [
      "Epochs: 8 | Train Loss:  0.0092                 | Train F1:  0.8651                 | Val Loss:  0.0162                 | Val F1:  0.7397\n"
     ]
    },
    {
     "name": "stderr",
     "output_type": "stream",
     "text": [
      "100%|██████████| 2303/2303 [00:07<00:00, 318.68it/s]\n"
     ]
    },
    {
     "name": "stdout",
     "output_type": "stream",
     "text": [
      "Epochs: 9 | Train Loss:  0.0090                 | Train F1:  0.8678                 | Val Loss:  0.0164                 | Val F1:  0.7388\n"
     ]
    },
    {
     "name": "stderr",
     "output_type": "stream",
     "text": [
      "100%|██████████| 2303/2303 [00:07<00:00, 318.01it/s]\n",
      "\u001b[32m[I 2022-06-16 19:56:40,474]\u001b[0m Trial 23 finished with value: 0.8064603375848829 and parameters: {'learning_rate': 1.682739557103871e-05, 'n_layers': 2, 'n_units_l0': 16, 'dropout_l0': 0.25, 'n_units_l1': 16, 'dropout_l1': 0.25}. Best is trial 15 with value: 0.807087138352161.\u001b[0m\n"
     ]
    },
    {
     "name": "stdout",
     "output_type": "stream",
     "text": [
      "Epochs: 10 | Train Loss:  0.0088                 | Train F1:  0.8714                 | Val Loss:  0.0166                 | Val F1:  0.7370\n",
      "Fold 0\n"
     ]
    },
    {
     "name": "stderr",
     "output_type": "stream",
     "text": [
      "100%|██████████| 2399/2399 [00:07<00:00, 305.06it/s]\n"
     ]
    },
    {
     "name": "stdout",
     "output_type": "stream",
     "text": [
      "Epochs: 1 | Train Loss:  0.0172                 | Train F1:  0.7572                 | Val Loss:  0.0138                 | Val F1:  0.7737\n"
     ]
    },
    {
     "name": "stderr",
     "output_type": "stream",
     "text": [
      "100%|██████████| 2399/2399 [00:07<00:00, 311.03it/s]\n"
     ]
    },
    {
     "name": "stdout",
     "output_type": "stream",
     "text": [
      "Epochs: 2 | Train Loss:  0.0106                 | Train F1:  0.8493                 | Val Loss:  0.0131                 | Val F1:  0.7701\n"
     ]
    },
    {
     "name": "stderr",
     "output_type": "stream",
     "text": [
      "100%|██████████| 2399/2399 [00:07<00:00, 310.59it/s]\n"
     ]
    },
    {
     "name": "stdout",
     "output_type": "stream",
     "text": [
      "Epochs: 3 | Train Loss:  0.0094                 | Train F1:  0.8634                 | Val Loss:  0.0135                 | Val F1:  0.7684\n"
     ]
    },
    {
     "name": "stderr",
     "output_type": "stream",
     "text": [
      "100%|██████████| 2399/2399 [00:07<00:00, 307.50it/s]\n"
     ]
    },
    {
     "name": "stdout",
     "output_type": "stream",
     "text": [
      "Epochs: 4 | Train Loss:  0.0089                 | Train F1:  0.8722                 | Val Loss:  0.0135                 | Val F1:  0.7694\n"
     ]
    },
    {
     "name": "stderr",
     "output_type": "stream",
     "text": [
      "100%|██████████| 2399/2399 [00:07<00:00, 300.19it/s]\n"
     ]
    },
    {
     "name": "stdout",
     "output_type": "stream",
     "text": [
      "Epochs: 5 | Train Loss:  0.0087                 | Train F1:  0.8770                 | Val Loss:  0.0137                 | Val F1:  0.7674\n"
     ]
    },
    {
     "name": "stderr",
     "output_type": "stream",
     "text": [
      "100%|██████████| 2399/2399 [00:07<00:00, 302.87it/s]\n"
     ]
    },
    {
     "name": "stdout",
     "output_type": "stream",
     "text": [
      "Epochs: 6 | Train Loss:  0.0083                 | Train F1:  0.8824                 | Val Loss:  0.0138                 | Val F1:  0.7661\n"
     ]
    },
    {
     "name": "stderr",
     "output_type": "stream",
     "text": [
      "100%|██████████| 2399/2399 [00:07<00:00, 311.67it/s]\n"
     ]
    },
    {
     "name": "stdout",
     "output_type": "stream",
     "text": [
      "Epochs: 7 | Train Loss:  0.0081                 | Train F1:  0.8851                 | Val Loss:  0.0141                 | Val F1:  0.7636\n"
     ]
    },
    {
     "name": "stderr",
     "output_type": "stream",
     "text": [
      "100%|██████████| 2399/2399 [00:07<00:00, 309.75it/s]\n"
     ]
    },
    {
     "name": "stdout",
     "output_type": "stream",
     "text": [
      "Epochs: 8 | Train Loss:  0.0079                 | Train F1:  0.8877                 | Val Loss:  0.0141                 | Val F1:  0.7633\n"
     ]
    },
    {
     "name": "stderr",
     "output_type": "stream",
     "text": [
      "100%|██████████| 2399/2399 [00:07<00:00, 312.55it/s]\n"
     ]
    },
    {
     "name": "stdout",
     "output_type": "stream",
     "text": [
      "Epochs: 9 | Train Loss:  0.0078                 | Train F1:  0.8903                 | Val Loss:  0.0144                 | Val F1:  0.7616\n"
     ]
    },
    {
     "name": "stderr",
     "output_type": "stream",
     "text": [
      "100%|██████████| 2399/2399 [00:07<00:00, 312.40it/s]\n"
     ]
    },
    {
     "name": "stdout",
     "output_type": "stream",
     "text": [
      "Epochs: 10 | Train Loss:  0.0077                 | Train F1:  0.8920                 | Val Loss:  0.0143                 | Val F1:  0.7613\n",
      "Fold 1\n"
     ]
    },
    {
     "name": "stderr",
     "output_type": "stream",
     "text": [
      "100%|██████████| 2485/2485 [00:08<00:00, 309.75it/s]\n"
     ]
    },
    {
     "name": "stdout",
     "output_type": "stream",
     "text": [
      "Epochs: 1 | Train Loss:  0.0181                 | Train F1:  0.7447                 | Val Loss:  0.0125                 | Val F1:  0.8024\n"
     ]
    },
    {
     "name": "stderr",
     "output_type": "stream",
     "text": [
      "100%|██████████| 2485/2485 [00:08<00:00, 309.84it/s]\n"
     ]
    },
    {
     "name": "stdout",
     "output_type": "stream",
     "text": [
      "Epochs: 2 | Train Loss:  0.0116                 | Train F1:  0.8265                 | Val Loss:  0.0099                 | Val F1:  0.8361\n"
     ]
    },
    {
     "name": "stderr",
     "output_type": "stream",
     "text": [
      "100%|██████████| 2485/2485 [00:07<00:00, 311.69it/s]\n"
     ]
    },
    {
     "name": "stdout",
     "output_type": "stream",
     "text": [
      "Epochs: 3 | Train Loss:  0.0104                 | Train F1:  0.8413                 | Val Loss:  0.0097                 | Val F1:  0.8402\n"
     ]
    },
    {
     "name": "stderr",
     "output_type": "stream",
     "text": [
      "100%|██████████| 2485/2485 [00:08<00:00, 308.68it/s]\n"
     ]
    },
    {
     "name": "stdout",
     "output_type": "stream",
     "text": [
      "Epochs: 4 | Train Loss:  0.0098                 | Train F1:  0.8498                 | Val Loss:  0.0096                 | Val F1:  0.8444\n"
     ]
    },
    {
     "name": "stderr",
     "output_type": "stream",
     "text": [
      "100%|██████████| 2485/2485 [00:07<00:00, 312.44it/s]\n"
     ]
    },
    {
     "name": "stdout",
     "output_type": "stream",
     "text": [
      "Epochs: 5 | Train Loss:  0.0095                 | Train F1:  0.8570                 | Val Loss:  0.0097                 | Val F1:  0.8430\n"
     ]
    },
    {
     "name": "stderr",
     "output_type": "stream",
     "text": [
      "100%|██████████| 2485/2485 [00:07<00:00, 310.64it/s]\n"
     ]
    },
    {
     "name": "stdout",
     "output_type": "stream",
     "text": [
      "Epochs: 6 | Train Loss:  0.0092                 | Train F1:  0.8605                 | Val Loss:  0.0097                 | Val F1:  0.8455\n"
     ]
    },
    {
     "name": "stderr",
     "output_type": "stream",
     "text": [
      "100%|██████████| 2485/2485 [00:07<00:00, 310.87it/s]\n"
     ]
    },
    {
     "name": "stdout",
     "output_type": "stream",
     "text": [
      "Epochs: 7 | Train Loss:  0.0090                 | Train F1:  0.8650                 | Val Loss:  0.0097                 | Val F1:  0.8447\n"
     ]
    },
    {
     "name": "stderr",
     "output_type": "stream",
     "text": [
      "100%|██████████| 2485/2485 [00:08<00:00, 310.12it/s]\n"
     ]
    },
    {
     "name": "stdout",
     "output_type": "stream",
     "text": [
      "Epochs: 8 | Train Loss:  0.0088                 | Train F1:  0.8673                 | Val Loss:  0.0098                 | Val F1:  0.8441\n"
     ]
    },
    {
     "name": "stderr",
     "output_type": "stream",
     "text": [
      "100%|██████████| 2485/2485 [00:08<00:00, 310.56it/s]\n"
     ]
    },
    {
     "name": "stdout",
     "output_type": "stream",
     "text": [
      "Epochs: 9 | Train Loss:  0.0086                 | Train F1:  0.8696                 | Val Loss:  0.0097                 | Val F1:  0.8447\n"
     ]
    },
    {
     "name": "stderr",
     "output_type": "stream",
     "text": [
      "100%|██████████| 2485/2485 [00:07<00:00, 310.68it/s]\n"
     ]
    },
    {
     "name": "stdout",
     "output_type": "stream",
     "text": [
      "Epochs: 10 | Train Loss:  0.0085                 | Train F1:  0.8723                 | Val Loss:  0.0098                 | Val F1:  0.8440\n",
      "Fold 2\n"
     ]
    },
    {
     "name": "stderr",
     "output_type": "stream",
     "text": [
      "100%|██████████| 2549/2549 [00:08<00:00, 308.43it/s]\n"
     ]
    },
    {
     "name": "stdout",
     "output_type": "stream",
     "text": [
      "Epochs: 1 | Train Loss:  0.0177                 | Train F1:  0.6457                 | Val Loss:  0.0105                 | Val F1:  0.8740\n"
     ]
    },
    {
     "name": "stderr",
     "output_type": "stream",
     "text": [
      "100%|██████████| 2549/2549 [00:08<00:00, 308.83it/s]\n"
     ]
    },
    {
     "name": "stdout",
     "output_type": "stream",
     "text": [
      "Epochs: 2 | Train Loss:  0.0118                 | Train F1:  0.8247                 | Val Loss:  0.0084                 | Val F1:  0.8673\n"
     ]
    },
    {
     "name": "stderr",
     "output_type": "stream",
     "text": [
      "100%|██████████| 2549/2549 [00:08<00:00, 310.07it/s]\n"
     ]
    },
    {
     "name": "stdout",
     "output_type": "stream",
     "text": [
      "Epochs: 3 | Train Loss:  0.0107                 | Train F1:  0.8402                 | Val Loss:  0.0082                 | Val F1:  0.8649\n"
     ]
    },
    {
     "name": "stderr",
     "output_type": "stream",
     "text": [
      "100%|██████████| 2549/2549 [00:08<00:00, 309.62it/s]\n"
     ]
    },
    {
     "name": "stdout",
     "output_type": "stream",
     "text": [
      "Epochs: 4 | Train Loss:  0.0102                 | Train F1:  0.8480                 | Val Loss:  0.0081                 | Val F1:  0.8645\n"
     ]
    },
    {
     "name": "stderr",
     "output_type": "stream",
     "text": [
      "100%|██████████| 2549/2549 [00:08<00:00, 310.59it/s]\n"
     ]
    },
    {
     "name": "stdout",
     "output_type": "stream",
     "text": [
      "Epochs: 5 | Train Loss:  0.0099                 | Train F1:  0.8544                 | Val Loss:  0.0081                 | Val F1:  0.8635\n"
     ]
    },
    {
     "name": "stderr",
     "output_type": "stream",
     "text": [
      "100%|██████████| 2549/2549 [00:08<00:00, 310.54it/s]\n"
     ]
    },
    {
     "name": "stdout",
     "output_type": "stream",
     "text": [
      "Epochs: 6 | Train Loss:  0.0096                 | Train F1:  0.8600                 | Val Loss:  0.0081                 | Val F1:  0.8653\n"
     ]
    },
    {
     "name": "stderr",
     "output_type": "stream",
     "text": [
      "100%|██████████| 2549/2549 [00:08<00:00, 309.55it/s]\n"
     ]
    },
    {
     "name": "stdout",
     "output_type": "stream",
     "text": [
      "Epochs: 7 | Train Loss:  0.0094                 | Train F1:  0.8641                 | Val Loss:  0.0081                 | Val F1:  0.8665\n"
     ]
    },
    {
     "name": "stderr",
     "output_type": "stream",
     "text": [
      "100%|██████████| 2549/2549 [00:08<00:00, 308.58it/s]\n"
     ]
    },
    {
     "name": "stdout",
     "output_type": "stream",
     "text": [
      "Epochs: 8 | Train Loss:  0.0092                 | Train F1:  0.8655                 | Val Loss:  0.0080                 | Val F1:  0.8653\n"
     ]
    },
    {
     "name": "stderr",
     "output_type": "stream",
     "text": [
      "100%|██████████| 2549/2549 [00:08<00:00, 310.01it/s]\n"
     ]
    },
    {
     "name": "stdout",
     "output_type": "stream",
     "text": [
      "Epochs: 9 | Train Loss:  0.0090                 | Train F1:  0.8679                 | Val Loss:  0.0080                 | Val F1:  0.8653\n"
     ]
    },
    {
     "name": "stderr",
     "output_type": "stream",
     "text": [
      "100%|██████████| 2549/2549 [00:08<00:00, 308.37it/s]\n"
     ]
    },
    {
     "name": "stdout",
     "output_type": "stream",
     "text": [
      "Epochs: 10 | Train Loss:  0.0089                 | Train F1:  0.8707                 | Val Loss:  0.0079                 | Val F1:  0.8648\n",
      "Fold 3\n"
     ]
    },
    {
     "name": "stderr",
     "output_type": "stream",
     "text": [
      "100%|██████████| 2499/2499 [00:08<00:00, 311.04it/s]\n"
     ]
    },
    {
     "name": "stdout",
     "output_type": "stream",
     "text": [
      "Epochs: 1 | Train Loss:  0.0176                 | Train F1:  0.7509                 | Val Loss:  0.0132                 | Val F1:  0.8180\n"
     ]
    },
    {
     "name": "stderr",
     "output_type": "stream",
     "text": [
      "100%|██████████| 2499/2499 [00:08<00:00, 310.79it/s]\n"
     ]
    },
    {
     "name": "stdout",
     "output_type": "stream",
     "text": [
      "Epochs: 2 | Train Loss:  0.0111                 | Train F1:  0.8277                 | Val Loss:  0.0115                 | Val F1:  0.8267\n"
     ]
    },
    {
     "name": "stderr",
     "output_type": "stream",
     "text": [
      "100%|██████████| 2499/2499 [00:08<00:00, 307.88it/s]\n"
     ]
    },
    {
     "name": "stdout",
     "output_type": "stream",
     "text": [
      "Epochs: 3 | Train Loss:  0.0099                 | Train F1:  0.8452                 | Val Loss:  0.0115                 | Val F1:  0.8237\n"
     ]
    },
    {
     "name": "stderr",
     "output_type": "stream",
     "text": [
      "100%|██████████| 2499/2499 [00:08<00:00, 310.08it/s]\n"
     ]
    },
    {
     "name": "stdout",
     "output_type": "stream",
     "text": [
      "Epochs: 4 | Train Loss:  0.0094                 | Train F1:  0.8548                 | Val Loss:  0.0119                 | Val F1:  0.8190\n"
     ]
    },
    {
     "name": "stderr",
     "output_type": "stream",
     "text": [
      "100%|██████████| 2499/2499 [00:08<00:00, 305.11it/s]\n"
     ]
    },
    {
     "name": "stdout",
     "output_type": "stream",
     "text": [
      "Epochs: 5 | Train Loss:  0.0090                 | Train F1:  0.8628                 | Val Loss:  0.0122                 | Val F1:  0.8126\n"
     ]
    },
    {
     "name": "stderr",
     "output_type": "stream",
     "text": [
      "100%|██████████| 2499/2499 [00:08<00:00, 307.51it/s]\n"
     ]
    },
    {
     "name": "stdout",
     "output_type": "stream",
     "text": [
      "Epochs: 6 | Train Loss:  0.0088                 | Train F1:  0.8679                 | Val Loss:  0.0125                 | Val F1:  0.8075\n"
     ]
    },
    {
     "name": "stderr",
     "output_type": "stream",
     "text": [
      "100%|██████████| 2499/2499 [00:08<00:00, 309.79it/s]\n"
     ]
    },
    {
     "name": "stdout",
     "output_type": "stream",
     "text": [
      "Epochs: 7 | Train Loss:  0.0086                 | Train F1:  0.8716                 | Val Loss:  0.0127                 | Val F1:  0.8070\n"
     ]
    },
    {
     "name": "stderr",
     "output_type": "stream",
     "text": [
      "100%|██████████| 2499/2499 [00:08<00:00, 307.92it/s]\n"
     ]
    },
    {
     "name": "stdout",
     "output_type": "stream",
     "text": [
      "Epochs: 8 | Train Loss:  0.0084                 | Train F1:  0.8743                 | Val Loss:  0.0130                 | Val F1:  0.8019\n"
     ]
    },
    {
     "name": "stderr",
     "output_type": "stream",
     "text": [
      "100%|██████████| 2499/2499 [00:08<00:00, 309.24it/s]\n"
     ]
    },
    {
     "name": "stdout",
     "output_type": "stream",
     "text": [
      "Epochs: 9 | Train Loss:  0.0082                 | Train F1:  0.8761                 | Val Loss:  0.0133                 | Val F1:  0.8004\n"
     ]
    },
    {
     "name": "stderr",
     "output_type": "stream",
     "text": [
      "100%|██████████| 2499/2499 [00:08<00:00, 310.01it/s]\n"
     ]
    },
    {
     "name": "stdout",
     "output_type": "stream",
     "text": [
      "Epochs: 10 | Train Loss:  0.0081                 | Train F1:  0.8773                 | Val Loss:  0.0135                 | Val F1:  0.7967\n",
      "Fold 4\n"
     ]
    },
    {
     "name": "stderr",
     "output_type": "stream",
     "text": [
      "100%|██████████| 2303/2303 [00:07<00:00, 311.45it/s]\n"
     ]
    },
    {
     "name": "stdout",
     "output_type": "stream",
     "text": [
      "Epochs: 1 | Train Loss:  0.0174                 | Train F1:  0.6941                 | Val Loss:  0.0157                 | Val F1:  0.7413\n"
     ]
    },
    {
     "name": "stderr",
     "output_type": "stream",
     "text": [
      "100%|██████████| 2303/2303 [00:07<00:00, 310.48it/s]\n"
     ]
    },
    {
     "name": "stdout",
     "output_type": "stream",
     "text": [
      "Epochs: 2 | Train Loss:  0.0105                 | Train F1:  0.8548                 | Val Loss:  0.0154                 | Val F1:  0.7419\n"
     ]
    },
    {
     "name": "stderr",
     "output_type": "stream",
     "text": [
      "100%|██████████| 2303/2303 [00:07<00:00, 311.03it/s]\n"
     ]
    },
    {
     "name": "stdout",
     "output_type": "stream",
     "text": [
      "Epochs: 3 | Train Loss:  0.0090                 | Train F1:  0.8669                 | Val Loss:  0.0160                 | Val F1:  0.7387\n"
     ]
    },
    {
     "name": "stderr",
     "output_type": "stream",
     "text": [
      "100%|██████████| 2303/2303 [00:07<00:00, 310.76it/s]\n"
     ]
    },
    {
     "name": "stdout",
     "output_type": "stream",
     "text": [
      "Epochs: 4 | Train Loss:  0.0085                 | Train F1:  0.8756                 | Val Loss:  0.0164                 | Val F1:  0.7351\n"
     ]
    },
    {
     "name": "stderr",
     "output_type": "stream",
     "text": [
      "100%|██████████| 2303/2303 [00:07<00:00, 312.17it/s]\n"
     ]
    },
    {
     "name": "stdout",
     "output_type": "stream",
     "text": [
      "Epochs: 5 | Train Loss:  0.0081                 | Train F1:  0.8807                 | Val Loss:  0.0166                 | Val F1:  0.7333\n"
     ]
    },
    {
     "name": "stderr",
     "output_type": "stream",
     "text": [
      "100%|██████████| 2303/2303 [00:07<00:00, 309.48it/s]\n"
     ]
    },
    {
     "name": "stdout",
     "output_type": "stream",
     "text": [
      "Epochs: 6 | Train Loss:  0.0079                 | Train F1:  0.8854                 | Val Loss:  0.0168                 | Val F1:  0.7312\n"
     ]
    },
    {
     "name": "stderr",
     "output_type": "stream",
     "text": [
      "100%|██████████| 2303/2303 [00:07<00:00, 311.81it/s]\n"
     ]
    },
    {
     "name": "stdout",
     "output_type": "stream",
     "text": [
      "Epochs: 7 | Train Loss:  0.0076                 | Train F1:  0.8897                 | Val Loss:  0.0171                 | Val F1:  0.7314\n"
     ]
    },
    {
     "name": "stderr",
     "output_type": "stream",
     "text": [
      "100%|██████████| 2303/2303 [00:07<00:00, 310.72it/s]\n"
     ]
    },
    {
     "name": "stdout",
     "output_type": "stream",
     "text": [
      "Epochs: 8 | Train Loss:  0.0075                 | Train F1:  0.8925                 | Val Loss:  0.0172                 | Val F1:  0.7300\n"
     ]
    },
    {
     "name": "stderr",
     "output_type": "stream",
     "text": [
      "100%|██████████| 2303/2303 [00:07<00:00, 310.32it/s]\n"
     ]
    },
    {
     "name": "stdout",
     "output_type": "stream",
     "text": [
      "Epochs: 9 | Train Loss:  0.0073                 | Train F1:  0.8956                 | Val Loss:  0.0174                 | Val F1:  0.7286\n"
     ]
    },
    {
     "name": "stderr",
     "output_type": "stream",
     "text": [
      "100%|██████████| 2303/2303 [00:07<00:00, 309.78it/s]\n",
      "\u001b[32m[I 2022-06-16 20:04:02,764]\u001b[0m Trial 24 finished with value: 0.7990303301654322 and parameters: {'learning_rate': 3.231584098896318e-05, 'n_layers': 2, 'n_units_l0': 34, 'dropout_l0': 0.25, 'n_units_l1': 26, 'dropout_l1': 0.35000000000000003}. Best is trial 15 with value: 0.807087138352161.\u001b[0m\n"
     ]
    },
    {
     "name": "stdout",
     "output_type": "stream",
     "text": [
      "Epochs: 10 | Train Loss:  0.0072                 | Train F1:  0.8971                 | Val Loss:  0.0175                 | Val F1:  0.7284\n"
     ]
    },
    {
     "data": {
      "text/plain": [
       "['NN_hyperparameterstudy10.pkl']"
      ]
     },
     "execution_count": 23,
     "metadata": {},
     "output_type": "execute_result"
    }
   ],
   "source": [
    "study.optimize(objective, n_trials=7, timeout=(60*60*2), gc_after_trial=True)\n",
    "joblib.dump(study, f\"NN_hyperparameterstudy{ROLLING_WINDOW_SIZE}.pkl\")"
   ]
  },
  {
   "cell_type": "code",
   "execution_count": 25,
   "metadata": {},
   "outputs": [
    {
     "name": "stdout",
     "output_type": "stream",
     "text": [
      "Best trial until now:\n",
      " Value:  0.807087138352161\n",
      " Params: \n",
      "    learning_rate: 1.0372272937269755e-05\n",
      "    n_layers: 2\n",
      "    n_units_l0: 28\n",
      "    dropout_l0: 0.45\n",
      "    n_units_l1: 17\n",
      "    dropout_l1: 0.4\n"
     ]
    }
   ],
   "source": [
    "#load\n",
    "study = joblib.load(f\"NN_hyperparameterstudy{ROLLING_WINDOW_SIZE}.pkl\")\n",
    "print(\"Best trial until now:\")\n",
    "print(\" Value: \", study.best_trial.value)\n",
    "print(\" Params: \")\n",
    "for key, value in study.best_trial.params.items():\n",
    "    print(f\"    {key}: {value}\")"
   ]
  }
 ],
 "metadata": {
  "interpreter": {
   "hash": "98b9776bb1c906ffea5885633daef92fdfff9bdc53a036d784e355cfb10fec4f"
  },
  "kernelspec": {
   "display_name": "Python 3.9.0 64-bit",
   "language": "python",
   "name": "python3"
  },
  "language_info": {
   "codemirror_mode": {
    "name": "ipython",
    "version": 3
   },
   "file_extension": ".py",
   "mimetype": "text/x-python",
   "name": "python",
   "nbconvert_exporter": "python",
   "pygments_lexer": "ipython3",
   "version": "3.9.0"
  },
  "orig_nbformat": 4
 },
 "nbformat": 4,
 "nbformat_minor": 2
}
