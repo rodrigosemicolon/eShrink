{
 "cells": [
  {
   "cell_type": "markdown",
   "metadata": {},
   "source": [
    "# Task 1 (Detecting pathological gamblers)\n",
    "### Using contextualized language models"
   ]
  },
  {
   "cell_type": "code",
   "execution_count": 1,
   "metadata": {},
   "outputs": [],
   "source": [
    "P_FILE = \"../posts.csv\"\n",
    "TRAIN_TOKEN=\"../train_df.csv\"\n",
    "TEST_TOKEN=\"../test_df.csv\"\n",
    "GENERAL_MODELS=\"../Models\"\n",
    "ROLLING_WINDOW_SIZE=10\n",
    "LM_MODEL=\"all-mpnet-base-v2\"\n",
    "CONVERTED=True\n",
    "MODEL_PATH =f\"{GENERAL_MODELS}/LM/NN_win_{ROLLING_WINDOW_SIZE}\" \n",
    "\n"
   ]
  },
  {
   "cell_type": "code",
   "execution_count": 2,
   "metadata": {},
   "outputs": [],
   "source": [
    "from pathlib import Path\n",
    "Path(MODEL_PATH).mkdir(parents=True, exist_ok=True)"
   ]
  },
  {
   "cell_type": "markdown",
   "metadata": {},
   "source": [
    "### opening resulting dataset with pandas"
   ]
  },
  {
   "cell_type": "code",
   "execution_count": 3,
   "metadata": {},
   "outputs": [
    {
     "data": {
      "text/html": [
       "<div>\n",
       "<style scoped>\n",
       "    .dataframe tbody tr th:only-of-type {\n",
       "        vertical-align: middle;\n",
       "    }\n",
       "\n",
       "    .dataframe tbody tr th {\n",
       "        vertical-align: top;\n",
       "    }\n",
       "\n",
       "    .dataframe thead th {\n",
       "        text-align: right;\n",
       "    }\n",
       "</style>\n",
       "<table border=\"1\" class=\"dataframe\">\n",
       "  <thead>\n",
       "    <tr style=\"text-align: right;\">\n",
       "      <th></th>\n",
       "      <th>User</th>\n",
       "      <th>Post_Nr</th>\n",
       "      <th>Raw</th>\n",
       "      <th>Stemmed</th>\n",
       "      <th>Lemmatized</th>\n",
       "      <th>Label</th>\n",
       "    </tr>\n",
       "  </thead>\n",
       "  <tbody>\n",
       "    <tr>\n",
       "      <th>0</th>\n",
       "      <td>3450</td>\n",
       "      <td>0</td>\n",
       "      <td>sports betting number k in debt, feeling very ...</td>\n",
       "      <td>sport bet number k in debt , feel veri depress...</td>\n",
       "      <td>sports betting number k in debt , feeling very...</td>\n",
       "      <td>1</td>\n",
       "    </tr>\n",
       "    <tr>\n",
       "      <th>1</th>\n",
       "      <td>3450</td>\n",
       "      <td>1</td>\n",
       "      <td>finally accepted that you cannot win gambling ...</td>\n",
       "      <td>final accept that you can not win gambl relaps...</td>\n",
       "      <td>finally accepted that you can not win gambling...</td>\n",
       "      <td>1</td>\n",
       "    </tr>\n",
       "    <tr>\n",
       "      <th>2</th>\n",
       "      <td>3450</td>\n",
       "      <td>2</td>\n",
       "      <td>blocking software betfilter has anybody used t...</td>\n",
       "      <td>block softwar betfilt has anybodi use this , w...</td>\n",
       "      <td>blocking software betfilter has anybody used t...</td>\n",
       "      <td>1</td>\n",
       "    </tr>\n",
       "    <tr>\n",
       "      <th>3</th>\n",
       "      <td>3450</td>\n",
       "      <td>3</td>\n",
       "      <td>prone to relapse when in debt? i find that whe...</td>\n",
       "      <td>prone to relaps when in debt ? i find that whe...</td>\n",
       "      <td>prone to relapse when in debt ? i find that wh...</td>\n",
       "      <td>1</td>\n",
       "    </tr>\n",
       "    <tr>\n",
       "      <th>4</th>\n",
       "      <td>3450</td>\n",
       "      <td>4</td>\n",
       "      <td>down to my last number on credit card i am num...</td>\n",
       "      <td>down to my last number on credit card i am num...</td>\n",
       "      <td>down to my last number on credit card i am num...</td>\n",
       "      <td>1</td>\n",
       "    </tr>\n",
       "    <tr>\n",
       "      <th>...</th>\n",
       "      <td>...</td>\n",
       "      <td>...</td>\n",
       "      <td>...</td>\n",
       "      <td>...</td>\n",
       "      <td>...</td>\n",
       "      <td>...</td>\n",
       "    </tr>\n",
       "    <tr>\n",
       "      <th>97853</th>\n",
       "      <td>162</td>\n",
       "      <td>670</td>\n",
       "      <td>you sick fuck</td>\n",
       "      <td>you sick fuck</td>\n",
       "      <td>you sick fuck</td>\n",
       "      <td>0</td>\n",
       "    </tr>\n",
       "    <tr>\n",
       "      <th>97854</th>\n",
       "      <td>162</td>\n",
       "      <td>671</td>\n",
       "      <td>reeeeeeeeeeeeeeeeeeeeeeeeeee</td>\n",
       "      <td>reeeeeeeeeeeeeeeeeeeeeeeeeee</td>\n",
       "      <td>reeeeeeeeeeeeeeeeeeeeeeeeeee</td>\n",
       "      <td>0</td>\n",
       "    </tr>\n",
       "    <tr>\n",
       "      <th>97855</th>\n",
       "      <td>162</td>\n",
       "      <td>672</td>\n",
       "      <td>this is so clearly satire! i really do not wan...</td>\n",
       "      <td>this is so clear satir ! i realli do not want ...</td>\n",
       "      <td>this is so clearly satire ! i really do not wa...</td>\n",
       "      <td>0</td>\n",
       "    </tr>\n",
       "    <tr>\n",
       "      <th>97856</th>\n",
       "      <td>162</td>\n",
       "      <td>673</td>\n",
       "      <td>he cannot write a story in number minutes</td>\n",
       "      <td>he can not write a stori in number minut</td>\n",
       "      <td>he can not write a story in number minutes</td>\n",
       "      <td>0</td>\n",
       "    </tr>\n",
       "    <tr>\n",
       "      <th>97857</th>\n",
       "      <td>162</td>\n",
       "      <td>674</td>\n",
       "      <td>pay your respekt people!</td>\n",
       "      <td>pay your respekt peopl !</td>\n",
       "      <td>pay your respekt people !</td>\n",
       "      <td>0</td>\n",
       "    </tr>\n",
       "  </tbody>\n",
       "</table>\n",
       "<p>97858 rows × 6 columns</p>\n",
       "</div>"
      ],
      "text/plain": [
       "       User  Post_Nr                                                Raw  \\\n",
       "0      3450        0  sports betting number k in debt, feeling very ...   \n",
       "1      3450        1  finally accepted that you cannot win gambling ...   \n",
       "2      3450        2  blocking software betfilter has anybody used t...   \n",
       "3      3450        3  prone to relapse when in debt? i find that whe...   \n",
       "4      3450        4  down to my last number on credit card i am num...   \n",
       "...     ...      ...                                                ...   \n",
       "97853   162      670                                      you sick fuck   \n",
       "97854   162      671                       reeeeeeeeeeeeeeeeeeeeeeeeeee   \n",
       "97855   162      672  this is so clearly satire! i really do not wan...   \n",
       "97856   162      673          he cannot write a story in number minutes   \n",
       "97857   162      674                           pay your respekt people!   \n",
       "\n",
       "                                                 Stemmed  \\\n",
       "0      sport bet number k in debt , feel veri depress...   \n",
       "1      final accept that you can not win gambl relaps...   \n",
       "2      block softwar betfilt has anybodi use this , w...   \n",
       "3      prone to relaps when in debt ? i find that whe...   \n",
       "4      down to my last number on credit card i am num...   \n",
       "...                                                  ...   \n",
       "97853                                      you sick fuck   \n",
       "97854                       reeeeeeeeeeeeeeeeeeeeeeeeeee   \n",
       "97855  this is so clear satir ! i realli do not want ...   \n",
       "97856           he can not write a stori in number minut   \n",
       "97857                           pay your respekt peopl !   \n",
       "\n",
       "                                              Lemmatized  Label  \n",
       "0      sports betting number k in debt , feeling very...      1  \n",
       "1      finally accepted that you can not win gambling...      1  \n",
       "2      blocking software betfilter has anybody used t...      1  \n",
       "3      prone to relapse when in debt ? i find that wh...      1  \n",
       "4      down to my last number on credit card i am num...      1  \n",
       "...                                                  ...    ...  \n",
       "97853                                      you sick fuck      0  \n",
       "97854                       reeeeeeeeeeeeeeeeeeeeeeeeeee      0  \n",
       "97855  this is so clearly satire ! i really do not wa...      0  \n",
       "97856         he can not write a story in number minutes      0  \n",
       "97857                          pay your respekt people !      0  \n",
       "\n",
       "[97858 rows x 6 columns]"
      ]
     },
     "execution_count": 3,
     "metadata": {},
     "output_type": "execute_result"
    }
   ],
   "source": [
    "import pandas as pd\n",
    "import numpy as np\n",
    "import os\n",
    "seed=23\n",
    "np.random.seed(seed)\n",
    "\n",
    "train_df = pd.read_csv(TRAIN_TOKEN, sep='\\t')\n",
    "test_df = pd.read_csv(TEST_TOKEN, sep='\\t')\n",
    "train_df"
   ]
  },
  {
   "cell_type": "code",
   "execution_count": 4,
   "metadata": {},
   "outputs": [],
   "source": [
    "def rolling_window(df, window_size,stride, field):\n",
    "    res_map={}\n",
    "    for user in df['User'].unique():\n",
    "        user_df = df[df['User']==user]\n",
    "        res_map[user]=(user_df['Label'].values[0],{})\n",
    "        posts = user_df[field].values\n",
    "        iteration=0\n",
    "        for i in range(0,len(posts),stride):\n",
    "            res_map[user][1][iteration]=' '.join((posts[i:i+window_size]))\n",
    "            iteration+=1\n",
    "    result_df = pd.DataFrame([(k,k1,v1,v[0]) for k,v in res_map.items() for k1,v1 in v[1].items()], columns = ['User','Window_id','Text','Label'])\n",
    "    \n",
    "    return result_df"
   ]
  },
  {
   "cell_type": "code",
   "execution_count": 5,
   "metadata": {},
   "outputs": [
    {
     "data": {
      "text/html": [
       "<div>\n",
       "<style scoped>\n",
       "    .dataframe tbody tr th:only-of-type {\n",
       "        vertical-align: middle;\n",
       "    }\n",
       "\n",
       "    .dataframe tbody tr th {\n",
       "        vertical-align: top;\n",
       "    }\n",
       "\n",
       "    .dataframe thead th {\n",
       "        text-align: right;\n",
       "    }\n",
       "</style>\n",
       "<table border=\"1\" class=\"dataframe\">\n",
       "  <thead>\n",
       "    <tr style=\"text-align: right;\">\n",
       "      <th></th>\n",
       "      <th>User</th>\n",
       "      <th>Window_id</th>\n",
       "      <th>Text</th>\n",
       "      <th>Label</th>\n",
       "    </tr>\n",
       "  </thead>\n",
       "  <tbody>\n",
       "    <tr>\n",
       "      <th>0</th>\n",
       "      <td>3450</td>\n",
       "      <td>0</td>\n",
       "      <td>sports betting number k in debt, feeling very ...</td>\n",
       "      <td>1</td>\n",
       "    </tr>\n",
       "    <tr>\n",
       "      <th>1</th>\n",
       "      <td>3450</td>\n",
       "      <td>1</td>\n",
       "      <td>finally accepted that you cannot win gambling ...</td>\n",
       "      <td>1</td>\n",
       "    </tr>\n",
       "    <tr>\n",
       "      <th>2</th>\n",
       "      <td>3450</td>\n",
       "      <td>2</td>\n",
       "      <td>blocking software betfilter has anybody used t...</td>\n",
       "      <td>1</td>\n",
       "    </tr>\n",
       "    <tr>\n",
       "      <th>3</th>\n",
       "      <td>3450</td>\n",
       "      <td>3</td>\n",
       "      <td>prone to relapse when in debt? i find that whe...</td>\n",
       "      <td>1</td>\n",
       "    </tr>\n",
       "    <tr>\n",
       "      <th>4</th>\n",
       "      <td>3450</td>\n",
       "      <td>4</td>\n",
       "      <td>down to my last number on credit card i am num...</td>\n",
       "      <td>1</td>\n",
       "    </tr>\n",
       "    <tr>\n",
       "      <th>...</th>\n",
       "      <td>...</td>\n",
       "      <td>...</td>\n",
       "      <td>...</td>\n",
       "      <td>...</td>\n",
       "    </tr>\n",
       "    <tr>\n",
       "      <th>97853</th>\n",
       "      <td>162</td>\n",
       "      <td>670</td>\n",
       "      <td>you sick fuck reeeeeeeeeeeeeeeeeeeeeeeeeee thi...</td>\n",
       "      <td>0</td>\n",
       "    </tr>\n",
       "    <tr>\n",
       "      <th>97854</th>\n",
       "      <td>162</td>\n",
       "      <td>671</td>\n",
       "      <td>reeeeeeeeeeeeeeeeeeeeeeeeeee this is so clearl...</td>\n",
       "      <td>0</td>\n",
       "    </tr>\n",
       "    <tr>\n",
       "      <th>97855</th>\n",
       "      <td>162</td>\n",
       "      <td>672</td>\n",
       "      <td>this is so clearly satire! i really do not wan...</td>\n",
       "      <td>0</td>\n",
       "    </tr>\n",
       "    <tr>\n",
       "      <th>97856</th>\n",
       "      <td>162</td>\n",
       "      <td>673</td>\n",
       "      <td>he cannot write a story in number minutes pay ...</td>\n",
       "      <td>0</td>\n",
       "    </tr>\n",
       "    <tr>\n",
       "      <th>97857</th>\n",
       "      <td>162</td>\n",
       "      <td>674</td>\n",
       "      <td>pay your respekt people!</td>\n",
       "      <td>0</td>\n",
       "    </tr>\n",
       "  </tbody>\n",
       "</table>\n",
       "<p>97858 rows × 4 columns</p>\n",
       "</div>"
      ],
      "text/plain": [
       "       User  Window_id                                               Text  \\\n",
       "0      3450          0  sports betting number k in debt, feeling very ...   \n",
       "1      3450          1  finally accepted that you cannot win gambling ...   \n",
       "2      3450          2  blocking software betfilter has anybody used t...   \n",
       "3      3450          3  prone to relapse when in debt? i find that whe...   \n",
       "4      3450          4  down to my last number on credit card i am num...   \n",
       "...     ...        ...                                                ...   \n",
       "97853   162        670  you sick fuck reeeeeeeeeeeeeeeeeeeeeeeeeee thi...   \n",
       "97854   162        671  reeeeeeeeeeeeeeeeeeeeeeeeeee this is so clearl...   \n",
       "97855   162        672  this is so clearly satire! i really do not wan...   \n",
       "97856   162        673  he cannot write a story in number minutes pay ...   \n",
       "97857   162        674                           pay your respekt people!   \n",
       "\n",
       "       Label  \n",
       "0          1  \n",
       "1          1  \n",
       "2          1  \n",
       "3          1  \n",
       "4          1  \n",
       "...      ...  \n",
       "97853      0  \n",
       "97854      0  \n",
       "97855      0  \n",
       "97856      0  \n",
       "97857      0  \n",
       "\n",
       "[97858 rows x 4 columns]"
      ]
     },
     "execution_count": 5,
     "metadata": {},
     "output_type": "execute_result"
    }
   ],
   "source": [
    "train_df = rolling_window(train_df,ROLLING_WINDOW_SIZE,1,'Raw')\n",
    "test_df = rolling_window(test_df,ROLLING_WINDOW_SIZE,1,'Raw')\n",
    "\n",
    "train_df"
   ]
  },
  {
   "cell_type": "code",
   "execution_count": 6,
   "metadata": {},
   "outputs": [],
   "source": [
    "import pickle\n",
    "#Store sentences & embeddings on disc\n",
    "def save_embeddings(filepath, embeddings):\n",
    "    with open(filepath, \"wb\") as fOut:\n",
    "        pickle.dump({ 'embeddings': embeddings}, fOut, protocol=pickle.HIGHEST_PROTOCOL)\n",
    "\n",
    "#Load sentences & embeddings from disc\n",
    "def load_embeddings(filepath):\n",
    "    with open(filepath, \"rb\") as fIn:\n",
    "        stored_data = pickle.load(fIn)\n",
    "        stored_embeddings = stored_data['embeddings']\n",
    "    return stored_embeddings   "
   ]
  },
  {
   "cell_type": "code",
   "execution_count": 7,
   "metadata": {},
   "outputs": [],
   "source": [
    "if not CONVERTED:\n",
    "    from sentence_transformers import SentenceTransformer\n",
    "    model = SentenceTransformer(LM_MODEL)\n",
    "\n",
    "    model.max_seq_length = 512\n",
    "    train_sentence_embeddings = model.encode(train_df['Text'],show_progress_bar=True,\\\n",
    "                output_value='sentence_embedding', batch_size=64,convert_to_numpy=True)\n",
    "\n",
    "    val_sentence_embeddings = model.encode(test_df['Text'],show_progress_bar=True,\\\n",
    "                output_value='sentence_embedding', batch_size=64,convert_to_numpy=True)\n",
    "\n"
   ]
  },
  {
   "cell_type": "code",
   "execution_count": 8,
   "metadata": {},
   "outputs": [],
   "source": [
    "#if not CONVERTED:\n",
    "#    save_embeddings(f\"./NN_train_sentence_embeddings_{LM_MODEL}_{ROLLING_WINDOW_SIZE}.pkl\",train_sentence_embeddings)\n",
    "#    save_embeddings(f\"./NN_val_sentence_embeddings_{LM_MODEL}_{ROLLING_WINDOW_SIZE}.pkl\",val_sentence_embeddings)\n",
    "\n",
    "train_sentence_embeddings = load_embeddings(f\"./train_sentence_embeddings_{LM_MODEL}_{ROLLING_WINDOW_SIZE}.pkl\")\n",
    "val_sentence_embeddings = load_embeddings(f\"./val_sentence_embeddings_{LM_MODEL}_{ROLLING_WINDOW_SIZE}.pkl\")\n",
    "\n"
   ]
  },
  {
   "cell_type": "code",
   "execution_count": 9,
   "metadata": {},
   "outputs": [],
   "source": [
    "\n",
    "test_df['Vector'] = pd.DataFrame(data=val_sentence_embeddings).values.tolist()\n",
    "train_df['Vector'] = pd.DataFrame(data=train_sentence_embeddings).values.tolist()\n"
   ]
  },
  {
   "cell_type": "code",
   "execution_count": 11,
   "metadata": {},
   "outputs": [
    {
     "data": {
      "text/html": [
       "<div>\n",
       "<style scoped>\n",
       "    .dataframe tbody tr th:only-of-type {\n",
       "        vertical-align: middle;\n",
       "    }\n",
       "\n",
       "    .dataframe tbody tr th {\n",
       "        vertical-align: top;\n",
       "    }\n",
       "\n",
       "    .dataframe thead th {\n",
       "        text-align: right;\n",
       "    }\n",
       "</style>\n",
       "<table border=\"1\" class=\"dataframe\">\n",
       "  <thead>\n",
       "    <tr style=\"text-align: right;\">\n",
       "      <th></th>\n",
       "      <th>User</th>\n",
       "      <th>Window_id</th>\n",
       "      <th>Text</th>\n",
       "      <th>Label</th>\n",
       "      <th>Vector</th>\n",
       "    </tr>\n",
       "  </thead>\n",
       "  <tbody>\n",
       "    <tr>\n",
       "      <th>0</th>\n",
       "      <td>3450</td>\n",
       "      <td>0</td>\n",
       "      <td>sports betting number k in debt, feeling very ...</td>\n",
       "      <td>1</td>\n",
       "      <td>[0.001481963787227869, 0.08722537010908127, -0...</td>\n",
       "    </tr>\n",
       "    <tr>\n",
       "      <th>1</th>\n",
       "      <td>3450</td>\n",
       "      <td>1</td>\n",
       "      <td>finally accepted that you cannot win gambling ...</td>\n",
       "      <td>1</td>\n",
       "      <td>[0.0011301715858280659, 0.09679407626390457, -...</td>\n",
       "    </tr>\n",
       "    <tr>\n",
       "      <th>2</th>\n",
       "      <td>3450</td>\n",
       "      <td>2</td>\n",
       "      <td>blocking software betfilter has anybody used t...</td>\n",
       "      <td>1</td>\n",
       "      <td>[0.0012601062189787626, 0.08274412155151367, -...</td>\n",
       "    </tr>\n",
       "    <tr>\n",
       "      <th>3</th>\n",
       "      <td>3450</td>\n",
       "      <td>3</td>\n",
       "      <td>prone to relapse when in debt? i find that whe...</td>\n",
       "      <td>1</td>\n",
       "      <td>[0.018009161576628685, 0.05251404270529747, -0...</td>\n",
       "    </tr>\n",
       "    <tr>\n",
       "      <th>4</th>\n",
       "      <td>3450</td>\n",
       "      <td>4</td>\n",
       "      <td>down to my last number on credit card i am num...</td>\n",
       "      <td>1</td>\n",
       "      <td>[-0.006508147809654474, 0.08554978668689728, -...</td>\n",
       "    </tr>\n",
       "    <tr>\n",
       "      <th>...</th>\n",
       "      <td>...</td>\n",
       "      <td>...</td>\n",
       "      <td>...</td>\n",
       "      <td>...</td>\n",
       "      <td>...</td>\n",
       "    </tr>\n",
       "    <tr>\n",
       "      <th>97853</th>\n",
       "      <td>162</td>\n",
       "      <td>670</td>\n",
       "      <td>you sick fuck reeeeeeeeeeeeeeeeeeeeeeeeeee thi...</td>\n",
       "      <td>0</td>\n",
       "      <td>[0.04130152612924576, 0.0463968887925148, -0.0...</td>\n",
       "    </tr>\n",
       "    <tr>\n",
       "      <th>97854</th>\n",
       "      <td>162</td>\n",
       "      <td>671</td>\n",
       "      <td>reeeeeeeeeeeeeeeeeeeeeeeeeee this is so clearl...</td>\n",
       "      <td>0</td>\n",
       "      <td>[0.044361602514982224, 0.03786471486091614, -0...</td>\n",
       "    </tr>\n",
       "    <tr>\n",
       "      <th>97855</th>\n",
       "      <td>162</td>\n",
       "      <td>672</td>\n",
       "      <td>this is so clearly satire! i really do not wan...</td>\n",
       "      <td>0</td>\n",
       "      <td>[0.04709811136126518, 0.04260839894413948, -0....</td>\n",
       "    </tr>\n",
       "    <tr>\n",
       "      <th>97856</th>\n",
       "      <td>162</td>\n",
       "      <td>673</td>\n",
       "      <td>he cannot write a story in number minutes pay ...</td>\n",
       "      <td>0</td>\n",
       "      <td>[-0.017870843410491943, 0.004002168774604797, ...</td>\n",
       "    </tr>\n",
       "    <tr>\n",
       "      <th>97857</th>\n",
       "      <td>162</td>\n",
       "      <td>674</td>\n",
       "      <td>pay your respekt people!</td>\n",
       "      <td>0</td>\n",
       "      <td>[-0.031992845237255096, 0.04143917188048363, -...</td>\n",
       "    </tr>\n",
       "  </tbody>\n",
       "</table>\n",
       "<p>97858 rows × 5 columns</p>\n",
       "</div>"
      ],
      "text/plain": [
       "       User  Window_id                                               Text  \\\n",
       "0      3450          0  sports betting number k in debt, feeling very ...   \n",
       "1      3450          1  finally accepted that you cannot win gambling ...   \n",
       "2      3450          2  blocking software betfilter has anybody used t...   \n",
       "3      3450          3  prone to relapse when in debt? i find that whe...   \n",
       "4      3450          4  down to my last number on credit card i am num...   \n",
       "...     ...        ...                                                ...   \n",
       "97853   162        670  you sick fuck reeeeeeeeeeeeeeeeeeeeeeeeeee thi...   \n",
       "97854   162        671  reeeeeeeeeeeeeeeeeeeeeeeeeee this is so clearl...   \n",
       "97855   162        672  this is so clearly satire! i really do not wan...   \n",
       "97856   162        673  he cannot write a story in number minutes pay ...   \n",
       "97857   162        674                           pay your respekt people!   \n",
       "\n",
       "       Label                                             Vector  \n",
       "0          1  [0.001481963787227869, 0.08722537010908127, -0...  \n",
       "1          1  [0.0011301715858280659, 0.09679407626390457, -...  \n",
       "2          1  [0.0012601062189787626, 0.08274412155151367, -...  \n",
       "3          1  [0.018009161576628685, 0.05251404270529747, -0...  \n",
       "4          1  [-0.006508147809654474, 0.08554978668689728, -...  \n",
       "...      ...                                                ...  \n",
       "97853      0  [0.04130152612924576, 0.0463968887925148, -0.0...  \n",
       "97854      0  [0.044361602514982224, 0.03786471486091614, -0...  \n",
       "97855      0  [0.04709811136126518, 0.04260839894413948, -0....  \n",
       "97856      0  [-0.017870843410491943, 0.004002168774604797, ...  \n",
       "97857      0  [-0.031992845237255096, 0.04143917188048363, -...  \n",
       "\n",
       "[97858 rows x 5 columns]"
      ]
     },
     "execution_count": 11,
     "metadata": {},
     "output_type": "execute_result"
    }
   ],
   "source": [
    "train_df"
   ]
  },
  {
   "cell_type": "markdown",
   "metadata": {},
   "source": [
    "## Model part"
   ]
  },
  {
   "cell_type": "code",
   "execution_count": 12,
   "metadata": {},
   "outputs": [],
   "source": [
    "import torch\n",
    "import torch.nn as nn\n",
    "from torch.utils.data import Dataset, DataLoader\n",
    "\n",
    "torch.manual_seed(seed)\n",
    "\n",
    "\n",
    "class WritingWindowDataset(Dataset):\n",
    "    def __init__(self, vectors, labels):\n",
    "\n",
    "        self.labels = [label for label in labels]\n",
    "        self.vectors = [vector for vector in vectors]\n",
    "    def classes(self):\n",
    "        return self.labels\n",
    "\n",
    "    def __len__(self):\n",
    "        return len(self.labels)\n",
    "\n",
    "    def get_batch_labels(self, idx):\n",
    "        # Fetch a batch of labels\n",
    "        return np.array(self.labels[idx])\n",
    "\n",
    "    def get_batch_vectors(self, idx):\n",
    "        # Fetch a batch of inputs\n",
    "        return self.vectors[idx]\n",
    "\n",
    "    def __getitem__(self, idx):\n",
    "\n",
    "        batch_vectors = self.get_batch_vectors(idx)\n",
    "        batch_y = self.get_batch_labels(idx)\n",
    "        \n",
    "\n",
    "        return batch_vectors, batch_y"
   ]
  },
  {
   "cell_type": "code",
   "execution_count": 13,
   "metadata": {},
   "outputs": [],
   "source": [
    "full_ds = WritingWindowDataset(np.concatenate((train_sentence_embeddings, val_sentence_embeddings), axis=0), pd.concat([train_df['Label'], test_df['Label']]))"
   ]
  },
  {
   "cell_type": "code",
   "execution_count": 14,
   "metadata": {},
   "outputs": [],
   "source": [
    "class LmNeuralNetwork(nn.Module):\n",
    "    def __init__(self, trial):\n",
    "        super(LmNeuralNetwork, self).__init__()\n",
    "        self.layers=[]\n",
    "        n_layers = trial.suggest_int(\"n_layers\", 1, 3)\n",
    "\n",
    "        in_features = 768\n",
    "        for i in range(n_layers):\n",
    "            out_features = trial.suggest_int(\"n_units_l{}\".format(i), 4, min(in_features,128))\n",
    "            self.layers.append(nn.Linear(in_features, out_features))\n",
    "            self.layers.append(nn.ReLU())\n",
    "            p = trial.suggest_float(\"dropout_l{}\".format(i), 0.2, 0.5, step=0.05)\n",
    "            self.layers.append(nn.Dropout(p))\n",
    "\n",
    "            in_features = out_features\n",
    "        self.layers.append(nn.Linear(in_features, 1))\n",
    "        self.cls_layers = torch.nn.ModuleList(self.layers)\n",
    "    def forward(self, x):\n",
    "\n",
    "        for layer in self.cls_layers:\n",
    "            x = layer(x)\n",
    "        return torch.sigmoid(x)\n"
   ]
  },
  {
   "cell_type": "code",
   "execution_count": 15,
   "metadata": {},
   "outputs": [],
   "source": [
    "\n",
    "trainloader = torch.utils.data.DataLoader(\n",
    "                full_ds, \n",
    "                batch_size=32, \n",
    "                shuffle=True)\n",
    "       "
   ]
  },
  {
   "cell_type": "code",
   "execution_count": 23,
   "metadata": {},
   "outputs": [],
   "source": [
    "import optuna \n",
    "import joblib\n",
    "study = joblib.load(f\"NN_hyperparameterstudy{ROLLING_WINDOW_SIZE}.pkl\")\n",
    "params = optuna.trial.FixedTrial(study.best_trial.params)\n",
    "model= LmNeuralNetwork(params)"
   ]
  },
  {
   "cell_type": "code",
   "execution_count": 24,
   "metadata": {},
   "outputs": [
    {
     "data": {
      "text/plain": [
       "{'n_layers': 2,\n",
       " 'n_units_l0': 28,\n",
       " 'dropout_l0': 0.45,\n",
       " 'n_units_l1': 17,\n",
       " 'dropout_l1': 0.4}"
      ]
     },
     "execution_count": 24,
     "metadata": {},
     "output_type": "execute_result"
    }
   ],
   "source": [
    "params.params"
   ]
  },
  {
   "cell_type": "code",
   "execution_count": 25,
   "metadata": {},
   "outputs": [
    {
     "name": "stderr",
     "output_type": "stream",
     "text": [
      "100%|██████████| 3756/3756 [00:27<00:00, 137.71it/s]\n"
     ]
    },
    {
     "name": "stdout",
     "output_type": "stream",
     "text": [
      "Epochs: 1 | Train Loss:  0.0215             | Train F1:  0.6350\n"
     ]
    },
    {
     "name": "stderr",
     "output_type": "stream",
     "text": [
      "100%|██████████| 3756/3756 [00:12<00:00, 309.97it/s]\n"
     ]
    },
    {
     "name": "stdout",
     "output_type": "stream",
     "text": [
      "Epochs: 2 | Train Loss:  0.0181             | Train F1:  0.7627\n"
     ]
    },
    {
     "name": "stderr",
     "output_type": "stream",
     "text": [
      "100%|██████████| 3756/3756 [00:12<00:00, 312.17it/s]\n"
     ]
    },
    {
     "name": "stdout",
     "output_type": "stream",
     "text": [
      "Epochs: 3 | Train Loss:  0.0147             | Train F1:  0.8098\n"
     ]
    },
    {
     "name": "stderr",
     "output_type": "stream",
     "text": [
      "100%|██████████| 3756/3756 [00:12<00:00, 312.75it/s]\n"
     ]
    },
    {
     "name": "stdout",
     "output_type": "stream",
     "text": [
      "Epochs: 4 | Train Loss:  0.0126             | Train F1:  0.8216\n"
     ]
    },
    {
     "name": "stderr",
     "output_type": "stream",
     "text": [
      "100%|██████████| 3756/3756 [00:12<00:00, 310.54it/s]\n"
     ]
    },
    {
     "name": "stdout",
     "output_type": "stream",
     "text": [
      "Epochs: 5 | Train Loss:  0.0117             | Train F1:  0.8310\n"
     ]
    },
    {
     "name": "stderr",
     "output_type": "stream",
     "text": [
      "100%|██████████| 3756/3756 [00:12<00:00, 306.32it/s]\n"
     ]
    },
    {
     "name": "stdout",
     "output_type": "stream",
     "text": [
      "Epochs: 6 | Train Loss:  0.0111             | Train F1:  0.8370\n"
     ]
    },
    {
     "name": "stderr",
     "output_type": "stream",
     "text": [
      "100%|██████████| 3756/3756 [00:12<00:00, 306.51it/s]\n"
     ]
    },
    {
     "name": "stdout",
     "output_type": "stream",
     "text": [
      "Epochs: 7 | Train Loss:  0.0108             | Train F1:  0.8420\n"
     ]
    },
    {
     "name": "stderr",
     "output_type": "stream",
     "text": [
      "100%|██████████| 3756/3756 [00:12<00:00, 306.37it/s]\n"
     ]
    },
    {
     "name": "stdout",
     "output_type": "stream",
     "text": [
      "Epochs: 8 | Train Loss:  0.0106             | Train F1:  0.8450\n"
     ]
    },
    {
     "name": "stderr",
     "output_type": "stream",
     "text": [
      "100%|██████████| 3756/3756 [00:12<00:00, 310.05it/s]\n"
     ]
    },
    {
     "name": "stdout",
     "output_type": "stream",
     "text": [
      "Epochs: 9 | Train Loss:  0.0104             | Train F1:  0.8498\n"
     ]
    },
    {
     "name": "stderr",
     "output_type": "stream",
     "text": [
      "100%|██████████| 3756/3756 [00:12<00:00, 307.25it/s]\n"
     ]
    },
    {
     "name": "stdout",
     "output_type": "stream",
     "text": [
      "Epochs: 10 | Train Loss:  0.0103             | Train F1:  0.8512\n"
     ]
    }
   ],
   "source": [
    "from torch.optim import AdamW\n",
    "from tqdm import tqdm\n",
    "from sklearn.metrics import f1_score\n",
    "BATCH_SIZE = 32\n",
    "epochs=10\n",
    "\n",
    "\n",
    "model = model.cuda()\n",
    "optimizer = AdamW(model.parameters(), lr=study.best_trial.params['learning_rate'])#, lr= learning_rate)\n",
    "\n",
    "use_cuda = torch.cuda.is_available()\n",
    "device = torch.device(\"cuda\" if use_cuda else \"cpu\")\n",
    "\n",
    "criterion = nn.BCELoss()\n",
    "\n",
    "        \n",
    "\n",
    "for epoch_num in range(epochs):\n",
    "    \n",
    "    total_loss_train = 0\n",
    "    train_preds = np.array([])\n",
    "    train_targets = np.array([])\n",
    "    model.train()\n",
    "    for train_input, train_label in tqdm(trainloader):\n",
    "\n",
    "        train_label = train_label.to(device)\n",
    "        train_label = train_label.float()\n",
    "        train_label = train_label.unsqueeze(1)\n",
    "        features = train_input.to(device)\n",
    "        \n",
    "\n",
    "        output = model(features)\n",
    "        batch_loss = criterion(output, train_label)\n",
    "        total_loss_train += float(batch_loss.item())\n",
    "        \n",
    "        train_preds = np.concatenate((train_preds,torch.round(output).detach().cpu().numpy().flatten()),axis=0)\n",
    "        train_targets = np.concatenate((train_targets,train_label.detach().cpu().numpy().flatten()),axis=0)\n",
    "\n",
    "        \n",
    "        model.zero_grad()\n",
    "        batch_loss.backward()\n",
    "        optimizer.step()\n",
    "    train_loss=total_loss_train/len(train_preds)\n",
    "    train_f1 = f1_score(train_targets,train_preds)\n",
    "        \n",
    "    print(\n",
    "            f'Epochs: {epoch_num + 1} | Train Loss: {train_loss: .4f} \\\n",
    "            | Train F1: {train_f1: .4f}')\n",
    "\n",
    "    \n"
   ]
  },
  {
   "cell_type": "code",
   "execution_count": 26,
   "metadata": {},
   "outputs": [],
   "source": [
    "torch.save(model, f\"{MODEL_PATH}/final_NN.pt\")"
   ]
  }
 ],
 "metadata": {
  "interpreter": {
   "hash": "98b9776bb1c906ffea5885633daef92fdfff9bdc53a036d784e355cfb10fec4f"
  },
  "kernelspec": {
   "display_name": "Python 3.9.0 64-bit",
   "language": "python",
   "name": "python3"
  },
  "language_info": {
   "codemirror_mode": {
    "name": "ipython",
    "version": 3
   },
   "file_extension": ".py",
   "mimetype": "text/x-python",
   "name": "python",
   "nbconvert_exporter": "python",
   "pygments_lexer": "ipython3",
   "version": "3.9.0"
  },
  "orig_nbformat": 4
 },
 "nbformat": 4,
 "nbformat_minor": 2
}
