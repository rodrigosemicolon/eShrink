{
 "cells": [
  {
   "cell_type": "markdown",
   "metadata": {},
   "source": [
    "# Task 1 (Detecting pathological gamblers)\n",
    "### Using BoW methods with rolling window approach"
   ]
  },
  {
   "cell_type": "code",
   "execution_count": 1,
   "metadata": {},
   "outputs": [],
   "source": [
    "P_FILE = \"../posts.csv\"\n",
    "TRAIN_TOKEN=\"../train_df.csv\"\n",
    "TEST_TOKEN=\"../test_df.csv\"\n",
    "GENERAL_MODELS=\"../Models\"\n",
    "ROLLING_WINDOW_SIZE=10\n",
    "TF_IDF_FOUND=True\n",
    "BASELINE_COMP=False\n",
    "TASK=1\n",
    "#if sentiment:\n",
    "#    MODEL_PATH =f\"{GENERAL_MODELS}/BoW/TFIDF_win_{ROLLING_WINDOW_SIZE}_vader_tb\" \n",
    "#else:\n",
    "MODEL_PATH =f\"{GENERAL_MODELS}/BoW/TFIDF_win_{ROLLING_WINDOW_SIZE}\" \n",
    "\n",
    "BASIC_PATH=f\"{GENERAL_MODELS}/BoW/TFIDF_win_{ROLLING_WINDOW_SIZE}\" "
   ]
  },
  {
   "cell_type": "code",
   "execution_count": 2,
   "metadata": {},
   "outputs": [],
   "source": [
    "from pathlib import Path\n",
    "Path(MODEL_PATH).mkdir(parents=True, exist_ok=True)"
   ]
  },
  {
   "cell_type": "markdown",
   "metadata": {},
   "source": [
    "### opening the preprocessed dataset with pandas"
   ]
  },
  {
   "cell_type": "code",
   "execution_count": 3,
   "metadata": {},
   "outputs": [
    {
     "data": {
      "text/html": [
       "<div>\n",
       "<style scoped>\n",
       "    .dataframe tbody tr th:only-of-type {\n",
       "        vertical-align: middle;\n",
       "    }\n",
       "\n",
       "    .dataframe tbody tr th {\n",
       "        vertical-align: top;\n",
       "    }\n",
       "\n",
       "    .dataframe thead th {\n",
       "        text-align: right;\n",
       "    }\n",
       "</style>\n",
       "<table border=\"1\" class=\"dataframe\">\n",
       "  <thead>\n",
       "    <tr style=\"text-align: right;\">\n",
       "      <th></th>\n",
       "      <th>User</th>\n",
       "      <th>Post_Nr</th>\n",
       "      <th>Raw</th>\n",
       "      <th>Stemmed</th>\n",
       "      <th>Lemmatized</th>\n",
       "      <th>Label</th>\n",
       "    </tr>\n",
       "  </thead>\n",
       "  <tbody>\n",
       "    <tr>\n",
       "      <th>0</th>\n",
       "      <td>3450</td>\n",
       "      <td>0</td>\n",
       "      <td>sports betting number k in debt, feeling very ...</td>\n",
       "      <td>sport bet number k in debt , feel veri depress...</td>\n",
       "      <td>sports betting number k in debt , feeling very...</td>\n",
       "      <td>1</td>\n",
       "    </tr>\n",
       "    <tr>\n",
       "      <th>1</th>\n",
       "      <td>3450</td>\n",
       "      <td>1</td>\n",
       "      <td>finally accepted that you cannot win gambling ...</td>\n",
       "      <td>final accept that you can not win gambl relaps...</td>\n",
       "      <td>finally accepted that you can not win gambling...</td>\n",
       "      <td>1</td>\n",
       "    </tr>\n",
       "    <tr>\n",
       "      <th>2</th>\n",
       "      <td>3450</td>\n",
       "      <td>2</td>\n",
       "      <td>blocking software betfilter has anybody used t...</td>\n",
       "      <td>block softwar betfilt has anybodi use this , w...</td>\n",
       "      <td>blocking software betfilter has anybody used t...</td>\n",
       "      <td>1</td>\n",
       "    </tr>\n",
       "    <tr>\n",
       "      <th>3</th>\n",
       "      <td>3450</td>\n",
       "      <td>3</td>\n",
       "      <td>prone to relapse when in debt? i find that whe...</td>\n",
       "      <td>prone to relaps when in debt ? i find that whe...</td>\n",
       "      <td>prone to relapse when in debt ? i find that wh...</td>\n",
       "      <td>1</td>\n",
       "    </tr>\n",
       "    <tr>\n",
       "      <th>4</th>\n",
       "      <td>3450</td>\n",
       "      <td>4</td>\n",
       "      <td>down to my last number on credit card i am num...</td>\n",
       "      <td>down to my last number on credit card i am num...</td>\n",
       "      <td>down to my last number on credit card i am num...</td>\n",
       "      <td>1</td>\n",
       "    </tr>\n",
       "    <tr>\n",
       "      <th>...</th>\n",
       "      <td>...</td>\n",
       "      <td>...</td>\n",
       "      <td>...</td>\n",
       "      <td>...</td>\n",
       "      <td>...</td>\n",
       "      <td>...</td>\n",
       "    </tr>\n",
       "    <tr>\n",
       "      <th>97853</th>\n",
       "      <td>162</td>\n",
       "      <td>670</td>\n",
       "      <td>you sick fuck</td>\n",
       "      <td>you sick fuck</td>\n",
       "      <td>you sick fuck</td>\n",
       "      <td>0</td>\n",
       "    </tr>\n",
       "    <tr>\n",
       "      <th>97854</th>\n",
       "      <td>162</td>\n",
       "      <td>671</td>\n",
       "      <td>reeeeeeeeeeeeeeeeeeeeeeeeeee</td>\n",
       "      <td>reeeeeeeeeeeeeeeeeeeeeeeeeee</td>\n",
       "      <td>reeeeeeeeeeeeeeeeeeeeeeeeeee</td>\n",
       "      <td>0</td>\n",
       "    </tr>\n",
       "    <tr>\n",
       "      <th>97855</th>\n",
       "      <td>162</td>\n",
       "      <td>672</td>\n",
       "      <td>this is so clearly satire! i really do not wan...</td>\n",
       "      <td>this is so clear satir ! i realli do not want ...</td>\n",
       "      <td>this is so clearly satire ! i really do not wa...</td>\n",
       "      <td>0</td>\n",
       "    </tr>\n",
       "    <tr>\n",
       "      <th>97856</th>\n",
       "      <td>162</td>\n",
       "      <td>673</td>\n",
       "      <td>he cannot write a story in number minutes</td>\n",
       "      <td>he can not write a stori in number minut</td>\n",
       "      <td>he can not write a story in number minutes</td>\n",
       "      <td>0</td>\n",
       "    </tr>\n",
       "    <tr>\n",
       "      <th>97857</th>\n",
       "      <td>162</td>\n",
       "      <td>674</td>\n",
       "      <td>pay your respekt people!</td>\n",
       "      <td>pay your respekt peopl !</td>\n",
       "      <td>pay your respekt people !</td>\n",
       "      <td>0</td>\n",
       "    </tr>\n",
       "  </tbody>\n",
       "</table>\n",
       "<p>97858 rows × 6 columns</p>\n",
       "</div>"
      ],
      "text/plain": [
       "       User  Post_Nr                                                Raw  \\\n",
       "0      3450        0  sports betting number k in debt, feeling very ...   \n",
       "1      3450        1  finally accepted that you cannot win gambling ...   \n",
       "2      3450        2  blocking software betfilter has anybody used t...   \n",
       "3      3450        3  prone to relapse when in debt? i find that whe...   \n",
       "4      3450        4  down to my last number on credit card i am num...   \n",
       "...     ...      ...                                                ...   \n",
       "97853   162      670                                      you sick fuck   \n",
       "97854   162      671                       reeeeeeeeeeeeeeeeeeeeeeeeeee   \n",
       "97855   162      672  this is so clearly satire! i really do not wan...   \n",
       "97856   162      673          he cannot write a story in number minutes   \n",
       "97857   162      674                           pay your respekt people!   \n",
       "\n",
       "                                                 Stemmed  \\\n",
       "0      sport bet number k in debt , feel veri depress...   \n",
       "1      final accept that you can not win gambl relaps...   \n",
       "2      block softwar betfilt has anybodi use this , w...   \n",
       "3      prone to relaps when in debt ? i find that whe...   \n",
       "4      down to my last number on credit card i am num...   \n",
       "...                                                  ...   \n",
       "97853                                      you sick fuck   \n",
       "97854                       reeeeeeeeeeeeeeeeeeeeeeeeeee   \n",
       "97855  this is so clear satir ! i realli do not want ...   \n",
       "97856           he can not write a stori in number minut   \n",
       "97857                           pay your respekt peopl !   \n",
       "\n",
       "                                              Lemmatized  Label  \n",
       "0      sports betting number k in debt , feeling very...      1  \n",
       "1      finally accepted that you can not win gambling...      1  \n",
       "2      blocking software betfilter has anybody used t...      1  \n",
       "3      prone to relapse when in debt ? i find that wh...      1  \n",
       "4      down to my last number on credit card i am num...      1  \n",
       "...                                                  ...    ...  \n",
       "97853                                      you sick fuck      0  \n",
       "97854                       reeeeeeeeeeeeeeeeeeeeeeeeeee      0  \n",
       "97855  this is so clearly satire ! i really do not wa...      0  \n",
       "97856         he can not write a story in number minutes      0  \n",
       "97857                          pay your respekt people !      0  \n",
       "\n",
       "[97858 rows x 6 columns]"
      ]
     },
     "execution_count": 3,
     "metadata": {},
     "output_type": "execute_result"
    }
   ],
   "source": [
    "import pandas as pd\n",
    "import numpy as np\n",
    "import os\n",
    "seed=23\n",
    "np.random.seed(seed)\n",
    "\n",
    "train_df = pd.read_csv(TRAIN_TOKEN, sep='\\t')\n",
    "test_df = pd.read_csv(TEST_TOKEN, sep='\\t')\n",
    "train_df"
   ]
  },
  {
   "cell_type": "code",
   "execution_count": 4,
   "metadata": {},
   "outputs": [],
   "source": [
    "def rolling_window(df, window_size,stride, field):\n",
    "    res_map={}\n",
    "    for user in df['User'].unique():\n",
    "        user_df = df[df['User']==user]\n",
    "        res_map[user]=(user_df['Label'].values[0],{})\n",
    "        posts = user_df[field].values\n",
    "        iteration=0\n",
    "        for i in range(0,len(posts),stride):\n",
    "            res_map[user][1][iteration]=' '.join((posts[i:i+window_size]))\n",
    "            iteration+=1\n",
    "    result_df = pd.DataFrame([(k,k1,v1,v[0]) for k,v in res_map.items() for k1,v1 in v[1].items()], columns = ['User','Window_id','Text','Label'])\n",
    "    \n",
    "    return result_df"
   ]
  },
  {
   "cell_type": "code",
   "execution_count": 5,
   "metadata": {},
   "outputs": [
    {
     "data": {
      "text/html": [
       "<div>\n",
       "<style scoped>\n",
       "    .dataframe tbody tr th:only-of-type {\n",
       "        vertical-align: middle;\n",
       "    }\n",
       "\n",
       "    .dataframe tbody tr th {\n",
       "        vertical-align: top;\n",
       "    }\n",
       "\n",
       "    .dataframe thead th {\n",
       "        text-align: right;\n",
       "    }\n",
       "</style>\n",
       "<table border=\"1\" class=\"dataframe\">\n",
       "  <thead>\n",
       "    <tr style=\"text-align: right;\">\n",
       "      <th></th>\n",
       "      <th>User</th>\n",
       "      <th>Window_id</th>\n",
       "      <th>Text</th>\n",
       "      <th>Label</th>\n",
       "    </tr>\n",
       "  </thead>\n",
       "  <tbody>\n",
       "    <tr>\n",
       "      <th>0</th>\n",
       "      <td>3450</td>\n",
       "      <td>0</td>\n",
       "      <td>sports betting number k in debt , feeling very...</td>\n",
       "      <td>1</td>\n",
       "    </tr>\n",
       "    <tr>\n",
       "      <th>1</th>\n",
       "      <td>3450</td>\n",
       "      <td>1</td>\n",
       "      <td>finally accepted that you can not win gambling...</td>\n",
       "      <td>1</td>\n",
       "    </tr>\n",
       "    <tr>\n",
       "      <th>2</th>\n",
       "      <td>3450</td>\n",
       "      <td>2</td>\n",
       "      <td>blocking software betfilter has anybody used t...</td>\n",
       "      <td>1</td>\n",
       "    </tr>\n",
       "    <tr>\n",
       "      <th>3</th>\n",
       "      <td>3450</td>\n",
       "      <td>3</td>\n",
       "      <td>prone to relapse when in debt ? i find that wh...</td>\n",
       "      <td>1</td>\n",
       "    </tr>\n",
       "    <tr>\n",
       "      <th>4</th>\n",
       "      <td>3450</td>\n",
       "      <td>4</td>\n",
       "      <td>down to my last number on credit card i am num...</td>\n",
       "      <td>1</td>\n",
       "    </tr>\n",
       "    <tr>\n",
       "      <th>...</th>\n",
       "      <td>...</td>\n",
       "      <td>...</td>\n",
       "      <td>...</td>\n",
       "      <td>...</td>\n",
       "    </tr>\n",
       "    <tr>\n",
       "      <th>97853</th>\n",
       "      <td>162</td>\n",
       "      <td>670</td>\n",
       "      <td>you sick fuck reeeeeeeeeeeeeeeeeeeeeeeeeee thi...</td>\n",
       "      <td>0</td>\n",
       "    </tr>\n",
       "    <tr>\n",
       "      <th>97854</th>\n",
       "      <td>162</td>\n",
       "      <td>671</td>\n",
       "      <td>reeeeeeeeeeeeeeeeeeeeeeeeeee this is so clearl...</td>\n",
       "      <td>0</td>\n",
       "    </tr>\n",
       "    <tr>\n",
       "      <th>97855</th>\n",
       "      <td>162</td>\n",
       "      <td>672</td>\n",
       "      <td>this is so clearly satire ! i really do not wa...</td>\n",
       "      <td>0</td>\n",
       "    </tr>\n",
       "    <tr>\n",
       "      <th>97856</th>\n",
       "      <td>162</td>\n",
       "      <td>673</td>\n",
       "      <td>he can not write a story in number minutes pay...</td>\n",
       "      <td>0</td>\n",
       "    </tr>\n",
       "    <tr>\n",
       "      <th>97857</th>\n",
       "      <td>162</td>\n",
       "      <td>674</td>\n",
       "      <td>pay your respekt people !</td>\n",
       "      <td>0</td>\n",
       "    </tr>\n",
       "  </tbody>\n",
       "</table>\n",
       "<p>97858 rows × 4 columns</p>\n",
       "</div>"
      ],
      "text/plain": [
       "       User  Window_id                                               Text  \\\n",
       "0      3450          0  sports betting number k in debt , feeling very...   \n",
       "1      3450          1  finally accepted that you can not win gambling...   \n",
       "2      3450          2  blocking software betfilter has anybody used t...   \n",
       "3      3450          3  prone to relapse when in debt ? i find that wh...   \n",
       "4      3450          4  down to my last number on credit card i am num...   \n",
       "...     ...        ...                                                ...   \n",
       "97853   162        670  you sick fuck reeeeeeeeeeeeeeeeeeeeeeeeeee thi...   \n",
       "97854   162        671  reeeeeeeeeeeeeeeeeeeeeeeeeee this is so clearl...   \n",
       "97855   162        672  this is so clearly satire ! i really do not wa...   \n",
       "97856   162        673  he can not write a story in number minutes pay...   \n",
       "97857   162        674                          pay your respekt people !   \n",
       "\n",
       "       Label  \n",
       "0          1  \n",
       "1          1  \n",
       "2          1  \n",
       "3          1  \n",
       "4          1  \n",
       "...      ...  \n",
       "97853      0  \n",
       "97854      0  \n",
       "97855      0  \n",
       "97856      0  \n",
       "97857      0  \n",
       "\n",
       "[97858 rows x 4 columns]"
      ]
     },
     "execution_count": 5,
     "metadata": {},
     "output_type": "execute_result"
    }
   ],
   "source": [
    "train_df = rolling_window(train_df,ROLLING_WINDOW_SIZE,1,'Lemmatized')\n",
    "test_df = rolling_window(test_df,ROLLING_WINDOW_SIZE,1,'Lemmatized')\n",
    "\n",
    "train_df"
   ]
  },
  {
   "cell_type": "code",
   "execution_count": 6,
   "metadata": {},
   "outputs": [
    {
     "data": {
      "text/html": [
       "<div>\n",
       "<style scoped>\n",
       "    .dataframe tbody tr th:only-of-type {\n",
       "        vertical-align: middle;\n",
       "    }\n",
       "\n",
       "    .dataframe tbody tr th {\n",
       "        vertical-align: top;\n",
       "    }\n",
       "\n",
       "    .dataframe thead th {\n",
       "        text-align: right;\n",
       "    }\n",
       "</style>\n",
       "<table border=\"1\" class=\"dataframe\">\n",
       "  <thead>\n",
       "    <tr style=\"text-align: right;\">\n",
       "      <th></th>\n",
       "      <th>User</th>\n",
       "      <th>Window_id</th>\n",
       "      <th>Text</th>\n",
       "      <th>Label</th>\n",
       "    </tr>\n",
       "  </thead>\n",
       "  <tbody>\n",
       "    <tr>\n",
       "      <th>0</th>\n",
       "      <td>6037</td>\n",
       "      <td>0</td>\n",
       "      <td>number with low self esteem . honest opinions ...</td>\n",
       "      <td>1</td>\n",
       "    </tr>\n",
       "    <tr>\n",
       "      <th>1</th>\n",
       "      <td>6037</td>\n",
       "      <td>1</td>\n",
       "      <td>i do not think you need to do anything to make...</td>\n",
       "      <td>1</td>\n",
       "    </tr>\n",
       "    <tr>\n",
       "      <th>2</th>\n",
       "      <td>6037</td>\n",
       "      <td>2</td>\n",
       "      <td>laughing out loud what is with those grandpa s...</td>\n",
       "      <td>1</td>\n",
       "    </tr>\n",
       "    <tr>\n",
       "      <th>3</th>\n",
       "      <td>6037</td>\n",
       "      <td>3</td>\n",
       "      <td>i think you are really good looking . i agree ...</td>\n",
       "      <td>1</td>\n",
       "    </tr>\n",
       "    <tr>\n",
       "      <th>4</th>\n",
       "      <td>6037</td>\n",
       "      <td>4</td>\n",
       "      <td>i have number tickets to the first night at ha...</td>\n",
       "      <td>1</td>\n",
       "    </tr>\n",
       "    <tr>\n",
       "      <th>...</th>\n",
       "      <td>...</td>\n",
       "      <td>...</td>\n",
       "      <td>...</td>\n",
       "      <td>...</td>\n",
       "    </tr>\n",
       "    <tr>\n",
       "      <th>22318</th>\n",
       "      <td>2517</td>\n",
       "      <td>59</td>\n",
       "      <td>who are you , who are so wise in the ways of s...</td>\n",
       "      <td>0</td>\n",
       "    </tr>\n",
       "    <tr>\n",
       "      <th>22319</th>\n",
       "      <td>2517</td>\n",
       "      <td>60</td>\n",
       "      <td>that would sad man , take my updoot f the tric...</td>\n",
       "      <td>0</td>\n",
       "    </tr>\n",
       "    <tr>\n",
       "      <th>22320</th>\n",
       "      <td>2517</td>\n",
       "      <td>61</td>\n",
       "      <td>f the trickster doctor</td>\n",
       "      <td>0</td>\n",
       "    </tr>\n",
       "    <tr>\n",
       "      <th>22321</th>\n",
       "      <td>2517</td>\n",
       "      <td>62</td>\n",
       "      <td>the trickster doctor</td>\n",
       "      <td>0</td>\n",
       "    </tr>\n",
       "    <tr>\n",
       "      <th>22322</th>\n",
       "      <td>2517</td>\n",
       "      <td>63</td>\n",
       "      <td>doctor</td>\n",
       "      <td>0</td>\n",
       "    </tr>\n",
       "  </tbody>\n",
       "</table>\n",
       "<p>22323 rows × 4 columns</p>\n",
       "</div>"
      ],
      "text/plain": [
       "       User  Window_id                                               Text  \\\n",
       "0      6037          0  number with low self esteem . honest opinions ...   \n",
       "1      6037          1  i do not think you need to do anything to make...   \n",
       "2      6037          2  laughing out loud what is with those grandpa s...   \n",
       "3      6037          3  i think you are really good looking . i agree ...   \n",
       "4      6037          4  i have number tickets to the first night at ha...   \n",
       "...     ...        ...                                                ...   \n",
       "22318  2517         59  who are you , who are so wise in the ways of s...   \n",
       "22319  2517         60  that would sad man , take my updoot f the tric...   \n",
       "22320  2517         61                             f the trickster doctor   \n",
       "22321  2517         62                               the trickster doctor   \n",
       "22322  2517         63                                             doctor   \n",
       "\n",
       "       Label  \n",
       "0          1  \n",
       "1          1  \n",
       "2          1  \n",
       "3          1  \n",
       "4          1  \n",
       "...      ...  \n",
       "22318      0  \n",
       "22319      0  \n",
       "22320      0  \n",
       "22321      0  \n",
       "22322      0  \n",
       "\n",
       "[22323 rows x 4 columns]"
      ]
     },
     "execution_count": 6,
     "metadata": {},
     "output_type": "execute_result"
    }
   ],
   "source": [
    "test_df"
   ]
  },
  {
   "cell_type": "code",
   "execution_count": 7,
   "metadata": {},
   "outputs": [],
   "source": [
    "train_df = pd.concat([train_df,test_df])"
   ]
  },
  {
   "cell_type": "code",
   "execution_count": 8,
   "metadata": {},
   "outputs": [],
   "source": [
    "    #test_df.drop(['VADER','TB'], inplace=True, axis=1)\n"
   ]
  },
  {
   "cell_type": "code",
   "execution_count": 9,
   "metadata": {},
   "outputs": [
    {
     "data": {
      "text/plain": [
       "\"\\nif sentiment:\\n    test_df['TB'] = test_df['Text'].apply(lambda text: TextBlob(text).sentiment)\\n    test_df['VADER'] = test_df['Text'].apply(lambda text: sia.polarity_scores(text))\\n    test_df['polarity'] = test_df['TB'].apply(lambda tb: tb[0])\\n    test_df['subjectivity'] = test_df['TB'].apply(lambda tb: tb[1])\\n    test_df['negativity'] = test_df['VADER'].apply(lambda v: v['neg'])\\n    test_df['positivity'] = test_df['VADER'].apply(lambda v: v['pos'])\\n    test_df['neutrality'] = test_df['VADER'].apply(lambda v: v['neu'])\\n    test_df['compound'] = test_df['VADER'].apply(lambda v: v['compound'])\\n\\n    test_df\\n\""
      ]
     },
     "execution_count": 9,
     "metadata": {},
     "output_type": "execute_result"
    }
   ],
   "source": [
    "\"\"\"\n",
    "if sentiment:\n",
    "    test_df['TB'] = test_df['Text'].apply(lambda text: TextBlob(text).sentiment)\n",
    "    test_df['VADER'] = test_df['Text'].apply(lambda text: sia.polarity_scores(text))\n",
    "    test_df['polarity'] = test_df['TB'].apply(lambda tb: tb[0])\n",
    "    test_df['subjectivity'] = test_df['TB'].apply(lambda tb: tb[1])\n",
    "    test_df['negativity'] = test_df['VADER'].apply(lambda v: v['neg'])\n",
    "    test_df['positivity'] = test_df['VADER'].apply(lambda v: v['pos'])\n",
    "    test_df['neutrality'] = test_df['VADER'].apply(lambda v: v['neu'])\n",
    "    test_df['compound'] = test_df['VADER'].apply(lambda v: v['compound'])\n",
    "\n",
    "    test_df\n",
    "\"\"\""
   ]
  },
  {
   "cell_type": "code",
   "execution_count": null,
   "metadata": {},
   "outputs": [],
   "source": []
  },
  {
   "cell_type": "code",
   "execution_count": 10,
   "metadata": {},
   "outputs": [],
   "source": [
    "\n",
    "train_df = train_df.sample(frac=1, random_state=seed).reset_index(drop=True) \n",
    "X_train = train_df['Text']\n"
   ]
  },
  {
   "cell_type": "markdown",
   "metadata": {},
   "source": [
    "### Since we are starting the actual training, here are some utility functions which we will use to save our trained models."
   ]
  },
  {
   "cell_type": "code",
   "execution_count": 11,
   "metadata": {},
   "outputs": [],
   "source": [
    "import pickle\n",
    "def save_model(model, name):\n",
    "    with open(f\"{MODEL_PATH}/{name}\",'wb') as f:\n",
    "        pickle.dump( model,f)"
   ]
  },
  {
   "cell_type": "markdown",
   "metadata": {},
   "source": [
    "### Here we select the stopwords to be considered when building the tf-idf matrix"
   ]
  },
  {
   "cell_type": "code",
   "execution_count": 12,
   "metadata": {},
   "outputs": [],
   "source": [
    "from nltk.corpus import stopwords\n",
    "nltk_stop_words = set(stopwords.words(\"english\"))\n",
    "import gensim\n",
    "gensim_stop_words = gensim.parsing.preprocessing.STOPWORDS"
   ]
  },
  {
   "cell_type": "code",
   "execution_count": 13,
   "metadata": {},
   "outputs": [
    {
     "data": {
      "text/plain": [
       "{'a',\n",
       " 'about',\n",
       " 'above',\n",
       " 'after',\n",
       " 'again',\n",
       " 'against',\n",
       " 'ain',\n",
       " 'all',\n",
       " 'am',\n",
       " 'an',\n",
       " 'and',\n",
       " 'any',\n",
       " 'are',\n",
       " 'aren',\n",
       " \"aren't\",\n",
       " 'as',\n",
       " 'at',\n",
       " 'be',\n",
       " 'because',\n",
       " 'been',\n",
       " 'before',\n",
       " 'being',\n",
       " 'below',\n",
       " 'between',\n",
       " 'both',\n",
       " 'but',\n",
       " 'by',\n",
       " 'can',\n",
       " 'couldn',\n",
       " \"couldn't\",\n",
       " 'd',\n",
       " 'did',\n",
       " 'didn',\n",
       " \"didn't\",\n",
       " 'do',\n",
       " 'does',\n",
       " 'doesn',\n",
       " \"doesn't\",\n",
       " 'doing',\n",
       " 'don',\n",
       " \"don't\",\n",
       " 'down',\n",
       " 'during',\n",
       " 'each',\n",
       " 'few',\n",
       " 'for',\n",
       " 'from',\n",
       " 'further',\n",
       " 'had',\n",
       " 'hadn',\n",
       " \"hadn't\",\n",
       " 'has',\n",
       " 'hasn',\n",
       " \"hasn't\",\n",
       " 'have',\n",
       " 'haven',\n",
       " \"haven't\",\n",
       " 'having',\n",
       " 'he',\n",
       " 'her',\n",
       " 'here',\n",
       " 'hers',\n",
       " 'herself',\n",
       " 'him',\n",
       " 'himself',\n",
       " 'his',\n",
       " 'how',\n",
       " 'i',\n",
       " 'if',\n",
       " 'in',\n",
       " 'into',\n",
       " 'is',\n",
       " 'isn',\n",
       " \"isn't\",\n",
       " 'it',\n",
       " \"it's\",\n",
       " 'its',\n",
       " 'itself',\n",
       " 'just',\n",
       " 'll',\n",
       " 'm',\n",
       " 'ma',\n",
       " 'me',\n",
       " 'mightn',\n",
       " \"mightn't\",\n",
       " 'more',\n",
       " 'most',\n",
       " 'mustn',\n",
       " \"mustn't\",\n",
       " 'my',\n",
       " 'myself',\n",
       " 'needn',\n",
       " \"needn't\",\n",
       " 'no',\n",
       " 'nor',\n",
       " 'not',\n",
       " 'now',\n",
       " 'o',\n",
       " 'of',\n",
       " 'off',\n",
       " 'on',\n",
       " 'once',\n",
       " 'only',\n",
       " 'or',\n",
       " 'other',\n",
       " 'our',\n",
       " 'ours',\n",
       " 'ourselves',\n",
       " 'out',\n",
       " 'over',\n",
       " 'own',\n",
       " 're',\n",
       " 's',\n",
       " 'same',\n",
       " 'shan',\n",
       " \"shan't\",\n",
       " 'she',\n",
       " \"she's\",\n",
       " 'should',\n",
       " \"should've\",\n",
       " 'shouldn',\n",
       " \"shouldn't\",\n",
       " 'so',\n",
       " 'some',\n",
       " 'such',\n",
       " 't',\n",
       " 'than',\n",
       " 'that',\n",
       " \"that'll\",\n",
       " 'the',\n",
       " 'their',\n",
       " 'theirs',\n",
       " 'them',\n",
       " 'themselves',\n",
       " 'then',\n",
       " 'there',\n",
       " 'these',\n",
       " 'they',\n",
       " 'this',\n",
       " 'those',\n",
       " 'through',\n",
       " 'to',\n",
       " 'too',\n",
       " 'under',\n",
       " 'until',\n",
       " 'up',\n",
       " 've',\n",
       " 'very',\n",
       " 'was',\n",
       " 'wasn',\n",
       " \"wasn't\",\n",
       " 'we',\n",
       " 'were',\n",
       " 'weren',\n",
       " \"weren't\",\n",
       " 'what',\n",
       " 'when',\n",
       " 'where',\n",
       " 'which',\n",
       " 'while',\n",
       " 'who',\n",
       " 'whom',\n",
       " 'why',\n",
       " 'will',\n",
       " 'with',\n",
       " 'won',\n",
       " \"won't\",\n",
       " 'wouldn',\n",
       " \"wouldn't\",\n",
       " 'y',\n",
       " 'you',\n",
       " \"you'd\",\n",
       " \"you'll\",\n",
       " \"you're\",\n",
       " \"you've\",\n",
       " 'your',\n",
       " 'yours',\n",
       " 'yourself',\n",
       " 'yourselves'}"
      ]
     },
     "execution_count": 13,
     "metadata": {},
     "output_type": "execute_result"
    }
   ],
   "source": [
    "nltk_stop_words"
   ]
  },
  {
   "cell_type": "code",
   "execution_count": 14,
   "metadata": {},
   "outputs": [
    {
     "data": {
      "text/plain": [
       "frozenset({'a',\n",
       "           'about',\n",
       "           'above',\n",
       "           'across',\n",
       "           'after',\n",
       "           'afterwards',\n",
       "           'again',\n",
       "           'against',\n",
       "           'all',\n",
       "           'almost',\n",
       "           'alone',\n",
       "           'along',\n",
       "           'already',\n",
       "           'also',\n",
       "           'although',\n",
       "           'always',\n",
       "           'am',\n",
       "           'among',\n",
       "           'amongst',\n",
       "           'amoungst',\n",
       "           'amount',\n",
       "           'an',\n",
       "           'and',\n",
       "           'another',\n",
       "           'any',\n",
       "           'anyhow',\n",
       "           'anyone',\n",
       "           'anything',\n",
       "           'anyway',\n",
       "           'anywhere',\n",
       "           'are',\n",
       "           'around',\n",
       "           'as',\n",
       "           'at',\n",
       "           'back',\n",
       "           'be',\n",
       "           'became',\n",
       "           'because',\n",
       "           'become',\n",
       "           'becomes',\n",
       "           'becoming',\n",
       "           'been',\n",
       "           'before',\n",
       "           'beforehand',\n",
       "           'behind',\n",
       "           'being',\n",
       "           'below',\n",
       "           'beside',\n",
       "           'besides',\n",
       "           'between',\n",
       "           'beyond',\n",
       "           'bill',\n",
       "           'both',\n",
       "           'bottom',\n",
       "           'but',\n",
       "           'by',\n",
       "           'call',\n",
       "           'can',\n",
       "           'cannot',\n",
       "           'cant',\n",
       "           'co',\n",
       "           'computer',\n",
       "           'con',\n",
       "           'could',\n",
       "           'couldnt',\n",
       "           'cry',\n",
       "           'de',\n",
       "           'describe',\n",
       "           'detail',\n",
       "           'did',\n",
       "           'didn',\n",
       "           'do',\n",
       "           'does',\n",
       "           'doesn',\n",
       "           'doing',\n",
       "           'don',\n",
       "           'done',\n",
       "           'down',\n",
       "           'due',\n",
       "           'during',\n",
       "           'each',\n",
       "           'eg',\n",
       "           'eight',\n",
       "           'either',\n",
       "           'eleven',\n",
       "           'else',\n",
       "           'elsewhere',\n",
       "           'empty',\n",
       "           'enough',\n",
       "           'etc',\n",
       "           'even',\n",
       "           'ever',\n",
       "           'every',\n",
       "           'everyone',\n",
       "           'everything',\n",
       "           'everywhere',\n",
       "           'except',\n",
       "           'few',\n",
       "           'fifteen',\n",
       "           'fifty',\n",
       "           'fill',\n",
       "           'find',\n",
       "           'fire',\n",
       "           'first',\n",
       "           'five',\n",
       "           'for',\n",
       "           'former',\n",
       "           'formerly',\n",
       "           'forty',\n",
       "           'found',\n",
       "           'four',\n",
       "           'from',\n",
       "           'front',\n",
       "           'full',\n",
       "           'further',\n",
       "           'get',\n",
       "           'give',\n",
       "           'go',\n",
       "           'had',\n",
       "           'has',\n",
       "           'hasnt',\n",
       "           'have',\n",
       "           'he',\n",
       "           'hence',\n",
       "           'her',\n",
       "           'here',\n",
       "           'hereafter',\n",
       "           'hereby',\n",
       "           'herein',\n",
       "           'hereupon',\n",
       "           'hers',\n",
       "           'herself',\n",
       "           'him',\n",
       "           'himself',\n",
       "           'his',\n",
       "           'how',\n",
       "           'however',\n",
       "           'hundred',\n",
       "           'i',\n",
       "           'ie',\n",
       "           'if',\n",
       "           'in',\n",
       "           'inc',\n",
       "           'indeed',\n",
       "           'interest',\n",
       "           'into',\n",
       "           'is',\n",
       "           'it',\n",
       "           'its',\n",
       "           'itself',\n",
       "           'just',\n",
       "           'keep',\n",
       "           'kg',\n",
       "           'km',\n",
       "           'last',\n",
       "           'latter',\n",
       "           'latterly',\n",
       "           'least',\n",
       "           'less',\n",
       "           'ltd',\n",
       "           'made',\n",
       "           'make',\n",
       "           'many',\n",
       "           'may',\n",
       "           'me',\n",
       "           'meanwhile',\n",
       "           'might',\n",
       "           'mill',\n",
       "           'mine',\n",
       "           'more',\n",
       "           'moreover',\n",
       "           'most',\n",
       "           'mostly',\n",
       "           'move',\n",
       "           'much',\n",
       "           'must',\n",
       "           'my',\n",
       "           'myself',\n",
       "           'name',\n",
       "           'namely',\n",
       "           'neither',\n",
       "           'never',\n",
       "           'nevertheless',\n",
       "           'next',\n",
       "           'nine',\n",
       "           'no',\n",
       "           'nobody',\n",
       "           'none',\n",
       "           'noone',\n",
       "           'nor',\n",
       "           'not',\n",
       "           'nothing',\n",
       "           'now',\n",
       "           'nowhere',\n",
       "           'of',\n",
       "           'off',\n",
       "           'often',\n",
       "           'on',\n",
       "           'once',\n",
       "           'one',\n",
       "           'only',\n",
       "           'onto',\n",
       "           'or',\n",
       "           'other',\n",
       "           'others',\n",
       "           'otherwise',\n",
       "           'our',\n",
       "           'ours',\n",
       "           'ourselves',\n",
       "           'out',\n",
       "           'over',\n",
       "           'own',\n",
       "           'part',\n",
       "           'per',\n",
       "           'perhaps',\n",
       "           'please',\n",
       "           'put',\n",
       "           'quite',\n",
       "           'rather',\n",
       "           're',\n",
       "           'really',\n",
       "           'regarding',\n",
       "           'same',\n",
       "           'say',\n",
       "           'see',\n",
       "           'seem',\n",
       "           'seemed',\n",
       "           'seeming',\n",
       "           'seems',\n",
       "           'serious',\n",
       "           'several',\n",
       "           'she',\n",
       "           'should',\n",
       "           'show',\n",
       "           'side',\n",
       "           'since',\n",
       "           'sincere',\n",
       "           'six',\n",
       "           'sixty',\n",
       "           'so',\n",
       "           'some',\n",
       "           'somehow',\n",
       "           'someone',\n",
       "           'something',\n",
       "           'sometime',\n",
       "           'sometimes',\n",
       "           'somewhere',\n",
       "           'still',\n",
       "           'such',\n",
       "           'system',\n",
       "           'take',\n",
       "           'ten',\n",
       "           'than',\n",
       "           'that',\n",
       "           'the',\n",
       "           'their',\n",
       "           'them',\n",
       "           'themselves',\n",
       "           'then',\n",
       "           'thence',\n",
       "           'there',\n",
       "           'thereafter',\n",
       "           'thereby',\n",
       "           'therefore',\n",
       "           'therein',\n",
       "           'thereupon',\n",
       "           'these',\n",
       "           'they',\n",
       "           'thick',\n",
       "           'thin',\n",
       "           'third',\n",
       "           'this',\n",
       "           'those',\n",
       "           'though',\n",
       "           'three',\n",
       "           'through',\n",
       "           'throughout',\n",
       "           'thru',\n",
       "           'thus',\n",
       "           'to',\n",
       "           'together',\n",
       "           'too',\n",
       "           'top',\n",
       "           'toward',\n",
       "           'towards',\n",
       "           'twelve',\n",
       "           'twenty',\n",
       "           'two',\n",
       "           'un',\n",
       "           'under',\n",
       "           'unless',\n",
       "           'until',\n",
       "           'up',\n",
       "           'upon',\n",
       "           'us',\n",
       "           'used',\n",
       "           'using',\n",
       "           'various',\n",
       "           'very',\n",
       "           'via',\n",
       "           'was',\n",
       "           'we',\n",
       "           'well',\n",
       "           'were',\n",
       "           'what',\n",
       "           'whatever',\n",
       "           'when',\n",
       "           'whence',\n",
       "           'whenever',\n",
       "           'where',\n",
       "           'whereafter',\n",
       "           'whereas',\n",
       "           'whereby',\n",
       "           'wherein',\n",
       "           'whereupon',\n",
       "           'wherever',\n",
       "           'whether',\n",
       "           'which',\n",
       "           'while',\n",
       "           'whither',\n",
       "           'who',\n",
       "           'whoever',\n",
       "           'whole',\n",
       "           'whom',\n",
       "           'whose',\n",
       "           'why',\n",
       "           'will',\n",
       "           'with',\n",
       "           'within',\n",
       "           'without',\n",
       "           'would',\n",
       "           'yet',\n",
       "           'you',\n",
       "           'your',\n",
       "           'yours',\n",
       "           'yourself',\n",
       "           'yourselves'})"
      ]
     },
     "execution_count": 14,
     "metadata": {},
     "output_type": "execute_result"
    }
   ],
   "source": [
    "gensim_stop_words"
   ]
  },
  {
   "cell_type": "markdown",
   "metadata": {},
   "source": [
    "### Before moving on to the model section, we will assess which parameters to use in the tfidfvectorizer by performing grid search (since it is a fast process with a Naive Bayes algorithm as the final classifier)"
   ]
  },
  {
   "cell_type": "code",
   "execution_count": 15,
   "metadata": {},
   "outputs": [
    {
     "data": {
      "text/plain": [
       "\"\\nparameters = {\\n    'max_features':[5000,7500,10000,12500,15000],\\n    'max_df': [0.25,0.5,0.75,1.0],\\n    'stop_words':['english',nltk_stop_words,gensim_stop_words],\\n    'ngram_range':[(1,1),(1,2)]\\n}\\n\\n\""
      ]
     },
     "execution_count": 15,
     "metadata": {},
     "output_type": "execute_result"
    }
   ],
   "source": [
    "from sklearn.feature_extraction.text import TfidfVectorizer\n",
    "from sklearn.naive_bayes import MultinomialNB\n",
    "from sklearn.pipeline import Pipeline\n",
    "from sklearn.model_selection import RandomizedSearchCV,GridSearchCV\n",
    "#from scipy.stats import uniform,  randint\n",
    "\"\"\"\n",
    "parameters = {\n",
    "    'max_features':[5000,7500,10000,12500,15000],\n",
    "    'max_df': [0.25,0.5,0.75,1.0],\n",
    "    'stop_words':['english',nltk_stop_words,gensim_stop_words],\n",
    "    'ngram_range':[(1,1),(1,2)]\n",
    "}\n",
    "\n",
    "\"\"\"\n",
    "\n"
   ]
  },
  {
   "cell_type": "code",
   "execution_count": 16,
   "metadata": {},
   "outputs": [],
   "source": [
    "from sklearn.model_selection import StratifiedKFold\n",
    "from sklearn.metrics import f1_score\n",
    "\n",
    "def tune_vectorizer(df,params, n_folds=5):\n",
    "    skf = StratifiedKFold(n_splits=n_folds)\n",
    "    user_label_df =df.drop_duplicates('User')\n",
    "    users = user_label_df['User'].to_numpy()\n",
    "    \n",
    "    labels = user_label_df['Label'].to_numpy()\n",
    "    #print(labels)\n",
    "    #print(users.shape,labels.shape)\n",
    "    model = MultinomialNB()\n",
    "    f1_scores = []\n",
    "    for train_index, test_index in skf.split(users, labels):\n",
    "        transformer = TfidfVectorizer(**params)\n",
    "        train_users = [users[f] for f in train_index]\n",
    "        test_users = [users[f] for f in test_index]\n",
    "\n",
    "        train_folds = df[df['User'].isin(train_users)]\n",
    "        X_train = transformer.fit_transform(train_folds['Text'])\n",
    "        test_folds = df[df['User'].isin(test_users)]\n",
    "        X_test = transformer.transform(test_folds['Text'])\n",
    "       \n",
    "\n",
    "        \n",
    "        \n",
    "        model.fit(X_train, train_folds['Label'])\n",
    "        f1_scores.append(f1_score(test_folds['Label'],model.predict(X_test)))\n",
    "\n",
    "    return f1_scores"
   ]
  },
  {
   "cell_type": "code",
   "execution_count": 17,
   "metadata": {},
   "outputs": [],
   "source": [
    "sw_lists = {'english':'english','nltk_stop_words':nltk_stop_words,'gensim_stop_words':gensim_stop_words}"
   ]
  },
  {
   "cell_type": "code",
   "execution_count": 18,
   "metadata": {},
   "outputs": [],
   "source": [
    "def objective(trial):\n",
    "    parameters = {\n",
    "        'max_features':trial.suggest_int('max_features',1000,15000,step=1000),\n",
    "        'max_df': trial.suggest_float('max_df',0.20,1.0,step=0.05),\n",
    "        'stop_words':trial.suggest_categorical('stop_words',['english','nltk_stop_words','gensim_stop_words']),\n",
    "        'ngram_range':trial.suggest_int('ngram_range',1,3),\n",
    "        'sublinear_tf':trial.suggest_int('sublinear_tf',0,1)\n",
    "        \n",
    "        \n",
    "    }\n",
    "    \n",
    "  \n",
    "    \n",
    "    avg_f1 = train_eval(trial,parameters,5,train_df)\n",
    "    return np.mean(avg_f1)"
   ]
  },
  {
   "cell_type": "code",
   "execution_count": 19,
   "metadata": {},
   "outputs": [],
   "source": [
    "from tqdm import tqdm\n",
    "from sklearn.metrics import f1_score\n",
    "\n",
    "def train_eval(trial,params, n_folds, df):\n",
    "\n",
    "    skf = StratifiedKFold(n_splits=n_folds)\n",
    "    user_label_df =df.drop_duplicates('User')\n",
    "    users = user_label_df['User'].to_numpy()\n",
    "    \n",
    "    labels = user_label_df['Label'].to_numpy()\n",
    "\n",
    "    #format the vectorizer can accept\n",
    "    params['stop_words'] = sw_lists[params['stop_words']]\n",
    "    params['ngram_range'] = (1,params['ngram_range'])\n",
    "    \n",
    "    f1_scores = []\n",
    "    for fold,(train_index, test_index) in enumerate(skf.split(users, labels)):\n",
    "        transformer = TfidfVectorizer(**params)\n",
    "        train_users = [users[f] for f in train_index]\n",
    "        test_users = [users[f] for f in test_index]\n",
    "\n",
    "        train_folds = df[df['User'].isin(train_users)]\n",
    "        X_train = transformer.fit_transform(train_folds['Text'])\n",
    "        test_folds = df[df['User'].isin(test_users)]\n",
    "        X_test = transformer.transform(test_folds['Text'])\n",
    "    \n",
    "        model = MultinomialNB()\n",
    "        model.fit(X_train, train_folds['Label'])\n",
    "        f1_scores.append(f1_score(test_folds['Label'],model.predict(X_test)))\n",
    "    \n",
    "        trial.report(np.mean(f1_scores), fold)\n",
    "\n",
    "        if trial.should_prune():\n",
    "            raise optuna.exceptions.TrialPruned()\n",
    "\n",
    "    return f1_scores\n"
   ]
  },
  {
   "cell_type": "code",
   "execution_count": 20,
   "metadata": {},
   "outputs": [],
   "source": [
    "import optuna\n",
    "import joblib\n",
    "if not TF_IDF_FOUND:\n",
    "    study = optuna.create_study(\n",
    "        study_name=f\"t{TASK}_tfidfvec_{ROLLING_WINDOW_SIZE}\", storage=f\"mysql://root@localhost:3306/t{TASK}_tfidfvec_{ROLLING_WINDOW_SIZE}\",\n",
    "        load_if_exists=True, direction='maximize')\n",
    "    joblib.dump(study,f\"t{TASK}_tfidfvec_{ROLLING_WINDOW_SIZE}\")\n",
    "    #study = optuna.create_study(study_name=f\"tfidfvectorizer_cv_{ROLLING_WINDOW_SIZE}\",direction=\"maximize\", sampler=optuna.samplers.TPESampler(), pruner=optuna.pruners.NopPruner())\n",
    "    #study.optimize(objective, n_trials=30, timeout=(60*60*24))\n",
    "else:\n",
    "    study = joblib.load(f\"study_cv_tfidfvectorizer_{ROLLING_WINDOW_SIZE}.pkl\")"
   ]
  },
  {
   "cell_type": "code",
   "execution_count": null,
   "metadata": {},
   "outputs": [],
   "source": []
  },
  {
   "cell_type": "code",
   "execution_count": 21,
   "metadata": {},
   "outputs": [
    {
     "name": "stdout",
     "output_type": "stream",
     "text": [
      "Best trial until now:\n",
      " Value:  0.820679\n",
      " Params: \n",
      "    max_df: 0.6\n",
      "    max_features: 15000\n",
      "    ngram_range: 2\n",
      "    stop_words: nltk_stop_words\n",
      "    sublinear_tf: 1\n"
     ]
    }
   ],
   "source": [
    "\n",
    "#study = joblib.load(\"study.pkl\")\n",
    "print(\"Best trial until now:\")\n",
    "print(\" Value: \", study.best_trial.value)\n",
    "print(\" Params: \")\n",
    "for key, value in study.best_trial.params.items():\n",
    "    print(f\"    {key}: {value}\")\n"
   ]
  },
  {
   "cell_type": "code",
   "execution_count": 22,
   "metadata": {},
   "outputs": [
    {
     "data": {
      "application/vnd.plotly.v1+json": {
       "config": {
        "plotlyServerURL": "https://plot.ly"
       },
       "data": [
        {
         "cliponaxis": false,
         "hovertemplate": [
          "sublinear_tf (IntUniformDistribution): 0.0<extra></extra>",
          "max_df (DiscreteUniformDistribution): 0.09140770025683227<extra></extra>",
          "ngram_range (IntUniformDistribution): 0.12977193012342964<extra></extra>",
          "stop_words (CategoricalDistribution): 0.17087925386004252<extra></extra>",
          "max_features (IntUniformDistribution): 0.6079411157596957<extra></extra>"
         ],
         "marker": {
          "color": "rgb(66,146,198)"
         },
         "orientation": "h",
         "text": [
          "0.0",
          "0.09140770025683227",
          "0.12977193012342964",
          "0.17087925386004252",
          "0.6079411157596957"
         ],
         "textposition": "outside",
         "texttemplate": "%{text:.2f}",
         "type": "bar",
         "x": [
          0,
          0.09140770025683227,
          0.12977193012342964,
          0.17087925386004252,
          0.6079411157596957
         ],
         "y": [
          "sublinear_tf",
          "max_df",
          "ngram_range",
          "stop_words",
          "max_features"
         ]
        }
       ],
       "layout": {
        "showlegend": false,
        "template": {
         "data": {
          "bar": [
           {
            "error_x": {
             "color": "#2a3f5f"
            },
            "error_y": {
             "color": "#2a3f5f"
            },
            "marker": {
             "line": {
              "color": "#E5ECF6",
              "width": 0.5
             },
             "pattern": {
              "fillmode": "overlay",
              "size": 10,
              "solidity": 0.2
             }
            },
            "type": "bar"
           }
          ],
          "barpolar": [
           {
            "marker": {
             "line": {
              "color": "#E5ECF6",
              "width": 0.5
             },
             "pattern": {
              "fillmode": "overlay",
              "size": 10,
              "solidity": 0.2
             }
            },
            "type": "barpolar"
           }
          ],
          "carpet": [
           {
            "aaxis": {
             "endlinecolor": "#2a3f5f",
             "gridcolor": "white",
             "linecolor": "white",
             "minorgridcolor": "white",
             "startlinecolor": "#2a3f5f"
            },
            "baxis": {
             "endlinecolor": "#2a3f5f",
             "gridcolor": "white",
             "linecolor": "white",
             "minorgridcolor": "white",
             "startlinecolor": "#2a3f5f"
            },
            "type": "carpet"
           }
          ],
          "choropleth": [
           {
            "colorbar": {
             "outlinewidth": 0,
             "ticks": ""
            },
            "type": "choropleth"
           }
          ],
          "contour": [
           {
            "colorbar": {
             "outlinewidth": 0,
             "ticks": ""
            },
            "colorscale": [
             [
              0,
              "#0d0887"
             ],
             [
              0.1111111111111111,
              "#46039f"
             ],
             [
              0.2222222222222222,
              "#7201a8"
             ],
             [
              0.3333333333333333,
              "#9c179e"
             ],
             [
              0.4444444444444444,
              "#bd3786"
             ],
             [
              0.5555555555555556,
              "#d8576b"
             ],
             [
              0.6666666666666666,
              "#ed7953"
             ],
             [
              0.7777777777777778,
              "#fb9f3a"
             ],
             [
              0.8888888888888888,
              "#fdca26"
             ],
             [
              1,
              "#f0f921"
             ]
            ],
            "type": "contour"
           }
          ],
          "contourcarpet": [
           {
            "colorbar": {
             "outlinewidth": 0,
             "ticks": ""
            },
            "type": "contourcarpet"
           }
          ],
          "heatmap": [
           {
            "colorbar": {
             "outlinewidth": 0,
             "ticks": ""
            },
            "colorscale": [
             [
              0,
              "#0d0887"
             ],
             [
              0.1111111111111111,
              "#46039f"
             ],
             [
              0.2222222222222222,
              "#7201a8"
             ],
             [
              0.3333333333333333,
              "#9c179e"
             ],
             [
              0.4444444444444444,
              "#bd3786"
             ],
             [
              0.5555555555555556,
              "#d8576b"
             ],
             [
              0.6666666666666666,
              "#ed7953"
             ],
             [
              0.7777777777777778,
              "#fb9f3a"
             ],
             [
              0.8888888888888888,
              "#fdca26"
             ],
             [
              1,
              "#f0f921"
             ]
            ],
            "type": "heatmap"
           }
          ],
          "heatmapgl": [
           {
            "colorbar": {
             "outlinewidth": 0,
             "ticks": ""
            },
            "colorscale": [
             [
              0,
              "#0d0887"
             ],
             [
              0.1111111111111111,
              "#46039f"
             ],
             [
              0.2222222222222222,
              "#7201a8"
             ],
             [
              0.3333333333333333,
              "#9c179e"
             ],
             [
              0.4444444444444444,
              "#bd3786"
             ],
             [
              0.5555555555555556,
              "#d8576b"
             ],
             [
              0.6666666666666666,
              "#ed7953"
             ],
             [
              0.7777777777777778,
              "#fb9f3a"
             ],
             [
              0.8888888888888888,
              "#fdca26"
             ],
             [
              1,
              "#f0f921"
             ]
            ],
            "type": "heatmapgl"
           }
          ],
          "histogram": [
           {
            "marker": {
             "pattern": {
              "fillmode": "overlay",
              "size": 10,
              "solidity": 0.2
             }
            },
            "type": "histogram"
           }
          ],
          "histogram2d": [
           {
            "colorbar": {
             "outlinewidth": 0,
             "ticks": ""
            },
            "colorscale": [
             [
              0,
              "#0d0887"
             ],
             [
              0.1111111111111111,
              "#46039f"
             ],
             [
              0.2222222222222222,
              "#7201a8"
             ],
             [
              0.3333333333333333,
              "#9c179e"
             ],
             [
              0.4444444444444444,
              "#bd3786"
             ],
             [
              0.5555555555555556,
              "#d8576b"
             ],
             [
              0.6666666666666666,
              "#ed7953"
             ],
             [
              0.7777777777777778,
              "#fb9f3a"
             ],
             [
              0.8888888888888888,
              "#fdca26"
             ],
             [
              1,
              "#f0f921"
             ]
            ],
            "type": "histogram2d"
           }
          ],
          "histogram2dcontour": [
           {
            "colorbar": {
             "outlinewidth": 0,
             "ticks": ""
            },
            "colorscale": [
             [
              0,
              "#0d0887"
             ],
             [
              0.1111111111111111,
              "#46039f"
             ],
             [
              0.2222222222222222,
              "#7201a8"
             ],
             [
              0.3333333333333333,
              "#9c179e"
             ],
             [
              0.4444444444444444,
              "#bd3786"
             ],
             [
              0.5555555555555556,
              "#d8576b"
             ],
             [
              0.6666666666666666,
              "#ed7953"
             ],
             [
              0.7777777777777778,
              "#fb9f3a"
             ],
             [
              0.8888888888888888,
              "#fdca26"
             ],
             [
              1,
              "#f0f921"
             ]
            ],
            "type": "histogram2dcontour"
           }
          ],
          "mesh3d": [
           {
            "colorbar": {
             "outlinewidth": 0,
             "ticks": ""
            },
            "type": "mesh3d"
           }
          ],
          "parcoords": [
           {
            "line": {
             "colorbar": {
              "outlinewidth": 0,
              "ticks": ""
             }
            },
            "type": "parcoords"
           }
          ],
          "pie": [
           {
            "automargin": true,
            "type": "pie"
           }
          ],
          "scatter": [
           {
            "fillpattern": {
             "fillmode": "overlay",
             "size": 10,
             "solidity": 0.2
            },
            "type": "scatter"
           }
          ],
          "scatter3d": [
           {
            "line": {
             "colorbar": {
              "outlinewidth": 0,
              "ticks": ""
             }
            },
            "marker": {
             "colorbar": {
              "outlinewidth": 0,
              "ticks": ""
             }
            },
            "type": "scatter3d"
           }
          ],
          "scattercarpet": [
           {
            "marker": {
             "colorbar": {
              "outlinewidth": 0,
              "ticks": ""
             }
            },
            "type": "scattercarpet"
           }
          ],
          "scattergeo": [
           {
            "marker": {
             "colorbar": {
              "outlinewidth": 0,
              "ticks": ""
             }
            },
            "type": "scattergeo"
           }
          ],
          "scattergl": [
           {
            "marker": {
             "colorbar": {
              "outlinewidth": 0,
              "ticks": ""
             }
            },
            "type": "scattergl"
           }
          ],
          "scattermapbox": [
           {
            "marker": {
             "colorbar": {
              "outlinewidth": 0,
              "ticks": ""
             }
            },
            "type": "scattermapbox"
           }
          ],
          "scatterpolar": [
           {
            "marker": {
             "colorbar": {
              "outlinewidth": 0,
              "ticks": ""
             }
            },
            "type": "scatterpolar"
           }
          ],
          "scatterpolargl": [
           {
            "marker": {
             "colorbar": {
              "outlinewidth": 0,
              "ticks": ""
             }
            },
            "type": "scatterpolargl"
           }
          ],
          "scatterternary": [
           {
            "marker": {
             "colorbar": {
              "outlinewidth": 0,
              "ticks": ""
             }
            },
            "type": "scatterternary"
           }
          ],
          "surface": [
           {
            "colorbar": {
             "outlinewidth": 0,
             "ticks": ""
            },
            "colorscale": [
             [
              0,
              "#0d0887"
             ],
             [
              0.1111111111111111,
              "#46039f"
             ],
             [
              0.2222222222222222,
              "#7201a8"
             ],
             [
              0.3333333333333333,
              "#9c179e"
             ],
             [
              0.4444444444444444,
              "#bd3786"
             ],
             [
              0.5555555555555556,
              "#d8576b"
             ],
             [
              0.6666666666666666,
              "#ed7953"
             ],
             [
              0.7777777777777778,
              "#fb9f3a"
             ],
             [
              0.8888888888888888,
              "#fdca26"
             ],
             [
              1,
              "#f0f921"
             ]
            ],
            "type": "surface"
           }
          ],
          "table": [
           {
            "cells": {
             "fill": {
              "color": "#EBF0F8"
             },
             "line": {
              "color": "white"
             }
            },
            "header": {
             "fill": {
              "color": "#C8D4E3"
             },
             "line": {
              "color": "white"
             }
            },
            "type": "table"
           }
          ]
         },
         "layout": {
          "annotationdefaults": {
           "arrowcolor": "#2a3f5f",
           "arrowhead": 0,
           "arrowwidth": 1
          },
          "autotypenumbers": "strict",
          "coloraxis": {
           "colorbar": {
            "outlinewidth": 0,
            "ticks": ""
           }
          },
          "colorscale": {
           "diverging": [
            [
             0,
             "#8e0152"
            ],
            [
             0.1,
             "#c51b7d"
            ],
            [
             0.2,
             "#de77ae"
            ],
            [
             0.3,
             "#f1b6da"
            ],
            [
             0.4,
             "#fde0ef"
            ],
            [
             0.5,
             "#f7f7f7"
            ],
            [
             0.6,
             "#e6f5d0"
            ],
            [
             0.7,
             "#b8e186"
            ],
            [
             0.8,
             "#7fbc41"
            ],
            [
             0.9,
             "#4d9221"
            ],
            [
             1,
             "#276419"
            ]
           ],
           "sequential": [
            [
             0,
             "#0d0887"
            ],
            [
             0.1111111111111111,
             "#46039f"
            ],
            [
             0.2222222222222222,
             "#7201a8"
            ],
            [
             0.3333333333333333,
             "#9c179e"
            ],
            [
             0.4444444444444444,
             "#bd3786"
            ],
            [
             0.5555555555555556,
             "#d8576b"
            ],
            [
             0.6666666666666666,
             "#ed7953"
            ],
            [
             0.7777777777777778,
             "#fb9f3a"
            ],
            [
             0.8888888888888888,
             "#fdca26"
            ],
            [
             1,
             "#f0f921"
            ]
           ],
           "sequentialminus": [
            [
             0,
             "#0d0887"
            ],
            [
             0.1111111111111111,
             "#46039f"
            ],
            [
             0.2222222222222222,
             "#7201a8"
            ],
            [
             0.3333333333333333,
             "#9c179e"
            ],
            [
             0.4444444444444444,
             "#bd3786"
            ],
            [
             0.5555555555555556,
             "#d8576b"
            ],
            [
             0.6666666666666666,
             "#ed7953"
            ],
            [
             0.7777777777777778,
             "#fb9f3a"
            ],
            [
             0.8888888888888888,
             "#fdca26"
            ],
            [
             1,
             "#f0f921"
            ]
           ]
          },
          "colorway": [
           "#636efa",
           "#EF553B",
           "#00cc96",
           "#ab63fa",
           "#FFA15A",
           "#19d3f3",
           "#FF6692",
           "#B6E880",
           "#FF97FF",
           "#FECB52"
          ],
          "font": {
           "color": "#2a3f5f"
          },
          "geo": {
           "bgcolor": "white",
           "lakecolor": "white",
           "landcolor": "#E5ECF6",
           "showlakes": true,
           "showland": true,
           "subunitcolor": "white"
          },
          "hoverlabel": {
           "align": "left"
          },
          "hovermode": "closest",
          "mapbox": {
           "style": "light"
          },
          "paper_bgcolor": "white",
          "plot_bgcolor": "#E5ECF6",
          "polar": {
           "angularaxis": {
            "gridcolor": "white",
            "linecolor": "white",
            "ticks": ""
           },
           "bgcolor": "#E5ECF6",
           "radialaxis": {
            "gridcolor": "white",
            "linecolor": "white",
            "ticks": ""
           }
          },
          "scene": {
           "xaxis": {
            "backgroundcolor": "#E5ECF6",
            "gridcolor": "white",
            "gridwidth": 2,
            "linecolor": "white",
            "showbackground": true,
            "ticks": "",
            "zerolinecolor": "white"
           },
           "yaxis": {
            "backgroundcolor": "#E5ECF6",
            "gridcolor": "white",
            "gridwidth": 2,
            "linecolor": "white",
            "showbackground": true,
            "ticks": "",
            "zerolinecolor": "white"
           },
           "zaxis": {
            "backgroundcolor": "#E5ECF6",
            "gridcolor": "white",
            "gridwidth": 2,
            "linecolor": "white",
            "showbackground": true,
            "ticks": "",
            "zerolinecolor": "white"
           }
          },
          "shapedefaults": {
           "line": {
            "color": "#2a3f5f"
           }
          },
          "ternary": {
           "aaxis": {
            "gridcolor": "white",
            "linecolor": "white",
            "ticks": ""
           },
           "baxis": {
            "gridcolor": "white",
            "linecolor": "white",
            "ticks": ""
           },
           "bgcolor": "#E5ECF6",
           "caxis": {
            "gridcolor": "white",
            "linecolor": "white",
            "ticks": ""
           }
          },
          "title": {
           "x": 0.05
          },
          "xaxis": {
           "automargin": true,
           "gridcolor": "white",
           "linecolor": "white",
           "ticks": "",
           "title": {
            "standoff": 15
           },
           "zerolinecolor": "white",
           "zerolinewidth": 2
          },
          "yaxis": {
           "automargin": true,
           "gridcolor": "white",
           "linecolor": "white",
           "ticks": "",
           "title": {
            "standoff": 15
           },
           "zerolinecolor": "white",
           "zerolinewidth": 2
          }
         }
        },
        "title": {
         "text": "Hyperparameter Importances"
        },
        "xaxis": {
         "title": {
          "text": "Importance for Objective Value"
         }
        },
        "yaxis": {
         "title": {
          "text": "Hyperparameter"
         }
        }
       }
      }
     },
     "metadata": {},
     "output_type": "display_data"
    }
   ],
   "source": [
    "fig = optuna.visualization.plot_param_importances(study)\n",
    "fig.write_image(f\"tfidf_feature_importance_{ROLLING_WINDOW_SIZE}.png\")\n",
    "fig.show()"
   ]
  },
  {
   "cell_type": "code",
   "execution_count": 23,
   "metadata": {},
   "outputs": [
    {
     "data": {
      "application/vnd.plotly.v1+json": {
       "config": {
        "plotlyServerURL": "https://plot.ly"
       },
       "data": [
        {
         "dimensions": [
          {
           "label": "Objective Value",
           "range": [
            0.807703,
            0.820679
           ],
           "values": [
            0.817554,
            0.815128,
            0.807703,
            0.811412,
            0.817985,
            0.820679,
            0.820362,
            0.820282,
            0.820091,
            0.819727,
            0.82004,
            0.82004,
            0.819962,
            0.820679,
            0.820517,
            0.820679,
            0.820517,
            0.820679,
            0.820679,
            0.820679,
            0.820679
           ]
          },
          {
           "label": "max_df",
           "range": [
            0.3,
            0.95
           ],
           "values": [
            0.85,
            0.6,
            0.95,
            0.8,
            0.55,
            0.6,
            0.45,
            0.45,
            0.4,
            0.3,
            0.5,
            0.5,
            0.55,
            0.6,
            0.4,
            0.65,
            0.4,
            0.6,
            0.6,
            0.6,
            0.6
           ]
          },
          {
           "label": "max_features",
           "range": [
            6000,
            15000
           ],
           "values": [
            15000,
            11000,
            6000,
            10000,
            12000,
            15000,
            15000,
            13000,
            14000,
            13000,
            13000,
            13000,
            14000,
            15000,
            15000,
            15000,
            15000,
            15000,
            15000,
            15000,
            15000
           ]
          },
          {
           "label": "ngram_range",
           "range": [
            1,
            3
           ],
           "values": [
            2,
            3,
            1,
            3,
            3,
            2,
            2,
            2,
            2,
            2,
            2,
            2,
            2,
            2,
            2,
            2,
            2,
            2,
            2,
            2,
            2
           ]
          },
          {
           "label": "stop_words",
           "range": [
            0,
            1
           ],
           "ticktext": [
            "english",
            "nltk_stop_words"
           ],
           "tickvals": [
            0,
            1
           ],
           "values": [
            0,
            1,
            0,
            0,
            1,
            1,
            1,
            1,
            1,
            1,
            1,
            1,
            1,
            1,
            1,
            1,
            1,
            1,
            1,
            1,
            1
           ]
          },
          {
           "label": "sublinear_tf",
           "range": [
            1,
            1
           ],
           "values": [
            1,
            1,
            1,
            1,
            1,
            1,
            1,
            1,
            1,
            1,
            1,
            1,
            1,
            1,
            1,
            1,
            1,
            1,
            1,
            1,
            1
           ]
          }
         ],
         "labelangle": 30,
         "labelside": "bottom",
         "line": {
          "color": [
           0.817554,
           0.815128,
           0.807703,
           0.811412,
           0.817985,
           0.820679,
           0.820362,
           0.820282,
           0.820091,
           0.819727,
           0.82004,
           0.82004,
           0.819962,
           0.820679,
           0.820517,
           0.820679,
           0.820517,
           0.820679,
           0.820679,
           0.820679,
           0.820679
          ],
          "colorbar": {
           "title": {
            "text": "Objective Value"
           }
          },
          "colorscale": [
           [
            0,
            "rgb(247,251,255)"
           ],
           [
            0.125,
            "rgb(222,235,247)"
           ],
           [
            0.25,
            "rgb(198,219,239)"
           ],
           [
            0.375,
            "rgb(158,202,225)"
           ],
           [
            0.5,
            "rgb(107,174,214)"
           ],
           [
            0.625,
            "rgb(66,146,198)"
           ],
           [
            0.75,
            "rgb(33,113,181)"
           ],
           [
            0.875,
            "rgb(8,81,156)"
           ],
           [
            1,
            "rgb(8,48,107)"
           ]
          ],
          "reversescale": false,
          "showscale": true
         },
         "type": "parcoords"
        }
       ],
       "layout": {
        "template": {
         "data": {
          "bar": [
           {
            "error_x": {
             "color": "#2a3f5f"
            },
            "error_y": {
             "color": "#2a3f5f"
            },
            "marker": {
             "line": {
              "color": "#E5ECF6",
              "width": 0.5
             },
             "pattern": {
              "fillmode": "overlay",
              "size": 10,
              "solidity": 0.2
             }
            },
            "type": "bar"
           }
          ],
          "barpolar": [
           {
            "marker": {
             "line": {
              "color": "#E5ECF6",
              "width": 0.5
             },
             "pattern": {
              "fillmode": "overlay",
              "size": 10,
              "solidity": 0.2
             }
            },
            "type": "barpolar"
           }
          ],
          "carpet": [
           {
            "aaxis": {
             "endlinecolor": "#2a3f5f",
             "gridcolor": "white",
             "linecolor": "white",
             "minorgridcolor": "white",
             "startlinecolor": "#2a3f5f"
            },
            "baxis": {
             "endlinecolor": "#2a3f5f",
             "gridcolor": "white",
             "linecolor": "white",
             "minorgridcolor": "white",
             "startlinecolor": "#2a3f5f"
            },
            "type": "carpet"
           }
          ],
          "choropleth": [
           {
            "colorbar": {
             "outlinewidth": 0,
             "ticks": ""
            },
            "type": "choropleth"
           }
          ],
          "contour": [
           {
            "colorbar": {
             "outlinewidth": 0,
             "ticks": ""
            },
            "colorscale": [
             [
              0,
              "#0d0887"
             ],
             [
              0.1111111111111111,
              "#46039f"
             ],
             [
              0.2222222222222222,
              "#7201a8"
             ],
             [
              0.3333333333333333,
              "#9c179e"
             ],
             [
              0.4444444444444444,
              "#bd3786"
             ],
             [
              0.5555555555555556,
              "#d8576b"
             ],
             [
              0.6666666666666666,
              "#ed7953"
             ],
             [
              0.7777777777777778,
              "#fb9f3a"
             ],
             [
              0.8888888888888888,
              "#fdca26"
             ],
             [
              1,
              "#f0f921"
             ]
            ],
            "type": "contour"
           }
          ],
          "contourcarpet": [
           {
            "colorbar": {
             "outlinewidth": 0,
             "ticks": ""
            },
            "type": "contourcarpet"
           }
          ],
          "heatmap": [
           {
            "colorbar": {
             "outlinewidth": 0,
             "ticks": ""
            },
            "colorscale": [
             [
              0,
              "#0d0887"
             ],
             [
              0.1111111111111111,
              "#46039f"
             ],
             [
              0.2222222222222222,
              "#7201a8"
             ],
             [
              0.3333333333333333,
              "#9c179e"
             ],
             [
              0.4444444444444444,
              "#bd3786"
             ],
             [
              0.5555555555555556,
              "#d8576b"
             ],
             [
              0.6666666666666666,
              "#ed7953"
             ],
             [
              0.7777777777777778,
              "#fb9f3a"
             ],
             [
              0.8888888888888888,
              "#fdca26"
             ],
             [
              1,
              "#f0f921"
             ]
            ],
            "type": "heatmap"
           }
          ],
          "heatmapgl": [
           {
            "colorbar": {
             "outlinewidth": 0,
             "ticks": ""
            },
            "colorscale": [
             [
              0,
              "#0d0887"
             ],
             [
              0.1111111111111111,
              "#46039f"
             ],
             [
              0.2222222222222222,
              "#7201a8"
             ],
             [
              0.3333333333333333,
              "#9c179e"
             ],
             [
              0.4444444444444444,
              "#bd3786"
             ],
             [
              0.5555555555555556,
              "#d8576b"
             ],
             [
              0.6666666666666666,
              "#ed7953"
             ],
             [
              0.7777777777777778,
              "#fb9f3a"
             ],
             [
              0.8888888888888888,
              "#fdca26"
             ],
             [
              1,
              "#f0f921"
             ]
            ],
            "type": "heatmapgl"
           }
          ],
          "histogram": [
           {
            "marker": {
             "pattern": {
              "fillmode": "overlay",
              "size": 10,
              "solidity": 0.2
             }
            },
            "type": "histogram"
           }
          ],
          "histogram2d": [
           {
            "colorbar": {
             "outlinewidth": 0,
             "ticks": ""
            },
            "colorscale": [
             [
              0,
              "#0d0887"
             ],
             [
              0.1111111111111111,
              "#46039f"
             ],
             [
              0.2222222222222222,
              "#7201a8"
             ],
             [
              0.3333333333333333,
              "#9c179e"
             ],
             [
              0.4444444444444444,
              "#bd3786"
             ],
             [
              0.5555555555555556,
              "#d8576b"
             ],
             [
              0.6666666666666666,
              "#ed7953"
             ],
             [
              0.7777777777777778,
              "#fb9f3a"
             ],
             [
              0.8888888888888888,
              "#fdca26"
             ],
             [
              1,
              "#f0f921"
             ]
            ],
            "type": "histogram2d"
           }
          ],
          "histogram2dcontour": [
           {
            "colorbar": {
             "outlinewidth": 0,
             "ticks": ""
            },
            "colorscale": [
             [
              0,
              "#0d0887"
             ],
             [
              0.1111111111111111,
              "#46039f"
             ],
             [
              0.2222222222222222,
              "#7201a8"
             ],
             [
              0.3333333333333333,
              "#9c179e"
             ],
             [
              0.4444444444444444,
              "#bd3786"
             ],
             [
              0.5555555555555556,
              "#d8576b"
             ],
             [
              0.6666666666666666,
              "#ed7953"
             ],
             [
              0.7777777777777778,
              "#fb9f3a"
             ],
             [
              0.8888888888888888,
              "#fdca26"
             ],
             [
              1,
              "#f0f921"
             ]
            ],
            "type": "histogram2dcontour"
           }
          ],
          "mesh3d": [
           {
            "colorbar": {
             "outlinewidth": 0,
             "ticks": ""
            },
            "type": "mesh3d"
           }
          ],
          "parcoords": [
           {
            "line": {
             "colorbar": {
              "outlinewidth": 0,
              "ticks": ""
             }
            },
            "type": "parcoords"
           }
          ],
          "pie": [
           {
            "automargin": true,
            "type": "pie"
           }
          ],
          "scatter": [
           {
            "fillpattern": {
             "fillmode": "overlay",
             "size": 10,
             "solidity": 0.2
            },
            "type": "scatter"
           }
          ],
          "scatter3d": [
           {
            "line": {
             "colorbar": {
              "outlinewidth": 0,
              "ticks": ""
             }
            },
            "marker": {
             "colorbar": {
              "outlinewidth": 0,
              "ticks": ""
             }
            },
            "type": "scatter3d"
           }
          ],
          "scattercarpet": [
           {
            "marker": {
             "colorbar": {
              "outlinewidth": 0,
              "ticks": ""
             }
            },
            "type": "scattercarpet"
           }
          ],
          "scattergeo": [
           {
            "marker": {
             "colorbar": {
              "outlinewidth": 0,
              "ticks": ""
             }
            },
            "type": "scattergeo"
           }
          ],
          "scattergl": [
           {
            "marker": {
             "colorbar": {
              "outlinewidth": 0,
              "ticks": ""
             }
            },
            "type": "scattergl"
           }
          ],
          "scattermapbox": [
           {
            "marker": {
             "colorbar": {
              "outlinewidth": 0,
              "ticks": ""
             }
            },
            "type": "scattermapbox"
           }
          ],
          "scatterpolar": [
           {
            "marker": {
             "colorbar": {
              "outlinewidth": 0,
              "ticks": ""
             }
            },
            "type": "scatterpolar"
           }
          ],
          "scatterpolargl": [
           {
            "marker": {
             "colorbar": {
              "outlinewidth": 0,
              "ticks": ""
             }
            },
            "type": "scatterpolargl"
           }
          ],
          "scatterternary": [
           {
            "marker": {
             "colorbar": {
              "outlinewidth": 0,
              "ticks": ""
             }
            },
            "type": "scatterternary"
           }
          ],
          "surface": [
           {
            "colorbar": {
             "outlinewidth": 0,
             "ticks": ""
            },
            "colorscale": [
             [
              0,
              "#0d0887"
             ],
             [
              0.1111111111111111,
              "#46039f"
             ],
             [
              0.2222222222222222,
              "#7201a8"
             ],
             [
              0.3333333333333333,
              "#9c179e"
             ],
             [
              0.4444444444444444,
              "#bd3786"
             ],
             [
              0.5555555555555556,
              "#d8576b"
             ],
             [
              0.6666666666666666,
              "#ed7953"
             ],
             [
              0.7777777777777778,
              "#fb9f3a"
             ],
             [
              0.8888888888888888,
              "#fdca26"
             ],
             [
              1,
              "#f0f921"
             ]
            ],
            "type": "surface"
           }
          ],
          "table": [
           {
            "cells": {
             "fill": {
              "color": "#EBF0F8"
             },
             "line": {
              "color": "white"
             }
            },
            "header": {
             "fill": {
              "color": "#C8D4E3"
             },
             "line": {
              "color": "white"
             }
            },
            "type": "table"
           }
          ]
         },
         "layout": {
          "annotationdefaults": {
           "arrowcolor": "#2a3f5f",
           "arrowhead": 0,
           "arrowwidth": 1
          },
          "autotypenumbers": "strict",
          "coloraxis": {
           "colorbar": {
            "outlinewidth": 0,
            "ticks": ""
           }
          },
          "colorscale": {
           "diverging": [
            [
             0,
             "#8e0152"
            ],
            [
             0.1,
             "#c51b7d"
            ],
            [
             0.2,
             "#de77ae"
            ],
            [
             0.3,
             "#f1b6da"
            ],
            [
             0.4,
             "#fde0ef"
            ],
            [
             0.5,
             "#f7f7f7"
            ],
            [
             0.6,
             "#e6f5d0"
            ],
            [
             0.7,
             "#b8e186"
            ],
            [
             0.8,
             "#7fbc41"
            ],
            [
             0.9,
             "#4d9221"
            ],
            [
             1,
             "#276419"
            ]
           ],
           "sequential": [
            [
             0,
             "#0d0887"
            ],
            [
             0.1111111111111111,
             "#46039f"
            ],
            [
             0.2222222222222222,
             "#7201a8"
            ],
            [
             0.3333333333333333,
             "#9c179e"
            ],
            [
             0.4444444444444444,
             "#bd3786"
            ],
            [
             0.5555555555555556,
             "#d8576b"
            ],
            [
             0.6666666666666666,
             "#ed7953"
            ],
            [
             0.7777777777777778,
             "#fb9f3a"
            ],
            [
             0.8888888888888888,
             "#fdca26"
            ],
            [
             1,
             "#f0f921"
            ]
           ],
           "sequentialminus": [
            [
             0,
             "#0d0887"
            ],
            [
             0.1111111111111111,
             "#46039f"
            ],
            [
             0.2222222222222222,
             "#7201a8"
            ],
            [
             0.3333333333333333,
             "#9c179e"
            ],
            [
             0.4444444444444444,
             "#bd3786"
            ],
            [
             0.5555555555555556,
             "#d8576b"
            ],
            [
             0.6666666666666666,
             "#ed7953"
            ],
            [
             0.7777777777777778,
             "#fb9f3a"
            ],
            [
             0.8888888888888888,
             "#fdca26"
            ],
            [
             1,
             "#f0f921"
            ]
           ]
          },
          "colorway": [
           "#636efa",
           "#EF553B",
           "#00cc96",
           "#ab63fa",
           "#FFA15A",
           "#19d3f3",
           "#FF6692",
           "#B6E880",
           "#FF97FF",
           "#FECB52"
          ],
          "font": {
           "color": "#2a3f5f"
          },
          "geo": {
           "bgcolor": "white",
           "lakecolor": "white",
           "landcolor": "#E5ECF6",
           "showlakes": true,
           "showland": true,
           "subunitcolor": "white"
          },
          "hoverlabel": {
           "align": "left"
          },
          "hovermode": "closest",
          "mapbox": {
           "style": "light"
          },
          "paper_bgcolor": "white",
          "plot_bgcolor": "#E5ECF6",
          "polar": {
           "angularaxis": {
            "gridcolor": "white",
            "linecolor": "white",
            "ticks": ""
           },
           "bgcolor": "#E5ECF6",
           "radialaxis": {
            "gridcolor": "white",
            "linecolor": "white",
            "ticks": ""
           }
          },
          "scene": {
           "xaxis": {
            "backgroundcolor": "#E5ECF6",
            "gridcolor": "white",
            "gridwidth": 2,
            "linecolor": "white",
            "showbackground": true,
            "ticks": "",
            "zerolinecolor": "white"
           },
           "yaxis": {
            "backgroundcolor": "#E5ECF6",
            "gridcolor": "white",
            "gridwidth": 2,
            "linecolor": "white",
            "showbackground": true,
            "ticks": "",
            "zerolinecolor": "white"
           },
           "zaxis": {
            "backgroundcolor": "#E5ECF6",
            "gridcolor": "white",
            "gridwidth": 2,
            "linecolor": "white",
            "showbackground": true,
            "ticks": "",
            "zerolinecolor": "white"
           }
          },
          "shapedefaults": {
           "line": {
            "color": "#2a3f5f"
           }
          },
          "ternary": {
           "aaxis": {
            "gridcolor": "white",
            "linecolor": "white",
            "ticks": ""
           },
           "baxis": {
            "gridcolor": "white",
            "linecolor": "white",
            "ticks": ""
           },
           "bgcolor": "#E5ECF6",
           "caxis": {
            "gridcolor": "white",
            "linecolor": "white",
            "ticks": ""
           }
          },
          "title": {
           "x": 0.05
          },
          "xaxis": {
           "automargin": true,
           "gridcolor": "white",
           "linecolor": "white",
           "ticks": "",
           "title": {
            "standoff": 15
           },
           "zerolinecolor": "white",
           "zerolinewidth": 2
          },
          "yaxis": {
           "automargin": true,
           "gridcolor": "white",
           "linecolor": "white",
           "ticks": "",
           "title": {
            "standoff": 15
           },
           "zerolinecolor": "white",
           "zerolinewidth": 2
          }
         }
        },
        "title": {
         "text": "Parallel Coordinate Plot"
        }
       }
      }
     },
     "metadata": {},
     "output_type": "display_data"
    }
   ],
   "source": [
    "fig2=optuna.visualization.plot_parallel_coordinate(study)\n",
    "fig2.write_image(f\"tfidf_parallelc_{ROLLING_WINDOW_SIZE}.png\")\n",
    "fig2.show()"
   ]
  },
  {
   "cell_type": "code",
   "execution_count": 24,
   "metadata": {},
   "outputs": [
    {
     "data": {
      "application/vnd.plotly.v1+json": {
       "config": {
        "plotlyServerURL": "https://plot.ly"
       },
       "data": [
        {
         "marker": {
          "color": [
           0,
           1,
           2,
           3,
           4,
           12,
           13,
           14,
           15,
           21,
           22,
           23,
           25,
           26,
           27,
           29,
           32,
           34,
           43,
           44,
           45
          ],
          "colorbar": {
           "title": {
            "text": "#Trials"
           },
           "x": 1,
           "xpad": 40
          },
          "colorscale": [
           [
            0,
            "rgb(247,251,255)"
           ],
           [
            0.125,
            "rgb(222,235,247)"
           ],
           [
            0.25,
            "rgb(198,219,239)"
           ],
           [
            0.375,
            "rgb(158,202,225)"
           ],
           [
            0.5,
            "rgb(107,174,214)"
           ],
           [
            0.625,
            "rgb(66,146,198)"
           ],
           [
            0.75,
            "rgb(33,113,181)"
           ],
           [
            0.875,
            "rgb(8,81,156)"
           ],
           [
            1,
            "rgb(8,48,107)"
           ]
          ],
          "line": {
           "color": "Grey",
           "width": 0.5
          },
          "showscale": true
         },
         "mode": "markers",
         "showlegend": false,
         "type": "scatter",
         "x": [
          0.85,
          0.6,
          0.95,
          0.8,
          0.55,
          0.6,
          0.45,
          0.45,
          0.4,
          0.3,
          0.5,
          0.5,
          0.55,
          0.6,
          0.4,
          0.65,
          0.4,
          0.6,
          0.6,
          0.6,
          0.6
         ],
         "xaxis": "x",
         "y": [
          0.817554,
          0.815128,
          0.807703,
          0.811412,
          0.817985,
          0.820679,
          0.820362,
          0.820282,
          0.820091,
          0.819727,
          0.82004,
          0.82004,
          0.819962,
          0.820679,
          0.820517,
          0.820679,
          0.820517,
          0.820679,
          0.820679,
          0.820679,
          0.820679
         ],
         "yaxis": "y"
        },
        {
         "marker": {
          "color": [
           0,
           1,
           2,
           3,
           4,
           12,
           13,
           14,
           15,
           21,
           22,
           23,
           25,
           26,
           27,
           29,
           32,
           34,
           43,
           44,
           45
          ],
          "colorbar": {
           "title": {
            "text": "#Trials"
           },
           "x": 1,
           "xpad": 40
          },
          "colorscale": [
           [
            0,
            "rgb(247,251,255)"
           ],
           [
            0.125,
            "rgb(222,235,247)"
           ],
           [
            0.25,
            "rgb(198,219,239)"
           ],
           [
            0.375,
            "rgb(158,202,225)"
           ],
           [
            0.5,
            "rgb(107,174,214)"
           ],
           [
            0.625,
            "rgb(66,146,198)"
           ],
           [
            0.75,
            "rgb(33,113,181)"
           ],
           [
            0.875,
            "rgb(8,81,156)"
           ],
           [
            1,
            "rgb(8,48,107)"
           ]
          ],
          "line": {
           "color": "Grey",
           "width": 0.5
          },
          "showscale": false
         },
         "mode": "markers",
         "showlegend": false,
         "type": "scatter",
         "x": [
          15000,
          11000,
          6000,
          10000,
          12000,
          15000,
          15000,
          13000,
          14000,
          13000,
          13000,
          13000,
          14000,
          15000,
          15000,
          15000,
          15000,
          15000,
          15000,
          15000,
          15000
         ],
         "xaxis": "x2",
         "y": [
          0.817554,
          0.815128,
          0.807703,
          0.811412,
          0.817985,
          0.820679,
          0.820362,
          0.820282,
          0.820091,
          0.819727,
          0.82004,
          0.82004,
          0.819962,
          0.820679,
          0.820517,
          0.820679,
          0.820517,
          0.820679,
          0.820679,
          0.820679,
          0.820679
         ],
         "yaxis": "y2"
        },
        {
         "marker": {
          "color": [
           0,
           1,
           2,
           3,
           4,
           12,
           13,
           14,
           15,
           21,
           22,
           23,
           25,
           26,
           27,
           29,
           32,
           34,
           43,
           44,
           45
          ],
          "colorbar": {
           "title": {
            "text": "#Trials"
           },
           "x": 1,
           "xpad": 40
          },
          "colorscale": [
           [
            0,
            "rgb(247,251,255)"
           ],
           [
            0.125,
            "rgb(222,235,247)"
           ],
           [
            0.25,
            "rgb(198,219,239)"
           ],
           [
            0.375,
            "rgb(158,202,225)"
           ],
           [
            0.5,
            "rgb(107,174,214)"
           ],
           [
            0.625,
            "rgb(66,146,198)"
           ],
           [
            0.75,
            "rgb(33,113,181)"
           ],
           [
            0.875,
            "rgb(8,81,156)"
           ],
           [
            1,
            "rgb(8,48,107)"
           ]
          ],
          "line": {
           "color": "Grey",
           "width": 0.5
          },
          "showscale": false
         },
         "mode": "markers",
         "showlegend": false,
         "type": "scatter",
         "x": [
          2,
          3,
          1,
          3,
          3,
          2,
          2,
          2,
          2,
          2,
          2,
          2,
          2,
          2,
          2,
          2,
          2,
          2,
          2,
          2,
          2
         ],
         "xaxis": "x3",
         "y": [
          0.817554,
          0.815128,
          0.807703,
          0.811412,
          0.817985,
          0.820679,
          0.820362,
          0.820282,
          0.820091,
          0.819727,
          0.82004,
          0.82004,
          0.819962,
          0.820679,
          0.820517,
          0.820679,
          0.820517,
          0.820679,
          0.820679,
          0.820679,
          0.820679
         ],
         "yaxis": "y3"
        },
        {
         "marker": {
          "color": [
           0,
           1,
           2,
           3,
           4,
           12,
           13,
           14,
           15,
           21,
           22,
           23,
           25,
           26,
           27,
           29,
           32,
           34,
           43,
           44,
           45
          ],
          "colorbar": {
           "title": {
            "text": "#Trials"
           },
           "x": 1,
           "xpad": 40
          },
          "colorscale": [
           [
            0,
            "rgb(247,251,255)"
           ],
           [
            0.125,
            "rgb(222,235,247)"
           ],
           [
            0.25,
            "rgb(198,219,239)"
           ],
           [
            0.375,
            "rgb(158,202,225)"
           ],
           [
            0.5,
            "rgb(107,174,214)"
           ],
           [
            0.625,
            "rgb(66,146,198)"
           ],
           [
            0.75,
            "rgb(33,113,181)"
           ],
           [
            0.875,
            "rgb(8,81,156)"
           ],
           [
            1,
            "rgb(8,48,107)"
           ]
          ],
          "line": {
           "color": "Grey",
           "width": 0.5
          },
          "showscale": false
         },
         "mode": "markers",
         "showlegend": false,
         "type": "scatter",
         "x": [
          "english",
          "nltk_stop_words",
          "english",
          "english",
          "nltk_stop_words",
          "nltk_stop_words",
          "nltk_stop_words",
          "nltk_stop_words",
          "nltk_stop_words",
          "nltk_stop_words",
          "nltk_stop_words",
          "nltk_stop_words",
          "nltk_stop_words",
          "nltk_stop_words",
          "nltk_stop_words",
          "nltk_stop_words",
          "nltk_stop_words",
          "nltk_stop_words",
          "nltk_stop_words",
          "nltk_stop_words",
          "nltk_stop_words"
         ],
         "xaxis": "x4",
         "y": [
          0.817554,
          0.815128,
          0.807703,
          0.811412,
          0.817985,
          0.820679,
          0.820362,
          0.820282,
          0.820091,
          0.819727,
          0.82004,
          0.82004,
          0.819962,
          0.820679,
          0.820517,
          0.820679,
          0.820517,
          0.820679,
          0.820679,
          0.820679,
          0.820679
         ],
         "yaxis": "y4"
        },
        {
         "marker": {
          "color": [
           0,
           1,
           2,
           3,
           4,
           12,
           13,
           14,
           15,
           21,
           22,
           23,
           25,
           26,
           27,
           29,
           32,
           34,
           43,
           44,
           45
          ],
          "colorbar": {
           "title": {
            "text": "#Trials"
           },
           "x": 1,
           "xpad": 40
          },
          "colorscale": [
           [
            0,
            "rgb(247,251,255)"
           ],
           [
            0.125,
            "rgb(222,235,247)"
           ],
           [
            0.25,
            "rgb(198,219,239)"
           ],
           [
            0.375,
            "rgb(158,202,225)"
           ],
           [
            0.5,
            "rgb(107,174,214)"
           ],
           [
            0.625,
            "rgb(66,146,198)"
           ],
           [
            0.75,
            "rgb(33,113,181)"
           ],
           [
            0.875,
            "rgb(8,81,156)"
           ],
           [
            1,
            "rgb(8,48,107)"
           ]
          ],
          "line": {
           "color": "Grey",
           "width": 0.5
          },
          "showscale": false
         },
         "mode": "markers",
         "showlegend": false,
         "type": "scatter",
         "x": [
          1,
          1,
          1,
          1,
          1,
          1,
          1,
          1,
          1,
          1,
          1,
          1,
          1,
          1,
          1,
          1,
          1,
          1,
          1,
          1,
          1
         ],
         "xaxis": "x5",
         "y": [
          0.817554,
          0.815128,
          0.807703,
          0.811412,
          0.817985,
          0.820679,
          0.820362,
          0.820282,
          0.820091,
          0.819727,
          0.82004,
          0.82004,
          0.819962,
          0.820679,
          0.820517,
          0.820679,
          0.820517,
          0.820679,
          0.820679,
          0.820679,
          0.820679
         ],
         "yaxis": "y5"
        }
       ],
       "layout": {
        "template": {
         "data": {
          "bar": [
           {
            "error_x": {
             "color": "#2a3f5f"
            },
            "error_y": {
             "color": "#2a3f5f"
            },
            "marker": {
             "line": {
              "color": "#E5ECF6",
              "width": 0.5
             },
             "pattern": {
              "fillmode": "overlay",
              "size": 10,
              "solidity": 0.2
             }
            },
            "type": "bar"
           }
          ],
          "barpolar": [
           {
            "marker": {
             "line": {
              "color": "#E5ECF6",
              "width": 0.5
             },
             "pattern": {
              "fillmode": "overlay",
              "size": 10,
              "solidity": 0.2
             }
            },
            "type": "barpolar"
           }
          ],
          "carpet": [
           {
            "aaxis": {
             "endlinecolor": "#2a3f5f",
             "gridcolor": "white",
             "linecolor": "white",
             "minorgridcolor": "white",
             "startlinecolor": "#2a3f5f"
            },
            "baxis": {
             "endlinecolor": "#2a3f5f",
             "gridcolor": "white",
             "linecolor": "white",
             "minorgridcolor": "white",
             "startlinecolor": "#2a3f5f"
            },
            "type": "carpet"
           }
          ],
          "choropleth": [
           {
            "colorbar": {
             "outlinewidth": 0,
             "ticks": ""
            },
            "type": "choropleth"
           }
          ],
          "contour": [
           {
            "colorbar": {
             "outlinewidth": 0,
             "ticks": ""
            },
            "colorscale": [
             [
              0,
              "#0d0887"
             ],
             [
              0.1111111111111111,
              "#46039f"
             ],
             [
              0.2222222222222222,
              "#7201a8"
             ],
             [
              0.3333333333333333,
              "#9c179e"
             ],
             [
              0.4444444444444444,
              "#bd3786"
             ],
             [
              0.5555555555555556,
              "#d8576b"
             ],
             [
              0.6666666666666666,
              "#ed7953"
             ],
             [
              0.7777777777777778,
              "#fb9f3a"
             ],
             [
              0.8888888888888888,
              "#fdca26"
             ],
             [
              1,
              "#f0f921"
             ]
            ],
            "type": "contour"
           }
          ],
          "contourcarpet": [
           {
            "colorbar": {
             "outlinewidth": 0,
             "ticks": ""
            },
            "type": "contourcarpet"
           }
          ],
          "heatmap": [
           {
            "colorbar": {
             "outlinewidth": 0,
             "ticks": ""
            },
            "colorscale": [
             [
              0,
              "#0d0887"
             ],
             [
              0.1111111111111111,
              "#46039f"
             ],
             [
              0.2222222222222222,
              "#7201a8"
             ],
             [
              0.3333333333333333,
              "#9c179e"
             ],
             [
              0.4444444444444444,
              "#bd3786"
             ],
             [
              0.5555555555555556,
              "#d8576b"
             ],
             [
              0.6666666666666666,
              "#ed7953"
             ],
             [
              0.7777777777777778,
              "#fb9f3a"
             ],
             [
              0.8888888888888888,
              "#fdca26"
             ],
             [
              1,
              "#f0f921"
             ]
            ],
            "type": "heatmap"
           }
          ],
          "heatmapgl": [
           {
            "colorbar": {
             "outlinewidth": 0,
             "ticks": ""
            },
            "colorscale": [
             [
              0,
              "#0d0887"
             ],
             [
              0.1111111111111111,
              "#46039f"
             ],
             [
              0.2222222222222222,
              "#7201a8"
             ],
             [
              0.3333333333333333,
              "#9c179e"
             ],
             [
              0.4444444444444444,
              "#bd3786"
             ],
             [
              0.5555555555555556,
              "#d8576b"
             ],
             [
              0.6666666666666666,
              "#ed7953"
             ],
             [
              0.7777777777777778,
              "#fb9f3a"
             ],
             [
              0.8888888888888888,
              "#fdca26"
             ],
             [
              1,
              "#f0f921"
             ]
            ],
            "type": "heatmapgl"
           }
          ],
          "histogram": [
           {
            "marker": {
             "pattern": {
              "fillmode": "overlay",
              "size": 10,
              "solidity": 0.2
             }
            },
            "type": "histogram"
           }
          ],
          "histogram2d": [
           {
            "colorbar": {
             "outlinewidth": 0,
             "ticks": ""
            },
            "colorscale": [
             [
              0,
              "#0d0887"
             ],
             [
              0.1111111111111111,
              "#46039f"
             ],
             [
              0.2222222222222222,
              "#7201a8"
             ],
             [
              0.3333333333333333,
              "#9c179e"
             ],
             [
              0.4444444444444444,
              "#bd3786"
             ],
             [
              0.5555555555555556,
              "#d8576b"
             ],
             [
              0.6666666666666666,
              "#ed7953"
             ],
             [
              0.7777777777777778,
              "#fb9f3a"
             ],
             [
              0.8888888888888888,
              "#fdca26"
             ],
             [
              1,
              "#f0f921"
             ]
            ],
            "type": "histogram2d"
           }
          ],
          "histogram2dcontour": [
           {
            "colorbar": {
             "outlinewidth": 0,
             "ticks": ""
            },
            "colorscale": [
             [
              0,
              "#0d0887"
             ],
             [
              0.1111111111111111,
              "#46039f"
             ],
             [
              0.2222222222222222,
              "#7201a8"
             ],
             [
              0.3333333333333333,
              "#9c179e"
             ],
             [
              0.4444444444444444,
              "#bd3786"
             ],
             [
              0.5555555555555556,
              "#d8576b"
             ],
             [
              0.6666666666666666,
              "#ed7953"
             ],
             [
              0.7777777777777778,
              "#fb9f3a"
             ],
             [
              0.8888888888888888,
              "#fdca26"
             ],
             [
              1,
              "#f0f921"
             ]
            ],
            "type": "histogram2dcontour"
           }
          ],
          "mesh3d": [
           {
            "colorbar": {
             "outlinewidth": 0,
             "ticks": ""
            },
            "type": "mesh3d"
           }
          ],
          "parcoords": [
           {
            "line": {
             "colorbar": {
              "outlinewidth": 0,
              "ticks": ""
             }
            },
            "type": "parcoords"
           }
          ],
          "pie": [
           {
            "automargin": true,
            "type": "pie"
           }
          ],
          "scatter": [
           {
            "fillpattern": {
             "fillmode": "overlay",
             "size": 10,
             "solidity": 0.2
            },
            "type": "scatter"
           }
          ],
          "scatter3d": [
           {
            "line": {
             "colorbar": {
              "outlinewidth": 0,
              "ticks": ""
             }
            },
            "marker": {
             "colorbar": {
              "outlinewidth": 0,
              "ticks": ""
             }
            },
            "type": "scatter3d"
           }
          ],
          "scattercarpet": [
           {
            "marker": {
             "colorbar": {
              "outlinewidth": 0,
              "ticks": ""
             }
            },
            "type": "scattercarpet"
           }
          ],
          "scattergeo": [
           {
            "marker": {
             "colorbar": {
              "outlinewidth": 0,
              "ticks": ""
             }
            },
            "type": "scattergeo"
           }
          ],
          "scattergl": [
           {
            "marker": {
             "colorbar": {
              "outlinewidth": 0,
              "ticks": ""
             }
            },
            "type": "scattergl"
           }
          ],
          "scattermapbox": [
           {
            "marker": {
             "colorbar": {
              "outlinewidth": 0,
              "ticks": ""
             }
            },
            "type": "scattermapbox"
           }
          ],
          "scatterpolar": [
           {
            "marker": {
             "colorbar": {
              "outlinewidth": 0,
              "ticks": ""
             }
            },
            "type": "scatterpolar"
           }
          ],
          "scatterpolargl": [
           {
            "marker": {
             "colorbar": {
              "outlinewidth": 0,
              "ticks": ""
             }
            },
            "type": "scatterpolargl"
           }
          ],
          "scatterternary": [
           {
            "marker": {
             "colorbar": {
              "outlinewidth": 0,
              "ticks": ""
             }
            },
            "type": "scatterternary"
           }
          ],
          "surface": [
           {
            "colorbar": {
             "outlinewidth": 0,
             "ticks": ""
            },
            "colorscale": [
             [
              0,
              "#0d0887"
             ],
             [
              0.1111111111111111,
              "#46039f"
             ],
             [
              0.2222222222222222,
              "#7201a8"
             ],
             [
              0.3333333333333333,
              "#9c179e"
             ],
             [
              0.4444444444444444,
              "#bd3786"
             ],
             [
              0.5555555555555556,
              "#d8576b"
             ],
             [
              0.6666666666666666,
              "#ed7953"
             ],
             [
              0.7777777777777778,
              "#fb9f3a"
             ],
             [
              0.8888888888888888,
              "#fdca26"
             ],
             [
              1,
              "#f0f921"
             ]
            ],
            "type": "surface"
           }
          ],
          "table": [
           {
            "cells": {
             "fill": {
              "color": "#EBF0F8"
             },
             "line": {
              "color": "white"
             }
            },
            "header": {
             "fill": {
              "color": "#C8D4E3"
             },
             "line": {
              "color": "white"
             }
            },
            "type": "table"
           }
          ]
         },
         "layout": {
          "annotationdefaults": {
           "arrowcolor": "#2a3f5f",
           "arrowhead": 0,
           "arrowwidth": 1
          },
          "autotypenumbers": "strict",
          "coloraxis": {
           "colorbar": {
            "outlinewidth": 0,
            "ticks": ""
           }
          },
          "colorscale": {
           "diverging": [
            [
             0,
             "#8e0152"
            ],
            [
             0.1,
             "#c51b7d"
            ],
            [
             0.2,
             "#de77ae"
            ],
            [
             0.3,
             "#f1b6da"
            ],
            [
             0.4,
             "#fde0ef"
            ],
            [
             0.5,
             "#f7f7f7"
            ],
            [
             0.6,
             "#e6f5d0"
            ],
            [
             0.7,
             "#b8e186"
            ],
            [
             0.8,
             "#7fbc41"
            ],
            [
             0.9,
             "#4d9221"
            ],
            [
             1,
             "#276419"
            ]
           ],
           "sequential": [
            [
             0,
             "#0d0887"
            ],
            [
             0.1111111111111111,
             "#46039f"
            ],
            [
             0.2222222222222222,
             "#7201a8"
            ],
            [
             0.3333333333333333,
             "#9c179e"
            ],
            [
             0.4444444444444444,
             "#bd3786"
            ],
            [
             0.5555555555555556,
             "#d8576b"
            ],
            [
             0.6666666666666666,
             "#ed7953"
            ],
            [
             0.7777777777777778,
             "#fb9f3a"
            ],
            [
             0.8888888888888888,
             "#fdca26"
            ],
            [
             1,
             "#f0f921"
            ]
           ],
           "sequentialminus": [
            [
             0,
             "#0d0887"
            ],
            [
             0.1111111111111111,
             "#46039f"
            ],
            [
             0.2222222222222222,
             "#7201a8"
            ],
            [
             0.3333333333333333,
             "#9c179e"
            ],
            [
             0.4444444444444444,
             "#bd3786"
            ],
            [
             0.5555555555555556,
             "#d8576b"
            ],
            [
             0.6666666666666666,
             "#ed7953"
            ],
            [
             0.7777777777777778,
             "#fb9f3a"
            ],
            [
             0.8888888888888888,
             "#fdca26"
            ],
            [
             1,
             "#f0f921"
            ]
           ]
          },
          "colorway": [
           "#636efa",
           "#EF553B",
           "#00cc96",
           "#ab63fa",
           "#FFA15A",
           "#19d3f3",
           "#FF6692",
           "#B6E880",
           "#FF97FF",
           "#FECB52"
          ],
          "font": {
           "color": "#2a3f5f"
          },
          "geo": {
           "bgcolor": "white",
           "lakecolor": "white",
           "landcolor": "#E5ECF6",
           "showlakes": true,
           "showland": true,
           "subunitcolor": "white"
          },
          "hoverlabel": {
           "align": "left"
          },
          "hovermode": "closest",
          "mapbox": {
           "style": "light"
          },
          "paper_bgcolor": "white",
          "plot_bgcolor": "#E5ECF6",
          "polar": {
           "angularaxis": {
            "gridcolor": "white",
            "linecolor": "white",
            "ticks": ""
           },
           "bgcolor": "#E5ECF6",
           "radialaxis": {
            "gridcolor": "white",
            "linecolor": "white",
            "ticks": ""
           }
          },
          "scene": {
           "xaxis": {
            "backgroundcolor": "#E5ECF6",
            "gridcolor": "white",
            "gridwidth": 2,
            "linecolor": "white",
            "showbackground": true,
            "ticks": "",
            "zerolinecolor": "white"
           },
           "yaxis": {
            "backgroundcolor": "#E5ECF6",
            "gridcolor": "white",
            "gridwidth": 2,
            "linecolor": "white",
            "showbackground": true,
            "ticks": "",
            "zerolinecolor": "white"
           },
           "zaxis": {
            "backgroundcolor": "#E5ECF6",
            "gridcolor": "white",
            "gridwidth": 2,
            "linecolor": "white",
            "showbackground": true,
            "ticks": "",
            "zerolinecolor": "white"
           }
          },
          "shapedefaults": {
           "line": {
            "color": "#2a3f5f"
           }
          },
          "ternary": {
           "aaxis": {
            "gridcolor": "white",
            "linecolor": "white",
            "ticks": ""
           },
           "baxis": {
            "gridcolor": "white",
            "linecolor": "white",
            "ticks": ""
           },
           "bgcolor": "#E5ECF6",
           "caxis": {
            "gridcolor": "white",
            "linecolor": "white",
            "ticks": ""
           }
          },
          "title": {
           "x": 0.05
          },
          "xaxis": {
           "automargin": true,
           "gridcolor": "white",
           "linecolor": "white",
           "ticks": "",
           "title": {
            "standoff": 15
           },
           "zerolinecolor": "white",
           "zerolinewidth": 2
          },
          "yaxis": {
           "automargin": true,
           "gridcolor": "white",
           "linecolor": "white",
           "ticks": "",
           "title": {
            "standoff": 15
           },
           "zerolinecolor": "white",
           "zerolinewidth": 2
          }
         }
        },
        "title": {
         "text": "Slice Plot"
        },
        "width": 1500,
        "xaxis": {
         "anchor": "y",
         "domain": [
          0,
          0.16799999999999998
         ],
         "title": {
          "text": "max_df"
         }
        },
        "xaxis2": {
         "anchor": "y2",
         "domain": [
          0.208,
          0.376
         ],
         "title": {
          "text": "max_features"
         }
        },
        "xaxis3": {
         "anchor": "y3",
         "domain": [
          0.416,
          0.584
         ],
         "title": {
          "text": "ngram_range"
         }
        },
        "xaxis4": {
         "anchor": "y4",
         "domain": [
          0.624,
          0.792
         ],
         "title": {
          "text": "stop_words"
         }
        },
        "xaxis5": {
         "anchor": "y5",
         "domain": [
          0.832,
          1
         ],
         "title": {
          "text": "sublinear_tf"
         }
        },
        "yaxis": {
         "anchor": "x",
         "domain": [
          0,
          1
         ],
         "title": {
          "text": "Objective Value"
         }
        },
        "yaxis2": {
         "anchor": "x2",
         "domain": [
          0,
          1
         ],
         "matches": "y",
         "showticklabels": false
        },
        "yaxis3": {
         "anchor": "x3",
         "domain": [
          0,
          1
         ],
         "matches": "y",
         "showticklabels": false
        },
        "yaxis4": {
         "anchor": "x4",
         "domain": [
          0,
          1
         ],
         "matches": "y",
         "showticklabels": false
        },
        "yaxis5": {
         "anchor": "x5",
         "domain": [
          0,
          1
         ],
         "matches": "y",
         "showticklabels": false
        }
       }
      }
     },
     "metadata": {},
     "output_type": "display_data"
    }
   ],
   "source": [
    "fig3=optuna.visualization.plot_slice(study)\n",
    "fig3.write_image(f\"tfidf_plotslice_{ROLLING_WINDOW_SIZE}.png\")\n",
    "fig3.show()"
   ]
  },
  {
   "cell_type": "code",
   "execution_count": 26,
   "metadata": {},
   "outputs": [],
   "source": [
    "tfidf_params = study.best_trial.params\n",
    "tfidf_params['stop_words'] = sw_lists[tfidf_params['stop_words']]\n",
    "tfidf_params['ngram_range'] = (1,tfidf_params['ngram_range'])\n"
   ]
  },
  {
   "cell_type": "code",
   "execution_count": 27,
   "metadata": {},
   "outputs": [
    {
     "data": {
      "text/plain": [
       "\"\\nif sentiment:\\n    from scipy.sparse import hstack\\n    X_train_transformed = hstack((X_train_transformed,np.array(train_df['polarity'])[:,None]))\\n    X_train_transformed = hstack((X_train_transformed,np.array(train_df['subjectivity'])[:,None]))\\n    X_train_transformed = hstack((X_train_transformed,np.array(train_df['negativity'])[:,None]))\\n    X_train_transformed = hstack((X_train_transformed,np.array(train_df['positivity'])[:,None]))\\n    X_train_transformed = hstack((X_train_transformed,np.array(train_df['neutrality'])[:,None]))\\n    X_train_transformed = hstack((X_train_transformed,np.array(train_df['compound'])[:,None]))\\n\\n    X_test_transformed = hstack((X_test_transformed,np.array(test_df['polarity'])[:,None]))\\n    X_test_transformed = hstack((X_test_transformed,np.array(test_df['subjectivity'])[:,None]))\\n    X_test_transformed = hstack((X_test_transformed,np.array(test_df['negativity'])[:,None]))\\n    X_test_transformed = hstack((X_test_transformed,np.array(test_df['positivity'])[:,None]))\\n    X_test_transformed = hstack((X_test_transformed,np.array(test_df['neutrality'])[:,None]))\\n    X_test_transformed = hstack((X_test_transformed,np.array(test_df['compound'])[:,None]))\\n\""
      ]
     },
     "execution_count": 27,
     "metadata": {},
     "output_type": "execute_result"
    }
   ],
   "source": [
    "\"\"\"\n",
    "if sentiment:\n",
    "    from scipy.sparse import hstack\n",
    "    X_train_transformed = hstack((X_train_transformed,np.array(train_df['polarity'])[:,None]))\n",
    "    X_train_transformed = hstack((X_train_transformed,np.array(train_df['subjectivity'])[:,None]))\n",
    "    X_train_transformed = hstack((X_train_transformed,np.array(train_df['negativity'])[:,None]))\n",
    "    X_train_transformed = hstack((X_train_transformed,np.array(train_df['positivity'])[:,None]))\n",
    "    X_train_transformed = hstack((X_train_transformed,np.array(train_df['neutrality'])[:,None]))\n",
    "    X_train_transformed = hstack((X_train_transformed,np.array(train_df['compound'])[:,None]))\n",
    "\n",
    "    X_test_transformed = hstack((X_test_transformed,np.array(test_df['polarity'])[:,None]))\n",
    "    X_test_transformed = hstack((X_test_transformed,np.array(test_df['subjectivity'])[:,None]))\n",
    "    X_test_transformed = hstack((X_test_transformed,np.array(test_df['negativity'])[:,None]))\n",
    "    X_test_transformed = hstack((X_test_transformed,np.array(test_df['positivity'])[:,None]))\n",
    "    X_test_transformed = hstack((X_test_transformed,np.array(test_df['neutrality'])[:,None]))\n",
    "    X_test_transformed = hstack((X_test_transformed,np.array(test_df['compound'])[:,None]))\n",
    "\"\"\"\n",
    "    \n",
    "\n"
   ]
  },
  {
   "cell_type": "markdown",
   "metadata": {},
   "source": [
    "### Now we test the baseline performance of some typical models, using sklearn's default parameters"
   ]
  },
  {
   "cell_type": "code",
   "execution_count": 28,
   "metadata": {},
   "outputs": [],
   "source": [
    "from sklearn.model_selection import StratifiedKFold\n",
    "from sklearn.metrics import f1_score\n",
    "from scipy.sparse import hstack\n",
    "\n",
    "\n",
    "def custom_cv(model, df, n_folds=5,sent =False):\n",
    "    skf = StratifiedKFold(n_splits=n_folds)\n",
    "    user_label_df =df.drop_duplicates('User')\n",
    "    users = user_label_df['User'].to_numpy()\n",
    "    \n",
    "    labels = user_label_df['Label'].to_numpy()\n",
    "    #print(labels)\n",
    "    #print(users.shape,labels.shape)\n",
    "    \n",
    "    f1_scores = []\n",
    "    for train_index, test_index in skf.split(users, labels):\n",
    "        vectorizer = TfidfVectorizer(**tfidf_params)\n",
    "\n",
    "        train_users = [users[f] for f in train_index]\n",
    "        test_users = [users[f] for f in test_index]\n",
    "\n",
    "        train_folds = df[df['User'].isin(train_users)].copy()\n",
    "        X_train = vectorizer.fit_transform(train_folds['Text'])\n",
    "        test_folds = df[df['User'].isin(test_users)].copy()\n",
    "        X_test = vectorizer.transform(test_folds['Text'])\n",
    "        \n",
    "        \n",
    "        if sent:\n",
    "            \n",
    "            X_train = hstack((X_train,np.array(train_folds['polarity'])[:,None]))\n",
    "            X_train = hstack((X_train,np.array(train_folds['subjectivity'])[:,None]))\n",
    "            X_train = hstack((X_train,np.array(train_folds['negativity'])[:,None]))\n",
    "            X_train = hstack((X_train,np.array(train_folds['positivity'])[:,None]))\n",
    "            X_train = hstack((X_train,np.array(train_folds['neutrality'])[:,None]))\n",
    "            X_train = hstack((X_train,np.array(train_folds['compound'])[:,None]))\n",
    "\n",
    "            X_test = hstack((X_test,np.array(test_folds['polarity'])[:,None]))\n",
    "            X_test = hstack((X_test,np.array(test_folds['subjectivity'])[:,None]))\n",
    "            X_test = hstack((X_test,np.array(test_folds['negativity'])[:,None]))\n",
    "            X_test = hstack((X_test,np.array(test_folds['positivity'])[:,None]))\n",
    "            X_test = hstack((X_test,np.array(test_folds['neutrality'])[:,None]))\n",
    "            X_test = hstack((X_test,np.array(test_folds['compound'])[:,None]))\n",
    "            \n",
    "        \n",
    "\n",
    "        \n",
    "        \n",
    "        model.fit(X_train, train_folds['Label'])\n",
    "        f1_scores.append(f1_score(test_folds['Label'],model.predict(X_test)))\n",
    "\n",
    "    return f1_scores"
   ]
  },
  {
   "cell_type": "code",
   "execution_count": 29,
   "metadata": {},
   "outputs": [],
   "source": [
    "from sklearn.linear_model import SGDClassifier\n",
    "from sklearn.linear_model import Perceptron\n",
    "from sklearn.ensemble import ExtraTreesClassifier\n",
    "if BASELINE_COMP:\n",
    "        models = {\n",
    "                'sgdLR':SGDClassifier(random_state=seed,loss='log'),\n",
    "                'NB':MultinomialNB(),\\\n",
    "                'sgdlSVM':SGDClassifier(random_state=seed,loss='hinge'),\n",
    "                'ExtraTrees':ExtraTreesClassifier(random_state=seed,n_jobs=-1),\\\n",
    "                'Perceptron':Perceptron(random_state=seed)}\n",
    "        report=\"\"\n",
    "        best_model_name = \"\"\n",
    "        best_model=None\n",
    "        best_f1=0\n",
    "        for model_name, model in models.items():\n",
    "                res = custom_cv(model,train_df)\n",
    "                if np.mean(res) > best_f1:\n",
    "                        best_f1=np.mean(res)\n",
    "                        best_model_name=model_name\n",
    "                        best_model=model\n",
    "                report+=f\"{model_name} f1: {round(np.mean(res),3)}\\n\"\n",
    "                print(f\"{model_name} f1: {round(np.mean(res),3)}\")\n",
    "        #cv\n",
    "        with open(f\"{MODEL_PATH}/cv_baseline_report.txt\",'w') as f:\n",
    "                f.write(report)"
   ]
  },
  {
   "cell_type": "code",
   "execution_count": 30,
   "metadata": {},
   "outputs": [],
   "source": [
    "from textblob import TextBlob\n",
    "from nltk.sentiment.vader import SentimentIntensityAnalyzer\n",
    "\n",
    "if BASELINE_COMP:\n",
    "    sia = SentimentIntensityAnalyzer()\n",
    "    train_df['TB'] = train_df['Text'].apply(lambda text: TextBlob(text).sentiment)\n",
    "    train_df['VADER'] = train_df['Text'].apply(lambda text: sia.polarity_scores(text))\n",
    "\n",
    "    train_df['polarity'] = train_df['TB'].apply(lambda tb: (tb[0]+1/2))\n",
    "    train_df['subjectivity'] = train_df['TB'].apply(lambda tb: tb[1])\n",
    "    train_df['negativity'] = train_df['VADER'].apply(lambda v: v['neg'])\n",
    "    train_df['positivity'] = train_df['VADER'].apply(lambda v: v['pos'])\n",
    "    train_df['neutrality'] = train_df['VADER'].apply(lambda v: v['neu'])\n",
    "    train_df['compound'] = train_df['VADER'].apply(lambda v: (v['compound']+1)/2)\n",
    "\n",
    "\n",
    "\n",
    "    train_df.drop(['VADER','TB'], inplace=True, axis=1)\n"
   ]
  },
  {
   "cell_type": "code",
   "execution_count": 31,
   "metadata": {},
   "outputs": [],
   "source": [
    "if BASELINE_COMP:\n",
    "        res = custom_cv(best_model,train_df, sent=True)\n",
    "        print(f\"{best_model_name} f1: {round(np.mean(res),3)}\")\n",
    "        #cv\n",
    "        with open(f\"{MODEL_PATH}/cv_baseline_report.txt\",'a') as f:\n",
    "                f.write(f\"\\nBest model with sent:\\n{best_model_name} f1: {round(np.mean(res),3)}\")"
   ]
  },
  {
   "cell_type": "markdown",
   "metadata": {},
   "source": [
    "## Hyper parameter tuning"
   ]
  },
  {
   "cell_type": "markdown",
   "metadata": {},
   "source": [
    "#### Best performing model was sgd Logistic Regression for window size 10 without SA features, having achieved a 0.823 F1 score"
   ]
  },
  {
   "cell_type": "code",
   "execution_count": 33,
   "metadata": {},
   "outputs": [],
   "source": [
    "from tqdm import tqdm\n",
    "\n",
    "def train_eval_tuning(trial,params, df):\n",
    "\n",
    "    skf = StratifiedKFold(n_splits=5)\n",
    "    user_label_df =df.drop_duplicates('User')\n",
    "    users = user_label_df['User'].to_numpy()\n",
    "    \n",
    "    labels = user_label_df['Label'].to_numpy()\n",
    "\n",
    "    \n",
    "    f1_scores = []\n",
    "    for fold,(train_index, test_index) in enumerate(skf.split(users, labels)):\n",
    "        transformer = TfidfVectorizer(**tfidf_params)\n",
    "        train_users = [users[f] for f in train_index]\n",
    "        test_users = [users[f] for f in test_index]\n",
    "\n",
    "        train_folds = df[df['User'].isin(train_users)]\n",
    "        X_train = transformer.fit_transform(train_folds['Text'])\n",
    "        test_folds = df[df['User'].isin(test_users)]\n",
    "        X_test = transformer.transform(test_folds['Text'])\n",
    "        model = SGDClassifier(**params)\n",
    "    \n",
    "        model.fit(X_train, train_folds['Label'])\n",
    "        f1_scores.append(f1_score(test_folds['Label'],model.predict(X_test)))\n",
    "    \n",
    "        trial.report(np.mean(f1_scores), fold)\n",
    "\n",
    "        if trial.should_prune():\n",
    "            raise optuna.exceptions.TrialPruned()\n",
    "\n",
    "    return f1_scores\n"
   ]
  },
  {
   "cell_type": "code",
   "execution_count": 36,
   "metadata": {},
   "outputs": [],
   "source": [
    "def tuning_objective(trial):\n",
    "    parameters = {\n",
    "        'max_iter':trial.suggest_int('max_iter',1000,2500,step=500),\n",
    "        'loss':trial.suggest_categorical('loss',['log']),\n",
    "        'penalty':trial.suggest_categorical('penalty',['l2','l1','elasticnet']),\n",
    "        'alpha': trial.suggest_float('alpha',0.00001,0.1,log=True),\n",
    "        'random_state':trial.suggest_int('random_state',seed,seed)\n",
    "        \n",
    "        \n",
    "    }\n",
    "    \n",
    "  \n",
    "    \n",
    "    avg_f1 = train_eval_tuning(trial,parameters,train_df)\n",
    "    return np.mean(avg_f1)"
   ]
  },
  {
   "cell_type": "code",
   "execution_count": 37,
   "metadata": {},
   "outputs": [
    {
     "name": "stderr",
     "output_type": "stream",
     "text": [
      "\u001b[32m[I 2022-06-13 08:38:40,913]\u001b[0m A new study created in memory with name: t1_tuning_10\u001b[0m\n",
      "\u001b[32m[I 2022-06-13 08:42:15,843]\u001b[0m Trial 0 finished with value: 0.0 and parameters: {'max_iter': 2000, 'loss': 'log', 'penalty': 'l1', 'alpha': 0.056923292859782745, 'random_state': 23}. Best is trial 0 with value: 0.0.\u001b[0m\n",
      "\u001b[32m[I 2022-06-13 08:45:54,446]\u001b[0m Trial 1 finished with value: 0.8073830828248536 and parameters: {'max_iter': 2000, 'loss': 'log', 'penalty': 'elasticnet', 'alpha': 0.0003879236418669762, 'random_state': 23}. Best is trial 1 with value: 0.8073830828248536.\u001b[0m\n",
      "\u001b[32m[I 2022-06-13 08:49:29,735]\u001b[0m Trial 2 finished with value: 0.0 and parameters: {'max_iter': 2500, 'loss': 'log', 'penalty': 'l1', 'alpha': 0.030937375373866316, 'random_state': 23}. Best is trial 1 with value: 0.8073830828248536.\u001b[0m\n",
      "\u001b[32m[I 2022-06-13 08:53:04,888]\u001b[0m Trial 3 finished with value: 0.0 and parameters: {'max_iter': 2000, 'loss': 'log', 'penalty': 'l1', 'alpha': 0.008449699964826179, 'random_state': 23}. Best is trial 1 with value: 0.8073830828248536.\u001b[0m\n",
      "\u001b[32m[I 2022-06-13 08:56:43,918]\u001b[0m Trial 4 finished with value: 0.8048279655350095 and parameters: {'max_iter': 2000, 'loss': 'log', 'penalty': 'elasticnet', 'alpha': 0.0004304993179249253, 'random_state': 23}. Best is trial 1 with value: 0.8073830828248536.\u001b[0m\n",
      "\u001b[32m[I 2022-06-13 09:00:20,907]\u001b[0m Trial 5 finished with value: 0.7795218878373323 and parameters: {'max_iter': 1500, 'loss': 'log', 'penalty': 'l1', 'alpha': 0.0004820698545657784, 'random_state': 23}. Best is trial 1 with value: 0.8073830828248536.\u001b[0m\n",
      "\u001b[32m[I 2022-06-13 09:04:00,874]\u001b[0m Trial 6 finished with value: 0.8089734404952962 and parameters: {'max_iter': 1000, 'loss': 'log', 'penalty': 'l1', 'alpha': 1.6141618570956304e-05, 'random_state': 23}. Best is trial 6 with value: 0.8089734404952962.\u001b[0m\n",
      "\u001b[32m[I 2022-06-13 09:07:39,128]\u001b[0m Trial 7 finished with value: 0.8017873853666494 and parameters: {'max_iter': 2000, 'loss': 'log', 'penalty': 'l1', 'alpha': 0.00020459634368494013, 'random_state': 23}. Best is trial 6 with value: 0.8089734404952962.\u001b[0m\n",
      "\u001b[32m[I 2022-06-13 09:11:18,967]\u001b[0m Trial 8 finished with value: 0.8096277199946502 and parameters: {'max_iter': 2000, 'loss': 'log', 'penalty': 'l1', 'alpha': 1.6717899896589178e-05, 'random_state': 23}. Best is trial 8 with value: 0.8096277199946502.\u001b[0m\n",
      "\u001b[32m[I 2022-06-13 09:14:58,558]\u001b[0m Trial 9 finished with value: 0.822300354111508 and parameters: {'max_iter': 2000, 'loss': 'log', 'penalty': 'elasticnet', 'alpha': 0.0001119960905938649, 'random_state': 23}. Best is trial 9 with value: 0.822300354111508.\u001b[0m\n",
      "\u001b[32m[I 2022-06-13 09:15:38,386]\u001b[0m Trial 10 pruned. \u001b[0m\n",
      "\u001b[32m[I 2022-06-13 09:19:17,048]\u001b[0m Trial 11 finished with value: 0.8170047703756478 and parameters: {'max_iter': 2500, 'loss': 'log', 'penalty': 'elasticnet', 'alpha': 1.40522616999257e-05, 'random_state': 23}. Best is trial 9 with value: 0.822300354111508.\u001b[0m\n",
      "\u001b[32m[I 2022-06-13 09:22:56,545]\u001b[0m Trial 12 finished with value: 0.8232266045322681 and parameters: {'max_iter': 2500, 'loss': 'log', 'penalty': 'elasticnet', 'alpha': 7.231796007079324e-05, 'random_state': 23}. Best is trial 12 with value: 0.8232266045322681.\u001b[0m\n",
      "\u001b[32m[I 2022-06-13 09:26:36,127]\u001b[0m Trial 13 finished with value: 0.8231361608898717 and parameters: {'max_iter': 2500, 'loss': 'log', 'penalty': 'elasticnet', 'alpha': 7.909938084203695e-05, 'random_state': 23}. Best is trial 12 with value: 0.8232266045322681.\u001b[0m\n",
      "\u001b[32m[I 2022-06-13 09:30:14,921]\u001b[0m Trial 14 finished with value: 0.8231998451804488 and parameters: {'max_iter': 2500, 'loss': 'log', 'penalty': 'elasticnet', 'alpha': 7.822379032262165e-05, 'random_state': 23}. Best is trial 12 with value: 0.8232266045322681.\u001b[0m\n",
      "\u001b[32m[I 2022-06-13 09:33:48,854]\u001b[0m Trial 15 finished with value: 0.8241696050176378 and parameters: {'max_iter': 2500, 'loss': 'log', 'penalty': 'l2', 'alpha': 6.298583165702807e-05, 'random_state': 23}. Best is trial 15 with value: 0.8241696050176378.\u001b[0m\n",
      "\u001b[32m[I 2022-06-13 09:34:28,656]\u001b[0m Trial 16 pruned. \u001b[0m\n",
      "\u001b[32m[I 2022-06-13 09:38:03,287]\u001b[0m Trial 17 finished with value: 0.8223177636108886 and parameters: {'max_iter': 2500, 'loss': 'log', 'penalty': 'l2', 'alpha': 4.2737349866138665e-05, 'random_state': 23}. Best is trial 15 with value: 0.8241696050176378.\u001b[0m\n",
      "\u001b[32m[I 2022-06-13 09:41:37,549]\u001b[0m Trial 18 finished with value: 0.8212979629897845 and parameters: {'max_iter': 2500, 'loss': 'log', 'penalty': 'l2', 'alpha': 3.4066161662316646e-05, 'random_state': 23}. Best is trial 15 with value: 0.8241696050176378.\u001b[0m\n",
      "\u001b[32m[I 2022-06-13 09:42:17,410]\u001b[0m Trial 19 pruned. \u001b[0m\n",
      "\u001b[32m[I 2022-06-13 09:45:52,255]\u001b[0m Trial 20 finished with value: 0.8186102995502196 and parameters: {'max_iter': 2500, 'loss': 'log', 'penalty': 'l2', 'alpha': 0.00021733620831417894, 'random_state': 23}. Best is trial 15 with value: 0.8241696050176378.\u001b[0m\n",
      "\u001b[32m[I 2022-06-13 09:49:31,011]\u001b[0m Trial 21 finished with value: 0.8231705262845177 and parameters: {'max_iter': 2500, 'loss': 'log', 'penalty': 'elasticnet', 'alpha': 6.417481986725377e-05, 'random_state': 23}. Best is trial 15 with value: 0.8241696050176378.\u001b[0m\n",
      "\u001b[32m[I 2022-06-13 09:53:09,697]\u001b[0m Trial 22 finished with value: 0.8217251507891931 and parameters: {'max_iter': 2500, 'loss': 'log', 'penalty': 'elasticnet', 'alpha': 0.00012340286517699116, 'random_state': 23}. Best is trial 15 with value: 0.8241696050176378.\u001b[0m\n",
      "\u001b[32m[I 2022-06-13 09:56:44,300]\u001b[0m Trial 23 finished with value: 0.8210469579890335 and parameters: {'max_iter': 2500, 'loss': 'log', 'penalty': 'elasticnet', 'alpha': 3.2022393419589996e-05, 'random_state': 23}. Best is trial 15 with value: 0.8241696050176378.\u001b[0m\n",
      "\u001b[32m[I 2022-06-13 09:58:49,134]\u001b[0m Trial 24 pruned. \u001b[0m\n",
      "\u001b[32m[I 2022-06-13 09:59:29,306]\u001b[0m Trial 25 pruned. \u001b[0m\n",
      "\u001b[32m[I 2022-06-13 10:00:09,281]\u001b[0m Trial 26 pruned. \u001b[0m\n",
      "\u001b[32m[I 2022-06-13 10:03:46,724]\u001b[0m Trial 27 finished with value: 0.8226828594019822 and parameters: {'max_iter': 2500, 'loss': 'log', 'penalty': 'elasticnet', 'alpha': 5.2850690620689675e-05, 'random_state': 23}. Best is trial 15 with value: 0.8241696050176378.\u001b[0m\n",
      "\u001b[32m[I 2022-06-13 10:07:23,008]\u001b[0m Trial 28 finished with value: 0.8203946218638094 and parameters: {'max_iter': 1500, 'loss': 'log', 'penalty': 'l2', 'alpha': 2.5361423599486766e-05, 'random_state': 23}. Best is trial 15 with value: 0.8241696050176378.\u001b[0m\n",
      "\u001b[32m[I 2022-06-13 10:08:03,526]\u001b[0m Trial 29 pruned. \u001b[0m\n"
     ]
    }
   ],
   "source": [
    "study = optuna.create_study(\n",
    "        study_name=f\"t{TASK}_tuning_{ROLLING_WINDOW_SIZE}\",\n",
    "        direction='maximize')\n",
    "study.optimize(tuning_objective, n_trials=30, timeout=(60*60*24))\n",
    "joblib.dump(study,f\"t{TASK}_tuning_{ROLLING_WINDOW_SIZE}.pkl\")\n",
    "    #study = optuna.create_study(study_name=f\"tfidfvectorizer_cv_{ROLLING_WINDOW_SIZE}\",direction=\"maximize\", sampler=optuna.samplers.TPESampler(), pruner=optuna.pruners.NopPruner())\n",
    "study = joblib.load(f\"t{TASK}_tuning_{ROLLING_WINDOW_SIZE}.pkl\")"
   ]
  },
  {
   "cell_type": "code",
   "execution_count": 38,
   "metadata": {},
   "outputs": [
    {
     "name": "stderr",
     "output_type": "stream",
     "text": [
      "\u001b[32m[I 2022-06-13 10:14:33,605]\u001b[0m Trial 30 finished with value: 0.8227151622100239 and parameters: {'max_iter': 2000, 'loss': 'log', 'penalty': 'l2', 'alpha': 0.00011563033578742476, 'random_state': 23}. Best is trial 15 with value: 0.8241696050176378.\u001b[0m\n",
      "\u001b[32m[I 2022-06-13 10:18:12,379]\u001b[0m Trial 31 finished with value: 0.8236657366718058 and parameters: {'max_iter': 2500, 'loss': 'log', 'penalty': 'elasticnet', 'alpha': 6.598464965587579e-05, 'random_state': 23}. Best is trial 15 with value: 0.8241696050176378.\u001b[0m\n",
      "\u001b[32m[I 2022-06-13 10:21:51,206]\u001b[0m Trial 32 finished with value: 0.8231545956682538 and parameters: {'max_iter': 2500, 'loss': 'log', 'penalty': 'elasticnet', 'alpha': 7.632380579780299e-05, 'random_state': 23}. Best is trial 15 with value: 0.8241696050176378.\u001b[0m\n",
      "\u001b[32m[I 2022-06-13 10:23:57,978]\u001b[0m Trial 33 pruned. \u001b[0m\n",
      "\u001b[32m[I 2022-06-13 10:24:38,278]\u001b[0m Trial 34 pruned. \u001b[0m\n",
      "\u001b[32m[I 2022-06-13 10:25:19,105]\u001b[0m Trial 35 pruned. \u001b[0m\n",
      "\u001b[32m[I 2022-06-13 10:25:59,281]\u001b[0m Trial 36 pruned. \u001b[0m\n",
      "\u001b[32m[I 2022-06-13 10:26:40,177]\u001b[0m Trial 37 pruned. \u001b[0m\n",
      "\u001b[32m[I 2022-06-13 10:27:20,668]\u001b[0m Trial 38 pruned. \u001b[0m\n",
      "\u001b[32m[I 2022-06-13 10:31:00,380]\u001b[0m Trial 39 finished with value: 0.8221626811258431 and parameters: {'max_iter': 2000, 'loss': 'log', 'penalty': 'elasticnet', 'alpha': 4.5107383662019316e-05, 'random_state': 23}. Best is trial 15 with value: 0.8241696050176378.\u001b[0m\n",
      "\u001b[32m[I 2022-06-13 10:31:40,725]\u001b[0m Trial 40 pruned. \u001b[0m\n",
      "\u001b[32m[I 2022-06-13 10:35:20,107]\u001b[0m Trial 41 finished with value: 0.8227220586649 and parameters: {'max_iter': 2500, 'loss': 'log', 'penalty': 'elasticnet', 'alpha': 5.496377860299643e-05, 'random_state': 23}. Best is trial 15 with value: 0.8241696050176378.\u001b[0m\n",
      "\u001b[32m[I 2022-06-13 10:38:58,616]\u001b[0m Trial 42 finished with value: 0.8234369556939033 and parameters: {'max_iter': 2500, 'loss': 'log', 'penalty': 'elasticnet', 'alpha': 6.563205198693278e-05, 'random_state': 23}. Best is trial 15 with value: 0.8241696050176378.\u001b[0m\n",
      "\u001b[32m[I 2022-06-13 10:39:39,065]\u001b[0m Trial 43 pruned. \u001b[0m\n",
      "\u001b[32m[I 2022-06-13 10:41:45,715]\u001b[0m Trial 44 pruned. \u001b[0m\n",
      "\u001b[32m[I 2022-06-13 10:42:26,561]\u001b[0m Trial 45 pruned. \u001b[0m\n",
      "\u001b[32m[I 2022-06-13 10:43:07,183]\u001b[0m Trial 46 pruned. \u001b[0m\n",
      "\u001b[32m[I 2022-06-13 10:43:47,301]\u001b[0m Trial 47 pruned. \u001b[0m\n",
      "\u001b[32m[I 2022-06-13 10:44:27,719]\u001b[0m Trial 48 pruned. \u001b[0m\n",
      "\u001b[32m[I 2022-06-13 10:45:08,853]\u001b[0m Trial 49 pruned. \u001b[0m\n"
     ]
    }
   ],
   "source": [
    "study.optimize(tuning_objective, n_trials=20, timeout=(60*60*24))\n"
   ]
  },
  {
   "cell_type": "code",
   "execution_count": 39,
   "metadata": {},
   "outputs": [
    {
     "data": {
      "text/plain": [
       "['t1_tuning_10.pkl']"
      ]
     },
     "execution_count": 39,
     "metadata": {},
     "output_type": "execute_result"
    }
   ],
   "source": [
    "joblib.dump(study,f\"t{TASK}_tuning_{ROLLING_WINDOW_SIZE}.pkl\")\n"
   ]
  },
  {
   "cell_type": "code",
   "execution_count": 40,
   "metadata": {},
   "outputs": [
    {
     "data": {
      "text/plain": [
       "{'max_iter': 2500,\n",
       " 'loss': 'log',\n",
       " 'penalty': 'l2',\n",
       " 'alpha': 6.298583165702807e-05,\n",
       " 'random_state': 23}"
      ]
     },
     "execution_count": 40,
     "metadata": {},
     "output_type": "execute_result"
    }
   ],
   "source": [
    "sgdLR_params = study.best_trial.params\n",
    "sgdLR_params"
   ]
  },
  {
   "cell_type": "code",
   "execution_count": 41,
   "metadata": {},
   "outputs": [],
   "source": [
    "final_vectorizer = TfidfVectorizer(**tfidf_params)\n",
    "final_vectorizer.fit(train_df['Text'])\n",
    "final_model = SGDClassifier(**sgdLR_params)\n",
    "final_model.fit(final_vectorizer.transform(train_df['Text']), train_df['Label'])\n",
    "save_model(final_vectorizer, \"optimized_tfidf.pkl\")\n",
    "save_model(final_model, \"optimized_sgdLR.pkl\")\n"
   ]
  }
 ],
 "metadata": {
  "interpreter": {
   "hash": "98b9776bb1c906ffea5885633daef92fdfff9bdc53a036d784e355cfb10fec4f"
  },
  "kernelspec": {
   "display_name": "Python 3.9.0 64-bit",
   "language": "python",
   "name": "python3"
  },
  "language_info": {
   "codemirror_mode": {
    "name": "ipython",
    "version": 3
   },
   "file_extension": ".py",
   "mimetype": "text/x-python",
   "name": "python",
   "nbconvert_exporter": "python",
   "pygments_lexer": "ipython3",
   "version": "3.9.0"
  },
  "orig_nbformat": 4
 },
 "nbformat": 4,
 "nbformat_minor": 2
}
